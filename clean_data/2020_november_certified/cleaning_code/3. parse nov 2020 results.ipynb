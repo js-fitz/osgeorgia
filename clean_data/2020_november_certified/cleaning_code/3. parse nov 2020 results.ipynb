{
 "cells": [
  {
   "cell_type": "markdown",
   "metadata": {},
   "source": [
    "# parse each .txt results file"
   ]
  },
  {
   "cell_type": "markdown",
   "metadata": {},
   "source": [
    "from `raw` to `clean_by_county`"
   ]
  },
  {
   "cell_type": "markdown",
   "metadata": {},
   "source": [
    "#### imports & utility funcs"
   ]
  },
  {
   "cell_type": "code",
   "execution_count": null,
   "metadata": {},
   "outputs": [],
   "source": [
    "import re\n",
    "import os\n",
    "import pandas as pd\n",
    "from tqdm.notebook import tqdm\n",
    "\n",
    "def ld_nh(path):\n",
    "    for f in os.listdir(path):\n",
    "        if not f.startswith('.'):\n",
    "            yield f\n",
    "def listdir_nohidden(path):\n",
    "    return list(ld_nh(path))\n",
    "\n",
    "data_dir = 'raw'\n",
    "files = listdir_nohidden(data_dir)"
   ]
  },
  {
   "cell_type": "markdown",
   "metadata": {},
   "source": [
    "### data source: https://results.enr.clarityelections.com/GA/105369/web.264614/\n",
    "\n",
    "work with the singular incoming .txt file by manually delimited lines (`'\\n'`) and cells (`' '*2`)"
   ]
  },
  {
   "cell_type": "code",
   "execution_count": null,
   "metadata": {},
   "outputs": [],
   "source": [
    "def read_data(file):\n",
    "    \n",
    "    with open(os.path.join(data_dir, file)) as f:\n",
    "        f = f.read()\n",
    "    \n",
    "    delim = lambda x: re.split('(?:\\s){2,}', x) # delimit cells by 3 or more spaces\n",
    "    rows = [delim(r) for r in f.split('\\n')] # delimit rows with line breaks\n",
    "    \n",
    "    # function to get the category of each race\n",
    "    # ( for organizing the repository )\n",
    "    def parse_cat(race):\n",
    "        if 'Service' in race:\n",
    "            return ' '.join(race.split()[:3])\n",
    "        else: return ' '.join(race.split()[:2]).replace('President of', 'US President')\n",
    "\n",
    "\n",
    "    # find the consecutive batch of rows associated with each race\n",
    "    data = [] # to compile info on all races\n",
    "\n",
    "    for i, row in enumerate(rows[1:-2]):\n",
    "        \n",
    "        row_data = {}\n",
    "        if row==['']: # indicates the beginning of data on a row\n",
    "\n",
    "            if i>6: # identify the last row of & save the previous race\n",
    "                last_row_data['data_ends'] = i-1\n",
    "                last_row_data['data'] = rows[ last_row_data['data_starts'] : i ] \n",
    "                data.append(last_row_data)         \n",
    "\n",
    "            if i < (len(rows)-10): # identify the first row of & other details on this race \n",
    "                row_data['race'] = ''.join(rows[i+2])\n",
    "                row_data['race_cat'] = parse_cat(row_data['race'])\n",
    "                row_data['candidates'] = rows[i+3]\n",
    "                row_data['data_starts'] = i+4 \n",
    "                last_row_data = row_data.copy()\n",
    "    return data[1:]\n",
    "    print(len(data), 'total races found.')"
   ]
  },
  {
   "cell_type": "markdown",
   "metadata": {},
   "source": [
    "#### define desired column suffixes:"
   ]
  },
  {
   "cell_type": "code",
   "execution_count": null,
   "metadata": {},
   "outputs": [],
   "source": [
    "stats_should_be = ['Election Day Votes', 'Advanced Voting Votes', 'Absentee by Mail Votes',\n",
    "                   'Provisional Votes', 'TOTAL VOTES']"
   ]
  },
  {
   "cell_type": "markdown",
   "metadata": {},
   "source": [
    "append the candidate names to the corresponding cols describing vote type counts"
   ]
  },
  {
   "cell_type": "code",
   "execution_count": null,
   "metadata": {},
   "outputs": [],
   "source": [
    "def rename_cols(cols, candidates):\n",
    "    # find sum total col\n",
    "    for i, col in enumerate(cols):\n",
    "        if col=='Total': final_total_col = i\n",
    "            \n",
    "    for i, col in enumerate(cols):\n",
    "        if 'Total' in col and i!=final_total_col: cols[i] = 'Choice Total'\n",
    "\n",
    "    new_cols = []\n",
    "    \n",
    "    for i, col in enumerate(cols):\n",
    "        if i == final_total_col:\n",
    "            new_cols.append(col)\n",
    "        elif 'County' in col or 'Precinct' in col or 'Voters' in col or len(col)<3:\n",
    "            new_cols.append(col)\n",
    "        else:\n",
    "            new_cols.append(candidates[0]+'_'+col)\n",
    "            if 'Total' in col:\n",
    "                candidates = candidates[1:]\n",
    "\n",
    "    return new_cols           "
   ]
  },
  {
   "cell_type": "code",
   "execution_count": null,
   "metadata": {},
   "outputs": [],
   "source": []
  },
  {
   "cell_type": "markdown",
   "metadata": {},
   "source": [
    "#### load data for one race, parse with above functions."
   ]
  },
  {
   "cell_type": "code",
   "execution_count": null,
   "metadata": {},
   "outputs": [],
   "source": [
    "def parse_data(data, race_idx, county_name, target_dir='clean_by_county'):\n",
    "    race_data = pd.DataFrame(data[race_idx]['data'])\n",
    "    race_data.columns = race_data.loc[0]\n",
    "    race_data.drop(0, inplace=True)\n",
    "    \n",
    "    \n",
    "    # most counties used \"county\" instead of \"precinct\" (all are actually precincts)\n",
    "    if 'County' in race_data.columns:\n",
    "        race_data.rename(columns={'County': 'Precinct'}, inplace=True) \n",
    "    race_data = race_data.set_index('Precinct')\n",
    "    race_data['County'] = county_name.replace('_', ' ')\n",
    "\n",
    "    \n",
    "    # add candidate names to specific columns\n",
    "    candidates = [c for c in data[race_idx]['candidates'] if len(c)>1]\n",
    "    cols = list(race_data.columns)\n",
    "    \n",
    "    if False: # len(candidates)>5:\n",
    "        print(county_name.upper())\n",
    "        print(candidates)\n",
    "        print(cols)\n",
    "        print('\\n\\n\\n')\n",
    "    \n",
    "    # run column renaming function, adding candidates to features\n",
    "        \n",
    "    new_cols = rename_cols(cols, candidates.copy())\n",
    "    race_data.columns = new_cols.copy()\n",
    "        \n",
    "    # create directories & file details\n",
    "    race_name = data[race_idx]['race'].split('/')[0]\n",
    "    \n",
    "    if target_dir not in os.listdir():\n",
    "        os.makedirs(f'{target_dir}/')\n",
    "    if county_name not in os.listdir(target_dir):\n",
    "        os.makedirs(f'{target_dir}/{county_name}/')\n",
    "\n",
    "    # save csv\n",
    "    race_data = race_data[[c for c in race_data.columns if 'Unnamed' not in c]]\n",
    "    race_data.reset_index(inplace=True)\n",
    "    race_data = race_data[['County'] + [c for c in race_data.columns if c!='County']]\n",
    "    race_data.reset_index(inplace=True)\n",
    "    race_data.to_csv(f'{target_dir}/{county_name}/{race_name}.csv', index=False)"
   ]
  },
  {
   "cell_type": "code",
   "execution_count": null,
   "metadata": {},
   "outputs": [],
   "source": []
  },
  {
   "cell_type": "markdown",
   "metadata": {},
   "source": [
    "---\n",
    "\n",
    "---\n",
    "\n",
    "---\n",
    "\n",
    "\n",
    "## parse & save data"
   ]
  },
  {
   "cell_type": "code",
   "execution_count": null,
   "metadata": {},
   "outputs": [],
   "source": [
    "for file in tqdm(sorted(files)): # iterate counties\n",
    "    data = read_data(file)\n",
    "\n",
    "    for race_idx in range(len(data)): # iterate races within county\n",
    "        parse_data(data.copy(), race_idx, file.split('.')[0])"
   ]
  },
  {
   "cell_type": "code",
   "execution_count": null,
   "metadata": {},
   "outputs": [],
   "source": []
  }
 ],
 "metadata": {
  "kernelspec": {
   "display_name": "Python 3",
   "language": "python",
   "name": "python3"
  },
  "language_info": {
   "codemirror_mode": {
    "name": "ipython",
    "version": 3
   },
   "file_extension": ".py",
   "mimetype": "text/x-python",
   "name": "python",
   "nbconvert_exporter": "python",
   "pygments_lexer": "ipython3",
   "version": "3.8.5"
  }
 },
 "nbformat": 4,
 "nbformat_minor": 4
}
