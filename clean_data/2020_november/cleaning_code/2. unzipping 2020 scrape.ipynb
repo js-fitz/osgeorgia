{
 "cells": [
  {
   "cell_type": "markdown",
   "metadata": {},
   "source": [
    "### unzipping the downloaded files "
   ]
  },
  {
   "cell_type": "code",
   "execution_count": 19,
   "metadata": {},
   "outputs": [],
   "source": [
    "import os\n",
    "import time\n",
    "import zipfile\n",
    "import pandas as pd\n",
    "from tqdm.notebook import tqdm\n",
    "\n",
    "def ld_nh(path):\n",
    "    for f in os.listdir(path):\n",
    "        if not f.startswith('.'):\n",
    "            yield f\n",
    "def listdir_nohidden(path):\n",
    "    return list(ld_nh(path))"
   ]
  },
  {
   "cell_type": "code",
   "execution_count": 20,
   "metadata": {},
   "outputs": [],
   "source": [
    "data_dir = 'zips/'\n",
    "target_dir = 'raw/'\n",
    "files = listdir_nohidden(data_dir)"
   ]
  },
  {
   "cell_type": "code",
   "execution_count": 21,
   "metadata": {},
   "outputs": [
    {
     "data": {
      "application/vnd.jupyter.widget-view+json": {
       "model_id": "d2e23ed20cad4a8a813f07cf11a3d091",
       "version_major": 2,
       "version_minor": 0
      },
      "text/plain": [
       "HBox(children=(HTML(value=''), FloatProgress(value=0.0, max=159.0), HTML(value='')))"
      ]
     },
     "metadata": {},
     "output_type": "display_data"
    },
    {
     "name": "stdout",
     "output_type": "stream",
     "text": [
      "\n"
     ]
    }
   ],
   "source": [
    "for file in tqdm(files):\n",
    "    fpath = data_dir+file # original filename\n",
    "    zip_ref = zipfile.ZipFile(fpath, 'r')\n",
    "    zip_ref.extractall(target_dir)\n",
    "    zip_ref.close()\n",
    "    time.sleep(.1)\n",
    "    filename = max([f for f in listdir_nohidden(target_dir)],\n",
    "                    key=lambda x : os.path.getctime(os.path.join(target_dir,x)))\n",
    "    time.sleep(.1)\n",
    "    os.rename(os.path.join(target_dir, filename),\n",
    "                  os.path.join(target_dir, file.replace('.zip', '.txt')))\n"
   ]
  },
  {
   "cell_type": "markdown",
   "metadata": {},
   "source": [
    "# verify"
   ]
  },
  {
   "cell_type": "markdown",
   "metadata": {},
   "source": [
    "from an external list of GA counties"
   ]
  },
  {
   "cell_type": "code",
   "execution_count": 22,
   "metadata": {},
   "outputs": [],
   "source": [
    "counties = \"\"\"\n",
    "Fulton County GA (newest homes)\n",
    "Gwinnett County GA (newest homes)\n",
    "Cobb County GA (newest homes)\n",
    "Dekalb County GA (newest homes)\n",
    "Chatham County GA (newest homes)\n",
    "Clayton County GA (newest homes)\n",
    "Cherokee County GA (newest homes)\n",
    "Henry County GA (newest homes)\n",
    "Forsyth County GA (newest homes)\n",
    "Richmond County GA (newest homes)\n",
    "Muscogee County GA (newest homes)\n",
    "Hall County GA (newest homes)\n",
    "Bibb County GA (newest homes)\n",
    "Paulding County GA (newest homes)\n",
    "Houston County GA (newest homes)\n",
    "Columbia County GA (newest homes)\n",
    "Douglas County GA (newest homes)\n",
    "Coweta County GA (newest homes)\n",
    "Clarke County GA (newest homes)\n",
    "Lowndes County GA (newest homes)\n",
    "Carroll County GA (newest homes)\n",
    "Fayette County GA (newest homes)\n",
    "Newton County GA (newest homes)\n",
    "Whitfield County GA (newest homes)\n",
    "Bartow County GA (newest homes)\n",
    "Floyd County GA (newest homes)\n",
    "Dougherty County GA (newest homes)\n",
    "Rockdale County GA (newest homes)\n",
    "Walton County GA (newest homes)\n",
    "Glynn County GA (newest homes)\n",
    "Barrow County GA (newest homes)\n",
    "Bulloch County GA (newest homes)\n",
    "Troup County GA (newest homes)\n",
    "Walker County GA (newest homes)\n",
    "Catoosa County GA (newest homes)\n",
    "Spalding County GA (newest homes)\n",
    "Liberty County GA (newest homes)\n",
    "Jackson County GA (newest homes)\n",
    "Gordon County GA (newest homes)\n",
    "Effingham County GA (newest homes)\n",
    "Camden County GA (newest homes)\n",
    "Laurens County GA (newest homes)\n",
    "Colquitt County GA (newest homes)\n",
    "Baldwin County GA (newest homes)\n",
    "Thomas County GA (newest homes)\n",
    "Habersham County GA (newest homes)\n",
    "Coffee County GA (newest homes)\n",
    "Polk County GA (newest homes)\n",
    "Tift County GA (newest homes)\n",
    "Murray County GA (newest homes)\n",
    "Ware County GA (newest homes)\n",
    "Oconee County GA (newest homes)\n",
    "Bryan County GA (newest homes)\n",
    "Harris County GA (newest homes)\n",
    "Lumpkin County GA (newest homes)\n",
    "Sumter County GA (newest homes)\n",
    "Wayne County GA (newest homes)\n",
    "Pickens County GA (newest homes)\n",
    "Lee County GA (newest homes)\n",
    "Gilmer County GA (newest homes)\n",
    "Jones County GA (newest homes)\n",
    "Haralson County GA (newest homes)\n",
    "Madison County GA (newest homes)\n",
    "White County GA (newest homes)\n",
    "Monroe County GA (newest homes)\n",
    "Decatur County GA (newest homes)\n",
    "Toombs County GA (newest homes)\n",
    "Peach County GA (newest homes)\n",
    "Upson County GA (newest homes)\n",
    "Stephens County GA (newest homes)\n",
    "Hart County GA (newest homes)\n",
    "Tattnall County GA (newest homes)\n",
    "Grady County GA (newest homes)\n",
    "Chattooga County GA (newest homes)\n",
    "Fannin County GA (newest homes)\n",
    "Butts County GA (newest homes)\n",
    "Crisp County GA (newest homes)\n",
    "Dawson County GA (newest homes)\n",
    "Burke County GA (newest homes)\n",
    "Mitchell County GA (newest homes)\n",
    "Emanuel County GA (newest homes)\n",
    "Franklin County GA (newest homes)\n",
    "Union County GA (newest homes)\n",
    "McDuffie County GA (newest homes)\n",
    "Putnam County GA (newest homes)\n",
    "Meriwether County GA (newest homes)\n",
    "Dodge County GA (newest homes)\n",
    "Worth County GA (newest homes)\n",
    "Washington County GA (newest homes)\n",
    "Elbert County GA (newest homes)\n",
    "Pierce County GA (newest homes)\n",
    "Berrien County GA (newest homes)\n",
    "Appling County GA (newest homes)\n",
    "Brantley County GA (newest homes)\n",
    "Banks County GA (newest homes)\n",
    "Lamar County GA (newest homes)\n",
    "Morgan County GA (newest homes)\n",
    "Pike County GA (newest homes)\n",
    "Ben Hill County GA (newest homes)\n",
    "Long County GA (newest homes)\n",
    "Cook County GA (newest homes)\n",
    "Greene County GA (newest homes)\n",
    "Telfair County GA (newest homes)\n",
    "Dade County GA (newest homes)\n",
    "Rabun County GA (newest homes)\n",
    "Jefferson County GA (newest homes)\n",
    "Brooks County GA (newest homes)\n",
    "Jeff Davis County GA (newest homes)\n",
    "Oglethorpe County GA (newest homes)\n",
    "Screven County GA (newest homes)\n",
    "Dooly County GA (newest homes)\n",
    "McIntosh County GA (newest homes)\n",
    "Macon County GA (newest homes)\n",
    "Jasper County GA (newest homes)\n",
    "Charlton County GA (newest homes)\n",
    "Bleckley County GA (newest homes)\n",
    "Crawford County GA (newest homes)\n",
    "Chattahoochee County GA (newest homes)\n",
    "Heard County GA (newest homes)\n",
    "Pulaski County GA (newest homes)\n",
    "Bacon County GA (newest homes)\n",
    "Towns County GA (newest homes)\n",
    "Candler County GA (newest homes)\n",
    "Evans County GA (newest homes)\n",
    "Early County GA (newest homes)\n",
    "Lanier County GA (newest homes)\n",
    "Wilkes County GA (newest homes)\n",
    "Johnson County GA (newest homes)\n",
    "Irwin County GA (newest homes)\n",
    "Wilkinson County GA (newest homes)\n",
    "Terrell County GA (newest homes)\n",
    "Jenkins County GA (newest homes)\n",
    "Montgomery County GA (newest homes)\n",
    "Wilcox County GA (newest homes)\n",
    "Hancock County GA (newest homes)\n",
    "Seminole County GA (newest homes)\n",
    "Marion County GA (newest homes)\n",
    "Twiggs County GA (newest homes)\n",
    "Taylor County GA (newest homes)\n",
    "Atkinson County GA (newest homes)\n",
    "Turner County GA (newest homes)\n",
    "Wheeler County GA (newest homes)\n",
    "Lincoln County GA (newest homes)\n",
    "Randolph County GA (newest homes)\n",
    "Clinch County GA (newest homes)\n",
    "Treutlen County GA (newest homes)\n",
    "Calhoun County GA (newest homes)\n",
    "Talbot County GA (newest homes)\n",
    "Miller County GA (newest homes)\n",
    "Stewart County GA (newest homes)\n",
    "Warren County GA (newest homes)\n",
    "Schley County GA (newest homes)\n",
    "Echols County GA (newest homes)\n",
    "Baker County GA (newest homes)\n",
    "Clay County GA (newest homes)\n",
    "Glascock County GA (newest homes)\n",
    "Webster County GA (newest homes)\n",
    "Quitman County GA (newest homes)\n",
    "Taliaferro County GA (newest homes)\n",
    "\"\"\""
   ]
  },
  {
   "cell_type": "code",
   "execution_count": 23,
   "metadata": {},
   "outputs": [],
   "source": [
    "counties = [c.replace('\\n', '').replace('County', '').strip()\n",
    "            for c in counties.split(' GA (newest homes)') if len(c)>3]\n",
    "\n",
    "dloads = listdir_nohidden('zips')\n",
    "dloads = [d.split('.')[0].replace('_', ' ') for d in dloads]"
   ]
  },
  {
   "cell_type": "code",
   "execution_count": null,
   "metadata": {},
   "outputs": [],
   "source": []
  },
  {
   "cell_type": "code",
   "execution_count": 24,
   "metadata": {},
   "outputs": [
    {
     "data": {
      "text/plain": [
       "159"
      ]
     },
     "execution_count": 24,
     "metadata": {},
     "output_type": "execute_result"
    }
   ],
   "source": [
    "len(counties)"
   ]
  },
  {
   "cell_type": "code",
   "execution_count": 25,
   "metadata": {},
   "outputs": [
    {
     "data": {
      "text/plain": [
       "159"
      ]
     },
     "execution_count": 25,
     "metadata": {},
     "output_type": "execute_result"
    }
   ],
   "source": [
    "len(dloads)"
   ]
  },
  {
   "cell_type": "code",
   "execution_count": null,
   "metadata": {},
   "outputs": [],
   "source": []
  }
 ],
 "metadata": {
  "kernelspec": {
   "display_name": "Python 3",
   "language": "python",
   "name": "python3"
  },
  "language_info": {
   "codemirror_mode": {
    "name": "ipython",
    "version": 3
   },
   "file_extension": ".py",
   "mimetype": "text/x-python",
   "name": "python",
   "nbconvert_exporter": "python",
   "pygments_lexer": "ipython3",
   "version": "3.8.5"
  }
 },
 "nbformat": 4,
 "nbformat_minor": 4
}
