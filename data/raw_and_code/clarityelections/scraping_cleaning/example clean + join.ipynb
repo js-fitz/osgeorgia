{
 "cells": [
  {
   "cell_type": "code",
   "execution_count": 4,
   "metadata": {},
   "outputs": [
    {
     "name": "stdout",
     "output_type": "stream",
     "text": [
      "\n",
      "ELECTION DETAILS:\n",
      "   > General Election - November 3, 2020\n",
      "   > source: November 3, 2020\n",
      "   > 159 counties reporting (159 total)\n",
      "   > 159 URLs collected\n",
      "Target parent folder: '2020_november'\n",
      "|— today: 'nov_29'\n"
     ]
    }
   ],
   "source": [
    "from functions import *\n",
    "\n",
    "# check race details to define directories\n",
    "pre_scraper('GA', '105369')\n",
    "define_directories()"
   ]
  },
  {
   "cell_type": "code",
   "execution_count": 5,
   "metadata": {
    "scrolled": false
   },
   "outputs": [
    {
     "name": "stdout",
     "output_type": "stream",
     "text": [
      "549 total races identified\n",
      "549 selected\n",
      "————————————————————————————————————————————————————————————\n",
      "Loading State House Dist 82.csv data...\n",
      " > Found data for 1 counties (1%)\n",
      "Verifying vote totals...\n"
     ]
    },
    {
     "data": {
      "application/vnd.jupyter.widget-view+json": {
       "model_id": "c2617de84e014ec7977217dff83078c5",
       "version_major": 2,
       "version_minor": 0
      },
      "text/plain": [
       "HBox(children=(HTML(value=''), FloatProgress(value=0.0, max=1.0), HTML(value='')))"
      ]
     },
     "metadata": {},
     "output_type": "display_data"
    },
    {
     "name": "stdout",
     "output_type": "stream",
     "text": [
      "\n",
      "> Vote totals verified — no errors\n",
      "————————————————————————————————————————————————————————————\n",
      "Loading Blythe City Councilmember - Special.csv data...\n",
      " > Found data for 1 counties (1%)\n",
      "Verifying vote totals...\n"
     ]
    },
    {
     "data": {
      "application/vnd.jupyter.widget-view+json": {
       "model_id": "7adf13a1f58c4fe89a4625d4e6b993af",
       "version_major": 2,
       "version_minor": 0
      },
      "text/plain": [
       "HBox(children=(HTML(value=''), FloatProgress(value=0.0, max=3.0), HTML(value='')))"
      ]
     },
     "metadata": {},
     "output_type": "display_data"
    },
    {
     "name": "stdout",
     "output_type": "stream",
     "text": [
      "\n",
      "> Vote totals verified — no errors\n",
      "————————————————————————————————————————————————————————————\n",
      "Loading State House Dist 163.csv data...\n",
      " > Found data for 1 counties (1%)\n",
      "Verifying vote totals...\n"
     ]
    },
    {
     "data": {
      "application/vnd.jupyter.widget-view+json": {
       "model_id": "54fd619aae5e4d7681446e84316e7cf7",
       "version_major": 2,
       "version_minor": 0
      },
      "text/plain": [
       "HBox(children=(HTML(value=''), FloatProgress(value=0.0, max=1.0), HTML(value='')))"
      ]
     },
     "metadata": {},
     "output_type": "display_data"
    },
    {
     "name": "stdout",
     "output_type": "stream",
     "text": [
      "\n",
      "> Vote totals verified — no errors\n",
      "————————————————————————————————————————————————————————————\n",
      "Loading Soil and Water - Flint River.csv data...\n",
      " > Found data for 2 counties (1%)\n",
      "Verifying vote totals...\n"
     ]
    },
    {
     "data": {
      "application/vnd.jupyter.widget-view+json": {
       "model_id": "ea65d177ae784aa19c62836b66c37ecb",
       "version_major": 2,
       "version_minor": 0
      },
      "text/plain": [
       "HBox(children=(HTML(value=''), FloatProgress(value=0.0, max=2.0), HTML(value='')))"
      ]
     },
     "metadata": {},
     "output_type": "display_data"
    },
    {
     "name": "stdout",
     "output_type": "stream",
     "text": [
      "\n",
      "> Vote totals verified — no errors\n",
      "————————————————————————————————————————————————————————————\n",
      "Loading Dist Attorney - Tifton.csv data...\n",
      " > Found data for 4 counties (3%)\n",
      "Verifying vote totals...\n"
     ]
    },
    {
     "data": {
      "application/vnd.jupyter.widget-view+json": {
       "model_id": "5eb486402b834e86a02d2cdc0aa5ec65",
       "version_major": 2,
       "version_minor": 0
      },
      "text/plain": [
       "HBox(children=(HTML(value=''), FloatProgress(value=0.0, max=1.0), HTML(value='')))"
      ]
     },
     "metadata": {},
     "output_type": "display_data"
    },
    {
     "name": "stdout",
     "output_type": "stream",
     "text": [
      "\n",
      "> Vote totals verified — no errors\n",
      "————————————————————————————————————————————————————————————\n",
      "Loading Public Service Commission Dist 1.csv data...\n",
      " > Found data for 159 counties (100%)\n",
      "Verifying vote totals...\n"
     ]
    },
    {
     "data": {
      "application/vnd.jupyter.widget-view+json": {
       "model_id": "09c6dd8abd5b4ccfa36e6150f7e396ad",
       "version_major": 2,
       "version_minor": 0
      },
      "text/plain": [
       "HBox(children=(HTML(value=''), FloatProgress(value=0.0, max=3.0), HTML(value='')))"
      ]
     },
     "metadata": {},
     "output_type": "display_data"
    },
    {
     "name": "stdout",
     "output_type": "stream",
     "text": [
      "\n",
      "> Vote totals verified — no errors\n",
      "————————————————————————————————————————————————————————————\n",
      "Loading State House Dist 29.csv data...\n",
      " > Found data for 1 counties (1%)\n",
      "Verifying vote totals...\n"
     ]
    },
    {
     "data": {
      "application/vnd.jupyter.widget-view+json": {
       "model_id": "d18873d295ec4d22927aa13859176880",
       "version_major": 2,
       "version_minor": 0
      },
      "text/plain": [
       "HBox(children=(HTML(value=''), FloatProgress(value=0.0, max=2.0), HTML(value='')))"
      ]
     },
     "metadata": {},
     "output_type": "display_data"
    },
    {
     "name": "stdout",
     "output_type": "stream",
     "text": [
      "\n",
      "> Vote totals verified — no errors\n",
      "————————————————————————————————————————————————————————————\n",
      "Loading Presiding Judge Civil-Magistrate Crt.csv data...\n",
      " > Found data for 1 counties (1%)\n",
      "Verifying vote totals...\n"
     ]
    },
    {
     "data": {
      "application/vnd.jupyter.widget-view+json": {
       "model_id": "9b3f102dd9894ae093f80ab2f2b4ac2d",
       "version_major": 2,
       "version_minor": 0
      },
      "text/plain": [
       "HBox(children=(HTML(value=''), FloatProgress(value=0.0, max=1.0), HTML(value='')))"
      ]
     },
     "metadata": {},
     "output_type": "display_data"
    },
    {
     "name": "stdout",
     "output_type": "stream",
     "text": [
      "\n",
      "> Vote totals verified — no errors\n",
      "————————————————————————————————————————————————————————————\n",
      "Loading Board of Education Post 6.csv data...\n",
      " > Found data for 1 counties (1%)\n",
      "Verifying vote totals...\n"
     ]
    },
    {
     "data": {
      "application/vnd.jupyter.widget-view+json": {
       "model_id": "da28d1e904d142508b0cc8f50365257e",
       "version_major": 2,
       "version_minor": 0
      },
      "text/plain": [
       "HBox(children=(HTML(value=''), FloatProgress(value=0.0, max=1.0), HTML(value='')))"
      ]
     },
     "metadata": {},
     "output_type": "display_data"
    },
    {
     "name": "stdout",
     "output_type": "stream",
     "text": [
      "\n",
      "> Vote totals verified — no errors\n",
      "————————————————————————————————————————————————————————————\n",
      "Loading State House Dist 136.csv data...\n",
      " > Found data for 1 counties (1%)\n",
      "Verifying vote totals...\n"
     ]
    },
    {
     "data": {
      "application/vnd.jupyter.widget-view+json": {
       "model_id": "e34086f3380b405e8f26a3523cf29e98",
       "version_major": 2,
       "version_minor": 0
      },
      "text/plain": [
       "HBox(children=(HTML(value=''), FloatProgress(value=0.0, max=1.0), HTML(value='')))"
      ]
     },
     "metadata": {},
     "output_type": "display_data"
    },
    {
     "name": "stdout",
     "output_type": "stream",
     "text": [
      "\n",
      "> Vote totals verified — no errors\n",
      "————————————————————————————————————————————————————————————\n",
      "Loading Soil and Water - Ohoopee River.csv data...\n",
      " > Found data for 2 counties (1%)\n",
      "Verifying vote totals...\n"
     ]
    },
    {
     "data": {
      "application/vnd.jupyter.widget-view+json": {
       "model_id": "864db9167447449bb27962ac42b2f1a1",
       "version_major": 2,
       "version_minor": 0
      },
      "text/plain": [
       "HBox(children=(HTML(value=''), FloatProgress(value=0.0, max=2.0), HTML(value='')))"
      ]
     },
     "metadata": {},
     "output_type": "display_data"
    },
    {
     "name": "stdout",
     "output_type": "stream",
     "text": [
      "\n",
      "> Vote totals verified — no errors\n",
      "————————————————————————————————————————————————————————————\n",
      "Loading State House Dist 170.csv data...\n",
      " > Found data for 3 counties (2%)\n",
      "Verifying vote totals...\n"
     ]
    },
    {
     "data": {
      "application/vnd.jupyter.widget-view+json": {
       "model_id": "e6e3f15e912d4595981ea66b7263e9fc",
       "version_major": 2,
       "version_minor": 0
      },
      "text/plain": [
       "HBox(children=(HTML(value=''), FloatProgress(value=0.0, max=2.0), HTML(value='')))"
      ]
     },
     "metadata": {},
     "output_type": "display_data"
    },
    {
     "name": "stdout",
     "output_type": "stream",
     "text": [
      "\n",
      "> Vote totals verified — no errors\n",
      "————————————————————————————————————————————————————————————\n",
      "Loading County Commission Dist 1 Post 2.csv data...\n",
      " > Found data for 1 counties (1%)\n",
      "Verifying vote totals...\n"
     ]
    },
    {
     "data": {
      "application/vnd.jupyter.widget-view+json": {
       "model_id": "648b9662823447b682de4c7b3ce1b4d9",
       "version_major": 2,
       "version_minor": 0
      },
      "text/plain": [
       "HBox(children=(HTML(value=''), FloatProgress(value=0.0, max=1.0), HTML(value='')))"
      ]
     },
     "metadata": {},
     "output_type": "display_data"
    },
    {
     "name": "stdout",
     "output_type": "stream",
     "text": [
      "\n",
      "> Vote totals verified — no errors\n",
      "————————————————————————————————————————————————————————————\n",
      "Loading State Senate Dist 25.csv data...\n",
      " > Found data for 9 counties (6%)\n",
      "Verifying vote totals...\n"
     ]
    },
    {
     "data": {
      "application/vnd.jupyter.widget-view+json": {
       "model_id": "fb223e79fb96497281de667ad4b5c593",
       "version_major": 2,
       "version_minor": 0
      },
      "text/plain": [
       "HBox(children=(HTML(value=''), FloatProgress(value=0.0, max=2.0), HTML(value='')))"
      ]
     },
     "metadata": {},
     "output_type": "display_data"
    },
    {
     "name": "stdout",
     "output_type": "stream",
     "text": [
      "\n",
      "> Vote totals verified — no errors\n",
      "————————————————————————————————————————————————————————————\n",
      "Loading County Commission Dist 8.csv data...\n",
      " > Found data for 2 counties (1%)\n",
      "Verifying vote totals...\n"
     ]
    },
    {
     "data": {
      "application/vnd.jupyter.widget-view+json": {
       "model_id": "fb06b8553305403b994d1712cecb34c1",
       "version_major": 2,
       "version_minor": 0
      },
      "text/plain": [
       "HBox(children=(HTML(value=''), FloatProgress(value=0.0, max=2.0), HTML(value='')))"
      ]
     },
     "metadata": {},
     "output_type": "display_data"
    },
    {
     "name": "stdout",
     "output_type": "stream",
     "text": [
      "\n",
      "> Vote totals verified — no errors\n",
      "————————————————————————————————————————————————————————————\n",
      "Loading Franklin County Homestead Exemption - Special.csv data...\n",
      " > Found data for 1 counties (1%)\n",
      "Verifying vote totals...\n"
     ]
    },
    {
     "data": {
      "application/vnd.jupyter.widget-view+json": {
       "model_id": "61ada402160a463a8faff0fc2820e8d2",
       "version_major": 2,
       "version_minor": 0
      },
      "text/plain": [
       "HBox(children=(HTML(value=''), FloatProgress(value=0.0, max=2.0), HTML(value='')))"
      ]
     },
     "metadata": {},
     "output_type": "display_data"
    },
    {
     "name": "stdout",
     "output_type": "stream",
     "text": [
      "\n",
      "> Vote totals verified — no errors\n",
      "————————————————————————————————————————————————————————————\n",
      "Loading North Jackson Fire Advisory Board Post 8.csv data...\n",
      " > Found data for 1 counties (1%)\n",
      "Verifying vote totals...\n"
     ]
    },
    {
     "data": {
      "application/vnd.jupyter.widget-view+json": {
       "model_id": "796da4545c92470dbf59c4702278ab2c",
       "version_major": 2,
       "version_minor": 0
      },
      "text/plain": [
       "HBox(children=(HTML(value=''), FloatProgress(value=0.0, max=1.0), HTML(value='')))"
      ]
     },
     "metadata": {},
     "output_type": "display_data"
    },
    {
     "name": "stdout",
     "output_type": "stream",
     "text": [
      "\n",
      "> Vote totals verified — no errors\n",
      "————————————————————————————————————————————————————————————\n",
      "Loading State House Dist 45.csv data...\n",
      " > Found data for 2 counties (1%)\n",
      "Verifying vote totals...\n"
     ]
    },
    {
     "data": {
      "application/vnd.jupyter.widget-view+json": {
       "model_id": "9c64a47f320f4de28d982b6b6706e267",
       "version_major": 2,
       "version_minor": 0
      },
      "text/plain": [
       "HBox(children=(HTML(value=''), FloatProgress(value=0.0, max=2.0), HTML(value='')))"
      ]
     },
     "metadata": {},
     "output_type": "display_data"
    },
    {
     "name": "stdout",
     "output_type": "stream",
     "text": [
      "\n",
      "> Vote totals verified — no errors\n",
      "————————————————————————————————————————————————————————————\n",
      "Loading Pulaski County Sunday Package Sales - Special.csv data...\n",
      " > Found data for 1 counties (1%)\n",
      "Verifying vote totals...\n"
     ]
    },
    {
     "data": {
      "application/vnd.jupyter.widget-view+json": {
       "model_id": "53407885e34d4c08a35c5213ebf404d9",
       "version_major": 2,
       "version_minor": 0
      },
      "text/plain": [
       "HBox(children=(HTML(value=''), FloatProgress(value=0.0, max=2.0), HTML(value='')))"
      ]
     },
     "metadata": {},
     "output_type": "display_data"
    },
    {
     "name": "stdout",
     "output_type": "stream",
     "text": [
      "\n",
      "> Vote totals verified — no errors\n",
      "————————————————————————————————————————————————————————————\n",
      "Loading Camak City Council.csv data...\n",
      " > Found data for 1 counties (1%)\n",
      "Verifying vote totals...\n"
     ]
    },
    {
     "data": {
      "application/vnd.jupyter.widget-view+json": {
       "model_id": "c1cab510f9304496ac6458926da3f1fb",
       "version_major": 2,
       "version_minor": 0
      },
      "text/plain": [
       "HBox(children=(HTML(value=''), FloatProgress(value=0.0, max=5.0), HTML(value='')))"
      ]
     },
     "metadata": {},
     "output_type": "display_data"
    },
    {
     "name": "stdout",
     "output_type": "stream",
     "text": [
      "\n",
      "> Vote totals verified — no errors\n",
      "————————————————————————————————————————————————————————————\n",
      "Loading Good Hope Mayor.csv data...\n",
      " > Found data for 1 counties (1%)\n",
      "Verifying vote totals...\n"
     ]
    },
    {
     "data": {
      "application/vnd.jupyter.widget-view+json": {
       "model_id": "6e346ec7659b4859a7a51ad36c22fa1c",
       "version_major": 2,
       "version_minor": 0
      },
      "text/plain": [
       "HBox(children=(HTML(value=''), FloatProgress(value=0.0, max=1.0), HTML(value='')))"
      ]
     },
     "metadata": {},
     "output_type": "display_data"
    },
    {
     "name": "stdout",
     "output_type": "stream",
     "text": [
      "\n",
      "> Vote totals verified — no errors\n",
      "————————————————————————————————————————————————————————————\n",
      "Loading Co Commission Dist 1.csv data...\n",
      " > Found data for 1 counties (1%)\n",
      "Verifying vote totals...\n"
     ]
    },
    {
     "data": {
      "application/vnd.jupyter.widget-view+json": {
       "model_id": "dbb9079b014841c390b5729420722cd5",
       "version_major": 2,
       "version_minor": 0
      },
      "text/plain": [
       "HBox(children=(HTML(value=''), FloatProgress(value=0.0, max=2.0), HTML(value='')))"
      ]
     },
     "metadata": {},
     "output_type": "display_data"
    },
    {
     "name": "stdout",
     "output_type": "stream",
     "text": [
      "\n",
      "> Vote totals verified — no errors\n",
      "————————————————————————————————————————————————————————————\n",
      "Loading State House Dist 180.csv data...\n",
      " > Found data for 3 counties (2%)\n",
      "Verifying vote totals...\n"
     ]
    },
    {
     "data": {
      "application/vnd.jupyter.widget-view+json": {
       "model_id": "ac45b92b370b48ea8d1bdef29da498fe",
       "version_major": 2,
       "version_minor": 0
      },
      "text/plain": [
       "HBox(children=(HTML(value=''), FloatProgress(value=0.0, max=1.0), HTML(value='')))"
      ]
     },
     "metadata": {},
     "output_type": "display_data"
    },
    {
     "name": "stdout",
     "output_type": "stream",
     "text": [
      "\n",
      "> Vote totals verified — no errors\n",
      "————————————————————————————————————————————————————————————\n",
      "Loading US House Dist 9.csv data...\n",
      " > Found data for 20 counties (13%)\n",
      "Verifying vote totals...\n"
     ]
    },
    {
     "data": {
      "application/vnd.jupyter.widget-view+json": {
       "model_id": "b173142f776443b2a71c2bd89af71cf2",
       "version_major": 2,
       "version_minor": 0
      },
      "text/plain": [
       "HBox(children=(HTML(value=''), FloatProgress(value=0.0, max=2.0), HTML(value='')))"
      ]
     },
     "metadata": {},
     "output_type": "display_data"
    },
    {
     "name": "stdout",
     "output_type": "stream",
     "text": [
      "\n",
      "> Vote totals verified — no errors\n",
      "————————————————————————————————————————————————————————————\n",
      "Loading State House Dist 67.csv data...\n",
      " > Found data for 2 counties (1%)\n",
      "Verifying vote totals...\n"
     ]
    },
    {
     "data": {
      "application/vnd.jupyter.widget-view+json": {
       "model_id": "f994a12c304046528ff28874bb1b6916",
       "version_major": 2,
       "version_minor": 0
      },
      "text/plain": [
       "HBox(children=(HTML(value=''), FloatProgress(value=0.0, max=2.0), HTML(value='')))"
      ]
     },
     "metadata": {},
     "output_type": "display_data"
    },
    {
     "name": "stdout",
     "output_type": "stream",
     "text": [
      "\n",
      "> Vote totals verified — no errors\n",
      "————————————————————————————————————————————————————————————\n",
      "Loading Soil and Water - Altamaha.csv data...\n",
      " > Found data for 4 counties (3%)\n",
      "Verifying vote totals...\n"
     ]
    },
    {
     "data": {
      "application/vnd.jupyter.widget-view+json": {
       "model_id": "58445fa1e4d7450a96ff8f71a88f0474",
       "version_major": 2,
       "version_minor": 0
      },
      "text/plain": [
       "HBox(children=(HTML(value=''), FloatProgress(value=0.0, max=4.0), HTML(value='')))"
      ]
     },
     "metadata": {},
     "output_type": "display_data"
    },
    {
     "name": "stdout",
     "output_type": "stream",
     "text": [
      "\n",
      "> Vote totals verified — no errors\n",
      "————————————————————————————————————————————————————————————\n",
      "Loading Brd of Education Dist 5.csv data...\n",
      " > Found data for 1 counties (1%)\n",
      "Verifying vote totals...\n"
     ]
    },
    {
     "data": {
      "application/vnd.jupyter.widget-view+json": {
       "model_id": "e32a2e34a39b43c28e21f06df8b442a4",
       "version_major": 2,
       "version_minor": 0
      },
      "text/plain": [
       "HBox(children=(HTML(value=''), FloatProgress(value=0.0, max=1.0), HTML(value='')))"
      ]
     },
     "metadata": {},
     "output_type": "display_data"
    },
    {
     "name": "stdout",
     "output_type": "stream",
     "text": [
      "\n",
      "> Vote totals verified — no errors\n",
      "————————————————————————————————————————————————————————————\n",
      "Loading Chief Magistrate - Special Republican Primary.csv data...\n",
      " > Found data for 1 counties (1%)\n",
      "Verifying vote totals...\n"
     ]
    },
    {
     "data": {
      "application/vnd.jupyter.widget-view+json": {
       "model_id": "c9ad3e80c10049d6a42d658072f5e67b",
       "version_major": 2,
       "version_minor": 0
      },
      "text/plain": [
       "HBox(children=(HTML(value=''), FloatProgress(value=0.0, max=3.0), HTML(value='')))"
      ]
     },
     "metadata": {},
     "output_type": "display_data"
    },
    {
     "name": "stdout",
     "output_type": "stream",
     "text": [
      "\n",
      "> Vote totals verified — no errors\n",
      "————————————————————————————————————————————————————————————\n",
      "Loading State House Dist 117.csv data...\n",
      " > Found data for 4 counties (3%)\n",
      "Verifying vote totals...\n"
     ]
    },
    {
     "data": {
      "application/vnd.jupyter.widget-view+json": {
       "model_id": "c21fc452768442fbbd528e8041171095",
       "version_major": 2,
       "version_minor": 0
      },
      "text/plain": [
       "HBox(children=(HTML(value=''), FloatProgress(value=0.0, max=2.0), HTML(value='')))"
      ]
     },
     "metadata": {},
     "output_type": "display_data"
    },
    {
     "name": "stdout",
     "output_type": "stream",
     "text": [
      "\n",
      "> Vote totals verified — no errors\n",
      "————————————————————————————————————————————————————————————\n",
      "Loading Sole County Commissioner.csv data...\n",
      " > Found data for 5 counties (3%)\n",
      "Verifying vote totals...\n"
     ]
    },
    {
     "data": {
      "application/vnd.jupyter.widget-view+json": {
       "model_id": "01e981603d3c49eabd993a48e0ea2f48",
       "version_major": 2,
       "version_minor": 0
      },
      "text/plain": [
       "HBox(children=(HTML(value=''), FloatProgress(value=0.0, max=6.0), HTML(value='')))"
      ]
     },
     "metadata": {},
     "output_type": "display_data"
    },
    {
     "name": "stdout",
     "output_type": "stream",
     "text": [
      "\n",
      "> Vote totals verified — no errors\n",
      "————————————————————————————————————————————————————————————\n",
      "Loading US Senate (Perdue).csv data...\n",
      " > Found data for 159 counties (100%)\n",
      "Verifying vote totals...\n"
     ]
    },
    {
     "data": {
      "application/vnd.jupyter.widget-view+json": {
       "model_id": "896466d9f80f4ff6a8134c3e68261a07",
       "version_major": 2,
       "version_minor": 0
      },
      "text/plain": [
       "HBox(children=(HTML(value=''), FloatProgress(value=0.0, max=3.0), HTML(value='')))"
      ]
     },
     "metadata": {},
     "output_type": "display_data"
    },
    {
     "name": "stdout",
     "output_type": "stream",
     "text": [
      "\n",
      "> Vote totals verified — no errors\n",
      "————————————————————————————————————————————————————————————\n",
      "Loading State House Dist 85.csv data...\n",
      " > Found data for 1 counties (1%)\n",
      "Verifying vote totals...\n"
     ]
    },
    {
     "data": {
      "application/vnd.jupyter.widget-view+json": {
       "model_id": "d83f295c6f1b4d93a8d9cce726c7c3a8",
       "version_major": 2,
       "version_minor": 0
      },
      "text/plain": [
       "HBox(children=(HTML(value=''), FloatProgress(value=0.0, max=1.0), HTML(value='')))"
      ]
     },
     "metadata": {},
     "output_type": "display_data"
    },
    {
     "name": "stdout",
     "output_type": "stream",
     "text": [
      "\n",
      "> Vote totals verified — no errors\n",
      "————————————————————————————————————————————————————————————\n",
      "Loading State House Dist 149.csv data...\n",
      " > Found data for 5 counties (3%)\n",
      "Verifying vote totals...\n"
     ]
    },
    {
     "data": {
      "application/vnd.jupyter.widget-view+json": {
       "model_id": "aea3c3c876794183a07e043f0bbf1615",
       "version_major": 2,
       "version_minor": 0
      },
      "text/plain": [
       "HBox(children=(HTML(value=''), FloatProgress(value=0.0, max=1.0), HTML(value='')))"
      ]
     },
     "metadata": {},
     "output_type": "display_data"
    },
    {
     "name": "stdout",
     "output_type": "stream",
     "text": [
      "\n",
      "> Vote totals verified — no errors\n",
      "————————————————————————————————————————————————————————————\n",
      "Loading Kingsland City Council Post 1.csv data...\n",
      " > Found data for 1 counties (1%)\n",
      "Verifying vote totals...\n"
     ]
    },
    {
     "data": {
      "application/vnd.jupyter.widget-view+json": {
       "model_id": "ba4a98fc6db04b66b97192f05637ad7e",
       "version_major": 2,
       "version_minor": 0
      },
      "text/plain": [
       "HBox(children=(HTML(value=''), FloatProgress(value=0.0, max=1.0), HTML(value='')))"
      ]
     },
     "metadata": {},
     "output_type": "display_data"
    },
    {
     "name": "stdout",
     "output_type": "stream",
     "text": [
      "\n",
      "> Vote totals verified — no errors\n",
      "————————————————————————————————————————————————————————————\n",
      "Loading State House Dist 152.csv data...\n",
      " > Found data for 3 counties (2%)\n",
      "Verifying vote totals...\n"
     ]
    },
    {
     "data": {
      "application/vnd.jupyter.widget-view+json": {
       "model_id": "7f6344d80cdb4f59aa09f2085d73a175",
       "version_major": 2,
       "version_minor": 0
      },
      "text/plain": [
       "HBox(children=(HTML(value=''), FloatProgress(value=0.0, max=1.0), HTML(value='')))"
      ]
     },
     "metadata": {},
     "output_type": "display_data"
    },
    {
     "name": "stdout",
     "output_type": "stream",
     "text": [
      "\n",
      "> Vote totals verified — no errors\n",
      "————————————————————————————————————————————————————————————\n",
      "Loading County Commission Post 3 - Special.csv data...\n",
      " > Found data for 1 counties (1%)\n",
      "Verifying vote totals...\n"
     ]
    },
    {
     "data": {
      "application/vnd.jupyter.widget-view+json": {
       "model_id": "37ad6f5abb3a44e1a47893d4d4c73139",
       "version_major": 2,
       "version_minor": 0
      },
      "text/plain": [
       "HBox(children=(HTML(value=''), FloatProgress(value=0.0, max=3.0), HTML(value='')))"
      ]
     },
     "metadata": {},
     "output_type": "display_data"
    },
    {
     "name": "stdout",
     "output_type": "stream",
     "text": [
      "\n",
      "> Vote totals verified — no errors\n",
      "————————————————————————————————————————————————————————————\n",
      "Loading Sheriff.csv data...\n",
      " > Found data for 159 counties (100%)\n",
      "Verifying vote totals...\n"
     ]
    },
    {
     "data": {
      "application/vnd.jupyter.widget-view+json": {
       "model_id": "025d1089a2784d508ef8c2e9f79c97d6",
       "version_major": 2,
       "version_minor": 0
      },
      "text/plain": [
       "HBox(children=(HTML(value=''), FloatProgress(value=0.0, max=205.0), HTML(value='')))"
      ]
     },
     "metadata": {},
     "output_type": "display_data"
    },
    {
     "name": "stdout",
     "output_type": "stream",
     "text": [
      "\n",
      ">>> Vote totals verified — 8e-05 error rate\n",
      "————————————————————————————————————————————————————————————\n",
      "Loading Soil and Water - Ocmulgee River.csv data...\n",
      " > Found data for 2 counties (1%)\n",
      "Verifying vote totals...\n"
     ]
    },
    {
     "data": {
      "application/vnd.jupyter.widget-view+json": {
       "model_id": "72a024c455b745a6aa5e64f4f4af0c75",
       "version_major": 2,
       "version_minor": 0
      },
      "text/plain": [
       "HBox(children=(HTML(value=''), FloatProgress(value=0.0, max=2.0), HTML(value='')))"
      ]
     },
     "metadata": {},
     "output_type": "display_data"
    },
    {
     "name": "stdout",
     "output_type": "stream",
     "text": [
      "\n",
      "> Vote totals verified — no errors\n",
      "————————————————————————————————————————————————————————————\n",
      "Loading State House Dist 34.csv data...\n",
      " > Found data for 1 counties (1%)\n",
      "Verifying vote totals...\n"
     ]
    },
    {
     "data": {
      "application/vnd.jupyter.widget-view+json": {
       "model_id": "b7ba7dcf875841288af4eae2fa3856d0",
       "version_major": 2,
       "version_minor": 0
      },
      "text/plain": [
       "HBox(children=(HTML(value=''), FloatProgress(value=0.0, max=2.0), HTML(value='')))"
      ]
     },
     "metadata": {},
     "output_type": "display_data"
    },
    {
     "name": "stdout",
     "output_type": "stream",
     "text": [
      "\n",
      "> Vote totals verified — no errors\n",
      "————————————————————————————————————————————————————————————\n",
      "Loading Tennille Council Dist 2 Post 1 - Special.csv data...\n",
      " > Found data for 1 counties (1%)\n",
      "Verifying vote totals...\n"
     ]
    },
    {
     "data": {
      "application/vnd.jupyter.widget-view+json": {
       "model_id": "c6903f2191634578b6a2b917056a45d3",
       "version_major": 2,
       "version_minor": 0
      },
      "text/plain": [
       "HBox(children=(HTML(value=''), FloatProgress(value=0.0, max=2.0), HTML(value='')))"
      ]
     },
     "metadata": {},
     "output_type": "display_data"
    },
    {
     "name": "stdout",
     "output_type": "stream",
     "text": [
      "\n",
      "> Vote totals verified — no errors\n",
      "————————————————————————————————————————————————————————————\n",
      "Loading President of the United States.csv data...\n",
      " > Found data for 159 counties (100%)\n",
      "Verifying vote totals...\n"
     ]
    },
    {
     "data": {
      "application/vnd.jupyter.widget-view+json": {
       "model_id": "50d9eaaf38ce4d32a7aa5d41d18eaee9",
       "version_major": 2,
       "version_minor": 0
      },
      "text/plain": [
       "HBox(children=(HTML(value=''), FloatProgress(value=0.0, max=3.0), HTML(value='')))"
      ]
     },
     "metadata": {},
     "output_type": "display_data"
    },
    {
     "name": "stdout",
     "output_type": "stream",
     "text": [
      "\n",
      "> Vote totals verified — no errors\n",
      "————————————————————————————————————————————————————————————\n",
      "Loading Watkinsville City Council Post 5.csv data...\n",
      " > Found data for 1 counties (1%)\n",
      "Verifying vote totals...\n"
     ]
    },
    {
     "data": {
      "application/vnd.jupyter.widget-view+json": {
       "model_id": "0b69d36487b84ee1bc6e8e5261e32fbb",
       "version_major": 2,
       "version_minor": 0
      },
      "text/plain": [
       "HBox(children=(HTML(value=''), FloatProgress(value=0.0, max=2.0), HTML(value='')))"
      ]
     },
     "metadata": {},
     "output_type": "display_data"
    },
    {
     "name": "stdout",
     "output_type": "stream",
     "text": [
      "\n",
      "> Vote totals verified — no errors\n",
      "————————————————————————————————————————————————————————————\n",
      "Loading State Senate Dist 27.csv data...\n",
      " > Found data for 1 counties (1%)\n",
      "Verifying vote totals...\n"
     ]
    },
    {
     "data": {
      "application/vnd.jupyter.widget-view+json": {
       "model_id": "4c84579bca0c4e1aa24f4475951ae829",
       "version_major": 2,
       "version_minor": 0
      },
      "text/plain": [
       "HBox(children=(HTML(value=''), FloatProgress(value=0.0, max=2.0), HTML(value='')))"
      ]
     },
     "metadata": {},
     "output_type": "display_data"
    },
    {
     "name": "stdout",
     "output_type": "stream",
     "text": [
      "\n",
      "> Vote totals verified — no errors\n",
      "————————————————————————————————————————————————————————————\n",
      "Loading Board of Education Precinct 4.csv data...\n",
      " > Found data for 1 counties (1%)\n",
      "Verifying vote totals...\n"
     ]
    },
    {
     "data": {
      "application/vnd.jupyter.widget-view+json": {
       "model_id": "9e367f50832a4ce99a9bdf2489b812d5",
       "version_major": 2,
       "version_minor": 0
      },
      "text/plain": [
       "HBox(children=(HTML(value=''), FloatProgress(value=0.0, max=1.0), HTML(value='')))"
      ]
     },
     "metadata": {},
     "output_type": "display_data"
    },
    {
     "name": "stdout",
     "output_type": "stream",
     "text": [
      "\n",
      "> Vote totals verified — no errors\n",
      "————————————————————————————————————————————————————————————\n",
      "Loading State House Dist 112.csv data...\n",
      " > Found data for 2 counties (1%)\n",
      "Verifying vote totals...\n"
     ]
    },
    {
     "data": {
      "application/vnd.jupyter.widget-view+json": {
       "model_id": "8c0c387d534e4cfcb6b5268208b51dd0",
       "version_major": 2,
       "version_minor": 0
      },
      "text/plain": [
       "HBox(children=(HTML(value=''), FloatProgress(value=0.0, max=1.0), HTML(value='')))"
      ]
     },
     "metadata": {},
     "output_type": "display_data"
    },
    {
     "name": "stdout",
     "output_type": "stream",
     "text": [
      "\n",
      "> Vote totals verified — no errors\n",
      "————————————————————————————————————————————————————————————\n",
      "Loading State Senate Dist 36.csv data...\n",
      " > Found data for 1 counties (1%)\n",
      "Verifying vote totals...\n"
     ]
    },
    {
     "data": {
      "application/vnd.jupyter.widget-view+json": {
       "model_id": "e1666208b5764e5cbfc5ec904d3e6dbe",
       "version_major": 2,
       "version_minor": 0
      },
      "text/plain": [
       "HBox(children=(HTML(value=''), FloatProgress(value=0.0, max=1.0), HTML(value='')))"
      ]
     },
     "metadata": {},
     "output_type": "display_data"
    },
    {
     "name": "stdout",
     "output_type": "stream",
     "text": [
      "\n",
      "> Vote totals verified — no errors\n",
      "————————————————————————————————————————————————————————————\n",
      "Loading State House Dist 91.csv data...\n",
      " > Found data for 2 counties (1%)\n",
      "Verifying vote totals...\n"
     ]
    },
    {
     "data": {
      "application/vnd.jupyter.widget-view+json": {
       "model_id": "73b4edac6faa4f9c85145a69442baa03",
       "version_major": 2,
       "version_minor": 0
      },
      "text/plain": [
       "HBox(children=(HTML(value=''), FloatProgress(value=0.0, max=1.0), HTML(value='')))"
      ]
     },
     "metadata": {},
     "output_type": "display_data"
    },
    {
     "name": "stdout",
     "output_type": "stream",
     "text": [
      "\n",
      "> Vote totals verified — no errors\n",
      "————————————————————————————————————————————————————————————\n",
      "Loading East Jackson Fire Advisory Board Post 2.csv data...\n",
      " > Found data for 1 counties (1%)\n",
      "Verifying vote totals...\n"
     ]
    },
    {
     "data": {
      "application/vnd.jupyter.widget-view+json": {
       "model_id": "78081e9e04104e40989f8a4f4fbd1013",
       "version_major": 2,
       "version_minor": 0
      },
      "text/plain": [
       "HBox(children=(HTML(value=''), FloatProgress(value=0.0, max=1.0), HTML(value='')))"
      ]
     },
     "metadata": {},
     "output_type": "display_data"
    },
    {
     "name": "stdout",
     "output_type": "stream",
     "text": [
      "\n",
      "> Vote totals verified — no errors\n",
      "————————————————————————————————————————————————————————————\n",
      "Loading Solicitor General.csv data...\n",
      " > Found data for 30 counties (19%)\n",
      "Verifying vote totals...\n"
     ]
    },
    {
     "data": {
      "application/vnd.jupyter.widget-view+json": {
       "model_id": "4707f008fe12427a94ebaf6ba33f89ad",
       "version_major": 2,
       "version_minor": 0
      },
      "text/plain": [
       "HBox(children=(HTML(value=''), FloatProgress(value=0.0, max=31.0), HTML(value='')))"
      ]
     },
     "metadata": {},
     "output_type": "display_data"
    },
    {
     "name": "stdout",
     "output_type": "stream",
     "text": [
      "\n",
      ">>> Vote totals verified — 7e-05 error rate\n",
      "————————————————————————————————————————————————————————————\n",
      "Loading County Commission Chair.csv data...\n",
      " > Found data for 58 counties (36%)\n",
      "Verifying vote totals...\n"
     ]
    },
    {
     "data": {
      "application/vnd.jupyter.widget-view+json": {
       "model_id": "b9d3eb38e9954a35a111a9700564fdff",
       "version_major": 2,
       "version_minor": 0
      },
      "text/plain": [
       "HBox(children=(HTML(value=''), FloatProgress(value=0.0, max=71.0), HTML(value='')))"
      ]
     },
     "metadata": {},
     "output_type": "display_data"
    },
    {
     "name": "stdout",
     "output_type": "stream",
     "text": [
      "\n",
      ">>> Vote totals verified — 0.00063 error rate\n",
      "————————————————————————————————————————————————————————————\n",
      "Loading Doraville City Council Dist 1 - Special.csv data...\n",
      " > Found data for 1 counties (1%)\n",
      "Verifying vote totals...\n"
     ]
    },
    {
     "data": {
      "application/vnd.jupyter.widget-view+json": {
       "model_id": "c66dd4527beb4122ad8fbf347a5d5dcf",
       "version_major": 2,
       "version_minor": 0
      },
      "text/plain": [
       "HBox(children=(HTML(value=''), FloatProgress(value=0.0, max=7.0), HTML(value='')))"
      ]
     },
     "metadata": {},
     "output_type": "display_data"
    },
    {
     "name": "stdout",
     "output_type": "stream",
     "text": [
      "\n",
      "> Vote totals verified — no errors\n",
      "————————————————————————————————————————————————————————————\n",
      "Loading State House Dist 12.csv data...\n",
      " > Found data for 2 counties (1%)\n",
      "Verifying vote totals...\n"
     ]
    },
    {
     "data": {
      "application/vnd.jupyter.widget-view+json": {
       "model_id": "d3fb9a33b96a4b59b14a82d128ba0bc8",
       "version_major": 2,
       "version_minor": 0
      },
      "text/plain": [
       "HBox(children=(HTML(value=''), FloatProgress(value=0.0, max=2.0), HTML(value='')))"
      ]
     },
     "metadata": {},
     "output_type": "display_data"
    },
    {
     "name": "stdout",
     "output_type": "stream",
     "text": [
      "\n",
      "> Vote totals verified — no errors\n",
      "————————————————————————————————————————————————————————————\n",
      "Loading State House Dist 109.csv data...\n",
      " > Found data for 3 counties (2%)\n",
      "Verifying vote totals...\n"
     ]
    },
    {
     "data": {
      "application/vnd.jupyter.widget-view+json": {
       "model_id": "915d86ffde3549bb88e40d9381f83463",
       "version_major": 2,
       "version_minor": 0
      },
      "text/plain": [
       "HBox(children=(HTML(value=''), FloatProgress(value=0.0, max=2.0), HTML(value='')))"
      ]
     },
     "metadata": {},
     "output_type": "display_data"
    },
    {
     "name": "stdout",
     "output_type": "stream",
     "text": [
      "\n",
      "> Vote totals verified — no errors\n",
      "————————————————————————————————————————————————————————————\n",
      "Loading State House Dist 97.csv data...\n",
      " > Found data for 1 counties (1%)\n",
      "Verifying vote totals...\n"
     ]
    },
    {
     "data": {
      "application/vnd.jupyter.widget-view+json": {
       "model_id": "0693fa8beeb742739517191f8a13ec74",
       "version_major": 2,
       "version_minor": 0
      },
      "text/plain": [
       "HBox(children=(HTML(value=''), FloatProgress(value=0.0, max=2.0), HTML(value='')))"
      ]
     },
     "metadata": {},
     "output_type": "display_data"
    },
    {
     "name": "stdout",
     "output_type": "stream",
     "text": [
      "\n",
      "> Vote totals verified — no errors\n",
      "————————————————————————————————————————————————————————————\n",
      "Loading State House Dist 172.csv data...\n",
      " > Found data for 3 counties (2%)\n",
      "Verifying vote totals...\n"
     ]
    },
    {
     "data": {
      "application/vnd.jupyter.widget-view+json": {
       "model_id": "fb8a1699a8724ba4b333878740af7264",
       "version_major": 2,
       "version_minor": 0
      },
      "text/plain": [
       "HBox(children=(HTML(value=''), FloatProgress(value=0.0, max=1.0), HTML(value='')))"
      ]
     },
     "metadata": {},
     "output_type": "display_data"
    },
    {
     "name": "stdout",
     "output_type": "stream",
     "text": [
      "\n",
      "> Vote totals verified — no errors\n",
      "————————————————————————————————————————————————————————————\n",
      "Loading State Senate Dist 33.csv data...\n",
      " > Found data for 1 counties (1%)\n",
      "Verifying vote totals...\n"
     ]
    },
    {
     "data": {
      "application/vnd.jupyter.widget-view+json": {
       "model_id": "0ac2097209c444f78e00aa26c1314ca2",
       "version_major": 2,
       "version_minor": 0
      },
      "text/plain": [
       "HBox(children=(HTML(value=''), FloatProgress(value=0.0, max=1.0), HTML(value='')))"
      ]
     },
     "metadata": {},
     "output_type": "display_data"
    },
    {
     "name": "stdout",
     "output_type": "stream",
     "text": [
      "\n",
      "> Vote totals verified — no errors\n",
      "————————————————————————————————————————————————————————————\n",
      "Loading State House Dist 54.csv data...\n",
      " > Found data for 1 counties (1%)\n",
      "Verifying vote totals...\n"
     ]
    },
    {
     "data": {
      "application/vnd.jupyter.widget-view+json": {
       "model_id": "77062023570042d19b727629914bfcea",
       "version_major": 2,
       "version_minor": 0
      },
      "text/plain": [
       "HBox(children=(HTML(value=''), FloatProgress(value=0.0, max=2.0), HTML(value='')))"
      ]
     },
     "metadata": {},
     "output_type": "display_data"
    },
    {
     "name": "stdout",
     "output_type": "stream",
     "text": [
      "\n",
      "> Vote totals verified — no errors\n",
      "————————————————————————————————————————————————————————————\n",
      "Loading Ray City Council - Special.csv data...\n",
      " > Found data for 1 counties (1%)\n",
      "Verifying vote totals...\n"
     ]
    },
    {
     "data": {
      "application/vnd.jupyter.widget-view+json": {
       "model_id": "036a3724a1bd49d2927595ec8a4c6bac",
       "version_major": 2,
       "version_minor": 0
      },
      "text/plain": [
       "HBox(children=(HTML(value=''), FloatProgress(value=0.0, max=2.0), HTML(value='')))"
      ]
     },
     "metadata": {},
     "output_type": "display_data"
    },
    {
     "name": "stdout",
     "output_type": "stream",
     "text": [
      "\n",
      "> Vote totals verified — no errors\n",
      "————————————————————————————————————————————————————————————\n",
      "Loading County Commissioner.csv data...\n",
      " > Found data for 1 counties (1%)\n",
      "Verifying vote totals...\n"
     ]
    },
    {
     "data": {
      "application/vnd.jupyter.widget-view+json": {
       "model_id": "3ebec80cbecb4a3a8ddf5451514dd95e",
       "version_major": 2,
       "version_minor": 0
      },
      "text/plain": [
       "HBox(children=(HTML(value=''), FloatProgress(value=0.0, max=2.0), HTML(value='')))"
      ]
     },
     "metadata": {},
     "output_type": "display_data"
    },
    {
     "name": "stdout",
     "output_type": "stream",
     "text": [
      "\n",
      "> Vote totals verified — no errors\n",
      "————————————————————————————————————————————————————————————\n",
      "Loading State House Dist 160.csv data...\n",
      " > Found data for 2 counties (1%)\n",
      "Verifying vote totals...\n"
     ]
    },
    {
     "data": {
      "application/vnd.jupyter.widget-view+json": {
       "model_id": "03c9577e1a344c89ab0c19586c10c453",
       "version_major": 2,
       "version_minor": 0
      },
      "text/plain": [
       "HBox(children=(HTML(value=''), FloatProgress(value=0.0, max=1.0), HTML(value='')))"
      ]
     },
     "metadata": {},
     "output_type": "display_data"
    },
    {
     "name": "stdout",
     "output_type": "stream",
     "text": [
      "\n",
      "> Vote totals verified — no errors\n",
      "————————————————————————————————————————————————————————————\n",
      "Loading Probate-Magistrate Judge.csv data...\n",
      " > Found data for 5 counties (3%)\n",
      "Verifying vote totals...\n"
     ]
    },
    {
     "data": {
      "application/vnd.jupyter.widget-view+json": {
       "model_id": "cdc6c93dbc02420eb3d3e4a2ac5657b4",
       "version_major": 2,
       "version_minor": 0
      },
      "text/plain": [
       "HBox(children=(HTML(value=''), FloatProgress(value=0.0, max=5.0), HTML(value='')))"
      ]
     },
     "metadata": {},
     "output_type": "display_data"
    },
    {
     "name": "stdout",
     "output_type": "stream",
     "text": [
      "\n",
      "> Vote totals verified — no errors\n",
      "————————————————————————————————————————————————————————————\n",
      "Loading State House Dist 20.csv data...\n",
      " > Found data for 1 counties (1%)\n",
      "Verifying vote totals...\n"
     ]
    },
    {
     "data": {
      "application/vnd.jupyter.widget-view+json": {
       "model_id": "1b16d53057bb44ba886dedc1a2d54af3",
       "version_major": 2,
       "version_minor": 0
      },
      "text/plain": [
       "HBox(children=(HTML(value=''), FloatProgress(value=0.0, max=2.0), HTML(value='')))"
      ]
     },
     "metadata": {},
     "output_type": "display_data"
    },
    {
     "name": "stdout",
     "output_type": "stream",
     "text": [
      "\n",
      "> Vote totals verified — no errors\n",
      "————————————————————————————————————————————————————————————\n",
      "Loading State Senate Dist 5.csv data...\n",
      " > Found data for 1 counties (1%)\n",
      "Verifying vote totals...\n"
     ]
    },
    {
     "data": {
      "application/vnd.jupyter.widget-view+json": {
       "model_id": "91063887716a46ef8d89cc2468a2b6ab",
       "version_major": 2,
       "version_minor": 0
      },
      "text/plain": [
       "HBox(children=(HTML(value=''), FloatProgress(value=0.0, max=1.0), HTML(value='')))"
      ]
     },
     "metadata": {},
     "output_type": "display_data"
    },
    {
     "name": "stdout",
     "output_type": "stream",
     "text": [
      "\n",
      "> Vote totals verified — no errors\n",
      "————————————————————————————————————————————————————————————\n",
      "Loading State House Dist 61.csv data...\n",
      " > Found data for 3 counties (2%)\n",
      "Verifying vote totals...\n"
     ]
    },
    {
     "data": {
      "application/vnd.jupyter.widget-view+json": {
       "model_id": "2e57b9e063914a7da3eac5f77d6cda4b",
       "version_major": 2,
       "version_minor": 0
      },
      "text/plain": [
       "HBox(children=(HTML(value=''), FloatProgress(value=0.0, max=1.0), HTML(value='')))"
      ]
     },
     "metadata": {},
     "output_type": "display_data"
    },
    {
     "name": "stdout",
     "output_type": "stream",
     "text": [
      "\n",
      "> Vote totals verified — no errors\n",
      "————————————————————————————————————————————————————————————\n",
      "Loading Dist Attorney - Oconee.csv data...\n",
      " > Found data for 6 counties (4%)\n",
      "Verifying vote totals...\n"
     ]
    },
    {
     "data": {
      "application/vnd.jupyter.widget-view+json": {
       "model_id": "ebf9603bd9ef431cb6be484622fcf585",
       "version_major": 2,
       "version_minor": 0
      },
      "text/plain": [
       "HBox(children=(HTML(value=''), FloatProgress(value=0.0, max=1.0), HTML(value='')))"
      ]
     },
     "metadata": {},
     "output_type": "display_data"
    },
    {
     "name": "stdout",
     "output_type": "stream",
     "text": [
      "\n",
      "> Vote totals verified — no errors\n",
      "————————————————————————————————————————————————————————————\n",
      "Loading State Senate Dist 40.csv data...\n",
      " > Found data for 3 counties (2%)\n",
      "Verifying vote totals...\n"
     ]
    },
    {
     "data": {
      "application/vnd.jupyter.widget-view+json": {
       "model_id": "3d68673e8ec94d66b3af4c9fad6f373e",
       "version_major": 2,
       "version_minor": 0
      },
      "text/plain": [
       "HBox(children=(HTML(value=''), FloatProgress(value=0.0, max=2.0), HTML(value='')))"
      ]
     },
     "metadata": {},
     "output_type": "display_data"
    },
    {
     "name": "stdout",
     "output_type": "stream",
     "text": [
      "\n",
      "> Vote totals verified — no errors\n",
      "————————————————————————————————————————————————————————————\n",
      "Loading State House Dist 166.csv data...\n",
      " > Found data for 2 counties (1%)\n",
      "Verifying vote totals...\n"
     ]
    },
    {
     "data": {
      "application/vnd.jupyter.widget-view+json": {
       "model_id": "8f5379c47d4848b4b3e7374f046a35b5",
       "version_major": 2,
       "version_minor": 0
      },
      "text/plain": [
       "HBox(children=(HTML(value=''), FloatProgress(value=0.0, max=2.0), HTML(value='')))"
      ]
     },
     "metadata": {},
     "output_type": "display_data"
    },
    {
     "name": "stdout",
     "output_type": "stream",
     "text": [
      "\n",
      "> Vote totals verified — no errors\n",
      "————————————————————————————————————————————————————————————\n",
      "Loading Brd of Education Dist 3.csv data...\n",
      " > Found data for 1 counties (1%)\n",
      "Verifying vote totals...\n"
     ]
    },
    {
     "data": {
      "application/vnd.jupyter.widget-view+json": {
       "model_id": "62611082bf644acba1f8adc519623ae9",
       "version_major": 2,
       "version_minor": 0
      },
      "text/plain": [
       "HBox(children=(HTML(value=''), FloatProgress(value=0.0, max=2.0), HTML(value='')))"
      ]
     },
     "metadata": {},
     "output_type": "display_data"
    },
    {
     "name": "stdout",
     "output_type": "stream",
     "text": [
      "\n",
      "> Vote totals verified — no errors\n",
      "————————————————————————————————————————————————————————————\n",
      "Loading Board of Education Post 3.csv data...\n",
      " > Found data for 1 counties (1%)\n",
      "Verifying vote totals...\n"
     ]
    },
    {
     "data": {
      "application/vnd.jupyter.widget-view+json": {
       "model_id": "bdd68ad482d448b7864608610478298a",
       "version_major": 2,
       "version_minor": 0
      },
      "text/plain": [
       "HBox(children=(HTML(value=''), FloatProgress(value=0.0, max=1.0), HTML(value='')))"
      ]
     },
     "metadata": {},
     "output_type": "display_data"
    },
    {
     "name": "stdout",
     "output_type": "stream",
     "text": [
      "\n",
      "> Vote totals verified — no errors\n",
      "————————————————————————————————————————————————————————————\n",
      "Loading State House Dist 2.csv data...\n",
      " > Found data for 3 counties (2%)\n",
      "Verifying vote totals...\n"
     ]
    },
    {
     "data": {
      "application/vnd.jupyter.widget-view+json": {
       "model_id": "17aac11c577a49fd8b3576c43c68086c",
       "version_major": 2,
       "version_minor": 0
      },
      "text/plain": [
       "HBox(children=(HTML(value=''), FloatProgress(value=0.0, max=1.0), HTML(value='')))"
      ]
     },
     "metadata": {},
     "output_type": "display_data"
    },
    {
     "name": "stdout",
     "output_type": "stream",
     "text": [
      "\n",
      "> Vote totals verified — no errors\n",
      "————————————————————————————————————————————————————————————\n",
      "Loading County Commission Newton Dist.csv data...\n",
      " > Found data for 1 counties (1%)\n",
      "Verifying vote totals...\n"
     ]
    },
    {
     "data": {
      "application/vnd.jupyter.widget-view+json": {
       "model_id": "8e54dda086914b2a956a887ab41c4977",
       "version_major": 2,
       "version_minor": 0
      },
      "text/plain": [
       "HBox(children=(HTML(value=''), FloatProgress(value=0.0, max=1.0), HTML(value='')))"
      ]
     },
     "metadata": {},
     "output_type": "display_data"
    },
    {
     "name": "stdout",
     "output_type": "stream",
     "text": [
      "\n",
      "> Vote totals verified — no errors\n",
      "————————————————————————————————————————————————————————————\n",
      "Loading State House Dist 118.csv data...\n",
      " > Found data for 1 counties (1%)\n",
      "Verifying vote totals...\n"
     ]
    },
    {
     "data": {
      "application/vnd.jupyter.widget-view+json": {
       "model_id": "b1ccde16a1784082a87cb79367bd7e6c",
       "version_major": 2,
       "version_minor": 0
      },
      "text/plain": [
       "HBox(children=(HTML(value=''), FloatProgress(value=0.0, max=1.0), HTML(value='')))"
      ]
     },
     "metadata": {},
     "output_type": "display_data"
    },
    {
     "name": "stdout",
     "output_type": "stream",
     "text": [
      "\n",
      "> Vote totals verified — no errors\n",
      "————————————————————————————————————————————————————————————\n",
      "Loading State Senate Dist 56.csv data...\n",
      " > Found data for 2 counties (1%)\n",
      "Verifying vote totals...\n"
     ]
    },
    {
     "data": {
      "application/vnd.jupyter.widget-view+json": {
       "model_id": "551a8d9f661d429680230c17b7e44bea",
       "version_major": 2,
       "version_minor": 0
      },
      "text/plain": [
       "HBox(children=(HTML(value=''), FloatProgress(value=0.0, max=2.0), HTML(value='')))"
      ]
     },
     "metadata": {},
     "output_type": "display_data"
    },
    {
     "name": "stdout",
     "output_type": "stream",
     "text": [
      "\n",
      "> Vote totals verified — no errors\n",
      "————————————————————————————————————————————————————————————\n",
      "Loading Soil and Water - Coastal.csv data...\n",
      " > Found data for 4 counties (3%)\n",
      "Verifying vote totals...\n"
     ]
    },
    {
     "data": {
      "application/vnd.jupyter.widget-view+json": {
       "model_id": "44d90659f4914c93bd846246f860b266",
       "version_major": 2,
       "version_minor": 0
      },
      "text/plain": [
       "HBox(children=(HTML(value=''), FloatProgress(value=0.0, max=4.0), HTML(value='')))"
      ]
     },
     "metadata": {},
     "output_type": "display_data"
    },
    {
     "name": "stdout",
     "output_type": "stream",
     "text": [
      "\n",
      ">>> Vote totals verified — 0.07839 error rate\n",
      "————————————————————————————————————————————————————————————\n",
      "Loading County Commission Dist 2, Seat A.csv data...\n",
      " > Found data for 1 counties (1%)\n",
      "Verifying vote totals...\n"
     ]
    },
    {
     "data": {
      "application/vnd.jupyter.widget-view+json": {
       "model_id": "c4643890ad77469fa8fc86f7d077757b",
       "version_major": 2,
       "version_minor": 0
      },
      "text/plain": [
       "HBox(children=(HTML(value=''), FloatProgress(value=0.0, max=1.0), HTML(value='')))"
      ]
     },
     "metadata": {},
     "output_type": "display_data"
    },
    {
     "name": "stdout",
     "output_type": "stream",
     "text": [
      "\n",
      "> Vote totals verified — no errors\n",
      "————————————————————————————————————————————————————————————\n",
      "Loading Probate Judge.csv data...\n",
      " > Found data for 55 counties (35%)\n",
      "Verifying vote totals...\n"
     ]
    },
    {
     "data": {
      "application/vnd.jupyter.widget-view+json": {
       "model_id": "9e1a5b90e4924221a4ff355c22ec8815",
       "version_major": 2,
       "version_minor": 0
      },
      "text/plain": [
       "HBox(children=(HTML(value=''), FloatProgress(value=0.0, max=61.0), HTML(value='')))"
      ]
     },
     "metadata": {},
     "output_type": "display_data"
    },
    {
     "name": "stdout",
     "output_type": "stream",
     "text": [
      "\n",
      ">>> Vote totals verified — 0.00012 error rate\n",
      "————————————————————————————————————————————————————————————\n",
      "Loading State House Dist 90.csv data...\n",
      " > Found data for 3 counties (2%)\n",
      "Verifying vote totals...\n"
     ]
    },
    {
     "data": {
      "application/vnd.jupyter.widget-view+json": {
       "model_id": "1ffb55f2e7624a69aae1d423e891ffc1",
       "version_major": 2,
       "version_minor": 0
      },
      "text/plain": [
       "HBox(children=(HTML(value=''), FloatProgress(value=0.0, max=1.0), HTML(value='')))"
      ]
     },
     "metadata": {},
     "output_type": "display_data"
    },
    {
     "name": "stdout",
     "output_type": "stream",
     "text": [
      "\n",
      "> Vote totals verified — no errors\n",
      "————————————————————————————————————————————————————————————\n",
      "Loading Soil and Water - Satilla River.csv data...\n",
      " > Found data for 4 counties (3%)\n",
      "Verifying vote totals...\n"
     ]
    },
    {
     "data": {
      "application/vnd.jupyter.widget-view+json": {
       "model_id": "4c7b24e5850449d9ad83933ddab3b5b5",
       "version_major": 2,
       "version_minor": 0
      },
      "text/plain": [
       "HBox(children=(HTML(value=''), FloatProgress(value=0.0, max=4.0), HTML(value='')))"
      ]
     },
     "metadata": {},
     "output_type": "display_data"
    },
    {
     "name": "stdout",
     "output_type": "stream",
     "text": [
      "\n",
      "> Vote totals verified — no errors\n",
      "————————————————————————————————————————————————————————————\n",
      "Loading Dist Attorney - Macon.csv data...\n",
      " > Found data for 3 counties (2%)\n",
      "Verifying vote totals...\n"
     ]
    },
    {
     "data": {
      "application/vnd.jupyter.widget-view+json": {
       "model_id": "71a4b1c829404871992d50d86c9eb853",
       "version_major": 2,
       "version_minor": 0
      },
      "text/plain": [
       "HBox(children=(HTML(value=''), FloatProgress(value=0.0, max=1.0), HTML(value='')))"
      ]
     },
     "metadata": {},
     "output_type": "display_data"
    },
    {
     "name": "stdout",
     "output_type": "stream",
     "text": [
      "\n",
      "> Vote totals verified — no errors\n",
      "————————————————————————————————————————————————————————————\n",
      "Loading State House Dist 103.csv data...\n",
      " > Found data for 2 counties (1%)\n",
      "Verifying vote totals...\n"
     ]
    },
    {
     "data": {
      "application/vnd.jupyter.widget-view+json": {
       "model_id": "2b2ccb4253494bf49056dd323d0955fe",
       "version_major": 2,
       "version_minor": 0
      },
      "text/plain": [
       "HBox(children=(HTML(value=''), FloatProgress(value=0.0, max=2.0), HTML(value='')))"
      ]
     },
     "metadata": {},
     "output_type": "display_data"
    },
    {
     "name": "stdout",
     "output_type": "stream",
     "text": [
      "\n",
      "> Vote totals verified — no errors\n",
      "————————————————————————————————————————————————————————————\n",
      "Loading State Senate Dist 20.csv data...\n",
      " > Found data for 4 counties (3%)\n",
      "Verifying vote totals...\n"
     ]
    },
    {
     "data": {
      "application/vnd.jupyter.widget-view+json": {
       "model_id": "9fdabf8287524741b1dccb543ac6a9f3",
       "version_major": 2,
       "version_minor": 0
      },
      "text/plain": [
       "HBox(children=(HTML(value=''), FloatProgress(value=0.0, max=2.0), HTML(value='')))"
      ]
     },
     "metadata": {},
     "output_type": "display_data"
    },
    {
     "name": "stdout",
     "output_type": "stream",
     "text": [
      "\n",
      "> Vote totals verified — no errors\n",
      "————————————————————————————————————————————————————————————\n",
      "Loading State Senate Dist 13.csv data...\n",
      " > Found data for 9 counties (6%)\n",
      "Verifying vote totals...\n"
     ]
    },
    {
     "data": {
      "application/vnd.jupyter.widget-view+json": {
       "model_id": "a4858e88a51a4ff8ae3570aaa2bac10c",
       "version_major": 2,
       "version_minor": 0
      },
      "text/plain": [
       "HBox(children=(HTML(value=''), FloatProgress(value=0.0, max=2.0), HTML(value='')))"
      ]
     },
     "metadata": {},
     "output_type": "display_data"
    },
    {
     "name": "stdout",
     "output_type": "stream",
     "text": [
      "\n",
      "> Vote totals verified — no errors\n",
      "————————————————————————————————————————————————————————————\n",
      "Loading State House Dist 121.csv data...\n",
      " > Found data for 2 counties (1%)\n",
      "Verifying vote totals...\n"
     ]
    },
    {
     "data": {
      "application/vnd.jupyter.widget-view+json": {
       "model_id": "d519f924875947baa031c38261d57ebf",
       "version_major": 2,
       "version_minor": 0
      },
      "text/plain": [
       "HBox(children=(HTML(value=''), FloatProgress(value=0.0, max=1.0), HTML(value='')))"
      ]
     },
     "metadata": {},
     "output_type": "display_data"
    },
    {
     "name": "stdout",
     "output_type": "stream",
     "text": [
      "\n",
      "> Vote totals verified — no errors\n",
      "————————————————————————————————————————————————————————————\n",
      "Loading State Senate Dist 18.csv data...\n",
      " > Found data for 6 counties (4%)\n",
      "Verifying vote totals...\n"
     ]
    },
    {
     "data": {
      "application/vnd.jupyter.widget-view+json": {
       "model_id": "e2c4120fd4604d9db4a66e1d0cc09a58",
       "version_major": 2,
       "version_minor": 0
      },
      "text/plain": [
       "HBox(children=(HTML(value=''), FloatProgress(value=0.0, max=1.0), HTML(value='')))"
      ]
     },
     "metadata": {},
     "output_type": "display_data"
    },
    {
     "name": "stdout",
     "output_type": "stream",
     "text": [
      "\n",
      "> Vote totals verified — no errors\n",
      "————————————————————————————————————————————————————————————\n",
      "Loading County Commission Dist 2 Seat A.csv data...\n",
      " > Found data for 1 counties (1%)\n",
      "Verifying vote totals...\n"
     ]
    },
    {
     "data": {
      "application/vnd.jupyter.widget-view+json": {
       "model_id": "69c98476cd8d4aef991f74b484f7a6bf",
       "version_major": 2,
       "version_minor": 0
      },
      "text/plain": [
       "HBox(children=(HTML(value=''), FloatProgress(value=0.0, max=1.0), HTML(value='')))"
      ]
     },
     "metadata": {},
     "output_type": "display_data"
    },
    {
     "name": "stdout",
     "output_type": "stream",
     "text": [
      "\n",
      "> Vote totals verified — no errors\n",
      "————————————————————————————————————————————————————————————\n",
      "Loading State Senate Dist 32.csv data...\n",
      " > Found data for 2 counties (1%)\n",
      "Verifying vote totals...\n"
     ]
    },
    {
     "data": {
      "application/vnd.jupyter.widget-view+json": {
       "model_id": "d43fa134485340dbbca8a904b234eb45",
       "version_major": 2,
       "version_minor": 0
      },
      "text/plain": [
       "HBox(children=(HTML(value=''), FloatProgress(value=0.0, max=2.0), HTML(value='')))"
      ]
     },
     "metadata": {},
     "output_type": "display_data"
    },
    {
     "name": "stdout",
     "output_type": "stream",
     "text": [
      "\n",
      "> Vote totals verified — no errors\n",
      "————————————————————————————————————————————————————————————\n",
      "Loading Plainview Fire Advisory Board Post 3.csv data...\n",
      " > Found data for 1 counties (1%)\n",
      "Verifying vote totals...\n"
     ]
    },
    {
     "data": {
      "application/vnd.jupyter.widget-view+json": {
       "model_id": "ca28659e67244f45bd9d7a8d03354a69",
       "version_major": 2,
       "version_minor": 0
      },
      "text/plain": [
       "HBox(children=(HTML(value=''), FloatProgress(value=0.0, max=1.0), HTML(value='')))"
      ]
     },
     "metadata": {},
     "output_type": "display_data"
    },
    {
     "name": "stdout",
     "output_type": "stream",
     "text": [
      "\n",
      "> Vote totals verified — no errors\n",
      "————————————————————————————————————————————————————————————\n",
      "Loading Board of Education Vice Chair.csv data...\n",
      " > Found data for 1 counties (1%)\n",
      "Verifying vote totals...\n"
     ]
    },
    {
     "data": {
      "application/vnd.jupyter.widget-view+json": {
       "model_id": "dca997957a4e44408030a0292540f351",
       "version_major": 2,
       "version_minor": 0
      },
      "text/plain": [
       "HBox(children=(HTML(value=''), FloatProgress(value=0.0, max=1.0), HTML(value='')))"
      ]
     },
     "metadata": {},
     "output_type": "display_data"
    },
    {
     "name": "stdout",
     "output_type": "stream",
     "text": [
      "\n",
      "> Vote totals verified — no errors\n",
      "————————————————————————————————————————————————————————————\n",
      "Loading Homestead Exemption Referendum - Special.csv data...\n",
      " > Found data for 1 counties (1%)\n",
      "Verifying vote totals...\n"
     ]
    },
    {
     "data": {
      "application/vnd.jupyter.widget-view+json": {
       "model_id": "981e9280539c493885a4cc90ac34dbfc",
       "version_major": 2,
       "version_minor": 0
      },
      "text/plain": [
       "HBox(children=(HTML(value=''), FloatProgress(value=0.0, max=2.0), HTML(value='')))"
      ]
     },
     "metadata": {},
     "output_type": "display_data"
    },
    {
     "name": "stdout",
     "output_type": "stream",
     "text": [
      "\n",
      "> Vote totals verified — no errors\n",
      "————————————————————————————————————————————————————————————\n",
      "Loading County Commission Dist 6.csv data...\n",
      " > Found data for 9 counties (6%)\n",
      "Verifying vote totals...\n"
     ]
    },
    {
     "data": {
      "application/vnd.jupyter.widget-view+json": {
       "model_id": "6a8fa46f06b3441b9034ea7dbe27a2bc",
       "version_major": 2,
       "version_minor": 0
      },
      "text/plain": [
       "HBox(children=(HTML(value=''), FloatProgress(value=0.0, max=13.0), HTML(value='')))"
      ]
     },
     "metadata": {},
     "output_type": "display_data"
    },
    {
     "name": "stdout",
     "output_type": "stream",
     "text": [
      "\n",
      ">>> Vote totals verified — 0.00072 error rate\n",
      "————————————————————————————————————————————————————————————\n",
      "Loading State Senate Dist 16.csv data...\n",
      " > Found data for 4 counties (3%)\n",
      "Verifying vote totals...\n"
     ]
    },
    {
     "data": {
      "application/vnd.jupyter.widget-view+json": {
       "model_id": "0939a7e41f154b62a55ed0f5c461cfff",
       "version_major": 2,
       "version_minor": 0
      },
      "text/plain": [
       "HBox(children=(HTML(value=''), FloatProgress(value=0.0, max=2.0), HTML(value='')))"
      ]
     },
     "metadata": {},
     "output_type": "display_data"
    },
    {
     "name": "stdout",
     "output_type": "stream",
     "text": [
      "\n",
      "> Vote totals verified — no errors\n",
      "————————————————————————————————————————————————————————————\n",
      "Loading Dist Attorney - Houston.csv data...\n",
      " > Found data for 1 counties (1%)\n",
      "Verifying vote totals...\n"
     ]
    },
    {
     "data": {
      "application/vnd.jupyter.widget-view+json": {
       "model_id": "3c6f92c4b1ad44f4abf3b55f487b10c2",
       "version_major": 2,
       "version_minor": 0
      },
      "text/plain": [
       "HBox(children=(HTML(value=''), FloatProgress(value=0.0, max=2.0), HTML(value='')))"
      ]
     },
     "metadata": {},
     "output_type": "display_data"
    },
    {
     "name": "stdout",
     "output_type": "stream",
     "text": [
      "\n",
      "> Vote totals verified — no errors\n",
      "————————————————————————————————————————————————————————————\n",
      "Loading State House Dist 19.csv data...\n",
      " > Found data for 1 counties (1%)\n",
      "Verifying vote totals...\n"
     ]
    },
    {
     "data": {
      "application/vnd.jupyter.widget-view+json": {
       "model_id": "7d0a41902ca34d35963e728fa20a54a2",
       "version_major": 2,
       "version_minor": 0
      },
      "text/plain": [
       "HBox(children=(HTML(value=''), FloatProgress(value=0.0, max=2.0), HTML(value='')))"
      ]
     },
     "metadata": {},
     "output_type": "display_data"
    },
    {
     "name": "stdout",
     "output_type": "stream",
     "text": [
      "\n",
      "> Vote totals verified — no errors\n",
      "————————————————————————————————————————————————————————————\n",
      "Loading Dist Attorney - Bell-Forsyth.csv data...\n",
      " > Found data for 1 counties (1%)\n",
      "Verifying vote totals...\n"
     ]
    },
    {
     "data": {
      "application/vnd.jupyter.widget-view+json": {
       "model_id": "0f2f3d656379495f9fe97fcc05b0feb3",
       "version_major": 2,
       "version_minor": 0
      },
      "text/plain": [
       "HBox(children=(HTML(value=''), FloatProgress(value=0.0, max=1.0), HTML(value='')))"
      ]
     },
     "metadata": {},
     "output_type": "display_data"
    },
    {
     "name": "stdout",
     "output_type": "stream",
     "text": [
      "\n",
      "> Vote totals verified — no errors\n",
      "————————————————————————————————————————————————————————————\n",
      "Loading State House Dist 86.csv data...\n",
      " > Found data for 1 counties (1%)\n",
      "Verifying vote totals...\n"
     ]
    },
    {
     "data": {
      "application/vnd.jupyter.widget-view+json": {
       "model_id": "13f39f81252e48a794e85a76fa50f6da",
       "version_major": 2,
       "version_minor": 0
      },
      "text/plain": [
       "HBox(children=(HTML(value=''), FloatProgress(value=0.0, max=1.0), HTML(value='')))"
      ]
     },
     "metadata": {},
     "output_type": "display_data"
    },
    {
     "name": "stdout",
     "output_type": "stream",
     "text": [
      "\n",
      "> Vote totals verified — no errors\n",
      "————————————————————————————————————————————————————————————\n",
      "Loading Clerk of Courts.csv data...\n",
      " > Found data for 1 counties (1%)\n",
      "Verifying vote totals...\n"
     ]
    },
    {
     "data": {
      "application/vnd.jupyter.widget-view+json": {
       "model_id": "a17add003b94470fae091e5c9c76f560",
       "version_major": 2,
       "version_minor": 0
      },
      "text/plain": [
       "HBox(children=(HTML(value=''), FloatProgress(value=0.0, max=1.0), HTML(value='')))"
      ]
     },
     "metadata": {},
     "output_type": "display_data"
    },
    {
     "name": "stdout",
     "output_type": "stream",
     "text": [
      "\n",
      "> Vote totals verified — no errors\n",
      "————————————————————————————————————————————————————————————\n",
      "Loading Maysville Fire Advisory Board Post 3.csv data...\n",
      " > Found data for 1 counties (1%)\n",
      "Verifying vote totals...\n"
     ]
    },
    {
     "data": {
      "application/vnd.jupyter.widget-view+json": {
       "model_id": "5646a968c8fd41a7b3b9704e7679fab8",
       "version_major": 2,
       "version_minor": 0
      },
      "text/plain": [
       "HBox(children=(HTML(value=''), FloatProgress(value=0.0, max=1.0), HTML(value='')))"
      ]
     },
     "metadata": {},
     "output_type": "display_data"
    },
    {
     "name": "stdout",
     "output_type": "stream",
     "text": [
      "\n",
      "> Vote totals verified — no errors\n",
      "————————————————————————————————————————————————————————————\n",
      "Loading State Senate Dist 47.csv data...\n",
      " > Found data for 4 counties (3%)\n",
      "Verifying vote totals...\n"
     ]
    },
    {
     "data": {
      "application/vnd.jupyter.widget-view+json": {
       "model_id": "8cdb6a0a3b7943a5a128c901ebdb963a",
       "version_major": 2,
       "version_minor": 0
      },
      "text/plain": [
       "HBox(children=(HTML(value=''), FloatProgress(value=0.0, max=2.0), HTML(value='')))"
      ]
     },
     "metadata": {},
     "output_type": "display_data"
    },
    {
     "name": "stdout",
     "output_type": "stream",
     "text": [
      "\n",
      "> Vote totals verified — no errors\n",
      "————————————————————————————————————————————————————————————\n",
      "Loading Lakeland City Council Post 1 - Special.csv data...\n",
      " > Found data for 1 counties (1%)\n",
      "Verifying vote totals...\n"
     ]
    },
    {
     "data": {
      "application/vnd.jupyter.widget-view+json": {
       "model_id": "d01bf286d47e46eb9246e214b868bd0c",
       "version_major": 2,
       "version_minor": 0
      },
      "text/plain": [
       "HBox(children=(HTML(value=''), FloatProgress(value=0.0, max=7.0), HTML(value='')))"
      ]
     },
     "metadata": {},
     "output_type": "display_data"
    },
    {
     "name": "stdout",
     "output_type": "stream",
     "text": [
      "\n",
      "> Vote totals verified — no errors\n",
      "————————————————————————————————————————————————————————————\n",
      "Loading State House Dist 153.csv data...\n",
      " > Found data for 1 counties (1%)\n",
      "Verifying vote totals...\n"
     ]
    },
    {
     "data": {
      "application/vnd.jupyter.widget-view+json": {
       "model_id": "b3384c531dd440df981b31dd768ad1f0",
       "version_major": 2,
       "version_minor": 0
      },
      "text/plain": [
       "HBox(children=(HTML(value=''), FloatProgress(value=0.0, max=1.0), HTML(value='')))"
      ]
     },
     "metadata": {},
     "output_type": "display_data"
    },
    {
     "name": "stdout",
     "output_type": "stream",
     "text": [
      "\n",
      "> Vote totals verified — no errors\n",
      "————————————————————————————————————————————————————————————\n",
      "Loading Dist Attorney - Chattahoochee.csv data...\n",
      " > Found data for 6 counties (4%)\n",
      "Verifying vote totals...\n"
     ]
    },
    {
     "data": {
      "application/vnd.jupyter.widget-view+json": {
       "model_id": "14d8a272a4ca45ba824526d50e300da7",
       "version_major": 2,
       "version_minor": 0
      },
      "text/plain": [
       "HBox(children=(HTML(value=''), FloatProgress(value=0.0, max=1.0), HTML(value='')))"
      ]
     },
     "metadata": {},
     "output_type": "display_data"
    },
    {
     "name": "stdout",
     "output_type": "stream",
     "text": [
      "\n",
      "> Vote totals verified — no errors\n",
      "————————————————————————————————————————————————————————————\n",
      "Loading State House Dist 154.csv data...\n",
      " > Found data for 4 counties (3%)\n",
      "Verifying vote totals...\n"
     ]
    },
    {
     "data": {
      "application/vnd.jupyter.widget-view+json": {
       "model_id": "87752ce56b174946b1f4eeba277a97e7",
       "version_major": 2,
       "version_minor": 0
      },
      "text/plain": [
       "HBox(children=(HTML(value=''), FloatProgress(value=0.0, max=1.0), HTML(value='')))"
      ]
     },
     "metadata": {},
     "output_type": "display_data"
    },
    {
     "name": "stdout",
     "output_type": "stream",
     "text": [
      "\n",
      "> Vote totals verified — no errors\n",
      "————————————————————————————————————————————————————————————\n",
      "Loading State House Dist 42.csv data...\n",
      " > Found data for 1 counties (1%)\n",
      "Verifying vote totals...\n"
     ]
    },
    {
     "data": {
      "application/vnd.jupyter.widget-view+json": {
       "model_id": "0743bcd865194a91beb996502878762a",
       "version_major": 2,
       "version_minor": 0
      },
      "text/plain": [
       "HBox(children=(HTML(value=''), FloatProgress(value=0.0, max=1.0), HTML(value='')))"
      ]
     },
     "metadata": {},
     "output_type": "display_data"
    },
    {
     "name": "stdout",
     "output_type": "stream",
     "text": [
      "\n",
      "> Vote totals verified — no errors\n",
      "————————————————————————————————————————————————————————————\n",
      "Loading Solicitor of State Court.csv data...\n",
      " > Found data for 2 counties (1%)\n",
      "Verifying vote totals...\n"
     ]
    },
    {
     "data": {
      "application/vnd.jupyter.widget-view+json": {
       "model_id": "a4d5d1a44f9a4a8f923cc56d84250560",
       "version_major": 2,
       "version_minor": 0
      },
      "text/plain": [
       "HBox(children=(HTML(value=''), FloatProgress(value=0.0, max=2.0), HTML(value='')))"
      ]
     },
     "metadata": {},
     "output_type": "display_data"
    },
    {
     "name": "stdout",
     "output_type": "stream",
     "text": [
      "\n",
      "> Vote totals verified — no errors\n",
      "————————————————————————————————————————————————————————————\n",
      "Loading State Senate Dist 22.csv data...\n",
      " > Found data for 1 counties (1%)\n",
      "Verifying vote totals...\n"
     ]
    },
    {
     "data": {
      "application/vnd.jupyter.widget-view+json": {
       "model_id": "a99ae7029df345c28be34a4b996ad782",
       "version_major": 2,
       "version_minor": 0
      },
      "text/plain": [
       "HBox(children=(HTML(value=''), FloatProgress(value=0.0, max=1.0), HTML(value='')))"
      ]
     },
     "metadata": {},
     "output_type": "display_data"
    },
    {
     "name": "stdout",
     "output_type": "stream",
     "text": [
      "\n",
      "> Vote totals verified — no errors\n",
      "————————————————————————————————————————————————————————————\n",
      "Loading State House Dist 162.csv data...\n",
      " > Found data for 1 counties (1%)\n",
      "Verifying vote totals...\n"
     ]
    },
    {
     "data": {
      "application/vnd.jupyter.widget-view+json": {
       "model_id": "5280e22d38ee422992d9b86a3ff22d43",
       "version_major": 2,
       "version_minor": 0
      },
      "text/plain": [
       "HBox(children=(HTML(value=''), FloatProgress(value=0.0, max=1.0), HTML(value='')))"
      ]
     },
     "metadata": {},
     "output_type": "display_data"
    },
    {
     "name": "stdout",
     "output_type": "stream",
     "text": [
      "\n",
      "> Vote totals verified — no errors\n",
      "————————————————————————————————————————————————————————————\n",
      "Loading State House Dist 64.csv data...\n",
      " > Found data for 2 counties (1%)\n",
      "Verifying vote totals...\n"
     ]
    },
    {
     "data": {
      "application/vnd.jupyter.widget-view+json": {
       "model_id": "898c4b1d47d34461a57c261bc45b0c95",
       "version_major": 2,
       "version_minor": 0
      },
      "text/plain": [
       "HBox(children=(HTML(value=''), FloatProgress(value=0.0, max=1.0), HTML(value='')))"
      ]
     },
     "metadata": {},
     "output_type": "display_data"
    },
    {
     "name": "stdout",
     "output_type": "stream",
     "text": [
      "\n",
      "> Vote totals verified — no errors\n",
      "————————————————————————————————————————————————————————————\n",
      "Loading State House Dist 113.csv data...\n",
      " > Found data for 2 counties (1%)\n",
      "Verifying vote totals...\n"
     ]
    },
    {
     "data": {
      "application/vnd.jupyter.widget-view+json": {
       "model_id": "66bae5b2f61845028e631818581aa73c",
       "version_major": 2,
       "version_minor": 0
      },
      "text/plain": [
       "HBox(children=(HTML(value=''), FloatProgress(value=0.0, max=1.0), HTML(value='')))"
      ]
     },
     "metadata": {},
     "output_type": "display_data"
    },
    {
     "name": "stdout",
     "output_type": "stream",
     "text": [
      "\n",
      "> Vote totals verified — no errors\n",
      "————————————————————————————————————————————————————————————\n",
      "Loading State House Dist 169.csv data...\n",
      " > Found data for 3 counties (2%)\n",
      "Verifying vote totals...\n"
     ]
    },
    {
     "data": {
      "application/vnd.jupyter.widget-view+json": {
       "model_id": "eac8290489434141b91ba3858ae962d4",
       "version_major": 2,
       "version_minor": 0
      },
      "text/plain": [
       "HBox(children=(HTML(value=''), FloatProgress(value=0.0, max=2.0), HTML(value='')))"
      ]
     },
     "metadata": {},
     "output_type": "display_data"
    },
    {
     "name": "stdout",
     "output_type": "stream",
     "text": [
      "\n",
      "> Vote totals verified — no errors\n",
      "————————————————————————————————————————————————————————————\n",
      "Loading State House Dist 60.csv data...\n",
      " > Found data for 2 counties (1%)\n",
      "Verifying vote totals...\n"
     ]
    },
    {
     "data": {
      "application/vnd.jupyter.widget-view+json": {
       "model_id": "e6312c1c9b9742339b4f8e0598688472",
       "version_major": 2,
       "version_minor": 0
      },
      "text/plain": [
       "HBox(children=(HTML(value=''), FloatProgress(value=0.0, max=1.0), HTML(value='')))"
      ]
     },
     "metadata": {},
     "output_type": "display_data"
    },
    {
     "name": "stdout",
     "output_type": "stream",
     "text": [
      "\n",
      "> Vote totals verified — no errors\n",
      "————————————————————————————————————————————————————————————\n",
      "Loading State House Dist 43.csv data...\n",
      " > Found data for 1 counties (1%)\n",
      "Verifying vote totals...\n"
     ]
    },
    {
     "data": {
      "application/vnd.jupyter.widget-view+json": {
       "model_id": "e15e37c0636c4cc99f4ec6f075cc591f",
       "version_major": 2,
       "version_minor": 0
      },
      "text/plain": [
       "HBox(children=(HTML(value=''), FloatProgress(value=0.0, max=2.0), HTML(value='')))"
      ]
     },
     "metadata": {},
     "output_type": "display_data"
    },
    {
     "name": "stdout",
     "output_type": "stream",
     "text": [
      "\n",
      "> Vote totals verified — no errors\n",
      "————————————————————————————————————————————————————————————\n",
      "Loading Gwinnett County Soil and Water.csv data...\n",
      " > Found data for 1 counties (1%)\n",
      "Verifying vote totals...\n"
     ]
    },
    {
     "data": {
      "application/vnd.jupyter.widget-view+json": {
       "model_id": "faf245d5df4a47e8a0a1a06ebb0cdbab",
       "version_major": 2,
       "version_minor": 0
      },
      "text/plain": [
       "HBox(children=(HTML(value=''), FloatProgress(value=0.0, max=3.0), HTML(value='')))"
      ]
     },
     "metadata": {},
     "output_type": "display_data"
    },
    {
     "name": "stdout",
     "output_type": "stream",
     "text": [
      "\n",
      "> Vote totals verified — no errors\n",
      "————————————————————————————————————————————————————————————\n",
      "Loading State House Dist 80.csv data...\n",
      " > Found data for 2 counties (1%)\n",
      "Verifying vote totals...\n"
     ]
    },
    {
     "data": {
      "application/vnd.jupyter.widget-view+json": {
       "model_id": "7367a9116066467297a4b29bcfff88dc",
       "version_major": 2,
       "version_minor": 0
      },
      "text/plain": [
       "HBox(children=(HTML(value=''), FloatProgress(value=0.0, max=2.0), HTML(value='')))"
      ]
     },
     "metadata": {},
     "output_type": "display_data"
    },
    {
     "name": "stdout",
     "output_type": "stream",
     "text": [
      "\n",
      "> Vote totals verified — no errors\n",
      "————————————————————————————————————————————————————————————\n",
      "Loading State House Dist 5.csv data...\n",
      " > Found data for 2 counties (1%)\n",
      "Verifying vote totals...\n"
     ]
    },
    {
     "data": {
      "application/vnd.jupyter.widget-view+json": {
       "model_id": "97664ee80049492ab61fc4066b374afe",
       "version_major": 2,
       "version_minor": 0
      },
      "text/plain": [
       "HBox(children=(HTML(value=''), FloatProgress(value=0.0, max=1.0), HTML(value='')))"
      ]
     },
     "metadata": {},
     "output_type": "display_data"
    },
    {
     "name": "stdout",
     "output_type": "stream",
     "text": [
      "\n",
      "> Vote totals verified — no errors\n",
      "————————————————————————————————————————————————————————————\n",
      "Loading State House Dist 139.csv data...\n",
      " > Found data for 4 counties (3%)\n",
      "Verifying vote totals...\n"
     ]
    },
    {
     "data": {
      "application/vnd.jupyter.widget-view+json": {
       "model_id": "971fa43df74441648ca155889e38e3ac",
       "version_major": 2,
       "version_minor": 0
      },
      "text/plain": [
       "HBox(children=(HTML(value=''), FloatProgress(value=0.0, max=1.0), HTML(value='')))"
      ]
     },
     "metadata": {},
     "output_type": "display_data"
    },
    {
     "name": "stdout",
     "output_type": "stream",
     "text": [
      "\n",
      "> Vote totals verified — no errors\n",
      "————————————————————————————————————————————————————————————\n",
      "Loading Fluoride in County Water System - Special.csv data...\n",
      " > Found data for 1 counties (1%)\n",
      "Verifying vote totals...\n"
     ]
    },
    {
     "data": {
      "application/vnd.jupyter.widget-view+json": {
       "model_id": "e0c1f7fa4ece4576b2f3377ca8632b1f",
       "version_major": 2,
       "version_minor": 0
      },
      "text/plain": [
       "HBox(children=(HTML(value=''), FloatProgress(value=0.0, max=2.0), HTML(value='')))"
      ]
     },
     "metadata": {},
     "output_type": "display_data"
    },
    {
     "name": "stdout",
     "output_type": "stream",
     "text": [
      "\n",
      "> Vote totals verified — no errors\n",
      "————————————————————————————————————————————————————————————\n",
      "Loading Soil and Water - Lamar County.csv data...\n",
      " > Found data for 1 counties (1%)\n",
      "Verifying vote totals...\n"
     ]
    },
    {
     "data": {
      "application/vnd.jupyter.widget-view+json": {
       "model_id": "f01b92a0ae5f4584b5aedeebffa040f4",
       "version_major": 2,
       "version_minor": 0
      },
      "text/plain": [
       "HBox(children=(HTML(value=''), FloatProgress(value=0.0, max=2.0), HTML(value='')))"
      ]
     },
     "metadata": {},
     "output_type": "display_data"
    },
    {
     "name": "stdout",
     "output_type": "stream",
     "text": [
      "\n",
      "> Vote totals verified — no errors\n",
      "————————————————————————————————————————————————————————————\n",
      "Loading State House Dist 159.csv data...\n",
      " > Found data for 3 counties (2%)\n",
      "Verifying vote totals...\n"
     ]
    },
    {
     "data": {
      "application/vnd.jupyter.widget-view+json": {
       "model_id": "877d77cb8e1640cfac41ff5d92ec192c",
       "version_major": 2,
       "version_minor": 0
      },
      "text/plain": [
       "HBox(children=(HTML(value=''), FloatProgress(value=0.0, max=1.0), HTML(value='')))"
      ]
     },
     "metadata": {},
     "output_type": "display_data"
    },
    {
     "name": "stdout",
     "output_type": "stream",
     "text": [
      "\n",
      "> Vote totals verified — no errors\n",
      "————————————————————————————————————————————————————————————\n",
      "Loading Dist Attorney - Eastern.csv data...\n",
      " > Found data for 1 counties (1%)\n",
      "Verifying vote totals...\n"
     ]
    },
    {
     "data": {
      "application/vnd.jupyter.widget-view+json": {
       "model_id": "3fb0083e301e4798bcaf5161c73c8858",
       "version_major": 2,
       "version_minor": 0
      },
      "text/plain": [
       "HBox(children=(HTML(value=''), FloatProgress(value=0.0, max=2.0), HTML(value='')))"
      ]
     },
     "metadata": {},
     "output_type": "display_data"
    },
    {
     "name": "stdout",
     "output_type": "stream",
     "text": [
      "\n",
      "> Vote totals verified — no errors\n",
      "————————————————————————————————————————————————————————————\n",
      "Loading Soil and Water - Fulton County.csv data...\n",
      " > Found data for 1 counties (1%)\n",
      "Verifying vote totals...\n"
     ]
    },
    {
     "data": {
      "application/vnd.jupyter.widget-view+json": {
       "model_id": "146aadc02e5541f7bb944841289bab85",
       "version_major": 2,
       "version_minor": 0
      },
      "text/plain": [
       "HBox(children=(HTML(value=''), FloatProgress(value=0.0, max=1.0), HTML(value='')))"
      ]
     },
     "metadata": {},
     "output_type": "display_data"
    },
    {
     "name": "stdout",
     "output_type": "stream",
     "text": [
      "\n",
      "> Vote totals verified — no errors\n",
      "————————————————————————————————————————————————————————————\n",
      "Loading Dist Attorney - Middle.csv data...\n",
      " > Found data for 5 counties (3%)\n",
      "Verifying vote totals...\n"
     ]
    },
    {
     "data": {
      "application/vnd.jupyter.widget-view+json": {
       "model_id": "fc3c6623d6314d2d881831e9ab696683",
       "version_major": 2,
       "version_minor": 0
      },
      "text/plain": [
       "HBox(children=(HTML(value=''), FloatProgress(value=0.0, max=1.0), HTML(value='')))"
      ]
     },
     "metadata": {},
     "output_type": "display_data"
    },
    {
     "name": "stdout",
     "output_type": "stream",
     "text": [
      "\n",
      "> Vote totals verified — no errors\n",
      "————————————————————————————————————————————————————————————\n",
      "Loading County Commission Anna Dist.csv data...\n",
      " > Found data for 1 counties (1%)\n",
      "Verifying vote totals...\n"
     ]
    },
    {
     "data": {
      "application/vnd.jupyter.widget-view+json": {
       "model_id": "40d76e65dbd243f683412ee6f5307fb5",
       "version_major": 2,
       "version_minor": 0
      },
      "text/plain": [
       "HBox(children=(HTML(value=''), FloatProgress(value=0.0, max=1.0), HTML(value='')))"
      ]
     },
     "metadata": {},
     "output_type": "display_data"
    },
    {
     "name": "stdout",
     "output_type": "stream",
     "text": [
      "\n",
      "> Vote totals verified — no errors\n",
      "————————————————————————————————————————————————————————————\n",
      "Loading State House Dist 165.csv data...\n",
      " > Found data for 1 counties (1%)\n",
      "Verifying vote totals...\n"
     ]
    },
    {
     "data": {
      "application/vnd.jupyter.widget-view+json": {
       "model_id": "86bb712513f5430dbfae47c8c94f7b6b",
       "version_major": 2,
       "version_minor": 0
      },
      "text/plain": [
       "HBox(children=(HTML(value=''), FloatProgress(value=0.0, max=1.0), HTML(value='')))"
      ]
     },
     "metadata": {},
     "output_type": "display_data"
    },
    {
     "name": "stdout",
     "output_type": "stream",
     "text": [
      "\n",
      "> Vote totals verified — no errors\n",
      "————————————————————————————————————————————————————————————\n",
      "Loading Board of Education At Large - West Crisp.csv data...\n",
      " > Found data for 1 counties (1%)\n",
      "Verifying vote totals...\n"
     ]
    },
    {
     "data": {
      "application/vnd.jupyter.widget-view+json": {
       "model_id": "8c96cca0789f4a24ae643578b0abac43",
       "version_major": 2,
       "version_minor": 0
      },
      "text/plain": [
       "HBox(children=(HTML(value=''), FloatProgress(value=0.0, max=1.0), HTML(value='')))"
      ]
     },
     "metadata": {},
     "output_type": "display_data"
    },
    {
     "name": "stdout",
     "output_type": "stream",
     "text": [
      "\n",
      "> Vote totals verified — no errors\n",
      "————————————————————————————————————————————————————————————\n",
      "Loading Monroe Councilmember Dist 6 - Special.csv data...\n",
      " > Found data for 1 counties (1%)\n",
      "Verifying vote totals...\n"
     ]
    },
    {
     "data": {
      "application/vnd.jupyter.widget-view+json": {
       "model_id": "538adc36de2a49fb9f633cec0193ba60",
       "version_major": 2,
       "version_minor": 0
      },
      "text/plain": [
       "HBox(children=(HTML(value=''), FloatProgress(value=0.0, max=2.0), HTML(value='')))"
      ]
     },
     "metadata": {},
     "output_type": "display_data"
    },
    {
     "name": "stdout",
     "output_type": "stream",
     "text": [
      "\n",
      "> Vote totals verified — no errors\n",
      "————————————————————————————————————————————————————————————\n",
      "Loading South Jackson Fire Advisory Board Post 3.csv data...\n",
      " > Found data for 1 counties (1%)\n",
      "Verifying vote totals...\n"
     ]
    },
    {
     "data": {
      "application/vnd.jupyter.widget-view+json": {
       "model_id": "8a05c96a7d004c66a6f38cdb8633e3c0",
       "version_major": 2,
       "version_minor": 0
      },
      "text/plain": [
       "HBox(children=(HTML(value=''), FloatProgress(value=0.0, max=1.0), HTML(value='')))"
      ]
     },
     "metadata": {},
     "output_type": "display_data"
    },
    {
     "name": "stdout",
     "output_type": "stream",
     "text": [
      "\n",
      "> Vote totals verified — no errors\n",
      "————————————————————————————————————————————————————————————\n",
      "Loading State House Dist 68.csv data...\n",
      " > Found data for 2 counties (1%)\n",
      "Verifying vote totals...\n"
     ]
    },
    {
     "data": {
      "application/vnd.jupyter.widget-view+json": {
       "model_id": "3af83342ee8341419f98531721f76463",
       "version_major": 2,
       "version_minor": 0
      },
      "text/plain": [
       "HBox(children=(HTML(value=''), FloatProgress(value=0.0, max=1.0), HTML(value='')))"
      ]
     },
     "metadata": {},
     "output_type": "display_data"
    },
    {
     "name": "stdout",
     "output_type": "stream",
     "text": [
      "\n",
      "> Vote totals verified — no errors\n",
      "————————————————————————————————————————————————————————————\n",
      "Loading State House Dist 171.csv data...\n",
      " > Found data for 3 counties (2%)\n",
      "Verifying vote totals...\n"
     ]
    },
    {
     "data": {
      "application/vnd.jupyter.widget-view+json": {
       "model_id": "22d1bc5da6b44371b115063d28a8d53c",
       "version_major": 2,
       "version_minor": 0
      },
      "text/plain": [
       "HBox(children=(HTML(value=''), FloatProgress(value=0.0, max=1.0), HTML(value='')))"
      ]
     },
     "metadata": {},
     "output_type": "display_data"
    },
    {
     "name": "stdout",
     "output_type": "stream",
     "text": [
      "\n",
      "> Vote totals verified — no errors\n",
      "————————————————————————————————————————————————————————————\n",
      "Loading Soil and Water - Columbia County.csv data...\n",
      " > Found data for 1 counties (1%)\n",
      "Verifying vote totals...\n"
     ]
    },
    {
     "data": {
      "application/vnd.jupyter.widget-view+json": {
       "model_id": "2a3e0c16cad542b697e09e16976816b7",
       "version_major": 2,
       "version_minor": 0
      },
      "text/plain": [
       "HBox(children=(HTML(value=''), FloatProgress(value=0.0, max=1.0), HTML(value='')))"
      ]
     },
     "metadata": {},
     "output_type": "display_data"
    },
    {
     "name": "stdout",
     "output_type": "stream",
     "text": [
      "\n",
      "> Vote totals verified — no errors\n",
      "————————————————————————————————————————————————————————————\n",
      "Loading Harrisburg Fire Advisory Board Post 7.csv data...\n",
      " > Found data for 1 counties (1%)\n",
      "Verifying vote totals...\n"
     ]
    },
    {
     "data": {
      "application/vnd.jupyter.widget-view+json": {
       "model_id": "043ed326416b4ea48114894b7167dd00",
       "version_major": 2,
       "version_minor": 0
      },
      "text/plain": [
       "HBox(children=(HTML(value=''), FloatProgress(value=0.0, max=1.0), HTML(value='')))"
      ]
     },
     "metadata": {},
     "output_type": "display_data"
    },
    {
     "name": "stdout",
     "output_type": "stream",
     "text": [
      "\n",
      "> Vote totals verified — no errors\n",
      "————————————————————————————————————————————————————————————\n",
      "Loading State House Dist 81.csv data...\n",
      " > Found data for 2 counties (1%)\n",
      "Verifying vote totals...\n"
     ]
    },
    {
     "data": {
      "application/vnd.jupyter.widget-view+json": {
       "model_id": "9c82d406c7d64d4f9eb1e78e0da49df1",
       "version_major": 2,
       "version_minor": 0
      },
      "text/plain": [
       "HBox(children=(HTML(value=''), FloatProgress(value=0.0, max=1.0), HTML(value='')))"
      ]
     },
     "metadata": {},
     "output_type": "display_data"
    },
    {
     "name": "stdout",
     "output_type": "stream",
     "text": [
      "\n",
      "> Vote totals verified — no errors\n",
      "————————————————————————————————————————————————————————————\n",
      "Loading State House Dist 148.csv data...\n",
      " > Found data for 4 counties (3%)\n",
      "Verifying vote totals...\n"
     ]
    },
    {
     "data": {
      "application/vnd.jupyter.widget-view+json": {
       "model_id": "351704e5d46e482bb1ab00a541906ac1",
       "version_major": 2,
       "version_minor": 0
      },
      "text/plain": [
       "HBox(children=(HTML(value=''), FloatProgress(value=0.0, max=2.0), HTML(value='')))"
      ]
     },
     "metadata": {},
     "output_type": "display_data"
    },
    {
     "name": "stdout",
     "output_type": "stream",
     "text": [
      "\n",
      "> Vote totals verified — no errors\n",
      "————————————————————————————————————————————————————————————\n",
      "Loading State House Dist 65.csv data...\n",
      " > Found data for 2 counties (1%)\n",
      "Verifying vote totals...\n"
     ]
    },
    {
     "data": {
      "application/vnd.jupyter.widget-view+json": {
       "model_id": "b965c959097d4d879193bb908eac08bb",
       "version_major": 2,
       "version_minor": 0
      },
      "text/plain": [
       "HBox(children=(HTML(value=''), FloatProgress(value=0.0, max=1.0), HTML(value='')))"
      ]
     },
     "metadata": {},
     "output_type": "display_data"
    },
    {
     "name": "stdout",
     "output_type": "stream",
     "text": [
      "\n",
      "> Vote totals verified — no errors\n",
      "————————————————————————————————————————————————————————————\n",
      "Loading State House Dist 71.csv data...\n",
      " > Found data for 2 counties (1%)\n",
      "Verifying vote totals...\n"
     ]
    },
    {
     "data": {
      "application/vnd.jupyter.widget-view+json": {
       "model_id": "982195e5e1154752ae65e78d0434a23f",
       "version_major": 2,
       "version_minor": 0
      },
      "text/plain": [
       "HBox(children=(HTML(value=''), FloatProgress(value=0.0, max=3.0), HTML(value='')))"
      ]
     },
     "metadata": {},
     "output_type": "display_data"
    },
    {
     "name": "stdout",
     "output_type": "stream",
     "text": [
      "\n",
      "> Vote totals verified — no errors\n",
      "————————————————————————————————————————————————————————————\n",
      "Loading State House Dist 155.csv data...\n",
      " > Found data for 5 counties (3%)\n",
      "Verifying vote totals...\n"
     ]
    },
    {
     "data": {
      "application/vnd.jupyter.widget-view+json": {
       "model_id": "282ec17e5d1343338cc68facbf554aee",
       "version_major": 2,
       "version_minor": 0
      },
      "text/plain": [
       "HBox(children=(HTML(value=''), FloatProgress(value=0.0, max=2.0), HTML(value='')))"
      ]
     },
     "metadata": {},
     "output_type": "display_data"
    },
    {
     "name": "stdout",
     "output_type": "stream",
     "text": [
      "\n",
      "> Vote totals verified — no errors\n",
      "————————————————————————————————————————————————————————————\n",
      "Loading State Senate Dist 42.csv data...\n",
      " > Found data for 1 counties (1%)\n",
      "Verifying vote totals...\n"
     ]
    },
    {
     "data": {
      "application/vnd.jupyter.widget-view+json": {
       "model_id": "9ac33bafee5f4335b80d39bc208e137b",
       "version_major": 2,
       "version_minor": 0
      },
      "text/plain": [
       "HBox(children=(HTML(value=''), FloatProgress(value=0.0, max=1.0), HTML(value='')))"
      ]
     },
     "metadata": {},
     "output_type": "display_data"
    },
    {
     "name": "stdout",
     "output_type": "stream",
     "text": [
      "\n",
      "> Vote totals verified — no errors\n",
      "————————————————————————————————————————————————————————————\n",
      "Loading County Commission Dist 5.csv data...\n",
      " > Found data for 41 counties (26%)\n",
      "Verifying vote totals...\n"
     ]
    },
    {
     "data": {
      "application/vnd.jupyter.widget-view+json": {
       "model_id": "428ec4f9460e4bb2b04a47bf22807f4a",
       "version_major": 2,
       "version_minor": 0
      },
      "text/plain": [
       "HBox(children=(HTML(value=''), FloatProgress(value=0.0, max=50.0), HTML(value='')))"
      ]
     },
     "metadata": {},
     "output_type": "display_data"
    },
    {
     "name": "stdout",
     "output_type": "stream",
     "text": [
      "\n",
      ">>> Vote totals verified — 0.00029 error rate\n",
      "————————————————————————————————————————————————————————————\n",
      "Loading State Senate Dist 14.csv data...\n",
      " > Found data for 3 counties (2%)\n",
      "Verifying vote totals...\n"
     ]
    },
    {
     "data": {
      "application/vnd.jupyter.widget-view+json": {
       "model_id": "36b34bce012a4c2496112c35880aaf38",
       "version_major": 2,
       "version_minor": 0
      },
      "text/plain": [
       "HBox(children=(HTML(value=''), FloatProgress(value=0.0, max=2.0), HTML(value='')))"
      ]
     },
     "metadata": {},
     "output_type": "display_data"
    },
    {
     "name": "stdout",
     "output_type": "stream",
     "text": [
      "\n",
      "> Vote totals verified — no errors\n",
      "————————————————————————————————————————————————————————————\n",
      "Loading Board of Education Dist 6.csv data...\n",
      " > Found data for 8 counties (5%)\n",
      "Verifying vote totals...\n"
     ]
    },
    {
     "data": {
      "application/vnd.jupyter.widget-view+json": {
       "model_id": "a8429b2f1deb419fb4366c2439c1d8bc",
       "version_major": 2,
       "version_minor": 0
      },
      "text/plain": [
       "HBox(children=(HTML(value=''), FloatProgress(value=0.0, max=8.0), HTML(value='')))"
      ]
     },
     "metadata": {},
     "output_type": "display_data"
    },
    {
     "name": "stdout",
     "output_type": "stream",
     "text": [
      "\n",
      "> Vote totals verified — no errors\n",
      "————————————————————————————————————————————————————————————\n",
      "Loading Watkinsville City Council Post 3.csv data...\n",
      " > Found data for 1 counties (1%)\n",
      "Verifying vote totals...\n"
     ]
    },
    {
     "data": {
      "application/vnd.jupyter.widget-view+json": {
       "model_id": "6a993b321ec2455285fbb553024cb6f3",
       "version_major": 2,
       "version_minor": 0
      },
      "text/plain": [
       "HBox(children=(HTML(value=''), FloatProgress(value=0.0, max=2.0), HTML(value='')))"
      ]
     },
     "metadata": {},
     "output_type": "display_data"
    },
    {
     "name": "stdout",
     "output_type": "stream",
     "text": [
      "\n",
      "> Vote totals verified — no errors\n",
      "————————————————————————————————————————————————————————————\n",
      "Loading State House Dist 3.csv data...\n",
      " > Found data for 1 counties (1%)\n",
      "Verifying vote totals...\n"
     ]
    },
    {
     "data": {
      "application/vnd.jupyter.widget-view+json": {
       "model_id": "6c47c26b2d2c4600a75eed5538fd90f9",
       "version_major": 2,
       "version_minor": 0
      },
      "text/plain": [
       "HBox(children=(HTML(value=''), FloatProgress(value=0.0, max=1.0), HTML(value='')))"
      ]
     },
     "metadata": {},
     "output_type": "display_data"
    },
    {
     "name": "stdout",
     "output_type": "stream",
     "text": [
      "\n",
      "> Vote totals verified — no errors\n",
      "————————————————————————————————————————————————————————————\n",
      "Loading Soil and Water - DeKalb County.csv data...\n",
      " > Found data for 1 counties (1%)\n",
      "Verifying vote totals...\n"
     ]
    },
    {
     "data": {
      "application/vnd.jupyter.widget-view+json": {
       "model_id": "0d85ed5fb47d4ce3a90951307282d6c2",
       "version_major": 2,
       "version_minor": 0
      },
      "text/plain": [
       "HBox(children=(HTML(value=''), FloatProgress(value=0.0, max=1.0), HTML(value='')))"
      ]
     },
     "metadata": {},
     "output_type": "display_data"
    },
    {
     "name": "stdout",
     "output_type": "stream",
     "text": [
      "\n",
      "> Vote totals verified — no errors\n",
      "————————————————————————————————————————————————————————————\n",
      "Loading State House Dist 167.csv data...\n",
      " > Found data for 3 counties (2%)\n",
      "Verifying vote totals...\n"
     ]
    },
    {
     "data": {
      "application/vnd.jupyter.widget-view+json": {
       "model_id": "47ecc897bc4f4e2c86ca4b2ff683f7e6",
       "version_major": 2,
       "version_minor": 0
      },
      "text/plain": [
       "HBox(children=(HTML(value=''), FloatProgress(value=0.0, max=1.0), HTML(value='')))"
      ]
     },
     "metadata": {},
     "output_type": "display_data"
    },
    {
     "name": "stdout",
     "output_type": "stream",
     "text": [
      "\n",
      "> Vote totals verified — no errors\n",
      "————————————————————————————————————————————————————————————\n",
      "Loading Board of Education Precinct 5.csv data...\n",
      " > Found data for 1 counties (1%)\n",
      "Verifying vote totals...\n"
     ]
    },
    {
     "data": {
      "application/vnd.jupyter.widget-view+json": {
       "model_id": "dcfda49e15d44eaeb82ccd29e62f5cf8",
       "version_major": 2,
       "version_minor": 0
      },
      "text/plain": [
       "HBox(children=(HTML(value=''), FloatProgress(value=0.0, max=1.0), HTML(value='')))"
      ]
     },
     "metadata": {},
     "output_type": "display_data"
    },
    {
     "name": "stdout",
     "output_type": "stream",
     "text": [
      "\n",
      "> Vote totals verified — no errors\n",
      "————————————————————————————————————————————————————————————\n",
      "Loading Board of Education - Deweese.csv data...\n",
      " > Found data for 1 counties (1%)\n",
      "Verifying vote totals...\n"
     ]
    },
    {
     "data": {
      "application/vnd.jupyter.widget-view+json": {
       "model_id": "941eb577f80a42ceb2f4de2151ce41cd",
       "version_major": 2,
       "version_minor": 0
      },
      "text/plain": [
       "HBox(children=(HTML(value=''), FloatProgress(value=0.0, max=2.0), HTML(value='')))"
      ]
     },
     "metadata": {},
     "output_type": "display_data"
    },
    {
     "name": "stdout",
     "output_type": "stream",
     "text": [
      "\n",
      "> Vote totals verified — no errors\n",
      "————————————————————————————————————————————————————————————\n",
      "Loading Board of Education Precinct 3.csv data...\n",
      " > Found data for 1 counties (1%)\n",
      "Verifying vote totals...\n"
     ]
    },
    {
     "data": {
      "application/vnd.jupyter.widget-view+json": {
       "model_id": "6509bf2bf0f943cf839ad7e6ecfa5ecd",
       "version_major": 2,
       "version_minor": 0
      },
      "text/plain": [
       "HBox(children=(HTML(value=''), FloatProgress(value=0.0, max=1.0), HTML(value='')))"
      ]
     },
     "metadata": {},
     "output_type": "display_data"
    },
    {
     "name": "stdout",
     "output_type": "stream",
     "text": [
      "\n",
      "> Vote totals verified — no errors\n",
      "————————————————————————————————————————————————————————————\n",
      "Loading State Senate Dist 45.csv data...\n",
      " > Found data for 1 counties (1%)\n",
      "Verifying vote totals...\n"
     ]
    },
    {
     "data": {
      "application/vnd.jupyter.widget-view+json": {
       "model_id": "720e1a1bb0614d0a979320fc553ffa79",
       "version_major": 2,
       "version_minor": 0
      },
      "text/plain": [
       "HBox(children=(HTML(value=''), FloatProgress(value=0.0, max=2.0), HTML(value='')))"
      ]
     },
     "metadata": {},
     "output_type": "display_data"
    },
    {
     "name": "stdout",
     "output_type": "stream",
     "text": [
      "\n",
      "> Vote totals verified — no errors\n",
      "————————————————————————————————————————————————————————————\n",
      "Loading Worth County SPLOST - Special.csv data...\n",
      " > Found data for 1 counties (1%)\n",
      "Verifying vote totals...\n"
     ]
    },
    {
     "data": {
      "application/vnd.jupyter.widget-view+json": {
       "model_id": "bb02fbd4fbd94104bcfd5e5fd11f8214",
       "version_major": 2,
       "version_minor": 0
      },
      "text/plain": [
       "HBox(children=(HTML(value=''), FloatProgress(value=0.0, max=2.0), HTML(value='')))"
      ]
     },
     "metadata": {},
     "output_type": "display_data"
    },
    {
     "name": "stdout",
     "output_type": "stream",
     "text": [
      "\n",
      "> Vote totals verified — no errors\n",
      "————————————————————————————————————————————————————————————\n",
      "Loading Constitutional Amendment #2.csv data...\n",
      " > Found data for 159 counties (100%)\n",
      "Verifying vote totals...\n"
     ]
    },
    {
     "data": {
      "application/vnd.jupyter.widget-view+json": {
       "model_id": "205d0d6105494f70bed1a5f4393f1067",
       "version_major": 2,
       "version_minor": 0
      },
      "text/plain": [
       "HBox(children=(HTML(value=''), FloatProgress(value=0.0, max=2.0), HTML(value='')))"
      ]
     },
     "metadata": {},
     "output_type": "display_data"
    },
    {
     "name": "stdout",
     "output_type": "stream",
     "text": [
      "\n",
      "> Vote totals verified — no errors\n",
      "————————————————————————————————————————————————————————————\n",
      "Loading State Senate Dist 15.csv data...\n",
      " > Found data for 7 counties (4%)\n",
      "Verifying vote totals...\n"
     ]
    },
    {
     "data": {
      "application/vnd.jupyter.widget-view+json": {
       "model_id": "5451ef77e46b4b40aef72c7b55c49e98",
       "version_major": 2,
       "version_minor": 0
      },
      "text/plain": [
       "HBox(children=(HTML(value=''), FloatProgress(value=0.0, max=1.0), HTML(value='')))"
      ]
     },
     "metadata": {},
     "output_type": "display_data"
    },
    {
     "name": "stdout",
     "output_type": "stream",
     "text": [
      "\n",
      "> Vote totals verified — no errors\n",
      "————————————————————————————————————————————————————————————\n",
      "Loading County Commission Post 4.csv data...\n",
      " > Found data for 1 counties (1%)\n",
      "Verifying vote totals...\n"
     ]
    },
    {
     "data": {
      "application/vnd.jupyter.widget-view+json": {
       "model_id": "9535f24d761f485e820de0a3a9c7b61f",
       "version_major": 2,
       "version_minor": 0
      },
      "text/plain": [
       "HBox(children=(HTML(value=''), FloatProgress(value=0.0, max=1.0), HTML(value='')))"
      ]
     },
     "metadata": {},
     "output_type": "display_data"
    },
    {
     "name": "stdout",
     "output_type": "stream",
     "text": [
      "\n",
      "> Vote totals verified — no errors\n",
      "————————————————————————————————————————————————————————————\n",
      "Loading Dist Attorney - Alcovy.csv data...\n",
      " > Found data for 2 counties (1%)\n",
      "Verifying vote totals...\n"
     ]
    },
    {
     "data": {
      "application/vnd.jupyter.widget-view+json": {
       "model_id": "5a4ee1bc5a64459ab26e0b5c1840505b",
       "version_major": 2,
       "version_minor": 0
      },
      "text/plain": [
       "HBox(children=(HTML(value=''), FloatProgress(value=0.0, max=2.0), HTML(value='')))"
      ]
     },
     "metadata": {},
     "output_type": "display_data"
    },
    {
     "name": "stdout",
     "output_type": "stream",
     "text": [
      "\n",
      "> Vote totals verified — no errors\n",
      "————————————————————————————————————————————————————————————\n",
      "Loading East Jackson Fire Advisory Board Post 4.csv data...\n",
      " > Found data for 1 counties (1%)\n",
      "Verifying vote totals...\n"
     ]
    },
    {
     "data": {
      "application/vnd.jupyter.widget-view+json": {
       "model_id": "0b491a19c51342b7987f78e32fa52554",
       "version_major": 2,
       "version_minor": 0
      },
      "text/plain": [
       "HBox(children=(HTML(value=''), FloatProgress(value=0.0, max=1.0), HTML(value='')))"
      ]
     },
     "metadata": {},
     "output_type": "display_data"
    },
    {
     "name": "stdout",
     "output_type": "stream",
     "text": [
      "\n",
      "> Vote totals verified — no errors\n",
      "————————————————————————————————————————————————————————————\n",
      "Loading St. Marys City Council Post 6.csv data...\n",
      " > Found data for 1 counties (1%)\n",
      "Verifying vote totals...\n"
     ]
    },
    {
     "data": {
      "application/vnd.jupyter.widget-view+json": {
       "model_id": "5c2b9e570c5948cdb6648f7228a418e0",
       "version_major": 2,
       "version_minor": 0
      },
      "text/plain": [
       "HBox(children=(HTML(value=''), FloatProgress(value=0.0, max=3.0), HTML(value='')))"
      ]
     },
     "metadata": {},
     "output_type": "display_data"
    },
    {
     "name": "stdout",
     "output_type": "stream",
     "text": [
      "\n",
      "> Vote totals verified — no errors\n",
      "————————————————————————————————————————————————————————————\n",
      "Loading Board of Education Dist 2.csv data...\n",
      " > Found data for 32 counties (20%)\n",
      "Verifying vote totals...\n"
     ]
    },
    {
     "data": {
      "application/vnd.jupyter.widget-view+json": {
       "model_id": "f4b4b7fc243348d9a62a227e87801a42",
       "version_major": 2,
       "version_minor": 0
      },
      "text/plain": [
       "HBox(children=(HTML(value=''), FloatProgress(value=0.0, max=37.0), HTML(value='')))"
      ]
     },
     "metadata": {},
     "output_type": "display_data"
    },
    {
     "name": "stdout",
     "output_type": "stream",
     "text": [
      "\n",
      ">>> Vote totals verified — 0.00042 error rate\n",
      "————————————————————————————————————————————————————————————\n",
      "Loading County Commission Dist 4.csv data...\n",
      " > Found data for 63 counties (40%)\n",
      "Verifying vote totals...\n"
     ]
    },
    {
     "data": {
      "application/vnd.jupyter.widget-view+json": {
       "model_id": "d6f6acce22de44deb5ebae697f697f35",
       "version_major": 2,
       "version_minor": 0
      },
      "text/plain": [
       "HBox(children=(HTML(value=''), FloatProgress(value=0.0, max=74.0), HTML(value='')))"
      ]
     },
     "metadata": {},
     "output_type": "display_data"
    },
    {
     "name": "stdout",
     "output_type": "stream",
     "text": [
      "\n",
      ">>> Vote totals verified — 0.00041 error rate\n",
      "————————————————————————————————————————————————————————————\n",
      "Loading Dist Attorney - Alapaha.csv data...\n",
      " > Found data for 5 counties (3%)\n",
      "Verifying vote totals...\n"
     ]
    },
    {
     "data": {
      "application/vnd.jupyter.widget-view+json": {
       "model_id": "41ffa4a295944a249e1fae9255547100",
       "version_major": 2,
       "version_minor": 0
      },
      "text/plain": [
       "HBox(children=(HTML(value=''), FloatProgress(value=0.0, max=1.0), HTML(value='')))"
      ]
     },
     "metadata": {},
     "output_type": "display_data"
    },
    {
     "name": "stdout",
     "output_type": "stream",
     "text": [
      "\n",
      "> Vote totals verified — no errors\n",
      "————————————————————————————————————————————————————————————\n",
      "Loading Board of Education Post 2.csv data...\n",
      " > Found data for 3 counties (2%)\n",
      "Verifying vote totals...\n"
     ]
    },
    {
     "data": {
      "application/vnd.jupyter.widget-view+json": {
       "model_id": "5a8c4eb2b47a49df97efed3dfc87768e",
       "version_major": 2,
       "version_minor": 0
      },
      "text/plain": [
       "HBox(children=(HTML(value=''), FloatProgress(value=0.0, max=4.0), HTML(value='')))"
      ]
     },
     "metadata": {},
     "output_type": "display_data"
    },
    {
     "name": "stdout",
     "output_type": "stream",
     "text": [
      "\n",
      "> Vote totals verified — no errors\n",
      "————————————————————————————————————————————————————————————\n",
      "Loading State Senate Dist 34.csv data...\n",
      " > Found data for 2 counties (1%)\n",
      "Verifying vote totals...\n"
     ]
    },
    {
     "data": {
      "application/vnd.jupyter.widget-view+json": {
       "model_id": "99713bc645f14507a482776307341b29",
       "version_major": 2,
       "version_minor": 0
      },
      "text/plain": [
       "HBox(children=(HTML(value=''), FloatProgress(value=0.0, max=1.0), HTML(value='')))"
      ]
     },
     "metadata": {},
     "output_type": "display_data"
    },
    {
     "name": "stdout",
     "output_type": "stream",
     "text": [
      "\n",
      "> Vote totals verified — no errors\n",
      "————————————————————————————————————————————————————————————\n",
      "Loading State House Dist 63.csv data...\n",
      " > Found data for 3 counties (2%)\n",
      "Verifying vote totals...\n"
     ]
    },
    {
     "data": {
      "application/vnd.jupyter.widget-view+json": {
       "model_id": "634c5af30a6849b08644a7aae5ed634a",
       "version_major": 2,
       "version_minor": 0
      },
      "text/plain": [
       "HBox(children=(HTML(value=''), FloatProgress(value=0.0, max=2.0), HTML(value='')))"
      ]
     },
     "metadata": {},
     "output_type": "display_data"
    },
    {
     "name": "stdout",
     "output_type": "stream",
     "text": [
      "\n",
      "> Vote totals verified — no errors\n",
      "————————————————————————————————————————————————————————————\n",
      "Loading County Chairperson.csv data...\n",
      " > Found data for 1 counties (1%)\n",
      "Verifying vote totals...\n"
     ]
    },
    {
     "data": {
      "application/vnd.jupyter.widget-view+json": {
       "model_id": "2fcfa817650d44baab5152e0dfc37bd6",
       "version_major": 2,
       "version_minor": 0
      },
      "text/plain": [
       "HBox(children=(HTML(value=''), FloatProgress(value=0.0, max=2.0), HTML(value='')))"
      ]
     },
     "metadata": {},
     "output_type": "display_data"
    },
    {
     "name": "stdout",
     "output_type": "stream",
     "text": [
      "\n",
      "> Vote totals verified — no errors\n",
      "————————————————————————————————————————————————————————————\n",
      "Loading Board of Education Dist 3.csv data...\n",
      " > Found data for 33 counties (21%)\n",
      "Verifying vote totals...\n"
     ]
    },
    {
     "data": {
      "application/vnd.jupyter.widget-view+json": {
       "model_id": "98d598ab1e4e4b29afebf08027b294c6",
       "version_major": 2,
       "version_minor": 0
      },
      "text/plain": [
       "HBox(children=(HTML(value=''), FloatProgress(value=0.0, max=35.0), HTML(value='')))"
      ]
     },
     "metadata": {},
     "output_type": "display_data"
    },
    {
     "name": "stdout",
     "output_type": "stream",
     "text": [
      "\n",
      "> Vote totals verified — no errors\n",
      "————————————————————————————————————————————————————————————\n",
      "Loading West Jackson Fire Advisory Board Post 3.csv data...\n",
      " > Found data for 1 counties (1%)\n",
      "Verifying vote totals...\n"
     ]
    },
    {
     "data": {
      "application/vnd.jupyter.widget-view+json": {
       "model_id": "ddc2925ae0ae499093d5294f9ceb2d9d",
       "version_major": 2,
       "version_minor": 0
      },
      "text/plain": [
       "HBox(children=(HTML(value=''), FloatProgress(value=0.0, max=1.0), HTML(value='')))"
      ]
     },
     "metadata": {},
     "output_type": "display_data"
    },
    {
     "name": "stdout",
     "output_type": "stream",
     "text": [
      "\n",
      "> Vote totals verified — no errors\n",
      "————————————————————————————————————————————————————————————\n",
      "Loading County Commission Post 2.csv data...\n",
      " > Found data for 4 counties (3%)\n",
      "Verifying vote totals...\n"
     ]
    },
    {
     "data": {
      "application/vnd.jupyter.widget-view+json": {
       "model_id": "a2d54b8a4bd1427fabc09a8075fd5acc",
       "version_major": 2,
       "version_minor": 0
      },
      "text/plain": [
       "HBox(children=(HTML(value=''), FloatProgress(value=0.0, max=4.0), HTML(value='')))"
      ]
     },
     "metadata": {},
     "output_type": "display_data"
    },
    {
     "name": "stdout",
     "output_type": "stream",
     "text": [
      "\n",
      "> Vote totals verified — no errors\n",
      "————————————————————————————————————————————————————————————\n",
      "Loading State Senate Dist 44.csv data...\n",
      " > Found data for 2 counties (1%)\n",
      "Verifying vote totals...\n"
     ]
    },
    {
     "data": {
      "application/vnd.jupyter.widget-view+json": {
       "model_id": "bf480d3f85964c0bac006a7e654f9725",
       "version_major": 2,
       "version_minor": 0
      },
      "text/plain": [
       "HBox(children=(HTML(value=''), FloatProgress(value=0.0, max=2.0), HTML(value='')))"
      ]
     },
     "metadata": {},
     "output_type": "display_data"
    },
    {
     "name": "stdout",
     "output_type": "stream",
     "text": [
      "\n",
      "> Vote totals verified — no errors\n",
      "————————————————————————————————————————————————————————————\n",
      "Loading State House Dist 120.csv data...\n",
      " > Found data for 5 counties (3%)\n",
      "Verifying vote totals...\n"
     ]
    },
    {
     "data": {
      "application/vnd.jupyter.widget-view+json": {
       "model_id": "e2e6924758d74d7185d95c15f7f94545",
       "version_major": 2,
       "version_minor": 0
      },
      "text/plain": [
       "HBox(children=(HTML(value=''), FloatProgress(value=0.0, max=1.0), HTML(value='')))"
      ]
     },
     "metadata": {},
     "output_type": "display_data"
    },
    {
     "name": "stdout",
     "output_type": "stream",
     "text": [
      "\n",
      "> Vote totals verified — no errors\n",
      "————————————————————————————————————————————————————————————\n",
      "Loading State House Dist 37.csv data...\n",
      " > Found data for 1 counties (1%)\n",
      "Verifying vote totals...\n"
     ]
    },
    {
     "data": {
      "application/vnd.jupyter.widget-view+json": {
       "model_id": "7d8f413809064b39a0eafbfa8d37c8ae",
       "version_major": 2,
       "version_minor": 0
      },
      "text/plain": [
       "HBox(children=(HTML(value=''), FloatProgress(value=0.0, max=2.0), HTML(value='')))"
      ]
     },
     "metadata": {},
     "output_type": "display_data"
    },
    {
     "name": "stdout",
     "output_type": "stream",
     "text": [
      "\n",
      "> Vote totals verified — no errors\n",
      "————————————————————————————————————————————————————————————\n",
      "Loading State House Dist 35.csv data...\n",
      " > Found data for 1 counties (1%)\n",
      "Verifying vote totals...\n"
     ]
    },
    {
     "data": {
      "application/vnd.jupyter.widget-view+json": {
       "model_id": "fbeecc90b18747b491b3722928b80925",
       "version_major": 2,
       "version_minor": 0
      },
      "text/plain": [
       "HBox(children=(HTML(value=''), FloatProgress(value=0.0, max=2.0), HTML(value='')))"
      ]
     },
     "metadata": {},
     "output_type": "display_data"
    },
    {
     "name": "stdout",
     "output_type": "stream",
     "text": [
      "\n",
      "> Vote totals verified — no errors\n",
      "————————————————————————————————————————————————————————————\n",
      "Loading Surveyor.csv data...\n",
      " > Found data for 42 counties (26%)\n",
      "Verifying vote totals...\n"
     ]
    },
    {
     "data": {
      "application/vnd.jupyter.widget-view+json": {
       "model_id": "748bd4a4c8f84e048f7851f82cbf8f7a",
       "version_major": 2,
       "version_minor": 0
      },
      "text/plain": [
       "HBox(children=(HTML(value=''), FloatProgress(value=0.0, max=42.0), HTML(value='')))"
      ]
     },
     "metadata": {},
     "output_type": "display_data"
    },
    {
     "name": "stdout",
     "output_type": "stream",
     "text": [
      "\n",
      "> Vote totals verified — no errors\n",
      "————————————————————————————————————————————————————————————\n",
      "Loading State House Dist 33.csv data...\n",
      " > Found data for 5 counties (3%)\n",
      "Verifying vote totals...\n"
     ]
    },
    {
     "data": {
      "application/vnd.jupyter.widget-view+json": {
       "model_id": "174d9cadfdad45c6881b7fb539e036ff",
       "version_major": 2,
       "version_minor": 0
      },
      "text/plain": [
       "HBox(children=(HTML(value=''), FloatProgress(value=0.0, max=2.0), HTML(value='')))"
      ]
     },
     "metadata": {},
     "output_type": "display_data"
    },
    {
     "name": "stdout",
     "output_type": "stream",
     "text": [
      "\n",
      "> Vote totals verified — no errors\n",
      "————————————————————————————————————————————————————————————\n",
      "Loading State House Dist 16.csv data...\n",
      " > Found data for 3 counties (2%)\n",
      "Verifying vote totals...\n"
     ]
    },
    {
     "data": {
      "application/vnd.jupyter.widget-view+json": {
       "model_id": "1a8879dd27a64c3487c2867915d37ed3",
       "version_major": 2,
       "version_minor": 0
      },
      "text/plain": [
       "HBox(children=(HTML(value=''), FloatProgress(value=0.0, max=2.0), HTML(value='')))"
      ]
     },
     "metadata": {},
     "output_type": "display_data"
    },
    {
     "name": "stdout",
     "output_type": "stream",
     "text": [
      "\n",
      "> Vote totals verified — no errors\n",
      "————————————————————————————————————————————————————————————\n",
      "Loading County Commission Dist 1.csv data...\n",
      " > Found data for 63 counties (40%)\n",
      "Verifying vote totals...\n"
     ]
    },
    {
     "data": {
      "application/vnd.jupyter.widget-view+json": {
       "model_id": "eaaae9725b654a0c8f9814408fd9d8b2",
       "version_major": 2,
       "version_minor": 0
      },
      "text/plain": [
       "HBox(children=(HTML(value=''), FloatProgress(value=0.0, max=85.0), HTML(value='')))"
      ]
     },
     "metadata": {},
     "output_type": "display_data"
    },
    {
     "name": "stdout",
     "output_type": "stream",
     "text": [
      "\n",
      ">>> Vote totals verified — 0.00044 error rate\n",
      "————————————————————————————————————————————————————————————\n",
      "Loading Camak Mayor.csv data...\n",
      " > Found data for 1 counties (1%)\n",
      "Verifying vote totals...\n"
     ]
    },
    {
     "data": {
      "application/vnd.jupyter.widget-view+json": {
       "model_id": "b6a3c0158dd242a1976ac6601e3413e7",
       "version_major": 2,
       "version_minor": 0
      },
      "text/plain": [
       "HBox(children=(HTML(value=''), FloatProgress(value=0.0, max=2.0), HTML(value='')))"
      ]
     },
     "metadata": {},
     "output_type": "display_data"
    },
    {
     "name": "stdout",
     "output_type": "stream",
     "text": [
      "\n",
      "> Vote totals verified — no errors\n",
      "————————————————————————————————————————————————————————————\n",
      "Loading Dist Attorney - Western - Special.csv data...\n",
      " > Found data for 2 counties (1%)\n",
      "Verifying vote totals...\n"
     ]
    },
    {
     "data": {
      "application/vnd.jupyter.widget-view+json": {
       "model_id": "0e1bb59ed9ba469bbf168e25e8554641",
       "version_major": 2,
       "version_minor": 0
      },
      "text/plain": [
       "HBox(children=(HTML(value=''), FloatProgress(value=0.0, max=3.0), HTML(value='')))"
      ]
     },
     "metadata": {},
     "output_type": "display_data"
    },
    {
     "name": "stdout",
     "output_type": "stream",
     "text": [
      "\n",
      "> Vote totals verified — no errors\n",
      "————————————————————————————————————————————————————————————\n",
      "Loading Gwinnett-Buford Board of Education SPLOST.csv data...\n",
      " > Found data for 1 counties (1%)\n",
      "Verifying vote totals...\n"
     ]
    },
    {
     "data": {
      "application/vnd.jupyter.widget-view+json": {
       "model_id": "81ec67a4161f48d48c13330688f38a4f",
       "version_major": 2,
       "version_minor": 0
      },
      "text/plain": [
       "HBox(children=(HTML(value=''), FloatProgress(value=0.0, max=2.0), HTML(value='')))"
      ]
     },
     "metadata": {},
     "output_type": "display_data"
    },
    {
     "name": "stdout",
     "output_type": "stream",
     "text": [
      "\n",
      "> Vote totals verified — no errors\n",
      "————————————————————————————————————————————————————————————\n",
      "Loading US House Dist 8.csv data...\n",
      " > Found data for 24 counties (15%)\n",
      "Verifying vote totals...\n"
     ]
    },
    {
     "data": {
      "application/vnd.jupyter.widget-view+json": {
       "model_id": "0e7d9f7975e74e068f55dd8b21f17eac",
       "version_major": 2,
       "version_minor": 0
      },
      "text/plain": [
       "HBox(children=(HTML(value=''), FloatProgress(value=0.0, max=2.0), HTML(value='')))"
      ]
     },
     "metadata": {},
     "output_type": "display_data"
    },
    {
     "name": "stdout",
     "output_type": "stream",
     "text": [
      "\n",
      "> Vote totals verified — no errors\n",
      "————————————————————————————————————————————————————————————\n",
      "Loading State House Dist 32.csv data...\n",
      " > Found data for 3 counties (2%)\n",
      "Verifying vote totals...\n"
     ]
    },
    {
     "data": {
      "application/vnd.jupyter.widget-view+json": {
       "model_id": "77f19da5b2bc43f98691d967e203fecf",
       "version_major": 2,
       "version_minor": 0
      },
      "text/plain": [
       "HBox(children=(HTML(value=''), FloatProgress(value=0.0, max=2.0), HTML(value='')))"
      ]
     },
     "metadata": {},
     "output_type": "display_data"
    },
    {
     "name": "stdout",
     "output_type": "stream",
     "text": [
      "\n",
      "> Vote totals verified — no errors\n",
      "————————————————————————————————————————————————————————————\n",
      "Loading Soil and Water - Central Georgia.csv data...\n",
      " > Found data for 1 counties (1%)\n",
      "Verifying vote totals...\n"
     ]
    },
    {
     "data": {
      "application/vnd.jupyter.widget-view+json": {
       "model_id": "a39d060796164527a6019f05bb836e77",
       "version_major": 2,
       "version_minor": 0
      },
      "text/plain": [
       "HBox(children=(HTML(value=''), FloatProgress(value=0.0, max=1.0), HTML(value='')))"
      ]
     },
     "metadata": {},
     "output_type": "display_data"
    },
    {
     "name": "stdout",
     "output_type": "stream",
     "text": [
      "\n",
      "> Vote totals verified — no errors\n",
      "————————————————————————————————————————————————————————————\n",
      "Loading State House Dist 105.csv data...\n",
      " > Found data for 1 counties (1%)\n",
      "Verifying vote totals...\n"
     ]
    },
    {
     "data": {
      "application/vnd.jupyter.widget-view+json": {
       "model_id": "297541acf5ad43a788c0a538b8f79dcd",
       "version_major": 2,
       "version_minor": 0
      },
      "text/plain": [
       "HBox(children=(HTML(value=''), FloatProgress(value=0.0, max=2.0), HTML(value='')))"
      ]
     },
     "metadata": {},
     "output_type": "display_data"
    },
    {
     "name": "stdout",
     "output_type": "stream",
     "text": [
      "\n",
      "> Vote totals verified — no errors\n",
      "————————————————————————————————————————————————————————————\n",
      "Loading South Jackson Fire Advisory Board Post 5.csv data...\n",
      " > Found data for 1 counties (1%)\n",
      "Verifying vote totals...\n"
     ]
    },
    {
     "data": {
      "application/vnd.jupyter.widget-view+json": {
       "model_id": "b5cc49b323fe4351a3a900db7924ad89",
       "version_major": 2,
       "version_minor": 0
      },
      "text/plain": [
       "HBox(children=(HTML(value=''), FloatProgress(value=0.0, max=1.0), HTML(value='')))"
      ]
     },
     "metadata": {},
     "output_type": "display_data"
    },
    {
     "name": "stdout",
     "output_type": "stream",
     "text": [
      "\n",
      "> Vote totals verified — no errors\n",
      "————————————————————————————————————————————————————————————\n",
      "Loading State House Dist 55.csv data...\n",
      " > Found data for 1 counties (1%)\n",
      "Verifying vote totals...\n"
     ]
    },
    {
     "data": {
      "application/vnd.jupyter.widget-view+json": {
       "model_id": "799a0e10c64b440f804601ce0cd9f560",
       "version_major": 2,
       "version_minor": 0
      },
      "text/plain": [
       "HBox(children=(HTML(value=''), FloatProgress(value=0.0, max=1.0), HTML(value='')))"
      ]
     },
     "metadata": {},
     "output_type": "display_data"
    },
    {
     "name": "stdout",
     "output_type": "stream",
     "text": [
      "\n",
      "> Vote totals verified — no errors\n",
      "————————————————————————————————————————————————————————————\n",
      "Loading Dallas Mayor - Special.csv data...\n",
      " > Found data for 1 counties (1%)\n",
      "Verifying vote totals...\n"
     ]
    },
    {
     "data": {
      "application/vnd.jupyter.widget-view+json": {
       "model_id": "7f1f6989fc42483f8fd19a52655a881d",
       "version_major": 2,
       "version_minor": 0
      },
      "text/plain": [
       "HBox(children=(HTML(value=''), FloatProgress(value=0.0, max=2.0), HTML(value='')))"
      ]
     },
     "metadata": {},
     "output_type": "display_data"
    },
    {
     "name": "stdout",
     "output_type": "stream",
     "text": [
      "\n",
      "> Vote totals verified — no errors\n",
      "————————————————————————————————————————————————————————————\n",
      "Loading State House Dist 131.csv data...\n",
      " > Found data for 3 counties (2%)\n",
      "Verifying vote totals...\n"
     ]
    },
    {
     "data": {
      "application/vnd.jupyter.widget-view+json": {
       "model_id": "ad96078873b243c381159811f4b27f2d",
       "version_major": 2,
       "version_minor": 0
      },
      "text/plain": [
       "HBox(children=(HTML(value=''), FloatProgress(value=0.0, max=2.0), HTML(value='')))"
      ]
     },
     "metadata": {},
     "output_type": "display_data"
    },
    {
     "name": "stdout",
     "output_type": "stream",
     "text": [
      "\n",
      "> Vote totals verified — no errors\n",
      "————————————————————————————————————————————————————————————\n",
      "Loading Screven Alcohol Sales by the Drink - Special.csv data...\n",
      " > Found data for 1 counties (1%)\n",
      "Verifying vote totals...\n"
     ]
    },
    {
     "data": {
      "application/vnd.jupyter.widget-view+json": {
       "model_id": "777265ad6c984f79b84f209c2bf92024",
       "version_major": 2,
       "version_minor": 0
      },
      "text/plain": [
       "HBox(children=(HTML(value=''), FloatProgress(value=0.0, max=2.0), HTML(value='')))"
      ]
     },
     "metadata": {},
     "output_type": "display_data"
    },
    {
     "name": "stdout",
     "output_type": "stream",
     "text": [
      "\n",
      "> Vote totals verified — no errors\n",
      "————————————————————————————————————————————————————————————\n",
      "Loading Atlanta Homestead Exemption - Special.csv data...\n",
      " > Found data for 2 counties (1%)\n",
      "Verifying vote totals...\n"
     ]
    },
    {
     "data": {
      "application/vnd.jupyter.widget-view+json": {
       "model_id": "c6d9d661ccc34b55a3481834f989f960",
       "version_major": 2,
       "version_minor": 0
      },
      "text/plain": [
       "HBox(children=(HTML(value=''), FloatProgress(value=0.0, max=2.0), HTML(value='')))"
      ]
     },
     "metadata": {},
     "output_type": "display_data"
    },
    {
     "name": "stdout",
     "output_type": "stream",
     "text": [
      "\n",
      "> Vote totals verified — no errors\n",
      "————————————————————————————————————————————————————————————\n",
      "Loading State House Dist 134.csv data...\n",
      " > Found data for 2 counties (1%)\n",
      "Verifying vote totals...\n"
     ]
    },
    {
     "data": {
      "application/vnd.jupyter.widget-view+json": {
       "model_id": "ae288981b42c41fa9944280ebc83ff43",
       "version_major": 2,
       "version_minor": 0
      },
      "text/plain": [
       "HBox(children=(HTML(value=''), FloatProgress(value=0.0, max=2.0), HTML(value='')))"
      ]
     },
     "metadata": {},
     "output_type": "display_data"
    },
    {
     "name": "stdout",
     "output_type": "stream",
     "text": [
      "\n",
      "> Vote totals verified — no errors\n",
      "————————————————————————————————————————————————————————————\n",
      "Loading Soil and Water - Cobb County.csv data...\n",
      " > Found data for 1 counties (1%)\n",
      "Verifying vote totals...\n"
     ]
    },
    {
     "data": {
      "application/vnd.jupyter.widget-view+json": {
       "model_id": "ebcf7ee1ecc4426a9a4b532fe04a2613",
       "version_major": 2,
       "version_minor": 0
      },
      "text/plain": [
       "HBox(children=(HTML(value=''), FloatProgress(value=0.0, max=2.0), HTML(value='')))"
      ]
     },
     "metadata": {},
     "output_type": "display_data"
    },
    {
     "name": "stdout",
     "output_type": "stream",
     "text": [
      "\n",
      "> Vote totals verified — no errors\n",
      "————————————————————————————————————————————————————————————\n",
      "Loading State House Dist 36.csv data...\n",
      " > Found data for 1 counties (1%)\n",
      "Verifying vote totals...\n"
     ]
    },
    {
     "data": {
      "application/vnd.jupyter.widget-view+json": {
       "model_id": "616dcc7583914c47af2e30bdd27b5282",
       "version_major": 2,
       "version_minor": 0
      },
      "text/plain": [
       "HBox(children=(HTML(value=''), FloatProgress(value=0.0, max=2.0), HTML(value='')))"
      ]
     },
     "metadata": {},
     "output_type": "display_data"
    },
    {
     "name": "stdout",
     "output_type": "stream",
     "text": [
      "\n",
      "> Vote totals verified — no errors\n",
      "————————————————————————————————————————————————————————————\n",
      "Loading State House Dist 137.csv data...\n",
      " > Found data for 4 counties (3%)\n",
      "Verifying vote totals...\n"
     ]
    },
    {
     "data": {
      "application/vnd.jupyter.widget-view+json": {
       "model_id": "ca42bd1de74f4a79b68a70c717ffd03f",
       "version_major": 2,
       "version_minor": 0
      },
      "text/plain": [
       "HBox(children=(HTML(value=''), FloatProgress(value=0.0, max=1.0), HTML(value='')))"
      ]
     },
     "metadata": {},
     "output_type": "display_data"
    },
    {
     "name": "stdout",
     "output_type": "stream",
     "text": [
      "\n",
      "> Vote totals verified — no errors\n",
      "————————————————————————————————————————————————————————————\n",
      "Loading Edison City Council Post 1 - Special.csv data...\n",
      " > Found data for 1 counties (1%)\n",
      "Verifying vote totals...\n"
     ]
    },
    {
     "data": {
      "application/vnd.jupyter.widget-view+json": {
       "model_id": "28aae7ffc0324a259e82006609193f29",
       "version_major": 2,
       "version_minor": 0
      },
      "text/plain": [
       "HBox(children=(HTML(value=''), FloatProgress(value=0.0, max=2.0), HTML(value='')))"
      ]
     },
     "metadata": {},
     "output_type": "display_data"
    },
    {
     "name": "stdout",
     "output_type": "stream",
     "text": [
      "\n",
      "> Vote totals verified — no errors\n",
      "————————————————————————————————————————————————————————————\n",
      "Loading St. Marys City Council Post 4.csv data...\n",
      " > Found data for 1 counties (1%)\n",
      "Verifying vote totals...\n"
     ]
    },
    {
     "data": {
      "application/vnd.jupyter.widget-view+json": {
       "model_id": "bd370b5607d04848be2935f431ee2171",
       "version_major": 2,
       "version_minor": 0
      },
      "text/plain": [
       "HBox(children=(HTML(value=''), FloatProgress(value=0.0, max=2.0), HTML(value='')))"
      ]
     },
     "metadata": {},
     "output_type": "display_data"
    },
    {
     "name": "stdout",
     "output_type": "stream",
     "text": [
      "\n",
      "> Vote totals verified — no errors\n",
      "————————————————————————————————————————————————————————————\n",
      "Loading State Senate Dist 6.csv data...\n",
      " > Found data for 2 counties (1%)\n",
      "Verifying vote totals...\n"
     ]
    },
    {
     "data": {
      "application/vnd.jupyter.widget-view+json": {
       "model_id": "f07e9bf813e543179b040af2aff71f45",
       "version_major": 2,
       "version_minor": 0
      },
      "text/plain": [
       "HBox(children=(HTML(value=''), FloatProgress(value=0.0, max=2.0), HTML(value='')))"
      ]
     },
     "metadata": {},
     "output_type": "display_data"
    },
    {
     "name": "stdout",
     "output_type": "stream",
     "text": [
      "\n",
      "> Vote totals verified — no errors\n",
      "————————————————————————————————————————————————————————————\n",
      "Loading Manchester Regulation of Sunday Alcohol Sales By the Drink - Special.csv data...\n",
      " > Found data for 1 counties (1%)\n",
      "Verifying vote totals...\n"
     ]
    },
    {
     "data": {
      "application/vnd.jupyter.widget-view+json": {
       "model_id": "d931d924e4134075a5178efe9aee691f",
       "version_major": 2,
       "version_minor": 0
      },
      "text/plain": [
       "HBox(children=(HTML(value=''), FloatProgress(value=0.0, max=2.0), HTML(value='')))"
      ]
     },
     "metadata": {},
     "output_type": "display_data"
    },
    {
     "name": "stdout",
     "output_type": "stream",
     "text": [
      "\n",
      "> Vote totals verified — no errors\n",
      "————————————————————————————————————————————————————————————\n",
      "Loading Board of Education Elmodel Dist.csv data...\n",
      " > Found data for 1 counties (1%)\n",
      "Verifying vote totals...\n"
     ]
    },
    {
     "data": {
      "application/vnd.jupyter.widget-view+json": {
       "model_id": "10734e5ba61540d3ba7ab4e0cea8ff28",
       "version_major": 2,
       "version_minor": 0
      },
      "text/plain": [
       "HBox(children=(HTML(value=''), FloatProgress(value=0.0, max=1.0), HTML(value='')))"
      ]
     },
     "metadata": {},
     "output_type": "display_data"
    },
    {
     "name": "stdout",
     "output_type": "stream",
     "text": [
      "\n",
      "> Vote totals verified — no errors\n",
      "————————————————————————————————————————————————————————————\n",
      "Loading State House Dist 175.csv data...\n",
      " > Found data for 3 counties (2%)\n",
      "Verifying vote totals...\n"
     ]
    },
    {
     "data": {
      "application/vnd.jupyter.widget-view+json": {
       "model_id": "221571174e5f4ad7b2839f388202530d",
       "version_major": 2,
       "version_minor": 0
      },
      "text/plain": [
       "HBox(children=(HTML(value=''), FloatProgress(value=0.0, max=1.0), HTML(value='')))"
      ]
     },
     "metadata": {},
     "output_type": "display_data"
    },
    {
     "name": "stdout",
     "output_type": "stream",
     "text": [
      "\n",
      "> Vote totals verified — no errors\n",
      "————————————————————————————————————————————————————————————\n",
      "Loading State Senate Dist 46.csv data...\n",
      " > Found data for 3 counties (2%)\n",
      "Verifying vote totals...\n"
     ]
    },
    {
     "data": {
      "application/vnd.jupyter.widget-view+json": {
       "model_id": "69d5a7052acc41c0ba351645b4dcabd3",
       "version_major": 2,
       "version_minor": 0
      },
      "text/plain": [
       "HBox(children=(HTML(value=''), FloatProgress(value=0.0, max=2.0), HTML(value='')))"
      ]
     },
     "metadata": {},
     "output_type": "display_data"
    },
    {
     "name": "stdout",
     "output_type": "stream",
     "text": [
      "\n",
      "> Vote totals verified — no errors\n",
      "————————————————————————————————————————————————————————————\n",
      "Loading State Senate Dist 41.csv data...\n",
      " > Found data for 2 counties (1%)\n",
      "Verifying vote totals...\n"
     ]
    },
    {
     "data": {
      "application/vnd.jupyter.widget-view+json": {
       "model_id": "3536c2a07b134b02a0720d6fdb64622b",
       "version_major": 2,
       "version_minor": 0
      },
      "text/plain": [
       "HBox(children=(HTML(value=''), FloatProgress(value=0.0, max=2.0), HTML(value='')))"
      ]
     },
     "metadata": {},
     "output_type": "display_data"
    },
    {
     "name": "stdout",
     "output_type": "stream",
     "text": [
      "\n",
      "> Vote totals verified — no errors\n",
      "————————————————————————————————————————————————————————————\n",
      "Loading McDuffie County SPLOST - Special.csv data...\n",
      " > Found data for 1 counties (1%)\n",
      "Verifying vote totals...\n"
     ]
    },
    {
     "data": {
      "application/vnd.jupyter.widget-view+json": {
       "model_id": "57a5cf953e934368a3e96fc13b5252e5",
       "version_major": 2,
       "version_minor": 0
      },
      "text/plain": [
       "HBox(children=(HTML(value=''), FloatProgress(value=0.0, max=2.0), HTML(value='')))"
      ]
     },
     "metadata": {},
     "output_type": "display_data"
    },
    {
     "name": "stdout",
     "output_type": "stream",
     "text": [
      "\n",
      "> Vote totals verified — no errors\n",
      "————————————————————————————————————————————————————————————\n",
      "Loading State House Dist 52.csv data...\n",
      " > Found data for 1 counties (1%)\n",
      "Verifying vote totals...\n"
     ]
    },
    {
     "data": {
      "application/vnd.jupyter.widget-view+json": {
       "model_id": "a8ec64e3a4fd43ffa11f36ffd996c268",
       "version_major": 2,
       "version_minor": 0
      },
      "text/plain": [
       "HBox(children=(HTML(value=''), FloatProgress(value=0.0, max=2.0), HTML(value='')))"
      ]
     },
     "metadata": {},
     "output_type": "display_data"
    },
    {
     "name": "stdout",
     "output_type": "stream",
     "text": [
      "\n",
      "> Vote totals verified — no errors\n",
      "————————————————————————————————————————————————————————————\n",
      "Loading State House Dist 56.csv data...\n",
      " > Found data for 1 counties (1%)\n",
      "Verifying vote totals...\n"
     ]
    },
    {
     "data": {
      "application/vnd.jupyter.widget-view+json": {
       "model_id": "c881c5d91dd24e55bfe65f6290b2fa00",
       "version_major": 2,
       "version_minor": 0
      },
      "text/plain": [
       "HBox(children=(HTML(value=''), FloatProgress(value=0.0, max=1.0), HTML(value='')))"
      ]
     },
     "metadata": {},
     "output_type": "display_data"
    },
    {
     "name": "stdout",
     "output_type": "stream",
     "text": [
      "\n",
      "> Vote totals verified — no errors\n",
      "————————————————————————————————————————————————————————————\n",
      "Loading State House Dist 1.csv data...\n",
      " > Found data for 2 counties (1%)\n",
      "Verifying vote totals...\n"
     ]
    },
    {
     "data": {
      "application/vnd.jupyter.widget-view+json": {
       "model_id": "b9adc6be2cbb4df59d9c2dbb64eb98eb",
       "version_major": 2,
       "version_minor": 0
      },
      "text/plain": [
       "HBox(children=(HTML(value=''), FloatProgress(value=0.0, max=1.0), HTML(value='')))"
      ]
     },
     "metadata": {},
     "output_type": "display_data"
    },
    {
     "name": "stdout",
     "output_type": "stream",
     "text": [
      "\n",
      "> Vote totals verified — no errors\n",
      "————————————————————————————————————————————————————————————\n",
      "Loading Kingsland City Council Post 2.csv data...\n",
      " > Found data for 1 counties (1%)\n",
      "Verifying vote totals...\n"
     ]
    },
    {
     "data": {
      "application/vnd.jupyter.widget-view+json": {
       "model_id": "a35853551cb642eb843ae21e1101a1dd",
       "version_major": 2,
       "version_minor": 0
      },
      "text/plain": [
       "HBox(children=(HTML(value=''), FloatProgress(value=0.0, max=1.0), HTML(value='')))"
      ]
     },
     "metadata": {},
     "output_type": "display_data"
    },
    {
     "name": "stdout",
     "output_type": "stream",
     "text": [
      "\n",
      "> Vote totals verified — no errors\n",
      "————————————————————————————————————————————————————————————\n",
      "Loading North Jackson Fire Advisory Board Post 7.csv data...\n",
      " > Found data for 1 counties (1%)\n",
      "Verifying vote totals...\n"
     ]
    },
    {
     "data": {
      "application/vnd.jupyter.widget-view+json": {
       "model_id": "9e0746ff4141451ab3a3fcf5162bd9eb",
       "version_major": 2,
       "version_minor": 0
      },
      "text/plain": [
       "HBox(children=(HTML(value=''), FloatProgress(value=0.0, max=1.0), HTML(value='')))"
      ]
     },
     "metadata": {},
     "output_type": "display_data"
    },
    {
     "name": "stdout",
     "output_type": "stream",
     "text": [
      "\n",
      "> Vote totals verified — no errors\n",
      "————————————————————————————————————————————————————————————\n",
      "Loading State House Dist 141.csv data...\n",
      " > Found data for 2 counties (1%)\n",
      "Verifying vote totals...\n"
     ]
    },
    {
     "data": {
      "application/vnd.jupyter.widget-view+json": {
       "model_id": "255235acad974ac68ed3c1c62fbe617f",
       "version_major": 2,
       "version_minor": 0
      },
      "text/plain": [
       "HBox(children=(HTML(value=''), FloatProgress(value=0.0, max=1.0), HTML(value='')))"
      ]
     },
     "metadata": {},
     "output_type": "display_data"
    },
    {
     "name": "stdout",
     "output_type": "stream",
     "text": [
      "\n",
      "> Vote totals verified — no errors\n",
      "————————————————————————————————————————————————————————————\n",
      "Loading County Commission Dist 3 - Special.csv data...\n",
      " > Found data for 1 counties (1%)\n",
      "Verifying vote totals...\n"
     ]
    },
    {
     "data": {
      "application/vnd.jupyter.widget-view+json": {
       "model_id": "aedb74b5535a447fb703f2479a83ae30",
       "version_major": 2,
       "version_minor": 0
      },
      "text/plain": [
       "HBox(children=(HTML(value=''), FloatProgress(value=0.0, max=2.0), HTML(value='')))"
      ]
     },
     "metadata": {},
     "output_type": "display_data"
    },
    {
     "name": "stdout",
     "output_type": "stream",
     "text": [
      "\n",
      "> Vote totals verified — no errors\n",
      "————————————————————————————————————————————————————————————\n",
      "Loading State House Dist 14.csv data...\n",
      " > Found data for 2 counties (1%)\n",
      "Verifying vote totals...\n"
     ]
    },
    {
     "data": {
      "application/vnd.jupyter.widget-view+json": {
       "model_id": "26e95a3f1ceb49ae9b0fdb958d5f16fa",
       "version_major": 2,
       "version_minor": 0
      },
      "text/plain": [
       "HBox(children=(HTML(value=''), FloatProgress(value=0.0, max=1.0), HTML(value='')))"
      ]
     },
     "metadata": {},
     "output_type": "display_data"
    },
    {
     "name": "stdout",
     "output_type": "stream",
     "text": [
      "\n",
      "> Vote totals verified — no errors\n",
      "————————————————————————————————————————————————————————————\n",
      "Loading Euharlee City Council At Large - Special.csv data...\n",
      " > Found data for 1 counties (1%)\n",
      "Verifying vote totals...\n"
     ]
    },
    {
     "data": {
      "application/vnd.jupyter.widget-view+json": {
       "model_id": "3e93cf3bb9324efa9c30ef9ed0da5176",
       "version_major": 2,
       "version_minor": 0
      },
      "text/plain": [
       "HBox(children=(HTML(value=''), FloatProgress(value=0.0, max=2.0), HTML(value='')))"
      ]
     },
     "metadata": {},
     "output_type": "display_data"
    },
    {
     "name": "stdout",
     "output_type": "stream",
     "text": [
      "\n",
      "> Vote totals verified — no errors\n",
      "————————————————————————————————————————————————————————————\n",
      "Loading Board of Education Dist 3 Post 2.csv data...\n",
      " > Found data for 1 counties (1%)\n",
      "Verifying vote totals...\n"
     ]
    },
    {
     "data": {
      "application/vnd.jupyter.widget-view+json": {
       "model_id": "700cbd26e8b649c28b6c1ddc25e18915",
       "version_major": 2,
       "version_minor": 0
      },
      "text/plain": [
       "HBox(children=(HTML(value=''), FloatProgress(value=0.0, max=1.0), HTML(value='')))"
      ]
     },
     "metadata": {},
     "output_type": "display_data"
    },
    {
     "name": "stdout",
     "output_type": "stream",
     "text": [
      "\n",
      "> Vote totals verified — no errors\n",
      "————————————————————————————————————————————————————————————\n",
      "Loading Harrisburg Fire Advisory Board Post 9.csv data...\n",
      " > Found data for 1 counties (1%)\n",
      "Verifying vote totals...\n"
     ]
    },
    {
     "data": {
      "application/vnd.jupyter.widget-view+json": {
       "model_id": "838514936e524dfcb8b947847f0d90ea",
       "version_major": 2,
       "version_minor": 0
      },
      "text/plain": [
       "HBox(children=(HTML(value=''), FloatProgress(value=0.0, max=1.0), HTML(value='')))"
      ]
     },
     "metadata": {},
     "output_type": "display_data"
    },
    {
     "name": "stdout",
     "output_type": "stream",
     "text": [
      "\n",
      "> Vote totals verified — no errors\n",
      "————————————————————————————————————————————————————————————\n",
      "Loading Hamilton City Council - Special.csv data...\n",
      " > Found data for 1 counties (1%)\n",
      "Verifying vote totals...\n"
     ]
    },
    {
     "data": {
      "application/vnd.jupyter.widget-view+json": {
       "model_id": "5786233b7bc041f9a90da8e34b544778",
       "version_major": 2,
       "version_minor": 0
      },
      "text/plain": [
       "HBox(children=(HTML(value=''), FloatProgress(value=0.0, max=1.0), HTML(value='')))"
      ]
     },
     "metadata": {},
     "output_type": "display_data"
    },
    {
     "name": "stdout",
     "output_type": "stream",
     "text": [
      "\n",
      "> Vote totals verified — no errors\n",
      "————————————————————————————————————————————————————————————\n",
      "Loading State House Dist 151.csv data...\n",
      " > Found data for 9 counties (6%)\n",
      "Verifying vote totals...\n"
     ]
    },
    {
     "data": {
      "application/vnd.jupyter.widget-view+json": {
       "model_id": "e1cd4cdcca7f45d5a697895c2dcdb3ab",
       "version_major": 2,
       "version_minor": 0
      },
      "text/plain": [
       "HBox(children=(HTML(value=''), FloatProgress(value=0.0, max=2.0), HTML(value='')))"
      ]
     },
     "metadata": {},
     "output_type": "display_data"
    },
    {
     "name": "stdout",
     "output_type": "stream",
     "text": [
      "\n",
      "> Vote totals verified — no errors\n",
      "————————————————————————————————————————————————————————————\n",
      "Loading Dist Attorney - Southern.csv data...\n",
      " > Found data for 5 counties (3%)\n",
      "Verifying vote totals...\n"
     ]
    },
    {
     "data": {
      "application/vnd.jupyter.widget-view+json": {
       "model_id": "291852ee62d8466b8ef4f7acc84a5016",
       "version_major": 2,
       "version_minor": 0
      },
      "text/plain": [
       "HBox(children=(HTML(value=''), FloatProgress(value=0.0, max=1.0), HTML(value='')))"
      ]
     },
     "metadata": {},
     "output_type": "display_data"
    },
    {
     "name": "stdout",
     "output_type": "stream",
     "text": [
      "\n",
      "> Vote totals verified — no errors\n",
      "————————————————————————————————————————————————————————————\n",
      "Loading Dist Attorney - Toombs.csv data...\n",
      " > Found data for 6 counties (4%)\n",
      "Verifying vote totals...\n"
     ]
    },
    {
     "data": {
      "application/vnd.jupyter.widget-view+json": {
       "model_id": "06162ee46b3846dab526062dd95c406c",
       "version_major": 2,
       "version_minor": 0
      },
      "text/plain": [
       "HBox(children=(HTML(value=''), FloatProgress(value=0.0, max=1.0), HTML(value='')))"
      ]
     },
     "metadata": {},
     "output_type": "display_data"
    },
    {
     "name": "stdout",
     "output_type": "stream",
     "text": [
      "\n",
      "> Vote totals verified — no errors\n",
      "————————————————————————————————————————————————————————————\n",
      "Loading Soil and Water - Middle South Georgia.csv data...\n",
      " > Found data for 2 counties (1%)\n",
      "Verifying vote totals...\n"
     ]
    },
    {
     "data": {
      "application/vnd.jupyter.widget-view+json": {
       "model_id": "ea2da2362d13447ba05f033ead9bebc1",
       "version_major": 2,
       "version_minor": 0
      },
      "text/plain": [
       "HBox(children=(HTML(value=''), FloatProgress(value=0.0, max=2.0), HTML(value='')))"
      ]
     },
     "metadata": {},
     "output_type": "display_data"
    },
    {
     "name": "stdout",
     "output_type": "stream",
     "text": [
      "\n",
      "> Vote totals verified — no errors\n",
      "————————————————————————————————————————————————————————————\n",
      "Loading Board of Education Chair.csv data...\n",
      " > Found data for 5 counties (3%)\n",
      "Verifying vote totals...\n"
     ]
    },
    {
     "data": {
      "application/vnd.jupyter.widget-view+json": {
       "model_id": "78a17a892af14e398ddd7ba5e88efe76",
       "version_major": 2,
       "version_minor": 0
      },
      "text/plain": [
       "HBox(children=(HTML(value=''), FloatProgress(value=0.0, max=6.0), HTML(value='')))"
      ]
     },
     "metadata": {},
     "output_type": "display_data"
    },
    {
     "name": "stdout",
     "output_type": "stream",
     "text": [
      "\n",
      "> Vote totals verified — no errors\n",
      "————————————————————————————————————————————————————————————\n",
      "Loading State House Dist 39.csv data...\n",
      " > Found data for 1 counties (1%)\n",
      "Verifying vote totals...\n"
     ]
    },
    {
     "data": {
      "application/vnd.jupyter.widget-view+json": {
       "model_id": "063d94913c7e4947bd7f8ce2754a7d80",
       "version_major": 2,
       "version_minor": 0
      },
      "text/plain": [
       "HBox(children=(HTML(value=''), FloatProgress(value=0.0, max=2.0), HTML(value='')))"
      ]
     },
     "metadata": {},
     "output_type": "display_data"
    },
    {
     "name": "stdout",
     "output_type": "stream",
     "text": [
      "\n",
      "> Vote totals verified — no errors\n",
      "————————————————————————————————————————————————————————————\n",
      "Loading Tennille Council Dist 3 Post 1 - Special.csv data...\n",
      " > Found data for 1 counties (1%)\n",
      "Verifying vote totals...\n"
     ]
    },
    {
     "data": {
      "application/vnd.jupyter.widget-view+json": {
       "model_id": "31b6b88c55ed4855ab05e923342fd352",
       "version_major": 2,
       "version_minor": 0
      },
      "text/plain": [
       "HBox(children=(HTML(value=''), FloatProgress(value=0.0, max=2.0), HTML(value='')))"
      ]
     },
     "metadata": {},
     "output_type": "display_data"
    },
    {
     "name": "stdout",
     "output_type": "stream",
     "text": [
      "\n",
      "> Vote totals verified — no errors\n",
      "————————————————————————————————————————————————————————————\n",
      "Loading Dawson City Council Ward 3.csv data...\n",
      " > Found data for 1 counties (1%)\n",
      "Verifying vote totals...\n"
     ]
    },
    {
     "data": {
      "application/vnd.jupyter.widget-view+json": {
       "model_id": "321bd5649b5a44808325580f3c48bb9b",
       "version_major": 2,
       "version_minor": 0
      },
      "text/plain": [
       "HBox(children=(HTML(value=''), FloatProgress(value=0.0, max=2.0), HTML(value='')))"
      ]
     },
     "metadata": {},
     "output_type": "display_data"
    },
    {
     "name": "stdout",
     "output_type": "stream",
     "text": [
      "\n",
      "> Vote totals verified — no errors\n",
      "————————————————————————————————————————————————————————————\n",
      "Loading State House Dist 23.csv data...\n",
      " > Found data for 1 counties (1%)\n",
      "Verifying vote totals...\n"
     ]
    },
    {
     "data": {
      "application/vnd.jupyter.widget-view+json": {
       "model_id": "a4692cca15ad4807936a94758d5e8d7c",
       "version_major": 2,
       "version_minor": 0
      },
      "text/plain": [
       "HBox(children=(HTML(value=''), FloatProgress(value=0.0, max=1.0), HTML(value='')))"
      ]
     },
     "metadata": {},
     "output_type": "display_data"
    },
    {
     "name": "stdout",
     "output_type": "stream",
     "text": [
      "\n",
      "> Vote totals verified — no errors\n",
      "————————————————————————————————————————————————————————————\n",
      "Loading Dawson City Council Ward 1.csv data...\n",
      " > Found data for 1 counties (1%)\n",
      "Verifying vote totals...\n"
     ]
    },
    {
     "data": {
      "application/vnd.jupyter.widget-view+json": {
       "model_id": "1e069d8e544245e6b243521b92dd59b3",
       "version_major": 2,
       "version_minor": 0
      },
      "text/plain": [
       "HBox(children=(HTML(value=''), FloatProgress(value=0.0, max=2.0), HTML(value='')))"
      ]
     },
     "metadata": {},
     "output_type": "display_data"
    },
    {
     "name": "stdout",
     "output_type": "stream",
     "text": [
      "\n",
      "> Vote totals verified — no errors\n",
      "————————————————————————————————————————————————————————————\n",
      "Loading Board of Education Dist 8.csv data...\n",
      " > Found data for 1 counties (1%)\n",
      "Verifying vote totals...\n"
     ]
    },
    {
     "data": {
      "application/vnd.jupyter.widget-view+json": {
       "model_id": "eebf8b3279de4ae3a9663f19dc0bede6",
       "version_major": 2,
       "version_minor": 0
      },
      "text/plain": [
       "HBox(children=(HTML(value=''), FloatProgress(value=0.0, max=2.0), HTML(value='')))"
      ]
     },
     "metadata": {},
     "output_type": "display_data"
    },
    {
     "name": "stdout",
     "output_type": "stream",
     "text": [
      "\n",
      "> Vote totals verified — no errors\n",
      "————————————————————————————————————————————————————————————\n",
      "Loading State Senate Dist 38.csv data...\n",
      " > Found data for 2 counties (1%)\n",
      "Verifying vote totals...\n"
     ]
    },
    {
     "data": {
      "application/vnd.jupyter.widget-view+json": {
       "model_id": "ab77e1ccd5d94d619cba697dfddf0b2b",
       "version_major": 2,
       "version_minor": 0
      },
      "text/plain": [
       "HBox(children=(HTML(value=''), FloatProgress(value=0.0, max=1.0), HTML(value='')))"
      ]
     },
     "metadata": {},
     "output_type": "display_data"
    },
    {
     "name": "stdout",
     "output_type": "stream",
     "text": [
      "\n",
      "> Vote totals verified — no errors\n",
      "————————————————————————————————————————————————————————————\n",
      "Loading State House Dist 8.csv data...\n",
      " > Found data for 4 counties (3%)\n",
      "Verifying vote totals...\n"
     ]
    },
    {
     "data": {
      "application/vnd.jupyter.widget-view+json": {
       "model_id": "8880e647a47345d3adbf162d2c228974",
       "version_major": 2,
       "version_minor": 0
      },
      "text/plain": [
       "HBox(children=(HTML(value=''), FloatProgress(value=0.0, max=2.0), HTML(value='')))"
      ]
     },
     "metadata": {},
     "output_type": "display_data"
    },
    {
     "name": "stdout",
     "output_type": "stream",
     "text": [
      "\n",
      "> Vote totals verified — no errors\n",
      "————————————————————————————————————————————————————————————\n",
      "Loading State House Dist 115.csv data...\n",
      " > Found data for 1 counties (1%)\n",
      "Verifying vote totals...\n"
     ]
    },
    {
     "data": {
      "application/vnd.jupyter.widget-view+json": {
       "model_id": "d330a9976b9d43a29506cac64f7cd2f2",
       "version_major": 2,
       "version_minor": 0
      },
      "text/plain": [
       "HBox(children=(HTML(value=''), FloatProgress(value=0.0, max=2.0), HTML(value='')))"
      ]
     },
     "metadata": {},
     "output_type": "display_data"
    },
    {
     "name": "stdout",
     "output_type": "stream",
     "text": [
      "\n",
      "> Vote totals verified — no errors\n",
      "————————————————————————————————————————————————————————————\n",
      "Loading State Senate Dist 7.csv data...\n",
      " > Found data for 10 counties (6%)\n",
      "Verifying vote totals...\n"
     ]
    },
    {
     "data": {
      "application/vnd.jupyter.widget-view+json": {
       "model_id": "94bbb866f13a40bc9857a6370c39b569",
       "version_major": 2,
       "version_minor": 0
      },
      "text/plain": [
       "HBox(children=(HTML(value=''), FloatProgress(value=0.0, max=1.0), HTML(value='')))"
      ]
     },
     "metadata": {},
     "output_type": "display_data"
    },
    {
     "name": "stdout",
     "output_type": "stream",
     "text": [
      "\n",
      "> Vote totals verified — no errors\n",
      "————————————————————————————————————————————————————————————\n",
      "Loading Board of Education Dist 8 At Large.csv data...\n",
      " > Found data for 1 counties (1%)\n",
      "Verifying vote totals...\n"
     ]
    },
    {
     "data": {
      "application/vnd.jupyter.widget-view+json": {
       "model_id": "f25fce81c7044c6094ee49a039c9e112",
       "version_major": 2,
       "version_minor": 0
      },
      "text/plain": [
       "HBox(children=(HTML(value=''), FloatProgress(value=0.0, max=1.0), HTML(value='')))"
      ]
     },
     "metadata": {},
     "output_type": "display_data"
    },
    {
     "name": "stdout",
     "output_type": "stream",
     "text": [
      "\n",
      "> Vote totals verified — no errors\n",
      "————————————————————————————————————————————————————————————\n",
      "Loading Dist Attorney - Cobb - Special.csv data...\n",
      " > Found data for 1 counties (1%)\n",
      "Verifying vote totals...\n"
     ]
    },
    {
     "data": {
      "application/vnd.jupyter.widget-view+json": {
       "model_id": "2c9117b806ea43fcaff5ad07983d5b2b",
       "version_major": 2,
       "version_minor": 0
      },
      "text/plain": [
       "HBox(children=(HTML(value=''), FloatProgress(value=0.0, max=2.0), HTML(value='')))"
      ]
     },
     "metadata": {},
     "output_type": "display_data"
    },
    {
     "name": "stdout",
     "output_type": "stream",
     "text": [
      "\n",
      "> Vote totals verified — no errors\n",
      "————————————————————————————————————————————————————————————\n",
      "Loading State House Dist 75.csv data...\n",
      " > Found data for 1 counties (1%)\n",
      "Verifying vote totals...\n"
     ]
    },
    {
     "data": {
      "application/vnd.jupyter.widget-view+json": {
       "model_id": "52f2006d8f9e4b108cd70e34a9252744",
       "version_major": 2,
       "version_minor": 0
      },
      "text/plain": [
       "HBox(children=(HTML(value=''), FloatProgress(value=0.0, max=1.0), HTML(value='')))"
      ]
     },
     "metadata": {},
     "output_type": "display_data"
    },
    {
     "name": "stdout",
     "output_type": "stream",
     "text": [
      "\n",
      "> Vote totals verified — no errors\n",
      "————————————————————————————————————————————————————————————\n",
      "Loading State Senate Dist 3.csv data...\n",
      " > Found data for 5 counties (3%)\n",
      "Verifying vote totals...\n"
     ]
    },
    {
     "data": {
      "application/vnd.jupyter.widget-view+json": {
       "model_id": "3f972233d0e84c67b0df7c6fe35874b5",
       "version_major": 2,
       "version_minor": 0
      },
      "text/plain": [
       "HBox(children=(HTML(value=''), FloatProgress(value=0.0, max=1.0), HTML(value='')))"
      ]
     },
     "metadata": {},
     "output_type": "display_data"
    },
    {
     "name": "stdout",
     "output_type": "stream",
     "text": [
      "\n",
      "> Vote totals verified — no errors\n",
      "————————————————————————————————————————————————————————————\n",
      "Loading State House Dist 133.csv data...\n",
      " > Found data for 3 counties (2%)\n",
      "Verifying vote totals...\n"
     ]
    },
    {
     "data": {
      "application/vnd.jupyter.widget-view+json": {
       "model_id": "9eeee4474bb240b39a1f4204766912a8",
       "version_major": 2,
       "version_minor": 0
      },
      "text/plain": [
       "HBox(children=(HTML(value=''), FloatProgress(value=0.0, max=1.0), HTML(value='')))"
      ]
     },
     "metadata": {},
     "output_type": "display_data"
    },
    {
     "name": "stdout",
     "output_type": "stream",
     "text": [
      "\n",
      "> Vote totals verified — no errors\n",
      "————————————————————————————————————————————————————————————\n",
      "Loading State House Dist 122.csv data...\n",
      " > Found data for 1 counties (1%)\n",
      "Verifying vote totals...\n"
     ]
    },
    {
     "data": {
      "application/vnd.jupyter.widget-view+json": {
       "model_id": "62bc6e4e8b38455995282210ab0cb204",
       "version_major": 2,
       "version_minor": 0
      },
      "text/plain": [
       "HBox(children=(HTML(value=''), FloatProgress(value=0.0, max=2.0), HTML(value='')))"
      ]
     },
     "metadata": {},
     "output_type": "display_data"
    },
    {
     "name": "stdout",
     "output_type": "stream",
     "text": [
      "\n",
      "> Vote totals verified — no errors\n",
      "————————————————————————————————————————————————————————————\n",
      "Loading State House Dist 142.csv data...\n",
      " > Found data for 1 counties (1%)\n",
      "Verifying vote totals...\n"
     ]
    },
    {
     "data": {
      "application/vnd.jupyter.widget-view+json": {
       "model_id": "4ff000c7f9884ce1997f82a16f8d60a2",
       "version_major": 2,
       "version_minor": 0
      },
      "text/plain": [
       "HBox(children=(HTML(value=''), FloatProgress(value=0.0, max=1.0), HTML(value='')))"
      ]
     },
     "metadata": {},
     "output_type": "display_data"
    },
    {
     "name": "stdout",
     "output_type": "stream",
     "text": [
      "\n",
      "> Vote totals verified — no errors\n",
      "————————————————————————————————————————————————————————————\n",
      "Loading State House Dist 79.csv data...\n",
      " > Found data for 1 counties (1%)\n",
      "Verifying vote totals...\n"
     ]
    },
    {
     "data": {
      "application/vnd.jupyter.widget-view+json": {
       "model_id": "1c6ad7b6184b45c2b9c8bf64b2b38d66",
       "version_major": 2,
       "version_minor": 0
      },
      "text/plain": [
       "HBox(children=(HTML(value=''), FloatProgress(value=0.0, max=2.0), HTML(value='')))"
      ]
     },
     "metadata": {},
     "output_type": "display_data"
    },
    {
     "name": "stdout",
     "output_type": "stream",
     "text": [
      "\n",
      "> Vote totals verified — no errors\n",
      "————————————————————————————————————————————————————————————\n",
      "Loading Brd of Education Dist 1.csv data...\n",
      " > Found data for 1 counties (1%)\n",
      "Verifying vote totals...\n"
     ]
    },
    {
     "data": {
      "application/vnd.jupyter.widget-view+json": {
       "model_id": "1c2a44d6c085435ebe65266db4ac2c0e",
       "version_major": 2,
       "version_minor": 0
      },
      "text/plain": [
       "HBox(children=(HTML(value=''), FloatProgress(value=0.0, max=2.0), HTML(value='')))"
      ]
     },
     "metadata": {},
     "output_type": "display_data"
    },
    {
     "name": "stdout",
     "output_type": "stream",
     "text": [
      "\n",
      "> Vote totals verified — no errors\n",
      "————————————————————————————————————————————————————————————\n",
      "Loading Dist Attorney - Stone Mountain.csv data...\n",
      " > Found data for 1 counties (1%)\n",
      "Verifying vote totals...\n"
     ]
    },
    {
     "data": {
      "application/vnd.jupyter.widget-view+json": {
       "model_id": "6e47a3ecaf25492bb21f01c8e4f5b765",
       "version_major": 2,
       "version_minor": 0
      },
      "text/plain": [
       "HBox(children=(HTML(value=''), FloatProgress(value=0.0, max=1.0), HTML(value='')))"
      ]
     },
     "metadata": {},
     "output_type": "display_data"
    },
    {
     "name": "stdout",
     "output_type": "stream",
     "text": [
      "\n",
      "> Vote totals verified — no errors\n",
      "————————————————————————————————————————————————————————————\n",
      "Loading Soil and Water - Upper Ocmulgee River.csv data...\n",
      " > Found data for 1 counties (1%)\n",
      "Verifying vote totals...\n"
     ]
    },
    {
     "data": {
      "application/vnd.jupyter.widget-view+json": {
       "model_id": "93629334d79e4a639729aadb7ce58400",
       "version_major": 2,
       "version_minor": 0
      },
      "text/plain": [
       "HBox(children=(HTML(value=''), FloatProgress(value=0.0, max=1.0), HTML(value='')))"
      ]
     },
     "metadata": {},
     "output_type": "display_data"
    },
    {
     "name": "stdout",
     "output_type": "stream",
     "text": [
      "\n",
      "> Vote totals verified — no errors\n",
      "————————————————————————————————————————————————————————————\n",
      "Loading Lincolnton City Council Member Post 5 - Special.csv data...\n",
      " > Found data for 1 counties (1%)\n",
      "Verifying vote totals...\n"
     ]
    },
    {
     "data": {
      "application/vnd.jupyter.widget-view+json": {
       "model_id": "6b459db123d647088f61d6a98646169e",
       "version_major": 2,
       "version_minor": 0
      },
      "text/plain": [
       "HBox(children=(HTML(value=''), FloatProgress(value=0.0, max=3.0), HTML(value='')))"
      ]
     },
     "metadata": {},
     "output_type": "display_data"
    },
    {
     "name": "stdout",
     "output_type": "stream",
     "text": [
      "\n",
      "> Vote totals verified — no errors\n",
      "————————————————————————————————————————————————————————————\n",
      "Loading Public Service Commission Dist 4.csv data...\n",
      " > Found data for 159 counties (100%)\n",
      "Verifying vote totals...\n"
     ]
    },
    {
     "data": {
      "application/vnd.jupyter.widget-view+json": {
       "model_id": "bc75f08e718f4f8db490b75845d75627",
       "version_major": 2,
       "version_minor": 0
      },
      "text/plain": [
       "HBox(children=(HTML(value=''), FloatProgress(value=0.0, max=3.0), HTML(value='')))"
      ]
     },
     "metadata": {},
     "output_type": "display_data"
    },
    {
     "name": "stdout",
     "output_type": "stream",
     "text": [
      "\n",
      "> Vote totals verified — no errors\n",
      "————————————————————————————————————————————————————————————\n",
      "Loading Adairsville City Council Post 4 - Special.csv data...\n",
      " > Found data for 1 counties (1%)\n",
      "Verifying vote totals...\n"
     ]
    },
    {
     "data": {
      "application/vnd.jupyter.widget-view+json": {
       "model_id": "3ff5abe5fff34ed1a7c9933ce663b972",
       "version_major": 2,
       "version_minor": 0
      },
      "text/plain": [
       "HBox(children=(HTML(value=''), FloatProgress(value=0.0, max=6.0), HTML(value='')))"
      ]
     },
     "metadata": {},
     "output_type": "display_data"
    },
    {
     "name": "stdout",
     "output_type": "stream",
     "text": [
      "\n",
      "> Vote totals verified — no errors\n",
      "————————————————————————————————————————————————————————————\n",
      "Loading US House Dist 12.csv data...\n",
      " > Found data for 19 counties (12%)\n",
      "Verifying vote totals...\n"
     ]
    },
    {
     "data": {
      "application/vnd.jupyter.widget-view+json": {
       "model_id": "81579e7a69eb4cd4b58bb0c671cea40b",
       "version_major": 2,
       "version_minor": 0
      },
      "text/plain": [
       "HBox(children=(HTML(value=''), FloatProgress(value=0.0, max=2.0), HTML(value='')))"
      ]
     },
     "metadata": {},
     "output_type": "display_data"
    },
    {
     "name": "stdout",
     "output_type": "stream",
     "text": [
      "\n",
      "> Vote totals verified — no errors\n",
      "————————————————————————————————————————————————————————————\n",
      "Loading Board of Education Dist 1.csv data...\n",
      " > Found data for 33 counties (21%)\n",
      "Verifying vote totals...\n"
     ]
    },
    {
     "data": {
      "application/vnd.jupyter.widget-view+json": {
       "model_id": "bdbdbb0654634898a895f7856ae597c7",
       "version_major": 2,
       "version_minor": 0
      },
      "text/plain": [
       "HBox(children=(HTML(value=''), FloatProgress(value=0.0, max=41.0), HTML(value='')))"
      ]
     },
     "metadata": {},
     "output_type": "display_data"
    },
    {
     "name": "stdout",
     "output_type": "stream",
     "text": [
      "\n",
      "> Vote totals verified — no errors\n",
      "————————————————————————————————————————————————————————————\n",
      "Loading State House Dist 123.csv data...\n",
      " > Found data for 2 counties (1%)\n",
      "Verifying vote totals...\n"
     ]
    },
    {
     "data": {
      "application/vnd.jupyter.widget-view+json": {
       "model_id": "5752194e6f9044a293e1c4e0b0ea35b2",
       "version_major": 2,
       "version_minor": 0
      },
      "text/plain": [
       "HBox(children=(HTML(value=''), FloatProgress(value=0.0, max=1.0), HTML(value='')))"
      ]
     },
     "metadata": {},
     "output_type": "display_data"
    },
    {
     "name": "stdout",
     "output_type": "stream",
     "text": [
      "\n",
      "> Vote totals verified — no errors\n",
      "————————————————————————————————————————————————————————————\n",
      "Loading Soil and Water - Brier Creek.csv data...\n",
      " > Found data for 2 counties (1%)\n",
      "Verifying vote totals...\n"
     ]
    },
    {
     "data": {
      "application/vnd.jupyter.widget-view+json": {
       "model_id": "72f97780fc87474792c2de362aa8e41f",
       "version_major": 2,
       "version_minor": 0
      },
      "text/plain": [
       "HBox(children=(HTML(value=''), FloatProgress(value=0.0, max=2.0), HTML(value='')))"
      ]
     },
     "metadata": {},
     "output_type": "display_data"
    },
    {
     "name": "stdout",
     "output_type": "stream",
     "text": [
      "\n",
      "> Vote totals verified — no errors\n",
      "————————————————————————————————————————————————————————————\n",
      "Loading State House Dist 98.csv data...\n",
      " > Found data for 1 counties (1%)\n",
      "Verifying vote totals...\n"
     ]
    },
    {
     "data": {
      "application/vnd.jupyter.widget-view+json": {
       "model_id": "3503ee4918204925a957c36821a55cc8",
       "version_major": 2,
       "version_minor": 0
      },
      "text/plain": [
       "HBox(children=(HTML(value=''), FloatProgress(value=0.0, max=2.0), HTML(value='')))"
      ]
     },
     "metadata": {},
     "output_type": "display_data"
    },
    {
     "name": "stdout",
     "output_type": "stream",
     "text": [
      "\n",
      "> Vote totals verified — no errors\n",
      "————————————————————————————————————————————————————————————\n",
      "Loading State House Dist 41.csv data...\n",
      " > Found data for 1 counties (1%)\n",
      "Verifying vote totals...\n"
     ]
    },
    {
     "data": {
      "application/vnd.jupyter.widget-view+json": {
       "model_id": "a86df4c744664bac8d6ba17cc6c3ce23",
       "version_major": 2,
       "version_minor": 0
      },
      "text/plain": [
       "HBox(children=(HTML(value=''), FloatProgress(value=0.0, max=2.0), HTML(value='')))"
      ]
     },
     "metadata": {},
     "output_type": "display_data"
    },
    {
     "name": "stdout",
     "output_type": "stream",
     "text": [
      "\n",
      "> Vote totals verified — no errors\n",
      "————————————————————————————————————————————————————————————\n",
      "Loading State House Dist 22.csv data...\n",
      " > Found data for 3 counties (2%)\n",
      "Verifying vote totals...\n"
     ]
    },
    {
     "data": {
      "application/vnd.jupyter.widget-view+json": {
       "model_id": "d297fe76a7d54cf4b2c4589352333d45",
       "version_major": 2,
       "version_minor": 0
      },
      "text/plain": [
       "HBox(children=(HTML(value=''), FloatProgress(value=0.0, max=2.0), HTML(value='')))"
      ]
     },
     "metadata": {},
     "output_type": "display_data"
    },
    {
     "name": "stdout",
     "output_type": "stream",
     "text": [
      "\n",
      "> Vote totals verified — no errors\n",
      "————————————————————————————————————————————————————————————\n",
      "Loading State Senate Dist 49.csv data...\n",
      " > Found data for 1 counties (1%)\n",
      "Verifying vote totals...\n"
     ]
    },
    {
     "data": {
      "application/vnd.jupyter.widget-view+json": {
       "model_id": "fbdb0b35cb0c48678c3d4b186d652bb6",
       "version_major": 2,
       "version_minor": 0
      },
      "text/plain": [
       "HBox(children=(HTML(value=''), FloatProgress(value=0.0, max=1.0), HTML(value='')))"
      ]
     },
     "metadata": {},
     "output_type": "display_data"
    },
    {
     "name": "stdout",
     "output_type": "stream",
     "text": [
      "\n",
      "> Vote totals verified — no errors\n",
      "————————————————————————————————————————————————————————————\n",
      "Loading Brooks Council Member Post 1 - Special.csv data...\n",
      " > Found data for 1 counties (1%)\n",
      "Verifying vote totals...\n"
     ]
    },
    {
     "data": {
      "application/vnd.jupyter.widget-view+json": {
       "model_id": "03ce1917519244d9986d5f1bc932ce48",
       "version_major": 2,
       "version_minor": 0
      },
      "text/plain": [
       "HBox(children=(HTML(value=''), FloatProgress(value=0.0, max=2.0), HTML(value='')))"
      ]
     },
     "metadata": {},
     "output_type": "display_data"
    },
    {
     "name": "stdout",
     "output_type": "stream",
     "text": [
      "\n",
      "> Vote totals verified — no errors\n",
      "————————————————————————————————————————————————————————————\n",
      "Loading Soil and Water - Coosa River.csv data...\n",
      " > Found data for 4 counties (3%)\n",
      "Verifying vote totals...\n"
     ]
    },
    {
     "data": {
      "application/vnd.jupyter.widget-view+json": {
       "model_id": "ab0ba08d70ae460d909df2c633d2410a",
       "version_major": 2,
       "version_minor": 0
      },
      "text/plain": [
       "HBox(children=(HTML(value=''), FloatProgress(value=0.0, max=4.0), HTML(value='')))"
      ]
     },
     "metadata": {},
     "output_type": "display_data"
    },
    {
     "name": "stdout",
     "output_type": "stream",
     "text": [
      "\n",
      "> Vote totals verified — no errors\n",
      "————————————————————————————————————————————————————————————\n",
      "Loading Dist Attorney - Cherokee.csv data...\n",
      " > Found data for 2 counties (1%)\n",
      "Verifying vote totals...\n"
     ]
    },
    {
     "data": {
      "application/vnd.jupyter.widget-view+json": {
       "model_id": "c3a2f80c4fba4f6baa34950794a65e2b",
       "version_major": 2,
       "version_minor": 0
      },
      "text/plain": [
       "HBox(children=(HTML(value=''), FloatProgress(value=0.0, max=1.0), HTML(value='')))"
      ]
     },
     "metadata": {},
     "output_type": "display_data"
    },
    {
     "name": "stdout",
     "output_type": "stream",
     "text": [
      "\n",
      "> Vote totals verified — no errors\n",
      "————————————————————————————————————————————————————————————\n",
      "Loading Dist Attorney - Blue Ridge.csv data...\n",
      " > Found data for 1 counties (1%)\n",
      "Verifying vote totals...\n"
     ]
    },
    {
     "data": {
      "application/vnd.jupyter.widget-view+json": {
       "model_id": "7612d9cd13d143b8acec34247ce6164f",
       "version_major": 2,
       "version_minor": 0
      },
      "text/plain": [
       "HBox(children=(HTML(value=''), FloatProgress(value=0.0, max=1.0), HTML(value='')))"
      ]
     },
     "metadata": {},
     "output_type": "display_data"
    },
    {
     "name": "stdout",
     "output_type": "stream",
     "text": [
      "\n",
      "> Vote totals verified — no errors\n",
      "————————————————————————————————————————————————————————————\n",
      "Loading State House Dist 17.csv data...\n",
      " > Found data for 1 counties (1%)\n",
      "Verifying vote totals...\n"
     ]
    },
    {
     "data": {
      "application/vnd.jupyter.widget-view+json": {
       "model_id": "27f93a23e271499dab8fbd2c292e053e",
       "version_major": 2,
       "version_minor": 0
      },
      "text/plain": [
       "HBox(children=(HTML(value=''), FloatProgress(value=0.0, max=2.0), HTML(value='')))"
      ]
     },
     "metadata": {},
     "output_type": "display_data"
    },
    {
     "name": "stdout",
     "output_type": "stream",
     "text": [
      "\n",
      "> Vote totals verified — no errors\n",
      "————————————————————————————————————————————————————————————\n",
      "Loading Board of Education Dist 5, At Large.csv data...\n",
      " > Found data for 1 counties (1%)\n",
      "Verifying vote totals...\n"
     ]
    },
    {
     "data": {
      "application/vnd.jupyter.widget-view+json": {
       "model_id": "65cd4c9a86a64b60a2ef9126e4e720f9",
       "version_major": 2,
       "version_minor": 0
      },
      "text/plain": [
       "HBox(children=(HTML(value=''), FloatProgress(value=0.0, max=1.0), HTML(value='')))"
      ]
     },
     "metadata": {},
     "output_type": "display_data"
    },
    {
     "name": "stdout",
     "output_type": "stream",
     "text": [
      "\n",
      "> Vote totals verified — no errors\n",
      "————————————————————————————————————————————————————————————\n",
      "Loading State House Dist 13.csv data...\n",
      " > Found data for 1 counties (1%)\n",
      "Verifying vote totals...\n"
     ]
    },
    {
     "data": {
      "application/vnd.jupyter.widget-view+json": {
       "model_id": "0925a7ebdf254711ba997edf69e12989",
       "version_major": 2,
       "version_minor": 0
      },
      "text/plain": [
       "HBox(children=(HTML(value=''), FloatProgress(value=0.0, max=1.0), HTML(value='')))"
      ]
     },
     "metadata": {},
     "output_type": "display_data"
    },
    {
     "name": "stdout",
     "output_type": "stream",
     "text": [
      "\n",
      "> Vote totals verified — no errors\n",
      "————————————————————————————————————————————————————————————\n",
      "Loading Solicitor-General.csv data...\n",
      " > Found data for 1 counties (1%)\n",
      "Verifying vote totals...\n"
     ]
    },
    {
     "data": {
      "application/vnd.jupyter.widget-view+json": {
       "model_id": "140c7eba96b44a8db1a0c6033fff5ce2",
       "version_major": 2,
       "version_minor": 0
      },
      "text/plain": [
       "HBox(children=(HTML(value=''), FloatProgress(value=0.0, max=1.0), HTML(value='')))"
      ]
     },
     "metadata": {},
     "output_type": "display_data"
    },
    {
     "name": "stdout",
     "output_type": "stream",
     "text": [
      "\n",
      "> Vote totals verified — no errors\n",
      "————————————————————————————————————————————————————————————\n",
      "Loading County Commissioner Dist 1.csv data...\n",
      " > Found data for 1 counties (1%)\n",
      "Verifying vote totals...\n"
     ]
    },
    {
     "data": {
      "application/vnd.jupyter.widget-view+json": {
       "model_id": "611fd82684d64b1188a52b8eb7014596",
       "version_major": 2,
       "version_minor": 0
      },
      "text/plain": [
       "HBox(children=(HTML(value=''), FloatProgress(value=0.0, max=1.0), HTML(value='')))"
      ]
     },
     "metadata": {},
     "output_type": "display_data"
    },
    {
     "name": "stdout",
     "output_type": "stream",
     "text": [
      "\n",
      "> Vote totals verified — no errors\n",
      "————————————————————————————————————————————————————————————\n",
      "Loading State House Dist 94.csv data...\n",
      " > Found data for 2 counties (1%)\n",
      "Verifying vote totals...\n"
     ]
    },
    {
     "data": {
      "application/vnd.jupyter.widget-view+json": {
       "model_id": "41093fcd2a7146a3ae9fb438eb03747b",
       "version_major": 2,
       "version_minor": 0
      },
      "text/plain": [
       "HBox(children=(HTML(value=''), FloatProgress(value=0.0, max=1.0), HTML(value='')))"
      ]
     },
     "metadata": {},
     "output_type": "display_data"
    },
    {
     "name": "stdout",
     "output_type": "stream",
     "text": [
      "\n",
      "> Vote totals verified — no errors\n",
      "————————————————————————————————————————————————————————————\n",
      "Loading Soil and Water - Clayton County.csv data...\n",
      " > Found data for 1 counties (1%)\n",
      "Verifying vote totals...\n"
     ]
    },
    {
     "data": {
      "application/vnd.jupyter.widget-view+json": {
       "model_id": "0ba7ea10dbb44bd8b1c8f99e72470c81",
       "version_major": 2,
       "version_minor": 0
      },
      "text/plain": [
       "HBox(children=(HTML(value=''), FloatProgress(value=0.0, max=1.0), HTML(value='')))"
      ]
     },
     "metadata": {},
     "output_type": "display_data"
    },
    {
     "name": "stdout",
     "output_type": "stream",
     "text": [
      "\n",
      "> Vote totals verified — no errors\n",
      "————————————————————————————————————————————————————————————\n",
      "Loading Good Hope City Council Post 4.csv data...\n",
      " > Found data for 1 counties (1%)\n",
      "Verifying vote totals...\n"
     ]
    },
    {
     "data": {
      "application/vnd.jupyter.widget-view+json": {
       "model_id": "73ad0bfabbb44487844d823d102c9eb4",
       "version_major": 2,
       "version_minor": 0
      },
      "text/plain": [
       "HBox(children=(HTML(value=''), FloatProgress(value=0.0, max=2.0), HTML(value='')))"
      ]
     },
     "metadata": {},
     "output_type": "display_data"
    },
    {
     "name": "stdout",
     "output_type": "stream",
     "text": [
      "\n",
      "> Vote totals verified — no errors\n",
      "————————————————————————————————————————————————————————————\n",
      "Loading State House Dist 126.csv data...\n",
      " > Found data for 2 counties (1%)\n",
      "Verifying vote totals...\n"
     ]
    },
    {
     "data": {
      "application/vnd.jupyter.widget-view+json": {
       "model_id": "87e753ca955a43799c1f0ae7c05031ac",
       "version_major": 2,
       "version_minor": 0
      },
      "text/plain": [
       "HBox(children=(HTML(value=''), FloatProgress(value=0.0, max=1.0), HTML(value='')))"
      ]
     },
     "metadata": {},
     "output_type": "display_data"
    },
    {
     "name": "stdout",
     "output_type": "stream",
     "text": [
      "\n",
      "> Vote totals verified — no errors\n",
      "————————————————————————————————————————————————————————————\n",
      "Loading Board of Education Hoggards Mill Dist.csv data...\n",
      " > Found data for 1 counties (1%)\n",
      "Verifying vote totals...\n"
     ]
    },
    {
     "data": {
      "application/vnd.jupyter.widget-view+json": {
       "model_id": "da13c5c20a20453e8246552e87acd94c",
       "version_major": 2,
       "version_minor": 0
      },
      "text/plain": [
       "HBox(children=(HTML(value=''), FloatProgress(value=0.0, max=1.0), HTML(value='')))"
      ]
     },
     "metadata": {},
     "output_type": "display_data"
    },
    {
     "name": "stdout",
     "output_type": "stream",
     "text": [
      "\n",
      "> Vote totals verified — no errors\n",
      "————————————————————————————————————————————————————————————\n",
      "Loading State House Dist 102.csv data...\n",
      " > Found data for 1 counties (1%)\n",
      "Verifying vote totals...\n"
     ]
    },
    {
     "data": {
      "application/vnd.jupyter.widget-view+json": {
       "model_id": "309295173fd643e3afa8e744d202d4b0",
       "version_major": 2,
       "version_minor": 0
      },
      "text/plain": [
       "HBox(children=(HTML(value=''), FloatProgress(value=0.0, max=2.0), HTML(value='')))"
      ]
     },
     "metadata": {},
     "output_type": "display_data"
    },
    {
     "name": "stdout",
     "output_type": "stream",
     "text": [
      "\n",
      "> Vote totals verified — no errors\n",
      "————————————————————————————————————————————————————————————\n",
      "Loading State Senate Dist 30.csv data...\n",
      " > Found data for 3 counties (2%)\n",
      "Verifying vote totals...\n"
     ]
    },
    {
     "data": {
      "application/vnd.jupyter.widget-view+json": {
       "model_id": "9dcf9a72a0d446149e42c82036bf2bf8",
       "version_major": 2,
       "version_minor": 0
      },
      "text/plain": [
       "HBox(children=(HTML(value=''), FloatProgress(value=0.0, max=2.0), HTML(value='')))"
      ]
     },
     "metadata": {},
     "output_type": "display_data"
    },
    {
     "name": "stdout",
     "output_type": "stream",
     "text": [
      "\n",
      "> Vote totals verified — no errors\n",
      "————————————————————————————————————————————————————————————\n",
      "Loading County Commission Dist 1 - Special.csv data...\n",
      " > Found data for 2 counties (1%)\n",
      "Verifying vote totals...\n"
     ]
    },
    {
     "data": {
      "application/vnd.jupyter.widget-view+json": {
       "model_id": "3b5635b08f91464baaebbb80f754a496",
       "version_major": 2,
       "version_minor": 0
      },
      "text/plain": [
       "HBox(children=(HTML(value=''), FloatProgress(value=0.0, max=3.0), HTML(value='')))"
      ]
     },
     "metadata": {},
     "output_type": "display_data"
    },
    {
     "name": "stdout",
     "output_type": "stream",
     "text": [
      "\n",
      "> Vote totals verified — no errors\n",
      "————————————————————————————————————————————————————————————\n",
      "Loading State House Dist 138.csv data...\n",
      " > Found data for 4 counties (3%)\n",
      "Verifying vote totals...\n"
     ]
    },
    {
     "data": {
      "application/vnd.jupyter.widget-view+json": {
       "model_id": "9125e1aaaf70432dbb2580ff6ecd7ade",
       "version_major": 2,
       "version_minor": 0
      },
      "text/plain": [
       "HBox(children=(HTML(value=''), FloatProgress(value=0.0, max=2.0), HTML(value='')))"
      ]
     },
     "metadata": {},
     "output_type": "display_data"
    },
    {
     "name": "stdout",
     "output_type": "stream",
     "text": [
      "\n",
      "> Vote totals verified — no errors\n",
      "————————————————————————————————————————————————————————————\n",
      "Loading State House Dist 28.csv data...\n",
      " > Found data for 3 counties (2%)\n",
      "Verifying vote totals...\n"
     ]
    },
    {
     "data": {
      "application/vnd.jupyter.widget-view+json": {
       "model_id": "fd57ff60dcbe4618bef7eaca64380489",
       "version_major": 2,
       "version_minor": 0
      },
      "text/plain": [
       "HBox(children=(HTML(value=''), FloatProgress(value=0.0, max=1.0), HTML(value='')))"
      ]
     },
     "metadata": {},
     "output_type": "display_data"
    },
    {
     "name": "stdout",
     "output_type": "stream",
     "text": [
      "\n",
      "> Vote totals verified — no errors\n",
      "————————————————————————————————————————————————————————————\n",
      "Loading Dist Attorney - Dougherty.csv data...\n",
      " > Found data for 1 counties (1%)\n",
      "Verifying vote totals...\n"
     ]
    },
    {
     "data": {
      "application/vnd.jupyter.widget-view+json": {
       "model_id": "976da13aee324226b820b6b392576bfb",
       "version_major": 2,
       "version_minor": 0
      },
      "text/plain": [
       "HBox(children=(HTML(value=''), FloatProgress(value=0.0, max=1.0), HTML(value='')))"
      ]
     },
     "metadata": {},
     "output_type": "display_data"
    },
    {
     "name": "stdout",
     "output_type": "stream",
     "text": [
      "\n",
      "> Vote totals verified — no errors\n",
      "————————————————————————————————————————————————————————————\n",
      "Loading Soil and Water - Warren County.csv data...\n",
      " > Found data for 1 counties (1%)\n",
      "Verifying vote totals...\n"
     ]
    },
    {
     "data": {
      "application/vnd.jupyter.widget-view+json": {
       "model_id": "2f07ad5921b644979615364f9e1db2aa",
       "version_major": 2,
       "version_minor": 0
      },
      "text/plain": [
       "HBox(children=(HTML(value=''), FloatProgress(value=0.0, max=1.0), HTML(value='')))"
      ]
     },
     "metadata": {},
     "output_type": "display_data"
    },
    {
     "name": "stdout",
     "output_type": "stream",
     "text": [
      "\n",
      "> Vote totals verified — no errors\n",
      "————————————————————————————————————————————————————————————\n",
      "Loading Board of Education Dist 1 Post 1.csv data...\n",
      " > Found data for 1 counties (1%)\n",
      "Verifying vote totals...\n"
     ]
    },
    {
     "data": {
      "application/vnd.jupyter.widget-view+json": {
       "model_id": "f42cd31fd00749ba90d6cf192b5da378",
       "version_major": 2,
       "version_minor": 0
      },
      "text/plain": [
       "HBox(children=(HTML(value=''), FloatProgress(value=0.0, max=1.0), HTML(value='')))"
      ]
     },
     "metadata": {},
     "output_type": "display_data"
    },
    {
     "name": "stdout",
     "output_type": "stream",
     "text": [
      "\n",
      "> Vote totals verified — no errors\n",
      "————————————————————————————————————————————————————————————\n",
      "Loading State House Dist 173.csv data...\n",
      " > Found data for 3 counties (2%)\n",
      "Verifying vote totals...\n"
     ]
    },
    {
     "data": {
      "application/vnd.jupyter.widget-view+json": {
       "model_id": "be6865c3a16348a9b3da2587074e3ec7",
       "version_major": 2,
       "version_minor": 0
      },
      "text/plain": [
       "HBox(children=(HTML(value=''), FloatProgress(value=0.0, max=2.0), HTML(value='')))"
      ]
     },
     "metadata": {},
     "output_type": "display_data"
    },
    {
     "name": "stdout",
     "output_type": "stream",
     "text": [
      "\n",
      "> Vote totals verified — no errors\n",
      "————————————————————————————————————————————————————————————\n",
      "Loading Constitutional Amendment #1.csv data...\n",
      " > Found data for 159 counties (100%)\n",
      "Verifying vote totals...\n"
     ]
    },
    {
     "data": {
      "application/vnd.jupyter.widget-view+json": {
       "model_id": "8727911c20f6433da8c3d52e3916ad52",
       "version_major": 2,
       "version_minor": 0
      },
      "text/plain": [
       "HBox(children=(HTML(value=''), FloatProgress(value=0.0, max=2.0), HTML(value='')))"
      ]
     },
     "metadata": {},
     "output_type": "display_data"
    },
    {
     "name": "stdout",
     "output_type": "stream",
     "text": [
      "\n",
      "> Vote totals verified — no errors\n",
      "————————————————————————————————————————————————————————————\n",
      "Loading Dist Attorney - Dublin.csv data...\n",
      " > Found data for 4 counties (3%)\n",
      "Verifying vote totals...\n"
     ]
    },
    {
     "data": {
      "application/vnd.jupyter.widget-view+json": {
       "model_id": "36f419169e264347bdd318f62aabdd77",
       "version_major": 2,
       "version_minor": 0
      },
      "text/plain": [
       "HBox(children=(HTML(value=''), FloatProgress(value=0.0, max=2.0), HTML(value='')))"
      ]
     },
     "metadata": {},
     "output_type": "display_data"
    },
    {
     "name": "stdout",
     "output_type": "stream",
     "text": [
      "\n",
      "> Vote totals verified — no errors\n",
      "————————————————————————————————————————————————————————————\n",
      "Loading Dawson Mayor.csv data...\n",
      " > Found data for 1 counties (1%)\n",
      "Verifying vote totals...\n"
     ]
    },
    {
     "data": {
      "application/vnd.jupyter.widget-view+json": {
       "model_id": "f5a838034678498985afa4c81ffd2156",
       "version_major": 2,
       "version_minor": 0
      },
      "text/plain": [
       "HBox(children=(HTML(value=''), FloatProgress(value=0.0, max=2.0), HTML(value='')))"
      ]
     },
     "metadata": {},
     "output_type": "display_data"
    },
    {
     "name": "stdout",
     "output_type": "stream",
     "text": [
      "\n",
      "> Vote totals verified — no errors\n",
      "————————————————————————————————————————————————————————————\n",
      "Loading Soil and Water - Piedmont.csv data...\n",
      " > Found data for 2 counties (1%)\n",
      "Verifying vote totals...\n"
     ]
    },
    {
     "data": {
      "application/vnd.jupyter.widget-view+json": {
       "model_id": "9503171b2dd4449691aa68acfbe9e155",
       "version_major": 2,
       "version_minor": 0
      },
      "text/plain": [
       "HBox(children=(HTML(value=''), FloatProgress(value=0.0, max=2.0), HTML(value='')))"
      ]
     },
     "metadata": {},
     "output_type": "display_data"
    },
    {
     "name": "stdout",
     "output_type": "stream",
     "text": [
      "\n",
      "> Vote totals verified — no errors\n",
      "————————————————————————————————————————————————————————————\n",
      "Loading State Senate Dist 17.csv data...\n",
      " > Found data for 3 counties (2%)\n",
      "Verifying vote totals...\n"
     ]
    },
    {
     "data": {
      "application/vnd.jupyter.widget-view+json": {
       "model_id": "3c023e374c8b450ea03dc42491eeac0d",
       "version_major": 2,
       "version_minor": 0
      },
      "text/plain": [
       "HBox(children=(HTML(value=''), FloatProgress(value=0.0, max=2.0), HTML(value='')))"
      ]
     },
     "metadata": {},
     "output_type": "display_data"
    },
    {
     "name": "stdout",
     "output_type": "stream",
     "text": [
      "\n",
      "> Vote totals verified — no errors\n",
      "————————————————————————————————————————————————————————————\n",
      "Loading County Commission Dist 2 Post 1.csv data...\n",
      " > Found data for 2 counties (1%)\n",
      "Verifying vote totals...\n"
     ]
    },
    {
     "data": {
      "application/vnd.jupyter.widget-view+json": {
       "model_id": "f4f3015c3cdf4b7e9c60676aa1b4ac20",
       "version_major": 2,
       "version_minor": 0
      },
      "text/plain": [
       "HBox(children=(HTML(value=''), FloatProgress(value=0.0, max=2.0), HTML(value='')))"
      ]
     },
     "metadata": {},
     "output_type": "display_data"
    },
    {
     "name": "stdout",
     "output_type": "stream",
     "text": [
      "\n",
      "> Vote totals verified — no errors\n",
      "————————————————————————————————————————————————————————————\n",
      "Loading County Commissioner Dist 4.csv data...\n",
      " > Found data for 2 counties (1%)\n",
      "Verifying vote totals...\n"
     ]
    },
    {
     "data": {
      "application/vnd.jupyter.widget-view+json": {
       "model_id": "b3657c0c4c1a4cf48fe52f6185c8b8b8",
       "version_major": 2,
       "version_minor": 0
      },
      "text/plain": [
       "HBox(children=(HTML(value=''), FloatProgress(value=0.0, max=2.0), HTML(value='')))"
      ]
     },
     "metadata": {},
     "output_type": "display_data"
    },
    {
     "name": "stdout",
     "output_type": "stream",
     "text": [
      "\n",
      "> Vote totals verified — no errors\n",
      "————————————————————————————————————————————————————————————\n",
      "Loading State Senate Dist 19.csv data...\n",
      " > Found data for 11 counties (7%)\n",
      "Verifying vote totals...\n"
     ]
    },
    {
     "data": {
      "application/vnd.jupyter.widget-view+json": {
       "model_id": "97ecf29dff5e4abdbaa2ba5ece1deb61",
       "version_major": 2,
       "version_minor": 0
      },
      "text/plain": [
       "HBox(children=(HTML(value=''), FloatProgress(value=0.0, max=1.0), HTML(value='')))"
      ]
     },
     "metadata": {},
     "output_type": "display_data"
    },
    {
     "name": "stdout",
     "output_type": "stream",
     "text": [
      "\n",
      "> Vote totals verified — no errors\n",
      "————————————————————————————————————————————————————————————\n",
      "Loading State House Dist 57.csv data...\n",
      " > Found data for 1 counties (1%)\n",
      "Verifying vote totals...\n"
     ]
    },
    {
     "data": {
      "application/vnd.jupyter.widget-view+json": {
       "model_id": "3b2f7c472f3d45d289546dc577870db7",
       "version_major": 2,
       "version_minor": 0
      },
      "text/plain": [
       "HBox(children=(HTML(value=''), FloatProgress(value=0.0, max=1.0), HTML(value='')))"
      ]
     },
     "metadata": {},
     "output_type": "display_data"
    },
    {
     "name": "stdout",
     "output_type": "stream",
     "text": [
      "\n",
      "> Vote totals verified — no errors\n",
      "————————————————————————————————————————————————————————————\n",
      "Loading State Senate Dist 24.csv data...\n",
      " > Found data for 8 counties (5%)\n",
      "Verifying vote totals...\n"
     ]
    },
    {
     "data": {
      "application/vnd.jupyter.widget-view+json": {
       "model_id": "de501bbbb8764cda965c385b23fcf6b1",
       "version_major": 2,
       "version_minor": 0
      },
      "text/plain": [
       "HBox(children=(HTML(value=''), FloatProgress(value=0.0, max=1.0), HTML(value='')))"
      ]
     },
     "metadata": {},
     "output_type": "display_data"
    },
    {
     "name": "stdout",
     "output_type": "stream",
     "text": [
      "\n",
      "> Vote totals verified — no errors\n",
      "————————————————————————————————————————————————————————————\n",
      "Loading County Commission Precinct 2.csv data...\n",
      " > Found data for 1 counties (1%)\n",
      "Verifying vote totals...\n"
     ]
    },
    {
     "data": {
      "application/vnd.jupyter.widget-view+json": {
       "model_id": "4bb4ac8a5162470bab71dc13fd2566cd",
       "version_major": 2,
       "version_minor": 0
      },
      "text/plain": [
       "HBox(children=(HTML(value=''), FloatProgress(value=0.0, max=1.0), HTML(value='')))"
      ]
     },
     "metadata": {},
     "output_type": "display_data"
    },
    {
     "name": "stdout",
     "output_type": "stream",
     "text": [
      "\n",
      "> Vote totals verified — no errors\n",
      "————————————————————————————————————————————————————————————\n",
      "Loading Holly Springs City Council Ward 5.csv data...\n",
      " > Found data for 1 counties (1%)\n",
      "Verifying vote totals...\n"
     ]
    },
    {
     "data": {
      "application/vnd.jupyter.widget-view+json": {
       "model_id": "758ca97cefc24750a2721c44ac132459",
       "version_major": 2,
       "version_minor": 0
      },
      "text/plain": [
       "HBox(children=(HTML(value=''), FloatProgress(value=0.0, max=1.0), HTML(value='')))"
      ]
     },
     "metadata": {},
     "output_type": "display_data"
    },
    {
     "name": "stdout",
     "output_type": "stream",
     "text": [
      "\n",
      "> Vote totals verified — no errors\n",
      "————————————————————————————————————————————————————————————\n",
      "Loading Board of Education Dist 10.csv data...\n",
      " > Found data for 1 counties (1%)\n",
      "Verifying vote totals...\n"
     ]
    },
    {
     "data": {
      "application/vnd.jupyter.widget-view+json": {
       "model_id": "6906bb174984419c93f7dcb7fdb285e1",
       "version_major": 2,
       "version_minor": 0
      },
      "text/plain": [
       "HBox(children=(HTML(value=''), FloatProgress(value=0.0, max=3.0), HTML(value='')))"
      ]
     },
     "metadata": {},
     "output_type": "display_data"
    },
    {
     "name": "stdout",
     "output_type": "stream",
     "text": [
      "\n",
      "> Vote totals verified — no errors\n",
      "————————————————————————————————————————————————————————————\n",
      "Loading Dist Attorney - Mountain.csv data...\n",
      " > Found data for 3 counties (2%)\n",
      "Verifying vote totals...\n"
     ]
    },
    {
     "data": {
      "application/vnd.jupyter.widget-view+json": {
       "model_id": "b9ea7a0edd53451ebf3c7804382bb1e5",
       "version_major": 2,
       "version_minor": 0
      },
      "text/plain": [
       "HBox(children=(HTML(value=''), FloatProgress(value=0.0, max=1.0), HTML(value='')))"
      ]
     },
     "metadata": {},
     "output_type": "display_data"
    },
    {
     "name": "stdout",
     "output_type": "stream",
     "text": [
      "\n",
      "> Vote totals verified — no errors\n",
      "————————————————————————————————————————————————————————————\n",
      "Loading State Senate Dist 26.csv data...\n",
      " > Found data for 7 counties (4%)\n",
      "Verifying vote totals...\n"
     ]
    },
    {
     "data": {
      "application/vnd.jupyter.widget-view+json": {
       "model_id": "0482381cb044451e919f3f240430ce77",
       "version_major": 2,
       "version_minor": 0
      },
      "text/plain": [
       "HBox(children=(HTML(value=''), FloatProgress(value=0.0, max=1.0), HTML(value='')))"
      ]
     },
     "metadata": {},
     "output_type": "display_data"
    },
    {
     "name": "stdout",
     "output_type": "stream",
     "text": [
      "\n",
      "> Vote totals verified — no errors\n",
      "————————————————————————————————————————————————————————————\n",
      "Loading North Jackson Fire Advisory Board Post 5.csv data...\n",
      " > Found data for 1 counties (1%)\n",
      "Verifying vote totals...\n"
     ]
    },
    {
     "data": {
      "application/vnd.jupyter.widget-view+json": {
       "model_id": "558c38417aa546c3883fb3574e53e142",
       "version_major": 2,
       "version_minor": 0
      },
      "text/plain": [
       "HBox(children=(HTML(value=''), FloatProgress(value=0.0, max=1.0), HTML(value='')))"
      ]
     },
     "metadata": {},
     "output_type": "display_data"
    },
    {
     "name": "stdout",
     "output_type": "stream",
     "text": [
      "\n",
      "> Vote totals verified — no errors\n",
      "————————————————————————————————————————————————————————————\n",
      "Loading State Senate Dist 51.csv data...\n",
      " > Found data for 8 counties (5%)\n",
      "Verifying vote totals...\n"
     ]
    },
    {
     "data": {
      "application/vnd.jupyter.widget-view+json": {
       "model_id": "183382e8bdc84cccaf57af37657f6db9",
       "version_major": 2,
       "version_minor": 0
      },
      "text/plain": [
       "HBox(children=(HTML(value=''), FloatProgress(value=0.0, max=2.0), HTML(value='')))"
      ]
     },
     "metadata": {},
     "output_type": "display_data"
    },
    {
     "name": "stdout",
     "output_type": "stream",
     "text": [
      "\n",
      "> Vote totals verified — no errors\n",
      "————————————————————————————————————————————————————————————\n",
      "Loading County Commission Mill Dist.csv data...\n",
      " > Found data for 1 counties (1%)\n",
      "Verifying vote totals...\n"
     ]
    },
    {
     "data": {
      "application/vnd.jupyter.widget-view+json": {
       "model_id": "611bbf2e19c14a5bb2394b91ebf9bd25",
       "version_major": 2,
       "version_minor": 0
      },
      "text/plain": [
       "HBox(children=(HTML(value=''), FloatProgress(value=0.0, max=1.0), HTML(value='')))"
      ]
     },
     "metadata": {},
     "output_type": "display_data"
    },
    {
     "name": "stdout",
     "output_type": "stream",
     "text": [
      "\n",
      "> Vote totals verified — no errors\n",
      "————————————————————————————————————————————————————————————\n",
      "Loading Demorest City Council - Special.csv data...\n",
      " > Found data for 1 counties (1%)\n",
      "Verifying vote totals...\n"
     ]
    },
    {
     "data": {
      "application/vnd.jupyter.widget-view+json": {
       "model_id": "dc0cb728a842409987a4a24e34fee9f5",
       "version_major": 2,
       "version_minor": 0
      },
      "text/plain": [
       "HBox(children=(HTML(value=''), FloatProgress(value=0.0, max=7.0), HTML(value='')))"
      ]
     },
     "metadata": {},
     "output_type": "display_data"
    },
    {
     "name": "stdout",
     "output_type": "stream",
     "text": [
      "\n",
      "> Vote totals verified — no errors\n",
      "————————————————————————————————————————————————————————————\n",
      "Loading State House Dist 150.csv data...\n",
      " > Found data for 3 counties (2%)\n",
      "Verifying vote totals...\n"
     ]
    },
    {
     "data": {
      "application/vnd.jupyter.widget-view+json": {
       "model_id": "4ccd6e79516b4e53b8e961d3d155e343",
       "version_major": 2,
       "version_minor": 0
      },
      "text/plain": [
       "HBox(children=(HTML(value=''), FloatProgress(value=0.0, max=1.0), HTML(value='')))"
      ]
     },
     "metadata": {},
     "output_type": "display_data"
    },
    {
     "name": "stdout",
     "output_type": "stream",
     "text": [
      "\n",
      "> Vote totals verified — no errors\n",
      "————————————————————————————————————————————————————————————\n",
      "Loading Dist Attorney - Towaliga.csv data...\n",
      " > Found data for 3 counties (2%)\n",
      "Verifying vote totals...\n"
     ]
    },
    {
     "data": {
      "application/vnd.jupyter.widget-view+json": {
       "model_id": "e4569bdfc620451dbafb2e72b1628b9e",
       "version_major": 2,
       "version_minor": 0
      },
      "text/plain": [
       "HBox(children=(HTML(value=''), FloatProgress(value=0.0, max=1.0), HTML(value='')))"
      ]
     },
     "metadata": {},
     "output_type": "display_data"
    },
    {
     "name": "stdout",
     "output_type": "stream",
     "text": [
      "\n",
      "> Vote totals verified — no errors\n",
      "————————————————————————————————————————————————————————————\n",
      "Loading State House Dist 144.csv data...\n",
      " > Found data for 7 counties (4%)\n",
      "Verifying vote totals...\n"
     ]
    },
    {
     "data": {
      "application/vnd.jupyter.widget-view+json": {
       "model_id": "bee8efe885364b429e24aff24834e131",
       "version_major": 2,
       "version_minor": 0
      },
      "text/plain": [
       "HBox(children=(HTML(value=''), FloatProgress(value=0.0, max=3.0), HTML(value='')))"
      ]
     },
     "metadata": {},
     "output_type": "display_data"
    },
    {
     "name": "stdout",
     "output_type": "stream",
     "text": [
      "\n",
      "> Vote totals verified — no errors\n",
      "————————————————————————————————————————————————————————————\n",
      "Loading State Senate Dist 53.csv data...\n",
      " > Found data for 4 counties (3%)\n",
      "Verifying vote totals...\n"
     ]
    },
    {
     "data": {
      "application/vnd.jupyter.widget-view+json": {
       "model_id": "ad27e4c4a4fa4c8c9a775937358ded8f",
       "version_major": 2,
       "version_minor": 0
      },
      "text/plain": [
       "HBox(children=(HTML(value=''), FloatProgress(value=0.0, max=1.0), HTML(value='')))"
      ]
     },
     "metadata": {},
     "output_type": "display_data"
    },
    {
     "name": "stdout",
     "output_type": "stream",
     "text": [
      "\n",
      "> Vote totals verified — no errors\n",
      "————————————————————————————————————————————————————————————\n",
      "Loading State House Dist 157.csv data...\n",
      " > Found data for 3 counties (2%)\n",
      "Verifying vote totals...\n"
     ]
    },
    {
     "data": {
      "application/vnd.jupyter.widget-view+json": {
       "model_id": "f4ef92ebbb344386b0564114ef62604e",
       "version_major": 2,
       "version_minor": 0
      },
      "text/plain": [
       "HBox(children=(HTML(value=''), FloatProgress(value=0.0, max=1.0), HTML(value='')))"
      ]
     },
     "metadata": {},
     "output_type": "display_data"
    },
    {
     "name": "stdout",
     "output_type": "stream",
     "text": [
      "\n",
      "> Vote totals verified — no errors\n",
      "————————————————————————————————————————————————————————————\n",
      "Loading Harrisburg Fire Advisory Board Post 6.csv data...\n",
      " > Found data for 1 counties (1%)\n",
      "Verifying vote totals...\n"
     ]
    },
    {
     "data": {
      "application/vnd.jupyter.widget-view+json": {
       "model_id": "ea70bb9d2c8043bf84630c9822bc5628",
       "version_major": 2,
       "version_minor": 0
      },
      "text/plain": [
       "HBox(children=(HTML(value=''), FloatProgress(value=0.0, max=1.0), HTML(value='')))"
      ]
     },
     "metadata": {},
     "output_type": "display_data"
    },
    {
     "name": "stdout",
     "output_type": "stream",
     "text": [
      "\n",
      "> Vote totals verified — no errors\n",
      "————————————————————————————————————————————————————————————\n",
      "Loading State Senate Dist 23.csv data...\n",
      " > Found data for 11 counties (7%)\n",
      "Verifying vote totals...\n"
     ]
    },
    {
     "data": {
      "application/vnd.jupyter.widget-view+json": {
       "model_id": "348f267e14cc410bb58acc8153bd88bc",
       "version_major": 2,
       "version_minor": 0
      },
      "text/plain": [
       "HBox(children=(HTML(value=''), FloatProgress(value=0.0, max=2.0), HTML(value='')))"
      ]
     },
     "metadata": {},
     "output_type": "display_data"
    },
    {
     "name": "stdout",
     "output_type": "stream",
     "text": [
      "\n",
      "> Vote totals verified — no errors\n",
      "————————————————————————————————————————————————————————————\n",
      "Loading State House Dist 7.csv data...\n",
      " > Found data for 3 counties (2%)\n",
      "Verifying vote totals...\n"
     ]
    },
    {
     "data": {
      "application/vnd.jupyter.widget-view+json": {
       "model_id": "e5d2ca42b7fc42a19589e92852a2b5f9",
       "version_major": 2,
       "version_minor": 0
      },
      "text/plain": [
       "HBox(children=(HTML(value=''), FloatProgress(value=0.0, max=2.0), HTML(value='')))"
      ]
     },
     "metadata": {},
     "output_type": "display_data"
    },
    {
     "name": "stdout",
     "output_type": "stream",
     "text": [
      "\n",
      "> Vote totals verified — no errors\n",
      "————————————————————————————————————————————————————————————\n",
      "Loading Homestead Exemption - Special.csv data...\n",
      " > Found data for 1 counties (1%)\n",
      "Verifying vote totals...\n"
     ]
    },
    {
     "data": {
      "application/vnd.jupyter.widget-view+json": {
       "model_id": "ece2ad33507f4c51a6f180b6c5b284d7",
       "version_major": 2,
       "version_minor": 0
      },
      "text/plain": [
       "HBox(children=(HTML(value=''), FloatProgress(value=0.0, max=2.0), HTML(value='')))"
      ]
     },
     "metadata": {},
     "output_type": "display_data"
    },
    {
     "name": "stdout",
     "output_type": "stream",
     "text": [
      "\n",
      "> Vote totals verified — no errors\n",
      "————————————————————————————————————————————————————————————\n",
      "Loading State House Dist 132.csv data...\n",
      " > Found data for 3 counties (2%)\n",
      "Verifying vote totals...\n"
     ]
    },
    {
     "data": {
      "application/vnd.jupyter.widget-view+json": {
       "model_id": "acfda5053ebb4392a9d85ddc1a81ae7f",
       "version_major": 2,
       "version_minor": 0
      },
      "text/plain": [
       "HBox(children=(HTML(value=''), FloatProgress(value=0.0, max=2.0), HTML(value='')))"
      ]
     },
     "metadata": {},
     "output_type": "display_data"
    },
    {
     "name": "stdout",
     "output_type": "stream",
     "text": [
      "\n",
      "> Vote totals verified — no errors\n",
      "————————————————————————————————————————————————————————————\n",
      "Loading State House Dist 158.csv data...\n",
      " > Found data for 4 counties (3%)\n",
      "Verifying vote totals...\n"
     ]
    },
    {
     "data": {
      "application/vnd.jupyter.widget-view+json": {
       "model_id": "bbc2c72c18ed456aba2de3bd9e47bd2d",
       "version_major": 2,
       "version_minor": 0
      },
      "text/plain": [
       "HBox(children=(HTML(value=''), FloatProgress(value=0.0, max=2.0), HTML(value='')))"
      ]
     },
     "metadata": {},
     "output_type": "display_data"
    },
    {
     "name": "stdout",
     "output_type": "stream",
     "text": [
      "\n",
      "> Vote totals verified — no errors\n",
      "————————————————————————————————————————————————————————————\n",
      "Loading Crawfordville City Council Post 4 - Special.csv data...\n",
      " > Found data for 1 counties (1%)\n",
      "Verifying vote totals...\n"
     ]
    },
    {
     "data": {
      "application/vnd.jupyter.widget-view+json": {
       "model_id": "b7cbc714569b47b3b7dbdafd06399e7d",
       "version_major": 2,
       "version_minor": 0
      },
      "text/plain": [
       "HBox(children=(HTML(value=''), FloatProgress(value=0.0, max=3.0), HTML(value='')))"
      ]
     },
     "metadata": {},
     "output_type": "display_data"
    },
    {
     "name": "stdout",
     "output_type": "stream",
     "text": [
      "\n",
      "> Vote totals verified — no errors\n",
      "————————————————————————————————————————————————————————————\n",
      "Loading US House Dist 13.csv data...\n",
      " > Found data for 6 counties (4%)\n",
      "Verifying vote totals...\n"
     ]
    },
    {
     "data": {
      "application/vnd.jupyter.widget-view+json": {
       "model_id": "2bbadfe9a95c45f2a2be7e1d1d0687dd",
       "version_major": 2,
       "version_minor": 0
      },
      "text/plain": [
       "HBox(children=(HTML(value=''), FloatProgress(value=0.0, max=2.0), HTML(value='')))"
      ]
     },
     "metadata": {},
     "output_type": "display_data"
    },
    {
     "name": "stdout",
     "output_type": "stream",
     "text": [
      "\n",
      "> Vote totals verified — no errors\n",
      "————————————————————————————————————————————————————————————\n",
      "Loading Wayne County Sunday Sales of Alcohol - Special.csv data...\n",
      " > Found data for 1 counties (1%)\n",
      "Verifying vote totals...\n"
     ]
    },
    {
     "data": {
      "application/vnd.jupyter.widget-view+json": {
       "model_id": "abaefddb88c54f1f844d19a629148e39",
       "version_major": 2,
       "version_minor": 0
      },
      "text/plain": [
       "HBox(children=(HTML(value=''), FloatProgress(value=0.0, max=2.0), HTML(value='')))"
      ]
     },
     "metadata": {},
     "output_type": "display_data"
    },
    {
     "name": "stdout",
     "output_type": "stream",
     "text": [
      "\n",
      "> Vote totals verified — no errors\n",
      "————————————————————————————————————————————————————————————\n",
      "Loading State House Dist 10.csv data...\n",
      " > Found data for 2 counties (1%)\n",
      "Verifying vote totals...\n"
     ]
    },
    {
     "data": {
      "application/vnd.jupyter.widget-view+json": {
       "model_id": "1a92094de1544c35af9333ac977235c8",
       "version_major": 2,
       "version_minor": 0
      },
      "text/plain": [
       "HBox(children=(HTML(value=''), FloatProgress(value=0.0, max=2.0), HTML(value='')))"
      ]
     },
     "metadata": {},
     "output_type": "display_data"
    },
    {
     "name": "stdout",
     "output_type": "stream",
     "text": [
      "\n",
      "> Vote totals verified — no errors\n",
      "————————————————————————————————————————————————————————————\n",
      "Loading McIntyre City Council Dist 1 - Special.csv data...\n",
      " > Found data for 1 counties (1%)\n",
      "Verifying vote totals...\n"
     ]
    },
    {
     "data": {
      "application/vnd.jupyter.widget-view+json": {
       "model_id": "5db7250c8fde4888a20724e3cad49033",
       "version_major": 2,
       "version_minor": 0
      },
      "text/plain": [
       "HBox(children=(HTML(value=''), FloatProgress(value=0.0, max=2.0), HTML(value='')))"
      ]
     },
     "metadata": {},
     "output_type": "display_data"
    },
    {
     "name": "stdout",
     "output_type": "stream",
     "text": [
      "\n",
      "> Vote totals verified — no errors\n",
      "————————————————————————————————————————————————————————————\n",
      "Loading Soil and Water - Blue Ridge Mountain.csv data...\n",
      " > Found data for 1 counties (1%)\n",
      "Verifying vote totals...\n"
     ]
    },
    {
     "data": {
      "application/vnd.jupyter.widget-view+json": {
       "model_id": "d4d44ae6eccd4af68f20e7bcb1474a51",
       "version_major": 2,
       "version_minor": 0
      },
      "text/plain": [
       "HBox(children=(HTML(value=''), FloatProgress(value=0.0, max=1.0), HTML(value='')))"
      ]
     },
     "metadata": {},
     "output_type": "display_data"
    },
    {
     "name": "stdout",
     "output_type": "stream",
     "text": [
      "\n",
      "> Vote totals verified — no errors\n",
      "————————————————————————————————————————————————————————————\n",
      "Loading State House Dist 161.csv data...\n",
      " > Found data for 2 counties (1%)\n",
      "Verifying vote totals...\n"
     ]
    },
    {
     "data": {
      "application/vnd.jupyter.widget-view+json": {
       "model_id": "016756f1d85b473db956514bc19193c9",
       "version_major": 2,
       "version_minor": 0
      },
      "text/plain": [
       "HBox(children=(HTML(value=''), FloatProgress(value=0.0, max=1.0), HTML(value='')))"
      ]
     },
     "metadata": {},
     "output_type": "display_data"
    },
    {
     "name": "stdout",
     "output_type": "stream",
     "text": [
      "\n",
      "> Vote totals verified — no errors\n",
      "————————————————————————————————————————————————————————————\n",
      "Loading Arcade Fire Advisory Board Post 2.csv data...\n",
      " > Found data for 1 counties (1%)\n",
      "Verifying vote totals...\n"
     ]
    },
    {
     "data": {
      "application/vnd.jupyter.widget-view+json": {
       "model_id": "73b81c4ccbd946a19acb61b1bfb02532",
       "version_major": 2,
       "version_minor": 0
      },
      "text/plain": [
       "HBox(children=(HTML(value=''), FloatProgress(value=0.0, max=1.0), HTML(value='')))"
      ]
     },
     "metadata": {},
     "output_type": "display_data"
    },
    {
     "name": "stdout",
     "output_type": "stream",
     "text": [
      "\n",
      "> Vote totals verified — no errors\n",
      "————————————————————————————————————————————————————————————\n",
      "Loading Dist Attorney - Ogeechee.csv data...\n",
      " > Found data for 4 counties (3%)\n",
      "Verifying vote totals...\n"
     ]
    },
    {
     "data": {
      "application/vnd.jupyter.widget-view+json": {
       "model_id": "0e4d50671552419e94466e899d5d2d1b",
       "version_major": 2,
       "version_minor": 0
      },
      "text/plain": [
       "HBox(children=(HTML(value=''), FloatProgress(value=0.0, max=1.0), HTML(value='')))"
      ]
     },
     "metadata": {},
     "output_type": "display_data"
    },
    {
     "name": "stdout",
     "output_type": "stream",
     "text": [
      "\n",
      "> Vote totals verified — no errors\n",
      "————————————————————————————————————————————————————————————\n",
      "Loading County Commission Post 1.csv data...\n",
      " > Found data for 8 counties (5%)\n",
      "Verifying vote totals...\n"
     ]
    },
    {
     "data": {
      "application/vnd.jupyter.widget-view+json": {
       "model_id": "497d2b17d4064e20b8abf9b28ddda8ed",
       "version_major": 2,
       "version_minor": 0
      },
      "text/plain": [
       "HBox(children=(HTML(value=''), FloatProgress(value=0.0, max=11.0), HTML(value='')))"
      ]
     },
     "metadata": {},
     "output_type": "display_data"
    },
    {
     "name": "stdout",
     "output_type": "stream",
     "text": [
      "\n",
      "> Vote totals verified — no errors\n",
      "————————————————————————————————————————————————————————————\n",
      "Loading Dist Attorney - Tallapoosa.csv data...\n",
      " > Found data for 2 counties (1%)\n",
      "Verifying vote totals...\n"
     ]
    },
    {
     "data": {
      "application/vnd.jupyter.widget-view+json": {
       "model_id": "9473123668b44df7aaab33148807ad90",
       "version_major": 2,
       "version_minor": 0
      },
      "text/plain": [
       "HBox(children=(HTML(value=''), FloatProgress(value=0.0, max=1.0), HTML(value='')))"
      ]
     },
     "metadata": {},
     "output_type": "display_data"
    },
    {
     "name": "stdout",
     "output_type": "stream",
     "text": [
      "\n",
      "> Vote totals verified — no errors\n",
      "————————————————————————————————————————————————————————————\n",
      "Loading Holly Springs Mayor.csv data...\n",
      " > Found data for 1 counties (1%)\n",
      "Verifying vote totals...\n"
     ]
    },
    {
     "data": {
      "application/vnd.jupyter.widget-view+json": {
       "model_id": "730cb1e85bfe4f7eaecb6b582ebc115b",
       "version_major": 2,
       "version_minor": 0
      },
      "text/plain": [
       "HBox(children=(HTML(value=''), FloatProgress(value=0.0, max=1.0), HTML(value='')))"
      ]
     },
     "metadata": {},
     "output_type": "display_data"
    },
    {
     "name": "stdout",
     "output_type": "stream",
     "text": [
      "\n",
      "> Vote totals verified — no errors\n",
      "————————————————————————————————————————————————————————————\n",
      "Loading Soil and Water - Alapaha.csv data...\n",
      " > Found data for 1 counties (1%)\n",
      "Verifying vote totals...\n"
     ]
    },
    {
     "data": {
      "application/vnd.jupyter.widget-view+json": {
       "model_id": "6257bb41d4a747168bf4e218a62c9305",
       "version_major": 2,
       "version_minor": 0
      },
      "text/plain": [
       "HBox(children=(HTML(value=''), FloatProgress(value=0.0, max=1.0), HTML(value='')))"
      ]
     },
     "metadata": {},
     "output_type": "display_data"
    },
    {
     "name": "stdout",
     "output_type": "stream",
     "text": [
      "\n",
      "> Vote totals verified — no errors\n",
      "————————————————————————————————————————————————————————————\n",
      "Loading State House Dist 50.csv data...\n",
      " > Found data for 1 counties (1%)\n",
      "Verifying vote totals...\n"
     ]
    },
    {
     "data": {
      "application/vnd.jupyter.widget-view+json": {
       "model_id": "98988dc5166146af9e0f94b5ffb31ade",
       "version_major": 2,
       "version_minor": 0
      },
      "text/plain": [
       "HBox(children=(HTML(value=''), FloatProgress(value=0.0, max=2.0), HTML(value='')))"
      ]
     },
     "metadata": {},
     "output_type": "display_data"
    },
    {
     "name": "stdout",
     "output_type": "stream",
     "text": [
      "\n",
      "> Vote totals verified — no errors\n",
      "————————————————————————————————————————————————————————————\n",
      "Loading State House Dist 125.csv data...\n",
      " > Found data for 1 counties (1%)\n",
      "Verifying vote totals...\n"
     ]
    },
    {
     "data": {
      "application/vnd.jupyter.widget-view+json": {
       "model_id": "039b9783e1424488a82c03591a09185a",
       "version_major": 2,
       "version_minor": 0
      },
      "text/plain": [
       "HBox(children=(HTML(value=''), FloatProgress(value=0.0, max=1.0), HTML(value='')))"
      ]
     },
     "metadata": {},
     "output_type": "display_data"
    },
    {
     "name": "stdout",
     "output_type": "stream",
     "text": [
      "\n",
      "> Vote totals verified — no errors\n",
      "————————————————————————————————————————————————————————————\n",
      "Loading McDuffie County Sunday Sales of Alcohol by the Drink - Special.csv data...\n",
      " > Found data for 1 counties (1%)\n",
      "Verifying vote totals...\n"
     ]
    },
    {
     "data": {
      "application/vnd.jupyter.widget-view+json": {
       "model_id": "7088970b5c3f402ebfa875d412bcc61a",
       "version_major": 2,
       "version_minor": 0
      },
      "text/plain": [
       "HBox(children=(HTML(value=''), FloatProgress(value=0.0, max=2.0), HTML(value='')))"
      ]
     },
     "metadata": {},
     "output_type": "display_data"
    },
    {
     "name": "stdout",
     "output_type": "stream",
     "text": [
      "\n",
      "> Vote totals verified — no errors\n",
      "————————————————————————————————————————————————————————————\n",
      "Loading County Commission Precinct 4.csv data...\n",
      " > Found data for 1 counties (1%)\n",
      "Verifying vote totals...\n"
     ]
    },
    {
     "data": {
      "application/vnd.jupyter.widget-view+json": {
       "model_id": "be8bfd3ea1324fb28712fd19a2dec6e4",
       "version_major": 2,
       "version_minor": 0
      },
      "text/plain": [
       "HBox(children=(HTML(value=''), FloatProgress(value=0.0, max=1.0), HTML(value='')))"
      ]
     },
     "metadata": {},
     "output_type": "display_data"
    },
    {
     "name": "stdout",
     "output_type": "stream",
     "text": [
      "\n",
      "> Vote totals verified — no errors\n",
      "————————————————————————————————————————————————————————————\n",
      "Loading State House Dist 164.csv data...\n",
      " > Found data for 3 counties (2%)\n",
      "Verifying vote totals...\n"
     ]
    },
    {
     "data": {
      "application/vnd.jupyter.widget-view+json": {
       "model_id": "407ef171f54348d8a5be1b35180d8aa0",
       "version_major": 2,
       "version_minor": 0
      },
      "text/plain": [
       "HBox(children=(HTML(value=''), FloatProgress(value=0.0, max=2.0), HTML(value='')))"
      ]
     },
     "metadata": {},
     "output_type": "display_data"
    },
    {
     "name": "stdout",
     "output_type": "stream",
     "text": [
      "\n",
      "> Vote totals verified — no errors\n",
      "————————————————————————————————————————————————————————————\n",
      "Loading State Senate Dist 1.csv data...\n",
      " > Found data for 3 counties (2%)\n",
      "Verifying vote totals...\n"
     ]
    },
    {
     "data": {
      "application/vnd.jupyter.widget-view+json": {
       "model_id": "ce4d5110ec2a4b1f9a959b8c777ea9dc",
       "version_major": 2,
       "version_minor": 0
      },
      "text/plain": [
       "HBox(children=(HTML(value=''), FloatProgress(value=0.0, max=1.0), HTML(value='')))"
      ]
     },
     "metadata": {},
     "output_type": "display_data"
    },
    {
     "name": "stdout",
     "output_type": "stream",
     "text": [
      "\n",
      "> Vote totals verified — no errors\n",
      "————————————————————————————————————————————————————————————\n",
      "Loading State House Dist 21.csv data...\n",
      " > Found data for 1 counties (1%)\n",
      "Verifying vote totals...\n"
     ]
    },
    {
     "data": {
      "application/vnd.jupyter.widget-view+json": {
       "model_id": "c5cb24c0904b400b87d5789d455251e1",
       "version_major": 2,
       "version_minor": 0
      },
      "text/plain": [
       "HBox(children=(HTML(value=''), FloatProgress(value=0.0, max=2.0), HTML(value='')))"
      ]
     },
     "metadata": {},
     "output_type": "display_data"
    },
    {
     "name": "stdout",
     "output_type": "stream",
     "text": [
      "\n",
      "> Vote totals verified — no errors\n",
      "————————————————————————————————————————————————————————————\n",
      "Loading State House Dist 108.csv data...\n",
      " > Found data for 1 counties (1%)\n",
      "Verifying vote totals...\n"
     ]
    },
    {
     "data": {
      "application/vnd.jupyter.widget-view+json": {
       "model_id": "f7ef81bd949a4d8f8ae9d25d82213b52",
       "version_major": 2,
       "version_minor": 0
      },
      "text/plain": [
       "HBox(children=(HTML(value=''), FloatProgress(value=0.0, max=2.0), HTML(value='')))"
      ]
     },
     "metadata": {},
     "output_type": "display_data"
    },
    {
     "name": "stdout",
     "output_type": "stream",
     "text": [
      "\n",
      "> Vote totals verified — no errors\n",
      "————————————————————————————————————————————————————————————\n",
      "Loading State House Dist 119.csv data...\n",
      " > Found data for 2 counties (1%)\n",
      "Verifying vote totals...\n"
     ]
    },
    {
     "data": {
      "application/vnd.jupyter.widget-view+json": {
       "model_id": "fc37e3befc5242c8b9af18f774bcc948",
       "version_major": 2,
       "version_minor": 0
      },
      "text/plain": [
       "HBox(children=(HTML(value=''), FloatProgress(value=0.0, max=2.0), HTML(value='')))"
      ]
     },
     "metadata": {},
     "output_type": "display_data"
    },
    {
     "name": "stdout",
     "output_type": "stream",
     "text": [
      "\n",
      "> Vote totals verified — no errors\n",
      "————————————————————————————————————————————————————————————\n",
      "Loading Municipal Court Judge.csv data...\n",
      " > Found data for 1 counties (1%)\n",
      "Verifying vote totals...\n"
     ]
    },
    {
     "data": {
      "application/vnd.jupyter.widget-view+json": {
       "model_id": "4682bd73e0164ac398690365c48f2e8a",
       "version_major": 2,
       "version_minor": 0
      },
      "text/plain": [
       "HBox(children=(HTML(value=''), FloatProgress(value=0.0, max=1.0), HTML(value='')))"
      ]
     },
     "metadata": {},
     "output_type": "display_data"
    },
    {
     "name": "stdout",
     "output_type": "stream",
     "text": [
      "\n",
      "> Vote totals verified — no errors\n",
      "————————————————————————————————————————————————————————————\n",
      "Loading North Jackson Fire Advisory Board Post 6.csv data...\n",
      " > Found data for 1 counties (1%)\n",
      "Verifying vote totals...\n"
     ]
    },
    {
     "data": {
      "application/vnd.jupyter.widget-view+json": {
       "model_id": "ec7565167f11461ba9e53c8aa043fa26",
       "version_major": 2,
       "version_minor": 0
      },
      "text/plain": [
       "HBox(children=(HTML(value=''), FloatProgress(value=0.0, max=1.0), HTML(value='')))"
      ]
     },
     "metadata": {},
     "output_type": "display_data"
    },
    {
     "name": "stdout",
     "output_type": "stream",
     "text": [
      "\n",
      "> Vote totals verified — no errors\n",
      "————————————————————————————————————————————————————————————\n",
      "Loading State House Dist 124.csv data...\n",
      " > Found data for 1 counties (1%)\n",
      "Verifying vote totals...\n"
     ]
    },
    {
     "data": {
      "application/vnd.jupyter.widget-view+json": {
       "model_id": "e5399e34624246f89c460866363e15a8",
       "version_major": 2,
       "version_minor": 0
      },
      "text/plain": [
       "HBox(children=(HTML(value=''), FloatProgress(value=0.0, max=1.0), HTML(value='')))"
      ]
     },
     "metadata": {},
     "output_type": "display_data"
    },
    {
     "name": "stdout",
     "output_type": "stream",
     "text": [
      "\n",
      "> Vote totals verified — no errors\n",
      "————————————————————————————————————————————————————————————\n",
      "Loading State House Dist 88.csv data...\n",
      " > Found data for 1 counties (1%)\n",
      "Verifying vote totals...\n"
     ]
    },
    {
     "data": {
      "application/vnd.jupyter.widget-view+json": {
       "model_id": "6541f1f0c48f40cba657c7a736a7dc0c",
       "version_major": 2,
       "version_minor": 0
      },
      "text/plain": [
       "HBox(children=(HTML(value=''), FloatProgress(value=0.0, max=1.0), HTML(value='')))"
      ]
     },
     "metadata": {},
     "output_type": "display_data"
    },
    {
     "name": "stdout",
     "output_type": "stream",
     "text": [
      "\n",
      "> Vote totals verified — no errors\n",
      "————————————————————————————————————————————————————————————\n",
      "Loading State House Dist 110.csv data...\n",
      " > Found data for 3 counties (2%)\n",
      "Verifying vote totals...\n"
     ]
    },
    {
     "data": {
      "application/vnd.jupyter.widget-view+json": {
       "model_id": "85efd89e983745718c9bf3d3f478f0a9",
       "version_major": 2,
       "version_minor": 0
      },
      "text/plain": [
       "HBox(children=(HTML(value=''), FloatProgress(value=0.0, max=2.0), HTML(value='')))"
      ]
     },
     "metadata": {},
     "output_type": "display_data"
    },
    {
     "name": "stdout",
     "output_type": "stream",
     "text": [
      "\n",
      "> Vote totals verified — no errors\n",
      "————————————————————————————————————————————————————————————\n",
      "Loading Arcade Fire Advisory Board Post 1.csv data...\n",
      " > Found data for 1 counties (1%)\n",
      "Verifying vote totals...\n"
     ]
    },
    {
     "data": {
      "application/vnd.jupyter.widget-view+json": {
       "model_id": "73badc9a0e20487c860df713c9466585",
       "version_major": 2,
       "version_minor": 0
      },
      "text/plain": [
       "HBox(children=(HTML(value=''), FloatProgress(value=0.0, max=1.0), HTML(value='')))"
      ]
     },
     "metadata": {},
     "output_type": "display_data"
    },
    {
     "name": "stdout",
     "output_type": "stream",
     "text": [
      "\n",
      "> Vote totals verified — no errors\n",
      "————————————————————————————————————————————————————————————\n",
      "Loading State House Dist 53.csv data...\n",
      " > Found data for 2 counties (1%)\n",
      "Verifying vote totals...\n"
     ]
    },
    {
     "data": {
      "application/vnd.jupyter.widget-view+json": {
       "model_id": "edf446d710a343728f7d266ce61f7c57",
       "version_major": 2,
       "version_minor": 0
      },
      "text/plain": [
       "HBox(children=(HTML(value=''), FloatProgress(value=0.0, max=1.0), HTML(value='')))"
      ]
     },
     "metadata": {},
     "output_type": "display_data"
    },
    {
     "name": "stdout",
     "output_type": "stream",
     "text": [
      "\n",
      "> Vote totals verified — no errors\n",
      "————————————————————————————————————————————————————————————\n",
      "Loading State House Dist 40.csv data...\n",
      " > Found data for 2 counties (1%)\n",
      "Verifying vote totals...\n"
     ]
    },
    {
     "data": {
      "application/vnd.jupyter.widget-view+json": {
       "model_id": "50ea2d77d09049f4a3702ec8a27bd55f",
       "version_major": 2,
       "version_minor": 0
      },
      "text/plain": [
       "HBox(children=(HTML(value=''), FloatProgress(value=0.0, max=2.0), HTML(value='')))"
      ]
     },
     "metadata": {},
     "output_type": "display_data"
    },
    {
     "name": "stdout",
     "output_type": "stream",
     "text": [
      "\n",
      "> Vote totals verified — no errors\n",
      "————————————————————————————————————————————————————————————\n",
      "Loading State House Dist 26.csv data...\n",
      " > Found data for 1 counties (1%)\n",
      "Verifying vote totals...\n"
     ]
    },
    {
     "data": {
      "application/vnd.jupyter.widget-view+json": {
       "model_id": "2f831fd20ec847559e0a354649f634aa",
       "version_major": 2,
       "version_minor": 0
      },
      "text/plain": [
       "HBox(children=(HTML(value=''), FloatProgress(value=0.0, max=2.0), HTML(value='')))"
      ]
     },
     "metadata": {},
     "output_type": "display_data"
    },
    {
     "name": "stdout",
     "output_type": "stream",
     "text": [
      "\n",
      "> Vote totals verified — no errors\n",
      "————————————————————————————————————————————————————————————\n",
      "Loading State House Dist 47.csv data...\n",
      " > Found data for 1 counties (1%)\n",
      "Verifying vote totals...\n"
     ]
    },
    {
     "data": {
      "application/vnd.jupyter.widget-view+json": {
       "model_id": "0263c230e0344735a42ddf77dfe8ef09",
       "version_major": 2,
       "version_minor": 0
      },
      "text/plain": [
       "HBox(children=(HTML(value=''), FloatProgress(value=0.0, max=2.0), HTML(value='')))"
      ]
     },
     "metadata": {},
     "output_type": "display_data"
    },
    {
     "name": "stdout",
     "output_type": "stream",
     "text": [
      "\n",
      "> Vote totals verified — no errors\n",
      "————————————————————————————————————————————————————————————\n",
      "Loading Board of Education Dist 5 - Special.csv data...\n",
      " > Found data for 1 counties (1%)\n",
      "Verifying vote totals...\n"
     ]
    },
    {
     "data": {
      "application/vnd.jupyter.widget-view+json": {
       "model_id": "565fa822e9ad40338963130c9dafb68d",
       "version_major": 2,
       "version_minor": 0
      },
      "text/plain": [
       "HBox(children=(HTML(value=''), FloatProgress(value=0.0, max=1.0), HTML(value='')))"
      ]
     },
     "metadata": {},
     "output_type": "display_data"
    },
    {
     "name": "stdout",
     "output_type": "stream",
     "text": [
      "\n",
      "> Vote totals verified — no errors\n",
      "————————————————————————————————————————————————————————————\n",
      "Loading Board of Education Anna Dist.csv data...\n",
      " > Found data for 1 counties (1%)\n",
      "Verifying vote totals...\n"
     ]
    },
    {
     "data": {
      "application/vnd.jupyter.widget-view+json": {
       "model_id": "5d81497640704e248447e73354106ad1",
       "version_major": 2,
       "version_minor": 0
      },
      "text/plain": [
       "HBox(children=(HTML(value=''), FloatProgress(value=0.0, max=1.0), HTML(value='')))"
      ]
     },
     "metadata": {},
     "output_type": "display_data"
    },
    {
     "name": "stdout",
     "output_type": "stream",
     "text": [
      "\n",
      "> Vote totals verified — no errors\n",
      "————————————————————————————————————————————————————————————\n",
      "Loading State Senate Dist 10.csv data...\n",
      " > Found data for 2 counties (1%)\n",
      "Verifying vote totals...\n"
     ]
    },
    {
     "data": {
      "application/vnd.jupyter.widget-view+json": {
       "model_id": "5bce67d4752b42fda9eeb8703e7ef025",
       "version_major": 2,
       "version_minor": 0
      },
      "text/plain": [
       "HBox(children=(HTML(value=''), FloatProgress(value=0.0, max=1.0), HTML(value='')))"
      ]
     },
     "metadata": {},
     "output_type": "display_data"
    },
    {
     "name": "stdout",
     "output_type": "stream",
     "text": [
      "\n",
      "> Vote totals verified — no errors\n",
      "————————————————————————————————————————————————————————————\n",
      "Loading Good Hope City Council Post 5.csv data...\n",
      " > Found data for 1 counties (1%)\n",
      "Verifying vote totals...\n"
     ]
    },
    {
     "data": {
      "application/vnd.jupyter.widget-view+json": {
       "model_id": "3544060fc560429891b8b988377b90aa",
       "version_major": 2,
       "version_minor": 0
      },
      "text/plain": [
       "HBox(children=(HTML(value=''), FloatProgress(value=0.0, max=1.0), HTML(value='')))"
      ]
     },
     "metadata": {},
     "output_type": "display_data"
    },
    {
     "name": "stdout",
     "output_type": "stream",
     "text": [
      "\n",
      "> Vote totals verified — no errors\n",
      "————————————————————————————————————————————————————————————\n",
      "Loading Board of Education At Large - Cordele.csv data...\n",
      " > Found data for 1 counties (1%)\n",
      "Verifying vote totals...\n"
     ]
    },
    {
     "data": {
      "application/vnd.jupyter.widget-view+json": {
       "model_id": "cbc626c37cfc4238b98828e17d180eda",
       "version_major": 2,
       "version_minor": 0
      },
      "text/plain": [
       "HBox(children=(HTML(value=''), FloatProgress(value=0.0, max=2.0), HTML(value='')))"
      ]
     },
     "metadata": {},
     "output_type": "display_data"
    },
    {
     "name": "stdout",
     "output_type": "stream",
     "text": [
      "\n",
      "> Vote totals verified — no errors\n",
      "————————————————————————————————————————————————————————————\n",
      "Loading St. Marys Mayor.csv data...\n",
      " > Found data for 1 counties (1%)\n",
      "Verifying vote totals...\n"
     ]
    },
    {
     "data": {
      "application/vnd.jupyter.widget-view+json": {
       "model_id": "1b616c65dff547818d2b656234515546",
       "version_major": 2,
       "version_minor": 0
      },
      "text/plain": [
       "HBox(children=(HTML(value=''), FloatProgress(value=0.0, max=2.0), HTML(value='')))"
      ]
     },
     "metadata": {},
     "output_type": "display_data"
    },
    {
     "name": "stdout",
     "output_type": "stream",
     "text": [
      "\n",
      "> Vote totals verified — no errors\n",
      "————————————————————————————————————————————————————————————\n",
      "Loading Jackson Trail Fire Advisory Board Post 1.csv data...\n",
      " > Found data for 1 counties (1%)\n",
      "Verifying vote totals...\n"
     ]
    },
    {
     "data": {
      "application/vnd.jupyter.widget-view+json": {
       "model_id": "ea59b26cc19a45ccb4f4a77ef00d41cb",
       "version_major": 2,
       "version_minor": 0
      },
      "text/plain": [
       "HBox(children=(HTML(value=''), FloatProgress(value=0.0, max=1.0), HTML(value='')))"
      ]
     },
     "metadata": {},
     "output_type": "display_data"
    },
    {
     "name": "stdout",
     "output_type": "stream",
     "text": [
      "\n",
      "> Vote totals verified — no errors\n",
      "————————————————————————————————————————————————————————————\n",
      "Loading State House Dist 25.csv data...\n",
      " > Found data for 2 counties (1%)\n",
      "Verifying vote totals...\n"
     ]
    },
    {
     "data": {
      "application/vnd.jupyter.widget-view+json": {
       "model_id": "3040d7e944d742278e66456e60bc77fb",
       "version_major": 2,
       "version_minor": 0
      },
      "text/plain": [
       "HBox(children=(HTML(value=''), FloatProgress(value=0.0, max=2.0), HTML(value='')))"
      ]
     },
     "metadata": {},
     "output_type": "display_data"
    },
    {
     "name": "stdout",
     "output_type": "stream",
     "text": [
      "\n",
      "> Vote totals verified — no errors\n",
      "————————————————————————————————————————————————————————————\n",
      "Loading County Commission Milford Dist.csv data...\n",
      " > Found data for 1 counties (1%)\n",
      "Verifying vote totals...\n"
     ]
    },
    {
     "data": {
      "application/vnd.jupyter.widget-view+json": {
       "model_id": "d1a9f61a32e442158194f040aa376b20",
       "version_major": 2,
       "version_minor": 0
      },
      "text/plain": [
       "HBox(children=(HTML(value=''), FloatProgress(value=0.0, max=1.0), HTML(value='')))"
      ]
     },
     "metadata": {},
     "output_type": "display_data"
    },
    {
     "name": "stdout",
     "output_type": "stream",
     "text": [
      "\n",
      "> Vote totals verified — no errors\n",
      "————————————————————————————————————————————————————————————\n",
      "Loading Holly Springs City Council Ward 3.csv data...\n",
      " > Found data for 1 counties (1%)\n",
      "Verifying vote totals...\n"
     ]
    },
    {
     "data": {
      "application/vnd.jupyter.widget-view+json": {
       "model_id": "3fb8e2c169f24349a33aac1e34363d6a",
       "version_major": 2,
       "version_minor": 0
      },
      "text/plain": [
       "HBox(children=(HTML(value=''), FloatProgress(value=0.0, max=1.0), HTML(value='')))"
      ]
     },
     "metadata": {},
     "output_type": "display_data"
    },
    {
     "name": "stdout",
     "output_type": "stream",
     "text": [
      "\n",
      "> Vote totals verified — no errors\n",
      "————————————————————————————————————————————————————————————\n",
      "Loading State House Dist 58.csv data...\n",
      " > Found data for 1 counties (1%)\n",
      "Verifying vote totals...\n"
     ]
    },
    {
     "data": {
      "application/vnd.jupyter.widget-view+json": {
       "model_id": "af416f6d94fa48cabfd43a5412d75be2",
       "version_major": 2,
       "version_minor": 0
      },
      "text/plain": [
       "HBox(children=(HTML(value=''), FloatProgress(value=0.0, max=1.0), HTML(value='')))"
      ]
     },
     "metadata": {},
     "output_type": "display_data"
    },
    {
     "name": "stdout",
     "output_type": "stream",
     "text": [
      "\n",
      "> Vote totals verified — no errors\n",
      "————————————————————————————————————————————————————————————\n",
      "Loading Dist Attorney - Augusta.csv data...\n",
      " > Found data for 3 counties (2%)\n",
      "Verifying vote totals...\n"
     ]
    },
    {
     "data": {
      "application/vnd.jupyter.widget-view+json": {
       "model_id": "11aeca0154294fea873e5a2e8f7a22b3",
       "version_major": 2,
       "version_minor": 0
      },
      "text/plain": [
       "HBox(children=(HTML(value=''), FloatProgress(value=0.0, max=2.0), HTML(value='')))"
      ]
     },
     "metadata": {},
     "output_type": "display_data"
    },
    {
     "name": "stdout",
     "output_type": "stream",
     "text": [
      "\n",
      "> Vote totals verified — no errors\n",
      "————————————————————————————————————————————————————————————\n",
      "Loading US House Dist 5.csv data...\n",
      " > Found data for 3 counties (2%)\n",
      "Verifying vote totals...\n"
     ]
    },
    {
     "data": {
      "application/vnd.jupyter.widget-view+json": {
       "model_id": "9cda8af600d24620af0627d920ec0f91",
       "version_major": 2,
       "version_minor": 0
      },
      "text/plain": [
       "HBox(children=(HTML(value=''), FloatProgress(value=0.0, max=2.0), HTML(value='')))"
      ]
     },
     "metadata": {},
     "output_type": "display_data"
    },
    {
     "name": "stdout",
     "output_type": "stream",
     "text": [
      "\n",
      "> Vote totals verified — no errors\n",
      "————————————————————————————————————————————————————————————\n",
      "Loading Midway City Council - Special.csv data...\n",
      " > Found data for 1 counties (1%)\n",
      "Verifying vote totals...\n"
     ]
    },
    {
     "data": {
      "application/vnd.jupyter.widget-view+json": {
       "model_id": "2d900f74381245618ebb59dda7a001f2",
       "version_major": 2,
       "version_minor": 0
      },
      "text/plain": [
       "HBox(children=(HTML(value=''), FloatProgress(value=0.0, max=4.0), HTML(value='')))"
      ]
     },
     "metadata": {},
     "output_type": "display_data"
    },
    {
     "name": "stdout",
     "output_type": "stream",
     "text": [
      "\n",
      "> Vote totals verified — no errors\n",
      "————————————————————————————————————————————————————————————\n",
      "Loading County Commission Post 3.csv data...\n",
      " > Found data for 4 counties (3%)\n",
      "Verifying vote totals...\n"
     ]
    },
    {
     "data": {
      "application/vnd.jupyter.widget-view+json": {
       "model_id": "ec64ff37cf51416f8d8e38d6aa8ee00a",
       "version_major": 2,
       "version_minor": 0
      },
      "text/plain": [
       "HBox(children=(HTML(value=''), FloatProgress(value=0.0, max=4.0), HTML(value='')))"
      ]
     },
     "metadata": {},
     "output_type": "display_data"
    },
    {
     "name": "stdout",
     "output_type": "stream",
     "text": [
      "\n",
      "> Vote totals verified — no errors\n",
      "————————————————————————————————————————————————————————————\n",
      "Loading Dist Attorney - Conasauga.csv data...\n",
      " > Found data for 2 counties (1%)\n",
      "Verifying vote totals...\n"
     ]
    },
    {
     "data": {
      "application/vnd.jupyter.widget-view+json": {
       "model_id": "7d5c3b7d5c7e484d9230f68e42c56c39",
       "version_major": 2,
       "version_minor": 0
      },
      "text/plain": [
       "HBox(children=(HTML(value=''), FloatProgress(value=0.0, max=1.0), HTML(value='')))"
      ]
     },
     "metadata": {},
     "output_type": "display_data"
    },
    {
     "name": "stdout",
     "output_type": "stream",
     "text": [
      "\n",
      "> Vote totals verified — no errors\n",
      "————————————————————————————————————————————————————————————\n",
      "Loading State Senate Dist 11.csv data...\n",
      " > Found data for 8 counties (5%)\n",
      "Verifying vote totals...\n"
     ]
    },
    {
     "data": {
      "application/vnd.jupyter.widget-view+json": {
       "model_id": "a27efc74c9a54982bb0078a94986f560",
       "version_major": 2,
       "version_minor": 0
      },
      "text/plain": [
       "HBox(children=(HTML(value=''), FloatProgress(value=0.0, max=1.0), HTML(value='')))"
      ]
     },
     "metadata": {},
     "output_type": "display_data"
    },
    {
     "name": "stdout",
     "output_type": "stream",
     "text": [
      "\n",
      "> Vote totals verified — no errors\n",
      "————————————————————————————————————————————————————————————\n",
      "Loading State Senate Dist 52.csv data...\n",
      " > Found data for 4 counties (3%)\n",
      "Verifying vote totals...\n"
     ]
    },
    {
     "data": {
      "application/vnd.jupyter.widget-view+json": {
       "model_id": "5e94e57e9341414a8fcae8309a8cbd4c",
       "version_major": 2,
       "version_minor": 0
      },
      "text/plain": [
       "HBox(children=(HTML(value=''), FloatProgress(value=0.0, max=2.0), HTML(value='')))"
      ]
     },
     "metadata": {},
     "output_type": "display_data"
    },
    {
     "name": "stdout",
     "output_type": "stream",
     "text": [
      "\n",
      "> Vote totals verified — no errors\n",
      "————————————————————————————————————————————————————————————\n",
      "Loading County Commission Dist 2 (Term Expires 2022) - Special.csv data...\n",
      " > Found data for 1 counties (1%)\n",
      "Verifying vote totals...\n"
     ]
    },
    {
     "data": {
      "application/vnd.jupyter.widget-view+json": {
       "model_id": "c697468438ff4ccb9fcc5de3009aafc9",
       "version_major": 2,
       "version_minor": 0
      },
      "text/plain": [
       "HBox(children=(HTML(value=''), FloatProgress(value=0.0, max=5.0), HTML(value='')))"
      ]
     },
     "metadata": {},
     "output_type": "display_data"
    },
    {
     "name": "stdout",
     "output_type": "stream",
     "text": [
      "\n",
      "> Vote totals verified — no errors\n",
      "————————————————————————————————————————————————————————————\n",
      "Loading State House Dist 9.csv data...\n",
      " > Found data for 3 counties (2%)\n",
      "Verifying vote totals...\n"
     ]
    },
    {
     "data": {
      "application/vnd.jupyter.widget-view+json": {
       "model_id": "92ad64cc17e24da1a126d85a55022605",
       "version_major": 2,
       "version_minor": 0
      },
      "text/plain": [
       "HBox(children=(HTML(value=''), FloatProgress(value=0.0, max=2.0), HTML(value='')))"
      ]
     },
     "metadata": {},
     "output_type": "display_data"
    },
    {
     "name": "stdout",
     "output_type": "stream",
     "text": [
      "\n",
      "> Vote totals verified — no errors\n",
      "————————————————————————————————————————————————————————————\n",
      "Loading County Commissioner Dist 2.csv data...\n",
      " > Found data for 1 counties (1%)\n",
      "Verifying vote totals...\n"
     ]
    },
    {
     "data": {
      "application/vnd.jupyter.widget-view+json": {
       "model_id": "5bf311b2fbf34e06a1c9c3ce71b76728",
       "version_major": 2,
       "version_minor": 0
      },
      "text/plain": [
       "HBox(children=(HTML(value=''), FloatProgress(value=0.0, max=1.0), HTML(value='')))"
      ]
     },
     "metadata": {},
     "output_type": "display_data"
    },
    {
     "name": "stdout",
     "output_type": "stream",
     "text": [
      "\n",
      "> Vote totals verified — no errors\n",
      "————————————————————————————————————————————————————————————\n",
      "Loading State Senate Dist 9.csv data...\n",
      " > Found data for 1 counties (1%)\n",
      "Verifying vote totals...\n"
     ]
    },
    {
     "data": {
      "application/vnd.jupyter.widget-view+json": {
       "model_id": "d9d0938080104873b38b503e84d8fe64",
       "version_major": 2,
       "version_minor": 0
      },
      "text/plain": [
       "HBox(children=(HTML(value=''), FloatProgress(value=0.0, max=2.0), HTML(value='')))"
      ]
     },
     "metadata": {},
     "output_type": "display_data"
    },
    {
     "name": "stdout",
     "output_type": "stream",
     "text": [
      "\n",
      "> Vote totals verified — no errors\n",
      "————————————————————————————————————————————————————————————\n",
      "Loading State House Dist 62.csv data...\n",
      " > Found data for 2 counties (1%)\n",
      "Verifying vote totals...\n"
     ]
    },
    {
     "data": {
      "application/vnd.jupyter.widget-view+json": {
       "model_id": "65021945fecb4b8dbe956f75b50c0d52",
       "version_major": 2,
       "version_minor": 0
      },
      "text/plain": [
       "HBox(children=(HTML(value=''), FloatProgress(value=0.0, max=1.0), HTML(value='')))"
      ]
     },
     "metadata": {},
     "output_type": "display_data"
    },
    {
     "name": "stdout",
     "output_type": "stream",
     "text": [
      "\n",
      "> Vote totals verified — no errors\n",
      "————————————————————————————————————————————————————————————\n",
      "Loading US House Dist 14.csv data...\n",
      " > Found data for 12 counties (8%)\n",
      "Verifying vote totals...\n"
     ]
    },
    {
     "data": {
      "application/vnd.jupyter.widget-view+json": {
       "model_id": "204757183de3494dbd6d8a8a0ebdc635",
       "version_major": 2,
       "version_minor": 0
      },
      "text/plain": [
       "HBox(children=(HTML(value=''), FloatProgress(value=0.0, max=2.0), HTML(value='')))"
      ]
     },
     "metadata": {},
     "output_type": "display_data"
    },
    {
     "name": "stdout",
     "output_type": "stream",
     "text": [
      "\n",
      "> Vote totals verified — no errors\n",
      "————————————————————————————————————————————————————————————\n",
      "Loading State Senate Dist 12.csv data...\n",
      " > Found data for 11 counties (7%)\n",
      "Verifying vote totals...\n"
     ]
    },
    {
     "data": {
      "application/vnd.jupyter.widget-view+json": {
       "model_id": "9a34f414a6b74da5a100b69d506a8f49",
       "version_major": 2,
       "version_minor": 0
      },
      "text/plain": [
       "HBox(children=(HTML(value=''), FloatProgress(value=0.0, max=2.0), HTML(value='')))"
      ]
     },
     "metadata": {},
     "output_type": "display_data"
    },
    {
     "name": "stdout",
     "output_type": "stream",
     "text": [
      "\n",
      "> Vote totals verified — no errors\n",
      "————————————————————————————————————————————————————————————\n",
      "Loading Vidalia Mayor - Special.csv data...\n",
      " > Found data for 2 counties (1%)\n",
      "Verifying vote totals...\n"
     ]
    },
    {
     "data": {
      "application/vnd.jupyter.widget-view+json": {
       "model_id": "58b9e6279d99443fbd7418fab7bcf5ed",
       "version_major": 2,
       "version_minor": 0
      },
      "text/plain": [
       "HBox(children=(HTML(value=''), FloatProgress(value=0.0, max=2.0), HTML(value='')))"
      ]
     },
     "metadata": {},
     "output_type": "display_data"
    },
    {
     "name": "stdout",
     "output_type": "stream",
     "text": [
      "\n",
      "> Vote totals verified — no errors\n",
      "————————————————————————————————————————————————————————————\n",
      "Loading Board of Education Milford Dist.csv data...\n",
      " > Found data for 1 counties (1%)\n",
      "Verifying vote totals...\n"
     ]
    },
    {
     "data": {
      "application/vnd.jupyter.widget-view+json": {
       "model_id": "24b5407feea346d28669182e3c0642e9",
       "version_major": 2,
       "version_minor": 0
      },
      "text/plain": [
       "HBox(children=(HTML(value=''), FloatProgress(value=0.0, max=1.0), HTML(value='')))"
      ]
     },
     "metadata": {},
     "output_type": "display_data"
    },
    {
     "name": "stdout",
     "output_type": "stream",
     "text": [
      "\n",
      "> Vote totals verified — no errors\n",
      "————————————————————————————————————————————————————————————\n",
      "Loading State House Dist 100.csv data...\n",
      " > Found data for 1 counties (1%)\n",
      "Verifying vote totals...\n"
     ]
    },
    {
     "data": {
      "application/vnd.jupyter.widget-view+json": {
       "model_id": "20510d09ad9147d48a422a6982753890",
       "version_major": 2,
       "version_minor": 0
      },
      "text/plain": [
       "HBox(children=(HTML(value=''), FloatProgress(value=0.0, max=1.0), HTML(value='')))"
      ]
     },
     "metadata": {},
     "output_type": "display_data"
    },
    {
     "name": "stdout",
     "output_type": "stream",
     "text": [
      "\n",
      "> Vote totals verified — no errors\n",
      "————————————————————————————————————————————————————————————\n",
      "Loading State House Dist 130.csv data...\n",
      " > Found data for 3 counties (2%)\n",
      "Verifying vote totals...\n"
     ]
    },
    {
     "data": {
      "application/vnd.jupyter.widget-view+json": {
       "model_id": "75dd0ff4f66f4867b96854b27816bc17",
       "version_major": 2,
       "version_minor": 0
      },
      "text/plain": [
       "HBox(children=(HTML(value=''), FloatProgress(value=0.0, max=2.0), HTML(value='')))"
      ]
     },
     "metadata": {},
     "output_type": "display_data"
    },
    {
     "name": "stdout",
     "output_type": "stream",
     "text": [
      "\n",
      "> Vote totals verified — no errors\n",
      "————————————————————————————————————————————————————————————\n",
      "Loading Co Commission Chair.csv data...\n",
      " > Found data for 1 counties (1%)\n",
      "Verifying vote totals...\n"
     ]
    },
    {
     "data": {
      "application/vnd.jupyter.widget-view+json": {
       "model_id": "2d351ddf569a41258600bdd722917362",
       "version_major": 2,
       "version_minor": 0
      },
      "text/plain": [
       "HBox(children=(HTML(value=''), FloatProgress(value=0.0, max=2.0), HTML(value='')))"
      ]
     },
     "metadata": {},
     "output_type": "display_data"
    },
    {
     "name": "stdout",
     "output_type": "stream",
     "text": [
      "\n",
      "> Vote totals verified — no errors\n",
      "————————————————————————————————————————————————————————————\n",
      "Loading State House Dist 27.csv data...\n",
      " > Found data for 2 counties (1%)\n",
      "Verifying vote totals...\n"
     ]
    },
    {
     "data": {
      "application/vnd.jupyter.widget-view+json": {
       "model_id": "618dcab0aeff439cb7fe1ce18a1397bb",
       "version_major": 2,
       "version_minor": 0
      },
      "text/plain": [
       "HBox(children=(HTML(value=''), FloatProgress(value=0.0, max=1.0), HTML(value='')))"
      ]
     },
     "metadata": {},
     "output_type": "display_data"
    },
    {
     "name": "stdout",
     "output_type": "stream",
     "text": [
      "\n",
      "> Vote totals verified — no errors\n",
      "————————————————————————————————————————————————————————————\n",
      "Loading Board of Education Dist 4.csv data...\n",
      " > Found data for 33 counties (21%)\n",
      "Verifying vote totals...\n"
     ]
    },
    {
     "data": {
      "application/vnd.jupyter.widget-view+json": {
       "model_id": "c060da8ba1ae43c890fe37d27f96bf7a",
       "version_major": 2,
       "version_minor": 0
      },
      "text/plain": [
       "HBox(children=(HTML(value=''), FloatProgress(value=0.0, max=39.0), HTML(value='')))"
      ]
     },
     "metadata": {},
     "output_type": "display_data"
    },
    {
     "name": "stdout",
     "output_type": "stream",
     "text": [
      "\n",
      ">>> Vote totals verified — 0.00015 error rate\n",
      "————————————————————————————————————————————————————————————\n",
      "Loading County Commission Dist 1, Seat A.csv data...\n",
      " > Found data for 1 counties (1%)\n",
      "Verifying vote totals...\n"
     ]
    },
    {
     "data": {
      "application/vnd.jupyter.widget-view+json": {
       "model_id": "708a92075a764d0e874b193c5b9e82d2",
       "version_major": 2,
       "version_minor": 0
      },
      "text/plain": [
       "HBox(children=(HTML(value=''), FloatProgress(value=0.0, max=1.0), HTML(value='')))"
      ]
     },
     "metadata": {},
     "output_type": "display_data"
    },
    {
     "name": "stdout",
     "output_type": "stream",
     "text": [
      "\n",
      "> Vote totals verified — no errors\n",
      "————————————————————————————————————————————————————————————\n",
      "Loading State Senate Dist 54.csv data...\n",
      " > Found data for 4 counties (3%)\n",
      "Verifying vote totals...\n"
     ]
    },
    {
     "data": {
      "application/vnd.jupyter.widget-view+json": {
       "model_id": "81fcef14e56e43ca8ab173572667ce75",
       "version_major": 2,
       "version_minor": 0
      },
      "text/plain": [
       "HBox(children=(HTML(value=''), FloatProgress(value=0.0, max=1.0), HTML(value='')))"
      ]
     },
     "metadata": {},
     "output_type": "display_data"
    },
    {
     "name": "stdout",
     "output_type": "stream",
     "text": [
      "\n",
      "> Vote totals verified — no errors\n",
      "————————————————————————————————————————————————————————————\n",
      "Loading St. Marys City Council Post 5.csv data...\n",
      " > Found data for 1 counties (1%)\n",
      "Verifying vote totals...\n"
     ]
    },
    {
     "data": {
      "application/vnd.jupyter.widget-view+json": {
       "model_id": "5e6117a069254f7fb63687720d584df9",
       "version_major": 2,
       "version_minor": 0
      },
      "text/plain": [
       "HBox(children=(HTML(value=''), FloatProgress(value=0.0, max=3.0), HTML(value='')))"
      ]
     },
     "metadata": {},
     "output_type": "display_data"
    },
    {
     "name": "stdout",
     "output_type": "stream",
     "text": [
      "\n",
      "> Vote totals verified — no errors\n",
      "————————————————————————————————————————————————————————————\n",
      "Loading County Commission Dist 3 Post 1.csv data...\n",
      " > Found data for 1 counties (1%)\n",
      "Verifying vote totals...\n"
     ]
    },
    {
     "data": {
      "application/vnd.jupyter.widget-view+json": {
       "model_id": "381d043ef97b4aa08400ccbfbd08b3eb",
       "version_major": 2,
       "version_minor": 0
      },
      "text/plain": [
       "HBox(children=(HTML(value=''), FloatProgress(value=0.0, max=2.0), HTML(value='')))"
      ]
     },
     "metadata": {},
     "output_type": "display_data"
    },
    {
     "name": "stdout",
     "output_type": "stream",
     "text": [
      "\n",
      "> Vote totals verified — no errors\n",
      "————————————————————————————————————————————————————————————\n",
      "Loading US Senate (Loeffler) - Special.csv data...\n",
      " > Found data for 159 counties (100%)\n",
      "\n",
      "POSSIBLE typo found (98% match)\n",
      " > 1. Matt Lierberman (Dem) — 220 total votes\n",
      " > 2. Matt Lieberman (Dem) — 140224 total votes\n",
      "  > Combine these the candidates? (y/n):  y\n",
      "  > Which is correct? (1 or 2)  2\n",
      " > Added 440 votes to Matt Lieberman (Dem)'s statewide total\n",
      " > Removed Matt Lierberman (Dem)\n",
      "Verifying vote totals...\n"
     ]
    },
    {
     "data": {
      "application/vnd.jupyter.widget-view+json": {
       "model_id": "5bc0d07803e14bb4a50f57f75bee6000",
       "version_major": 2,
       "version_minor": 0
      },
      "text/plain": [
       "HBox(children=(HTML(value=''), FloatProgress(value=0.0, max=20.0), HTML(value='')))"
      ]
     },
     "metadata": {},
     "output_type": "display_data"
    },
    {
     "name": "stdout",
     "output_type": "stream",
     "text": [
      "\n",
      "> Vote totals verified — no errors\n",
      "————————————————————————————————————————————————————————————\n",
      "Loading State House Dist 156.csv data...\n",
      " > Found data for 4 counties (3%)\n",
      "Verifying vote totals...\n"
     ]
    },
    {
     "data": {
      "application/vnd.jupyter.widget-view+json": {
       "model_id": "edb730f075924e7d9d964b02c8e9196d",
       "version_major": 2,
       "version_minor": 0
      },
      "text/plain": [
       "HBox(children=(HTML(value=''), FloatProgress(value=0.0, max=1.0), HTML(value='')))"
      ]
     },
     "metadata": {},
     "output_type": "display_data"
    },
    {
     "name": "stdout",
     "output_type": "stream",
     "text": [
      "\n",
      "> Vote totals verified — no errors\n",
      "————————————————————————————————————————————————————————————\n",
      "Loading State Senate Dist 29.csv data...\n",
      " > Found data for 4 counties (3%)\n",
      "Verifying vote totals...\n"
     ]
    },
    {
     "data": {
      "application/vnd.jupyter.widget-view+json": {
       "model_id": "aa4f50ba1c934194a2c80c1b12760afd",
       "version_major": 2,
       "version_minor": 0
      },
      "text/plain": [
       "HBox(children=(HTML(value=''), FloatProgress(value=0.0, max=1.0), HTML(value='')))"
      ]
     },
     "metadata": {},
     "output_type": "display_data"
    },
    {
     "name": "stdout",
     "output_type": "stream",
     "text": [
      "\n",
      "> Vote totals verified — no errors\n",
      "————————————————————————————————————————————————————————————\n",
      "Loading State House Dist 179.csv data...\n",
      " > Found data for 1 counties (1%)\n",
      "Verifying vote totals...\n"
     ]
    },
    {
     "data": {
      "application/vnd.jupyter.widget-view+json": {
       "model_id": "91dcf1870a794f62a441d723a1829c44",
       "version_major": 2,
       "version_minor": 0
      },
      "text/plain": [
       "HBox(children=(HTML(value=''), FloatProgress(value=0.0, max=2.0), HTML(value='')))"
      ]
     },
     "metadata": {},
     "output_type": "display_data"
    },
    {
     "name": "stdout",
     "output_type": "stream",
     "text": [
      "\n",
      "> Vote totals verified — no errors\n",
      "————————————————————————————————————————————————————————————\n",
      "Loading US House Dist 4.csv data...\n",
      " > Found data for 4 counties (3%)\n",
      "Verifying vote totals...\n"
     ]
    },
    {
     "data": {
      "application/vnd.jupyter.widget-view+json": {
       "model_id": "06a7464ff793407e8547d5bfe97f5da0",
       "version_major": 2,
       "version_minor": 0
      },
      "text/plain": [
       "HBox(children=(HTML(value=''), FloatProgress(value=0.0, max=2.0), HTML(value='')))"
      ]
     },
     "metadata": {},
     "output_type": "display_data"
    },
    {
     "name": "stdout",
     "output_type": "stream",
     "text": [
      "\n",
      "> Vote totals verified — no errors\n",
      "————————————————————————————————————————————————————————————\n",
      "Loading Soil and Water - McDuffie County.csv data...\n",
      " > Found data for 1 counties (1%)\n",
      "Verifying vote totals...\n"
     ]
    },
    {
     "data": {
      "application/vnd.jupyter.widget-view+json": {
       "model_id": "7a4a57e733924599bba20868504f7ec0",
       "version_major": 2,
       "version_minor": 0
      },
      "text/plain": [
       "HBox(children=(HTML(value=''), FloatProgress(value=0.0, max=3.0), HTML(value='')))"
      ]
     },
     "metadata": {},
     "output_type": "display_data"
    },
    {
     "name": "stdout",
     "output_type": "stream",
     "text": [
      "\n",
      "> Vote totals verified — no errors\n",
      "————————————————————————————————————————————————————————————\n",
      "Loading State House Dist 114.csv data...\n",
      " > Found data for 4 counties (3%)\n",
      "Verifying vote totals...\n"
     ]
    },
    {
     "data": {
      "application/vnd.jupyter.widget-view+json": {
       "model_id": "15c4cd3b444e4bdf9ce99af6ae109c02",
       "version_major": 2,
       "version_minor": 0
      },
      "text/plain": [
       "HBox(children=(HTML(value=''), FloatProgress(value=0.0, max=1.0), HTML(value='')))"
      ]
     },
     "metadata": {},
     "output_type": "display_data"
    },
    {
     "name": "stdout",
     "output_type": "stream",
     "text": [
      "\n",
      "> Vote totals verified — no errors\n",
      "————————————————————————————————————————————————————————————\n",
      "Loading Good Hope City Council Post 1.csv data...\n",
      " > Found data for 1 counties (1%)\n",
      "Verifying vote totals...\n"
     ]
    },
    {
     "data": {
      "application/vnd.jupyter.widget-view+json": {
       "model_id": "5195d6e315d64cbb94a627b43b2b8b27",
       "version_major": 2,
       "version_minor": 0
      },
      "text/plain": [
       "HBox(children=(HTML(value=''), FloatProgress(value=0.0, max=1.0), HTML(value='')))"
      ]
     },
     "metadata": {},
     "output_type": "display_data"
    },
    {
     "name": "stdout",
     "output_type": "stream",
     "text": [
      "\n",
      "> Vote totals verified — no errors\n",
      "————————————————————————————————————————————————————————————\n",
      "Loading County Commission Dist 2, Seat C.csv data...\n",
      " > Found data for 1 counties (1%)\n",
      "Verifying vote totals...\n"
     ]
    },
    {
     "data": {
      "application/vnd.jupyter.widget-view+json": {
       "model_id": "379df9119611400daa3133f2792991c8",
       "version_major": 2,
       "version_minor": 0
      },
      "text/plain": [
       "HBox(children=(HTML(value=''), FloatProgress(value=0.0, max=1.0), HTML(value='')))"
      ]
     },
     "metadata": {},
     "output_type": "display_data"
    },
    {
     "name": "stdout",
     "output_type": "stream",
     "text": [
      "\n",
      "> Vote totals verified — no errors\n",
      "————————————————————————————————————————————————————————————\n",
      "Loading Bethlehem Council Post 1 - Special.csv data...\n",
      " > Found data for 1 counties (1%)\n",
      "Verifying vote totals...\n"
     ]
    },
    {
     "data": {
      "application/vnd.jupyter.widget-view+json": {
       "model_id": "a4984824a3a04acbbe1a6bf61643296e",
       "version_major": 2,
       "version_minor": 0
      },
      "text/plain": [
       "HBox(children=(HTML(value=''), FloatProgress(value=0.0, max=3.0), HTML(value='')))"
      ]
     },
     "metadata": {},
     "output_type": "display_data"
    },
    {
     "name": "stdout",
     "output_type": "stream",
     "text": [
      "\n",
      "> Vote totals verified — no errors\n",
      "————————————————————————————————————————————————————————————\n",
      "Loading Folkston City Council At Large - Special.csv data...\n",
      " > Found data for 1 counties (1%)\n",
      "Verifying vote totals...\n"
     ]
    },
    {
     "data": {
      "application/vnd.jupyter.widget-view+json": {
       "model_id": "dcb5578559ca43bfa75813e5bffd4dc5",
       "version_major": 2,
       "version_minor": 0
      },
      "text/plain": [
       "HBox(children=(HTML(value=''), FloatProgress(value=0.0, max=2.0), HTML(value='')))"
      ]
     },
     "metadata": {},
     "output_type": "display_data"
    },
    {
     "name": "stdout",
     "output_type": "stream",
     "text": [
      "\n",
      "> Vote totals verified — no errors\n",
      "————————————————————————————————————————————————————————————\n",
      "Loading State House Dist 15.csv data...\n",
      " > Found data for 1 counties (1%)\n",
      "Verifying vote totals...\n"
     ]
    },
    {
     "data": {
      "application/vnd.jupyter.widget-view+json": {
       "model_id": "bf66821533e3407696d73ef64fdad8c2",
       "version_major": 2,
       "version_minor": 0
      },
      "text/plain": [
       "HBox(children=(HTML(value=''), FloatProgress(value=0.0, max=1.0), HTML(value='')))"
      ]
     },
     "metadata": {},
     "output_type": "display_data"
    },
    {
     "name": "stdout",
     "output_type": "stream",
     "text": [
      "\n",
      "> Vote totals verified — no errors\n",
      "————————————————————————————————————————————————————————————\n",
      "Loading Tax Commissioner.csv data...\n",
      " > Found data for 158 counties (99%)\n",
      "   > Missing: ['Dougherty']\n",
      "\n",
      "POSSIBLE typo found (86% match)\n",
      " > 1. Tiffany L. Prather (Dem) — 4885 total votes\n",
      " > 2. Tiffany Porter (Dem) — 222070 total votes\n",
      "  > Combine these the candidates? (y/n):  n\n",
      "\n",
      "POSSIBLE typo found (87% match)\n",
      " > 1. Brian S. Jackson (I) (Rep) — 12735 total votes\n",
      " > 2. Marian S. Jackson (I) (Dem) — 8648 total votes\n",
      "  > Combine these the candidates? (y/n):  n\n",
      "Verifying vote totals...\n"
     ]
    },
    {
     "data": {
      "application/vnd.jupyter.widget-view+json": {
       "model_id": "3ef7920580ec480ab365599e044609d7",
       "version_major": 2,
       "version_minor": 0
      },
      "text/plain": [
       "HBox(children=(HTML(value=''), FloatProgress(value=0.0, max=172.0), HTML(value='')))"
      ]
     },
     "metadata": {},
     "output_type": "display_data"
    },
    {
     "name": "stdout",
     "output_type": "stream",
     "text": [
      "\n",
      ">>> Vote totals verified — 0.0001 error rate\n",
      "————————————————————————————————————————————————————————————\n",
      "Loading Manchester Regulation of Distilled Spirits Sales By the Drink - Special.csv data...\n",
      " > Found data for 1 counties (1%)\n",
      "Verifying vote totals...\n"
     ]
    },
    {
     "data": {
      "application/vnd.jupyter.widget-view+json": {
       "model_id": "f841e379e03541108741576d6a8cc7aa",
       "version_major": 2,
       "version_minor": 0
      },
      "text/plain": [
       "HBox(children=(HTML(value=''), FloatProgress(value=0.0, max=2.0), HTML(value='')))"
      ]
     },
     "metadata": {},
     "output_type": "display_data"
    },
    {
     "name": "stdout",
     "output_type": "stream",
     "text": [
      "\n",
      "> Vote totals verified — no errors\n",
      "————————————————————————————————————————————————————————————\n",
      "Loading Soil and Water - Oconee River.csv data...\n",
      " > Found data for 2 counties (1%)\n",
      "Verifying vote totals...\n"
     ]
    },
    {
     "data": {
      "application/vnd.jupyter.widget-view+json": {
       "model_id": "56cf301f8a8d457bac8cbfa5e8bda69c",
       "version_major": 2,
       "version_minor": 0
      },
      "text/plain": [
       "HBox(children=(HTML(value=''), FloatProgress(value=0.0, max=2.0), HTML(value='')))"
      ]
     },
     "metadata": {},
     "output_type": "display_data"
    },
    {
     "name": "stdout",
     "output_type": "stream",
     "text": [
      "\n",
      "> Vote totals verified — no errors\n",
      "————————————————————————————————————————————————————————————\n",
      "Loading State House Dist 87.csv data...\n",
      " > Found data for 1 counties (1%)\n",
      "Verifying vote totals...\n"
     ]
    },
    {
     "data": {
      "application/vnd.jupyter.widget-view+json": {
       "model_id": "b4b3dd8b7f414efb85a27f22508820f5",
       "version_major": 2,
       "version_minor": 0
      },
      "text/plain": [
       "HBox(children=(HTML(value=''), FloatProgress(value=0.0, max=1.0), HTML(value='')))"
      ]
     },
     "metadata": {},
     "output_type": "display_data"
    },
    {
     "name": "stdout",
     "output_type": "stream",
     "text": [
      "\n",
      "> Vote totals verified — no errors\n",
      "————————————————————————————————————————————————————————————\n",
      "Loading State House Dist 59.csv data...\n",
      " > Found data for 1 counties (1%)\n",
      "Verifying vote totals...\n"
     ]
    },
    {
     "data": {
      "application/vnd.jupyter.widget-view+json": {
       "model_id": "25a46bc038294764837835c6a765c784",
       "version_major": 2,
       "version_minor": 0
      },
      "text/plain": [
       "HBox(children=(HTML(value=''), FloatProgress(value=0.0, max=1.0), HTML(value='')))"
      ]
     },
     "metadata": {},
     "output_type": "display_data"
    },
    {
     "name": "stdout",
     "output_type": "stream",
     "text": [
      "\n",
      "> Vote totals verified — no errors\n",
      "————————————————————————————————————————————————————————————\n",
      "Loading Board of Education Post 5.csv data...\n",
      " > Found data for 2 counties (1%)\n",
      "Verifying vote totals...\n"
     ]
    },
    {
     "data": {
      "application/vnd.jupyter.widget-view+json": {
       "model_id": "aa34c2688ca24ca5be13d3ff1007fbeb",
       "version_major": 2,
       "version_minor": 0
      },
      "text/plain": [
       "HBox(children=(HTML(value=''), FloatProgress(value=0.0, max=3.0), HTML(value='')))"
      ]
     },
     "metadata": {},
     "output_type": "display_data"
    },
    {
     "name": "stdout",
     "output_type": "stream",
     "text": [
      "\n",
      "> Vote totals verified — no errors\n",
      "————————————————————————————————————————————————————————————\n",
      "Loading Nicholson Fire Advisory Board Post 4.csv data...\n",
      " > Found data for 1 counties (1%)\n",
      "Verifying vote totals...\n"
     ]
    },
    {
     "data": {
      "application/vnd.jupyter.widget-view+json": {
       "model_id": "1a351e9221794f9285d2445656900451",
       "version_major": 2,
       "version_minor": 0
      },
      "text/plain": [
       "HBox(children=(HTML(value=''), FloatProgress(value=0.0, max=1.0), HTML(value='')))"
      ]
     },
     "metadata": {},
     "output_type": "display_data"
    },
    {
     "name": "stdout",
     "output_type": "stream",
     "text": [
      "\n",
      "> Vote totals verified — no errors\n",
      "————————————————————————————————————————————————————————————\n",
      "Loading County Commission Dist 3.csv data...\n",
      " > Found data for 66 counties (42%)\n",
      "\n",
      "POSSIBLE typo found (91% match)\n",
      " > 1. Gail C. Robinson (I) (Rep) — 57023 total votes\n",
      " > 2. David C. Robinson (I) (Rep) — 741 total votes\n",
      "  > Combine these the candidates? (y/n):  n\n",
      "\n",
      "POSSIBLE typo found (88% match)\n",
      " > 1. Rita Johnson (I) (Dem) — 2743 total votes\n",
      " > 2. Sam Johnson (I) (Dem) — 227 total votes\n",
      "  > Combine these the candidates? (y/n):  n\n",
      "Verifying vote totals...\n"
     ]
    },
    {
     "data": {
      "application/vnd.jupyter.widget-view+json": {
       "model_id": "3256896c359248e88b77d4e3d3ddf811",
       "version_major": 2,
       "version_minor": 0
      },
      "text/plain": [
       "HBox(children=(HTML(value=''), FloatProgress(value=0.0, max=79.0), HTML(value='')))"
      ]
     },
     "metadata": {},
     "output_type": "display_data"
    },
    {
     "name": "stdout",
     "output_type": "stream",
     "text": [
      "\n",
      ">>> Vote totals verified — 0.00047 error rate\n",
      "————————————————————————————————————————————————————————————\n",
      "Loading Clarkston Mayor - Special.csv data...\n",
      " > Found data for 1 counties (1%)\n",
      "Verifying vote totals...\n"
     ]
    },
    {
     "data": {
      "application/vnd.jupyter.widget-view+json": {
       "model_id": "dbdf87a94ba44ee1bb1ee73a812ca2bf",
       "version_major": 2,
       "version_minor": 0
      },
      "text/plain": [
       "HBox(children=(HTML(value=''), FloatProgress(value=0.0, max=2.0), HTML(value='')))"
      ]
     },
     "metadata": {},
     "output_type": "display_data"
    },
    {
     "name": "stdout",
     "output_type": "stream",
     "text": [
      "\n",
      "> Vote totals verified — no errors\n",
      "————————————————————————————————————————————————————————————\n",
      "Loading Haralson County ESPLOST - Special.csv data...\n",
      " > Found data for 1 counties (1%)\n",
      "Verifying vote totals...\n"
     ]
    },
    {
     "data": {
      "application/vnd.jupyter.widget-view+json": {
       "model_id": "08d65d27b7bc4826b36ccb44fb399eb4",
       "version_major": 2,
       "version_minor": 0
      },
      "text/plain": [
       "HBox(children=(HTML(value=''), FloatProgress(value=0.0, max=2.0), HTML(value='')))"
      ]
     },
     "metadata": {},
     "output_type": "display_data"
    },
    {
     "name": "stdout",
     "output_type": "stream",
     "text": [
      "\n",
      "> Vote totals verified — no errors\n",
      "————————————————————————————————————————————————————————————\n",
      "Loading Board of Education Post 4.csv data...\n",
      " > Found data for 5 counties (3%)\n",
      "Verifying vote totals...\n"
     ]
    },
    {
     "data": {
      "application/vnd.jupyter.widget-view+json": {
       "model_id": "6175ae2763d24164beda96cfabcb6fed",
       "version_major": 2,
       "version_minor": 0
      },
      "text/plain": [
       "HBox(children=(HTML(value=''), FloatProgress(value=0.0, max=6.0), HTML(value='')))"
      ]
     },
     "metadata": {},
     "output_type": "display_data"
    },
    {
     "name": "stdout",
     "output_type": "stream",
     "text": [
      "\n",
      "> Vote totals verified — no errors\n",
      "————————————————————————————————————————————————————————————\n",
      "Loading Chief Executive Officer.csv data...\n",
      " > Found data for 1 counties (1%)\n",
      "Verifying vote totals...\n"
     ]
    },
    {
     "data": {
      "application/vnd.jupyter.widget-view+json": {
       "model_id": "826cb0dd9b50415885473746ebf8ced7",
       "version_major": 2,
       "version_minor": 0
      },
      "text/plain": [
       "HBox(children=(HTML(value=''), FloatProgress(value=0.0, max=1.0), HTML(value='')))"
      ]
     },
     "metadata": {},
     "output_type": "display_data"
    },
    {
     "name": "stdout",
     "output_type": "stream",
     "text": [
      "\n",
      "> Vote totals verified — no errors\n",
      "————————————————————————————————————————————————————————————\n",
      "Loading Board of Education Dist 5 At Large.csv data...\n",
      " > Found data for 1 counties (1%)\n",
      "Verifying vote totals...\n"
     ]
    },
    {
     "data": {
      "application/vnd.jupyter.widget-view+json": {
       "model_id": "f814191bb8f74dd3a1ea075b5af01432",
       "version_major": 2,
       "version_minor": 0
      },
      "text/plain": [
       "HBox(children=(HTML(value=''), FloatProgress(value=0.0, max=1.0), HTML(value='')))"
      ]
     },
     "metadata": {},
     "output_type": "display_data"
    },
    {
     "name": "stdout",
     "output_type": "stream",
     "text": [
      "\n",
      "> Vote totals verified — no errors\n",
      "————————————————————————————————————————————————————————————\n",
      "Loading Dist Attorney - Douglas - Special.csv data...\n",
      " > Found data for 1 counties (1%)\n",
      "Verifying vote totals...\n"
     ]
    },
    {
     "data": {
      "application/vnd.jupyter.widget-view+json": {
       "model_id": "da885d72149c447c8302f6c3f8e3c41d",
       "version_major": 2,
       "version_minor": 0
      },
      "text/plain": [
       "HBox(children=(HTML(value=''), FloatProgress(value=0.0, max=1.0), HTML(value='')))"
      ]
     },
     "metadata": {},
     "output_type": "display_data"
    },
    {
     "name": "stdout",
     "output_type": "stream",
     "text": [
      "\n",
      "> Vote totals verified — no errors\n",
      "————————————————————————————————————————————————————————————\n",
      "Loading US House Dist 3.csv data...\n",
      " > Found data for 13 counties (8%)\n",
      "Verifying vote totals...\n"
     ]
    },
    {
     "data": {
      "application/vnd.jupyter.widget-view+json": {
       "model_id": "5f7fa1be710f45dfa8c36c605a8d51a9",
       "version_major": 2,
       "version_minor": 0
      },
      "text/plain": [
       "HBox(children=(HTML(value=''), FloatProgress(value=0.0, max=2.0), HTML(value='')))"
      ]
     },
     "metadata": {},
     "output_type": "display_data"
    },
    {
     "name": "stdout",
     "output_type": "stream",
     "text": [
      "\n",
      "> Vote totals verified — no errors\n",
      "————————————————————————————————————————————————————————————\n",
      "Loading Dist Attorney - Coweta.csv data...\n",
      " > Found data for 5 counties (3%)\n",
      "Verifying vote totals...\n"
     ]
    },
    {
     "data": {
      "application/vnd.jupyter.widget-view+json": {
       "model_id": "796e013bab4e42898e02b82c31ef89b0",
       "version_major": 2,
       "version_minor": 0
      },
      "text/plain": [
       "HBox(children=(HTML(value=''), FloatProgress(value=0.0, max=1.0), HTML(value='')))"
      ]
     },
     "metadata": {},
     "output_type": "display_data"
    },
    {
     "name": "stdout",
     "output_type": "stream",
     "text": [
      "\n",
      "> Vote totals verified — no errors\n",
      "————————————————————————————————————————————————————————————\n",
      "Loading State House Dist 127.csv data...\n",
      " > Found data for 2 counties (1%)\n",
      "Verifying vote totals...\n"
     ]
    },
    {
     "data": {
      "application/vnd.jupyter.widget-view+json": {
       "model_id": "24b918e55e28458fb9d92f8dec7a6250",
       "version_major": 2,
       "version_minor": 0
      },
      "text/plain": [
       "HBox(children=(HTML(value=''), FloatProgress(value=0.0, max=1.0), HTML(value='')))"
      ]
     },
     "metadata": {},
     "output_type": "display_data"
    },
    {
     "name": "stdout",
     "output_type": "stream",
     "text": [
      "\n",
      "> Vote totals verified — no errors\n",
      "————————————————————————————————————————————————————————————\n",
      "Loading Sylvester Sales of Alcoholic Beverages on Sunday - Special.csv data...\n",
      " > Found data for 1 counties (1%)\n",
      "Verifying vote totals...\n"
     ]
    },
    {
     "data": {
      "application/vnd.jupyter.widget-view+json": {
       "model_id": "451108752bf0415f8eccf8bba5baccb3",
       "version_major": 2,
       "version_minor": 0
      },
      "text/plain": [
       "HBox(children=(HTML(value=''), FloatProgress(value=0.0, max=2.0), HTML(value='')))"
      ]
     },
     "metadata": {},
     "output_type": "display_data"
    },
    {
     "name": "stdout",
     "output_type": "stream",
     "text": [
      "\n",
      "> Vote totals verified — no errors\n",
      "————————————————————————————————————————————————————————————\n",
      "Loading State House Dist 31.csv data...\n",
      " > Found data for 1 counties (1%)\n",
      "Verifying vote totals...\n"
     ]
    },
    {
     "data": {
      "application/vnd.jupyter.widget-view+json": {
       "model_id": "0ab7906e26524cfeb8ece5f3e427606a",
       "version_major": 2,
       "version_minor": 0
      },
      "text/plain": [
       "HBox(children=(HTML(value=''), FloatProgress(value=0.0, max=2.0), HTML(value='')))"
      ]
     },
     "metadata": {},
     "output_type": "display_data"
    },
    {
     "name": "stdout",
     "output_type": "stream",
     "text": [
      "\n",
      "> Vote totals verified — no errors\n",
      "————————————————————————————————————————————————————————————\n",
      "Loading Sales and Use Tax and Bond Election - Special.csv data...\n",
      " > Found data for 1 counties (1%)\n",
      "Verifying vote totals...\n"
     ]
    },
    {
     "data": {
      "application/vnd.jupyter.widget-view+json": {
       "model_id": "198cc3df923c4803a94c943eb39bf218",
       "version_major": 2,
       "version_minor": 0
      },
      "text/plain": [
       "HBox(children=(HTML(value=''), FloatProgress(value=0.0, max=2.0), HTML(value='')))"
      ]
     },
     "metadata": {},
     "output_type": "display_data"
    },
    {
     "name": "stdout",
     "output_type": "stream",
     "text": [
      "\n",
      "> Vote totals verified — no errors\n",
      "————————————————————————————————————————————————————————————\n",
      "Loading State House Dist 93.csv data...\n",
      " > Found data for 2 counties (1%)\n",
      "Verifying vote totals...\n"
     ]
    },
    {
     "data": {
      "application/vnd.jupyter.widget-view+json": {
       "model_id": "0abf59f8bc6a4cbe80292780b1014938",
       "version_major": 2,
       "version_minor": 0
      },
      "text/plain": [
       "HBox(children=(HTML(value=''), FloatProgress(value=0.0, max=2.0), HTML(value='')))"
      ]
     },
     "metadata": {},
     "output_type": "display_data"
    },
    {
     "name": "stdout",
     "output_type": "stream",
     "text": [
      "\n",
      "> Vote totals verified — no errors\n",
      "————————————————————————————————————————————————————————————\n",
      "Loading State Senate Dist 39 - Special Democratic Primary.csv data...\n",
      " > Found data for 1 counties (1%)\n",
      "Verifying vote totals...\n"
     ]
    },
    {
     "data": {
      "application/vnd.jupyter.widget-view+json": {
       "model_id": "1d95be556d4d4ac0a519479ab3d5b181",
       "version_major": 2,
       "version_minor": 0
      },
      "text/plain": [
       "HBox(children=(HTML(value=''), FloatProgress(value=0.0, max=4.0), HTML(value='')))"
      ]
     },
     "metadata": {},
     "output_type": "display_data"
    },
    {
     "name": "stdout",
     "output_type": "stream",
     "text": [
      "\n",
      "> Vote totals verified — no errors\n",
      "————————————————————————————————————————————————————————————\n",
      "Loading State House Dist 66.csv data...\n",
      " > Found data for 2 counties (1%)\n",
      "Verifying vote totals...\n"
     ]
    },
    {
     "data": {
      "application/vnd.jupyter.widget-view+json": {
       "model_id": "52418c7291b643c28716a2fde764ff53",
       "version_major": 2,
       "version_minor": 0
      },
      "text/plain": [
       "HBox(children=(HTML(value=''), FloatProgress(value=0.0, max=2.0), HTML(value='')))"
      ]
     },
     "metadata": {},
     "output_type": "display_data"
    },
    {
     "name": "stdout",
     "output_type": "stream",
     "text": [
      "\n",
      "> Vote totals verified — no errors\n",
      "————————————————————————————————————————————————————————————\n",
      "Loading State Senate Dist 43.csv data...\n",
      " > Found data for 3 counties (2%)\n",
      "Verifying vote totals...\n"
     ]
    },
    {
     "data": {
      "application/vnd.jupyter.widget-view+json": {
       "model_id": "03fb32ba85ee49d78aa029f41691a528",
       "version_major": 2,
       "version_minor": 0
      },
      "text/plain": [
       "HBox(children=(HTML(value=''), FloatProgress(value=0.0, max=2.0), HTML(value='')))"
      ]
     },
     "metadata": {},
     "output_type": "display_data"
    },
    {
     "name": "stdout",
     "output_type": "stream",
     "text": [
      "\n",
      "> Vote totals verified — no errors\n",
      "————————————————————————————————————————————————————————————\n",
      "Loading Board of Education Precinct 1.csv data...\n",
      " > Found data for 1 counties (1%)\n",
      "Verifying vote totals...\n"
     ]
    },
    {
     "data": {
      "application/vnd.jupyter.widget-view+json": {
       "model_id": "b03d520e8fd54b8ab3d7d5df82728019",
       "version_major": 2,
       "version_minor": 0
      },
      "text/plain": [
       "HBox(children=(HTML(value=''), FloatProgress(value=0.0, max=1.0), HTML(value='')))"
      ]
     },
     "metadata": {},
     "output_type": "display_data"
    },
    {
     "name": "stdout",
     "output_type": "stream",
     "text": [
      "\n",
      "> Vote totals verified — no errors\n",
      "————————————————————————————————————————————————————————————\n",
      "Loading State House Dist 101.csv data...\n",
      " > Found data for 1 counties (1%)\n",
      "Verifying vote totals...\n"
     ]
    },
    {
     "data": {
      "application/vnd.jupyter.widget-view+json": {
       "model_id": "88185aac83264ba58e0847a1acc63d82",
       "version_major": 2,
       "version_minor": 0
      },
      "text/plain": [
       "HBox(children=(HTML(value=''), FloatProgress(value=0.0, max=2.0), HTML(value='')))"
      ]
     },
     "metadata": {},
     "output_type": "display_data"
    },
    {
     "name": "stdout",
     "output_type": "stream",
     "text": [
      "\n",
      "> Vote totals verified — no errors\n",
      "————————————————————————————————————————————————————————————\n",
      "Loading State Senate Dist 35.csv data...\n",
      " > Found data for 2 counties (1%)\n",
      "Verifying vote totals...\n"
     ]
    },
    {
     "data": {
      "application/vnd.jupyter.widget-view+json": {
       "model_id": "2439f6836e6f41b991a9b157f2ad6ff8",
       "version_major": 2,
       "version_minor": 0
      },
      "text/plain": [
       "HBox(children=(HTML(value=''), FloatProgress(value=0.0, max=1.0), HTML(value='')))"
      ]
     },
     "metadata": {},
     "output_type": "display_data"
    },
    {
     "name": "stdout",
     "output_type": "stream",
     "text": [
      "\n",
      "> Vote totals verified — no errors\n",
      "————————————————————————————————————————————————————————————\n",
      "Loading Lake Park City Council - Special.csv data...\n",
      " > Found data for 1 counties (1%)\n",
      "Verifying vote totals...\n"
     ]
    },
    {
     "data": {
      "application/vnd.jupyter.widget-view+json": {
       "model_id": "0903fb1372fc496a8bf6a4c64b4a6f94",
       "version_major": 2,
       "version_minor": 0
      },
      "text/plain": [
       "HBox(children=(HTML(value=''), FloatProgress(value=0.0, max=2.0), HTML(value='')))"
      ]
     },
     "metadata": {},
     "output_type": "display_data"
    },
    {
     "name": "stdout",
     "output_type": "stream",
     "text": [
      "\n",
      "> Vote totals verified — no errors\n",
      "————————————————————————————————————————————————————————————\n",
      "Loading Plainview Fire Advisory Board Post 2.csv data...\n",
      " > Found data for 1 counties (1%)\n",
      "Verifying vote totals...\n"
     ]
    },
    {
     "data": {
      "application/vnd.jupyter.widget-view+json": {
       "model_id": "e8039acd8dfa488fbfa999610ff0f76c",
       "version_major": 2,
       "version_minor": 0
      },
      "text/plain": [
       "HBox(children=(HTML(value=''), FloatProgress(value=0.0, max=1.0), HTML(value='')))"
      ]
     },
     "metadata": {},
     "output_type": "display_data"
    },
    {
     "name": "stdout",
     "output_type": "stream",
     "text": [
      "\n",
      "> Vote totals verified — no errors\n",
      "————————————————————————————————————————————————————————————\n",
      "Loading Soil and Water - Lower Chattahoochee River.csv data...\n",
      " > Found data for 2 counties (1%)\n",
      "Verifying vote totals...\n"
     ]
    },
    {
     "data": {
      "application/vnd.jupyter.widget-view+json": {
       "model_id": "219aac35a02b44b288bf5b0b18beacce",
       "version_major": 2,
       "version_minor": 0
      },
      "text/plain": [
       "HBox(children=(HTML(value=''), FloatProgress(value=0.0, max=2.0), HTML(value='')))"
      ]
     },
     "metadata": {},
     "output_type": "display_data"
    },
    {
     "name": "stdout",
     "output_type": "stream",
     "text": [
      "\n",
      "> Vote totals verified — no errors\n",
      "————————————————————————————————————————————————————————————\n",
      "Loading State House Dist 92.csv data...\n",
      " > Found data for 2 counties (1%)\n",
      "Verifying vote totals...\n"
     ]
    },
    {
     "data": {
      "application/vnd.jupyter.widget-view+json": {
       "model_id": "a1073ec2a8ce419b9146640962d8de92",
       "version_major": 2,
       "version_minor": 0
      },
      "text/plain": [
       "HBox(children=(HTML(value=''), FloatProgress(value=0.0, max=1.0), HTML(value='')))"
      ]
     },
     "metadata": {},
     "output_type": "display_data"
    },
    {
     "name": "stdout",
     "output_type": "stream",
     "text": [
      "\n",
      "> Vote totals verified — no errors\n",
      "————————————————————————————————————————————————————————————\n",
      "Loading State House Dist 145.csv data...\n",
      " > Found data for 2 counties (1%)\n",
      "Verifying vote totals...\n"
     ]
    },
    {
     "data": {
      "application/vnd.jupyter.widget-view+json": {
       "model_id": "94a916db42cb47b599078e808d3aaf74",
       "version_major": 2,
       "version_minor": 0
      },
      "text/plain": [
       "HBox(children=(HTML(value=''), FloatProgress(value=0.0, max=2.0), HTML(value='')))"
      ]
     },
     "metadata": {},
     "output_type": "display_data"
    },
    {
     "name": "stdout",
     "output_type": "stream",
     "text": [
      "\n",
      "> Vote totals verified — no errors\n",
      "————————————————————————————————————————————————————————————\n",
      "Loading Statewide Referendum A.csv data...\n",
      " > Found data for 59 counties (37%)\n",
      "Verifying vote totals...\n"
     ]
    },
    {
     "data": {
      "application/vnd.jupyter.widget-view+json": {
       "model_id": "21f064cfc08b4a119e36f41a27d39606",
       "version_major": 2,
       "version_minor": 0
      },
      "text/plain": [
       "HBox(children=(HTML(value=''), FloatProgress(value=0.0, max=2.0), HTML(value='')))"
      ]
     },
     "metadata": {},
     "output_type": "display_data"
    },
    {
     "name": "stdout",
     "output_type": "stream",
     "text": [
      "\n",
      "> Vote totals verified — no errors\n",
      "————————————————————————————————————————————————————————————\n",
      "Loading State House Dist 178.csv data...\n",
      " > Found data for 4 counties (3%)\n",
      "Verifying vote totals...\n"
     ]
    },
    {
     "data": {
      "application/vnd.jupyter.widget-view+json": {
       "model_id": "7fd4f3abbd4243ed925bf81c8441b47f",
       "version_major": 2,
       "version_minor": 0
      },
      "text/plain": [
       "HBox(children=(HTML(value=''), FloatProgress(value=0.0, max=1.0), HTML(value='')))"
      ]
     },
     "metadata": {},
     "output_type": "display_data"
    },
    {
     "name": "stdout",
     "output_type": "stream",
     "text": [
      "\n",
      "> Vote totals verified — no errors\n",
      "————————————————————————————————————————————————————————————\n",
      "Loading State House Dist 70.csv data...\n",
      " > Found data for 2 counties (1%)\n",
      "Verifying vote totals...\n"
     ]
    },
    {
     "data": {
      "application/vnd.jupyter.widget-view+json": {
       "model_id": "a26d2482709e43249b6e2c815b0cbc25",
       "version_major": 2,
       "version_minor": 0
      },
      "text/plain": [
       "HBox(children=(HTML(value=''), FloatProgress(value=0.0, max=1.0), HTML(value='')))"
      ]
     },
     "metadata": {},
     "output_type": "display_data"
    },
    {
     "name": "stdout",
     "output_type": "stream",
     "text": [
      "\n",
      "> Vote totals verified — no errors\n",
      "————————————————————————————————————————————————————————————\n",
      "Loading State House Dist 129.csv data...\n",
      " > Found data for 4 counties (3%)\n",
      "Verifying vote totals...\n"
     ]
    },
    {
     "data": {
      "application/vnd.jupyter.widget-view+json": {
       "model_id": "dd1ae486bf0f40cc9c63d416a954067f",
       "version_major": 2,
       "version_minor": 0
      },
      "text/plain": [
       "HBox(children=(HTML(value=''), FloatProgress(value=0.0, max=3.0), HTML(value='')))"
      ]
     },
     "metadata": {},
     "output_type": "display_data"
    },
    {
     "name": "stdout",
     "output_type": "stream",
     "text": [
      "\n",
      "> Vote totals verified — no errors\n",
      "————————————————————————————————————————————————————————————\n",
      "Loading State House Dist 176.csv data...\n",
      " > Found data for 4 counties (3%)\n",
      "Verifying vote totals...\n"
     ]
    },
    {
     "data": {
      "application/vnd.jupyter.widget-view+json": {
       "model_id": "0fb1b07f5f5344549a2ad35a137be78a",
       "version_major": 2,
       "version_minor": 0
      },
      "text/plain": [
       "HBox(children=(HTML(value=''), FloatProgress(value=0.0, max=2.0), HTML(value='')))"
      ]
     },
     "metadata": {},
     "output_type": "display_data"
    },
    {
     "name": "stdout",
     "output_type": "stream",
     "text": [
      "\n",
      "> Vote totals verified — no errors\n",
      "————————————————————————————————————————————————————————————\n",
      "Loading Soil and Water - Broad River.csv data...\n",
      " > Found data for 3 counties (2%)\n",
      "Verifying vote totals...\n"
     ]
    },
    {
     "data": {
      "application/vnd.jupyter.widget-view+json": {
       "model_id": "fd68a030364e4acaa7800cdf0e94cf5c",
       "version_major": 2,
       "version_minor": 0
      },
      "text/plain": [
       "HBox(children=(HTML(value=''), FloatProgress(value=0.0, max=3.0), HTML(value='')))"
      ]
     },
     "metadata": {},
     "output_type": "display_data"
    },
    {
     "name": "stdout",
     "output_type": "stream",
     "text": [
      "\n",
      "> Vote totals verified — no errors\n",
      "————————————————————————————————————————————————————————————\n",
      "Loading State House Dist 147.csv data...\n",
      " > Found data for 1 counties (1%)\n",
      "Verifying vote totals...\n"
     ]
    },
    {
     "data": {
      "application/vnd.jupyter.widget-view+json": {
       "model_id": "a860bcff6c5f4fd982c4e41e94daff81",
       "version_major": 2,
       "version_minor": 0
      },
      "text/plain": [
       "HBox(children=(HTML(value=''), FloatProgress(value=0.0, max=2.0), HTML(value='')))"
      ]
     },
     "metadata": {},
     "output_type": "display_data"
    },
    {
     "name": "stdout",
     "output_type": "stream",
     "text": [
      "\n",
      "> Vote totals verified — no errors\n",
      "————————————————————————————————————————————————————————————\n",
      "Loading Dawson City Council Ward 4.csv data...\n",
      " > Found data for 1 counties (1%)\n",
      "Verifying vote totals...\n"
     ]
    },
    {
     "data": {
      "application/vnd.jupyter.widget-view+json": {
       "model_id": "1f3f5dc3c536491bbb468cdec8c4d1dd",
       "version_major": 2,
       "version_minor": 0
      },
      "text/plain": [
       "HBox(children=(HTML(value=''), FloatProgress(value=0.0, max=2.0), HTML(value='')))"
      ]
     },
     "metadata": {},
     "output_type": "display_data"
    },
    {
     "name": "stdout",
     "output_type": "stream",
     "text": [
      "\n",
      "> Vote totals verified — no errors\n",
      "————————————————————————————————————————————————————————————\n",
      "Loading Lula Alcohol by the Drink - Special.csv data...\n",
      " > Found data for 1 counties (1%)\n",
      "Verifying vote totals...\n"
     ]
    },
    {
     "data": {
      "application/vnd.jupyter.widget-view+json": {
       "model_id": "d10f1cb40aab4087972cd4c5220fb274",
       "version_major": 2,
       "version_minor": 0
      },
      "text/plain": [
       "HBox(children=(HTML(value=''), FloatProgress(value=0.0, max=2.0), HTML(value='')))"
      ]
     },
     "metadata": {},
     "output_type": "display_data"
    },
    {
     "name": "stdout",
     "output_type": "stream",
     "text": [
      "\n",
      "> Vote totals verified — no errors\n",
      "————————————————————————————————————————————————————————————\n",
      "Loading Dist Attorney - Southwestern - Special.csv data...\n",
      " > Found data for 6 counties (4%)\n",
      "Verifying vote totals...\n"
     ]
    },
    {
     "data": {
      "application/vnd.jupyter.widget-view+json": {
       "model_id": "2ad562ba71034873a87bedc8c5f994db",
       "version_major": 2,
       "version_minor": 0
      },
      "text/plain": [
       "HBox(children=(HTML(value=''), FloatProgress(value=0.0, max=1.0), HTML(value='')))"
      ]
     },
     "metadata": {},
     "output_type": "display_data"
    },
    {
     "name": "stdout",
     "output_type": "stream",
     "text": [
      "\n",
      "> Vote totals verified — no errors\n",
      "————————————————————————————————————————————————————————————\n",
      "Loading Dist Attorney - Brunswick.csv data...\n",
      " > Found data for 5 counties (3%)\n",
      "Verifying vote totals...\n"
     ]
    },
    {
     "data": {
      "application/vnd.jupyter.widget-view+json": {
       "model_id": "a09c4dbe108a4745911bcbb6abee1016",
       "version_major": 2,
       "version_minor": 0
      },
      "text/plain": [
       "HBox(children=(HTML(value=''), FloatProgress(value=0.0, max=2.0), HTML(value='')))"
      ]
     },
     "metadata": {},
     "output_type": "display_data"
    },
    {
     "name": "stdout",
     "output_type": "stream",
     "text": [
      "\n",
      "> Vote totals verified — no errors\n",
      "————————————————————————————————————————————————————————————\n",
      "Loading Board of Education - Galloway.csv data...\n",
      " > Found data for 1 counties (1%)\n",
      "Verifying vote totals...\n"
     ]
    },
    {
     "data": {
      "application/vnd.jupyter.widget-view+json": {
       "model_id": "d44992e5bc5e4c7db805bd2e18b2666c",
       "version_major": 2,
       "version_minor": 0
      },
      "text/plain": [
       "HBox(children=(HTML(value=''), FloatProgress(value=0.0, max=2.0), HTML(value='')))"
      ]
     },
     "metadata": {},
     "output_type": "display_data"
    },
    {
     "name": "stdout",
     "output_type": "stream",
     "text": [
      "\n",
      "> Vote totals verified — no errors\n",
      "————————————————————————————————————————————————————————————\n",
      "Loading Dist Attorney - Clayton - Special.csv data...\n",
      " > Found data for 1 counties (1%)\n",
      "Verifying vote totals...\n"
     ]
    },
    {
     "data": {
      "application/vnd.jupyter.widget-view+json": {
       "model_id": "aa0936f7a4df4024806cee18d4ac9e53",
       "version_major": 2,
       "version_minor": 0
      },
      "text/plain": [
       "HBox(children=(HTML(value=''), FloatProgress(value=0.0, max=1.0), HTML(value='')))"
      ]
     },
     "metadata": {},
     "output_type": "display_data"
    },
    {
     "name": "stdout",
     "output_type": "stream",
     "text": [
      "\n",
      "> Vote totals verified — no errors\n",
      "————————————————————————————————————————————————————————————\n",
      "Loading County Commission Dist 2 Seat B.csv data...\n",
      " > Found data for 1 counties (1%)\n",
      "Verifying vote totals...\n"
     ]
    },
    {
     "data": {
      "application/vnd.jupyter.widget-view+json": {
       "model_id": "ae93040ca14f465ba8d21f54fd48082b",
       "version_major": 2,
       "version_minor": 0
      },
      "text/plain": [
       "HBox(children=(HTML(value=''), FloatProgress(value=0.0, max=2.0), HTML(value='')))"
      ]
     },
     "metadata": {},
     "output_type": "display_data"
    },
    {
     "name": "stdout",
     "output_type": "stream",
     "text": [
      "\n",
      "> Vote totals verified — no errors\n",
      "————————————————————————————————————————————————————————————\n",
      "Loading Clerk of Superior Court.csv data...\n",
      " > Found data for 158 counties (99%)\n",
      "   > Missing: ['Tattnall']\n",
      "\n",
      "POSSIBLE typo found (87% match)\n",
      " > 1. Debbie Sirmans (I) (Rep) — 7128 total votes\n",
      " > 2. Debbie Kines (I) (Rep) — 8842 total votes\n",
      "  > Combine these the candidates? (y/n):  n\n",
      "Verifying vote totals...\n"
     ]
    },
    {
     "data": {
      "application/vnd.jupyter.widget-view+json": {
       "model_id": "123efbd8e80845c78bfafda35b8dca74",
       "version_major": 2,
       "version_minor": 0
      },
      "text/plain": [
       "HBox(children=(HTML(value=''), FloatProgress(value=0.0, max=172.0), HTML(value='')))"
      ]
     },
     "metadata": {},
     "output_type": "display_data"
    },
    {
     "name": "stdout",
     "output_type": "stream",
     "text": [
      "\n",
      ">>> Vote totals verified — 0.0001 error rate\n",
      "————————————————————————————————————————————————————————————\n",
      "Loading Good Hope City Council Post 3.csv data...\n",
      " > Found data for 1 counties (1%)\n",
      "Verifying vote totals...\n"
     ]
    },
    {
     "data": {
      "application/vnd.jupyter.widget-view+json": {
       "model_id": "174704740af44afdb49bacfbb4dd9e7a",
       "version_major": 2,
       "version_minor": 0
      },
      "text/plain": [
       "HBox(children=(HTML(value=''), FloatProgress(value=0.0, max=1.0), HTML(value='')))"
      ]
     },
     "metadata": {},
     "output_type": "display_data"
    },
    {
     "name": "stdout",
     "output_type": "stream",
     "text": [
      "\n",
      "> Vote totals verified — no errors\n",
      "————————————————————————————————————————————————————————————\n",
      "Loading State House Dist 83.csv data...\n",
      " > Found data for 1 counties (1%)\n",
      "Verifying vote totals...\n"
     ]
    },
    {
     "data": {
      "application/vnd.jupyter.widget-view+json": {
       "model_id": "588a27139db2486c8b0e1e32966efdbf",
       "version_major": 2,
       "version_minor": 0
      },
      "text/plain": [
       "HBox(children=(HTML(value=''), FloatProgress(value=0.0, max=1.0), HTML(value='')))"
      ]
     },
     "metadata": {},
     "output_type": "display_data"
    },
    {
     "name": "stdout",
     "output_type": "stream",
     "text": [
      "\n",
      "> Vote totals verified — no errors\n",
      "————————————————————————————————————————————————————————————\n",
      "Loading State House Dist 89.csv data...\n",
      " > Found data for 1 counties (1%)\n",
      "Verifying vote totals...\n"
     ]
    },
    {
     "data": {
      "application/vnd.jupyter.widget-view+json": {
       "model_id": "39ec2cd2a71741289aee3849d430e52d",
       "version_major": 2,
       "version_minor": 0
      },
      "text/plain": [
       "HBox(children=(HTML(value=''), FloatProgress(value=0.0, max=1.0), HTML(value='')))"
      ]
     },
     "metadata": {},
     "output_type": "display_data"
    },
    {
     "name": "stdout",
     "output_type": "stream",
     "text": [
      "\n",
      "> Vote totals verified — no errors\n",
      "————————————————————————————————————————————————————————————\n",
      "Loading State House Dist 143.csv data...\n",
      " > Found data for 1 counties (1%)\n",
      "Verifying vote totals...\n"
     ]
    },
    {
     "data": {
      "application/vnd.jupyter.widget-view+json": {
       "model_id": "1f4447fed4d545fca510f9d675e48512",
       "version_major": 2,
       "version_minor": 0
      },
      "text/plain": [
       "HBox(children=(HTML(value=''), FloatProgress(value=0.0, max=1.0), HTML(value='')))"
      ]
     },
     "metadata": {},
     "output_type": "display_data"
    },
    {
     "name": "stdout",
     "output_type": "stream",
     "text": [
      "\n",
      "> Vote totals verified — no errors\n",
      "————————————————————————————————————————————————————————————\n",
      "Loading County Commission Dist 5 (At Large).csv data...\n",
      " > Found data for 1 counties (1%)\n",
      "Verifying vote totals...\n"
     ]
    },
    {
     "data": {
      "application/vnd.jupyter.widget-view+json": {
       "model_id": "5d36dd35c1fa4b3bb54034dfd0b16778",
       "version_major": 2,
       "version_minor": 0
      },
      "text/plain": [
       "HBox(children=(HTML(value=''), FloatProgress(value=0.0, max=2.0), HTML(value='')))"
      ]
     },
     "metadata": {},
     "output_type": "display_data"
    },
    {
     "name": "stdout",
     "output_type": "stream",
     "text": [
      "\n",
      "> Vote totals verified — no errors\n",
      "————————————————————————————————————————————————————————————\n",
      "Loading State House Dist 177.csv data...\n",
      " > Found data for 1 counties (1%)\n",
      "Verifying vote totals...\n"
     ]
    },
    {
     "data": {
      "application/vnd.jupyter.widget-view+json": {
       "model_id": "4401e50da03a418aa195411a5f00d1bf",
       "version_major": 2,
       "version_minor": 0
      },
      "text/plain": [
       "HBox(children=(HTML(value=''), FloatProgress(value=0.0, max=1.0), HTML(value='')))"
      ]
     },
     "metadata": {},
     "output_type": "display_data"
    },
    {
     "name": "stdout",
     "output_type": "stream",
     "text": [
      "\n",
      "> Vote totals verified — no errors\n",
      "————————————————————————————————————————————————————————————\n",
      "Loading Soil and Water - Limestone Valley.csv data...\n",
      " > Found data for 2 counties (1%)\n",
      "Verifying vote totals...\n"
     ]
    },
    {
     "data": {
      "application/vnd.jupyter.widget-view+json": {
       "model_id": "fd1d1856f02f402094bea03512927047",
       "version_major": 2,
       "version_minor": 0
      },
      "text/plain": [
       "HBox(children=(HTML(value=''), FloatProgress(value=0.0, max=2.0), HTML(value='')))"
      ]
     },
     "metadata": {},
     "output_type": "display_data"
    },
    {
     "name": "stdout",
     "output_type": "stream",
     "text": [
      "\n",
      "> Vote totals verified — no errors\n",
      "————————————————————————————————————————————————————————————\n",
      "Loading State House Dist 6.csv data...\n",
      " > Found data for 2 counties (1%)\n",
      "Verifying vote totals...\n"
     ]
    },
    {
     "data": {
      "application/vnd.jupyter.widget-view+json": {
       "model_id": "627fdc0a03764eb6b1911cb1324596ec",
       "version_major": 2,
       "version_minor": 0
      },
      "text/plain": [
       "HBox(children=(HTML(value=''), FloatProgress(value=0.0, max=1.0), HTML(value='')))"
      ]
     },
     "metadata": {},
     "output_type": "display_data"
    },
    {
     "name": "stdout",
     "output_type": "stream",
     "text": [
      "\n",
      "> Vote totals verified — no errors\n",
      "————————————————————————————————————————————————————————————\n",
      "Loading Jackson Trail Fire Advisory Board Post 2.csv data...\n",
      " > Found data for 1 counties (1%)\n",
      "Verifying vote totals...\n"
     ]
    },
    {
     "data": {
      "application/vnd.jupyter.widget-view+json": {
       "model_id": "5e46aca997eb4a298cde260779de0626",
       "version_major": 2,
       "version_minor": 0
      },
      "text/plain": [
       "HBox(children=(HTML(value=''), FloatProgress(value=0.0, max=1.0), HTML(value='')))"
      ]
     },
     "metadata": {},
     "output_type": "display_data"
    },
    {
     "name": "stdout",
     "output_type": "stream",
     "text": [
      "\n",
      "> Vote totals verified — no errors\n",
      "————————————————————————————————————————————————————————————\n",
      "Loading Soil and Water - Towaliga.csv data...\n",
      " > Found data for 3 counties (2%)\n",
      "Verifying vote totals...\n"
     ]
    },
    {
     "data": {
      "application/vnd.jupyter.widget-view+json": {
       "model_id": "5bb62c97f9034d08b39afe0958da3c71",
       "version_major": 2,
       "version_minor": 0
      },
      "text/plain": [
       "HBox(children=(HTML(value=''), FloatProgress(value=0.0, max=3.0), HTML(value='')))"
      ]
     },
     "metadata": {},
     "output_type": "display_data"
    },
    {
     "name": "stdout",
     "output_type": "stream",
     "text": [
      "\n",
      "> Vote totals verified — no errors\n",
      "————————————————————————————————————————————————————————————\n",
      "Loading Dist Attorney - South Georgia.csv data...\n",
      " > Found data for 5 counties (3%)\n",
      "Verifying vote totals...\n"
     ]
    },
    {
     "data": {
      "application/vnd.jupyter.widget-view+json": {
       "model_id": "80b6f305598c46dea53aceabca58c0ce",
       "version_major": 2,
       "version_minor": 0
      },
      "text/plain": [
       "HBox(children=(HTML(value=''), FloatProgress(value=0.0, max=1.0), HTML(value='')))"
      ]
     },
     "metadata": {},
     "output_type": "display_data"
    },
    {
     "name": "stdout",
     "output_type": "stream",
     "text": [
      "\n",
      "> Vote totals verified — no errors\n",
      "————————————————————————————————————————————————————————————\n",
      "Loading Soil and Water - West Georgia.csv data...\n",
      " > Found data for 2 counties (1%)\n",
      "Verifying vote totals...\n"
     ]
    },
    {
     "data": {
      "application/vnd.jupyter.widget-view+json": {
       "model_id": "cfcadf74fef4466b909708bb3d786409",
       "version_major": 2,
       "version_minor": 0
      },
      "text/plain": [
       "HBox(children=(HTML(value=''), FloatProgress(value=0.0, max=2.0), HTML(value='')))"
      ]
     },
     "metadata": {},
     "output_type": "display_data"
    },
    {
     "name": "stdout",
     "output_type": "stream",
     "text": [
      "\n",
      "> Vote totals verified — no errors\n",
      "————————————————————————————————————————————————————————————\n",
      "Loading Board of Education Dist 5.csv data...\n",
      " > Found data for 25 counties (16%)\n",
      "Verifying vote totals...\n"
     ]
    },
    {
     "data": {
      "application/vnd.jupyter.widget-view+json": {
       "model_id": "d0d0969e400f4759b14f5c18385208f8",
       "version_major": 2,
       "version_minor": 0
      },
      "text/plain": [
       "HBox(children=(HTML(value=''), FloatProgress(value=0.0, max=31.0), HTML(value='')))"
      ]
     },
     "metadata": {},
     "output_type": "display_data"
    },
    {
     "name": "stdout",
     "output_type": "stream",
     "text": [
      "\n",
      ">>> Vote totals verified — 0.00022 error rate\n",
      "————————————————————————————————————————————————————————————\n",
      "Loading State House Dist 106.csv data...\n",
      " > Found data for 1 counties (1%)\n",
      "Verifying vote totals...\n"
     ]
    },
    {
     "data": {
      "application/vnd.jupyter.widget-view+json": {
       "model_id": "d430689ef8a64921808de309f3c47e45",
       "version_major": 2,
       "version_minor": 0
      },
      "text/plain": [
       "HBox(children=(HTML(value=''), FloatProgress(value=0.0, max=2.0), HTML(value='')))"
      ]
     },
     "metadata": {},
     "output_type": "display_data"
    },
    {
     "name": "stdout",
     "output_type": "stream",
     "text": [
      "\n",
      "> Vote totals verified — no errors\n",
      "————————————————————————————————————————————————————————————\n",
      "Loading Hawkinsville Sunday Alcohol By The Drink - Special.csv data...\n",
      " > Found data for 1 counties (1%)\n",
      "Verifying vote totals...\n"
     ]
    },
    {
     "data": {
      "application/vnd.jupyter.widget-view+json": {
       "model_id": "9d3ebaa23289469b8ae3ab6614188774",
       "version_major": 2,
       "version_minor": 0
      },
      "text/plain": [
       "HBox(children=(HTML(value=''), FloatProgress(value=0.0, max=2.0), HTML(value='')))"
      ]
     },
     "metadata": {},
     "output_type": "display_data"
    },
    {
     "name": "stdout",
     "output_type": "stream",
     "text": [
      "\n",
      "> Vote totals verified — no errors\n",
      "————————————————————————————————————————————————————————————\n",
      "Loading County Commissioner Dist 5.csv data...\n",
      " > Found data for 1 counties (1%)\n",
      "Verifying vote totals...\n"
     ]
    },
    {
     "data": {
      "application/vnd.jupyter.widget-view+json": {
       "model_id": "75a023e0fb62470394bf81d757060b2d",
       "version_major": 2,
       "version_minor": 0
      },
      "text/plain": [
       "HBox(children=(HTML(value=''), FloatProgress(value=0.0, max=2.0), HTML(value='')))"
      ]
     },
     "metadata": {},
     "output_type": "display_data"
    },
    {
     "name": "stdout",
     "output_type": "stream",
     "text": [
      "\n",
      "> Vote totals verified — no errors\n",
      "————————————————————————————————————————————————————————————\n",
      "Loading Chief Magistrate.csv data...\n",
      " > Found data for 40 counties (25%)\n",
      "Verifying vote totals...\n"
     ]
    },
    {
     "data": {
      "application/vnd.jupyter.widget-view+json": {
       "model_id": "58b28765513647ed88984355a65a7fdd",
       "version_major": 2,
       "version_minor": 0
      },
      "text/plain": [
       "HBox(children=(HTML(value=''), FloatProgress(value=0.0, max=44.0), HTML(value='')))"
      ]
     },
     "metadata": {},
     "output_type": "display_data"
    },
    {
     "name": "stdout",
     "output_type": "stream",
     "text": [
      "\n",
      ">>> Vote totals verified — 0.00022 error rate\n",
      "————————————————————————————————————————————————————————————\n",
      "Loading Soil and Water - Pine Mountain.csv data...\n",
      " > Found data for 2 counties (1%)\n",
      "Verifying vote totals...\n"
     ]
    },
    {
     "data": {
      "application/vnd.jupyter.widget-view+json": {
       "model_id": "0668ee5b8c064b7e8b61651b1b58962a",
       "version_major": 2,
       "version_minor": 0
      },
      "text/plain": [
       "HBox(children=(HTML(value=''), FloatProgress(value=0.0, max=2.0), HTML(value='')))"
      ]
     },
     "metadata": {},
     "output_type": "display_data"
    },
    {
     "name": "stdout",
     "output_type": "stream",
     "text": [
      "\n",
      "> Vote totals verified — no errors\n",
      "————————————————————————————————————————————————————————————\n",
      "Loading Dist Attorney - Flint.csv data...\n",
      " > Found data for 1 counties (1%)\n",
      "Verifying vote totals...\n"
     ]
    },
    {
     "data": {
      "application/vnd.jupyter.widget-view+json": {
       "model_id": "5d9e786b1d114dee8134ab0d828a1e21",
       "version_major": 2,
       "version_minor": 0
      },
      "text/plain": [
       "HBox(children=(HTML(value=''), FloatProgress(value=0.0, max=1.0), HTML(value='')))"
      ]
     },
     "metadata": {},
     "output_type": "display_data"
    },
    {
     "name": "stdout",
     "output_type": "stream",
     "text": [
      "\n",
      "> Vote totals verified — no errors\n",
      "————————————————————————————————————————————————————————————\n",
      "Loading State House Dist 69.csv data...\n",
      " > Found data for 3 counties (2%)\n",
      "Verifying vote totals...\n"
     ]
    },
    {
     "data": {
      "application/vnd.jupyter.widget-view+json": {
       "model_id": "29d567b648154a11a04485bc4f2698f4",
       "version_major": 2,
       "version_minor": 0
      },
      "text/plain": [
       "HBox(children=(HTML(value=''), FloatProgress(value=0.0, max=2.0), HTML(value='')))"
      ]
     },
     "metadata": {},
     "output_type": "display_data"
    },
    {
     "name": "stdout",
     "output_type": "stream",
     "text": [
      "\n",
      "> Vote totals verified — no errors\n",
      "————————————————————————————————————————————————————————————\n",
      "Loading Soil and Water - Hall County.csv data...\n",
      " > Found data for 1 counties (1%)\n",
      "Verifying vote totals...\n"
     ]
    },
    {
     "data": {
      "application/vnd.jupyter.widget-view+json": {
       "model_id": "3ba30040e4d04986806ce79c78286fef",
       "version_major": 2,
       "version_minor": 0
      },
      "text/plain": [
       "HBox(children=(HTML(value=''), FloatProgress(value=0.0, max=3.0), HTML(value='')))"
      ]
     },
     "metadata": {},
     "output_type": "display_data"
    },
    {
     "name": "stdout",
     "output_type": "stream",
     "text": [
      "\n",
      "> Vote totals verified — no errors\n",
      "————————————————————————————————————————————————————————————\n",
      "Loading County Commission Dist 2.csv data...\n",
      " > Found data for 73 counties (46%)\n",
      "Verifying vote totals...\n"
     ]
    },
    {
     "data": {
      "application/vnd.jupyter.widget-view+json": {
       "model_id": "b8ed9da115b54a7e90d1bc3b922ec2f6",
       "version_major": 2,
       "version_minor": 0
      },
      "text/plain": [
       "HBox(children=(HTML(value=''), FloatProgress(value=0.0, max=98.0), HTML(value='')))"
      ]
     },
     "metadata": {},
     "output_type": "display_data"
    },
    {
     "name": "stdout",
     "output_type": "stream",
     "text": [
      "\n",
      ">>> Vote totals verified — 0.00015 error rate\n",
      "————————————————————————————————————————————————————————————\n",
      "Loading County Commission Mitchell.csv data...\n",
      " > Found data for 1 counties (1%)\n",
      "Verifying vote totals...\n"
     ]
    },
    {
     "data": {
      "application/vnd.jupyter.widget-view+json": {
       "model_id": "ea3a2fff60cb4f019a952d624257a19c",
       "version_major": 2,
       "version_minor": 0
      },
      "text/plain": [
       "HBox(children=(HTML(value=''), FloatProgress(value=0.0, max=1.0), HTML(value='')))"
      ]
     },
     "metadata": {},
     "output_type": "display_data"
    },
    {
     "name": "stdout",
     "output_type": "stream",
     "text": [
      "\n",
      "> Vote totals verified — no errors\n",
      "————————————————————————————————————————————————————————————\n",
      "Loading Dist Attorney - Atlanta.csv data...\n",
      " > Found data for 1 counties (1%)\n",
      "Verifying vote totals...\n"
     ]
    },
    {
     "data": {
      "application/vnd.jupyter.widget-view+json": {
       "model_id": "3ec325bd73d144ca9abc1759989a6daa",
       "version_major": 2,
       "version_minor": 0
      },
      "text/plain": [
       "HBox(children=(HTML(value=''), FloatProgress(value=0.0, max=1.0), HTML(value='')))"
      ]
     },
     "metadata": {},
     "output_type": "display_data"
    },
    {
     "name": "stdout",
     "output_type": "stream",
     "text": [
      "\n",
      "> Vote totals verified — no errors\n",
      "————————————————————————————————————————————————————————————\n",
      "Loading County Commission Gibson Dist.csv data...\n",
      " > Found data for 1 counties (1%)\n",
      "Verifying vote totals...\n"
     ]
    },
    {
     "data": {
      "application/vnd.jupyter.widget-view+json": {
       "model_id": "e1a5ed6036a242febd7d9ad28679b78a",
       "version_major": 2,
       "version_minor": 0
      },
      "text/plain": [
       "HBox(children=(HTML(value=''), FloatProgress(value=0.0, max=1.0), HTML(value='')))"
      ]
     },
     "metadata": {},
     "output_type": "display_data"
    },
    {
     "name": "stdout",
     "output_type": "stream",
     "text": [
      "\n",
      "> Vote totals verified — no errors\n",
      "————————————————————————————————————————————————————————————\n",
      "Loading US House Dist 10.csv data...\n",
      " > Found data for 25 counties (16%)\n",
      "Verifying vote totals...\n"
     ]
    },
    {
     "data": {
      "application/vnd.jupyter.widget-view+json": {
       "model_id": "8cbdba2accaa49818d5615a691968297",
       "version_major": 2,
       "version_minor": 0
      },
      "text/plain": [
       "HBox(children=(HTML(value=''), FloatProgress(value=0.0, max=2.0), HTML(value='')))"
      ]
     },
     "metadata": {},
     "output_type": "display_data"
    },
    {
     "name": "stdout",
     "output_type": "stream",
     "text": [
      "\n",
      "> Vote totals verified — no errors\n",
      "————————————————————————————————————————————————————————————\n",
      "Loading Board of Education At Large Post 2.csv data...\n",
      " > Found data for 1 counties (1%)\n",
      "Verifying vote totals...\n"
     ]
    },
    {
     "data": {
      "application/vnd.jupyter.widget-view+json": {
       "model_id": "20abe8ba958040ce982b1377eb6965d4",
       "version_major": 2,
       "version_minor": 0
      },
      "text/plain": [
       "HBox(children=(HTML(value=''), FloatProgress(value=0.0, max=2.0), HTML(value='')))"
      ]
     },
     "metadata": {},
     "output_type": "display_data"
    },
    {
     "name": "stdout",
     "output_type": "stream",
     "text": [
      "\n",
      "> Vote totals verified — no errors\n",
      "————————————————————————————————————————————————————————————\n",
      "Loading State House Dist 174.csv data...\n",
      " > Found data for 6 counties (4%)\n",
      "Verifying vote totals...\n"
     ]
    },
    {
     "data": {
      "application/vnd.jupyter.widget-view+json": {
       "model_id": "ebf1e14ff44942d4959c9eb75e9e3cca",
       "version_major": 2,
       "version_minor": 0
      },
      "text/plain": [
       "HBox(children=(HTML(value=''), FloatProgress(value=0.0, max=1.0), HTML(value='')))"
      ]
     },
     "metadata": {},
     "output_type": "display_data"
    },
    {
     "name": "stdout",
     "output_type": "stream",
     "text": [
      "\n",
      "> Vote totals verified — no errors\n",
      "————————————————————————————————————————————————————————————\n",
      "Loading Watkinsville City Council Post 4.csv data...\n",
      " > Found data for 1 counties (1%)\n",
      "Verifying vote totals...\n"
     ]
    },
    {
     "data": {
      "application/vnd.jupyter.widget-view+json": {
       "model_id": "5662fcfef9544f3eb75af40ed520697f",
       "version_major": 2,
       "version_minor": 0
      },
      "text/plain": [
       "HBox(children=(HTML(value=''), FloatProgress(value=0.0, max=2.0), HTML(value='')))"
      ]
     },
     "metadata": {},
     "output_type": "display_data"
    },
    {
     "name": "stdout",
     "output_type": "stream",
     "text": [
      "\n",
      "> Vote totals verified — no errors\n",
      "————————————————————————————————————————————————————————————\n",
      "Loading US House Dist 6.csv data...\n",
      " > Found data for 3 counties (2%)\n",
      "Verifying vote totals...\n"
     ]
    },
    {
     "data": {
      "application/vnd.jupyter.widget-view+json": {
       "model_id": "a571e7bee79645c59ef22e0aaf4b4a2e",
       "version_major": 2,
       "version_minor": 0
      },
      "text/plain": [
       "HBox(children=(HTML(value=''), FloatProgress(value=0.0, max=2.0), HTML(value='')))"
      ]
     },
     "metadata": {},
     "output_type": "display_data"
    },
    {
     "name": "stdout",
     "output_type": "stream",
     "text": [
      "\n",
      "> Vote totals verified — no errors\n",
      "————————————————————————————————————————————————————————————\n",
      "Loading Special One Percent Sales and Use Tax - Special.csv data...\n",
      " > Found data for 1 counties (1%)\n",
      "Verifying vote totals...\n"
     ]
    },
    {
     "data": {
      "application/vnd.jupyter.widget-view+json": {
       "model_id": "de95c03f39ec411996ba480abe500978",
       "version_major": 2,
       "version_minor": 0
      },
      "text/plain": [
       "HBox(children=(HTML(value=''), FloatProgress(value=0.0, max=2.0), HTML(value='')))"
      ]
     },
     "metadata": {},
     "output_type": "display_data"
    },
    {
     "name": "stdout",
     "output_type": "stream",
     "text": [
      "\n",
      "> Vote totals verified — no errors\n",
      "————————————————————————————————————————————————————————————\n",
      "Loading State House Dist 140.csv data...\n",
      " > Found data for 5 counties (3%)\n",
      "Verifying vote totals...\n"
     ]
    },
    {
     "data": {
      "application/vnd.jupyter.widget-view+json": {
       "model_id": "18edd566079342d89b94d22371997c8d",
       "version_major": 2,
       "version_minor": 0
      },
      "text/plain": [
       "HBox(children=(HTML(value=''), FloatProgress(value=0.0, max=1.0), HTML(value='')))"
      ]
     },
     "metadata": {},
     "output_type": "display_data"
    },
    {
     "name": "stdout",
     "output_type": "stream",
     "text": [
      "\n",
      "> Vote totals verified — no errors\n",
      "————————————————————————————————————————————————————————————\n",
      "Loading State House Dist 77.csv data...\n",
      " > Found data for 1 counties (1%)\n",
      "Verifying vote totals...\n"
     ]
    },
    {
     "data": {
      "application/vnd.jupyter.widget-view+json": {
       "model_id": "1797e306981d4231af928552810260ad",
       "version_major": 2,
       "version_minor": 0
      },
      "text/plain": [
       "HBox(children=(HTML(value=''), FloatProgress(value=0.0, max=1.0), HTML(value='')))"
      ]
     },
     "metadata": {},
     "output_type": "display_data"
    },
    {
     "name": "stdout",
     "output_type": "stream",
     "text": [
      "\n",
      "> Vote totals verified — no errors\n",
      "————————————————————————————————————————————————————————————\n",
      "Loading State House Dist 72.csv data...\n",
      " > Found data for 2 counties (1%)\n",
      "Verifying vote totals...\n"
     ]
    },
    {
     "data": {
      "application/vnd.jupyter.widget-view+json": {
       "model_id": "8da579b781364632b28dc8a79d9baf47",
       "version_major": 2,
       "version_minor": 0
      },
      "text/plain": [
       "HBox(children=(HTML(value=''), FloatProgress(value=0.0, max=2.0), HTML(value='')))"
      ]
     },
     "metadata": {},
     "output_type": "display_data"
    },
    {
     "name": "stdout",
     "output_type": "stream",
     "text": [
      "\n",
      "> Vote totals verified — no errors\n",
      "————————————————————————————————————————————————————————————\n",
      "Loading State House Dist 95.csv data...\n",
      " > Found data for 2 counties (1%)\n",
      "Verifying vote totals...\n"
     ]
    },
    {
     "data": {
      "application/vnd.jupyter.widget-view+json": {
       "model_id": "bdc46046722f4dc4a50ae597786cfd3d",
       "version_major": 2,
       "version_minor": 0
      },
      "text/plain": [
       "HBox(children=(HTML(value=''), FloatProgress(value=0.0, max=2.0), HTML(value='')))"
      ]
     },
     "metadata": {},
     "output_type": "display_data"
    },
    {
     "name": "stdout",
     "output_type": "stream",
     "text": [
      "\n",
      "> Vote totals verified — no errors\n",
      "————————————————————————————————————————————————————————————\n",
      "Loading State House Dist 48.csv data...\n",
      " > Found data for 1 counties (1%)\n",
      "Verifying vote totals...\n"
     ]
    },
    {
     "data": {
      "application/vnd.jupyter.widget-view+json": {
       "model_id": "e4d198ffdd3a4cb88c65f0f55ebaddc3",
       "version_major": 2,
       "version_minor": 0
      },
      "text/plain": [
       "HBox(children=(HTML(value=''), FloatProgress(value=0.0, max=2.0), HTML(value='')))"
      ]
     },
     "metadata": {},
     "output_type": "display_data"
    },
    {
     "name": "stdout",
     "output_type": "stream",
     "text": [
      "\n",
      "> Vote totals verified — no errors\n",
      "————————————————————————————————————————————————————————————\n",
      "Loading State Senate Dist 37.csv data...\n",
      " > Found data for 1 counties (1%)\n",
      "Verifying vote totals...\n"
     ]
    },
    {
     "data": {
      "application/vnd.jupyter.widget-view+json": {
       "model_id": "d450449b21ea4b18bf769b08cb288b4a",
       "version_major": 2,
       "version_minor": 0
      },
      "text/plain": [
       "HBox(children=(HTML(value=''), FloatProgress(value=0.0, max=2.0), HTML(value='')))"
      ]
     },
     "metadata": {},
     "output_type": "display_data"
    },
    {
     "name": "stdout",
     "output_type": "stream",
     "text": [
      "\n",
      "> Vote totals verified — no errors\n",
      "————————————————————————————————————————————————————————————\n",
      "Loading State House Dist 78.csv data...\n",
      " > Found data for 2 counties (1%)\n",
      "Verifying vote totals...\n"
     ]
    },
    {
     "data": {
      "application/vnd.jupyter.widget-view+json": {
       "model_id": "ed5292a7b0b745dba3b5279861c59ed8",
       "version_major": 2,
       "version_minor": 0
      },
      "text/plain": [
       "HBox(children=(HTML(value=''), FloatProgress(value=0.0, max=1.0), HTML(value='')))"
      ]
     },
     "metadata": {},
     "output_type": "display_data"
    },
    {
     "name": "stdout",
     "output_type": "stream",
     "text": [
      "\n",
      "> Vote totals verified — no errors\n",
      "————————————————————————————————————————————————————————————\n",
      "Loading State House Dist 49.csv data...\n",
      " > Found data for 1 counties (1%)\n",
      "Verifying vote totals...\n"
     ]
    },
    {
     "data": {
      "application/vnd.jupyter.widget-view+json": {
       "model_id": "73ab9d1dfb9e4d61acc81bb65661d71c",
       "version_major": 2,
       "version_minor": 0
      },
      "text/plain": [
       "HBox(children=(HTML(value=''), FloatProgress(value=0.0, max=2.0), HTML(value='')))"
      ]
     },
     "metadata": {},
     "output_type": "display_data"
    },
    {
     "name": "stdout",
     "output_type": "stream",
     "text": [
      "\n",
      "> Vote totals verified — no errors\n",
      "————————————————————————————————————————————————————————————\n",
      "Loading Board of Education At Large - Special.csv data...\n",
      " > Found data for 1 counties (1%)\n",
      "Verifying vote totals...\n"
     ]
    },
    {
     "data": {
      "application/vnd.jupyter.widget-view+json": {
       "model_id": "961eb0cd969443bfa8f6a1448a49054d",
       "version_major": 2,
       "version_minor": 0
      },
      "text/plain": [
       "HBox(children=(HTML(value=''), FloatProgress(value=0.0, max=3.0), HTML(value='')))"
      ]
     },
     "metadata": {},
     "output_type": "display_data"
    },
    {
     "name": "stdout",
     "output_type": "stream",
     "text": [
      "\n",
      "> Vote totals verified — no errors\n",
      "————————————————————————————————————————————————————————————\n",
      "Loading Jackson Trail Fire Advisory Board Post 3.csv data...\n",
      " > Found data for 1 counties (1%)\n",
      "Verifying vote totals...\n"
     ]
    },
    {
     "data": {
      "application/vnd.jupyter.widget-view+json": {
       "model_id": "6b4048e084604d318b1255f9a23d5550",
       "version_major": 2,
       "version_minor": 0
      },
      "text/plain": [
       "HBox(children=(HTML(value=''), FloatProgress(value=0.0, max=1.0), HTML(value='')))"
      ]
     },
     "metadata": {},
     "output_type": "display_data"
    },
    {
     "name": "stdout",
     "output_type": "stream",
     "text": [
      "\n",
      "> Vote totals verified — no errors\n",
      "————————————————————————————————————————————————————————————\n",
      "Loading Probate Judge - Special.csv data...\n",
      " > Found data for 1 counties (1%)\n",
      "Verifying vote totals...\n"
     ]
    },
    {
     "data": {
      "application/vnd.jupyter.widget-view+json": {
       "model_id": "9301ea14b48042c9aa1102e0bb012966",
       "version_major": 2,
       "version_minor": 0
      },
      "text/plain": [
       "HBox(children=(HTML(value=''), FloatProgress(value=0.0, max=1.0), HTML(value='')))"
      ]
     },
     "metadata": {},
     "output_type": "display_data"
    },
    {
     "name": "stdout",
     "output_type": "stream",
     "text": [
      "\n",
      "> Vote totals verified — no errors\n",
      "————————————————————————————————————————————————————————————\n",
      "Loading East Point Sunday Alcohol Sales - Special.csv data...\n",
      " > Found data for 1 counties (1%)\n",
      "Verifying vote totals...\n"
     ]
    },
    {
     "data": {
      "application/vnd.jupyter.widget-view+json": {
       "model_id": "7b1a092b33c6422ab529e9501c6eacf6",
       "version_major": 2,
       "version_minor": 0
      },
      "text/plain": [
       "HBox(children=(HTML(value=''), FloatProgress(value=0.0, max=2.0), HTML(value='')))"
      ]
     },
     "metadata": {},
     "output_type": "display_data"
    },
    {
     "name": "stdout",
     "output_type": "stream",
     "text": [
      "\n",
      "> Vote totals verified — no errors\n",
      "————————————————————————————————————————————————————————————\n",
      "Loading Municipal Court Clerk.csv data...\n",
      " > Found data for 1 counties (1%)\n",
      "Verifying vote totals...\n"
     ]
    },
    {
     "data": {
      "application/vnd.jupyter.widget-view+json": {
       "model_id": "9a37f9ee90d94af582c7020c8b6b12c0",
       "version_major": 2,
       "version_minor": 0
      },
      "text/plain": [
       "HBox(children=(HTML(value=''), FloatProgress(value=0.0, max=1.0), HTML(value='')))"
      ]
     },
     "metadata": {},
     "output_type": "display_data"
    },
    {
     "name": "stdout",
     "output_type": "stream",
     "text": [
      "\n",
      "> Vote totals verified — no errors\n",
      "————————————————————————————————————————————————————————————\n",
      "Loading State House Dist 46.csv data...\n",
      " > Found data for 2 counties (1%)\n",
      "Verifying vote totals...\n"
     ]
    },
    {
     "data": {
      "application/vnd.jupyter.widget-view+json": {
       "model_id": "4cf5dd826e874d8e9090f0febd20c8e6",
       "version_major": 2,
       "version_minor": 0
      },
      "text/plain": [
       "HBox(children=(HTML(value=''), FloatProgress(value=0.0, max=2.0), HTML(value='')))"
      ]
     },
     "metadata": {},
     "output_type": "display_data"
    },
    {
     "name": "stdout",
     "output_type": "stream",
     "text": [
      "\n",
      "> Vote totals verified — no errors\n",
      "————————————————————————————————————————————————————————————\n",
      "Loading Dist Attorney - Northern.csv data...\n",
      " > Found data for 5 counties (3%)\n",
      "Verifying vote totals...\n"
     ]
    },
    {
     "data": {
      "application/vnd.jupyter.widget-view+json": {
       "model_id": "b155d12ddd1e42409da0b8e54814f253",
       "version_major": 2,
       "version_minor": 0
      },
      "text/plain": [
       "HBox(children=(HTML(value=''), FloatProgress(value=0.0, max=1.0), HTML(value='')))"
      ]
     },
     "metadata": {},
     "output_type": "display_data"
    },
    {
     "name": "stdout",
     "output_type": "stream",
     "text": [
      "\n",
      "> Vote totals verified — no errors\n",
      "————————————————————————————————————————————————————————————\n",
      "Loading County Commission Dist 7.csv data...\n",
      " > Found data for 2 counties (1%)\n",
      "Verifying vote totals...\n"
     ]
    },
    {
     "data": {
      "application/vnd.jupyter.widget-view+json": {
       "model_id": "ca0b80521100467eb69f8f8438ce0bac",
       "version_major": 2,
       "version_minor": 0
      },
      "text/plain": [
       "HBox(children=(HTML(value=''), FloatProgress(value=0.0, max=3.0), HTML(value='')))"
      ]
     },
     "metadata": {},
     "output_type": "display_data"
    },
    {
     "name": "stdout",
     "output_type": "stream",
     "text": [
      "\n",
      "> Vote totals verified — no errors\n",
      "————————————————————————————————————————————————————————————\n",
      "Loading US House Dist 11.csv data...\n",
      " > Found data for 4 counties (3%)\n",
      "Verifying vote totals...\n"
     ]
    },
    {
     "data": {
      "application/vnd.jupyter.widget-view+json": {
       "model_id": "3dc60d78f0624ff8baa97ffb1aaebee0",
       "version_major": 2,
       "version_minor": 0
      },
      "text/plain": [
       "HBox(children=(HTML(value=''), FloatProgress(value=0.0, max=2.0), HTML(value='')))"
      ]
     },
     "metadata": {},
     "output_type": "display_data"
    },
    {
     "name": "stdout",
     "output_type": "stream",
     "text": [
      "\n",
      "> Vote totals verified — no errors\n",
      "————————————————————————————————————————————————————————————\n",
      "Loading State House Dist 74.csv data...\n",
      " > Found data for 1 counties (1%)\n",
      "Verifying vote totals...\n"
     ]
    },
    {
     "data": {
      "application/vnd.jupyter.widget-view+json": {
       "model_id": "d1db3330e5ea405bb45ebdb13fb533c4",
       "version_major": 2,
       "version_minor": 0
      },
      "text/plain": [
       "HBox(children=(HTML(value=''), FloatProgress(value=0.0, max=1.0), HTML(value='')))"
      ]
     },
     "metadata": {},
     "output_type": "display_data"
    },
    {
     "name": "stdout",
     "output_type": "stream",
     "text": [
      "\n",
      "> Vote totals verified — no errors\n",
      "————————————————————————————————————————————————————————————\n",
      "Loading Dist Attorney - Appalachian.csv data...\n",
      " > Found data for 3 counties (2%)\n",
      "Verifying vote totals...\n"
     ]
    },
    {
     "data": {
      "application/vnd.jupyter.widget-view+json": {
       "model_id": "944f45ebd0a94c16b7611d92853591c9",
       "version_major": 2,
       "version_minor": 0
      },
      "text/plain": [
       "HBox(children=(HTML(value=''), FloatProgress(value=0.0, max=1.0), HTML(value='')))"
      ]
     },
     "metadata": {},
     "output_type": "display_data"
    },
    {
     "name": "stdout",
     "output_type": "stream",
     "text": [
      "\n",
      "> Vote totals verified — no errors\n",
      "————————————————————————————————————————————————————————————\n",
      "Loading State House Dist 11.csv data...\n",
      " > Found data for 3 counties (2%)\n",
      "Verifying vote totals...\n"
     ]
    },
    {
     "data": {
      "application/vnd.jupyter.widget-view+json": {
       "model_id": "28b6f16606ae4266a99f4a985537c3bc",
       "version_major": 2,
       "version_minor": 0
      },
      "text/plain": [
       "HBox(children=(HTML(value=''), FloatProgress(value=0.0, max=2.0), HTML(value='')))"
      ]
     },
     "metadata": {},
     "output_type": "display_data"
    },
    {
     "name": "stdout",
     "output_type": "stream",
     "text": [
      "\n",
      "> Vote totals verified — no errors\n",
      "————————————————————————————————————————————————————————————\n",
      "Loading State House Dist 73.csv data...\n",
      " > Found data for 3 counties (2%)\n",
      "Verifying vote totals...\n"
     ]
    },
    {
     "data": {
      "application/vnd.jupyter.widget-view+json": {
       "model_id": "447af4079ea1459e9869f144273aea6c",
       "version_major": 2,
       "version_minor": 0
      },
      "text/plain": [
       "HBox(children=(HTML(value=''), FloatProgress(value=0.0, max=2.0), HTML(value='')))"
      ]
     },
     "metadata": {},
     "output_type": "display_data"
    },
    {
     "name": "stdout",
     "output_type": "stream",
     "text": [
      "\n",
      "> Vote totals verified — no errors\n",
      "————————————————————————————————————————————————————————————\n",
      "Loading US House Dist 7.csv data...\n",
      " > Found data for 2 counties (1%)\n",
      "Verifying vote totals...\n"
     ]
    },
    {
     "data": {
      "application/vnd.jupyter.widget-view+json": {
       "model_id": "11347bb8986d4f56accb836f6ea950c8",
       "version_major": 2,
       "version_minor": 0
      },
      "text/plain": [
       "HBox(children=(HTML(value=''), FloatProgress(value=0.0, max=2.0), HTML(value='')))"
      ]
     },
     "metadata": {},
     "output_type": "display_data"
    },
    {
     "name": "stdout",
     "output_type": "stream",
     "text": [
      "\n",
      "> Vote totals verified — no errors\n",
      "————————————————————————————————————————————————————————————\n",
      "Loading Soil and Water - Catoosa.csv data...\n",
      " > Found data for 1 counties (1%)\n",
      "Verifying vote totals...\n"
     ]
    },
    {
     "data": {
      "application/vnd.jupyter.widget-view+json": {
       "model_id": "fbf8e413f30c4537be28bb6f12e6b5ef",
       "version_major": 2,
       "version_minor": 0
      },
      "text/plain": [
       "HBox(children=(HTML(value=''), FloatProgress(value=0.0, max=1.0), HTML(value='')))"
      ]
     },
     "metadata": {},
     "output_type": "display_data"
    },
    {
     "name": "stdout",
     "output_type": "stream",
     "text": [
      "\n",
      "> Vote totals verified — no errors\n",
      "————————————————————————————————————————————————————————————\n",
      "Loading Board of Education Chair Post 1.csv data...\n",
      " > Found data for 1 counties (1%)\n",
      "Verifying vote totals...\n"
     ]
    },
    {
     "data": {
      "application/vnd.jupyter.widget-view+json": {
       "model_id": "4eeb8083a19643e580f218259b4cdfdc",
       "version_major": 2,
       "version_minor": 0
      },
      "text/plain": [
       "HBox(children=(HTML(value=''), FloatProgress(value=0.0, max=1.0), HTML(value='')))"
      ]
     },
     "metadata": {},
     "output_type": "display_data"
    },
    {
     "name": "stdout",
     "output_type": "stream",
     "text": [
      "\n",
      "> Vote totals verified — no errors\n",
      "————————————————————————————————————————————————————————————\n",
      "Loading Bartow County Homestead Exemption - Special.csv data...\n",
      " > Found data for 1 counties (1%)\n",
      "Verifying vote totals...\n"
     ]
    },
    {
     "data": {
      "application/vnd.jupyter.widget-view+json": {
       "model_id": "9c39171527d240f88eba0c825c187a03",
       "version_major": 2,
       "version_minor": 0
      },
      "text/plain": [
       "HBox(children=(HTML(value=''), FloatProgress(value=0.0, max=2.0), HTML(value='')))"
      ]
     },
     "metadata": {},
     "output_type": "display_data"
    },
    {
     "name": "stdout",
     "output_type": "stream",
     "text": [
      "\n",
      "> Vote totals verified — no errors\n",
      "————————————————————————————————————————————————————————————\n",
      "Loading Board of Education - Bramlett.csv data...\n",
      " > Found data for 1 counties (1%)\n",
      "Verifying vote totals...\n"
     ]
    },
    {
     "data": {
      "application/vnd.jupyter.widget-view+json": {
       "model_id": "be01b17e944e4a59963f9d70753c95f3",
       "version_major": 2,
       "version_minor": 0
      },
      "text/plain": [
       "HBox(children=(HTML(value=''), FloatProgress(value=0.0, max=1.0), HTML(value='')))"
      ]
     },
     "metadata": {},
     "output_type": "display_data"
    },
    {
     "name": "stdout",
     "output_type": "stream",
     "text": [
      "\n",
      "> Vote totals verified — no errors\n",
      "————————————————————————————————————————————————————————————\n",
      "Loading Milner City Council - Special.csv data...\n",
      " > Found data for 1 counties (1%)\n",
      "Verifying vote totals...\n"
     ]
    },
    {
     "data": {
      "application/vnd.jupyter.widget-view+json": {
       "model_id": "cf0a094ff5464e7a8a1eaf06d9cc3e64",
       "version_major": 2,
       "version_minor": 0
      },
      "text/plain": [
       "HBox(children=(HTML(value=''), FloatProgress(value=0.0, max=2.0), HTML(value='')))"
      ]
     },
     "metadata": {},
     "output_type": "display_data"
    },
    {
     "name": "stdout",
     "output_type": "stream",
     "text": [
      "\n",
      "> Vote totals verified — no errors\n",
      "————————————————————————————————————————————————————————————\n",
      "Loading Dist Attorney - Ocmulgee.csv data...\n",
      " > Found data for 8 counties (5%)\n",
      "Verifying vote totals...\n"
     ]
    },
    {
     "data": {
      "application/vnd.jupyter.widget-view+json": {
       "model_id": "d8e6e8b6603b49f39a1340499e24f733",
       "version_major": 2,
       "version_minor": 0
      },
      "text/plain": [
       "HBox(children=(HTML(value=''), FloatProgress(value=0.0, max=1.0), HTML(value='')))"
      ]
     },
     "metadata": {},
     "output_type": "display_data"
    },
    {
     "name": "stdout",
     "output_type": "stream",
     "text": [
      "\n",
      "> Vote totals verified — no errors\n",
      "————————————————————————————————————————————————————————————\n",
      "Loading State House Dist 44.csv data...\n",
      " > Found data for 1 counties (1%)\n",
      "Verifying vote totals...\n"
     ]
    },
    {
     "data": {
      "application/vnd.jupyter.widget-view+json": {
       "model_id": "93ffeb6dff9347e0ae659c96c2dd4970",
       "version_major": 2,
       "version_minor": 0
      },
      "text/plain": [
       "HBox(children=(HTML(value=''), FloatProgress(value=0.0, max=2.0), HTML(value='')))"
      ]
     },
     "metadata": {},
     "output_type": "display_data"
    },
    {
     "name": "stdout",
     "output_type": "stream",
     "text": [
      "\n",
      "> Vote totals verified — no errors\n",
      "————————————————————————————————————————————————————————————\n",
      "Loading County Commission Dist 3 Post 2.csv data...\n",
      " > Found data for 1 counties (1%)\n",
      "Verifying vote totals...\n"
     ]
    },
    {
     "data": {
      "application/vnd.jupyter.widget-view+json": {
       "model_id": "c3c3295636ea4b20b56dc7799cc10926",
       "version_major": 2,
       "version_minor": 0
      },
      "text/plain": [
       "HBox(children=(HTML(value=''), FloatProgress(value=0.0, max=1.0), HTML(value='')))"
      ]
     },
     "metadata": {},
     "output_type": "display_data"
    },
    {
     "name": "stdout",
     "output_type": "stream",
     "text": [
      "\n",
      "> Vote totals verified — no errors\n",
      "————————————————————————————————————————————————————————————\n",
      "Loading State Senate Dist 55.csv data...\n",
      " > Found data for 2 counties (1%)\n",
      "Verifying vote totals...\n"
     ]
    },
    {
     "data": {
      "application/vnd.jupyter.widget-view+json": {
       "model_id": "54a48853da0346ccae8a6ff288e78f43",
       "version_major": 2,
       "version_minor": 0
      },
      "text/plain": [
       "HBox(children=(HTML(value=''), FloatProgress(value=0.0, max=1.0), HTML(value='')))"
      ]
     },
     "metadata": {},
     "output_type": "display_data"
    },
    {
     "name": "stdout",
     "output_type": "stream",
     "text": [
      "\n",
      "> Vote totals verified — no errors\n",
      "————————————————————————————————————————————————————————————\n",
      "Loading Dist Attorney - Piedmont.csv data...\n",
      " > Found data for 3 counties (2%)\n",
      "Verifying vote totals...\n"
     ]
    },
    {
     "data": {
      "application/vnd.jupyter.widget-view+json": {
       "model_id": "5aa320547b064de093f2d7ec7a1c2354",
       "version_major": 2,
       "version_minor": 0
      },
      "text/plain": [
       "HBox(children=(HTML(value=''), FloatProgress(value=0.0, max=1.0), HTML(value='')))"
      ]
     },
     "metadata": {},
     "output_type": "display_data"
    },
    {
     "name": "stdout",
     "output_type": "stream",
     "text": [
      "\n",
      "> Vote totals verified — no errors\n",
      "————————————————————————————————————————————————————————————\n",
      "Loading Board of Education Precinct 2.csv data...\n",
      " > Found data for 1 counties (1%)\n",
      "Verifying vote totals...\n"
     ]
    },
    {
     "data": {
      "application/vnd.jupyter.widget-view+json": {
       "model_id": "e41a9de9c4da47368841daf47b85949e",
       "version_major": 2,
       "version_minor": 0
      },
      "text/plain": [
       "HBox(children=(HTML(value=''), FloatProgress(value=0.0, max=1.0), HTML(value='')))"
      ]
     },
     "metadata": {},
     "output_type": "display_data"
    },
    {
     "name": "stdout",
     "output_type": "stream",
     "text": [
      "\n",
      "> Vote totals verified — no errors\n",
      "————————————————————————————————————————————————————————————\n",
      "Loading State House Dist 18.csv data...\n",
      " > Found data for 2 counties (1%)\n",
      "Verifying vote totals...\n"
     ]
    },
    {
     "data": {
      "application/vnd.jupyter.widget-view+json": {
       "model_id": "293b8b3a3bc648918e51e42c622280a1",
       "version_major": 2,
       "version_minor": 0
      },
      "text/plain": [
       "HBox(children=(HTML(value=''), FloatProgress(value=0.0, max=2.0), HTML(value='')))"
      ]
     },
     "metadata": {},
     "output_type": "display_data"
    },
    {
     "name": "stdout",
     "output_type": "stream",
     "text": [
      "\n",
      "> Vote totals verified — no errors\n",
      "————————————————————————————————————————————————————————————\n",
      "Loading Soil and Water - Ogeechee River.csv data...\n",
      " > Found data for 3 counties (2%)\n",
      "Verifying vote totals...\n"
     ]
    },
    {
     "data": {
      "application/vnd.jupyter.widget-view+json": {
       "model_id": "c9b1f9dc3fea440cab4b01a60cd404d1",
       "version_major": 2,
       "version_minor": 0
      },
      "text/plain": [
       "HBox(children=(HTML(value=''), FloatProgress(value=0.0, max=3.0), HTML(value='')))"
      ]
     },
     "metadata": {},
     "output_type": "display_data"
    },
    {
     "name": "stdout",
     "output_type": "stream",
     "text": [
      "\n",
      "> Vote totals verified — no errors\n",
      "————————————————————————————————————————————————————————————\n",
      "Loading State House Dist 104.csv data...\n",
      " > Found data for 1 counties (1%)\n",
      "Verifying vote totals...\n"
     ]
    },
    {
     "data": {
      "application/vnd.jupyter.widget-view+json": {
       "model_id": "51600490f5654b8ea5c2be525d3b7f04",
       "version_major": 2,
       "version_minor": 0
      },
      "text/plain": [
       "HBox(children=(HTML(value=''), FloatProgress(value=0.0, max=2.0), HTML(value='')))"
      ]
     },
     "metadata": {},
     "output_type": "display_data"
    },
    {
     "name": "stdout",
     "output_type": "stream",
     "text": [
      "\n",
      "> Vote totals verified — no errors\n",
      "————————————————————————————————————————————————————————————\n",
      "Loading State House Dist 128.csv data...\n",
      " > Found data for 7 counties (4%)\n",
      "Verifying vote totals...\n"
     ]
    },
    {
     "data": {
      "application/vnd.jupyter.widget-view+json": {
       "model_id": "55af5a2f890c496e8a442d1e42f9d29c",
       "version_major": 2,
       "version_minor": 0
      },
      "text/plain": [
       "HBox(children=(HTML(value=''), FloatProgress(value=0.0, max=1.0), HTML(value='')))"
      ]
     },
     "metadata": {},
     "output_type": "display_data"
    },
    {
     "name": "stdout",
     "output_type": "stream",
     "text": [
      "\n",
      "> Vote totals verified — no errors\n",
      "————————————————————————————————————————————————————————————\n",
      "Loading State House Dist 38.csv data...\n",
      " > Found data for 1 counties (1%)\n",
      "Verifying vote totals...\n"
     ]
    },
    {
     "data": {
      "application/vnd.jupyter.widget-view+json": {
       "model_id": "bf33b34eb65644bd83a63452b2191c4f",
       "version_major": 2,
       "version_minor": 0
      },
      "text/plain": [
       "HBox(children=(HTML(value=''), FloatProgress(value=0.0, max=1.0), HTML(value='')))"
      ]
     },
     "metadata": {},
     "output_type": "display_data"
    },
    {
     "name": "stdout",
     "output_type": "stream",
     "text": [
      "\n",
      "> Vote totals verified — no errors\n",
      "————————————————————————————————————————————————————————————\n",
      "Loading State House Dist 111.csv data...\n",
      " > Found data for 1 counties (1%)\n",
      "Verifying vote totals...\n"
     ]
    },
    {
     "data": {
      "application/vnd.jupyter.widget-view+json": {
       "model_id": "71a79bdca55c470db3d9c779c76d411e",
       "version_major": 2,
       "version_minor": 0
      },
      "text/plain": [
       "HBox(children=(HTML(value=''), FloatProgress(value=0.0, max=1.0), HTML(value='')))"
      ]
     },
     "metadata": {},
     "output_type": "display_data"
    },
    {
     "name": "stdout",
     "output_type": "stream",
     "text": [
      "\n",
      "> Vote totals verified — no errors\n",
      "————————————————————————————————————————————————————————————\n",
      "Loading Soil and Water - Roosevelt.csv data...\n",
      " > Found data for 1 counties (1%)\n",
      "Verifying vote totals...\n"
     ]
    },
    {
     "data": {
      "application/vnd.jupyter.widget-view+json": {
       "model_id": "874dbe0e6ebf48ba88d08d7e5cdc34a6",
       "version_major": 2,
       "version_minor": 0
      },
      "text/plain": [
       "HBox(children=(HTML(value=''), FloatProgress(value=0.0, max=1.0), HTML(value='')))"
      ]
     },
     "metadata": {},
     "output_type": "display_data"
    },
    {
     "name": "stdout",
     "output_type": "stream",
     "text": [
      "\n",
      "> Vote totals verified — no errors\n",
      "————————————————————————————————————————————————————————————\n",
      "Loading County Commission Post 5 At Large.csv data...\n",
      " > Found data for 1 counties (1%)\n",
      "Verifying vote totals...\n"
     ]
    },
    {
     "data": {
      "application/vnd.jupyter.widget-view+json": {
       "model_id": "565c2cd2fcd64411af947bd3d68703be",
       "version_major": 2,
       "version_minor": 0
      },
      "text/plain": [
       "HBox(children=(HTML(value=''), FloatProgress(value=0.0, max=2.0), HTML(value='')))"
      ]
     },
     "metadata": {},
     "output_type": "display_data"
    },
    {
     "name": "stdout",
     "output_type": "stream",
     "text": [
      "\n",
      "> Vote totals verified — no errors\n",
      "————————————————————————————————————————————————————————————\n",
      "Loading State House Dist 4.csv data...\n",
      " > Found data for 1 counties (1%)\n",
      "Verifying vote totals...\n"
     ]
    },
    {
     "data": {
      "application/vnd.jupyter.widget-view+json": {
       "model_id": "fafe6a51137d4fb6b19ae0afedf19afd",
       "version_major": 2,
       "version_minor": 0
      },
      "text/plain": [
       "HBox(children=(HTML(value=''), FloatProgress(value=0.0, max=1.0), HTML(value='')))"
      ]
     },
     "metadata": {},
     "output_type": "display_data"
    },
    {
     "name": "stdout",
     "output_type": "stream",
     "text": [
      "\n",
      "> Vote totals verified — no errors\n",
      "————————————————————————————————————————————————————————————\n",
      "Loading US House Dist 2.csv data...\n",
      " > Found data for 29 counties (18%)\n",
      "Verifying vote totals...\n"
     ]
    },
    {
     "data": {
      "application/vnd.jupyter.widget-view+json": {
       "model_id": "123bf70f19cd4a9782b8d7249d3c541e",
       "version_major": 2,
       "version_minor": 0
      },
      "text/plain": [
       "HBox(children=(HTML(value=''), FloatProgress(value=0.0, max=2.0), HTML(value='')))"
      ]
     },
     "metadata": {},
     "output_type": "display_data"
    },
    {
     "name": "stdout",
     "output_type": "stream",
     "text": [
      "\n",
      "> Vote totals verified — no errors\n",
      "————————————————————————————————————————————————————————————\n",
      "Loading State House Dist 107.csv data...\n",
      " > Found data for 1 counties (1%)\n",
      "Verifying vote totals...\n"
     ]
    },
    {
     "data": {
      "application/vnd.jupyter.widget-view+json": {
       "model_id": "4b7989a96309478dbd582ac28cbf3ac4",
       "version_major": 2,
       "version_minor": 0
      },
      "text/plain": [
       "HBox(children=(HTML(value=''), FloatProgress(value=0.0, max=2.0), HTML(value='')))"
      ]
     },
     "metadata": {},
     "output_type": "display_data"
    },
    {
     "name": "stdout",
     "output_type": "stream",
     "text": [
      "\n",
      "> Vote totals verified — no errors\n",
      "————————————————————————————————————————————————————————————\n",
      "Loading Board of Education Post 1.csv data...\n",
      " > Found data for 4 counties (3%)\n",
      "Verifying vote totals...\n"
     ]
    },
    {
     "data": {
      "application/vnd.jupyter.widget-view+json": {
       "model_id": "89b495b6e6a24baa945e91a88ca0d1f6",
       "version_major": 2,
       "version_minor": 0
      },
      "text/plain": [
       "HBox(children=(HTML(value=''), FloatProgress(value=0.0, max=5.0), HTML(value='')))"
      ]
     },
     "metadata": {},
     "output_type": "display_data"
    },
    {
     "name": "stdout",
     "output_type": "stream",
     "text": [
      "\n",
      "> Vote totals verified — no errors\n",
      "————————————————————————————————————————————————————————————\n",
      "Loading Harrisburg Fire Advisory Board Post 8.csv data...\n",
      " > Found data for 1 counties (1%)\n",
      "Verifying vote totals...\n"
     ]
    },
    {
     "data": {
      "application/vnd.jupyter.widget-view+json": {
       "model_id": "204c6fa1e3d245f096e48790854a0db0",
       "version_major": 2,
       "version_minor": 0
      },
      "text/plain": [
       "HBox(children=(HTML(value=''), FloatProgress(value=0.0, max=1.0), HTML(value='')))"
      ]
     },
     "metadata": {},
     "output_type": "display_data"
    },
    {
     "name": "stdout",
     "output_type": "stream",
     "text": [
      "\n",
      "> Vote totals verified — no errors\n",
      "————————————————————————————————————————————————————————————\n",
      "Loading State House Dist 96.csv data...\n",
      " > Found data for 1 counties (1%)\n",
      "Verifying vote totals...\n"
     ]
    },
    {
     "data": {
      "application/vnd.jupyter.widget-view+json": {
       "model_id": "27917e59a8774b75982a7494c621a13e",
       "version_major": 2,
       "version_minor": 0
      },
      "text/plain": [
       "HBox(children=(HTML(value=''), FloatProgress(value=0.0, max=1.0), HTML(value='')))"
      ]
     },
     "metadata": {},
     "output_type": "display_data"
    },
    {
     "name": "stdout",
     "output_type": "stream",
     "text": [
      "\n",
      "> Vote totals verified — no errors\n",
      "————————————————————————————————————————————————————————————\n",
      "Loading State House Dist 99.csv data...\n",
      " > Found data for 1 counties (1%)\n",
      "Verifying vote totals...\n"
     ]
    },
    {
     "data": {
      "application/vnd.jupyter.widget-view+json": {
       "model_id": "e17050f6c18340b3bfbc32aa32e67dca",
       "version_major": 2,
       "version_minor": 0
      },
      "text/plain": [
       "HBox(children=(HTML(value=''), FloatProgress(value=0.0, max=1.0), HTML(value='')))"
      ]
     },
     "metadata": {},
     "output_type": "display_data"
    },
    {
     "name": "stdout",
     "output_type": "stream",
     "text": [
      "\n",
      "> Vote totals verified — no errors\n",
      "————————————————————————————————————————————————————————————\n",
      "Loading Good Hope City Council Post 2.csv data...\n",
      " > Found data for 1 counties (1%)\n",
      "Verifying vote totals...\n"
     ]
    },
    {
     "data": {
      "application/vnd.jupyter.widget-view+json": {
       "model_id": "cd90bb1405094f419135daf636a35f4a",
       "version_major": 2,
       "version_minor": 0
      },
      "text/plain": [
       "HBox(children=(HTML(value=''), FloatProgress(value=0.0, max=1.0), HTML(value='')))"
      ]
     },
     "metadata": {},
     "output_type": "display_data"
    },
    {
     "name": "stdout",
     "output_type": "stream",
     "text": [
      "\n",
      "> Vote totals verified — no errors\n",
      "————————————————————————————————————————————————————————————\n",
      "Loading State Senate Dist 48.csv data...\n",
      " > Found data for 2 counties (1%)\n",
      "Verifying vote totals...\n"
     ]
    },
    {
     "data": {
      "application/vnd.jupyter.widget-view+json": {
       "model_id": "24cb407f30834b129d966abd3f0b8d1d",
       "version_major": 2,
       "version_minor": 0
      },
      "text/plain": [
       "HBox(children=(HTML(value=''), FloatProgress(value=0.0, max=2.0), HTML(value='')))"
      ]
     },
     "metadata": {},
     "output_type": "display_data"
    },
    {
     "name": "stdout",
     "output_type": "stream",
     "text": [
      "\n",
      "> Vote totals verified — no errors\n",
      "————————————————————————————————————————————————————————————\n",
      "Loading Co Commission Dist 3.csv data...\n",
      " > Found data for 1 counties (1%)\n",
      "Verifying vote totals...\n"
     ]
    },
    {
     "data": {
      "application/vnd.jupyter.widget-view+json": {
       "model_id": "92afecde2ab244eb9c5a257de7058d25",
       "version_major": 2,
       "version_minor": 0
      },
      "text/plain": [
       "HBox(children=(HTML(value=''), FloatProgress(value=0.0, max=2.0), HTML(value='')))"
      ]
     },
     "metadata": {},
     "output_type": "display_data"
    },
    {
     "name": "stdout",
     "output_type": "stream",
     "text": [
      "\n",
      "> Vote totals verified — no errors\n",
      "————————————————————————————————————————————————————————————\n",
      "Loading Coroner - Special.csv data...\n",
      " > Found data for 1 counties (1%)\n",
      "Verifying vote totals...\n"
     ]
    },
    {
     "data": {
      "application/vnd.jupyter.widget-view+json": {
       "model_id": "fe53e97bc96940b6bbe4a6f1f7f33ef8",
       "version_major": 2,
       "version_minor": 0
      },
      "text/plain": [
       "HBox(children=(HTML(value=''), FloatProgress(value=0.0, max=1.0), HTML(value='')))"
      ]
     },
     "metadata": {},
     "output_type": "display_data"
    },
    {
     "name": "stdout",
     "output_type": "stream",
     "text": [
      "\n",
      "> Vote totals verified — no errors\n",
      "————————————————————————————————————————————————————————————\n",
      "Loading State Senate Dist 8.csv data...\n",
      " > Found data for 7 counties (4%)\n",
      "Verifying vote totals...\n"
     ]
    },
    {
     "data": {
      "application/vnd.jupyter.widget-view+json": {
       "model_id": "117fcf33e1da4f5a83794b1db8c99fa1",
       "version_major": 2,
       "version_minor": 0
      },
      "text/plain": [
       "HBox(children=(HTML(value=''), FloatProgress(value=0.0, max=2.0), HTML(value='')))"
      ]
     },
     "metadata": {},
     "output_type": "display_data"
    },
    {
     "name": "stdout",
     "output_type": "stream",
     "text": [
      "\n",
      "> Vote totals verified — no errors\n",
      "————————————————————————————————————————————————————————————\n",
      "Loading Dist Attorney - Gwinnett.csv data...\n",
      " > Found data for 1 counties (1%)\n",
      "Verifying vote totals...\n"
     ]
    },
    {
     "data": {
      "application/vnd.jupyter.widget-view+json": {
       "model_id": "257540fbbd0b43e8838161d0ee614a43",
       "version_major": 2,
       "version_minor": 0
      },
      "text/plain": [
       "HBox(children=(HTML(value=''), FloatProgress(value=0.0, max=2.0), HTML(value='')))"
      ]
     },
     "metadata": {},
     "output_type": "display_data"
    },
    {
     "name": "stdout",
     "output_type": "stream",
     "text": [
      "\n",
      "> Vote totals verified — no errors\n",
      "————————————————————————————————————————————————————————————\n",
      "Loading State House Dist 76.csv data...\n",
      " > Found data for 2 counties (1%)\n",
      "Verifying vote totals...\n"
     ]
    },
    {
     "data": {
      "application/vnd.jupyter.widget-view+json": {
       "model_id": "2e18abe00ea642f49996a71725e89442",
       "version_major": 2,
       "version_minor": 0
      },
      "text/plain": [
       "HBox(children=(HTML(value=''), FloatProgress(value=0.0, max=1.0), HTML(value='')))"
      ]
     },
     "metadata": {},
     "output_type": "display_data"
    },
    {
     "name": "stdout",
     "output_type": "stream",
     "text": [
      "\n",
      "> Vote totals verified — no errors\n",
      "————————————————————————————————————————————————————————————\n",
      "Loading State Senate Dist 28.csv data...\n",
      " > Found data for 5 counties (3%)\n",
      "Verifying vote totals...\n"
     ]
    },
    {
     "data": {
      "application/vnd.jupyter.widget-view+json": {
       "model_id": "b878d980ff6f41098ad5680f011810e0",
       "version_major": 2,
       "version_minor": 0
      },
      "text/plain": [
       "HBox(children=(HTML(value=''), FloatProgress(value=0.0, max=1.0), HTML(value='')))"
      ]
     },
     "metadata": {},
     "output_type": "display_data"
    },
    {
     "name": "stdout",
     "output_type": "stream",
     "text": [
      "\n",
      "> Vote totals verified — no errors\n",
      "————————————————————————————————————————————————————————————\n",
      "Loading State House Dist 30.csv data...\n",
      " > Found data for 1 counties (1%)\n",
      "Verifying vote totals...\n"
     ]
    },
    {
     "data": {
      "application/vnd.jupyter.widget-view+json": {
       "model_id": "b7aec481a6494cd28c4c713c0a6d2dd2",
       "version_major": 2,
       "version_minor": 0
      },
      "text/plain": [
       "HBox(children=(HTML(value=''), FloatProgress(value=0.0, max=2.0), HTML(value='')))"
      ]
     },
     "metadata": {},
     "output_type": "display_data"
    },
    {
     "name": "stdout",
     "output_type": "stream",
     "text": [
      "\n",
      "> Vote totals verified — no errors\n",
      "————————————————————————————————————————————————————————————\n",
      "Loading Board of Education At Large.csv data...\n",
      " > Found data for 7 counties (4%)\n",
      "Verifying vote totals...\n"
     ]
    },
    {
     "data": {
      "application/vnd.jupyter.widget-view+json": {
       "model_id": "c799cd7f6d9f4c98b999d18be3b7a981",
       "version_major": 2,
       "version_minor": 0
      },
      "text/plain": [
       "HBox(children=(HTML(value=''), FloatProgress(value=0.0, max=9.0), HTML(value='')))"
      ]
     },
     "metadata": {},
     "output_type": "display_data"
    },
    {
     "name": "stdout",
     "output_type": "stream",
     "text": [
      "\n",
      "> Vote totals verified — no errors\n",
      "————————————————————————————————————————————————————————————\n",
      "Loading County Commission Dist 4 - Special.csv data...\n",
      " > Found data for 1 counties (1%)\n",
      "Verifying vote totals...\n"
     ]
    },
    {
     "data": {
      "application/vnd.jupyter.widget-view+json": {
       "model_id": "e9056882dc98402a85de8ce9a2799204",
       "version_major": 2,
       "version_minor": 0
      },
      "text/plain": [
       "HBox(children=(HTML(value=''), FloatProgress(value=0.0, max=2.0), HTML(value='')))"
      ]
     },
     "metadata": {},
     "output_type": "display_data"
    },
    {
     "name": "stdout",
     "output_type": "stream",
     "text": [
      "\n",
      "> Vote totals verified — no errors\n",
      "————————————————————————————————————————————————————————————\n",
      "Loading State House Dist 135.csv data...\n",
      " > Found data for 1 counties (1%)\n",
      "Verifying vote totals...\n"
     ]
    },
    {
     "data": {
      "application/vnd.jupyter.widget-view+json": {
       "model_id": "6107a1e895aa479a87caf2ef5d272dab",
       "version_major": 2,
       "version_minor": 0
      },
      "text/plain": [
       "HBox(children=(HTML(value=''), FloatProgress(value=0.0, max=1.0), HTML(value='')))"
      ]
     },
     "metadata": {},
     "output_type": "display_data"
    },
    {
     "name": "stdout",
     "output_type": "stream",
     "text": [
      "\n",
      "> Vote totals verified — no errors\n",
      "————————————————————————————————————————————————————————————\n",
      "Loading Board of Education Newton Dist.csv data...\n",
      " > Found data for 1 counties (1%)\n",
      "Verifying vote totals...\n"
     ]
    },
    {
     "data": {
      "application/vnd.jupyter.widget-view+json": {
       "model_id": "d72dd6cf55a74742b3d11b8da4270cc2",
       "version_major": 2,
       "version_minor": 0
      },
      "text/plain": [
       "HBox(children=(HTML(value=''), FloatProgress(value=0.0, max=1.0), HTML(value='')))"
      ]
     },
     "metadata": {},
     "output_type": "display_data"
    },
    {
     "name": "stdout",
     "output_type": "stream",
     "text": [
      "\n",
      "> Vote totals verified — no errors\n",
      "————————————————————————————————————————————————————————————\n",
      "Loading State Senate Dist 21.csv data...\n",
      " > Found data for 2 counties (1%)\n",
      "Verifying vote totals...\n"
     ]
    },
    {
     "data": {
      "application/vnd.jupyter.widget-view+json": {
       "model_id": "78cd695429db4d06b8e7019b529d7fdf",
       "version_major": 2,
       "version_minor": 0
      },
      "text/plain": [
       "HBox(children=(HTML(value=''), FloatProgress(value=0.0, max=1.0), HTML(value='')))"
      ]
     },
     "metadata": {},
     "output_type": "display_data"
    },
    {
     "name": "stdout",
     "output_type": "stream",
     "text": [
      "\n",
      "> Vote totals verified — no errors\n",
      "————————————————————————————————————————————————————————————\n",
      "Loading State House Dist 116.csv data...\n",
      " > Found data for 1 counties (1%)\n",
      "Verifying vote totals...\n"
     ]
    },
    {
     "data": {
      "application/vnd.jupyter.widget-view+json": {
       "model_id": "c75d0a8bf95d4ae194f5486d3bec9be1",
       "version_major": 2,
       "version_minor": 0
      },
      "text/plain": [
       "HBox(children=(HTML(value=''), FloatProgress(value=0.0, max=1.0), HTML(value='')))"
      ]
     },
     "metadata": {},
     "output_type": "display_data"
    },
    {
     "name": "stdout",
     "output_type": "stream",
     "text": [
      "\n",
      "> Vote totals verified — no errors\n",
      "————————————————————————————————————————————————————————————\n",
      "Loading County Commission Elmodel Dist.csv data...\n",
      " > Found data for 1 counties (1%)\n",
      "Verifying vote totals...\n"
     ]
    },
    {
     "data": {
      "application/vnd.jupyter.widget-view+json": {
       "model_id": "27a50ee1cd88478d807e075da2453b34",
       "version_major": 2,
       "version_minor": 0
      },
      "text/plain": [
       "HBox(children=(HTML(value=''), FloatProgress(value=0.0, max=1.0), HTML(value='')))"
      ]
     },
     "metadata": {},
     "output_type": "display_data"
    },
    {
     "name": "stdout",
     "output_type": "stream",
     "text": [
      "\n",
      "> Vote totals verified — no errors\n",
      "————————————————————————————————————————————————————————————\n",
      "Loading Coroner.csv data...\n",
      " > Found data for 145 counties (91%)\n",
      "   > Missing: ['Fulton', 'Gwinnett', 'Webster', 'Quitman', 'Clayton', 'Bibb', 'Brooks', 'Dodge', 'Randolph', 'Clay', 'Terrell', 'Putnam', 'DeKalb', 'Cobb']\n",
      "Verifying vote totals...\n"
     ]
    },
    {
     "data": {
      "application/vnd.jupyter.widget-view+json": {
       "model_id": "cfb2c63ea7fb4fdf9b4178d472ff3fa8",
       "version_major": 2,
       "version_minor": 0
      },
      "text/plain": [
       "HBox(children=(HTML(value=''), FloatProgress(value=0.0, max=163.0), HTML(value='')))"
      ]
     },
     "metadata": {},
     "output_type": "display_data"
    },
    {
     "name": "stdout",
     "output_type": "stream",
     "text": [
      "\n",
      ">>> Vote totals verified — 0.00016 error rate\n",
      "————————————————————————————————————————————————————————————\n",
      "Loading Dist Attorney - Rome.csv data...\n",
      " > Found data for 1 counties (1%)\n",
      "Verifying vote totals...\n"
     ]
    },
    {
     "data": {
      "application/vnd.jupyter.widget-view+json": {
       "model_id": "e534d9e8665342ee9be360219cd65e7d",
       "version_major": 2,
       "version_minor": 0
      },
      "text/plain": [
       "HBox(children=(HTML(value=''), FloatProgress(value=0.0, max=1.0), HTML(value='')))"
      ]
     },
     "metadata": {},
     "output_type": "display_data"
    },
    {
     "name": "stdout",
     "output_type": "stream",
     "text": [
      "\n",
      "> Vote totals verified — no errors\n",
      "————————————————————————————————————————————————————————————\n",
      "Loading State House Dist 168.csv data...\n",
      " > Found data for 1 counties (1%)\n",
      "Verifying vote totals...\n"
     ]
    },
    {
     "data": {
      "application/vnd.jupyter.widget-view+json": {
       "model_id": "7be4cd0f4d014b59a6200efe3a67d3d0",
       "version_major": 2,
       "version_minor": 0
      },
      "text/plain": [
       "HBox(children=(HTML(value=''), FloatProgress(value=0.0, max=1.0), HTML(value='')))"
      ]
     },
     "metadata": {},
     "output_type": "display_data"
    },
    {
     "name": "stdout",
     "output_type": "stream",
     "text": [
      "\n",
      "> Vote totals verified — no errors\n",
      "————————————————————————————————————————————————————————————\n",
      "Loading State House Dist 84.csv data...\n",
      " > Found data for 1 counties (1%)\n",
      "Verifying vote totals...\n"
     ]
    },
    {
     "data": {
      "application/vnd.jupyter.widget-view+json": {
       "model_id": "4ea693e78d6345f69cf909d947357b3f",
       "version_major": 2,
       "version_minor": 0
      },
      "text/plain": [
       "HBox(children=(HTML(value=''), FloatProgress(value=0.0, max=1.0), HTML(value='')))"
      ]
     },
     "metadata": {},
     "output_type": "display_data"
    },
    {
     "name": "stdout",
     "output_type": "stream",
     "text": [
      "\n",
      "> Vote totals verified — no errors\n",
      "————————————————————————————————————————————————————————————\n",
      "Loading Soil and Water - Lincoln County.csv data...\n",
      " > Found data for 1 counties (1%)\n",
      "Verifying vote totals...\n"
     ]
    },
    {
     "data": {
      "application/vnd.jupyter.widget-view+json": {
       "model_id": "b7bda82410264c899e6fe89a8e98d760",
       "version_major": 2,
       "version_minor": 0
      },
      "text/plain": [
       "HBox(children=(HTML(value=''), FloatProgress(value=0.0, max=1.0), HTML(value='')))"
      ]
     },
     "metadata": {},
     "output_type": "display_data"
    },
    {
     "name": "stdout",
     "output_type": "stream",
     "text": [
      "\n",
      "> Vote totals verified — no errors\n",
      "————————————————————————————————————————————————————————————\n",
      "Loading Ashburn City Council.csv data...\n",
      " > Found data for 1 counties (1%)\n",
      "Verifying vote totals...\n"
     ]
    },
    {
     "data": {
      "application/vnd.jupyter.widget-view+json": {
       "model_id": "954ddf6f95f44f87aeda525627ded640",
       "version_major": 2,
       "version_minor": 0
      },
      "text/plain": [
       "HBox(children=(HTML(value=''), FloatProgress(value=0.0, max=7.0), HTML(value='')))"
      ]
     },
     "metadata": {},
     "output_type": "display_data"
    },
    {
     "name": "stdout",
     "output_type": "stream",
     "text": [
      "\n",
      "> Vote totals verified — no errors\n",
      "————————————————————————————————————————————————————————————\n",
      "Loading State House Dist 51.csv data...\n",
      " > Found data for 1 counties (1%)\n",
      "Verifying vote totals...\n"
     ]
    },
    {
     "data": {
      "application/vnd.jupyter.widget-view+json": {
       "model_id": "d36c8d701ac34ddd93f5f9afcbce25bf",
       "version_major": 2,
       "version_minor": 0
      },
      "text/plain": [
       "HBox(children=(HTML(value=''), FloatProgress(value=0.0, max=2.0), HTML(value='')))"
      ]
     },
     "metadata": {},
     "output_type": "display_data"
    },
    {
     "name": "stdout",
     "output_type": "stream",
     "text": [
      "\n",
      "> Vote totals verified — no errors\n",
      "————————————————————————————————————————————————————————————\n",
      "Loading County Commission Hoggards Mill Dist.csv data...\n",
      " > Found data for 1 counties (1%)\n",
      "Verifying vote totals...\n"
     ]
    },
    {
     "data": {
      "application/vnd.jupyter.widget-view+json": {
       "model_id": "54ebd9ca4ddf42c89e5666e43e06b136",
       "version_major": 2,
       "version_minor": 0
      },
      "text/plain": [
       "HBox(children=(HTML(value=''), FloatProgress(value=0.0, max=1.0), HTML(value='')))"
      ]
     },
     "metadata": {},
     "output_type": "display_data"
    },
    {
     "name": "stdout",
     "output_type": "stream",
     "text": [
      "\n",
      "> Vote totals verified — no errors\n",
      "————————————————————————————————————————————————————————————\n",
      "Loading County Commission Dist 6 - Special.csv data...\n",
      " > Found data for 1 counties (1%)\n",
      "Verifying vote totals...\n"
     ]
    },
    {
     "data": {
      "application/vnd.jupyter.widget-view+json": {
       "model_id": "a0f62e3f25d24cc4864bbf0a9abebee8",
       "version_major": 2,
       "version_minor": 0
      },
      "text/plain": [
       "HBox(children=(HTML(value=''), FloatProgress(value=0.0, max=2.0), HTML(value='')))"
      ]
     },
     "metadata": {},
     "output_type": "display_data"
    },
    {
     "name": "stdout",
     "output_type": "stream",
     "text": [
      "\n",
      "> Vote totals verified — no errors\n",
      "————————————————————————————————————————————————————————————\n",
      "Loading Board of Education Dist 5 (At Large).csv data...\n",
      " > Found data for 1 counties (1%)\n",
      "Verifying vote totals...\n"
     ]
    },
    {
     "data": {
      "application/vnd.jupyter.widget-view+json": {
       "model_id": "2ee962837e4c4a248fcbfc909e351c3f",
       "version_major": 2,
       "version_minor": 0
      },
      "text/plain": [
       "HBox(children=(HTML(value=''), FloatProgress(value=0.0, max=1.0), HTML(value='')))"
      ]
     },
     "metadata": {},
     "output_type": "display_data"
    },
    {
     "name": "stdout",
     "output_type": "stream",
     "text": [
      "\n",
      "> Vote totals verified — no errors\n",
      "————————————————————————————————————————————————————————————\n",
      "Loading State Senate Dist 2.csv data...\n",
      " > Found data for 1 counties (1%)\n",
      "Verifying vote totals...\n"
     ]
    },
    {
     "data": {
      "application/vnd.jupyter.widget-view+json": {
       "model_id": "436051c11b454102b5ab1e1c6522307c",
       "version_major": 2,
       "version_minor": 0
      },
      "text/plain": [
       "HBox(children=(HTML(value=''), FloatProgress(value=0.0, max=1.0), HTML(value='')))"
      ]
     },
     "metadata": {},
     "output_type": "display_data"
    },
    {
     "name": "stdout",
     "output_type": "stream",
     "text": [
      "\n",
      "> Vote totals verified — no errors\n",
      "————————————————————————————————————————————————————————————\n",
      "Loading Screven Sunday Package Sales - Special.csv data...\n",
      " > Found data for 1 counties (1%)\n",
      "Verifying vote totals...\n"
     ]
    },
    {
     "data": {
      "application/vnd.jupyter.widget-view+json": {
       "model_id": "236d06b266f14c6e8f3a5e8bd40f099c",
       "version_major": 2,
       "version_minor": 0
      },
      "text/plain": [
       "HBox(children=(HTML(value=''), FloatProgress(value=0.0, max=2.0), HTML(value='')))"
      ]
     },
     "metadata": {},
     "output_type": "display_data"
    },
    {
     "name": "stdout",
     "output_type": "stream",
     "text": [
      "\n",
      "> Vote totals verified — no errors\n",
      "————————————————————————————————————————————————————————————\n",
      "Loading State Senate Dist 31.csv data...\n",
      " > Found data for 3 counties (2%)\n",
      "Verifying vote totals...\n"
     ]
    },
    {
     "data": {
      "application/vnd.jupyter.widget-view+json": {
       "model_id": "89371f75a21d41778eefb9be87a7a18f",
       "version_major": 2,
       "version_minor": 0
      },
      "text/plain": [
       "HBox(children=(HTML(value=''), FloatProgress(value=0.0, max=2.0), HTML(value='')))"
      ]
     },
     "metadata": {},
     "output_type": "display_data"
    },
    {
     "name": "stdout",
     "output_type": "stream",
     "text": [
      "\n",
      "> Vote totals verified — no errors\n",
      "————————————————————————————————————————————————————————————\n",
      "Loading Board of Education Dist 7.csv data...\n",
      " > Found data for 6 counties (4%)\n",
      "Verifying vote totals...\n"
     ]
    },
    {
     "data": {
      "application/vnd.jupyter.widget-view+json": {
       "model_id": "0cb395c108464bce96f19dcb60925398",
       "version_major": 2,
       "version_minor": 0
      },
      "text/plain": [
       "HBox(children=(HTML(value=''), FloatProgress(value=0.0, max=8.0), HTML(value='')))"
      ]
     },
     "metadata": {},
     "output_type": "display_data"
    },
    {
     "name": "stdout",
     "output_type": "stream",
     "text": [
      "\n",
      "> Vote totals verified — no errors\n",
      "————————————————————————————————————————————————————————————\n",
      "Loading Dist Attorney - Lookout Mountain.csv data...\n",
      " > Found data for 4 counties (3%)\n",
      "Verifying vote totals...\n"
     ]
    },
    {
     "data": {
      "application/vnd.jupyter.widget-view+json": {
       "model_id": "73a42324e38e477bb86639bf5deefbc5",
       "version_major": 2,
       "version_minor": 0
      },
      "text/plain": [
       "HBox(children=(HTML(value=''), FloatProgress(value=0.0, max=1.0), HTML(value='')))"
      ]
     },
     "metadata": {},
     "output_type": "display_data"
    },
    {
     "name": "stdout",
     "output_type": "stream",
     "text": [
      "\n",
      "> Vote totals verified — no errors\n",
      "————————————————————————————————————————————————————————————\n",
      "Loading State Senate Dist 4.csv data...\n",
      " > Found data for 6 counties (4%)\n",
      "Verifying vote totals...\n"
     ]
    },
    {
     "data": {
      "application/vnd.jupyter.widget-view+json": {
       "model_id": "750b03fe32d84c9d9c0e1bcd3d4e3a02",
       "version_major": 2,
       "version_minor": 0
      },
      "text/plain": [
       "HBox(children=(HTML(value=''), FloatProgress(value=0.0, max=1.0), HTML(value='')))"
      ]
     },
     "metadata": {},
     "output_type": "display_data"
    },
    {
     "name": "stdout",
     "output_type": "stream",
     "text": [
      "\n",
      "> Vote totals verified — no errors\n",
      "————————————————————————————————————————————————————————————\n",
      "Loading DeKalb County Ethics - Special.csv data...\n",
      " > Found data for 1 counties (1%)\n",
      "Verifying vote totals...\n"
     ]
    },
    {
     "data": {
      "application/vnd.jupyter.widget-view+json": {
       "model_id": "ebc3fc0605f24be785bbcbd7e7343912",
       "version_major": 2,
       "version_minor": 0
      },
      "text/plain": [
       "HBox(children=(HTML(value=''), FloatProgress(value=0.0, max=2.0), HTML(value='')))"
      ]
     },
     "metadata": {},
     "output_type": "display_data"
    },
    {
     "name": "stdout",
     "output_type": "stream",
     "text": [
      "\n",
      "> Vote totals verified — no errors\n",
      "————————————————————————————————————————————————————————————\n",
      "Loading Nicholson Fire Advisory Board Post 5.csv data...\n",
      " > Found data for 1 counties (1%)\n",
      "Verifying vote totals...\n"
     ]
    },
    {
     "data": {
      "application/vnd.jupyter.widget-view+json": {
       "model_id": "964d5b51faea44dc8b1b2778bb64c8dd",
       "version_major": 2,
       "version_minor": 0
      },
      "text/plain": [
       "HBox(children=(HTML(value=''), FloatProgress(value=0.0, max=1.0), HTML(value='')))"
      ]
     },
     "metadata": {},
     "output_type": "display_data"
    },
    {
     "name": "stdout",
     "output_type": "stream",
     "text": [
      "\n",
      "> Vote totals verified — no errors\n",
      "————————————————————————————————————————————————————————————\n",
      "Loading West Jackson Fire Advisory Board Post 5.csv data...\n",
      " > Found data for 1 counties (1%)\n",
      "Verifying vote totals...\n"
     ]
    },
    {
     "data": {
      "application/vnd.jupyter.widget-view+json": {
       "model_id": "a7b5e804894a41749ed2f4fb5e17cd0d",
       "version_major": 2,
       "version_minor": 0
      },
      "text/plain": [
       "HBox(children=(HTML(value=''), FloatProgress(value=0.0, max=1.0), HTML(value='')))"
      ]
     },
     "metadata": {},
     "output_type": "display_data"
    },
    {
     "name": "stdout",
     "output_type": "stream",
     "text": [
      "\n",
      "> Vote totals verified — no errors\n",
      "————————————————————————————————————————————————————————————\n",
      "Loading State Senate Dist 50.csv data...\n",
      " > Found data for 8 counties (5%)\n",
      "Verifying vote totals...\n"
     ]
    },
    {
     "data": {
      "application/vnd.jupyter.widget-view+json": {
       "model_id": "2cfb8cd0d2ea4d2ba69b49de79e888b3",
       "version_major": 2,
       "version_minor": 0
      },
      "text/plain": [
       "HBox(children=(HTML(value=''), FloatProgress(value=0.0, max=2.0), HTML(value='')))"
      ]
     },
     "metadata": {},
     "output_type": "display_data"
    },
    {
     "name": "stdout",
     "output_type": "stream",
     "text": [
      "\n",
      "> Vote totals verified — no errors\n",
      "————————————————————————————————————————————————————————————\n",
      "Loading State House Dist 24.csv data...\n",
      " > Found data for 1 counties (1%)\n",
      "Verifying vote totals...\n"
     ]
    },
    {
     "data": {
      "application/vnd.jupyter.widget-view+json": {
       "model_id": "18faf6ed625c49ad9fb0656e9969e08c",
       "version_major": 2,
       "version_minor": 0
      },
      "text/plain": [
       "HBox(children=(HTML(value=''), FloatProgress(value=0.0, max=2.0), HTML(value='')))"
      ]
     },
     "metadata": {},
     "output_type": "display_data"
    },
    {
     "name": "stdout",
     "output_type": "stream",
     "text": [
      "\n",
      "> Vote totals verified — no errors\n",
      "————————————————————————————————————————————————————————————\n",
      "Loading County Commissioner At Large.csv data...\n",
      " > Found data for 4 counties (3%)\n",
      "Verifying vote totals...\n"
     ]
    },
    {
     "data": {
      "application/vnd.jupyter.widget-view+json": {
       "model_id": "d456a0a763f74aeeb344fbd55dc92c9e",
       "version_major": 2,
       "version_minor": 0
      },
      "text/plain": [
       "HBox(children=(HTML(value=''), FloatProgress(value=0.0, max=5.0), HTML(value='')))"
      ]
     },
     "metadata": {},
     "output_type": "display_data"
    },
    {
     "name": "stdout",
     "output_type": "stream",
     "text": [
      "\n",
      "> Vote totals verified — no errors\n",
      "————————————————————————————————————————————————————————————\n",
      "Loading Alamo City Council - Special.csv data...\n",
      " > Found data for 1 counties (1%)\n",
      "Verifying vote totals...\n"
     ]
    },
    {
     "data": {
      "application/vnd.jupyter.widget-view+json": {
       "model_id": "3bd1d7cd95ae48db8b250713c10b26a9",
       "version_major": 2,
       "version_minor": 0
      },
      "text/plain": [
       "HBox(children=(HTML(value=''), FloatProgress(value=0.0, max=4.0), HTML(value='')))"
      ]
     },
     "metadata": {},
     "output_type": "display_data"
    },
    {
     "name": "stdout",
     "output_type": "stream",
     "text": [
      "\n",
      "> Vote totals verified — no errors\n",
      "————————————————————————————————————————————————————————————\n",
      "Loading US House Dist 1.csv data...\n",
      " > Found data for 17 counties (11%)\n",
      "Verifying vote totals...\n"
     ]
    },
    {
     "data": {
      "application/vnd.jupyter.widget-view+json": {
       "model_id": "fbe515be8ce44115bcc46559e2f4d908",
       "version_major": 2,
       "version_minor": 0
      },
      "text/plain": [
       "HBox(children=(HTML(value=''), FloatProgress(value=0.0, max=2.0), HTML(value='')))"
      ]
     },
     "metadata": {},
     "output_type": "display_data"
    },
    {
     "name": "stdout",
     "output_type": "stream",
     "text": [
      "\n",
      "> Vote totals verified — no errors\n",
      "————————————————————————————————————————————————————————————\n",
      "Loading State House Dist 146.csv data...\n",
      " > Found data for 1 counties (1%)\n",
      "Verifying vote totals...\n"
     ]
    },
    {
     "data": {
      "application/vnd.jupyter.widget-view+json": {
       "model_id": "368f115365f647c0a902b263262f1ab3",
       "version_major": 2,
       "version_minor": 0
      },
      "text/plain": [
       "HBox(children=(HTML(value=''), FloatProgress(value=0.0, max=1.0), HTML(value='')))"
      ]
     },
     "metadata": {},
     "output_type": "display_data"
    },
    {
     "name": "stdout",
     "output_type": "stream",
     "text": [
      "\n",
      "> Vote totals verified — no errors\n",
      "————————————————————————————————————————————————————————————\n",
      "Loading County Commissioner At Large Post 2.csv data...\n",
      " > Found data for 1 counties (1%)\n",
      "Verifying vote totals...\n"
     ]
    },
    {
     "data": {
      "application/vnd.jupyter.widget-view+json": {
       "model_id": "5fd98ed138094e22947d48d6289b4a67",
       "version_major": 2,
       "version_minor": 0
      },
      "text/plain": [
       "HBox(children=(HTML(value=''), FloatProgress(value=0.0, max=2.0), HTML(value='')))"
      ]
     },
     "metadata": {},
     "output_type": "display_data"
    },
    {
     "name": "stdout",
     "output_type": "stream",
     "text": [
      "\n",
      "> Vote totals verified — no errors\n",
      "————————————————————————————————————————————————————————————\n",
      "Loading ESPLOST - Special.csv data...\n",
      " > Found data for 1 counties (1%)\n",
      "Verifying vote totals...\n"
     ]
    },
    {
     "data": {
      "application/vnd.jupyter.widget-view+json": {
       "model_id": "d5b8a55aebdb4765a176d04a77078560",
       "version_major": 2,
       "version_minor": 0
      },
      "text/plain": [
       "HBox(children=(HTML(value=''), FloatProgress(value=0.0, max=2.0), HTML(value='')))"
      ]
     },
     "metadata": {},
     "output_type": "display_data"
    },
    {
     "name": "stdout",
     "output_type": "stream",
     "text": [
      "\n",
      "> Vote totals verified — no errors\n",
      "————————————————————————————————————————————————————————————\n",
      "COMPLETE\n"
     ]
    }
   ],
   "source": [
    "races = [''] # blank triggers all. otherwise, use keywords like \"President\" or \"US Senate\"\n",
    "\n",
    "\n",
    "join_all_race_data(races)"
   ]
  },
  {
   "cell_type": "code",
   "execution_count": null,
   "metadata": {},
   "outputs": [],
   "source": []
  }
 ],
 "metadata": {
  "kernelspec": {
   "display_name": "Python 3",
   "language": "python",
   "name": "python3"
  },
  "language_info": {
   "codemirror_mode": {
    "name": "ipython",
    "version": 3
   },
   "file_extension": ".py",
   "mimetype": "text/x-python",
   "name": "python",
   "nbconvert_exporter": "python",
   "pygments_lexer": "ipython3",
   "version": "3.8.5"
  }
 },
 "nbformat": 4,
 "nbformat_minor": 4
}
