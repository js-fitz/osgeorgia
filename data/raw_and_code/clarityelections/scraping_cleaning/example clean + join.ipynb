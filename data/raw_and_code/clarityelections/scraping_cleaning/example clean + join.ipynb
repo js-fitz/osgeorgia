{
 "cells": [
  {
   "cell_type": "code",
   "execution_count": 1,
   "metadata": {},
   "outputs": [
    {
     "name": "stdout",
     "output_type": "stream",
     "text": [
      "Download directory set to '/Users/joe/Downloads'\n",
      "\n",
      "ELECTION DETAILS:\n",
      "   > General Election - November 3, 2020\n",
      "   > source: November 3, 2020\n",
      "   > 159 counties reporting (159 total)\n",
      "   > 159 URLs collected\n",
      "Target parent folder: '2020_november'\n",
      "|— today: 'nov_29'\n"
     ]
    }
   ],
   "source": [
    "from functions import *\n",
    "\n",
    "# check race details to define directories\n",
    "pre_scraper('GA', '105369')\n",
    "define_directories()"
   ]
  },
  {
   "cell_type": "code",
   "execution_count": null,
   "metadata": {
    "scrolled": false
   },
   "outputs": [
    {
     "name": "stdout",
     "output_type": "stream",
     "text": [
      "549 total races identified\n",
      "549 selected\n",
      "————————————————————————————————————————————————————————————\n",
      "Loading Board of Education - Bramlett.csv data...\n",
      " > Found data for 1 counties (1%)\n",
      "Verifying vote totals...\n"
     ]
    },
    {
     "data": {
      "application/vnd.jupyter.widget-view+json": {
       "model_id": "0b9eda1bdb354756834ab7affa583ff4",
       "version_major": 2,
       "version_minor": 0
      },
      "text/plain": [
       "HBox(children=(HTML(value=''), FloatProgress(value=0.0, max=1.0), HTML(value='')))"
      ]
     },
     "metadata": {},
     "output_type": "display_data"
    },
    {
     "name": "stdout",
     "output_type": "stream",
     "text": [
      "\n",
      "> Vote totals verified — no errors\n",
      "————————————————————————————————————————————————————————————\n",
      "Loading Public Service Commission Dist 1.csv data...\n",
      " > Found data for 159 counties (100%)\n",
      "Verifying vote totals...\n"
     ]
    },
    {
     "data": {
      "application/vnd.jupyter.widget-view+json": {
       "model_id": "bd5d574c9acd4a30af6ce2e0ee341755",
       "version_major": 2,
       "version_minor": 0
      },
      "text/plain": [
       "HBox(children=(HTML(value=''), FloatProgress(value=0.0, max=3.0), HTML(value='')))"
      ]
     },
     "metadata": {},
     "output_type": "display_data"
    },
    {
     "name": "stdout",
     "output_type": "stream",
     "text": [
      "\n",
      "> Vote totals verified — no errors\n",
      "————————————————————————————————————————————————————————————\n",
      "Loading State Senate Dist 38.csv data...\n",
      " > Found data for 2 counties (1%)\n",
      "Verifying vote totals...\n"
     ]
    },
    {
     "data": {
      "application/vnd.jupyter.widget-view+json": {
       "model_id": "f566542534164b9aa6df0d260a82de2b",
       "version_major": 2,
       "version_minor": 0
      },
      "text/plain": [
       "HBox(children=(HTML(value=''), FloatProgress(value=0.0, max=1.0), HTML(value='')))"
      ]
     },
     "metadata": {},
     "output_type": "display_data"
    },
    {
     "name": "stdout",
     "output_type": "stream",
     "text": [
      "\n",
      "> Vote totals verified — no errors\n",
      "————————————————————————————————————————————————————————————\n",
      "Loading Dist Attorney - Ocmulgee.csv data...\n",
      " > Found data for 8 counties (5%)\n",
      "Verifying vote totals...\n"
     ]
    },
    {
     "data": {
      "application/vnd.jupyter.widget-view+json": {
       "model_id": "c038938d20ff4ccab857093320539c56",
       "version_major": 2,
       "version_minor": 0
      },
      "text/plain": [
       "HBox(children=(HTML(value=''), FloatProgress(value=0.0, max=1.0), HTML(value='')))"
      ]
     },
     "metadata": {},
     "output_type": "display_data"
    },
    {
     "name": "stdout",
     "output_type": "stream",
     "text": [
      "\n",
      "> Vote totals verified — no errors\n",
      "————————————————————————————————————————————————————————————\n",
      "Loading Board of Education Dist 10.csv data...\n",
      " > Found data for 1 counties (1%)\n",
      "Verifying vote totals...\n"
     ]
    },
    {
     "data": {
      "application/vnd.jupyter.widget-view+json": {
       "model_id": "e8742ccdba1a4efda967bf4b68df8752",
       "version_major": 2,
       "version_minor": 0
      },
      "text/plain": [
       "HBox(children=(HTML(value=''), FloatProgress(value=0.0, max=3.0), HTML(value='')))"
      ]
     },
     "metadata": {},
     "output_type": "display_data"
    },
    {
     "name": "stdout",
     "output_type": "stream",
     "text": [
      "\n",
      "> Vote totals verified — no errors\n",
      "————————————————————————————————————————————————————————————\n",
      "Loading State House Dist 141.csv data...\n",
      " > Found data for 2 counties (1%)\n",
      "Verifying vote totals...\n"
     ]
    },
    {
     "data": {
      "application/vnd.jupyter.widget-view+json": {
       "model_id": "4468902a922545b093cd20d2dd05fe3f",
       "version_major": 2,
       "version_minor": 0
      },
      "text/plain": [
       "HBox(children=(HTML(value=''), FloatProgress(value=0.0, max=1.0), HTML(value='')))"
      ]
     },
     "metadata": {},
     "output_type": "display_data"
    },
    {
     "name": "stdout",
     "output_type": "stream",
     "text": [
      "\n",
      "> Vote totals verified — no errors\n",
      "————————————————————————————————————————————————————————————\n",
      "Loading State House Dist 167.csv data...\n",
      " > Found data for 3 counties (2%)\n",
      "Verifying vote totals...\n"
     ]
    },
    {
     "data": {
      "application/vnd.jupyter.widget-view+json": {
       "model_id": "6276b1ebba334167911116d8652227e1",
       "version_major": 2,
       "version_minor": 0
      },
      "text/plain": [
       "HBox(children=(HTML(value=''), FloatProgress(value=0.0, max=1.0), HTML(value='')))"
      ]
     },
     "metadata": {},
     "output_type": "display_data"
    },
    {
     "name": "stdout",
     "output_type": "stream",
     "text": [
      "\n",
      "> Vote totals verified — no errors\n",
      "————————————————————————————————————————————————————————————\n",
      "Loading State House Dist 113.csv data...\n",
      " > Found data for 2 counties (1%)\n",
      "Verifying vote totals...\n"
     ]
    },
    {
     "data": {
      "application/vnd.jupyter.widget-view+json": {
       "model_id": "a70198f3bc274c438df79cceb0a9a5d3",
       "version_major": 2,
       "version_minor": 0
      },
      "text/plain": [
       "HBox(children=(HTML(value=''), FloatProgress(value=0.0, max=1.0), HTML(value='')))"
      ]
     },
     "metadata": {},
     "output_type": "display_data"
    },
    {
     "name": "stdout",
     "output_type": "stream",
     "text": [
      "\n",
      "> Vote totals verified — no errors\n",
      "————————————————————————————————————————————————————————————\n",
      "Loading State House Dist 62.csv data...\n",
      " > Found data for 2 counties (1%)\n",
      "Verifying vote totals...\n"
     ]
    },
    {
     "data": {
      "application/vnd.jupyter.widget-view+json": {
       "model_id": "b49ffcb646a945708dd5afe86200b01b",
       "version_major": 2,
       "version_minor": 0
      },
      "text/plain": [
       "HBox(children=(HTML(value=''), FloatProgress(value=0.0, max=1.0), HTML(value='')))"
      ]
     },
     "metadata": {},
     "output_type": "display_data"
    },
    {
     "name": "stdout",
     "output_type": "stream",
     "text": [
      "\n",
      "> Vote totals verified — no errors\n",
      "————————————————————————————————————————————————————————————\n",
      "Loading State House Dist 24.csv data...\n",
      " > Found data for 1 counties (1%)\n",
      "Verifying vote totals...\n"
     ]
    },
    {
     "data": {
      "application/vnd.jupyter.widget-view+json": {
       "model_id": "8e7fa5f2de5c489781c515606264bc16",
       "version_major": 2,
       "version_minor": 0
      },
      "text/plain": [
       "HBox(children=(HTML(value=''), FloatProgress(value=0.0, max=2.0), HTML(value='')))"
      ]
     },
     "metadata": {},
     "output_type": "display_data"
    },
    {
     "name": "stdout",
     "output_type": "stream",
     "text": [
      "\n",
      "> Vote totals verified — no errors\n",
      "————————————————————————————————————————————————————————————\n",
      "Loading State Senate Dist 27.csv data...\n",
      " > Found data for 1 counties (1%)\n",
      "Verifying vote totals...\n"
     ]
    },
    {
     "data": {
      "application/vnd.jupyter.widget-view+json": {
       "model_id": "d20f0f27e29d43c0a0bfa4823f6c3b04",
       "version_major": 2,
       "version_minor": 0
      },
      "text/plain": [
       "HBox(children=(HTML(value=''), FloatProgress(value=0.0, max=2.0), HTML(value='')))"
      ]
     },
     "metadata": {},
     "output_type": "display_data"
    },
    {
     "name": "stdout",
     "output_type": "stream",
     "text": [
      "\n",
      "> Vote totals verified — no errors\n",
      "————————————————————————————————————————————————————————————\n",
      "Loading State House Dist 69.csv data...\n",
      " > Found data for 3 counties (2%)\n",
      "Verifying vote totals...\n"
     ]
    },
    {
     "data": {
      "application/vnd.jupyter.widget-view+json": {
       "model_id": "dc933957c90c4caf9b61987ac46b7392",
       "version_major": 2,
       "version_minor": 0
      },
      "text/plain": [
       "HBox(children=(HTML(value=''), FloatProgress(value=0.0, max=2.0), HTML(value='')))"
      ]
     },
     "metadata": {},
     "output_type": "display_data"
    },
    {
     "name": "stdout",
     "output_type": "stream",
     "text": [
      "\n",
      "> Vote totals verified — no errors\n",
      "————————————————————————————————————————————————————————————\n",
      "Loading State House Dist 123.csv data...\n",
      " > Found data for 2 counties (1%)\n",
      "Verifying vote totals...\n"
     ]
    },
    {
     "data": {
      "application/vnd.jupyter.widget-view+json": {
       "model_id": "9fb052927f0e405ab4dbd20641fc9ce1",
       "version_major": 2,
       "version_minor": 0
      },
      "text/plain": [
       "HBox(children=(HTML(value=''), FloatProgress(value=0.0, max=1.0), HTML(value='')))"
      ]
     },
     "metadata": {},
     "output_type": "display_data"
    },
    {
     "name": "stdout",
     "output_type": "stream",
     "text": [
      "\n",
      "> Vote totals verified — no errors\n",
      "————————————————————————————————————————————————————————————\n",
      "Loading Soil and Water - Hall County.csv data...\n",
      " > Found data for 1 counties (1%)\n",
      "Verifying vote totals...\n"
     ]
    },
    {
     "data": {
      "application/vnd.jupyter.widget-view+json": {
       "model_id": "44bdd84e75004d40828a8ed7a9eea540",
       "version_major": 2,
       "version_minor": 0
      },
      "text/plain": [
       "HBox(children=(HTML(value=''), FloatProgress(value=0.0, max=3.0), HTML(value='')))"
      ]
     },
     "metadata": {},
     "output_type": "display_data"
    },
    {
     "name": "stdout",
     "output_type": "stream",
     "text": [
      "\n",
      "> Vote totals verified — no errors\n",
      "————————————————————————————————————————————————————————————\n",
      "Loading County Commission Elmodel Dist.csv data...\n",
      " > Found data for 1 counties (1%)\n",
      "Verifying vote totals...\n"
     ]
    },
    {
     "data": {
      "application/vnd.jupyter.widget-view+json": {
       "model_id": "738adb3713244371ae9146356df2308a",
       "version_major": 2,
       "version_minor": 0
      },
      "text/plain": [
       "HBox(children=(HTML(value=''), FloatProgress(value=0.0, max=1.0), HTML(value='')))"
      ]
     },
     "metadata": {},
     "output_type": "display_data"
    },
    {
     "name": "stdout",
     "output_type": "stream",
     "text": [
      "\n",
      "> Vote totals verified — no errors\n",
      "————————————————————————————————————————————————————————————\n",
      "Loading State Senate Dist 36.csv data...\n",
      " > Found data for 1 counties (1%)\n",
      "Verifying vote totals...\n"
     ]
    },
    {
     "data": {
      "application/vnd.jupyter.widget-view+json": {
       "model_id": "d5bb5e54a9cb43bc9263d51c9d3696a4",
       "version_major": 2,
       "version_minor": 0
      },
      "text/plain": [
       "HBox(children=(HTML(value=''), FloatProgress(value=0.0, max=1.0), HTML(value='')))"
      ]
     },
     "metadata": {},
     "output_type": "display_data"
    },
    {
     "name": "stdout",
     "output_type": "stream",
     "text": [
      "\n",
      "> Vote totals verified — no errors\n",
      "————————————————————————————————————————————————————————————\n",
      "Loading County Commissioner Dist 2.csv data...\n",
      " > Found data for 1 counties (1%)\n",
      "Verifying vote totals...\n"
     ]
    },
    {
     "data": {
      "application/vnd.jupyter.widget-view+json": {
       "model_id": "a30ad970462a4bc89fd39bc5ae96ca14",
       "version_major": 2,
       "version_minor": 0
      },
      "text/plain": [
       "HBox(children=(HTML(value=''), FloatProgress(value=0.0, max=1.0), HTML(value='')))"
      ]
     },
     "metadata": {},
     "output_type": "display_data"
    },
    {
     "name": "stdout",
     "output_type": "stream",
     "text": [
      "\n",
      "> Vote totals verified — no errors\n",
      "————————————————————————————————————————————————————————————\n",
      "Loading State House Dist 177.csv data...\n",
      " > Found data for 1 counties (1%)\n",
      "Verifying vote totals...\n"
     ]
    },
    {
     "data": {
      "application/vnd.jupyter.widget-view+json": {
       "model_id": "df794ee34a08417e992443fc2c07423b",
       "version_major": 2,
       "version_minor": 0
      },
      "text/plain": [
       "HBox(children=(HTML(value=''), FloatProgress(value=0.0, max=1.0), HTML(value='')))"
      ]
     },
     "metadata": {},
     "output_type": "display_data"
    },
    {
     "name": "stdout",
     "output_type": "stream",
     "text": [
      "\n",
      "> Vote totals verified — no errors\n",
      "————————————————————————————————————————————————————————————\n",
      "Loading State House Dist 139.csv data...\n",
      " > Found data for 4 counties (3%)\n",
      "Verifying vote totals...\n"
     ]
    },
    {
     "data": {
      "application/vnd.jupyter.widget-view+json": {
       "model_id": "f626e12514e54edda1a383e5145a9653",
       "version_major": 2,
       "version_minor": 0
      },
      "text/plain": [
       "HBox(children=(HTML(value=''), FloatProgress(value=0.0, max=1.0), HTML(value='')))"
      ]
     },
     "metadata": {},
     "output_type": "display_data"
    },
    {
     "name": "stdout",
     "output_type": "stream",
     "text": [
      "\n",
      "> Vote totals verified — no errors\n",
      "————————————————————————————————————————————————————————————\n",
      "Loading Board of Education Precinct 2.csv data...\n",
      " > Found data for 1 counties (1%)\n",
      "Verifying vote totals...\n"
     ]
    },
    {
     "data": {
      "application/vnd.jupyter.widget-view+json": {
       "model_id": "839c80769efb4d0d8cc5ede6213181a3",
       "version_major": 2,
       "version_minor": 0
      },
      "text/plain": [
       "HBox(children=(HTML(value=''), FloatProgress(value=0.0, max=1.0), HTML(value='')))"
      ]
     },
     "metadata": {},
     "output_type": "display_data"
    },
    {
     "name": "stdout",
     "output_type": "stream",
     "text": [
      "\n",
      "> Vote totals verified — no errors\n",
      "————————————————————————————————————————————————————————————\n",
      "Loading County Commission Dist 8.csv data...\n",
      " > Found data for 2 counties (1%)\n",
      "Verifying vote totals...\n"
     ]
    },
    {
     "data": {
      "application/vnd.jupyter.widget-view+json": {
       "model_id": "928c52c11e7f45149e8f58b5b0c53059",
       "version_major": 2,
       "version_minor": 0
      },
      "text/plain": [
       "HBox(children=(HTML(value=''), FloatProgress(value=0.0, max=2.0), HTML(value='')))"
      ]
     },
     "metadata": {},
     "output_type": "display_data"
    },
    {
     "name": "stdout",
     "output_type": "stream",
     "text": [
      "\n",
      "> Vote totals verified — no errors\n",
      "————————————————————————————————————————————————————————————\n",
      "Loading State Senate Dist 1.csv data...\n",
      " > Found data for 3 counties (2%)\n",
      "Verifying vote totals...\n"
     ]
    },
    {
     "data": {
      "application/vnd.jupyter.widget-view+json": {
       "model_id": "7b341dcd9ed141e29b1272632f27342f",
       "version_major": 2,
       "version_minor": 0
      },
      "text/plain": [
       "HBox(children=(HTML(value=''), FloatProgress(value=0.0, max=1.0), HTML(value='')))"
      ]
     },
     "metadata": {},
     "output_type": "display_data"
    },
    {
     "name": "stdout",
     "output_type": "stream",
     "text": [
      "\n",
      "> Vote totals verified — no errors\n",
      "————————————————————————————————————————————————————————————\n",
      "Loading State Senate Dist 49.csv data...\n",
      " > Found data for 1 counties (1%)\n",
      "Verifying vote totals...\n"
     ]
    },
    {
     "data": {
      "application/vnd.jupyter.widget-view+json": {
       "model_id": "65cd3405f6754c16aee4ac3e92af4cc7",
       "version_major": 2,
       "version_minor": 0
      },
      "text/plain": [
       "HBox(children=(HTML(value=''), FloatProgress(value=0.0, max=1.0), HTML(value='')))"
      ]
     },
     "metadata": {},
     "output_type": "display_data"
    },
    {
     "name": "stdout",
     "output_type": "stream",
     "text": [
      "\n",
      "> Vote totals verified — no errors\n",
      "————————————————————————————————————————————————————————————\n",
      "Loading Clerk of Courts.csv data...\n",
      " > Found data for 1 counties (1%)\n",
      "Verifying vote totals...\n"
     ]
    },
    {
     "data": {
      "application/vnd.jupyter.widget-view+json": {
       "model_id": "be4d1f942ad94a949cb5044b4bee33b9",
       "version_major": 2,
       "version_minor": 0
      },
      "text/plain": [
       "HBox(children=(HTML(value=''), FloatProgress(value=0.0, max=1.0), HTML(value='')))"
      ]
     },
     "metadata": {},
     "output_type": "display_data"
    },
    {
     "name": "stdout",
     "output_type": "stream",
     "text": [
      "\n",
      "> Vote totals verified — no errors\n",
      "————————————————————————————————————————————————————————————\n",
      "Loading State Senate Dist 40.csv data...\n",
      " > Found data for 3 counties (2%)\n",
      "Verifying vote totals...\n"
     ]
    },
    {
     "data": {
      "application/vnd.jupyter.widget-view+json": {
       "model_id": "bbaf364313144c1fba7ab3b6017993c8",
       "version_major": 2,
       "version_minor": 0
      },
      "text/plain": [
       "HBox(children=(HTML(value=''), FloatProgress(value=0.0, max=2.0), HTML(value='')))"
      ]
     },
     "metadata": {},
     "output_type": "display_data"
    },
    {
     "name": "stdout",
     "output_type": "stream",
     "text": [
      "\n",
      "> Vote totals verified — no errors\n",
      "————————————————————————————————————————————————————————————\n",
      "Loading Board of Education Dist 6.csv data...\n",
      " > Found data for 8 counties (5%)\n",
      "Verifying vote totals...\n"
     ]
    },
    {
     "data": {
      "application/vnd.jupyter.widget-view+json": {
       "model_id": "ebfb50e26c8b4ea0a187b89bee775c36",
       "version_major": 2,
       "version_minor": 0
      },
      "text/plain": [
       "HBox(children=(HTML(value=''), FloatProgress(value=0.0, max=8.0), HTML(value='')))"
      ]
     },
     "metadata": {},
     "output_type": "display_data"
    },
    {
     "name": "stdout",
     "output_type": "stream",
     "text": [
      "\n",
      "> Vote totals verified — no errors\n",
      "————————————————————————————————————————————————————————————\n",
      "Loading Dist Attorney - Conasauga.csv data...\n",
      " > Found data for 2 counties (1%)\n",
      "Verifying vote totals...\n"
     ]
    },
    {
     "data": {
      "application/vnd.jupyter.widget-view+json": {
       "model_id": "073d1986104b4e439be091e8d312cbc3",
       "version_major": 2,
       "version_minor": 0
      },
      "text/plain": [
       "HBox(children=(HTML(value=''), FloatProgress(value=0.0, max=1.0), HTML(value='')))"
      ]
     },
     "metadata": {},
     "output_type": "display_data"
    },
    {
     "name": "stdout",
     "output_type": "stream",
     "text": [
      "\n",
      "> Vote totals verified — no errors\n",
      "————————————————————————————————————————————————————————————\n",
      "Loading Maysville Fire Advisory Board Post 3.csv data...\n",
      " > Found data for 1 counties (1%)\n",
      "Verifying vote totals...\n"
     ]
    },
    {
     "data": {
      "application/vnd.jupyter.widget-view+json": {
       "model_id": "932446f8553f44fab526cfce2d5a08c3",
       "version_major": 2,
       "version_minor": 0
      },
      "text/plain": [
       "HBox(children=(HTML(value=''), FloatProgress(value=0.0, max=1.0), HTML(value='')))"
      ]
     },
     "metadata": {},
     "output_type": "display_data"
    },
    {
     "name": "stdout",
     "output_type": "stream",
     "text": [
      "\n",
      "> Vote totals verified — no errors\n",
      "————————————————————————————————————————————————————————————\n",
      "Loading Screven Alcohol Sales by the Drink - Special.csv data...\n",
      " > Found data for 1 counties (1%)\n",
      "Verifying vote totals...\n"
     ]
    },
    {
     "data": {
      "application/vnd.jupyter.widget-view+json": {
       "model_id": "a4536edd2da945a78db328d32fe50536",
       "version_major": 2,
       "version_minor": 0
      },
      "text/plain": [
       "HBox(children=(HTML(value=''), FloatProgress(value=0.0, max=2.0), HTML(value='')))"
      ]
     },
     "metadata": {},
     "output_type": "display_data"
    },
    {
     "name": "stdout",
     "output_type": "stream",
     "text": [
      "\n",
      "> Vote totals verified — no errors\n",
      "————————————————————————————————————————————————————————————\n",
      "Loading Sylvester Sales of Alcoholic Beverages on Sunday - Special.csv data...\n",
      " > Found data for 1 counties (1%)\n",
      "Verifying vote totals...\n"
     ]
    },
    {
     "data": {
      "application/vnd.jupyter.widget-view+json": {
       "model_id": "629ca2834abc44c8a78523342c034dfd",
       "version_major": 2,
       "version_minor": 0
      },
      "text/plain": [
       "HBox(children=(HTML(value=''), FloatProgress(value=0.0, max=2.0), HTML(value='')))"
      ]
     },
     "metadata": {},
     "output_type": "display_data"
    },
    {
     "name": "stdout",
     "output_type": "stream",
     "text": [
      "\n",
      "> Vote totals verified — no errors\n",
      "————————————————————————————————————————————————————————————\n",
      "Loading East Jackson Fire Advisory Board Post 2.csv data...\n",
      " > Found data for 1 counties (1%)\n",
      "Verifying vote totals...\n"
     ]
    },
    {
     "data": {
      "application/vnd.jupyter.widget-view+json": {
       "model_id": "ca57c0bd293b4ac0aea1fb8f6881a929",
       "version_major": 2,
       "version_minor": 0
      },
      "text/plain": [
       "HBox(children=(HTML(value=''), FloatProgress(value=0.0, max=1.0), HTML(value='')))"
      ]
     },
     "metadata": {},
     "output_type": "display_data"
    },
    {
     "name": "stdout",
     "output_type": "stream",
     "text": [
      "\n",
      "> Vote totals verified — no errors\n",
      "————————————————————————————————————————————————————————————\n",
      "Loading Vidalia Mayor - Special.csv data...\n",
      " > Found data for 2 counties (1%)\n",
      "Verifying vote totals...\n"
     ]
    },
    {
     "data": {
      "application/vnd.jupyter.widget-view+json": {
       "model_id": "9b9dc55ad50a4fb9bc0333e956ddb444",
       "version_major": 2,
       "version_minor": 0
      },
      "text/plain": [
       "HBox(children=(HTML(value=''), FloatProgress(value=0.0, max=2.0), HTML(value='')))"
      ]
     },
     "metadata": {},
     "output_type": "display_data"
    },
    {
     "name": "stdout",
     "output_type": "stream",
     "text": [
      "\n",
      "> Vote totals verified — no errors\n",
      "————————————————————————————————————————————————————————————\n",
      "Loading McDuffie County Sunday Sales of Alcohol by the Drink - Special.csv data...\n",
      " > Found data for 1 counties (1%)\n",
      "Verifying vote totals...\n"
     ]
    },
    {
     "data": {
      "application/vnd.jupyter.widget-view+json": {
       "model_id": "6be5f53e3fd845718958650f660cd577",
       "version_major": 2,
       "version_minor": 0
      },
      "text/plain": [
       "HBox(children=(HTML(value=''), FloatProgress(value=0.0, max=2.0), HTML(value='')))"
      ]
     },
     "metadata": {},
     "output_type": "display_data"
    },
    {
     "name": "stdout",
     "output_type": "stream",
     "text": [
      "\n",
      "> Vote totals verified — no errors\n",
      "————————————————————————————————————————————————————————————\n",
      "Loading Doraville City Council Dist 1 - Special.csv data...\n",
      " > Found data for 1 counties (1%)\n",
      "Verifying vote totals...\n"
     ]
    },
    {
     "data": {
      "application/vnd.jupyter.widget-view+json": {
       "model_id": "a7dc6babff0440178bfb039025142126",
       "version_major": 2,
       "version_minor": 0
      },
      "text/plain": [
       "HBox(children=(HTML(value=''), FloatProgress(value=0.0, max=7.0), HTML(value='')))"
      ]
     },
     "metadata": {},
     "output_type": "display_data"
    },
    {
     "name": "stdout",
     "output_type": "stream",
     "text": [
      "\n",
      "> Vote totals verified — no errors\n",
      "————————————————————————————————————————————————————————————\n",
      "Loading Board of Education Anna Dist.csv data...\n",
      " > Found data for 1 counties (1%)\n",
      "Verifying vote totals...\n"
     ]
    },
    {
     "data": {
      "application/vnd.jupyter.widget-view+json": {
       "model_id": "9d1603e4fa41426eacdbe9e03e463224",
       "version_major": 2,
       "version_minor": 0
      },
      "text/plain": [
       "HBox(children=(HTML(value=''), FloatProgress(value=0.0, max=1.0), HTML(value='')))"
      ]
     },
     "metadata": {},
     "output_type": "display_data"
    },
    {
     "name": "stdout",
     "output_type": "stream",
     "text": [
      "\n",
      "> Vote totals verified — no errors\n",
      "————————————————————————————————————————————————————————————\n",
      "Loading Presiding Judge Civil-Magistrate Crt.csv data...\n",
      " > Found data for 1 counties (1%)\n",
      "Verifying vote totals...\n"
     ]
    },
    {
     "data": {
      "application/vnd.jupyter.widget-view+json": {
       "model_id": "1871956b05b74fd0bf020194baea39b3",
       "version_major": 2,
       "version_minor": 0
      },
      "text/plain": [
       "HBox(children=(HTML(value=''), FloatProgress(value=0.0, max=1.0), HTML(value='')))"
      ]
     },
     "metadata": {},
     "output_type": "display_data"
    },
    {
     "name": "stdout",
     "output_type": "stream",
     "text": [
      "\n",
      "> Vote totals verified — no errors\n",
      "————————————————————————————————————————————————————————————\n",
      "Loading County Commission Dist 2.csv data...\n",
      " > Found data for 73 counties (46%)\n",
      "Verifying vote totals...\n"
     ]
    },
    {
     "data": {
      "application/vnd.jupyter.widget-view+json": {
       "model_id": "0647ea7f85534ded8b0b2a33c9cd0f10",
       "version_major": 2,
       "version_minor": 0
      },
      "text/plain": [
       "HBox(children=(HTML(value=''), FloatProgress(value=0.0, max=98.0), HTML(value='')))"
      ]
     },
     "metadata": {},
     "output_type": "display_data"
    },
    {
     "name": "stdout",
     "output_type": "stream",
     "text": [
      "\n",
      ">>> Vote totals verified — 0.00015 error rate\n",
      "————————————————————————————————————————————————————————————\n",
      "Loading State House Dist 40.csv data...\n",
      " > Found data for 2 counties (1%)\n",
      "Verifying vote totals...\n"
     ]
    },
    {
     "data": {
      "application/vnd.jupyter.widget-view+json": {
       "model_id": "4e50f1f5f8494ae49ff9efe8a2e27e7e",
       "version_major": 2,
       "version_minor": 0
      },
      "text/plain": [
       "HBox(children=(HTML(value=''), FloatProgress(value=0.0, max=2.0), HTML(value='')))"
      ]
     },
     "metadata": {},
     "output_type": "display_data"
    },
    {
     "name": "stdout",
     "output_type": "stream",
     "text": [
      "\n",
      "> Vote totals verified — no errors\n",
      "————————————————————————————————————————————————————————————\n",
      "Loading State House Dist 31.csv data...\n",
      " > Found data for 1 counties (1%)\n",
      "Verifying vote totals...\n"
     ]
    },
    {
     "data": {
      "application/vnd.jupyter.widget-view+json": {
       "model_id": "a94066a4ce1c4c7f983fce8fe9930b8a",
       "version_major": 2,
       "version_minor": 0
      },
      "text/plain": [
       "HBox(children=(HTML(value=''), FloatProgress(value=0.0, max=2.0), HTML(value='')))"
      ]
     },
     "metadata": {},
     "output_type": "display_data"
    },
    {
     "name": "stdout",
     "output_type": "stream",
     "text": [
      "\n",
      "> Vote totals verified — no errors\n",
      "————————————————————————————————————————————————————————————\n",
      "Loading South Jackson Fire Advisory Board Post 3.csv data...\n",
      " > Found data for 1 counties (1%)\n",
      "Verifying vote totals...\n"
     ]
    },
    {
     "data": {
      "application/vnd.jupyter.widget-view+json": {
       "model_id": "8aa58830f24542128220abae2f4e9979",
       "version_major": 2,
       "version_minor": 0
      },
      "text/plain": [
       "HBox(children=(HTML(value=''), FloatProgress(value=0.0, max=1.0), HTML(value='')))"
      ]
     },
     "metadata": {},
     "output_type": "display_data"
    },
    {
     "name": "stdout",
     "output_type": "stream",
     "text": [
      "\n",
      "> Vote totals verified — no errors\n",
      "————————————————————————————————————————————————————————————\n",
      "Loading State House Dist 4.csv data...\n",
      " > Found data for 1 counties (1%)\n",
      "Verifying vote totals...\n"
     ]
    },
    {
     "data": {
      "application/vnd.jupyter.widget-view+json": {
       "model_id": "8ceb2c3ca3b742a9a4cd0d8ad19603fc",
       "version_major": 2,
       "version_minor": 0
      },
      "text/plain": [
       "HBox(children=(HTML(value=''), FloatProgress(value=0.0, max=1.0), HTML(value='')))"
      ]
     },
     "metadata": {},
     "output_type": "display_data"
    },
    {
     "name": "stdout",
     "output_type": "stream",
     "text": [
      "\n",
      "> Vote totals verified — no errors\n",
      "————————————————————————————————————————————————————————————\n",
      "Loading State House Dist 103.csv data...\n",
      " > Found data for 2 counties (1%)\n",
      "Verifying vote totals...\n"
     ]
    },
    {
     "data": {
      "application/vnd.jupyter.widget-view+json": {
       "model_id": "b34595c9cbb349e4a8ad985d90fc1d96",
       "version_major": 2,
       "version_minor": 0
      },
      "text/plain": [
       "HBox(children=(HTML(value=''), FloatProgress(value=0.0, max=2.0), HTML(value='')))"
      ]
     },
     "metadata": {},
     "output_type": "display_data"
    },
    {
     "name": "stdout",
     "output_type": "stream",
     "text": [
      "\n",
      "> Vote totals verified — no errors\n",
      "————————————————————————————————————————————————————————————\n",
      "Loading Bethlehem Council Post 1 - Special.csv data...\n",
      " > Found data for 1 counties (1%)\n",
      "Verifying vote totals...\n"
     ]
    },
    {
     "data": {
      "application/vnd.jupyter.widget-view+json": {
       "model_id": "992842405f3a484b9fd373e21e676022",
       "version_major": 2,
       "version_minor": 0
      },
      "text/plain": [
       "HBox(children=(HTML(value=''), FloatProgress(value=0.0, max=3.0), HTML(value='')))"
      ]
     },
     "metadata": {},
     "output_type": "display_data"
    },
    {
     "name": "stdout",
     "output_type": "stream",
     "text": [
      "\n",
      "> Vote totals verified — no errors\n",
      "————————————————————————————————————————————————————————————\n",
      "Loading North Jackson Fire Advisory Board Post 6.csv data...\n",
      " > Found data for 1 counties (1%)\n",
      "Verifying vote totals...\n"
     ]
    },
    {
     "data": {
      "application/vnd.jupyter.widget-view+json": {
       "model_id": "ef36594d390a4d038797246f26b857a8",
       "version_major": 2,
       "version_minor": 0
      },
      "text/plain": [
       "HBox(children=(HTML(value=''), FloatProgress(value=0.0, max=1.0), HTML(value='')))"
      ]
     },
     "metadata": {},
     "output_type": "display_data"
    },
    {
     "name": "stdout",
     "output_type": "stream",
     "text": [
      "\n",
      "> Vote totals verified — no errors\n",
      "————————————————————————————————————————————————————————————\n",
      "Loading Dawson Mayor.csv data...\n",
      " > Found data for 1 counties (1%)\n",
      "Verifying vote totals...\n"
     ]
    },
    {
     "data": {
      "application/vnd.jupyter.widget-view+json": {
       "model_id": "70a326ed36de49fd8bb4080e6d05511d",
       "version_major": 2,
       "version_minor": 0
      },
      "text/plain": [
       "HBox(children=(HTML(value=''), FloatProgress(value=0.0, max=2.0), HTML(value='')))"
      ]
     },
     "metadata": {},
     "output_type": "display_data"
    },
    {
     "name": "stdout",
     "output_type": "stream",
     "text": [
      "\n",
      "> Vote totals verified — no errors\n",
      "————————————————————————————————————————————————————————————\n",
      "Loading Tennille Council Dist 3 Post 1 - Special.csv data...\n",
      " > Found data for 1 counties (1%)\n",
      "Verifying vote totals...\n"
     ]
    },
    {
     "data": {
      "application/vnd.jupyter.widget-view+json": {
       "model_id": "4a6b0499562b40de9e08ccf32601fd90",
       "version_major": 2,
       "version_minor": 0
      },
      "text/plain": [
       "HBox(children=(HTML(value=''), FloatProgress(value=0.0, max=2.0), HTML(value='')))"
      ]
     },
     "metadata": {},
     "output_type": "display_data"
    },
    {
     "name": "stdout",
     "output_type": "stream",
     "text": [
      "\n",
      "> Vote totals verified — no errors\n",
      "————————————————————————————————————————————————————————————\n",
      "Loading County Commission Dist 6 - Special.csv data...\n",
      " > Found data for 1 counties (1%)\n",
      "Verifying vote totals...\n"
     ]
    },
    {
     "data": {
      "application/vnd.jupyter.widget-view+json": {
       "model_id": "502c4e364c384402ac7235d84be7e173",
       "version_major": 2,
       "version_minor": 0
      },
      "text/plain": [
       "HBox(children=(HTML(value=''), FloatProgress(value=0.0, max=2.0), HTML(value='')))"
      ]
     },
     "metadata": {},
     "output_type": "display_data"
    },
    {
     "name": "stdout",
     "output_type": "stream",
     "text": [
      "\n",
      "> Vote totals verified — no errors\n",
      "————————————————————————————————————————————————————————————\n",
      "Loading State House Dist 1.csv data...\n",
      " > Found data for 2 counties (1%)\n",
      "Verifying vote totals...\n"
     ]
    },
    {
     "data": {
      "application/vnd.jupyter.widget-view+json": {
       "model_id": "6ed437a5638b4c18a4051423f613f9f8",
       "version_major": 2,
       "version_minor": 0
      },
      "text/plain": [
       "HBox(children=(HTML(value=''), FloatProgress(value=0.0, max=1.0), HTML(value='')))"
      ]
     },
     "metadata": {},
     "output_type": "display_data"
    },
    {
     "name": "stdout",
     "output_type": "stream",
     "text": [
      "\n",
      "> Vote totals verified — no errors\n",
      "————————————————————————————————————————————————————————————\n",
      "Loading Dist Attorney - Flint.csv data...\n",
      " > Found data for 1 counties (1%)\n",
      "Verifying vote totals...\n"
     ]
    },
    {
     "data": {
      "application/vnd.jupyter.widget-view+json": {
       "model_id": "883b388845c14ca2ad862094425d17ef",
       "version_major": 2,
       "version_minor": 0
      },
      "text/plain": [
       "HBox(children=(HTML(value=''), FloatProgress(value=0.0, max=1.0), HTML(value='')))"
      ]
     },
     "metadata": {},
     "output_type": "display_data"
    },
    {
     "name": "stdout",
     "output_type": "stream",
     "text": [
      "\n",
      "> Vote totals verified — no errors\n",
      "————————————————————————————————————————————————————————————\n",
      "Loading Midway City Council - Special.csv data...\n",
      " > Found data for 1 counties (1%)\n",
      "Verifying vote totals...\n"
     ]
    },
    {
     "data": {
      "application/vnd.jupyter.widget-view+json": {
       "model_id": "d53d7039bd134dd79cde6e6b68144264",
       "version_major": 2,
       "version_minor": 0
      },
      "text/plain": [
       "HBox(children=(HTML(value=''), FloatProgress(value=0.0, max=4.0), HTML(value='')))"
      ]
     },
     "metadata": {},
     "output_type": "display_data"
    },
    {
     "name": "stdout",
     "output_type": "stream",
     "text": [
      "\n",
      "> Vote totals verified — no errors\n",
      "————————————————————————————————————————————————————————————\n",
      "Loading Board of Education - Galloway.csv data...\n",
      " > Found data for 1 counties (1%)\n",
      "Verifying vote totals...\n"
     ]
    },
    {
     "data": {
      "application/vnd.jupyter.widget-view+json": {
       "model_id": "f587d663e573426e8826d78d7b069c0e",
       "version_major": 2,
       "version_minor": 0
      },
      "text/plain": [
       "HBox(children=(HTML(value=''), FloatProgress(value=0.0, max=2.0), HTML(value='')))"
      ]
     },
     "metadata": {},
     "output_type": "display_data"
    },
    {
     "name": "stdout",
     "output_type": "stream",
     "text": [
      "\n",
      "> Vote totals verified — no errors\n",
      "————————————————————————————————————————————————————————————\n",
      "Loading State Senate Dist 5.csv data...\n",
      " > Found data for 1 counties (1%)\n",
      "Verifying vote totals...\n"
     ]
    },
    {
     "data": {
      "application/vnd.jupyter.widget-view+json": {
       "model_id": "5a73af93eb8d43c5bfadce79d9d989d7",
       "version_major": 2,
       "version_minor": 0
      },
      "text/plain": [
       "HBox(children=(HTML(value=''), FloatProgress(value=0.0, max=1.0), HTML(value='')))"
      ]
     },
     "metadata": {},
     "output_type": "display_data"
    },
    {
     "name": "stdout",
     "output_type": "stream",
     "text": [
      "\n",
      "> Vote totals verified — no errors\n",
      "————————————————————————————————————————————————————————————\n",
      "Loading State House Dist 91.csv data...\n",
      " > Found data for 2 counties (1%)\n",
      "Verifying vote totals...\n"
     ]
    },
    {
     "data": {
      "application/vnd.jupyter.widget-view+json": {
       "model_id": "94f811bbb2c74ab99229f49107e3ca7b",
       "version_major": 2,
       "version_minor": 0
      },
      "text/plain": [
       "HBox(children=(HTML(value=''), FloatProgress(value=0.0, max=1.0), HTML(value='')))"
      ]
     },
     "metadata": {},
     "output_type": "display_data"
    },
    {
     "name": "stdout",
     "output_type": "stream",
     "text": [
      "\n",
      "> Vote totals verified — no errors\n",
      "————————————————————————————————————————————————————————————\n",
      "Loading State House Dist 114.csv data...\n",
      " > Found data for 4 counties (3%)\n",
      "Verifying vote totals...\n"
     ]
    },
    {
     "data": {
      "application/vnd.jupyter.widget-view+json": {
       "model_id": "d40cbc1c75e6441c87b187175d895b22",
       "version_major": 2,
       "version_minor": 0
      },
      "text/plain": [
       "HBox(children=(HTML(value=''), FloatProgress(value=0.0, max=1.0), HTML(value='')))"
      ]
     },
     "metadata": {},
     "output_type": "display_data"
    },
    {
     "name": "stdout",
     "output_type": "stream",
     "text": [
      "\n",
      "> Vote totals verified — no errors\n",
      "————————————————————————————————————————————————————————————\n",
      "Loading Wayne County Sunday Sales of Alcohol - Special.csv data...\n",
      " > Found data for 1 counties (1%)\n",
      "Verifying vote totals...\n"
     ]
    },
    {
     "data": {
      "application/vnd.jupyter.widget-view+json": {
       "model_id": "40e032d1e407445caf9ad03562c68dc5",
       "version_major": 2,
       "version_minor": 0
      },
      "text/plain": [
       "HBox(children=(HTML(value=''), FloatProgress(value=0.0, max=2.0), HTML(value='')))"
      ]
     },
     "metadata": {},
     "output_type": "display_data"
    },
    {
     "name": "stdout",
     "output_type": "stream",
     "text": [
      "\n",
      "> Vote totals verified — no errors\n",
      "————————————————————————————————————————————————————————————\n",
      "Loading State House Dist 28.csv data...\n",
      " > Found data for 3 counties (2%)\n",
      "Verifying vote totals...\n"
     ]
    },
    {
     "data": {
      "application/vnd.jupyter.widget-view+json": {
       "model_id": "e03cf385249045d6b7dffe59c714187b",
       "version_major": 2,
       "version_minor": 0
      },
      "text/plain": [
       "HBox(children=(HTML(value=''), FloatProgress(value=0.0, max=1.0), HTML(value='')))"
      ]
     },
     "metadata": {},
     "output_type": "display_data"
    },
    {
     "name": "stdout",
     "output_type": "stream",
     "text": [
      "\n",
      "> Vote totals verified — no errors\n",
      "————————————————————————————————————————————————————————————\n",
      "Loading County Commission Milford Dist.csv data...\n",
      " > Found data for 1 counties (1%)\n",
      "Verifying vote totals...\n"
     ]
    },
    {
     "data": {
      "application/vnd.jupyter.widget-view+json": {
       "model_id": "3bcb3e3eb5cc4a768e27bbcf1491dc54",
       "version_major": 2,
       "version_minor": 0
      },
      "text/plain": [
       "HBox(children=(HTML(value=''), FloatProgress(value=0.0, max=1.0), HTML(value='')))"
      ]
     },
     "metadata": {},
     "output_type": "display_data"
    },
    {
     "name": "stdout",
     "output_type": "stream",
     "text": [
      "\n",
      "> Vote totals verified — no errors\n",
      "————————————————————————————————————————————————————————————\n",
      "Loading Nicholson Fire Advisory Board Post 4.csv data...\n",
      " > Found data for 1 counties (1%)\n",
      "Verifying vote totals...\n"
     ]
    },
    {
     "data": {
      "application/vnd.jupyter.widget-view+json": {
       "model_id": "0ee5dc20becf4c36a282e3aada4e3a39",
       "version_major": 2,
       "version_minor": 0
      },
      "text/plain": [
       "HBox(children=(HTML(value=''), FloatProgress(value=0.0, max=1.0), HTML(value='')))"
      ]
     },
     "metadata": {},
     "output_type": "display_data"
    },
    {
     "name": "stdout",
     "output_type": "stream",
     "text": [
      "\n",
      "> Vote totals verified — no errors\n",
      "————————————————————————————————————————————————————————————\n",
      "Loading Dist Attorney - Western - Special.csv data...\n",
      " > Found data for 2 counties (1%)\n",
      "Verifying vote totals...\n"
     ]
    },
    {
     "data": {
      "application/vnd.jupyter.widget-view+json": {
       "model_id": "1f29cf0ae4f6496aa464fbb0d10e0834",
       "version_major": 2,
       "version_minor": 0
      },
      "text/plain": [
       "HBox(children=(HTML(value=''), FloatProgress(value=0.0, max=3.0), HTML(value='')))"
      ]
     },
     "metadata": {},
     "output_type": "display_data"
    },
    {
     "name": "stdout",
     "output_type": "stream",
     "text": [
      "\n",
      "> Vote totals verified — no errors\n",
      "————————————————————————————————————————————————————————————\n",
      "Loading State House Dist 92.csv data...\n",
      " > Found data for 2 counties (1%)\n",
      "Verifying vote totals...\n"
     ]
    },
    {
     "data": {
      "application/vnd.jupyter.widget-view+json": {
       "model_id": "129d322bacc9472aa65fe77af120bb55",
       "version_major": 2,
       "version_minor": 0
      },
      "text/plain": [
       "HBox(children=(HTML(value=''), FloatProgress(value=0.0, max=1.0), HTML(value='')))"
      ]
     },
     "metadata": {},
     "output_type": "display_data"
    },
    {
     "name": "stdout",
     "output_type": "stream",
     "text": [
      "\n",
      "> Vote totals verified — no errors\n",
      "————————————————————————————————————————————————————————————\n",
      "Loading Soil and Water - Broad River.csv data...\n",
      " > Found data for 3 counties (2%)\n",
      "Verifying vote totals...\n"
     ]
    },
    {
     "data": {
      "application/vnd.jupyter.widget-view+json": {
       "model_id": "936f6833a0b44e72bbe16545b8ad8fcf",
       "version_major": 2,
       "version_minor": 0
      },
      "text/plain": [
       "HBox(children=(HTML(value=''), FloatProgress(value=0.0, max=3.0), HTML(value='')))"
      ]
     },
     "metadata": {},
     "output_type": "display_data"
    },
    {
     "name": "stdout",
     "output_type": "stream",
     "text": [
      "\n",
      "> Vote totals verified — no errors\n",
      "————————————————————————————————————————————————————————————\n",
      "Loading State House Dist 21.csv data...\n",
      " > Found data for 1 counties (1%)\n",
      "Verifying vote totals...\n"
     ]
    },
    {
     "data": {
      "application/vnd.jupyter.widget-view+json": {
       "model_id": "c0e28aee920345ef815ae71c55a08aab",
       "version_major": 2,
       "version_minor": 0
      },
      "text/plain": [
       "HBox(children=(HTML(value=''), FloatProgress(value=0.0, max=2.0), HTML(value='')))"
      ]
     },
     "metadata": {},
     "output_type": "display_data"
    },
    {
     "name": "stdout",
     "output_type": "stream",
     "text": [
      "\n",
      "> Vote totals verified — no errors\n",
      "————————————————————————————————————————————————————————————\n",
      "Loading Kingsland City Council Post 1.csv data...\n",
      " > Found data for 1 counties (1%)\n",
      "Verifying vote totals...\n"
     ]
    },
    {
     "data": {
      "application/vnd.jupyter.widget-view+json": {
       "model_id": "4242dbb326c04fe1ad3df8b29276e396",
       "version_major": 2,
       "version_minor": 0
      },
      "text/plain": [
       "HBox(children=(HTML(value=''), FloatProgress(value=0.0, max=1.0), HTML(value='')))"
      ]
     },
     "metadata": {},
     "output_type": "display_data"
    },
    {
     "name": "stdout",
     "output_type": "stream",
     "text": [
      "\n",
      "> Vote totals verified — no errors\n",
      "————————————————————————————————————————————————————————————\n",
      "Loading Co Commission Dist 3.csv data...\n",
      " > Found data for 1 counties (1%)\n",
      "Verifying vote totals...\n"
     ]
    },
    {
     "data": {
      "application/vnd.jupyter.widget-view+json": {
       "model_id": "856259e5dc8b4e48b364aadfc4afea76",
       "version_major": 2,
       "version_minor": 0
      },
      "text/plain": [
       "HBox(children=(HTML(value=''), FloatProgress(value=0.0, max=2.0), HTML(value='')))"
      ]
     },
     "metadata": {},
     "output_type": "display_data"
    },
    {
     "name": "stdout",
     "output_type": "stream",
     "text": [
      "\n",
      "> Vote totals verified — no errors\n",
      "————————————————————————————————————————————————————————————\n",
      "Loading State Senate Dist 55.csv data...\n",
      " > Found data for 2 counties (1%)\n",
      "Verifying vote totals...\n"
     ]
    },
    {
     "data": {
      "application/vnd.jupyter.widget-view+json": {
       "model_id": "157deea87cb140b18bbd0f3972b65424",
       "version_major": 2,
       "version_minor": 0
      },
      "text/plain": [
       "HBox(children=(HTML(value=''), FloatProgress(value=0.0, max=1.0), HTML(value='')))"
      ]
     },
     "metadata": {},
     "output_type": "display_data"
    },
    {
     "name": "stdout",
     "output_type": "stream",
     "text": [
      "\n",
      "> Vote totals verified — no errors\n",
      "————————————————————————————————————————————————————————————\n",
      "Loading Dist Attorney - Dougherty.csv data...\n",
      " > Found data for 1 counties (1%)\n",
      "Verifying vote totals...\n"
     ]
    },
    {
     "data": {
      "application/vnd.jupyter.widget-view+json": {
       "model_id": "f6841744417c416ca324f2d01e03cc56",
       "version_major": 2,
       "version_minor": 0
      },
      "text/plain": [
       "HBox(children=(HTML(value=''), FloatProgress(value=0.0, max=1.0), HTML(value='')))"
      ]
     },
     "metadata": {},
     "output_type": "display_data"
    },
    {
     "name": "stdout",
     "output_type": "stream",
     "text": [
      "\n",
      "> Vote totals verified — no errors\n",
      "————————————————————————————————————————————————————————————\n",
      "Loading County Commission Dist 2 Post 1.csv data...\n",
      " > Found data for 2 counties (1%)\n",
      "Verifying vote totals...\n"
     ]
    },
    {
     "data": {
      "application/vnd.jupyter.widget-view+json": {
       "model_id": "3f9e4855c0d04b8b8153d2b970f7b9a3",
       "version_major": 2,
       "version_minor": 0
      },
      "text/plain": [
       "HBox(children=(HTML(value=''), FloatProgress(value=0.0, max=2.0), HTML(value='')))"
      ]
     },
     "metadata": {},
     "output_type": "display_data"
    },
    {
     "name": "stdout",
     "output_type": "stream",
     "text": [
      "\n",
      "> Vote totals verified — no errors\n",
      "————————————————————————————————————————————————————————————\n",
      "Loading State House Dist 57.csv data...\n",
      " > Found data for 1 counties (1%)\n",
      "Verifying vote totals...\n"
     ]
    },
    {
     "data": {
      "application/vnd.jupyter.widget-view+json": {
       "model_id": "7e96cd22ba3b475d95b7134a4a37edc0",
       "version_major": 2,
       "version_minor": 0
      },
      "text/plain": [
       "HBox(children=(HTML(value=''), FloatProgress(value=0.0, max=1.0), HTML(value='')))"
      ]
     },
     "metadata": {},
     "output_type": "display_data"
    },
    {
     "name": "stdout",
     "output_type": "stream",
     "text": [
      "\n",
      "> Vote totals verified — no errors\n",
      "————————————————————————————————————————————————————————————\n",
      "Loading Board of Education Post 3.csv data...\n",
      " > Found data for 1 counties (1%)\n",
      "Verifying vote totals...\n"
     ]
    },
    {
     "data": {
      "application/vnd.jupyter.widget-view+json": {
       "model_id": "a7d03b8085fc40fdab845df25861694f",
       "version_major": 2,
       "version_minor": 0
      },
      "text/plain": [
       "HBox(children=(HTML(value=''), FloatProgress(value=0.0, max=1.0), HTML(value='')))"
      ]
     },
     "metadata": {},
     "output_type": "display_data"
    },
    {
     "name": "stdout",
     "output_type": "stream",
     "text": [
      "\n",
      "> Vote totals verified — no errors\n",
      "————————————————————————————————————————————————————————————\n",
      "Loading State Senate Dist 16.csv data...\n",
      " > Found data for 4 counties (3%)\n",
      "Verifying vote totals...\n"
     ]
    },
    {
     "data": {
      "application/vnd.jupyter.widget-view+json": {
       "model_id": "8f27d96011f34aa39c0bd41ffab84c50",
       "version_major": 2,
       "version_minor": 0
      },
      "text/plain": [
       "HBox(children=(HTML(value=''), FloatProgress(value=0.0, max=2.0), HTML(value='')))"
      ]
     },
     "metadata": {},
     "output_type": "display_data"
    },
    {
     "name": "stdout",
     "output_type": "stream",
     "text": [
      "\n",
      "> Vote totals verified — no errors\n",
      "————————————————————————————————————————————————————————————\n",
      "Loading State House Dist 172.csv data...\n",
      " > Found data for 3 counties (2%)\n",
      "Verifying vote totals...\n"
     ]
    },
    {
     "data": {
      "application/vnd.jupyter.widget-view+json": {
       "model_id": "f6ccc714479a4590bd054e0d319a6e9d",
       "version_major": 2,
       "version_minor": 0
      },
      "text/plain": [
       "HBox(children=(HTML(value=''), FloatProgress(value=0.0, max=1.0), HTML(value='')))"
      ]
     },
     "metadata": {},
     "output_type": "display_data"
    },
    {
     "name": "stdout",
     "output_type": "stream",
     "text": [
      "\n",
      "> Vote totals verified — no errors\n",
      "————————————————————————————————————————————————————————————\n",
      "Loading State Senate Dist 2.csv data...\n",
      " > Found data for 1 counties (1%)\n",
      "Verifying vote totals...\n"
     ]
    },
    {
     "data": {
      "application/vnd.jupyter.widget-view+json": {
       "model_id": "09dc1904a4da4602930eb0a76c33954f",
       "version_major": 2,
       "version_minor": 0
      },
      "text/plain": [
       "HBox(children=(HTML(value=''), FloatProgress(value=0.0, max=1.0), HTML(value='')))"
      ]
     },
     "metadata": {},
     "output_type": "display_data"
    },
    {
     "name": "stdout",
     "output_type": "stream",
     "text": [
      "\n",
      "> Vote totals verified — no errors\n",
      "————————————————————————————————————————————————————————————\n",
      "Loading State House Dist 153.csv data...\n",
      " > Found data for 1 counties (1%)\n",
      "Verifying vote totals...\n"
     ]
    },
    {
     "data": {
      "application/vnd.jupyter.widget-view+json": {
       "model_id": "745a08a55216487db5980da487008640",
       "version_major": 2,
       "version_minor": 0
      },
      "text/plain": [
       "HBox(children=(HTML(value=''), FloatProgress(value=0.0, max=1.0), HTML(value='')))"
      ]
     },
     "metadata": {},
     "output_type": "display_data"
    },
    {
     "name": "stdout",
     "output_type": "stream",
     "text": [
      "\n",
      "> Vote totals verified — no errors\n",
      "————————————————————————————————————————————————————————————\n",
      "Loading State Senate Dist 14.csv data...\n",
      " > Found data for 3 counties (2%)\n",
      "Verifying vote totals...\n"
     ]
    },
    {
     "data": {
      "application/vnd.jupyter.widget-view+json": {
       "model_id": "818ff1a7879643fd9a9bcb59826202ae",
       "version_major": 2,
       "version_minor": 0
      },
      "text/plain": [
       "HBox(children=(HTML(value=''), FloatProgress(value=0.0, max=2.0), HTML(value='')))"
      ]
     },
     "metadata": {},
     "output_type": "display_data"
    },
    {
     "name": "stdout",
     "output_type": "stream",
     "text": [
      "\n",
      "> Vote totals verified — no errors\n",
      "————————————————————————————————————————————————————————————\n",
      "Loading State House Dist 95.csv data...\n",
      " > Found data for 2 counties (1%)\n",
      "Verifying vote totals...\n"
     ]
    },
    {
     "data": {
      "application/vnd.jupyter.widget-view+json": {
       "model_id": "35fda38c11b4417a9795a79898939b7d",
       "version_major": 2,
       "version_minor": 0
      },
      "text/plain": [
       "HBox(children=(HTML(value=''), FloatProgress(value=0.0, max=2.0), HTML(value='')))"
      ]
     },
     "metadata": {},
     "output_type": "display_data"
    },
    {
     "name": "stdout",
     "output_type": "stream",
     "text": [
      "\n",
      "> Vote totals verified — no errors\n",
      "————————————————————————————————————————————————————————————\n",
      "Loading Soil and Water - Flint River.csv data...\n",
      " > Found data for 2 counties (1%)\n",
      "Verifying vote totals...\n"
     ]
    },
    {
     "data": {
      "application/vnd.jupyter.widget-view+json": {
       "model_id": "73cb8ea6466040998f8c69026c54bd96",
       "version_major": 2,
       "version_minor": 0
      },
      "text/plain": [
       "HBox(children=(HTML(value=''), FloatProgress(value=0.0, max=2.0), HTML(value='')))"
      ]
     },
     "metadata": {},
     "output_type": "display_data"
    },
    {
     "name": "stdout",
     "output_type": "stream",
     "text": [
      "\n",
      "> Vote totals verified — no errors\n",
      "————————————————————————————————————————————————————————————\n",
      "Loading US House Dist 7.csv data...\n",
      " > Found data for 2 counties (1%)\n",
      "Verifying vote totals...\n"
     ]
    },
    {
     "data": {
      "application/vnd.jupyter.widget-view+json": {
       "model_id": "c030c29c5f7b457f8e25dfcf426d378f",
       "version_major": 2,
       "version_minor": 0
      },
      "text/plain": [
       "HBox(children=(HTML(value=''), FloatProgress(value=0.0, max=2.0), HTML(value='')))"
      ]
     },
     "metadata": {},
     "output_type": "display_data"
    },
    {
     "name": "stdout",
     "output_type": "stream",
     "text": [
      "\n",
      "> Vote totals verified — no errors\n",
      "————————————————————————————————————————————————————————————\n",
      "Loading Soil and Water - West Georgia.csv data...\n",
      " > Found data for 2 counties (1%)\n",
      "Verifying vote totals...\n"
     ]
    },
    {
     "data": {
      "application/vnd.jupyter.widget-view+json": {
       "model_id": "10971ea5b5754fda887cc9fd64bdfdf1",
       "version_major": 2,
       "version_minor": 0
      },
      "text/plain": [
       "HBox(children=(HTML(value=''), FloatProgress(value=0.0, max=2.0), HTML(value='')))"
      ]
     },
     "metadata": {},
     "output_type": "display_data"
    },
    {
     "name": "stdout",
     "output_type": "stream",
     "text": [
      "\n",
      "> Vote totals verified — no errors\n",
      "————————————————————————————————————————————————————————————\n",
      "Loading State Senate Dist 15.csv data...\n",
      " > Found data for 7 counties (4%)\n",
      "Verifying vote totals...\n"
     ]
    },
    {
     "data": {
      "application/vnd.jupyter.widget-view+json": {
       "model_id": "980b734401a54567ac6dd88b43f03ee4",
       "version_major": 2,
       "version_minor": 0
      },
      "text/plain": [
       "HBox(children=(HTML(value=''), FloatProgress(value=0.0, max=1.0), HTML(value='')))"
      ]
     },
     "metadata": {},
     "output_type": "display_data"
    },
    {
     "name": "stdout",
     "output_type": "stream",
     "text": [
      "\n",
      "> Vote totals verified — no errors\n",
      "————————————————————————————————————————————————————————————\n",
      "Loading East Jackson Fire Advisory Board Post 4.csv data...\n",
      " > Found data for 1 counties (1%)\n",
      "Verifying vote totals...\n"
     ]
    },
    {
     "data": {
      "application/vnd.jupyter.widget-view+json": {
       "model_id": "ac87aa646125411e906a28d844d44e27",
       "version_major": 2,
       "version_minor": 0
      },
      "text/plain": [
       "HBox(children=(HTML(value=''), FloatProgress(value=0.0, max=1.0), HTML(value='')))"
      ]
     },
     "metadata": {},
     "output_type": "display_data"
    },
    {
     "name": "stdout",
     "output_type": "stream",
     "text": [
      "\n",
      "> Vote totals verified — no errors\n",
      "————————————————————————————————————————————————————————————\n",
      "Loading County Commission Mitchell.csv data...\n",
      " > Found data for 1 counties (1%)\n",
      "Verifying vote totals...\n"
     ]
    },
    {
     "data": {
      "application/vnd.jupyter.widget-view+json": {
       "model_id": "e54d59fc79f84bd7a08e7f4221dd62b5",
       "version_major": 2,
       "version_minor": 0
      },
      "text/plain": [
       "HBox(children=(HTML(value=''), FloatProgress(value=0.0, max=1.0), HTML(value='')))"
      ]
     },
     "metadata": {},
     "output_type": "display_data"
    },
    {
     "name": "stdout",
     "output_type": "stream",
     "text": [
      "\n",
      "> Vote totals verified — no errors\n",
      "————————————————————————————————————————————————————————————\n",
      "Loading Harrisburg Fire Advisory Board Post 8.csv data...\n",
      " > Found data for 1 counties (1%)\n",
      "Verifying vote totals...\n"
     ]
    },
    {
     "data": {
      "application/vnd.jupyter.widget-view+json": {
       "model_id": "ed43c2d6bfc74edf912d2ff3c781b32d",
       "version_major": 2,
       "version_minor": 0
      },
      "text/plain": [
       "HBox(children=(HTML(value=''), FloatProgress(value=0.0, max=1.0), HTML(value='')))"
      ]
     },
     "metadata": {},
     "output_type": "display_data"
    },
    {
     "name": "stdout",
     "output_type": "stream",
     "text": [
      "\n",
      "> Vote totals verified — no errors\n",
      "————————————————————————————————————————————————————————————\n",
      "Loading North Jackson Fire Advisory Board Post 7.csv data...\n",
      " > Found data for 1 counties (1%)\n",
      "Verifying vote totals...\n"
     ]
    },
    {
     "data": {
      "application/vnd.jupyter.widget-view+json": {
       "model_id": "8f0cac7504f04cdface995eaef0c5876",
       "version_major": 2,
       "version_minor": 0
      },
      "text/plain": [
       "HBox(children=(HTML(value=''), FloatProgress(value=0.0, max=1.0), HTML(value='')))"
      ]
     },
     "metadata": {},
     "output_type": "display_data"
    },
    {
     "name": "stdout",
     "output_type": "stream",
     "text": [
      "\n",
      "> Vote totals verified — no errors\n",
      "————————————————————————————————————————————————————————————\n",
      "Loading State Senate Dist 25.csv data...\n",
      " > Found data for 9 counties (6%)\n",
      "Verifying vote totals...\n"
     ]
    },
    {
     "data": {
      "application/vnd.jupyter.widget-view+json": {
       "model_id": "51915294994f4a4585dba639dff25ade",
       "version_major": 2,
       "version_minor": 0
      },
      "text/plain": [
       "HBox(children=(HTML(value=''), FloatProgress(value=0.0, max=2.0), HTML(value='')))"
      ]
     },
     "metadata": {},
     "output_type": "display_data"
    },
    {
     "name": "stdout",
     "output_type": "stream",
     "text": [
      "\n",
      "> Vote totals verified — no errors\n",
      "————————————————————————————————————————————————————————————\n",
      "Loading State Senate Dist 51.csv data...\n",
      " > Found data for 8 counties (5%)\n",
      "Verifying vote totals...\n"
     ]
    },
    {
     "data": {
      "application/vnd.jupyter.widget-view+json": {
       "model_id": "d5b5e6cc28924a71ac2b048bc08ce4a7",
       "version_major": 2,
       "version_minor": 0
      },
      "text/plain": [
       "HBox(children=(HTML(value=''), FloatProgress(value=0.0, max=2.0), HTML(value='')))"
      ]
     },
     "metadata": {},
     "output_type": "display_data"
    },
    {
     "name": "stdout",
     "output_type": "stream",
     "text": [
      "\n",
      "> Vote totals verified — no errors\n",
      "————————————————————————————————————————————————————————————\n",
      "Loading State House Dist 65.csv data...\n",
      " > Found data for 2 counties (1%)\n",
      "Verifying vote totals...\n"
     ]
    },
    {
     "data": {
      "application/vnd.jupyter.widget-view+json": {
       "model_id": "3a2280244c3c4dafb1f3d7d22dabc55f",
       "version_major": 2,
       "version_minor": 0
      },
      "text/plain": [
       "HBox(children=(HTML(value=''), FloatProgress(value=0.0, max=1.0), HTML(value='')))"
      ]
     },
     "metadata": {},
     "output_type": "display_data"
    },
    {
     "name": "stdout",
     "output_type": "stream",
     "text": [
      "\n",
      "> Vote totals verified — no errors\n",
      "————————————————————————————————————————————————————————————\n",
      "Loading State House Dist 66.csv data...\n",
      " > Found data for 2 counties (1%)\n",
      "Verifying vote totals...\n"
     ]
    },
    {
     "data": {
      "application/vnd.jupyter.widget-view+json": {
       "model_id": "2e9a3f97630b4722b46585043169bbad",
       "version_major": 2,
       "version_minor": 0
      },
      "text/plain": [
       "HBox(children=(HTML(value=''), FloatProgress(value=0.0, max=2.0), HTML(value='')))"
      ]
     },
     "metadata": {},
     "output_type": "display_data"
    },
    {
     "name": "stdout",
     "output_type": "stream",
     "text": [
      "\n",
      "> Vote totals verified — no errors\n",
      "————————————————————————————————————————————————————————————\n",
      "Loading State Senate Dist 46.csv data...\n",
      " > Found data for 3 counties (2%)\n",
      "Verifying vote totals...\n"
     ]
    },
    {
     "data": {
      "application/vnd.jupyter.widget-view+json": {
       "model_id": "1701f08427914884925cb8ea62b3af5e",
       "version_major": 2,
       "version_minor": 0
      },
      "text/plain": [
       "HBox(children=(HTML(value=''), FloatProgress(value=0.0, max=2.0), HTML(value='')))"
      ]
     },
     "metadata": {},
     "output_type": "display_data"
    },
    {
     "name": "stdout",
     "output_type": "stream",
     "text": [
      "\n",
      "> Vote totals verified — no errors\n",
      "————————————————————————————————————————————————————————————\n",
      "Loading State House Dist 168.csv data...\n",
      " > Found data for 1 counties (1%)\n",
      "Verifying vote totals...\n"
     ]
    },
    {
     "data": {
      "application/vnd.jupyter.widget-view+json": {
       "model_id": "2ee884de45e641e3866503e65cff0550",
       "version_major": 2,
       "version_minor": 0
      },
      "text/plain": [
       "HBox(children=(HTML(value=''), FloatProgress(value=0.0, max=1.0), HTML(value='')))"
      ]
     },
     "metadata": {},
     "output_type": "display_data"
    },
    {
     "name": "stdout",
     "output_type": "stream",
     "text": [
      "\n",
      "> Vote totals verified — no errors\n",
      "————————————————————————————————————————————————————————————\n",
      "Loading US House Dist 4.csv data...\n",
      " > Found data for 4 counties (3%)\n",
      "Verifying vote totals...\n"
     ]
    },
    {
     "data": {
      "application/vnd.jupyter.widget-view+json": {
       "model_id": "08039c2c474c4ab39d3afb7b0a3539bf",
       "version_major": 2,
       "version_minor": 0
      },
      "text/plain": [
       "HBox(children=(HTML(value=''), FloatProgress(value=0.0, max=2.0), HTML(value='')))"
      ]
     },
     "metadata": {},
     "output_type": "display_data"
    },
    {
     "name": "stdout",
     "output_type": "stream",
     "text": [
      "\n",
      "> Vote totals verified — no errors\n",
      "————————————————————————————————————————————————————————————\n",
      "Loading Board of Education Precinct 1.csv data...\n",
      " > Found data for 1 counties (1%)\n",
      "Verifying vote totals...\n"
     ]
    },
    {
     "data": {
      "application/vnd.jupyter.widget-view+json": {
       "model_id": "c61dfb6d38024e9b878837e0237bf74a",
       "version_major": 2,
       "version_minor": 0
      },
      "text/plain": [
       "HBox(children=(HTML(value=''), FloatProgress(value=0.0, max=1.0), HTML(value='')))"
      ]
     },
     "metadata": {},
     "output_type": "display_data"
    },
    {
     "name": "stdout",
     "output_type": "stream",
     "text": [
      "\n",
      "> Vote totals verified — no errors\n",
      "————————————————————————————————————————————————————————————\n",
      "Loading State Senate Dist 29.csv data...\n",
      " > Found data for 4 counties (3%)\n",
      "Verifying vote totals...\n"
     ]
    },
    {
     "data": {
      "application/vnd.jupyter.widget-view+json": {
       "model_id": "09921655439c43f59ccc4a8086f3443d",
       "version_major": 2,
       "version_minor": 0
      },
      "text/plain": [
       "HBox(children=(HTML(value=''), FloatProgress(value=0.0, max=1.0), HTML(value='')))"
      ]
     },
     "metadata": {},
     "output_type": "display_data"
    },
    {
     "name": "stdout",
     "output_type": "stream",
     "text": [
      "\n",
      "> Vote totals verified — no errors\n",
      "————————————————————————————————————————————————————————————\n",
      "Loading Atlanta Homestead Exemption - Special.csv data...\n",
      " > Found data for 2 counties (1%)\n",
      "Verifying vote totals...\n"
     ]
    },
    {
     "data": {
      "application/vnd.jupyter.widget-view+json": {
       "model_id": "7b1175564e0f420a93c198a4ff90ac34",
       "version_major": 2,
       "version_minor": 0
      },
      "text/plain": [
       "HBox(children=(HTML(value=''), FloatProgress(value=0.0, max=2.0), HTML(value='')))"
      ]
     },
     "metadata": {},
     "output_type": "display_data"
    },
    {
     "name": "stdout",
     "output_type": "stream",
     "text": [
      "\n",
      "> Vote totals verified — no errors\n",
      "————————————————————————————————————————————————————————————\n",
      "Loading Soil and Water - Alapaha.csv data...\n",
      " > Found data for 1 counties (1%)\n",
      "Verifying vote totals...\n"
     ]
    },
    {
     "data": {
      "application/vnd.jupyter.widget-view+json": {
       "model_id": "02477ce248494a67b82e2465af7c8cc9",
       "version_major": 2,
       "version_minor": 0
      },
      "text/plain": [
       "HBox(children=(HTML(value=''), FloatProgress(value=0.0, max=1.0), HTML(value='')))"
      ]
     },
     "metadata": {},
     "output_type": "display_data"
    },
    {
     "name": "stdout",
     "output_type": "stream",
     "text": [
      "\n",
      "> Vote totals verified — no errors\n",
      "————————————————————————————————————————————————————————————\n",
      "Loading Solicitor General.csv data...\n",
      " > Found data for 30 counties (19%)\n",
      "Verifying vote totals...\n"
     ]
    },
    {
     "data": {
      "application/vnd.jupyter.widget-view+json": {
       "model_id": "88774017b5074788ad2c3ed94b7fb483",
       "version_major": 2,
       "version_minor": 0
      },
      "text/plain": [
       "HBox(children=(HTML(value=''), FloatProgress(value=0.0, max=31.0), HTML(value='')))"
      ]
     },
     "metadata": {},
     "output_type": "display_data"
    },
    {
     "name": "stdout",
     "output_type": "stream",
     "text": [
      "\n",
      ">>> Vote totals verified — 7e-05 error rate\n",
      "————————————————————————————————————————————————————————————\n",
      "Loading State House Dist 99.csv data...\n",
      " > Found data for 1 counties (1%)\n",
      "Verifying vote totals...\n"
     ]
    },
    {
     "data": {
      "application/vnd.jupyter.widget-view+json": {
       "model_id": "8778e88126f34e5c8f60ddca6f3d8d88",
       "version_major": 2,
       "version_minor": 0
      },
      "text/plain": [
       "HBox(children=(HTML(value=''), FloatProgress(value=0.0, max=1.0), HTML(value='')))"
      ]
     },
     "metadata": {},
     "output_type": "display_data"
    },
    {
     "name": "stdout",
     "output_type": "stream",
     "text": [
      "\n",
      "> Vote totals verified — no errors\n",
      "————————————————————————————————————————————————————————————\n",
      "Loading State House Dist 46.csv data...\n",
      " > Found data for 2 counties (1%)\n",
      "Verifying vote totals...\n"
     ]
    },
    {
     "data": {
      "application/vnd.jupyter.widget-view+json": {
       "model_id": "fa9fba30415642cea2ed6012ee58c951",
       "version_major": 2,
       "version_minor": 0
      },
      "text/plain": [
       "HBox(children=(HTML(value=''), FloatProgress(value=0.0, max=2.0), HTML(value='')))"
      ]
     },
     "metadata": {},
     "output_type": "display_data"
    },
    {
     "name": "stdout",
     "output_type": "stream",
     "text": [
      "\n",
      "> Vote totals verified — no errors\n",
      "————————————————————————————————————————————————————————————\n",
      "Loading Board of Education Precinct 4.csv data...\n",
      " > Found data for 1 counties (1%)\n",
      "Verifying vote totals...\n"
     ]
    },
    {
     "data": {
      "application/vnd.jupyter.widget-view+json": {
       "model_id": "4dd47c0a15b74203bbb8bb1a53f2af0c",
       "version_major": 2,
       "version_minor": 0
      },
      "text/plain": [
       "HBox(children=(HTML(value=''), FloatProgress(value=0.0, max=1.0), HTML(value='')))"
      ]
     },
     "metadata": {},
     "output_type": "display_data"
    },
    {
     "name": "stdout",
     "output_type": "stream",
     "text": [
      "\n",
      "> Vote totals verified — no errors\n",
      "————————————————————————————————————————————————————————————\n",
      "Loading US Senate (Loeffler) - Special.csv data...\n",
      " > Found data for 159 counties (100%)\n",
      "\n",
      "POSSIBLE typo found (98% match)\n",
      " > 1. Matt Lierberman (Dem) — 220 total votes\n",
      " > 2. Matt Lieberman (Dem) — 140224 total votes\n",
      "  > Combine these candidates? (y/n):  y\n",
      "  > Which is correct? (1 or 2)  2\n",
      " > Added 440 votes to Matt Lieberman (Dem)'s statewide total\n",
      " > Removed Matt Lierberman (Dem)\n",
      "Verifying vote totals...\n"
     ]
    },
    {
     "data": {
      "application/vnd.jupyter.widget-view+json": {
       "model_id": "1df0d93124fa45cf8e0c6b30163a1178",
       "version_major": 2,
       "version_minor": 0
      },
      "text/plain": [
       "HBox(children=(HTML(value=''), FloatProgress(value=0.0, max=20.0), HTML(value='')))"
      ]
     },
     "metadata": {},
     "output_type": "display_data"
    },
    {
     "name": "stdout",
     "output_type": "stream",
     "text": [
      "\n",
      "> Vote totals verified — no errors\n",
      "————————————————————————————————————————————————————————————\n",
      "Loading Edison City Council Post 1 - Special.csv data...\n",
      " > Found data for 1 counties (1%)\n",
      "Verifying vote totals...\n"
     ]
    },
    {
     "data": {
      "application/vnd.jupyter.widget-view+json": {
       "model_id": "468c95af075a4fe4b074df4b2bc90837",
       "version_major": 2,
       "version_minor": 0
      },
      "text/plain": [
       "HBox(children=(HTML(value=''), FloatProgress(value=0.0, max=2.0), HTML(value='')))"
      ]
     },
     "metadata": {},
     "output_type": "display_data"
    },
    {
     "name": "stdout",
     "output_type": "stream",
     "text": [
      "\n",
      "> Vote totals verified — no errors\n",
      "————————————————————————————————————————————————————————————\n",
      "Loading Board of Education Dist 5 At Large.csv data...\n",
      " > Found data for 1 counties (1%)\n",
      "Verifying vote totals...\n"
     ]
    },
    {
     "data": {
      "application/vnd.jupyter.widget-view+json": {
       "model_id": "3003e2ea3348441f82256cf6ce21b1f7",
       "version_major": 2,
       "version_minor": 0
      },
      "text/plain": [
       "HBox(children=(HTML(value=''), FloatProgress(value=0.0, max=1.0), HTML(value='')))"
      ]
     },
     "metadata": {},
     "output_type": "display_data"
    },
    {
     "name": "stdout",
     "output_type": "stream",
     "text": [
      "\n",
      "> Vote totals verified — no errors\n",
      "————————————————————————————————————————————————————————————\n",
      "Loading State House Dist 90.csv data...\n",
      " > Found data for 3 counties (2%)\n",
      "Verifying vote totals...\n"
     ]
    },
    {
     "data": {
      "application/vnd.jupyter.widget-view+json": {
       "model_id": "a7fa6555d5c942718b7ec7123fd3cb5c",
       "version_major": 2,
       "version_minor": 0
      },
      "text/plain": [
       "HBox(children=(HTML(value=''), FloatProgress(value=0.0, max=1.0), HTML(value='')))"
      ]
     },
     "metadata": {},
     "output_type": "display_data"
    },
    {
     "name": "stdout",
     "output_type": "stream",
     "text": [
      "\n",
      "> Vote totals verified — no errors\n",
      "————————————————————————————————————————————————————————————\n",
      "Loading Board of Education Precinct 3.csv data...\n",
      " > Found data for 1 counties (1%)\n",
      "Verifying vote totals...\n"
     ]
    },
    {
     "data": {
      "application/vnd.jupyter.widget-view+json": {
       "model_id": "5f354000ab3a4753a12ebbccd6dc0bf2",
       "version_major": 2,
       "version_minor": 0
      },
      "text/plain": [
       "HBox(children=(HTML(value=''), FloatProgress(value=0.0, max=1.0), HTML(value='')))"
      ]
     },
     "metadata": {},
     "output_type": "display_data"
    },
    {
     "name": "stdout",
     "output_type": "stream",
     "text": [
      "\n",
      "> Vote totals verified — no errors\n",
      "————————————————————————————————————————————————————————————\n",
      "Loading State House Dist 94.csv data...\n",
      " > Found data for 2 counties (1%)\n",
      "Verifying vote totals...\n"
     ]
    },
    {
     "data": {
      "application/vnd.jupyter.widget-view+json": {
       "model_id": "d81bd3bc133241278538e755c8da49e3",
       "version_major": 2,
       "version_minor": 0
      },
      "text/plain": [
       "HBox(children=(HTML(value=''), FloatProgress(value=0.0, max=1.0), HTML(value='')))"
      ]
     },
     "metadata": {},
     "output_type": "display_data"
    },
    {
     "name": "stdout",
     "output_type": "stream",
     "text": [
      "\n",
      "> Vote totals verified — no errors\n",
      "————————————————————————————————————————————————————————————\n",
      "Loading Blythe City Councilmember - Special.csv data...\n",
      " > Found data for 1 counties (1%)\n",
      "Verifying vote totals...\n"
     ]
    },
    {
     "data": {
      "application/vnd.jupyter.widget-view+json": {
       "model_id": "aa497eda0b36409ca253025339bef426",
       "version_major": 2,
       "version_minor": 0
      },
      "text/plain": [
       "HBox(children=(HTML(value=''), FloatProgress(value=0.0, max=3.0), HTML(value='')))"
      ]
     },
     "metadata": {},
     "output_type": "display_data"
    },
    {
     "name": "stdout",
     "output_type": "stream",
     "text": [
      "\n",
      "> Vote totals verified — no errors\n",
      "————————————————————————————————————————————————————————————\n",
      "Loading Manchester Regulation of Distilled Spirits Sales By the Drink - Special.csv data...\n",
      " > Found data for 1 counties (1%)\n",
      "Verifying vote totals...\n"
     ]
    },
    {
     "data": {
      "application/vnd.jupyter.widget-view+json": {
       "model_id": "39135eeb93fb455db03680efffcaf82f",
       "version_major": 2,
       "version_minor": 0
      },
      "text/plain": [
       "HBox(children=(HTML(value=''), FloatProgress(value=0.0, max=2.0), HTML(value='')))"
      ]
     },
     "metadata": {},
     "output_type": "display_data"
    },
    {
     "name": "stdout",
     "output_type": "stream",
     "text": [
      "\n",
      "> Vote totals verified — no errors\n",
      "————————————————————————————————————————————————————————————\n",
      "Loading West Jackson Fire Advisory Board Post 3.csv data...\n",
      " > Found data for 1 counties (1%)\n",
      "Verifying vote totals...\n"
     ]
    },
    {
     "data": {
      "application/vnd.jupyter.widget-view+json": {
       "model_id": "6b9c2cf0047d48368af4e8284643d08e",
       "version_major": 2,
       "version_minor": 0
      },
      "text/plain": [
       "HBox(children=(HTML(value=''), FloatProgress(value=0.0, max=1.0), HTML(value='')))"
      ]
     },
     "metadata": {},
     "output_type": "display_data"
    },
    {
     "name": "stdout",
     "output_type": "stream",
     "text": [
      "\n",
      "> Vote totals verified — no errors\n",
      "————————————————————————————————————————————————————————————\n",
      "Loading Board of Education Post 1.csv data...\n",
      " > Found data for 4 counties (3%)\n",
      "Verifying vote totals...\n"
     ]
    },
    {
     "data": {
      "application/vnd.jupyter.widget-view+json": {
       "model_id": "002db880f44f499696df9f9d33808195",
       "version_major": 2,
       "version_minor": 0
      },
      "text/plain": [
       "HBox(children=(HTML(value=''), FloatProgress(value=0.0, max=5.0), HTML(value='')))"
      ]
     },
     "metadata": {},
     "output_type": "display_data"
    },
    {
     "name": "stdout",
     "output_type": "stream",
     "text": [
      "\n",
      "> Vote totals verified — no errors\n",
      "————————————————————————————————————————————————————————————\n",
      "Loading Brooks Council Member Post 1 - Special.csv data...\n",
      " > Found data for 1 counties (1%)\n",
      "Verifying vote totals...\n"
     ]
    },
    {
     "data": {
      "application/vnd.jupyter.widget-view+json": {
       "model_id": "017a69c28d7743dab37af73422197422",
       "version_major": 2,
       "version_minor": 0
      },
      "text/plain": [
       "HBox(children=(HTML(value=''), FloatProgress(value=0.0, max=2.0), HTML(value='')))"
      ]
     },
     "metadata": {},
     "output_type": "display_data"
    },
    {
     "name": "stdout",
     "output_type": "stream",
     "text": [
      "\n",
      "> Vote totals verified — no errors\n",
      "————————————————————————————————————————————————————————————\n",
      "Loading State House Dist 147.csv data...\n",
      " > Found data for 1 counties (1%)\n",
      "Verifying vote totals...\n"
     ]
    },
    {
     "data": {
      "application/vnd.jupyter.widget-view+json": {
       "model_id": "eccd879b133946faa181be8a708b2b91",
       "version_major": 2,
       "version_minor": 0
      },
      "text/plain": [
       "HBox(children=(HTML(value=''), FloatProgress(value=0.0, max=2.0), HTML(value='')))"
      ]
     },
     "metadata": {},
     "output_type": "display_data"
    },
    {
     "name": "stdout",
     "output_type": "stream",
     "text": [
      "\n",
      "> Vote totals verified — no errors\n",
      "————————————————————————————————————————————————————————————\n",
      "Loading State House Dist 56.csv data...\n",
      " > Found data for 1 counties (1%)\n",
      "Verifying vote totals...\n"
     ]
    },
    {
     "data": {
      "application/vnd.jupyter.widget-view+json": {
       "model_id": "d57147fbb63545308d3696d4fce896ab",
       "version_major": 2,
       "version_minor": 0
      },
      "text/plain": [
       "HBox(children=(HTML(value=''), FloatProgress(value=0.0, max=1.0), HTML(value='')))"
      ]
     },
     "metadata": {},
     "output_type": "display_data"
    },
    {
     "name": "stdout",
     "output_type": "stream",
     "text": [
      "\n",
      "> Vote totals verified — no errors\n",
      "————————————————————————————————————————————————————————————\n",
      "Loading Hamilton City Council - Special.csv data...\n",
      " > Found data for 1 counties (1%)\n",
      "Verifying vote totals...\n"
     ]
    },
    {
     "data": {
      "application/vnd.jupyter.widget-view+json": {
       "model_id": "e6c09a89cf3243ee8f859e3434a939d1",
       "version_major": 2,
       "version_minor": 0
      },
      "text/plain": [
       "HBox(children=(HTML(value=''), FloatProgress(value=0.0, max=1.0), HTML(value='')))"
      ]
     },
     "metadata": {},
     "output_type": "display_data"
    },
    {
     "name": "stdout",
     "output_type": "stream",
     "text": [
      "\n",
      "> Vote totals verified — no errors\n",
      "————————————————————————————————————————————————————————————\n",
      "Loading Fluoride in County Water System - Special.csv data...\n",
      " > Found data for 1 counties (1%)\n",
      "Verifying vote totals...\n"
     ]
    },
    {
     "data": {
      "application/vnd.jupyter.widget-view+json": {
       "model_id": "397c9d8675e64614a2be3d213ab7e21f",
       "version_major": 2,
       "version_minor": 0
      },
      "text/plain": [
       "HBox(children=(HTML(value=''), FloatProgress(value=0.0, max=2.0), HTML(value='')))"
      ]
     },
     "metadata": {},
     "output_type": "display_data"
    },
    {
     "name": "stdout",
     "output_type": "stream",
     "text": [
      "\n",
      "> Vote totals verified — no errors\n",
      "————————————————————————————————————————————————————————————\n",
      "Loading State House Dist 68.csv data...\n",
      " > Found data for 2 counties (1%)\n",
      "Verifying vote totals...\n"
     ]
    },
    {
     "data": {
      "application/vnd.jupyter.widget-view+json": {
       "model_id": "db96ed3051a7438abdf817d3172ec390",
       "version_major": 2,
       "version_minor": 0
      },
      "text/plain": [
       "HBox(children=(HTML(value=''), FloatProgress(value=0.0, max=1.0), HTML(value='')))"
      ]
     },
     "metadata": {},
     "output_type": "display_data"
    },
    {
     "name": "stdout",
     "output_type": "stream",
     "text": [
      "\n",
      "> Vote totals verified — no errors\n",
      "————————————————————————————————————————————————————————————\n",
      "Loading State Senate Dist 47.csv data...\n",
      " > Found data for 4 counties (3%)\n",
      "Verifying vote totals...\n"
     ]
    },
    {
     "data": {
      "application/vnd.jupyter.widget-view+json": {
       "model_id": "074b51b9465440e98daa1a0b85f561eb",
       "version_major": 2,
       "version_minor": 0
      },
      "text/plain": [
       "HBox(children=(HTML(value=''), FloatProgress(value=0.0, max=2.0), HTML(value='')))"
      ]
     },
     "metadata": {},
     "output_type": "display_data"
    },
    {
     "name": "stdout",
     "output_type": "stream",
     "text": [
      "\n",
      "> Vote totals verified — no errors\n",
      "————————————————————————————————————————————————————————————\n",
      "Loading State House Dist 173.csv data...\n",
      " > Found data for 3 counties (2%)\n",
      "Verifying vote totals...\n"
     ]
    },
    {
     "data": {
      "application/vnd.jupyter.widget-view+json": {
       "model_id": "9ed593e50f524305bf8d5f078cba7ba7",
       "version_major": 2,
       "version_minor": 0
      },
      "text/plain": [
       "HBox(children=(HTML(value=''), FloatProgress(value=0.0, max=2.0), HTML(value='')))"
      ]
     },
     "metadata": {},
     "output_type": "display_data"
    },
    {
     "name": "stdout",
     "output_type": "stream",
     "text": [
      "\n",
      "> Vote totals verified — no errors\n",
      "————————————————————————————————————————————————————————————\n",
      "Loading State House Dist 121.csv data...\n",
      " > Found data for 2 counties (1%)\n",
      "Verifying vote totals...\n"
     ]
    },
    {
     "data": {
      "application/vnd.jupyter.widget-view+json": {
       "model_id": "077b7736692e4c399573f5fd43df081f",
       "version_major": 2,
       "version_minor": 0
      },
      "text/plain": [
       "HBox(children=(HTML(value=''), FloatProgress(value=0.0, max=1.0), HTML(value='')))"
      ]
     },
     "metadata": {},
     "output_type": "display_data"
    },
    {
     "name": "stdout",
     "output_type": "stream",
     "text": [
      "\n",
      "> Vote totals verified — no errors\n",
      "————————————————————————————————————————————————————————————\n",
      "Loading Constitutional Amendment #2.csv data...\n",
      " > Found data for 159 counties (100%)\n",
      "Verifying vote totals...\n"
     ]
    },
    {
     "data": {
      "application/vnd.jupyter.widget-view+json": {
       "model_id": "577a09b255ea4be4b8272f3ec8fccfa2",
       "version_major": 2,
       "version_minor": 0
      },
      "text/plain": [
       "HBox(children=(HTML(value=''), FloatProgress(value=0.0, max=2.0), HTML(value='')))"
      ]
     },
     "metadata": {},
     "output_type": "display_data"
    },
    {
     "name": "stdout",
     "output_type": "stream",
     "text": [
      "\n",
      "> Vote totals verified — no errors\n",
      "————————————————————————————————————————————————————————————\n",
      "Loading Dist Attorney - Stone Mountain.csv data...\n",
      " > Found data for 1 counties (1%)\n",
      "Verifying vote totals...\n"
     ]
    },
    {
     "data": {
      "application/vnd.jupyter.widget-view+json": {
       "model_id": "cd24e4391c8d4013b559e7992687c186",
       "version_major": 2,
       "version_minor": 0
      },
      "text/plain": [
       "HBox(children=(HTML(value=''), FloatProgress(value=0.0, max=1.0), HTML(value='')))"
      ]
     },
     "metadata": {},
     "output_type": "display_data"
    },
    {
     "name": "stdout",
     "output_type": "stream",
     "text": [
      "\n",
      "> Vote totals verified — no errors\n",
      "————————————————————————————————————————————————————————————\n",
      "Loading State Senate Dist 44.csv data...\n",
      " > Found data for 2 counties (1%)\n",
      "Verifying vote totals...\n"
     ]
    },
    {
     "data": {
      "application/vnd.jupyter.widget-view+json": {
       "model_id": "fa03a5dcec77457f81b26a9e4f15de49",
       "version_major": 2,
       "version_minor": 0
      },
      "text/plain": [
       "HBox(children=(HTML(value=''), FloatProgress(value=0.0, max=2.0), HTML(value='')))"
      ]
     },
     "metadata": {},
     "output_type": "display_data"
    },
    {
     "name": "stdout",
     "output_type": "stream",
     "text": [
      "\n",
      "> Vote totals verified — no errors\n",
      "————————————————————————————————————————————————————————————\n",
      "Loading State House Dist 60.csv data...\n",
      " > Found data for 2 counties (1%)\n",
      "Verifying vote totals...\n"
     ]
    },
    {
     "data": {
      "application/vnd.jupyter.widget-view+json": {
       "model_id": "dd974767975844dbae6c11d3a684d4ba",
       "version_major": 2,
       "version_minor": 0
      },
      "text/plain": [
       "HBox(children=(HTML(value=''), FloatProgress(value=0.0, max=1.0), HTML(value='')))"
      ]
     },
     "metadata": {},
     "output_type": "display_data"
    },
    {
     "name": "stdout",
     "output_type": "stream",
     "text": [
      "\n",
      "> Vote totals verified — no errors\n",
      "————————————————————————————————————————————————————————————\n",
      "Loading St. Marys City Council Post 6.csv data...\n",
      " > Found data for 1 counties (1%)\n",
      "Verifying vote totals...\n"
     ]
    },
    {
     "data": {
      "application/vnd.jupyter.widget-view+json": {
       "model_id": "6d9bae31964c47da9cf3cf05657a6d76",
       "version_major": 2,
       "version_minor": 0
      },
      "text/plain": [
       "HBox(children=(HTML(value=''), FloatProgress(value=0.0, max=3.0), HTML(value='')))"
      ]
     },
     "metadata": {},
     "output_type": "display_data"
    },
    {
     "name": "stdout",
     "output_type": "stream",
     "text": [
      "\n",
      "> Vote totals verified — no errors\n",
      "————————————————————————————————————————————————————————————\n",
      "Loading State Senate Dist 32.csv data...\n",
      " > Found data for 2 counties (1%)\n",
      "Verifying vote totals...\n"
     ]
    },
    {
     "data": {
      "application/vnd.jupyter.widget-view+json": {
       "model_id": "b3298db0649b4e1faa6725f2d709efc4",
       "version_major": 2,
       "version_minor": 0
      },
      "text/plain": [
       "HBox(children=(HTML(value=''), FloatProgress(value=0.0, max=2.0), HTML(value='')))"
      ]
     },
     "metadata": {},
     "output_type": "display_data"
    },
    {
     "name": "stdout",
     "output_type": "stream",
     "text": [
      "\n",
      "> Vote totals verified — no errors\n",
      "————————————————————————————————————————————————————————————\n",
      "Loading Board of Education Dist 3 Post 2.csv data...\n",
      " > Found data for 1 counties (1%)\n",
      "Verifying vote totals...\n"
     ]
    },
    {
     "data": {
      "application/vnd.jupyter.widget-view+json": {
       "model_id": "a828635471e642e4b2d4a90a3f5527b9",
       "version_major": 2,
       "version_minor": 0
      },
      "text/plain": [
       "HBox(children=(HTML(value=''), FloatProgress(value=0.0, max=1.0), HTML(value='')))"
      ]
     },
     "metadata": {},
     "output_type": "display_data"
    },
    {
     "name": "stdout",
     "output_type": "stream",
     "text": [
      "\n",
      "> Vote totals verified — no errors\n",
      "————————————————————————————————————————————————————————————\n",
      "Loading State House Dist 63.csv data...\n",
      " > Found data for 3 counties (2%)\n",
      "Verifying vote totals...\n"
     ]
    },
    {
     "data": {
      "application/vnd.jupyter.widget-view+json": {
       "model_id": "a558c7f9dc8f4026abbecbbb72fc3d93",
       "version_major": 2,
       "version_minor": 0
      },
      "text/plain": [
       "HBox(children=(HTML(value=''), FloatProgress(value=0.0, max=2.0), HTML(value='')))"
      ]
     },
     "metadata": {},
     "output_type": "display_data"
    },
    {
     "name": "stdout",
     "output_type": "stream",
     "text": [
      "\n",
      "> Vote totals verified — no errors\n",
      "————————————————————————————————————————————————————————————\n",
      "Loading Good Hope Mayor.csv data...\n",
      " > Found data for 1 counties (1%)\n",
      "Verifying vote totals...\n"
     ]
    },
    {
     "data": {
      "application/vnd.jupyter.widget-view+json": {
       "model_id": "b3ece56920144da0ac7eae1d13f2cf01",
       "version_major": 2,
       "version_minor": 0
      },
      "text/plain": [
       "HBox(children=(HTML(value=''), FloatProgress(value=0.0, max=1.0), HTML(value='')))"
      ]
     },
     "metadata": {},
     "output_type": "display_data"
    },
    {
     "name": "stdout",
     "output_type": "stream",
     "text": [
      "\n",
      "> Vote totals verified — no errors\n",
      "————————————————————————————————————————————————————————————\n",
      "Loading State Senate Dist 39 - Special Democratic Primary.csv data...\n",
      " > Found data for 1 counties (1%)\n",
      "Verifying vote totals...\n"
     ]
    },
    {
     "data": {
      "application/vnd.jupyter.widget-view+json": {
       "model_id": "1bc304d51f4b4fe9b5659a7ca2c492f8",
       "version_major": 2,
       "version_minor": 0
      },
      "text/plain": [
       "HBox(children=(HTML(value=''), FloatProgress(value=0.0, max=4.0), HTML(value='')))"
      ]
     },
     "metadata": {},
     "output_type": "display_data"
    },
    {
     "name": "stdout",
     "output_type": "stream",
     "text": [
      "\n",
      "> Vote totals verified — no errors\n",
      "————————————————————————————————————————————————————————————\n",
      "Loading County Commissioner At Large Post 2.csv data...\n",
      " > Found data for 1 counties (1%)\n",
      "Verifying vote totals...\n"
     ]
    },
    {
     "data": {
      "application/vnd.jupyter.widget-view+json": {
       "model_id": "3dbb6222d19a4735bb73ef16d571aa73",
       "version_major": 2,
       "version_minor": 0
      },
      "text/plain": [
       "HBox(children=(HTML(value=''), FloatProgress(value=0.0, max=2.0), HTML(value='')))"
      ]
     },
     "metadata": {},
     "output_type": "display_data"
    },
    {
     "name": "stdout",
     "output_type": "stream",
     "text": [
      "\n",
      "> Vote totals verified — no errors\n",
      "————————————————————————————————————————————————————————————\n",
      "Loading Monroe Councilmember Dist 6 - Special.csv data...\n",
      " > Found data for 1 counties (1%)\n",
      "Verifying vote totals...\n"
     ]
    },
    {
     "data": {
      "application/vnd.jupyter.widget-view+json": {
       "model_id": "179b49b2c0504488a15037c361c5d992",
       "version_major": 2,
       "version_minor": 0
      },
      "text/plain": [
       "HBox(children=(HTML(value=''), FloatProgress(value=0.0, max=2.0), HTML(value='')))"
      ]
     },
     "metadata": {},
     "output_type": "display_data"
    },
    {
     "name": "stdout",
     "output_type": "stream",
     "text": [
      "\n",
      "> Vote totals verified — no errors\n",
      "————————————————————————————————————————————————————————————\n",
      "Loading State House Dist 78.csv data...\n",
      " > Found data for 2 counties (1%)\n",
      "Verifying vote totals...\n"
     ]
    },
    {
     "data": {
      "application/vnd.jupyter.widget-view+json": {
       "model_id": "1fd1b5c4c041461d8a31658b6f06efda",
       "version_major": 2,
       "version_minor": 0
      },
      "text/plain": [
       "HBox(children=(HTML(value=''), FloatProgress(value=0.0, max=1.0), HTML(value='')))"
      ]
     },
     "metadata": {},
     "output_type": "display_data"
    },
    {
     "name": "stdout",
     "output_type": "stream",
     "text": [
      "\n",
      "> Vote totals verified — no errors\n",
      "————————————————————————————————————————————————————————————\n",
      "Loading Lake Park City Council - Special.csv data...\n",
      " > Found data for 1 counties (1%)\n",
      "Verifying vote totals...\n"
     ]
    },
    {
     "data": {
      "application/vnd.jupyter.widget-view+json": {
       "model_id": "d11841264c804d0cbedff9d15e0027a8",
       "version_major": 2,
       "version_minor": 0
      },
      "text/plain": [
       "HBox(children=(HTML(value=''), FloatProgress(value=0.0, max=2.0), HTML(value='')))"
      ]
     },
     "metadata": {},
     "output_type": "display_data"
    },
    {
     "name": "stdout",
     "output_type": "stream",
     "text": [
      "\n",
      "> Vote totals verified — no errors\n",
      "————————————————————————————————————————————————————————————\n",
      "Loading Solicitor of State Court.csv data...\n",
      " > Found data for 2 counties (1%)\n",
      "Verifying vote totals...\n"
     ]
    },
    {
     "data": {
      "application/vnd.jupyter.widget-view+json": {
       "model_id": "7964458d8bac4d2eb80274dc4e39247e",
       "version_major": 2,
       "version_minor": 0
      },
      "text/plain": [
       "HBox(children=(HTML(value=''), FloatProgress(value=0.0, max=2.0), HTML(value='')))"
      ]
     },
     "metadata": {},
     "output_type": "display_data"
    },
    {
     "name": "stdout",
     "output_type": "stream",
     "text": [
      "\n",
      "> Vote totals verified — no errors\n",
      "————————————————————————————————————————————————————————————\n",
      "Loading County Commission Post 3 - Special.csv data...\n",
      " > Found data for 1 counties (1%)\n",
      "Verifying vote totals...\n"
     ]
    },
    {
     "data": {
      "application/vnd.jupyter.widget-view+json": {
       "model_id": "c4c8d41af38346a7936ca3d092771643",
       "version_major": 2,
       "version_minor": 0
      },
      "text/plain": [
       "HBox(children=(HTML(value=''), FloatProgress(value=0.0, max=3.0), HTML(value='')))"
      ]
     },
     "metadata": {},
     "output_type": "display_data"
    },
    {
     "name": "stdout",
     "output_type": "stream",
     "text": [
      "\n",
      "> Vote totals verified — no errors\n",
      "————————————————————————————————————————————————————————————\n",
      "Loading State House Dist 33.csv data...\n",
      " > Found data for 5 counties (3%)\n",
      "Verifying vote totals...\n"
     ]
    },
    {
     "data": {
      "application/vnd.jupyter.widget-view+json": {
       "model_id": "71ece40b16a5495289610f83f3ecc19f",
       "version_major": 2,
       "version_minor": 0
      },
      "text/plain": [
       "HBox(children=(HTML(value=''), FloatProgress(value=0.0, max=2.0), HTML(value='')))"
      ]
     },
     "metadata": {},
     "output_type": "display_data"
    },
    {
     "name": "stdout",
     "output_type": "stream",
     "text": [
      "\n",
      "> Vote totals verified — no errors\n",
      "————————————————————————————————————————————————————————————\n",
      "Loading County Commission Dist 7.csv data...\n",
      " > Found data for 2 counties (1%)\n",
      "Verifying vote totals...\n"
     ]
    },
    {
     "data": {
      "application/vnd.jupyter.widget-view+json": {
       "model_id": "b4c830d484824a3d87cce31d21c8867c",
       "version_major": 2,
       "version_minor": 0
      },
      "text/plain": [
       "HBox(children=(HTML(value=''), FloatProgress(value=0.0, max=3.0), HTML(value='')))"
      ]
     },
     "metadata": {},
     "output_type": "display_data"
    },
    {
     "name": "stdout",
     "output_type": "stream",
     "text": [
      "\n",
      "> Vote totals verified — no errors\n",
      "————————————————————————————————————————————————————————————\n",
      "Loading Soil and Water - Roosevelt.csv data...\n",
      " > Found data for 1 counties (1%)\n",
      "Verifying vote totals...\n"
     ]
    },
    {
     "data": {
      "application/vnd.jupyter.widget-view+json": {
       "model_id": "321d72ca0e8f4094a5e480e8fdd73e30",
       "version_major": 2,
       "version_minor": 0
      },
      "text/plain": [
       "HBox(children=(HTML(value=''), FloatProgress(value=0.0, max=1.0), HTML(value='')))"
      ]
     },
     "metadata": {},
     "output_type": "display_data"
    },
    {
     "name": "stdout",
     "output_type": "stream",
     "text": [
      "\n",
      "> Vote totals verified — no errors\n",
      "————————————————————————————————————————————————————————————\n",
      "Loading State House Dist 158.csv data...\n",
      " > Found data for 4 counties (3%)\n",
      "Verifying vote totals...\n"
     ]
    },
    {
     "data": {
      "application/vnd.jupyter.widget-view+json": {
       "model_id": "ab8f3c0e74c44615bbba6b12c0574532",
       "version_major": 2,
       "version_minor": 0
      },
      "text/plain": [
       "HBox(children=(HTML(value=''), FloatProgress(value=0.0, max=2.0), HTML(value='')))"
      ]
     },
     "metadata": {},
     "output_type": "display_data"
    },
    {
     "name": "stdout",
     "output_type": "stream",
     "text": [
      "\n",
      "> Vote totals verified — no errors\n",
      "————————————————————————————————————————————————————————————\n",
      "Loading Good Hope City Council Post 5.csv data...\n",
      " > Found data for 1 counties (1%)\n",
      "Verifying vote totals...\n"
     ]
    },
    {
     "data": {
      "application/vnd.jupyter.widget-view+json": {
       "model_id": "fcae9ad0d324477598b38deb304b0636",
       "version_major": 2,
       "version_minor": 0
      },
      "text/plain": [
       "HBox(children=(HTML(value=''), FloatProgress(value=0.0, max=1.0), HTML(value='')))"
      ]
     },
     "metadata": {},
     "output_type": "display_data"
    },
    {
     "name": "stdout",
     "output_type": "stream",
     "text": [
      "\n",
      "> Vote totals verified — no errors\n",
      "————————————————————————————————————————————————————————————\n",
      "Loading State House Dist 52.csv data...\n",
      " > Found data for 1 counties (1%)\n",
      "Verifying vote totals...\n"
     ]
    },
    {
     "data": {
      "application/vnd.jupyter.widget-view+json": {
       "model_id": "e0d4bc2a300c4b6080f6daa775d60846",
       "version_major": 2,
       "version_minor": 0
      },
      "text/plain": [
       "HBox(children=(HTML(value=''), FloatProgress(value=0.0, max=2.0), HTML(value='')))"
      ]
     },
     "metadata": {},
     "output_type": "display_data"
    },
    {
     "name": "stdout",
     "output_type": "stream",
     "text": [
      "\n",
      "> Vote totals verified — no errors\n",
      "————————————————————————————————————————————————————————————\n",
      "Loading Crawfordville City Council Post 4 - Special.csv data...\n",
      " > Found data for 1 counties (1%)\n",
      "Verifying vote totals...\n"
     ]
    },
    {
     "data": {
      "application/vnd.jupyter.widget-view+json": {
       "model_id": "5d4c0c588ff6469c9f6d55f5cd2946a3",
       "version_major": 2,
       "version_minor": 0
      },
      "text/plain": [
       "HBox(children=(HTML(value=''), FloatProgress(value=0.0, max=3.0), HTML(value='')))"
      ]
     },
     "metadata": {},
     "output_type": "display_data"
    },
    {
     "name": "stdout",
     "output_type": "stream",
     "text": [
      "\n",
      "> Vote totals verified — no errors\n",
      "————————————————————————————————————————————————————————————\n",
      "Loading State Senate Dist 10.csv data...\n",
      " > Found data for 2 counties (1%)\n",
      "Verifying vote totals...\n"
     ]
    },
    {
     "data": {
      "application/vnd.jupyter.widget-view+json": {
       "model_id": "479298d2d0e64732b7fa75d58e82ecd8",
       "version_major": 2,
       "version_minor": 0
      },
      "text/plain": [
       "HBox(children=(HTML(value=''), FloatProgress(value=0.0, max=1.0), HTML(value='')))"
      ]
     },
     "metadata": {},
     "output_type": "display_data"
    },
    {
     "name": "stdout",
     "output_type": "stream",
     "text": [
      "\n",
      "> Vote totals verified — no errors\n",
      "————————————————————————————————————————————————————————————\n",
      "Loading US House Dist 13.csv data...\n",
      " > Found data for 6 counties (4%)\n",
      "Verifying vote totals...\n"
     ]
    },
    {
     "data": {
      "application/vnd.jupyter.widget-view+json": {
       "model_id": "95b9ea315ac14cf9b19384ba3c454b85",
       "version_major": 2,
       "version_minor": 0
      },
      "text/plain": [
       "HBox(children=(HTML(value=''), FloatProgress(value=0.0, max=2.0), HTML(value='')))"
      ]
     },
     "metadata": {},
     "output_type": "display_data"
    },
    {
     "name": "stdout",
     "output_type": "stream",
     "text": [
      "\n",
      "> Vote totals verified — no errors\n",
      "————————————————————————————————————————————————————————————\n",
      "Loading Soil and Water - Catoosa.csv data...\n",
      " > Found data for 1 counties (1%)\n",
      "Verifying vote totals...\n"
     ]
    },
    {
     "data": {
      "application/vnd.jupyter.widget-view+json": {
       "model_id": "7d0185235b30401d948d8cf3631d60c3",
       "version_major": 2,
       "version_minor": 0
      },
      "text/plain": [
       "HBox(children=(HTML(value=''), FloatProgress(value=0.0, max=1.0), HTML(value='')))"
      ]
     },
     "metadata": {},
     "output_type": "display_data"
    },
    {
     "name": "stdout",
     "output_type": "stream",
     "text": [
      "\n",
      "> Vote totals verified — no errors\n",
      "————————————————————————————————————————————————————————————\n",
      "Loading State House Dist 124.csv data...\n",
      " > Found data for 1 counties (1%)\n",
      "Verifying vote totals...\n"
     ]
    },
    {
     "data": {
      "application/vnd.jupyter.widget-view+json": {
       "model_id": "5451468744664a0580aba73e1769ae6d",
       "version_major": 2,
       "version_minor": 0
      },
      "text/plain": [
       "HBox(children=(HTML(value=''), FloatProgress(value=0.0, max=1.0), HTML(value='')))"
      ]
     },
     "metadata": {},
     "output_type": "display_data"
    },
    {
     "name": "stdout",
     "output_type": "stream",
     "text": [
      "\n",
      "> Vote totals verified — no errors\n",
      "————————————————————————————————————————————————————————————\n",
      "Loading Camak City Council.csv data...\n",
      " > Found data for 1 counties (1%)\n",
      "Verifying vote totals...\n"
     ]
    },
    {
     "data": {
      "application/vnd.jupyter.widget-view+json": {
       "model_id": "a0d4bf55630f490da572bcc77df9ba3e",
       "version_major": 2,
       "version_minor": 0
      },
      "text/plain": [
       "HBox(children=(HTML(value=''), FloatProgress(value=0.0, max=5.0), HTML(value='')))"
      ]
     },
     "metadata": {},
     "output_type": "display_data"
    },
    {
     "name": "stdout",
     "output_type": "stream",
     "text": [
      "\n",
      "> Vote totals verified — no errors\n",
      "————————————————————————————————————————————————————————————\n",
      "Loading Jackson Trail Fire Advisory Board Post 2.csv data...\n",
      " > Found data for 1 counties (1%)\n",
      "Verifying vote totals...\n"
     ]
    },
    {
     "data": {
      "application/vnd.jupyter.widget-view+json": {
       "model_id": "a09e52549e894876af4bb166a8a88304",
       "version_major": 2,
       "version_minor": 0
      },
      "text/plain": [
       "HBox(children=(HTML(value=''), FloatProgress(value=0.0, max=1.0), HTML(value='')))"
      ]
     },
     "metadata": {},
     "output_type": "display_data"
    },
    {
     "name": "stdout",
     "output_type": "stream",
     "text": [
      "\n",
      "> Vote totals verified — no errors\n",
      "————————————————————————————————————————————————————————————\n",
      "Loading Dist Attorney - Lookout Mountain.csv data...\n",
      " > Found data for 4 counties (3%)\n",
      "Verifying vote totals...\n"
     ]
    },
    {
     "data": {
      "application/vnd.jupyter.widget-view+json": {
       "model_id": "72ab1fc57f5a4dbdbb02f989c685fd68",
       "version_major": 2,
       "version_minor": 0
      },
      "text/plain": [
       "HBox(children=(HTML(value=''), FloatProgress(value=0.0, max=1.0), HTML(value='')))"
      ]
     },
     "metadata": {},
     "output_type": "display_data"
    },
    {
     "name": "stdout",
     "output_type": "stream",
     "text": [
      "\n",
      "> Vote totals verified — no errors\n",
      "————————————————————————————————————————————————————————————\n",
      "Loading Soil and Water - Clayton County.csv data...\n",
      " > Found data for 1 counties (1%)\n",
      "Verifying vote totals...\n"
     ]
    },
    {
     "data": {
      "application/vnd.jupyter.widget-view+json": {
       "model_id": "a18d34aaadf248e0af856f538c30071b",
       "version_major": 2,
       "version_minor": 0
      },
      "text/plain": [
       "HBox(children=(HTML(value=''), FloatProgress(value=0.0, max=1.0), HTML(value='')))"
      ]
     },
     "metadata": {},
     "output_type": "display_data"
    },
    {
     "name": "stdout",
     "output_type": "stream",
     "text": [
      "\n",
      "> Vote totals verified — no errors\n",
      "————————————————————————————————————————————————————————————\n",
      "Loading Board of Education At Large - Cordele.csv data...\n",
      " > Found data for 1 counties (1%)\n",
      "Verifying vote totals...\n"
     ]
    },
    {
     "data": {
      "application/vnd.jupyter.widget-view+json": {
       "model_id": "aedfd31ad4a94090b29542127963b712",
       "version_major": 2,
       "version_minor": 0
      },
      "text/plain": [
       "HBox(children=(HTML(value=''), FloatProgress(value=0.0, max=2.0), HTML(value='')))"
      ]
     },
     "metadata": {},
     "output_type": "display_data"
    },
    {
     "name": "stdout",
     "output_type": "stream",
     "text": [
      "\n",
      "> Vote totals verified — no errors\n",
      "————————————————————————————————————————————————————————————\n",
      "Loading Board of Education Chair.csv data...\n",
      " > Found data for 5 counties (3%)\n",
      "Verifying vote totals...\n"
     ]
    },
    {
     "data": {
      "application/vnd.jupyter.widget-view+json": {
       "model_id": "561153be9f3a454c800b1530ecb1dc5a",
       "version_major": 2,
       "version_minor": 0
      },
      "text/plain": [
       "HBox(children=(HTML(value=''), FloatProgress(value=0.0, max=6.0), HTML(value='')))"
      ]
     },
     "metadata": {},
     "output_type": "display_data"
    },
    {
     "name": "stdout",
     "output_type": "stream",
     "text": [
      "\n",
      "> Vote totals verified — no errors\n",
      "————————————————————————————————————————————————————————————\n",
      "Loading Dist Attorney - Alcovy.csv data...\n",
      " > Found data for 2 counties (1%)\n",
      "Verifying vote totals...\n"
     ]
    },
    {
     "data": {
      "application/vnd.jupyter.widget-view+json": {
       "model_id": "5734cabfdef4487cb243d47ae3b94442",
       "version_major": 2,
       "version_minor": 0
      },
      "text/plain": [
       "HBox(children=(HTML(value=''), FloatProgress(value=0.0, max=2.0), HTML(value='')))"
      ]
     },
     "metadata": {},
     "output_type": "display_data"
    },
    {
     "name": "stdout",
     "output_type": "stream",
     "text": [
      "\n",
      "> Vote totals verified — no errors\n",
      "————————————————————————————————————————————————————————————\n",
      "Loading State Senate Dist 56.csv data...\n",
      " > Found data for 2 counties (1%)\n",
      "Verifying vote totals...\n"
     ]
    },
    {
     "data": {
      "application/vnd.jupyter.widget-view+json": {
       "model_id": "2b918514587946c6a524c8dd0ee9ec18",
       "version_major": 2,
       "version_minor": 0
      },
      "text/plain": [
       "HBox(children=(HTML(value=''), FloatProgress(value=0.0, max=2.0), HTML(value='')))"
      ]
     },
     "metadata": {},
     "output_type": "display_data"
    },
    {
     "name": "stdout",
     "output_type": "stream",
     "text": [
      "\n",
      "> Vote totals verified — no errors\n",
      "————————————————————————————————————————————————————————————\n",
      "Loading State House Dist 156.csv data...\n",
      " > Found data for 4 counties (3%)\n",
      "Verifying vote totals...\n"
     ]
    },
    {
     "data": {
      "application/vnd.jupyter.widget-view+json": {
       "model_id": "bf6890ef99aa4f64bfb4fbe795be2165",
       "version_major": 2,
       "version_minor": 0
      },
      "text/plain": [
       "HBox(children=(HTML(value=''), FloatProgress(value=0.0, max=1.0), HTML(value='')))"
      ]
     },
     "metadata": {},
     "output_type": "display_data"
    },
    {
     "name": "stdout",
     "output_type": "stream",
     "text": [
      "\n",
      "> Vote totals verified — no errors\n",
      "————————————————————————————————————————————————————————————\n",
      "Loading Dist Attorney - Alapaha.csv data...\n",
      " > Found data for 5 counties (3%)\n",
      "Verifying vote totals...\n"
     ]
    },
    {
     "data": {
      "application/vnd.jupyter.widget-view+json": {
       "model_id": "388d21853b6e4353b9927bdefb734f3b",
       "version_major": 2,
       "version_minor": 0
      },
      "text/plain": [
       "HBox(children=(HTML(value=''), FloatProgress(value=0.0, max=1.0), HTML(value='')))"
      ]
     },
     "metadata": {},
     "output_type": "display_data"
    },
    {
     "name": "stdout",
     "output_type": "stream",
     "text": [
      "\n",
      "> Vote totals verified — no errors\n",
      "————————————————————————————————————————————————————————————\n",
      "Loading State House Dist 175.csv data...\n",
      " > Found data for 3 counties (2%)\n",
      "Verifying vote totals...\n"
     ]
    },
    {
     "data": {
      "application/vnd.jupyter.widget-view+json": {
       "model_id": "a9b236fadb9343babd78d1c8cfa41979",
       "version_major": 2,
       "version_minor": 0
      },
      "text/plain": [
       "HBox(children=(HTML(value=''), FloatProgress(value=0.0, max=1.0), HTML(value='')))"
      ]
     },
     "metadata": {},
     "output_type": "display_data"
    },
    {
     "name": "stdout",
     "output_type": "stream",
     "text": [
      "\n",
      "> Vote totals verified — no errors\n",
      "————————————————————————————————————————————————————————————\n",
      "Loading State House Dist 125.csv data...\n",
      " > Found data for 1 counties (1%)\n",
      "Verifying vote totals...\n"
     ]
    },
    {
     "data": {
      "application/vnd.jupyter.widget-view+json": {
       "model_id": "d6f8f22af9ed448d9a16029b4ba83504",
       "version_major": 2,
       "version_minor": 0
      },
      "text/plain": [
       "HBox(children=(HTML(value=''), FloatProgress(value=0.0, max=1.0), HTML(value='')))"
      ]
     },
     "metadata": {},
     "output_type": "display_data"
    },
    {
     "name": "stdout",
     "output_type": "stream",
     "text": [
      "\n",
      "> Vote totals verified — no errors\n",
      "————————————————————————————————————————————————————————————\n",
      "Loading State Senate Dist 31.csv data...\n",
      " > Found data for 3 counties (2%)\n",
      "Verifying vote totals...\n"
     ]
    },
    {
     "data": {
      "application/vnd.jupyter.widget-view+json": {
       "model_id": "2c2f839bb15540a1897de573459706b9",
       "version_major": 2,
       "version_minor": 0
      },
      "text/plain": [
       "HBox(children=(HTML(value=''), FloatProgress(value=0.0, max=2.0), HTML(value='')))"
      ]
     },
     "metadata": {},
     "output_type": "display_data"
    },
    {
     "name": "stdout",
     "output_type": "stream",
     "text": [
      "\n",
      "> Vote totals verified — no errors\n",
      "————————————————————————————————————————————————————————————\n",
      "Loading Dist Attorney - Bell-Forsyth.csv data...\n",
      " > Found data for 1 counties (1%)\n",
      "Verifying vote totals...\n"
     ]
    },
    {
     "data": {
      "application/vnd.jupyter.widget-view+json": {
       "model_id": "8ef81f77f0ce49bcb8c8de1a51021b97",
       "version_major": 2,
       "version_minor": 0
      },
      "text/plain": [
       "HBox(children=(HTML(value=''), FloatProgress(value=0.0, max=1.0), HTML(value='')))"
      ]
     },
     "metadata": {},
     "output_type": "display_data"
    },
    {
     "name": "stdout",
     "output_type": "stream",
     "text": [
      "\n",
      "> Vote totals verified — no errors\n",
      "————————————————————————————————————————————————————————————\n",
      "Loading County Commission Precinct 4.csv data...\n",
      " > Found data for 1 counties (1%)\n",
      "Verifying vote totals...\n"
     ]
    },
    {
     "data": {
      "application/vnd.jupyter.widget-view+json": {
       "model_id": "c7df7372397f41cd862559a609803279",
       "version_major": 2,
       "version_minor": 0
      },
      "text/plain": [
       "HBox(children=(HTML(value=''), FloatProgress(value=0.0, max=1.0), HTML(value='')))"
      ]
     },
     "metadata": {},
     "output_type": "display_data"
    },
    {
     "name": "stdout",
     "output_type": "stream",
     "text": [
      "\n",
      "> Vote totals verified — no errors\n",
      "————————————————————————————————————————————————————————————\n",
      "Loading Jackson Trail Fire Advisory Board Post 1.csv data...\n",
      " > Found data for 1 counties (1%)\n",
      "Verifying vote totals...\n"
     ]
    },
    {
     "data": {
      "application/vnd.jupyter.widget-view+json": {
       "model_id": "4ee94d0129294eb39ca80d3a01375855",
       "version_major": 2,
       "version_minor": 0
      },
      "text/plain": [
       "HBox(children=(HTML(value=''), FloatProgress(value=0.0, max=1.0), HTML(value='')))"
      ]
     },
     "metadata": {},
     "output_type": "display_data"
    },
    {
     "name": "stdout",
     "output_type": "stream",
     "text": [
      "\n",
      "> Vote totals verified — no errors\n",
      "————————————————————————————————————————————————————————————\n",
      "Loading State House Dist 6.csv data...\n",
      " > Found data for 2 counties (1%)\n",
      "Verifying vote totals...\n"
     ]
    },
    {
     "data": {
      "application/vnd.jupyter.widget-view+json": {
       "model_id": "f88451e074324b12a8215d66525a8678",
       "version_major": 2,
       "version_minor": 0
      },
      "text/plain": [
       "HBox(children=(HTML(value=''), FloatProgress(value=0.0, max=1.0), HTML(value='')))"
      ]
     },
     "metadata": {},
     "output_type": "display_data"
    },
    {
     "name": "stdout",
     "output_type": "stream",
     "text": [
      "\n",
      "> Vote totals verified — no errors\n",
      "————————————————————————————————————————————————————————————\n",
      "Loading State Senate Dist 41.csv data...\n",
      " > Found data for 2 counties (1%)\n",
      "Verifying vote totals...\n"
     ]
    },
    {
     "data": {
      "application/vnd.jupyter.widget-view+json": {
       "model_id": "477e42087766425cb8cccb6df24a09db",
       "version_major": 2,
       "version_minor": 0
      },
      "text/plain": [
       "HBox(children=(HTML(value=''), FloatProgress(value=0.0, max=2.0), HTML(value='')))"
      ]
     },
     "metadata": {},
     "output_type": "display_data"
    },
    {
     "name": "stdout",
     "output_type": "stream",
     "text": [
      "\n",
      "> Vote totals verified — no errors\n",
      "————————————————————————————————————————————————————————————\n",
      "Loading State House Dist 64.csv data...\n",
      " > Found data for 2 counties (1%)\n",
      "Verifying vote totals...\n"
     ]
    },
    {
     "data": {
      "application/vnd.jupyter.widget-view+json": {
       "model_id": "255496b731f94ed8bbdfe0c5960cc702",
       "version_major": 2,
       "version_minor": 0
      },
      "text/plain": [
       "HBox(children=(HTML(value=''), FloatProgress(value=0.0, max=1.0), HTML(value='')))"
      ]
     },
     "metadata": {},
     "output_type": "display_data"
    },
    {
     "name": "stdout",
     "output_type": "stream",
     "text": [
      "\n",
      "> Vote totals verified — no errors\n",
      "————————————————————————————————————————————————————————————\n",
      "Loading Dist Attorney - Mountain.csv data...\n",
      " > Found data for 3 counties (2%)\n",
      "Verifying vote totals...\n"
     ]
    },
    {
     "data": {
      "application/vnd.jupyter.widget-view+json": {
       "model_id": "41386ea42c3241a6b51ad860b3cc378c",
       "version_major": 2,
       "version_minor": 0
      },
      "text/plain": [
       "HBox(children=(HTML(value=''), FloatProgress(value=0.0, max=1.0), HTML(value='')))"
      ]
     },
     "metadata": {},
     "output_type": "display_data"
    },
    {
     "name": "stdout",
     "output_type": "stream",
     "text": [
      "\n",
      "> Vote totals verified — no errors\n",
      "————————————————————————————————————————————————————————————\n",
      "Loading Board of Education Vice Chair.csv data...\n",
      " > Found data for 1 counties (1%)\n",
      "Verifying vote totals...\n"
     ]
    },
    {
     "data": {
      "application/vnd.jupyter.widget-view+json": {
       "model_id": "74cb4af960924ded947bb0a8950bfc9b",
       "version_major": 2,
       "version_minor": 0
      },
      "text/plain": [
       "HBox(children=(HTML(value=''), FloatProgress(value=0.0, max=1.0), HTML(value='')))"
      ]
     },
     "metadata": {},
     "output_type": "display_data"
    },
    {
     "name": "stdout",
     "output_type": "stream",
     "text": [
      "\n",
      "> Vote totals verified — no errors\n",
      "————————————————————————————————————————————————————————————\n",
      "Loading US House Dist 6.csv data...\n",
      " > Found data for 3 counties (2%)\n",
      "Verifying vote totals...\n"
     ]
    },
    {
     "data": {
      "application/vnd.jupyter.widget-view+json": {
       "model_id": "d981892cce7543bda2a693181a058d70",
       "version_major": 2,
       "version_minor": 0
      },
      "text/plain": [
       "HBox(children=(HTML(value=''), FloatProgress(value=0.0, max=2.0), HTML(value='')))"
      ]
     },
     "metadata": {},
     "output_type": "display_data"
    },
    {
     "name": "stdout",
     "output_type": "stream",
     "text": [
      "\n",
      "> Vote totals verified — no errors\n",
      "————————————————————————————————————————————————————————————\n",
      "Loading Soil and Water - Towaliga.csv data...\n",
      " > Found data for 3 counties (2%)\n",
      "Verifying vote totals...\n"
     ]
    },
    {
     "data": {
      "application/vnd.jupyter.widget-view+json": {
       "model_id": "bc990ed4ea7c451a869c1a3cdbfb53f7",
       "version_major": 2,
       "version_minor": 0
      },
      "text/plain": [
       "HBox(children=(HTML(value=''), FloatProgress(value=0.0, max=3.0), HTML(value='')))"
      ]
     },
     "metadata": {},
     "output_type": "display_data"
    },
    {
     "name": "stdout",
     "output_type": "stream",
     "text": [
      "\n",
      "> Vote totals verified — no errors\n",
      "————————————————————————————————————————————————————————————\n",
      "Loading Adairsville City Council Post 4 - Special.csv data...\n",
      " > Found data for 1 counties (1%)\n",
      "Verifying vote totals...\n"
     ]
    },
    {
     "data": {
      "application/vnd.jupyter.widget-view+json": {
       "model_id": "b8aedcbad59b4dde8305374857611cbe",
       "version_major": 2,
       "version_minor": 0
      },
      "text/plain": [
       "HBox(children=(HTML(value=''), FloatProgress(value=0.0, max=6.0), HTML(value='')))"
      ]
     },
     "metadata": {},
     "output_type": "display_data"
    },
    {
     "name": "stdout",
     "output_type": "stream",
     "text": [
      "\n",
      "> Vote totals verified — no errors\n",
      "————————————————————————————————————————————————————————————\n",
      "Loading ESPLOST - Special.csv data...\n",
      " > Found data for 1 counties (1%)\n",
      "Verifying vote totals...\n"
     ]
    },
    {
     "data": {
      "application/vnd.jupyter.widget-view+json": {
       "model_id": "c0f55607bc6641839a5461c1fdf917ba",
       "version_major": 2,
       "version_minor": 0
      },
      "text/plain": [
       "HBox(children=(HTML(value=''), FloatProgress(value=0.0, max=2.0), HTML(value='')))"
      ]
     },
     "metadata": {},
     "output_type": "display_data"
    },
    {
     "name": "stdout",
     "output_type": "stream",
     "text": [
      "\n",
      "> Vote totals verified — no errors\n",
      "————————————————————————————————————————————————————————————\n",
      "Loading State House Dist 83.csv data...\n",
      " > Found data for 1 counties (1%)\n",
      "Verifying vote totals...\n"
     ]
    },
    {
     "data": {
      "application/vnd.jupyter.widget-view+json": {
       "model_id": "076d1a2a2ab04ad4a871b70af3dcceb2",
       "version_major": 2,
       "version_minor": 0
      },
      "text/plain": [
       "HBox(children=(HTML(value=''), FloatProgress(value=0.0, max=1.0), HTML(value='')))"
      ]
     },
     "metadata": {},
     "output_type": "display_data"
    },
    {
     "name": "stdout",
     "output_type": "stream",
     "text": [
      "\n",
      "> Vote totals verified — no errors\n",
      "————————————————————————————————————————————————————————————\n",
      "Loading State House Dist 79.csv data...\n",
      " > Found data for 1 counties (1%)\n",
      "Verifying vote totals...\n"
     ]
    },
    {
     "data": {
      "application/vnd.jupyter.widget-view+json": {
       "model_id": "7a8a155409b1431c89c164bc6ca9c72d",
       "version_major": 2,
       "version_minor": 0
      },
      "text/plain": [
       "HBox(children=(HTML(value=''), FloatProgress(value=0.0, max=2.0), HTML(value='')))"
      ]
     },
     "metadata": {},
     "output_type": "display_data"
    },
    {
     "name": "stdout",
     "output_type": "stream",
     "text": [
      "\n",
      "> Vote totals verified — no errors\n",
      "————————————————————————————————————————————————————————————\n",
      "Loading County Commission Dist 5 (At Large).csv data...\n",
      " > Found data for 1 counties (1%)\n",
      "Verifying vote totals...\n"
     ]
    },
    {
     "data": {
      "application/vnd.jupyter.widget-view+json": {
       "model_id": "eb554e13189d4f8ebc923fb0464294d2",
       "version_major": 2,
       "version_minor": 0
      },
      "text/plain": [
       "HBox(children=(HTML(value=''), FloatProgress(value=0.0, max=2.0), HTML(value='')))"
      ]
     },
     "metadata": {},
     "output_type": "display_data"
    },
    {
     "name": "stdout",
     "output_type": "stream",
     "text": [
      "\n",
      "> Vote totals verified — no errors\n",
      "————————————————————————————————————————————————————————————\n",
      "Loading State Senate Dist 35.csv data...\n",
      " > Found data for 2 counties (1%)\n",
      "Verifying vote totals...\n"
     ]
    },
    {
     "data": {
      "application/vnd.jupyter.widget-view+json": {
       "model_id": "58a28cf3414347638b1cbb6734bdc5ab",
       "version_major": 2,
       "version_minor": 0
      },
      "text/plain": [
       "HBox(children=(HTML(value=''), FloatProgress(value=0.0, max=1.0), HTML(value='')))"
      ]
     },
     "metadata": {},
     "output_type": "display_data"
    },
    {
     "name": "stdout",
     "output_type": "stream",
     "text": [
      "\n",
      "> Vote totals verified — no errors\n",
      "————————————————————————————————————————————————————————————\n",
      "Loading Harrisburg Fire Advisory Board Post 7.csv data...\n",
      " > Found data for 1 counties (1%)\n",
      "Verifying vote totals...\n"
     ]
    },
    {
     "data": {
      "application/vnd.jupyter.widget-view+json": {
       "model_id": "e44abdac6fa4482e9e10725ba003b732",
       "version_major": 2,
       "version_minor": 0
      },
      "text/plain": [
       "HBox(children=(HTML(value=''), FloatProgress(value=0.0, max=1.0), HTML(value='')))"
      ]
     },
     "metadata": {},
     "output_type": "display_data"
    },
    {
     "name": "stdout",
     "output_type": "stream",
     "text": [
      "\n",
      "> Vote totals verified — no errors\n",
      "————————————————————————————————————————————————————————————\n",
      "Loading Co Commission Chair.csv data...\n",
      " > Found data for 1 counties (1%)\n",
      "Verifying vote totals...\n"
     ]
    },
    {
     "data": {
      "application/vnd.jupyter.widget-view+json": {
       "model_id": "a13edd66e10845d2aac4e18c6fd56e3a",
       "version_major": 2,
       "version_minor": 0
      },
      "text/plain": [
       "HBox(children=(HTML(value=''), FloatProgress(value=0.0, max=2.0), HTML(value='')))"
      ]
     },
     "metadata": {},
     "output_type": "display_data"
    },
    {
     "name": "stdout",
     "output_type": "stream",
     "text": [
      "\n",
      "> Vote totals verified — no errors\n",
      "————————————————————————————————————————————————————————————\n",
      "Loading County Commission Dist 5.csv data...\n",
      " > Found data for 41 counties (26%)\n",
      "Verifying vote totals...\n"
     ]
    },
    {
     "data": {
      "application/vnd.jupyter.widget-view+json": {
       "model_id": "98fcf81cc0124a84b99f8613a8569996",
       "version_major": 2,
       "version_minor": 0
      },
      "text/plain": [
       "HBox(children=(HTML(value=''), FloatProgress(value=0.0, max=50.0), HTML(value='')))"
      ]
     },
     "metadata": {},
     "output_type": "display_data"
    },
    {
     "name": "stdout",
     "output_type": "stream",
     "text": [
      "\n",
      ">>> Vote totals verified — 0.00029 error rate\n",
      "————————————————————————————————————————————————————————————\n",
      "Loading Soil and Water - Blue Ridge Mountain.csv data...\n",
      " > Found data for 1 counties (1%)\n",
      "Verifying vote totals...\n"
     ]
    },
    {
     "data": {
      "application/vnd.jupyter.widget-view+json": {
       "model_id": "73d335b446f14e8e8a1a945619cb1945",
       "version_major": 2,
       "version_minor": 0
      },
      "text/plain": [
       "HBox(children=(HTML(value=''), FloatProgress(value=0.0, max=1.0), HTML(value='')))"
      ]
     },
     "metadata": {},
     "output_type": "display_data"
    },
    {
     "name": "stdout",
     "output_type": "stream",
     "text": [
      "\n",
      "> Vote totals verified — no errors\n",
      "————————————————————————————————————————————————————————————\n",
      "Loading State House Dist 163.csv data...\n",
      " > Found data for 1 counties (1%)\n",
      "Verifying vote totals...\n"
     ]
    },
    {
     "data": {
      "application/vnd.jupyter.widget-view+json": {
       "model_id": "b7c866c6210c4b83891651299a6ab612",
       "version_major": 2,
       "version_minor": 0
      },
      "text/plain": [
       "HBox(children=(HTML(value=''), FloatProgress(value=0.0, max=1.0), HTML(value='')))"
      ]
     },
     "metadata": {},
     "output_type": "display_data"
    },
    {
     "name": "stdout",
     "output_type": "stream",
     "text": [
      "\n",
      "> Vote totals verified — no errors\n",
      "————————————————————————————————————————————————————————————\n",
      "Loading State House Dist 118.csv data...\n",
      " > Found data for 1 counties (1%)\n",
      "Verifying vote totals...\n"
     ]
    },
    {
     "data": {
      "application/vnd.jupyter.widget-view+json": {
       "model_id": "9a7e030d2e7a4fa8ae840a30e0bd4636",
       "version_major": 2,
       "version_minor": 0
      },
      "text/plain": [
       "HBox(children=(HTML(value=''), FloatProgress(value=0.0, max=1.0), HTML(value='')))"
      ]
     },
     "metadata": {},
     "output_type": "display_data"
    },
    {
     "name": "stdout",
     "output_type": "stream",
     "text": [
      "\n",
      "> Vote totals verified — no errors\n",
      "————————————————————————————————————————————————————————————\n",
      "Loading US House Dist 12.csv data...\n",
      " > Found data for 19 counties (12%)\n",
      "Verifying vote totals...\n"
     ]
    },
    {
     "data": {
      "application/vnd.jupyter.widget-view+json": {
       "model_id": "519c659c32404d8ea477dfb5af5918e1",
       "version_major": 2,
       "version_minor": 0
      },
      "text/plain": [
       "HBox(children=(HTML(value=''), FloatProgress(value=0.0, max=2.0), HTML(value='')))"
      ]
     },
     "metadata": {},
     "output_type": "display_data"
    },
    {
     "name": "stdout",
     "output_type": "stream",
     "text": [
      "\n",
      "> Vote totals verified — no errors\n",
      "————————————————————————————————————————————————————————————\n",
      "Loading Holly Springs City Council Ward 5.csv data...\n",
      " > Found data for 1 counties (1%)\n",
      "Verifying vote totals...\n"
     ]
    },
    {
     "data": {
      "application/vnd.jupyter.widget-view+json": {
       "model_id": "cb69786fb83346359af0f3ac4194e96c",
       "version_major": 2,
       "version_minor": 0
      },
      "text/plain": [
       "HBox(children=(HTML(value=''), FloatProgress(value=0.0, max=1.0), HTML(value='')))"
      ]
     },
     "metadata": {},
     "output_type": "display_data"
    },
    {
     "name": "stdout",
     "output_type": "stream",
     "text": [
      "\n",
      "> Vote totals verified — no errors\n",
      "————————————————————————————————————————————————————————————\n",
      "Loading State House Dist 35.csv data...\n",
      " > Found data for 1 counties (1%)\n",
      "Verifying vote totals...\n"
     ]
    },
    {
     "data": {
      "application/vnd.jupyter.widget-view+json": {
       "model_id": "24fc235af6e34660bf7ccacdb9b5db3a",
       "version_major": 2,
       "version_minor": 0
      },
      "text/plain": [
       "HBox(children=(HTML(value=''), FloatProgress(value=0.0, max=2.0), HTML(value='')))"
      ]
     },
     "metadata": {},
     "output_type": "display_data"
    },
    {
     "name": "stdout",
     "output_type": "stream",
     "text": [
      "\n",
      "> Vote totals verified — no errors\n",
      "————————————————————————————————————————————————————————————\n",
      "Loading Soil and Water - Warren County.csv data...\n",
      " > Found data for 1 counties (1%)\n",
      "Verifying vote totals...\n"
     ]
    },
    {
     "data": {
      "application/vnd.jupyter.widget-view+json": {
       "model_id": "601d75ce3dbf4cda88c2e6407d2433e6",
       "version_major": 2,
       "version_minor": 0
      },
      "text/plain": [
       "HBox(children=(HTML(value=''), FloatProgress(value=0.0, max=1.0), HTML(value='')))"
      ]
     },
     "metadata": {},
     "output_type": "display_data"
    },
    {
     "name": "stdout",
     "output_type": "stream",
     "text": [
      "\n",
      "> Vote totals verified — no errors\n",
      "————————————————————————————————————————————————————————————\n",
      "Loading Tennille Council Dist 2 Post 1 - Special.csv data...\n",
      " > Found data for 1 counties (1%)\n",
      "Verifying vote totals...\n"
     ]
    },
    {
     "data": {
      "application/vnd.jupyter.widget-view+json": {
       "model_id": "b3dccc957b6a40e9800614ce5fbeddc3",
       "version_major": 2,
       "version_minor": 0
      },
      "text/plain": [
       "HBox(children=(HTML(value=''), FloatProgress(value=0.0, max=2.0), HTML(value='')))"
      ]
     },
     "metadata": {},
     "output_type": "display_data"
    },
    {
     "name": "stdout",
     "output_type": "stream",
     "text": [
      "\n",
      "> Vote totals verified — no errors\n",
      "————————————————————————————————————————————————————————————\n",
      "Loading Ray City Council - Special.csv data...\n",
      " > Found data for 1 counties (1%)\n",
      "Verifying vote totals...\n"
     ]
    },
    {
     "data": {
      "application/vnd.jupyter.widget-view+json": {
       "model_id": "1d73acef47be469e9b244a2926cb0878",
       "version_major": 2,
       "version_minor": 0
      },
      "text/plain": [
       "HBox(children=(HTML(value=''), FloatProgress(value=0.0, max=2.0), HTML(value='')))"
      ]
     },
     "metadata": {},
     "output_type": "display_data"
    },
    {
     "name": "stdout",
     "output_type": "stream",
     "text": [
      "\n",
      "> Vote totals verified — no errors\n",
      "————————————————————————————————————————————————————————————\n",
      "Loading State House Dist 17.csv data...\n",
      " > Found data for 1 counties (1%)\n",
      "Verifying vote totals...\n"
     ]
    },
    {
     "data": {
      "application/vnd.jupyter.widget-view+json": {
       "model_id": "dd67c38daad34bfe8971a8531f6373db",
       "version_major": 2,
       "version_minor": 0
      },
      "text/plain": [
       "HBox(children=(HTML(value=''), FloatProgress(value=0.0, max=2.0), HTML(value='')))"
      ]
     },
     "metadata": {},
     "output_type": "display_data"
    },
    {
     "name": "stdout",
     "output_type": "stream",
     "text": [
      "\n",
      "> Vote totals verified — no errors\n",
      "————————————————————————————————————————————————————————————\n",
      "Loading West Jackson Fire Advisory Board Post 5.csv data...\n",
      " > Found data for 1 counties (1%)\n",
      "Verifying vote totals...\n"
     ]
    },
    {
     "data": {
      "application/vnd.jupyter.widget-view+json": {
       "model_id": "c578ed234f2d4c48a47f7f73ddcedc45",
       "version_major": 2,
       "version_minor": 0
      },
      "text/plain": [
       "HBox(children=(HTML(value=''), FloatProgress(value=0.0, max=1.0), HTML(value='')))"
      ]
     },
     "metadata": {},
     "output_type": "display_data"
    },
    {
     "name": "stdout",
     "output_type": "stream",
     "text": [
      "\n",
      "> Vote totals verified — no errors\n",
      "————————————————————————————————————————————————————————————\n",
      "Loading County Commissioner Dist 5.csv data...\n",
      " > Found data for 1 counties (1%)\n",
      "Verifying vote totals...\n"
     ]
    },
    {
     "data": {
      "application/vnd.jupyter.widget-view+json": {
       "model_id": "07c9ae0e0d9e4a20a67c78a9e0f94ef6",
       "version_major": 2,
       "version_minor": 0
      },
      "text/plain": [
       "HBox(children=(HTML(value=''), FloatProgress(value=0.0, max=2.0), HTML(value='')))"
      ]
     },
     "metadata": {},
     "output_type": "display_data"
    },
    {
     "name": "stdout",
     "output_type": "stream",
     "text": [
      "\n",
      "> Vote totals verified — no errors\n",
      "————————————————————————————————————————————————————————————\n",
      "Loading State Senate Dist 42.csv data...\n",
      " > Found data for 1 counties (1%)\n",
      "Verifying vote totals...\n"
     ]
    },
    {
     "data": {
      "application/vnd.jupyter.widget-view+json": {
       "model_id": "cf72aff7a3cb4fbc868360c735b3ebb6",
       "version_major": 2,
       "version_minor": 0
      },
      "text/plain": [
       "HBox(children=(HTML(value=''), FloatProgress(value=0.0, max=1.0), HTML(value='')))"
      ]
     },
     "metadata": {},
     "output_type": "display_data"
    },
    {
     "name": "stdout",
     "output_type": "stream",
     "text": [
      "\n",
      "> Vote totals verified — no errors\n",
      "————————————————————————————————————————————————————————————\n",
      "Loading State Senate Dist 48.csv data...\n",
      " > Found data for 2 counties (1%)\n",
      "Verifying vote totals...\n"
     ]
    },
    {
     "data": {
      "application/vnd.jupyter.widget-view+json": {
       "model_id": "c262a7b0458a45baa55391ce951864de",
       "version_major": 2,
       "version_minor": 0
      },
      "text/plain": [
       "HBox(children=(HTML(value=''), FloatProgress(value=0.0, max=2.0), HTML(value='')))"
      ]
     },
     "metadata": {},
     "output_type": "display_data"
    },
    {
     "name": "stdout",
     "output_type": "stream",
     "text": [
      "\n",
      "> Vote totals verified — no errors\n",
      "————————————————————————————————————————————————————————————\n",
      "Loading State Senate Dist 13.csv data...\n",
      " > Found data for 9 counties (6%)\n",
      "Verifying vote totals...\n"
     ]
    },
    {
     "data": {
      "application/vnd.jupyter.widget-view+json": {
       "model_id": "7a9e8f5b9d17425398bf4e824084240a",
       "version_major": 2,
       "version_minor": 0
      },
      "text/plain": [
       "HBox(children=(HTML(value=''), FloatProgress(value=0.0, max=2.0), HTML(value='')))"
      ]
     },
     "metadata": {},
     "output_type": "display_data"
    },
    {
     "name": "stdout",
     "output_type": "stream",
     "text": [
      "\n",
      "> Vote totals verified — no errors\n",
      "————————————————————————————————————————————————————————————\n",
      "Loading Dist Attorney - Toombs.csv data...\n",
      " > Found data for 6 counties (4%)\n",
      "Verifying vote totals...\n"
     ]
    },
    {
     "data": {
      "application/vnd.jupyter.widget-view+json": {
       "model_id": "bf98db4808ea4471bc0825789928713d",
       "version_major": 2,
       "version_minor": 0
      },
      "text/plain": [
       "HBox(children=(HTML(value=''), FloatProgress(value=0.0, max=1.0), HTML(value='')))"
      ]
     },
     "metadata": {},
     "output_type": "display_data"
    },
    {
     "name": "stdout",
     "output_type": "stream",
     "text": [
      "\n",
      "> Vote totals verified — no errors\n",
      "————————————————————————————————————————————————————————————\n",
      "Loading State House Dist 44.csv data...\n",
      " > Found data for 1 counties (1%)\n",
      "Verifying vote totals...\n"
     ]
    },
    {
     "data": {
      "application/vnd.jupyter.widget-view+json": {
       "model_id": "8c7e141658dc453581a4b0c25d5ed471",
       "version_major": 2,
       "version_minor": 0
      },
      "text/plain": [
       "HBox(children=(HTML(value=''), FloatProgress(value=0.0, max=2.0), HTML(value='')))"
      ]
     },
     "metadata": {},
     "output_type": "display_data"
    },
    {
     "name": "stdout",
     "output_type": "stream",
     "text": [
      "\n",
      "> Vote totals verified — no errors\n",
      "————————————————————————————————————————————————————————————\n",
      "Loading Dist Attorney - Middle.csv data...\n",
      " > Found data for 5 counties (3%)\n",
      "Verifying vote totals...\n"
     ]
    },
    {
     "data": {
      "application/vnd.jupyter.widget-view+json": {
       "model_id": "4d77740e43e446459d9cdbce9a43b298",
       "version_major": 2,
       "version_minor": 0
      },
      "text/plain": [
       "HBox(children=(HTML(value=''), FloatProgress(value=0.0, max=1.0), HTML(value='')))"
      ]
     },
     "metadata": {},
     "output_type": "display_data"
    },
    {
     "name": "stdout",
     "output_type": "stream",
     "text": [
      "\n",
      "> Vote totals verified — no errors\n",
      "————————————————————————————————————————————————————————————\n",
      "Loading County Commission Dist 1 - Special.csv data...\n",
      " > Found data for 2 counties (1%)\n",
      "Verifying vote totals...\n"
     ]
    },
    {
     "data": {
      "application/vnd.jupyter.widget-view+json": {
       "model_id": "f61d7a6c797141729b37dee53d4e8f1e",
       "version_major": 2,
       "version_minor": 0
      },
      "text/plain": [
       "HBox(children=(HTML(value=''), FloatProgress(value=0.0, max=3.0), HTML(value='')))"
      ]
     },
     "metadata": {},
     "output_type": "display_data"
    },
    {
     "name": "stdout",
     "output_type": "stream",
     "text": [
      "\n",
      "> Vote totals verified — no errors\n",
      "————————————————————————————————————————————————————————————\n",
      "Loading State House Dist 58.csv data...\n",
      " > Found data for 1 counties (1%)\n",
      "Verifying vote totals...\n"
     ]
    },
    {
     "data": {
      "application/vnd.jupyter.widget-view+json": {
       "model_id": "951d93be6cd84f9d884047ac5f6202f1",
       "version_major": 2,
       "version_minor": 0
      },
      "text/plain": [
       "HBox(children=(HTML(value=''), FloatProgress(value=0.0, max=1.0), HTML(value='')))"
      ]
     },
     "metadata": {},
     "output_type": "display_data"
    },
    {
     "name": "stdout",
     "output_type": "stream",
     "text": [
      "\n",
      "> Vote totals verified — no errors\n",
      "————————————————————————————————————————————————————————————\n",
      "Loading State Senate Dist 8.csv data...\n",
      " > Found data for 7 counties (4%)\n",
      "Verifying vote totals...\n"
     ]
    },
    {
     "data": {
      "application/vnd.jupyter.widget-view+json": {
       "model_id": "c87c648346484deebc4a4dd18a938419",
       "version_major": 2,
       "version_minor": 0
      },
      "text/plain": [
       "HBox(children=(HTML(value=''), FloatProgress(value=0.0, max=2.0), HTML(value='')))"
      ]
     },
     "metadata": {},
     "output_type": "display_data"
    },
    {
     "name": "stdout",
     "output_type": "stream",
     "text": [
      "\n",
      "> Vote totals verified — no errors\n",
      "————————————————————————————————————————————————————————————\n",
      "Loading US House Dist 10.csv data...\n",
      " > Found data for 25 counties (16%)\n",
      "Verifying vote totals...\n"
     ]
    },
    {
     "data": {
      "application/vnd.jupyter.widget-view+json": {
       "model_id": "644d6db198d148f8a93637fb085bdcff",
       "version_major": 2,
       "version_minor": 0
      },
      "text/plain": [
       "HBox(children=(HTML(value=''), FloatProgress(value=0.0, max=2.0), HTML(value='')))"
      ]
     },
     "metadata": {},
     "output_type": "display_data"
    },
    {
     "name": "stdout",
     "output_type": "stream",
     "text": [
      "\n",
      "> Vote totals verified — no errors\n",
      "————————————————————————————————————————————————————————————\n",
      "Loading State House Dist 74.csv data...\n",
      " > Found data for 1 counties (1%)\n",
      "Verifying vote totals...\n"
     ]
    },
    {
     "data": {
      "application/vnd.jupyter.widget-view+json": {
       "model_id": "dc4a1f52200e43c3a036bc2d30137967",
       "version_major": 2,
       "version_minor": 0
      },
      "text/plain": [
       "HBox(children=(HTML(value=''), FloatProgress(value=0.0, max=1.0), HTML(value='')))"
      ]
     },
     "metadata": {},
     "output_type": "display_data"
    },
    {
     "name": "stdout",
     "output_type": "stream",
     "text": [
      "\n",
      "> Vote totals verified — no errors\n",
      "————————————————————————————————————————————————————————————\n",
      "Loading State Senate Dist 7.csv data...\n",
      " > Found data for 10 counties (6%)\n",
      "Verifying vote totals...\n"
     ]
    },
    {
     "data": {
      "application/vnd.jupyter.widget-view+json": {
       "model_id": "e654b7f1e8c847959b041938d237cfc4",
       "version_major": 2,
       "version_minor": 0
      },
      "text/plain": [
       "HBox(children=(HTML(value=''), FloatProgress(value=0.0, max=1.0), HTML(value='')))"
      ]
     },
     "metadata": {},
     "output_type": "display_data"
    },
    {
     "name": "stdout",
     "output_type": "stream",
     "text": [
      "\n",
      "> Vote totals verified — no errors\n",
      "————————————————————————————————————————————————————————————\n",
      "Loading State House Dist 5.csv data...\n",
      " > Found data for 2 counties (1%)\n",
      "Verifying vote totals...\n"
     ]
    },
    {
     "data": {
      "application/vnd.jupyter.widget-view+json": {
       "model_id": "3c4edcc74eac4c7e979d8ee4321e482f",
       "version_major": 2,
       "version_minor": 0
      },
      "text/plain": [
       "HBox(children=(HTML(value=''), FloatProgress(value=0.0, max=1.0), HTML(value='')))"
      ]
     },
     "metadata": {},
     "output_type": "display_data"
    },
    {
     "name": "stdout",
     "output_type": "stream",
     "text": [
      "\n",
      "> Vote totals verified — no errors\n",
      "————————————————————————————————————————————————————————————\n",
      "Loading County Commissioner At Large.csv data...\n",
      " > Found data for 4 counties (3%)\n",
      "Verifying vote totals...\n"
     ]
    },
    {
     "data": {
      "application/vnd.jupyter.widget-view+json": {
       "model_id": "de957ec095b4488092e1592ea75b0caa",
       "version_major": 2,
       "version_minor": 0
      },
      "text/plain": [
       "HBox(children=(HTML(value=''), FloatProgress(value=0.0, max=5.0), HTML(value='')))"
      ]
     },
     "metadata": {},
     "output_type": "display_data"
    },
    {
     "name": "stdout",
     "output_type": "stream",
     "text": [
      "\n",
      "> Vote totals verified — no errors\n",
      "————————————————————————————————————————————————————————————\n",
      "Loading State House Dist 11.csv data...\n",
      " > Found data for 3 counties (2%)\n",
      "Verifying vote totals...\n"
     ]
    },
    {
     "data": {
      "application/vnd.jupyter.widget-view+json": {
       "model_id": "8fcbc331ba974a16b49bb2c3302b0422",
       "version_major": 2,
       "version_minor": 0
      },
      "text/plain": [
       "HBox(children=(HTML(value=''), FloatProgress(value=0.0, max=2.0), HTML(value='')))"
      ]
     },
     "metadata": {},
     "output_type": "display_data"
    },
    {
     "name": "stdout",
     "output_type": "stream",
     "text": [
      "\n",
      "> Vote totals verified — no errors\n",
      "————————————————————————————————————————————————————————————\n",
      "Loading State House Dist 148.csv data...\n",
      " > Found data for 4 counties (3%)\n",
      "Verifying vote totals...\n"
     ]
    },
    {
     "data": {
      "application/vnd.jupyter.widget-view+json": {
       "model_id": "4898fcc8d6914ac5805386fbfe01a807",
       "version_major": 2,
       "version_minor": 0
      },
      "text/plain": [
       "HBox(children=(HTML(value=''), FloatProgress(value=0.0, max=2.0), HTML(value='')))"
      ]
     },
     "metadata": {},
     "output_type": "display_data"
    },
    {
     "name": "stdout",
     "output_type": "stream",
     "text": [
      "\n",
      "> Vote totals verified — no errors\n",
      "————————————————————————————————————————————————————————————\n",
      "Loading Watkinsville City Council Post 3.csv data...\n",
      " > Found data for 1 counties (1%)\n",
      "Verifying vote totals...\n"
     ]
    },
    {
     "data": {
      "application/vnd.jupyter.widget-view+json": {
       "model_id": "52dd13952f3640baab3efe12bccf4cd0",
       "version_major": 2,
       "version_minor": 0
      },
      "text/plain": [
       "HBox(children=(HTML(value=''), FloatProgress(value=0.0, max=2.0), HTML(value='')))"
      ]
     },
     "metadata": {},
     "output_type": "display_data"
    },
    {
     "name": "stdout",
     "output_type": "stream",
     "text": [
      "\n",
      "> Vote totals verified — no errors\n",
      "————————————————————————————————————————————————————————————\n",
      "Loading Dist Attorney - Southwestern - Special.csv data...\n",
      " > Found data for 6 counties (4%)\n",
      "Verifying vote totals...\n"
     ]
    },
    {
     "data": {
      "application/vnd.jupyter.widget-view+json": {
       "model_id": "366a043fb4de4ee4823530be9692d04d",
       "version_major": 2,
       "version_minor": 0
      },
      "text/plain": [
       "HBox(children=(HTML(value=''), FloatProgress(value=0.0, max=1.0), HTML(value='')))"
      ]
     },
     "metadata": {},
     "output_type": "display_data"
    },
    {
     "name": "stdout",
     "output_type": "stream",
     "text": [
      "\n",
      "> Vote totals verified — no errors\n",
      "————————————————————————————————————————————————————————————\n",
      "Loading State House Dist 137.csv data...\n",
      " > Found data for 4 counties (3%)\n",
      "Verifying vote totals...\n"
     ]
    },
    {
     "data": {
      "application/vnd.jupyter.widget-view+json": {
       "model_id": "e55ef114bdb247e8ab41a243087e76a0",
       "version_major": 2,
       "version_minor": 0
      },
      "text/plain": [
       "HBox(children=(HTML(value=''), FloatProgress(value=0.0, max=1.0), HTML(value='')))"
      ]
     },
     "metadata": {},
     "output_type": "display_data"
    },
    {
     "name": "stdout",
     "output_type": "stream",
     "text": [
      "\n",
      "> Vote totals verified — no errors\n",
      "————————————————————————————————————————————————————————————\n",
      "Loading State House Dist 115.csv data...\n",
      " > Found data for 1 counties (1%)\n",
      "Verifying vote totals...\n"
     ]
    },
    {
     "data": {
      "application/vnd.jupyter.widget-view+json": {
       "model_id": "201a167dffce47979247af513cc38f2d",
       "version_major": 2,
       "version_minor": 0
      },
      "text/plain": [
       "HBox(children=(HTML(value=''), FloatProgress(value=0.0, max=2.0), HTML(value='')))"
      ]
     },
     "metadata": {},
     "output_type": "display_data"
    },
    {
     "name": "stdout",
     "output_type": "stream",
     "text": [
      "\n",
      "> Vote totals verified — no errors\n",
      "————————————————————————————————————————————————————————————\n",
      "Loading Dawson City Council Ward 1.csv data...\n",
      " > Found data for 1 counties (1%)\n",
      "Verifying vote totals...\n"
     ]
    },
    {
     "data": {
      "application/vnd.jupyter.widget-view+json": {
       "model_id": "ae550acced1a4720b28929ce3b7fd970",
       "version_major": 2,
       "version_minor": 0
      },
      "text/plain": [
       "HBox(children=(HTML(value=''), FloatProgress(value=0.0, max=2.0), HTML(value='')))"
      ]
     },
     "metadata": {},
     "output_type": "display_data"
    },
    {
     "name": "stdout",
     "output_type": "stream",
     "text": [
      "\n",
      "> Vote totals verified — no errors\n",
      "————————————————————————————————————————————————————————————\n",
      "Loading State Senate Dist 30.csv data...\n",
      " > Found data for 3 counties (2%)\n",
      "Verifying vote totals...\n"
     ]
    },
    {
     "data": {
      "application/vnd.jupyter.widget-view+json": {
       "model_id": "6eefec4b949d43a891bced9630770095",
       "version_major": 2,
       "version_minor": 0
      },
      "text/plain": [
       "HBox(children=(HTML(value=''), FloatProgress(value=0.0, max=2.0), HTML(value='')))"
      ]
     },
     "metadata": {},
     "output_type": "display_data"
    },
    {
     "name": "stdout",
     "output_type": "stream",
     "text": [
      "\n",
      "> Vote totals verified — no errors\n",
      "————————————————————————————————————————————————————————————\n",
      "Loading State House Dist 140.csv data...\n",
      " > Found data for 5 counties (3%)\n",
      "Verifying vote totals...\n"
     ]
    },
    {
     "data": {
      "application/vnd.jupyter.widget-view+json": {
       "model_id": "e465d2f7671a4ceaad1757bc3845ab4e",
       "version_major": 2,
       "version_minor": 0
      },
      "text/plain": [
       "HBox(children=(HTML(value=''), FloatProgress(value=0.0, max=1.0), HTML(value='')))"
      ]
     },
     "metadata": {},
     "output_type": "display_data"
    },
    {
     "name": "stdout",
     "output_type": "stream",
     "text": [
      "\n",
      "> Vote totals verified — no errors\n",
      "————————————————————————————————————————————————————————————\n",
      "Loading County Commission Dist 4 - Special.csv data...\n",
      " > Found data for 1 counties (1%)\n",
      "Verifying vote totals...\n"
     ]
    },
    {
     "data": {
      "application/vnd.jupyter.widget-view+json": {
       "model_id": "c83f6f14fdd04a4883560bcdf458c36f",
       "version_major": 2,
       "version_minor": 0
      },
      "text/plain": [
       "HBox(children=(HTML(value=''), FloatProgress(value=0.0, max=2.0), HTML(value='')))"
      ]
     },
     "metadata": {},
     "output_type": "display_data"
    },
    {
     "name": "stdout",
     "output_type": "stream",
     "text": [
      "\n",
      "> Vote totals verified — no errors\n",
      "————————————————————————————————————————————————————————————\n",
      "Loading County Commission Precinct 2.csv data...\n",
      " > Found data for 1 counties (1%)\n",
      "Verifying vote totals...\n"
     ]
    },
    {
     "data": {
      "application/vnd.jupyter.widget-view+json": {
       "model_id": "c930533d6cfc4b2cb5e9ebc614345c93",
       "version_major": 2,
       "version_minor": 0
      },
      "text/plain": [
       "HBox(children=(HTML(value=''), FloatProgress(value=0.0, max=1.0), HTML(value='')))"
      ]
     },
     "metadata": {},
     "output_type": "display_data"
    },
    {
     "name": "stdout",
     "output_type": "stream",
     "text": [
      "\n",
      "> Vote totals verified — no errors\n",
      "————————————————————————————————————————————————————————————\n",
      "Loading East Point Sunday Alcohol Sales - Special.csv data...\n",
      " > Found data for 1 counties (1%)\n",
      "Verifying vote totals...\n"
     ]
    },
    {
     "data": {
      "application/vnd.jupyter.widget-view+json": {
       "model_id": "46ac95c7ecbb48b1b0302fe153e51edc",
       "version_major": 2,
       "version_minor": 0
      },
      "text/plain": [
       "HBox(children=(HTML(value=''), FloatProgress(value=0.0, max=2.0), HTML(value='')))"
      ]
     },
     "metadata": {},
     "output_type": "display_data"
    },
    {
     "name": "stdout",
     "output_type": "stream",
     "text": [
      "\n",
      "> Vote totals verified — no errors\n",
      "————————————————————————————————————————————————————————————\n",
      "Loading State House Dist 180.csv data...\n",
      " > Found data for 3 counties (2%)\n",
      "Verifying vote totals...\n"
     ]
    },
    {
     "data": {
      "application/vnd.jupyter.widget-view+json": {
       "model_id": "4bde5b47f1e543da82810710c6aba62b",
       "version_major": 2,
       "version_minor": 0
      },
      "text/plain": [
       "HBox(children=(HTML(value=''), FloatProgress(value=0.0, max=1.0), HTML(value='')))"
      ]
     },
     "metadata": {},
     "output_type": "display_data"
    },
    {
     "name": "stdout",
     "output_type": "stream",
     "text": [
      "\n",
      "> Vote totals verified — no errors\n",
      "————————————————————————————————————————————————————————————\n",
      "Loading State House Dist 72.csv data...\n",
      " > Found data for 2 counties (1%)\n",
      "Verifying vote totals...\n"
     ]
    },
    {
     "data": {
      "application/vnd.jupyter.widget-view+json": {
       "model_id": "dc6310e9f44d496a9d53237732432fcc",
       "version_major": 2,
       "version_minor": 0
      },
      "text/plain": [
       "HBox(children=(HTML(value=''), FloatProgress(value=0.0, max=2.0), HTML(value='')))"
      ]
     },
     "metadata": {},
     "output_type": "display_data"
    },
    {
     "name": "stdout",
     "output_type": "stream",
     "text": [
      "\n",
      "> Vote totals verified — no errors\n",
      "————————————————————————————————————————————————————————————\n",
      "Loading State House Dist 111.csv data...\n",
      " > Found data for 1 counties (1%)\n",
      "Verifying vote totals...\n"
     ]
    },
    {
     "data": {
      "application/vnd.jupyter.widget-view+json": {
       "model_id": "85717258b07d47fb8971ededb20776b8",
       "version_major": 2,
       "version_minor": 0
      },
      "text/plain": [
       "HBox(children=(HTML(value=''), FloatProgress(value=0.0, max=1.0), HTML(value='')))"
      ]
     },
     "metadata": {},
     "output_type": "display_data"
    },
    {
     "name": "stdout",
     "output_type": "stream",
     "text": [
      "\n",
      "> Vote totals verified — no errors\n",
      "————————————————————————————————————————————————————————————\n",
      "Loading Board of Education Post 2.csv data...\n",
      " > Found data for 3 counties (2%)\n",
      "Verifying vote totals...\n"
     ]
    },
    {
     "data": {
      "application/vnd.jupyter.widget-view+json": {
       "model_id": "a0720c7d8ce24050841c375297dfa4f5",
       "version_major": 2,
       "version_minor": 0
      },
      "text/plain": [
       "HBox(children=(HTML(value=''), FloatProgress(value=0.0, max=4.0), HTML(value='')))"
      ]
     },
     "metadata": {},
     "output_type": "display_data"
    },
    {
     "name": "stdout",
     "output_type": "stream",
     "text": [
      "\n",
      "> Vote totals verified — no errors\n",
      "————————————————————————————————————————————————————————————\n",
      "Loading Tax Commissioner.csv data...\n",
      " > Found data for 158 counties (99%)\n",
      "   > Missing: ['Dougherty']\n",
      "\n",
      "POSSIBLE typo found (87% match)\n",
      " > 1. Brian S. Jackson (I) (Rep) — 12735 total votes\n",
      " > 2. Marian S. Jackson (I) (Dem) — 8648 total votes\n",
      "  > Combine these candidates? (y/n):  n\n",
      "\n",
      "POSSIBLE typo found (86% match)\n",
      " > 1. Tiffany Porter (Dem) — 222070 total votes\n",
      " > 2. Tiffany L. Prather (Dem) — 4885 total votes\n",
      "  > Combine these candidates? (y/n):  n\n",
      "Verifying vote totals...\n"
     ]
    },
    {
     "data": {
      "application/vnd.jupyter.widget-view+json": {
       "model_id": "61b4d68a206f4a1f83f5d22aec0a526e",
       "version_major": 2,
       "version_minor": 0
      },
      "text/plain": [
       "HBox(children=(HTML(value=''), FloatProgress(value=0.0, max=172.0), HTML(value='')))"
      ]
     },
     "metadata": {},
     "output_type": "display_data"
    },
    {
     "name": "stdout",
     "output_type": "stream",
     "text": [
      "\n",
      ">>> Vote totals verified — 0.0001 error rate\n",
      "————————————————————————————————————————————————————————————\n",
      "Loading Soil and Water - Ogeechee River.csv data...\n",
      " > Found data for 3 counties (2%)\n",
      "Verifying vote totals...\n"
     ]
    },
    {
     "data": {
      "application/vnd.jupyter.widget-view+json": {
       "model_id": "662a5ddf7fd24665a84a5530a9fe7793",
       "version_major": 2,
       "version_minor": 0
      },
      "text/plain": [
       "HBox(children=(HTML(value=''), FloatProgress(value=0.0, max=3.0), HTML(value='')))"
      ]
     },
     "metadata": {},
     "output_type": "display_data"
    },
    {
     "name": "stdout",
     "output_type": "stream",
     "text": [
      "\n",
      "> Vote totals verified — no errors\n",
      "————————————————————————————————————————————————————————————\n",
      "Loading Harrisburg Fire Advisory Board Post 6.csv data...\n",
      " > Found data for 1 counties (1%)\n",
      "Verifying vote totals...\n"
     ]
    },
    {
     "data": {
      "application/vnd.jupyter.widget-view+json": {
       "model_id": "57ac0ab2ecb3415ea42bc5d99183cd5c",
       "version_major": 2,
       "version_minor": 0
      },
      "text/plain": [
       "HBox(children=(HTML(value=''), FloatProgress(value=0.0, max=1.0), HTML(value='')))"
      ]
     },
     "metadata": {},
     "output_type": "display_data"
    },
    {
     "name": "stdout",
     "output_type": "stream",
     "text": [
      "\n",
      "> Vote totals verified — no errors\n",
      "————————————————————————————————————————————————————————————\n",
      "Loading State House Dist 135.csv data...\n",
      " > Found data for 1 counties (1%)\n",
      "Verifying vote totals...\n"
     ]
    },
    {
     "data": {
      "application/vnd.jupyter.widget-view+json": {
       "model_id": "c0c81c2ee8be4d729f8fad268e5b4433",
       "version_major": 2,
       "version_minor": 0
      },
      "text/plain": [
       "HBox(children=(HTML(value=''), FloatProgress(value=0.0, max=1.0), HTML(value='')))"
      ]
     },
     "metadata": {},
     "output_type": "display_data"
    },
    {
     "name": "stdout",
     "output_type": "stream",
     "text": [
      "\n",
      "> Vote totals verified — no errors\n",
      "————————————————————————————————————————————————————————————\n",
      "Loading State Senate Dist 23.csv data...\n",
      " > Found data for 11 counties (7%)\n",
      "Verifying vote totals...\n"
     ]
    },
    {
     "data": {
      "application/vnd.jupyter.widget-view+json": {
       "model_id": "c8a117f16f9f427d9989b0c63dd40dd9",
       "version_major": 2,
       "version_minor": 0
      },
      "text/plain": [
       "HBox(children=(HTML(value=''), FloatProgress(value=0.0, max=2.0), HTML(value='')))"
      ]
     },
     "metadata": {},
     "output_type": "display_data"
    },
    {
     "name": "stdout",
     "output_type": "stream",
     "text": [
      "\n",
      "> Vote totals verified — no errors\n",
      "————————————————————————————————————————————————————————————\n",
      "Loading State House Dist 12.csv data...\n",
      " > Found data for 2 counties (1%)\n",
      "Verifying vote totals...\n"
     ]
    },
    {
     "data": {
      "application/vnd.jupyter.widget-view+json": {
       "model_id": "571976b7b768405f94b9dfa06564cfd6",
       "version_major": 2,
       "version_minor": 0
      },
      "text/plain": [
       "HBox(children=(HTML(value=''), FloatProgress(value=0.0, max=2.0), HTML(value='')))"
      ]
     },
     "metadata": {},
     "output_type": "display_data"
    },
    {
     "name": "stdout",
     "output_type": "stream",
     "text": [
      "\n",
      "> Vote totals verified — no errors\n",
      "————————————————————————————————————————————————————————————\n",
      "Loading State Senate Dist 4.csv data...\n",
      " > Found data for 6 counties (4%)\n",
      "Verifying vote totals...\n"
     ]
    },
    {
     "data": {
      "application/vnd.jupyter.widget-view+json": {
       "model_id": "397ad08f38f746459ced12b241ee7dfa",
       "version_major": 2,
       "version_minor": 0
      },
      "text/plain": [
       "HBox(children=(HTML(value=''), FloatProgress(value=0.0, max=1.0), HTML(value='')))"
      ]
     },
     "metadata": {},
     "output_type": "display_data"
    },
    {
     "name": "stdout",
     "output_type": "stream",
     "text": [
      "\n",
      "> Vote totals verified — no errors\n",
      "————————————————————————————————————————————————————————————\n",
      "Loading State House Dist 32.csv data...\n",
      " > Found data for 3 counties (2%)\n",
      "Verifying vote totals...\n"
     ]
    },
    {
     "data": {
      "application/vnd.jupyter.widget-view+json": {
       "model_id": "b24b25b046a14bcca3f5cac7c8888fec",
       "version_major": 2,
       "version_minor": 0
      },
      "text/plain": [
       "HBox(children=(HTML(value=''), FloatProgress(value=0.0, max=2.0), HTML(value='')))"
      ]
     },
     "metadata": {},
     "output_type": "display_data"
    },
    {
     "name": "stdout",
     "output_type": "stream",
     "text": [
      "\n",
      "> Vote totals verified — no errors\n",
      "————————————————————————————————————————————————————————————\n",
      "Loading Camak Mayor.csv data...\n",
      " > Found data for 1 counties (1%)\n",
      "Verifying vote totals...\n"
     ]
    },
    {
     "data": {
      "application/vnd.jupyter.widget-view+json": {
       "model_id": "00a964fbdc594419b3e0557958a0b490",
       "version_major": 2,
       "version_minor": 0
      },
      "text/plain": [
       "HBox(children=(HTML(value=''), FloatProgress(value=0.0, max=2.0), HTML(value='')))"
      ]
     },
     "metadata": {},
     "output_type": "display_data"
    },
    {
     "name": "stdout",
     "output_type": "stream",
     "text": [
      "\n",
      "> Vote totals verified — no errors\n",
      "————————————————————————————————————————————————————————————\n",
      "Loading State House Dist 88.csv data...\n",
      " > Found data for 1 counties (1%)\n",
      "Verifying vote totals...\n"
     ]
    },
    {
     "data": {
      "application/vnd.jupyter.widget-view+json": {
       "model_id": "4ee2d88e37574c1983beb95ae1fd1245",
       "version_major": 2,
       "version_minor": 0
      },
      "text/plain": [
       "HBox(children=(HTML(value=''), FloatProgress(value=0.0, max=1.0), HTML(value='')))"
      ]
     },
     "metadata": {},
     "output_type": "display_data"
    },
    {
     "name": "stdout",
     "output_type": "stream",
     "text": [
      "\n",
      "> Vote totals verified — no errors\n",
      "————————————————————————————————————————————————————————————\n",
      "Loading Kingsland City Council Post 2.csv data...\n",
      " > Found data for 1 counties (1%)\n",
      "Verifying vote totals...\n"
     ]
    },
    {
     "data": {
      "application/vnd.jupyter.widget-view+json": {
       "model_id": "ba0bae64ede645a9a0af39b8ec4d221e",
       "version_major": 2,
       "version_minor": 0
      },
      "text/plain": [
       "HBox(children=(HTML(value=''), FloatProgress(value=0.0, max=1.0), HTML(value='')))"
      ]
     },
     "metadata": {},
     "output_type": "display_data"
    },
    {
     "name": "stdout",
     "output_type": "stream",
     "text": [
      "\n",
      "> Vote totals verified — no errors\n",
      "————————————————————————————————————————————————————————————\n",
      "Loading State House Dist 76.csv data...\n",
      " > Found data for 2 counties (1%)\n",
      "Verifying vote totals...\n"
     ]
    },
    {
     "data": {
      "application/vnd.jupyter.widget-view+json": {
       "model_id": "ede99ecfec304dc395e9f2d44de4ef41",
       "version_major": 2,
       "version_minor": 0
      },
      "text/plain": [
       "HBox(children=(HTML(value=''), FloatProgress(value=0.0, max=1.0), HTML(value='')))"
      ]
     },
     "metadata": {},
     "output_type": "display_data"
    },
    {
     "name": "stdout",
     "output_type": "stream",
     "text": [
      "\n",
      "> Vote totals verified — no errors\n",
      "————————————————————————————————————————————————————————————\n",
      "Loading Franklin County Homestead Exemption - Special.csv data...\n",
      " > Found data for 1 counties (1%)\n",
      "Verifying vote totals...\n"
     ]
    },
    {
     "data": {
      "application/vnd.jupyter.widget-view+json": {
       "model_id": "fa5f8fd1c6b04204a028fbee310c0686",
       "version_major": 2,
       "version_minor": 0
      },
      "text/plain": [
       "HBox(children=(HTML(value=''), FloatProgress(value=0.0, max=2.0), HTML(value='')))"
      ]
     },
     "metadata": {},
     "output_type": "display_data"
    },
    {
     "name": "stdout",
     "output_type": "stream",
     "text": [
      "\n",
      "> Vote totals verified — no errors\n",
      "————————————————————————————————————————————————————————————\n",
      "Loading Soil and Water - Cobb County.csv data...\n",
      " > Found data for 1 counties (1%)\n",
      "Verifying vote totals...\n"
     ]
    },
    {
     "data": {
      "application/vnd.jupyter.widget-view+json": {
       "model_id": "c517318674fd4b9f86484620bb1033dd",
       "version_major": 2,
       "version_minor": 0
      },
      "text/plain": [
       "HBox(children=(HTML(value=''), FloatProgress(value=0.0, max=2.0), HTML(value='')))"
      ]
     },
     "metadata": {},
     "output_type": "display_data"
    },
    {
     "name": "stdout",
     "output_type": "stream",
     "text": [
      "\n",
      "> Vote totals verified — no errors\n",
      "————————————————————————————————————————————————————————————\n",
      "Loading State House Dist 29.csv data...\n",
      " > Found data for 1 counties (1%)\n",
      "Verifying vote totals...\n"
     ]
    },
    {
     "data": {
      "application/vnd.jupyter.widget-view+json": {
       "model_id": "06aa7524aa0047a6ab99b83caf29c9ce",
       "version_major": 2,
       "version_minor": 0
      },
      "text/plain": [
       "HBox(children=(HTML(value=''), FloatProgress(value=0.0, max=2.0), HTML(value='')))"
      ]
     },
     "metadata": {},
     "output_type": "display_data"
    },
    {
     "name": "stdout",
     "output_type": "stream",
     "text": [
      "\n",
      "> Vote totals verified — no errors\n",
      "————————————————————————————————————————————————————————————\n",
      "Loading Bartow County Homestead Exemption - Special.csv data...\n",
      " > Found data for 1 counties (1%)\n",
      "Verifying vote totals...\n"
     ]
    },
    {
     "data": {
      "application/vnd.jupyter.widget-view+json": {
       "model_id": "48e2ff4afda14d5f8148befeef69fc08",
       "version_major": 2,
       "version_minor": 0
      },
      "text/plain": [
       "HBox(children=(HTML(value=''), FloatProgress(value=0.0, max=2.0), HTML(value='')))"
      ]
     },
     "metadata": {},
     "output_type": "display_data"
    },
    {
     "name": "stdout",
     "output_type": "stream",
     "text": [
      "\n",
      "> Vote totals verified — no errors\n",
      "————————————————————————————————————————————————————————————\n",
      "Loading State House Dist 126.csv data...\n",
      " > Found data for 2 counties (1%)\n",
      "Verifying vote totals...\n"
     ]
    },
    {
     "data": {
      "application/vnd.jupyter.widget-view+json": {
       "model_id": "b423c14dd3c5412d908924b0387e2771",
       "version_major": 2,
       "version_minor": 0
      },
      "text/plain": [
       "HBox(children=(HTML(value=''), FloatProgress(value=0.0, max=1.0), HTML(value='')))"
      ]
     },
     "metadata": {},
     "output_type": "display_data"
    },
    {
     "name": "stdout",
     "output_type": "stream",
     "text": [
      "\n",
      "> Vote totals verified — no errors\n",
      "————————————————————————————————————————————————————————————\n",
      "Loading Soil and Water - McDuffie County.csv data...\n",
      " > Found data for 1 counties (1%)\n",
      "Verifying vote totals...\n"
     ]
    },
    {
     "data": {
      "application/vnd.jupyter.widget-view+json": {
       "model_id": "0a7005396ccd44aba827eb598141e70a",
       "version_major": 2,
       "version_minor": 0
      },
      "text/plain": [
       "HBox(children=(HTML(value=''), FloatProgress(value=0.0, max=3.0), HTML(value='')))"
      ]
     },
     "metadata": {},
     "output_type": "display_data"
    },
    {
     "name": "stdout",
     "output_type": "stream",
     "text": [
      "\n",
      "> Vote totals verified — no errors\n",
      "————————————————————————————————————————————————————————————\n",
      "Loading Sole County Commissioner.csv data...\n",
      " > Found data for 5 counties (3%)\n",
      "Verifying vote totals...\n"
     ]
    },
    {
     "data": {
      "application/vnd.jupyter.widget-view+json": {
       "model_id": "9f5d59f10db04b8c89374fb89494a868",
       "version_major": 2,
       "version_minor": 0
      },
      "text/plain": [
       "HBox(children=(HTML(value=''), FloatProgress(value=0.0, max=6.0), HTML(value='')))"
      ]
     },
     "metadata": {},
     "output_type": "display_data"
    },
    {
     "name": "stdout",
     "output_type": "stream",
     "text": [
      "\n",
      "> Vote totals verified — no errors\n",
      "————————————————————————————————————————————————————————————\n",
      "Loading Haralson County ESPLOST - Special.csv data...\n",
      " > Found data for 1 counties (1%)\n",
      "Verifying vote totals...\n"
     ]
    },
    {
     "data": {
      "application/vnd.jupyter.widget-view+json": {
       "model_id": "1f495816647844d2b9d8508f89319d7f",
       "version_major": 2,
       "version_minor": 0
      },
      "text/plain": [
       "HBox(children=(HTML(value=''), FloatProgress(value=0.0, max=2.0), HTML(value='')))"
      ]
     },
     "metadata": {},
     "output_type": "display_data"
    },
    {
     "name": "stdout",
     "output_type": "stream",
     "text": [
      "\n",
      "> Vote totals verified — no errors\n",
      "————————————————————————————————————————————————————————————\n",
      "Loading Soil and Water - Upper Ocmulgee River.csv data...\n",
      " > Found data for 1 counties (1%)\n",
      "Verifying vote totals...\n"
     ]
    },
    {
     "data": {
      "application/vnd.jupyter.widget-view+json": {
       "model_id": "68cbdb7da0b242bf8c837c62b75df8e8",
       "version_major": 2,
       "version_minor": 0
      },
      "text/plain": [
       "HBox(children=(HTML(value=''), FloatProgress(value=0.0, max=1.0), HTML(value='')))"
      ]
     },
     "metadata": {},
     "output_type": "display_data"
    },
    {
     "name": "stdout",
     "output_type": "stream",
     "text": [
      "\n",
      "> Vote totals verified — no errors\n",
      "————————————————————————————————————————————————————————————\n",
      "Loading State House Dist 152.csv data...\n",
      " > Found data for 3 counties (2%)\n",
      "Verifying vote totals...\n"
     ]
    },
    {
     "data": {
      "application/vnd.jupyter.widget-view+json": {
       "model_id": "901ea509c902499cbb3cb4ba10a75259",
       "version_major": 2,
       "version_minor": 0
      },
      "text/plain": [
       "HBox(children=(HTML(value=''), FloatProgress(value=0.0, max=1.0), HTML(value='')))"
      ]
     },
     "metadata": {},
     "output_type": "display_data"
    },
    {
     "name": "stdout",
     "output_type": "stream",
     "text": [
      "\n",
      "> Vote totals verified — no errors\n",
      "————————————————————————————————————————————————————————————\n",
      "Loading Soil and Water - Central Georgia.csv data...\n",
      " > Found data for 1 counties (1%)\n",
      "Verifying vote totals...\n"
     ]
    },
    {
     "data": {
      "application/vnd.jupyter.widget-view+json": {
       "model_id": "a95551ef09624a2488eed0fc99ad7b73",
       "version_major": 2,
       "version_minor": 0
      },
      "text/plain": [
       "HBox(children=(HTML(value=''), FloatProgress(value=0.0, max=1.0), HTML(value='')))"
      ]
     },
     "metadata": {},
     "output_type": "display_data"
    },
    {
     "name": "stdout",
     "output_type": "stream",
     "text": [
      "\n",
      "> Vote totals verified — no errors\n",
      "————————————————————————————————————————————————————————————\n",
      "Loading County Commission Dist 1 Post 2.csv data...\n",
      " > Found data for 1 counties (1%)\n",
      "Verifying vote totals...\n"
     ]
    },
    {
     "data": {
      "application/vnd.jupyter.widget-view+json": {
       "model_id": "07a9ddce420343f1bdcb9fc728fbb3eb",
       "version_major": 2,
       "version_minor": 0
      },
      "text/plain": [
       "HBox(children=(HTML(value=''), FloatProgress(value=0.0, max=1.0), HTML(value='')))"
      ]
     },
     "metadata": {},
     "output_type": "display_data"
    },
    {
     "name": "stdout",
     "output_type": "stream",
     "text": [
      "\n",
      "> Vote totals verified — no errors\n",
      "————————————————————————————————————————————————————————————\n",
      "Loading County Commission Post 1.csv data...\n",
      " > Found data for 8 counties (5%)\n",
      "Verifying vote totals...\n"
     ]
    },
    {
     "data": {
      "application/vnd.jupyter.widget-view+json": {
       "model_id": "f42c9f72fc434af7923d5ae2377ffcd5",
       "version_major": 2,
       "version_minor": 0
      },
      "text/plain": [
       "HBox(children=(HTML(value=''), FloatProgress(value=0.0, max=11.0), HTML(value='')))"
      ]
     },
     "metadata": {},
     "output_type": "display_data"
    },
    {
     "name": "stdout",
     "output_type": "stream",
     "text": [
      "\n",
      "> Vote totals verified — no errors\n",
      "————————————————————————————————————————————————————————————\n",
      "Loading US Senate (Perdue).csv data...\n",
      " > Found data for 159 counties (100%)\n",
      "Verifying vote totals...\n"
     ]
    },
    {
     "data": {
      "application/vnd.jupyter.widget-view+json": {
       "model_id": "76861609951e4c0d9bbec1a98e6c4cb8",
       "version_major": 2,
       "version_minor": 0
      },
      "text/plain": [
       "HBox(children=(HTML(value=''), FloatProgress(value=0.0, max=3.0), HTML(value='')))"
      ]
     },
     "metadata": {},
     "output_type": "display_data"
    },
    {
     "name": "stdout",
     "output_type": "stream",
     "text": [
      "\n",
      "> Vote totals verified — no errors\n",
      "————————————————————————————————————————————————————————————\n",
      "Loading Dist Attorney - Brunswick.csv data...\n",
      " > Found data for 5 counties (3%)\n",
      "Verifying vote totals...\n"
     ]
    },
    {
     "data": {
      "application/vnd.jupyter.widget-view+json": {
       "model_id": "a3786d65fb8e4d36a1d9090b315620de",
       "version_major": 2,
       "version_minor": 0
      },
      "text/plain": [
       "HBox(children=(HTML(value=''), FloatProgress(value=0.0, max=2.0), HTML(value='')))"
      ]
     },
     "metadata": {},
     "output_type": "display_data"
    },
    {
     "name": "stdout",
     "output_type": "stream",
     "text": [
      "\n",
      "> Vote totals verified — no errors\n",
      "————————————————————————————————————————————————————————————\n",
      "Loading State House Dist 143.csv data...\n",
      " > Found data for 1 counties (1%)\n",
      "Verifying vote totals...\n"
     ]
    },
    {
     "data": {
      "application/vnd.jupyter.widget-view+json": {
       "model_id": "ae6188bdf23648cebd62d6c19bb14e05",
       "version_major": 2,
       "version_minor": 0
      },
      "text/plain": [
       "HBox(children=(HTML(value=''), FloatProgress(value=0.0, max=1.0), HTML(value='')))"
      ]
     },
     "metadata": {},
     "output_type": "display_data"
    },
    {
     "name": "stdout",
     "output_type": "stream",
     "text": [
      "\n",
      "> Vote totals verified — no errors\n",
      "————————————————————————————————————————————————————————————\n",
      "Loading Dist Attorney - Cherokee.csv data...\n",
      " > Found data for 2 counties (1%)\n",
      "Verifying vote totals...\n"
     ]
    },
    {
     "data": {
      "application/vnd.jupyter.widget-view+json": {
       "model_id": "de844ae309e34c3aa808f26978317867",
       "version_major": 2,
       "version_minor": 0
      },
      "text/plain": [
       "HBox(children=(HTML(value=''), FloatProgress(value=0.0, max=1.0), HTML(value='')))"
      ]
     },
     "metadata": {},
     "output_type": "display_data"
    },
    {
     "name": "stdout",
     "output_type": "stream",
     "text": [
      "\n",
      "> Vote totals verified — no errors\n",
      "————————————————————————————————————————————————————————————\n",
      "Loading DeKalb County Ethics - Special.csv data...\n",
      " > Found data for 1 counties (1%)\n",
      "Verifying vote totals...\n"
     ]
    },
    {
     "data": {
      "application/vnd.jupyter.widget-view+json": {
       "model_id": "0c6c6914e8cb4896a1e866a6392154ca",
       "version_major": 2,
       "version_minor": 0
      },
      "text/plain": [
       "HBox(children=(HTML(value=''), FloatProgress(value=0.0, max=2.0), HTML(value='')))"
      ]
     },
     "metadata": {},
     "output_type": "display_data"
    },
    {
     "name": "stdout",
     "output_type": "stream",
     "text": [
      "\n",
      "> Vote totals verified — no errors\n",
      "————————————————————————————————————————————————————————————\n",
      "Loading State House Dist 106.csv data...\n",
      " > Found data for 1 counties (1%)\n",
      "Verifying vote totals...\n"
     ]
    },
    {
     "data": {
      "application/vnd.jupyter.widget-view+json": {
       "model_id": "ca0dfd97bdb8489bbddb82bbcdb3d692",
       "version_major": 2,
       "version_minor": 0
      },
      "text/plain": [
       "HBox(children=(HTML(value=''), FloatProgress(value=0.0, max=2.0), HTML(value='')))"
      ]
     },
     "metadata": {},
     "output_type": "display_data"
    },
    {
     "name": "stdout",
     "output_type": "stream",
     "text": [
      "\n",
      "> Vote totals verified — no errors\n",
      "————————————————————————————————————————————————————————————\n",
      "Loading Arcade Fire Advisory Board Post 2.csv data...\n",
      " > Found data for 1 counties (1%)\n",
      "Verifying vote totals...\n"
     ]
    },
    {
     "data": {
      "application/vnd.jupyter.widget-view+json": {
       "model_id": "959491b515444bc68084aec278ecb111",
       "version_major": 2,
       "version_minor": 0
      },
      "text/plain": [
       "HBox(children=(HTML(value=''), FloatProgress(value=0.0, max=1.0), HTML(value='')))"
      ]
     },
     "metadata": {},
     "output_type": "display_data"
    },
    {
     "name": "stdout",
     "output_type": "stream",
     "text": [
      "\n",
      "> Vote totals verified — no errors\n",
      "————————————————————————————————————————————————————————————\n",
      "Loading State House Dist 51.csv data...\n",
      " > Found data for 1 counties (1%)\n",
      "Verifying vote totals...\n"
     ]
    },
    {
     "data": {
      "application/vnd.jupyter.widget-view+json": {
       "model_id": "1ec3a444cfa442fdaf1fbcafd541a4fa",
       "version_major": 2,
       "version_minor": 0
      },
      "text/plain": [
       "HBox(children=(HTML(value=''), FloatProgress(value=0.0, max=2.0), HTML(value='')))"
      ]
     },
     "metadata": {},
     "output_type": "display_data"
    },
    {
     "name": "stdout",
     "output_type": "stream",
     "text": [
      "\n",
      "> Vote totals verified — no errors\n",
      "————————————————————————————————————————————————————————————\n",
      "Loading County Commission Dist 3.csv data...\n",
      " > Found data for 66 counties (42%)\n",
      "\n",
      "POSSIBLE typo found (91% match)\n",
      " > 1. David C. Robinson (I) (Rep) — 741 total votes\n",
      " > 2. Gail C. Robinson (I) (Rep) — 57023 total votes\n",
      "  > Combine these candidates? (y/n):  n\n",
      "\n",
      "POSSIBLE typo found (88% match)\n",
      " > 1. Sam Johnson (I) (Dem) — 227 total votes\n",
      " > 2. Rita Johnson (I) (Dem) — 2743 total votes\n",
      "  > Combine these candidates? (y/n):  n\n",
      "Verifying vote totals...\n"
     ]
    },
    {
     "data": {
      "application/vnd.jupyter.widget-view+json": {
       "model_id": "b1219fd5ea334ca9bf01ad6918ca043b",
       "version_major": 2,
       "version_minor": 0
      },
      "text/plain": [
       "HBox(children=(HTML(value=''), FloatProgress(value=0.0, max=79.0), HTML(value='')))"
      ]
     },
     "metadata": {},
     "output_type": "display_data"
    },
    {
     "name": "stdout",
     "output_type": "stream",
     "text": [
      "\n",
      ">>> Vote totals verified — 0.00047 error rate\n",
      "————————————————————————————————————————————————————————————\n",
      "Loading State House Dist 89.csv data...\n",
      " > Found data for 1 counties (1%)\n",
      "Verifying vote totals...\n"
     ]
    },
    {
     "data": {
      "application/vnd.jupyter.widget-view+json": {
       "model_id": "8e05d5961ece439fabd77e7989e25d4d",
       "version_major": 2,
       "version_minor": 0
      },
      "text/plain": [
       "HBox(children=(HTML(value=''), FloatProgress(value=0.0, max=1.0), HTML(value='')))"
      ]
     },
     "metadata": {},
     "output_type": "display_data"
    },
    {
     "name": "stdout",
     "output_type": "stream",
     "text": [
      "\n",
      "> Vote totals verified — no errors\n",
      "————————————————————————————————————————————————————————————\n",
      "Loading Soil and Water - Limestone Valley.csv data...\n",
      " > Found data for 2 counties (1%)\n",
      "Verifying vote totals...\n"
     ]
    },
    {
     "data": {
      "application/vnd.jupyter.widget-view+json": {
       "model_id": "3aa16a47138941c88da60a0e9d1fa28e",
       "version_major": 2,
       "version_minor": 0
      },
      "text/plain": [
       "HBox(children=(HTML(value=''), FloatProgress(value=0.0, max=2.0), HTML(value='')))"
      ]
     },
     "metadata": {},
     "output_type": "display_data"
    },
    {
     "name": "stdout",
     "output_type": "stream",
     "text": [
      "\n",
      "> Vote totals verified — no errors\n",
      "————————————————————————————————————————————————————————————\n",
      "Loading State House Dist 81.csv data...\n",
      " > Found data for 2 counties (1%)\n",
      "Verifying vote totals...\n"
     ]
    },
    {
     "data": {
      "application/vnd.jupyter.widget-view+json": {
       "model_id": "f63d37724a0842ed9591cf2f570fbbff",
       "version_major": 2,
       "version_minor": 0
      },
      "text/plain": [
       "HBox(children=(HTML(value=''), FloatProgress(value=0.0, max=1.0), HTML(value='')))"
      ]
     },
     "metadata": {},
     "output_type": "display_data"
    },
    {
     "name": "stdout",
     "output_type": "stream",
     "text": [
      "\n",
      "> Vote totals verified — no errors\n",
      "————————————————————————————————————————————————————————————\n",
      "Loading Soil and Water - Lamar County.csv data...\n",
      " > Found data for 1 counties (1%)\n",
      "Verifying vote totals...\n"
     ]
    },
    {
     "data": {
      "application/vnd.jupyter.widget-view+json": {
       "model_id": "ab157f3dcbc046a6a379f53642b925cf",
       "version_major": 2,
       "version_minor": 0
      },
      "text/plain": [
       "HBox(children=(HTML(value=''), FloatProgress(value=0.0, max=2.0), HTML(value='')))"
      ]
     },
     "metadata": {},
     "output_type": "display_data"
    },
    {
     "name": "stdout",
     "output_type": "stream",
     "text": [
      "\n",
      "> Vote totals verified — no errors\n",
      "————————————————————————————————————————————————————————————\n",
      "Loading St. Marys City Council Post 4.csv data...\n",
      " > Found data for 1 counties (1%)\n",
      "Verifying vote totals...\n"
     ]
    },
    {
     "data": {
      "application/vnd.jupyter.widget-view+json": {
       "model_id": "68728f435ce7412c89092e8b99a48a9a",
       "version_major": 2,
       "version_minor": 0
      },
      "text/plain": [
       "HBox(children=(HTML(value=''), FloatProgress(value=0.0, max=2.0), HTML(value='')))"
      ]
     },
     "metadata": {},
     "output_type": "display_data"
    },
    {
     "name": "stdout",
     "output_type": "stream",
     "text": [
      "\n",
      "> Vote totals verified — no errors\n",
      "————————————————————————————————————————————————————————————\n",
      "Loading Board of Education At Large - West Crisp.csv data...\n",
      " > Found data for 1 counties (1%)\n",
      "Verifying vote totals...\n"
     ]
    },
    {
     "data": {
      "application/vnd.jupyter.widget-view+json": {
       "model_id": "b18ca1676c7b48439532d958a49d7840",
       "version_major": 2,
       "version_minor": 0
      },
      "text/plain": [
       "HBox(children=(HTML(value=''), FloatProgress(value=0.0, max=1.0), HTML(value='')))"
      ]
     },
     "metadata": {},
     "output_type": "display_data"
    },
    {
     "name": "stdout",
     "output_type": "stream",
     "text": [
      "\n",
      "> Vote totals verified — no errors\n",
      "————————————————————————————————————————————————————————————\n",
      "Loading State House Dist 82.csv data...\n",
      " > Found data for 1 counties (1%)\n",
      "Verifying vote totals...\n"
     ]
    },
    {
     "data": {
      "application/vnd.jupyter.widget-view+json": {
       "model_id": "8ac86b26728640db9f13b086467ef5b5",
       "version_major": 2,
       "version_minor": 0
      },
      "text/plain": [
       "HBox(children=(HTML(value=''), FloatProgress(value=0.0, max=1.0), HTML(value='')))"
      ]
     },
     "metadata": {},
     "output_type": "display_data"
    },
    {
     "name": "stdout",
     "output_type": "stream",
     "text": [
      "\n",
      "> Vote totals verified — no errors\n",
      "————————————————————————————————————————————————————————————\n",
      "Loading Plainview Fire Advisory Board Post 3.csv data...\n",
      " > Found data for 1 counties (1%)\n",
      "Verifying vote totals...\n"
     ]
    },
    {
     "data": {
      "application/vnd.jupyter.widget-view+json": {
       "model_id": "a819fb84ef544996a8fc297e89f37e6b",
       "version_major": 2,
       "version_minor": 0
      },
      "text/plain": [
       "HBox(children=(HTML(value=''), FloatProgress(value=0.0, max=1.0), HTML(value='')))"
      ]
     },
     "metadata": {},
     "output_type": "display_data"
    },
    {
     "name": "stdout",
     "output_type": "stream",
     "text": [
      "\n",
      "> Vote totals verified — no errors\n",
      "————————————————————————————————————————————————————————————\n",
      "Loading Good Hope City Council Post 1.csv data...\n",
      " > Found data for 1 counties (1%)\n",
      "Verifying vote totals...\n"
     ]
    },
    {
     "data": {
      "application/vnd.jupyter.widget-view+json": {
       "model_id": "99a1625e4f6d404797ce94e73b18770e",
       "version_major": 2,
       "version_minor": 0
      },
      "text/plain": [
       "HBox(children=(HTML(value=''), FloatProgress(value=0.0, max=1.0), HTML(value='')))"
      ]
     },
     "metadata": {},
     "output_type": "display_data"
    },
    {
     "name": "stdout",
     "output_type": "stream",
     "text": [
      "\n",
      "> Vote totals verified — no errors\n",
      "————————————————————————————————————————————————————————————\n",
      "Loading Dist Attorney - Piedmont.csv data...\n",
      " > Found data for 3 counties (2%)\n",
      "Verifying vote totals...\n"
     ]
    },
    {
     "data": {
      "application/vnd.jupyter.widget-view+json": {
       "model_id": "0cd22590391e4ea89fe89bd07a72f947",
       "version_major": 2,
       "version_minor": 0
      },
      "text/plain": [
       "HBox(children=(HTML(value=''), FloatProgress(value=0.0, max=1.0), HTML(value='')))"
      ]
     },
     "metadata": {},
     "output_type": "display_data"
    },
    {
     "name": "stdout",
     "output_type": "stream",
     "text": [
      "\n",
      "> Vote totals verified — no errors\n",
      "————————————————————————————————————————————————————————————\n",
      "Loading State House Dist 45.csv data...\n",
      " > Found data for 2 counties (1%)\n",
      "Verifying vote totals...\n"
     ]
    },
    {
     "data": {
      "application/vnd.jupyter.widget-view+json": {
       "model_id": "7dd413f082774e2db24e11e4f90da872",
       "version_major": 2,
       "version_minor": 0
      },
      "text/plain": [
       "HBox(children=(HTML(value=''), FloatProgress(value=0.0, max=2.0), HTML(value='')))"
      ]
     },
     "metadata": {},
     "output_type": "display_data"
    },
    {
     "name": "stdout",
     "output_type": "stream",
     "text": [
      "\n",
      "> Vote totals verified — no errors\n",
      "————————————————————————————————————————————————————————————\n",
      "Loading State House Dist 9.csv data...\n",
      " > Found data for 3 counties (2%)\n",
      "Verifying vote totals...\n"
     ]
    },
    {
     "data": {
      "application/vnd.jupyter.widget-view+json": {
       "model_id": "50340a23b162451c8f4e85d25b7ef81e",
       "version_major": 2,
       "version_minor": 0
      },
      "text/plain": [
       "HBox(children=(HTML(value=''), FloatProgress(value=0.0, max=2.0), HTML(value='')))"
      ]
     },
     "metadata": {},
     "output_type": "display_data"
    },
    {
     "name": "stdout",
     "output_type": "stream",
     "text": [
      "\n",
      "> Vote totals verified — no errors\n",
      "————————————————————————————————————————————————————————————\n",
      "Loading Gwinnett County Soil and Water.csv data...\n",
      " > Found data for 1 counties (1%)\n",
      "Verifying vote totals...\n"
     ]
    },
    {
     "data": {
      "application/vnd.jupyter.widget-view+json": {
       "model_id": "db5196470252457697d5f6737a472c5c",
       "version_major": 2,
       "version_minor": 0
      },
      "text/plain": [
       "HBox(children=(HTML(value=''), FloatProgress(value=0.0, max=3.0), HTML(value='')))"
      ]
     },
     "metadata": {},
     "output_type": "display_data"
    },
    {
     "name": "stdout",
     "output_type": "stream",
     "text": [
      "\n",
      "> Vote totals verified — no errors\n",
      "————————————————————————————————————————————————————————————\n",
      "Loading County Commission Dist 3 - Special.csv data...\n",
      " > Found data for 1 counties (1%)\n",
      "Verifying vote totals...\n"
     ]
    },
    {
     "data": {
      "application/vnd.jupyter.widget-view+json": {
       "model_id": "ec41ea7bbb6946e6a48f78e90464ccb9",
       "version_major": 2,
       "version_minor": 0
      },
      "text/plain": [
       "HBox(children=(HTML(value=''), FloatProgress(value=0.0, max=2.0), HTML(value='')))"
      ]
     },
     "metadata": {},
     "output_type": "display_data"
    },
    {
     "name": "stdout",
     "output_type": "stream",
     "text": [
      "\n",
      "> Vote totals verified — no errors\n",
      "————————————————————————————————————————————————————————————\n",
      "Loading US House Dist 11.csv data...\n",
      " > Found data for 4 counties (3%)\n",
      "Verifying vote totals...\n"
     ]
    },
    {
     "data": {
      "application/vnd.jupyter.widget-view+json": {
       "model_id": "3184bc77317b49dcadab0e22a49d607d",
       "version_major": 2,
       "version_minor": 0
      },
      "text/plain": [
       "HBox(children=(HTML(value=''), FloatProgress(value=0.0, max=2.0), HTML(value='')))"
      ]
     },
     "metadata": {},
     "output_type": "display_data"
    },
    {
     "name": "stdout",
     "output_type": "stream",
     "text": [
      "\n",
      "> Vote totals verified — no errors\n",
      "————————————————————————————————————————————————————————————\n",
      "Loading Soil and Water - Altamaha.csv data...\n",
      " > Found data for 4 counties (3%)\n",
      "Verifying vote totals...\n"
     ]
    },
    {
     "data": {
      "application/vnd.jupyter.widget-view+json": {
       "model_id": "0b20ba07daa841729073724d9d2e1043",
       "version_major": 2,
       "version_minor": 0
      },
      "text/plain": [
       "HBox(children=(HTML(value=''), FloatProgress(value=0.0, max=4.0), HTML(value='')))"
      ]
     },
     "metadata": {},
     "output_type": "display_data"
    },
    {
     "name": "stdout",
     "output_type": "stream",
     "text": [
      "\n",
      "> Vote totals verified — no errors\n",
      "————————————————————————————————————————————————————————————\n",
      "Loading State House Dist 80.csv data...\n",
      " > Found data for 2 counties (1%)\n",
      "Verifying vote totals...\n"
     ]
    },
    {
     "data": {
      "application/vnd.jupyter.widget-view+json": {
       "model_id": "b7c9e9fdd455411da3cebed45cdc31cf",
       "version_major": 2,
       "version_minor": 0
      },
      "text/plain": [
       "HBox(children=(HTML(value=''), FloatProgress(value=0.0, max=2.0), HTML(value='')))"
      ]
     },
     "metadata": {},
     "output_type": "display_data"
    },
    {
     "name": "stdout",
     "output_type": "stream",
     "text": [
      "\n",
      "> Vote totals verified — no errors\n",
      "————————————————————————————————————————————————————————————\n",
      "Loading Board of Education Post 6.csv data...\n",
      " > Found data for 1 counties (1%)\n",
      "Verifying vote totals...\n"
     ]
    },
    {
     "data": {
      "application/vnd.jupyter.widget-view+json": {
       "model_id": "bc5aefb3ad974ce89334679ce0af908c",
       "version_major": 2,
       "version_minor": 0
      },
      "text/plain": [
       "HBox(children=(HTML(value=''), FloatProgress(value=0.0, max=1.0), HTML(value='')))"
      ]
     },
     "metadata": {},
     "output_type": "display_data"
    },
    {
     "name": "stdout",
     "output_type": "stream",
     "text": [
      "\n",
      "> Vote totals verified — no errors\n",
      "————————————————————————————————————————————————————————————\n",
      "Loading US House Dist 14.csv data...\n",
      " > Found data for 12 counties (8%)\n",
      "Verifying vote totals...\n"
     ]
    },
    {
     "data": {
      "application/vnd.jupyter.widget-view+json": {
       "model_id": "cbe7a551101c4b95924c0e71c244eb75",
       "version_major": 2,
       "version_minor": 0
      },
      "text/plain": [
       "HBox(children=(HTML(value=''), FloatProgress(value=0.0, max=2.0), HTML(value='')))"
      ]
     },
     "metadata": {},
     "output_type": "display_data"
    },
    {
     "name": "stdout",
     "output_type": "stream",
     "text": [
      "\n",
      "> Vote totals verified — no errors\n",
      "————————————————————————————————————————————————————————————\n",
      "Loading State House Dist 22.csv data...\n",
      " > Found data for 3 counties (2%)\n",
      "Verifying vote totals...\n"
     ]
    },
    {
     "data": {
      "application/vnd.jupyter.widget-view+json": {
       "model_id": "d62e0aa969004846b479f86d3c3c1f7a",
       "version_major": 2,
       "version_minor": 0
      },
      "text/plain": [
       "HBox(children=(HTML(value=''), FloatProgress(value=0.0, max=2.0), HTML(value='')))"
      ]
     },
     "metadata": {},
     "output_type": "display_data"
    },
    {
     "name": "stdout",
     "output_type": "stream",
     "text": [
      "\n",
      "> Vote totals verified — no errors\n",
      "————————————————————————————————————————————————————————————\n",
      "Loading County Commission Dist 3 Post 1.csv data...\n",
      " > Found data for 1 counties (1%)\n",
      "Verifying vote totals...\n"
     ]
    },
    {
     "data": {
      "application/vnd.jupyter.widget-view+json": {
       "model_id": "894cce4ed9644b888e08bf55405f8a4d",
       "version_major": 2,
       "version_minor": 0
      },
      "text/plain": [
       "HBox(children=(HTML(value=''), FloatProgress(value=0.0, max=2.0), HTML(value='')))"
      ]
     },
     "metadata": {},
     "output_type": "display_data"
    },
    {
     "name": "stdout",
     "output_type": "stream",
     "text": [
      "\n",
      "> Vote totals verified — no errors\n",
      "————————————————————————————————————————————————————————————\n",
      "Loading Board of Education Dist 5, At Large.csv data...\n",
      " > Found data for 1 counties (1%)\n",
      "Verifying vote totals...\n"
     ]
    },
    {
     "data": {
      "application/vnd.jupyter.widget-view+json": {
       "model_id": "7a1be0c12f38445c98383761be22f621",
       "version_major": 2,
       "version_minor": 0
      },
      "text/plain": [
       "HBox(children=(HTML(value=''), FloatProgress(value=0.0, max=1.0), HTML(value='')))"
      ]
     },
     "metadata": {},
     "output_type": "display_data"
    },
    {
     "name": "stdout",
     "output_type": "stream",
     "text": [
      "\n",
      "> Vote totals verified — no errors\n",
      "————————————————————————————————————————————————————————————\n",
      "Loading US House Dist 9.csv data...\n",
      " > Found data for 20 counties (13%)\n",
      "Verifying vote totals...\n"
     ]
    },
    {
     "data": {
      "application/vnd.jupyter.widget-view+json": {
       "model_id": "6f3bf9ada92140e9b0c10daaf561f83e",
       "version_major": 2,
       "version_minor": 0
      },
      "text/plain": [
       "HBox(children=(HTML(value=''), FloatProgress(value=0.0, max=2.0), HTML(value='')))"
      ]
     },
     "metadata": {},
     "output_type": "display_data"
    },
    {
     "name": "stdout",
     "output_type": "stream",
     "text": [
      "\n",
      "> Vote totals verified — no errors\n",
      "————————————————————————————————————————————————————————————\n",
      "Loading Board of Education Dist 8 At Large.csv data...\n",
      " > Found data for 1 counties (1%)\n",
      "Verifying vote totals...\n"
     ]
    },
    {
     "data": {
      "application/vnd.jupyter.widget-view+json": {
       "model_id": "da22bbc1678742b0a1bff46ff918e433",
       "version_major": 2,
       "version_minor": 0
      },
      "text/plain": [
       "HBox(children=(HTML(value=''), FloatProgress(value=0.0, max=1.0), HTML(value='')))"
      ]
     },
     "metadata": {},
     "output_type": "display_data"
    },
    {
     "name": "stdout",
     "output_type": "stream",
     "text": [
      "\n",
      "> Vote totals verified — no errors\n",
      "————————————————————————————————————————————————————————————\n",
      "Loading State House Dist 144.csv data...\n",
      " > Found data for 7 counties (4%)\n",
      "Verifying vote totals...\n"
     ]
    },
    {
     "data": {
      "application/vnd.jupyter.widget-view+json": {
       "model_id": "3e57dc5104994f12a41631108b56071d",
       "version_major": 2,
       "version_minor": 0
      },
      "text/plain": [
       "HBox(children=(HTML(value=''), FloatProgress(value=0.0, max=3.0), HTML(value='')))"
      ]
     },
     "metadata": {},
     "output_type": "display_data"
    },
    {
     "name": "stdout",
     "output_type": "stream",
     "text": [
      "\n",
      "> Vote totals verified — no errors\n",
      "————————————————————————————————————————————————————————————\n",
      "Loading President of the United States.csv data...\n",
      " > Found data for 159 counties (100%)\n",
      "Verifying vote totals...\n"
     ]
    },
    {
     "data": {
      "application/vnd.jupyter.widget-view+json": {
       "model_id": "d673413ba0ae4ae0a9fb4ffe5575bdf9",
       "version_major": 2,
       "version_minor": 0
      },
      "text/plain": [
       "HBox(children=(HTML(value=''), FloatProgress(value=0.0, max=3.0), HTML(value='')))"
      ]
     },
     "metadata": {},
     "output_type": "display_data"
    },
    {
     "name": "stdout",
     "output_type": "stream",
     "text": [
      "\n",
      "> Vote totals verified — no errors\n",
      "————————————————————————————————————————————————————————————\n",
      "Loading State House Dist 96.csv data...\n",
      " > Found data for 1 counties (1%)\n",
      "Verifying vote totals...\n"
     ]
    },
    {
     "data": {
      "application/vnd.jupyter.widget-view+json": {
       "model_id": "4b35a1f0e67147209cf9d9bb510ea661",
       "version_major": 2,
       "version_minor": 0
      },
      "text/plain": [
       "HBox(children=(HTML(value=''), FloatProgress(value=0.0, max=1.0), HTML(value='')))"
      ]
     },
     "metadata": {},
     "output_type": "display_data"
    },
    {
     "name": "stdout",
     "output_type": "stream",
     "text": [
      "\n",
      "> Vote totals verified — no errors\n",
      "————————————————————————————————————————————————————————————\n",
      "Loading State Senate Dist 12.csv data...\n",
      " > Found data for 11 counties (7%)\n",
      "Verifying vote totals...\n"
     ]
    },
    {
     "data": {
      "application/vnd.jupyter.widget-view+json": {
       "model_id": "e3fbb06ac5054d61ad5fa36b9308305d",
       "version_major": 2,
       "version_minor": 0
      },
      "text/plain": [
       "HBox(children=(HTML(value=''), FloatProgress(value=0.0, max=2.0), HTML(value='')))"
      ]
     },
     "metadata": {},
     "output_type": "display_data"
    },
    {
     "name": "stdout",
     "output_type": "stream",
     "text": [
      "\n",
      "> Vote totals verified — no errors\n",
      "————————————————————————————————————————————————————————————\n",
      "Loading State House Dist 36.csv data...\n",
      " > Found data for 1 counties (1%)\n",
      "Verifying vote totals...\n"
     ]
    },
    {
     "data": {
      "application/vnd.jupyter.widget-view+json": {
       "model_id": "0be93df2497b474a8d91b7990e4dc266",
       "version_major": 2,
       "version_minor": 0
      },
      "text/plain": [
       "HBox(children=(HTML(value=''), FloatProgress(value=0.0, max=2.0), HTML(value='')))"
      ]
     },
     "metadata": {},
     "output_type": "display_data"
    },
    {
     "name": "stdout",
     "output_type": "stream",
     "text": [
      "\n",
      "> Vote totals verified — no errors\n",
      "————————————————————————————————————————————————————————————\n",
      "Loading Board of Education Milford Dist.csv data...\n",
      " > Found data for 1 counties (1%)\n",
      "Verifying vote totals...\n"
     ]
    },
    {
     "data": {
      "application/vnd.jupyter.widget-view+json": {
       "model_id": "a68623aa0fd648b98cad420dfcf75fe8",
       "version_major": 2,
       "version_minor": 0
      },
      "text/plain": [
       "HBox(children=(HTML(value=''), FloatProgress(value=0.0, max=1.0), HTML(value='')))"
      ]
     },
     "metadata": {},
     "output_type": "display_data"
    },
    {
     "name": "stdout",
     "output_type": "stream",
     "text": [
      "\n",
      "> Vote totals verified — no errors\n",
      "————————————————————————————————————————————————————————————\n",
      "Loading County Commission Dist 4.csv data...\n",
      " > Found data for 63 counties (40%)\n",
      "Verifying vote totals...\n"
     ]
    },
    {
     "data": {
      "application/vnd.jupyter.widget-view+json": {
       "model_id": "d851178c761f426aa7d2dd9d5fb336e8",
       "version_major": 2,
       "version_minor": 0
      },
      "text/plain": [
       "HBox(children=(HTML(value=''), FloatProgress(value=0.0, max=74.0), HTML(value='')))"
      ]
     },
     "metadata": {},
     "output_type": "display_data"
    },
    {
     "name": "stdout",
     "output_type": "stream",
     "text": [
      "\n",
      ">>> Vote totals verified — 0.00041 error rate\n",
      "————————————————————————————————————————————————————————————\n",
      "Loading Homestead Exemption - Special.csv data...\n",
      " > Found data for 1 counties (1%)\n",
      "Verifying vote totals...\n"
     ]
    },
    {
     "data": {
      "application/vnd.jupyter.widget-view+json": {
       "model_id": "bab573b7c45d47ec9d993e97b6484d29",
       "version_major": 2,
       "version_minor": 0
      },
      "text/plain": [
       "HBox(children=(HTML(value=''), FloatProgress(value=0.0, max=2.0), HTML(value='')))"
      ]
     },
     "metadata": {},
     "output_type": "display_data"
    },
    {
     "name": "stdout",
     "output_type": "stream",
     "text": [
      "\n",
      "> Vote totals verified — no errors\n",
      "————————————————————————————————————————————————————————————\n",
      "Loading Harrisburg Fire Advisory Board Post 9.csv data...\n",
      " > Found data for 1 counties (1%)\n",
      "Verifying vote totals...\n"
     ]
    },
    {
     "data": {
      "application/vnd.jupyter.widget-view+json": {
       "model_id": "b8541f9e769f4229a440210ec47e2e85",
       "version_major": 2,
       "version_minor": 0
      },
      "text/plain": [
       "HBox(children=(HTML(value=''), FloatProgress(value=0.0, max=1.0), HTML(value='')))"
      ]
     },
     "metadata": {},
     "output_type": "display_data"
    },
    {
     "name": "stdout",
     "output_type": "stream",
     "text": [
      "\n",
      "> Vote totals verified — no errors\n",
      "————————————————————————————————————————————————————————————\n",
      "Loading Sheriff.csv data...\n",
      " > Found data for 159 counties (100%)\n",
      "Verifying vote totals...\n"
     ]
    },
    {
     "data": {
      "application/vnd.jupyter.widget-view+json": {
       "model_id": "76e21997a4624d70b4e3f97c7c9f5835",
       "version_major": 2,
       "version_minor": 0
      },
      "text/plain": [
       "HBox(children=(HTML(value=''), FloatProgress(value=0.0, max=205.0), HTML(value='')))"
      ]
     },
     "metadata": {},
     "output_type": "display_data"
    },
    {
     "name": "stdout",
     "output_type": "stream",
     "text": [
      "\n",
      ">>> Vote totals verified — 8e-05 error rate\n",
      "————————————————————————————————————————————————————————————\n",
      "Loading State House Dist 162.csv data...\n",
      " > Found data for 1 counties (1%)\n",
      "Verifying vote totals...\n"
     ]
    },
    {
     "data": {
      "application/vnd.jupyter.widget-view+json": {
       "model_id": "0c8e646acef34e188feca94cbf7614e2",
       "version_major": 2,
       "version_minor": 0
      },
      "text/plain": [
       "HBox(children=(HTML(value=''), FloatProgress(value=0.0, max=1.0), HTML(value='')))"
      ]
     },
     "metadata": {},
     "output_type": "display_data"
    },
    {
     "name": "stdout",
     "output_type": "stream",
     "text": [
      "\n",
      "> Vote totals verified — no errors\n",
      "————————————————————————————————————————————————————————————\n",
      "Loading State House Dist 151.csv data...\n",
      " > Found data for 9 counties (6%)\n",
      "Verifying vote totals...\n"
     ]
    },
    {
     "data": {
      "application/vnd.jupyter.widget-view+json": {
       "model_id": "15605e5b91704178ac7aee15e4e62993",
       "version_major": 2,
       "version_minor": 0
      },
      "text/plain": [
       "HBox(children=(HTML(value=''), FloatProgress(value=0.0, max=2.0), HTML(value='')))"
      ]
     },
     "metadata": {},
     "output_type": "display_data"
    },
    {
     "name": "stdout",
     "output_type": "stream",
     "text": [
      "\n",
      "> Vote totals verified — no errors\n",
      "————————————————————————————————————————————————————————————\n",
      "Loading Soil and Water - Lincoln County.csv data...\n",
      " > Found data for 1 counties (1%)\n",
      "Verifying vote totals...\n"
     ]
    },
    {
     "data": {
      "application/vnd.jupyter.widget-view+json": {
       "model_id": "3e90458ee3314b2493c0b65d7a19a6dc",
       "version_major": 2,
       "version_minor": 0
      },
      "text/plain": [
       "HBox(children=(HTML(value=''), FloatProgress(value=0.0, max=1.0), HTML(value='')))"
      ]
     },
     "metadata": {},
     "output_type": "display_data"
    },
    {
     "name": "stdout",
     "output_type": "stream",
     "text": [
      "\n",
      "> Vote totals verified — no errors\n",
      "————————————————————————————————————————————————————————————\n",
      "Loading State House Dist 3.csv data...\n",
      " > Found data for 1 counties (1%)\n",
      "Verifying vote totals...\n"
     ]
    },
    {
     "data": {
      "application/vnd.jupyter.widget-view+json": {
       "model_id": "e15a39186b914b3791387596e0edaa4e",
       "version_major": 2,
       "version_minor": 0
      },
      "text/plain": [
       "HBox(children=(HTML(value=''), FloatProgress(value=0.0, max=1.0), HTML(value='')))"
      ]
     },
     "metadata": {},
     "output_type": "display_data"
    },
    {
     "name": "stdout",
     "output_type": "stream",
     "text": [
      "\n",
      "> Vote totals verified — no errors\n",
      "————————————————————————————————————————————————————————————\n",
      "Loading Dist Attorney - South Georgia.csv data...\n",
      " > Found data for 5 counties (3%)\n",
      "Verifying vote totals...\n"
     ]
    },
    {
     "data": {
      "application/vnd.jupyter.widget-view+json": {
       "model_id": "eb9757e6b3a24b4db0ce738ca3271c53",
       "version_major": 2,
       "version_minor": 0
      },
      "text/plain": [
       "HBox(children=(HTML(value=''), FloatProgress(value=0.0, max=1.0), HTML(value='')))"
      ]
     },
     "metadata": {},
     "output_type": "display_data"
    },
    {
     "name": "stdout",
     "output_type": "stream",
     "text": [
      "\n",
      "> Vote totals verified — no errors\n",
      "————————————————————————————————————————————————————————————\n",
      "Loading County Commission Post 4.csv data...\n",
      " > Found data for 1 counties (1%)\n",
      "Verifying vote totals...\n"
     ]
    },
    {
     "data": {
      "application/vnd.jupyter.widget-view+json": {
       "model_id": "b75eba04f4b043f8a8512cdb8bdf8311",
       "version_major": 2,
       "version_minor": 0
      },
      "text/plain": [
       "HBox(children=(HTML(value=''), FloatProgress(value=0.0, max=1.0), HTML(value='')))"
      ]
     },
     "metadata": {},
     "output_type": "display_data"
    },
    {
     "name": "stdout",
     "output_type": "stream",
     "text": [
      "\n",
      "> Vote totals verified — no errors\n",
      "————————————————————————————————————————————————————————————\n",
      "Loading State House Dist 149.csv data...\n",
      " > Found data for 5 counties (3%)\n",
      "Verifying vote totals...\n"
     ]
    },
    {
     "data": {
      "application/vnd.jupyter.widget-view+json": {
       "model_id": "def46fae953b4b37a54bb4d575add38e",
       "version_major": 2,
       "version_minor": 0
      },
      "text/plain": [
       "HBox(children=(HTML(value=''), FloatProgress(value=0.0, max=1.0), HTML(value='')))"
      ]
     },
     "metadata": {},
     "output_type": "display_data"
    },
    {
     "name": "stdout",
     "output_type": "stream",
     "text": [
      "\n",
      "> Vote totals verified — no errors\n",
      "————————————————————————————————————————————————————————————\n",
      "Loading State House Dist 53.csv data...\n",
      " > Found data for 2 counties (1%)\n",
      "Verifying vote totals...\n"
     ]
    },
    {
     "data": {
      "application/vnd.jupyter.widget-view+json": {
       "model_id": "1d20b0c26c2e420b8402deef82d081cb",
       "version_major": 2,
       "version_minor": 0
      },
      "text/plain": [
       "HBox(children=(HTML(value=''), FloatProgress(value=0.0, max=1.0), HTML(value='')))"
      ]
     },
     "metadata": {},
     "output_type": "display_data"
    },
    {
     "name": "stdout",
     "output_type": "stream",
     "text": [
      "\n",
      "> Vote totals verified — no errors\n",
      "————————————————————————————————————————————————————————————\n",
      "Loading Board of Education Newton Dist.csv data...\n",
      " > Found data for 1 counties (1%)\n",
      "Verifying vote totals...\n"
     ]
    },
    {
     "data": {
      "application/vnd.jupyter.widget-view+json": {
       "model_id": "6646bc0d4bd74f0da8663a49cdf63a62",
       "version_major": 2,
       "version_minor": 0
      },
      "text/plain": [
       "HBox(children=(HTML(value=''), FloatProgress(value=0.0, max=1.0), HTML(value='')))"
      ]
     },
     "metadata": {},
     "output_type": "display_data"
    },
    {
     "name": "stdout",
     "output_type": "stream",
     "text": [
      "\n",
      "> Vote totals verified — no errors\n",
      "————————————————————————————————————————————————————————————\n",
      "Loading County Commission Dist 2 Seat B.csv data...\n",
      " > Found data for 1 counties (1%)\n",
      "Verifying vote totals...\n"
     ]
    },
    {
     "data": {
      "application/vnd.jupyter.widget-view+json": {
       "model_id": "5f1dc0d4f03f4909be443891b416a477",
       "version_major": 2,
       "version_minor": 0
      },
      "text/plain": [
       "HBox(children=(HTML(value=''), FloatProgress(value=0.0, max=2.0), HTML(value='')))"
      ]
     },
     "metadata": {},
     "output_type": "display_data"
    },
    {
     "name": "stdout",
     "output_type": "stream",
     "text": [
      "\n",
      "> Vote totals verified — no errors\n",
      "————————————————————————————————————————————————————————————\n",
      "Loading State House Dist 85.csv data...\n",
      " > Found data for 1 counties (1%)\n",
      "Verifying vote totals...\n"
     ]
    },
    {
     "data": {
      "application/vnd.jupyter.widget-view+json": {
       "model_id": "5e2ed38287224a339fe4d094de9bea0e",
       "version_major": 2,
       "version_minor": 0
      },
      "text/plain": [
       "HBox(children=(HTML(value=''), FloatProgress(value=0.0, max=1.0), HTML(value='')))"
      ]
     },
     "metadata": {},
     "output_type": "display_data"
    },
    {
     "name": "stdout",
     "output_type": "stream",
     "text": [
      "\n",
      "> Vote totals verified — no errors\n",
      "————————————————————————————————————————————————————————————\n",
      "Loading County Commission Chair.csv data...\n",
      " > Found data for 58 counties (36%)\n",
      "Verifying vote totals...\n"
     ]
    },
    {
     "data": {
      "application/vnd.jupyter.widget-view+json": {
       "model_id": "cec7b6f8fcc04bd18e0e3b7becf2eef1",
       "version_major": 2,
       "version_minor": 0
      },
      "text/plain": [
       "HBox(children=(HTML(value=''), FloatProgress(value=0.0, max=71.0), HTML(value='')))"
      ]
     },
     "metadata": {},
     "output_type": "display_data"
    },
    {
     "name": "stdout",
     "output_type": "stream",
     "text": [
      "\n",
      ">>> Vote totals verified — 0.00063 error rate\n",
      "————————————————————————————————————————————————————————————\n",
      "Loading State House Dist 50.csv data...\n",
      " > Found data for 1 counties (1%)\n",
      "Verifying vote totals...\n"
     ]
    },
    {
     "data": {
      "application/vnd.jupyter.widget-view+json": {
       "model_id": "ccb2b68dbb93410386a9feccc6ab8c7c",
       "version_major": 2,
       "version_minor": 0
      },
      "text/plain": [
       "HBox(children=(HTML(value=''), FloatProgress(value=0.0, max=2.0), HTML(value='')))"
      ]
     },
     "metadata": {},
     "output_type": "display_data"
    },
    {
     "name": "stdout",
     "output_type": "stream",
     "text": [
      "\n",
      "> Vote totals verified — no errors\n",
      "————————————————————————————————————————————————————————————\n",
      "Loading State House Dist 19.csv data...\n",
      " > Found data for 1 counties (1%)\n",
      "Verifying vote totals...\n"
     ]
    },
    {
     "data": {
      "application/vnd.jupyter.widget-view+json": {
       "model_id": "dbca50de65fa4395b796ac3783125c1c",
       "version_major": 2,
       "version_minor": 0
      },
      "text/plain": [
       "HBox(children=(HTML(value=''), FloatProgress(value=0.0, max=2.0), HTML(value='')))"
      ]
     },
     "metadata": {},
     "output_type": "display_data"
    },
    {
     "name": "stdout",
     "output_type": "stream",
     "text": [
      "\n",
      "> Vote totals verified — no errors\n",
      "————————————————————————————————————————————————————————————\n",
      "Loading Board of Education At Large.csv data...\n",
      " > Found data for 7 counties (4%)\n",
      "Verifying vote totals...\n"
     ]
    },
    {
     "data": {
      "application/vnd.jupyter.widget-view+json": {
       "model_id": "93276e381c0d404cabc463f808567d81",
       "version_major": 2,
       "version_minor": 0
      },
      "text/plain": [
       "HBox(children=(HTML(value=''), FloatProgress(value=0.0, max=9.0), HTML(value='')))"
      ]
     },
     "metadata": {},
     "output_type": "display_data"
    },
    {
     "name": "stdout",
     "output_type": "stream",
     "text": [
      "\n",
      "> Vote totals verified — no errors\n",
      "————————————————————————————————————————————————————————————\n",
      "Loading State House Dist 73.csv data...\n",
      " > Found data for 3 counties (2%)\n",
      "Verifying vote totals...\n"
     ]
    },
    {
     "data": {
      "application/vnd.jupyter.widget-view+json": {
       "model_id": "bde6dcc27dd54e578e15f4d776cb4616",
       "version_major": 2,
       "version_minor": 0
      },
      "text/plain": [
       "HBox(children=(HTML(value=''), FloatProgress(value=0.0, max=2.0), HTML(value='')))"
      ]
     },
     "metadata": {},
     "output_type": "display_data"
    },
    {
     "name": "stdout",
     "output_type": "stream",
     "text": [
      "\n",
      "> Vote totals verified — no errors\n",
      "————————————————————————————————————————————————————————————\n",
      "Loading State House Dist 26.csv data...\n",
      " > Found data for 1 counties (1%)\n",
      "Verifying vote totals...\n"
     ]
    },
    {
     "data": {
      "application/vnd.jupyter.widget-view+json": {
       "model_id": "e038b4e6a1234781b2b8b84390d450ec",
       "version_major": 2,
       "version_minor": 0
      },
      "text/plain": [
       "HBox(children=(HTML(value=''), FloatProgress(value=0.0, max=2.0), HTML(value='')))"
      ]
     },
     "metadata": {},
     "output_type": "display_data"
    },
    {
     "name": "stdout",
     "output_type": "stream",
     "text": [
      "\n",
      "> Vote totals verified — no errors\n",
      "————————————————————————————————————————————————————————————\n",
      "Loading Soil and Water - Middle South Georgia.csv data...\n",
      " > Found data for 2 counties (1%)\n",
      "Verifying vote totals...\n"
     ]
    },
    {
     "data": {
      "application/vnd.jupyter.widget-view+json": {
       "model_id": "3aa1f65c952f49e9b42042138c61161d",
       "version_major": 2,
       "version_minor": 0
      },
      "text/plain": [
       "HBox(children=(HTML(value=''), FloatProgress(value=0.0, max=2.0), HTML(value='')))"
      ]
     },
     "metadata": {},
     "output_type": "display_data"
    },
    {
     "name": "stdout",
     "output_type": "stream",
     "text": [
      "\n",
      "> Vote totals verified — no errors\n",
      "————————————————————————————————————————————————————————————\n",
      "Loading Board of Education - Deweese.csv data...\n",
      " > Found data for 1 counties (1%)\n",
      "Verifying vote totals...\n"
     ]
    },
    {
     "data": {
      "application/vnd.jupyter.widget-view+json": {
       "model_id": "4c8b726c3a44468e95a193e5905137e5",
       "version_major": 2,
       "version_minor": 0
      },
      "text/plain": [
       "HBox(children=(HTML(value=''), FloatProgress(value=0.0, max=2.0), HTML(value='')))"
      ]
     },
     "metadata": {},
     "output_type": "display_data"
    },
    {
     "name": "stdout",
     "output_type": "stream",
     "text": [
      "\n",
      "> Vote totals verified — no errors\n",
      "————————————————————————————————————————————————————————————\n",
      "Loading State Senate Dist 11.csv data...\n",
      " > Found data for 8 counties (5%)\n",
      "Verifying vote totals...\n"
     ]
    },
    {
     "data": {
      "application/vnd.jupyter.widget-view+json": {
       "model_id": "9d40579b40da4b3eb7f6f4cb59fbae26",
       "version_major": 2,
       "version_minor": 0
      },
      "text/plain": [
       "HBox(children=(HTML(value=''), FloatProgress(value=0.0, max=1.0), HTML(value='')))"
      ]
     },
     "metadata": {},
     "output_type": "display_data"
    },
    {
     "name": "stdout",
     "output_type": "stream",
     "text": [
      "\n",
      "> Vote totals verified — no errors\n",
      "————————————————————————————————————————————————————————————\n",
      "Loading State House Dist 112.csv data...\n",
      " > Found data for 2 counties (1%)\n",
      "Verifying vote totals...\n"
     ]
    },
    {
     "data": {
      "application/vnd.jupyter.widget-view+json": {
       "model_id": "f704b35ec8804087ab499075f58b7b03",
       "version_major": 2,
       "version_minor": 0
      },
      "text/plain": [
       "HBox(children=(HTML(value=''), FloatProgress(value=0.0, max=1.0), HTML(value='')))"
      ]
     },
     "metadata": {},
     "output_type": "display_data"
    },
    {
     "name": "stdout",
     "output_type": "stream",
     "text": [
      "\n",
      "> Vote totals verified — no errors\n",
      "————————————————————————————————————————————————————————————\n",
      "Loading State House Dist 155.csv data...\n",
      " > Found data for 5 counties (3%)\n",
      "Verifying vote totals...\n"
     ]
    },
    {
     "data": {
      "application/vnd.jupyter.widget-view+json": {
       "model_id": "b2eba972ea3b4fb78a5c879c44dd22a6",
       "version_major": 2,
       "version_minor": 0
      },
      "text/plain": [
       "HBox(children=(HTML(value=''), FloatProgress(value=0.0, max=2.0), HTML(value='')))"
      ]
     },
     "metadata": {},
     "output_type": "display_data"
    },
    {
     "name": "stdout",
     "output_type": "stream",
     "text": [
      "\n",
      "> Vote totals verified — no errors\n",
      "————————————————————————————————————————————————————————————\n",
      "Loading Soil and Water - Brier Creek.csv data...\n",
      " > Found data for 2 counties (1%)\n",
      "Verifying vote totals...\n"
     ]
    },
    {
     "data": {
      "application/vnd.jupyter.widget-view+json": {
       "model_id": "bd275cd0267247e181bef13a856cb482",
       "version_major": 2,
       "version_minor": 0
      },
      "text/plain": [
       "HBox(children=(HTML(value=''), FloatProgress(value=0.0, max=2.0), HTML(value='')))"
      ]
     },
     "metadata": {},
     "output_type": "display_data"
    },
    {
     "name": "stdout",
     "output_type": "stream",
     "text": [
      "\n",
      "> Vote totals verified — no errors\n",
      "————————————————————————————————————————————————————————————\n",
      "Loading State House Dist 131.csv data...\n",
      " > Found data for 3 counties (2%)\n",
      "Verifying vote totals...\n"
     ]
    },
    {
     "data": {
      "application/vnd.jupyter.widget-view+json": {
       "model_id": "6fc2cf6d8a5a4e9c9502fdfa1321cc6e",
       "version_major": 2,
       "version_minor": 0
      },
      "text/plain": [
       "HBox(children=(HTML(value=''), FloatProgress(value=0.0, max=2.0), HTML(value='')))"
      ]
     },
     "metadata": {},
     "output_type": "display_data"
    },
    {
     "name": "stdout",
     "output_type": "stream",
     "text": [
      "\n",
      "> Vote totals verified — no errors\n",
      "————————————————————————————————————————————————————————————\n",
      "Loading Manchester Regulation of Sunday Alcohol Sales By the Drink - Special.csv data...\n",
      " > Found data for 1 counties (1%)\n",
      "Verifying vote totals...\n"
     ]
    },
    {
     "data": {
      "application/vnd.jupyter.widget-view+json": {
       "model_id": "c365cc54bd0a42e19de096583cb80ee3",
       "version_major": 2,
       "version_minor": 0
      },
      "text/plain": [
       "HBox(children=(HTML(value=''), FloatProgress(value=0.0, max=2.0), HTML(value='')))"
      ]
     },
     "metadata": {},
     "output_type": "display_data"
    },
    {
     "name": "stdout",
     "output_type": "stream",
     "text": [
      "\n",
      "> Vote totals verified — no errors\n",
      "————————————————————————————————————————————————————————————\n",
      "Loading County Commission Post 5 At Large.csv data...\n",
      " > Found data for 1 counties (1%)\n",
      "Verifying vote totals...\n"
     ]
    },
    {
     "data": {
      "application/vnd.jupyter.widget-view+json": {
       "model_id": "90290f89456c4e9c831835d010838b24",
       "version_major": 2,
       "version_minor": 0
      },
      "text/plain": [
       "HBox(children=(HTML(value=''), FloatProgress(value=0.0, max=2.0), HTML(value='')))"
      ]
     },
     "metadata": {},
     "output_type": "display_data"
    },
    {
     "name": "stdout",
     "output_type": "stream",
     "text": [
      "\n",
      "> Vote totals verified — no errors\n",
      "————————————————————————————————————————————————————————————\n",
      "Loading Lakeland City Council Post 1 - Special.csv data...\n",
      " > Found data for 1 counties (1%)\n",
      "Verifying vote totals...\n"
     ]
    },
    {
     "data": {
      "application/vnd.jupyter.widget-view+json": {
       "model_id": "187406c0644b492b83a2453798978f14",
       "version_major": 2,
       "version_minor": 0
      },
      "text/plain": [
       "HBox(children=(HTML(value=''), FloatProgress(value=0.0, max=7.0), HTML(value='')))"
      ]
     },
     "metadata": {},
     "output_type": "display_data"
    },
    {
     "name": "stdout",
     "output_type": "stream",
     "text": [
      "\n",
      "> Vote totals verified — no errors\n",
      "————————————————————————————————————————————————————————————\n",
      "Loading Sales and Use Tax and Bond Election - Special.csv data...\n",
      " > Found data for 1 counties (1%)\n",
      "Verifying vote totals...\n"
     ]
    },
    {
     "data": {
      "application/vnd.jupyter.widget-view+json": {
       "model_id": "d0d7413330064a7c85aa0c0de7d1a689",
       "version_major": 2,
       "version_minor": 0
      },
      "text/plain": [
       "HBox(children=(HTML(value=''), FloatProgress(value=0.0, max=2.0), HTML(value='')))"
      ]
     },
     "metadata": {},
     "output_type": "display_data"
    },
    {
     "name": "stdout",
     "output_type": "stream",
     "text": [
      "\n",
      "> Vote totals verified — no errors\n",
      "————————————————————————————————————————————————————————————\n",
      "Loading Dist Attorney - Tifton.csv data...\n",
      " > Found data for 4 counties (3%)\n",
      "Verifying vote totals...\n"
     ]
    },
    {
     "data": {
      "application/vnd.jupyter.widget-view+json": {
       "model_id": "ece8444ad9b742d0b24f7c95761a9df9",
       "version_major": 2,
       "version_minor": 0
      },
      "text/plain": [
       "HBox(children=(HTML(value=''), FloatProgress(value=0.0, max=1.0), HTML(value='')))"
      ]
     },
     "metadata": {},
     "output_type": "display_data"
    },
    {
     "name": "stdout",
     "output_type": "stream",
     "text": [
      "\n",
      "> Vote totals verified — no errors\n",
      "————————————————————————————————————————————————————————————\n",
      "Loading Dist Attorney - Augusta.csv data...\n",
      " > Found data for 3 counties (2%)\n",
      "Verifying vote totals...\n"
     ]
    },
    {
     "data": {
      "application/vnd.jupyter.widget-view+json": {
       "model_id": "006e2bdd23fd4f7cae0a60d6ad2c0b18",
       "version_major": 2,
       "version_minor": 0
      },
      "text/plain": [
       "HBox(children=(HTML(value=''), FloatProgress(value=0.0, max=2.0), HTML(value='')))"
      ]
     },
     "metadata": {},
     "output_type": "display_data"
    },
    {
     "name": "stdout",
     "output_type": "stream",
     "text": [
      "\n",
      "> Vote totals verified — no errors\n",
      "————————————————————————————————————————————————————————————\n",
      "Loading State House Dist 41.csv data...\n",
      " > Found data for 1 counties (1%)\n",
      "Verifying vote totals...\n"
     ]
    },
    {
     "data": {
      "application/vnd.jupyter.widget-view+json": {
       "model_id": "c2d5b31ecc5e49f1815198768ba1331f",
       "version_major": 2,
       "version_minor": 0
      },
      "text/plain": [
       "HBox(children=(HTML(value=''), FloatProgress(value=0.0, max=2.0), HTML(value='')))"
      ]
     },
     "metadata": {},
     "output_type": "display_data"
    },
    {
     "name": "stdout",
     "output_type": "stream",
     "text": [
      "\n",
      "> Vote totals verified — no errors\n",
      "————————————————————————————————————————————————————————————\n",
      "Loading State House Dist 176.csv data...\n",
      " > Found data for 4 counties (3%)\n",
      "Verifying vote totals...\n"
     ]
    },
    {
     "data": {
      "application/vnd.jupyter.widget-view+json": {
       "model_id": "dc464469968b4166a880e32421eed2c1",
       "version_major": 2,
       "version_minor": 0
      },
      "text/plain": [
       "HBox(children=(HTML(value=''), FloatProgress(value=0.0, max=2.0), HTML(value='')))"
      ]
     },
     "metadata": {},
     "output_type": "display_data"
    },
    {
     "name": "stdout",
     "output_type": "stream",
     "text": [
      "\n",
      "> Vote totals verified — no errors\n",
      "————————————————————————————————————————————————————————————\n",
      "Loading State House Dist 7.csv data...\n",
      " > Found data for 3 counties (2%)\n",
      "Verifying vote totals...\n"
     ]
    },
    {
     "data": {
      "application/vnd.jupyter.widget-view+json": {
       "model_id": "2bc7579bddbf4004a3df04b526af295f",
       "version_major": 2,
       "version_minor": 0
      },
      "text/plain": [
       "HBox(children=(HTML(value=''), FloatProgress(value=0.0, max=2.0), HTML(value='')))"
      ]
     },
     "metadata": {},
     "output_type": "display_data"
    },
    {
     "name": "stdout",
     "output_type": "stream",
     "text": [
      "\n",
      "> Vote totals verified — no errors\n",
      "————————————————————————————————————————————————————————————\n",
      "Loading Dist Attorney - Macon.csv data...\n",
      " > Found data for 3 counties (2%)\n",
      "Verifying vote totals...\n"
     ]
    },
    {
     "data": {
      "application/vnd.jupyter.widget-view+json": {
       "model_id": "3a9cc07368844c95bf065e3169bd2bb4",
       "version_major": 2,
       "version_minor": 0
      },
      "text/plain": [
       "HBox(children=(HTML(value=''), FloatProgress(value=0.0, max=1.0), HTML(value='')))"
      ]
     },
     "metadata": {},
     "output_type": "display_data"
    },
    {
     "name": "stdout",
     "output_type": "stream",
     "text": [
      "\n",
      "> Vote totals verified — no errors\n",
      "————————————————————————————————————————————————————————————\n",
      "Loading State House Dist 59.csv data...\n",
      " > Found data for 1 counties (1%)\n",
      "Verifying vote totals...\n"
     ]
    },
    {
     "data": {
      "application/vnd.jupyter.widget-view+json": {
       "model_id": "07f47e4aee3e417d9a9cb7d5a36067cd",
       "version_major": 2,
       "version_minor": 0
      },
      "text/plain": [
       "HBox(children=(HTML(value=''), FloatProgress(value=0.0, max=1.0), HTML(value='')))"
      ]
     },
     "metadata": {},
     "output_type": "display_data"
    },
    {
     "name": "stdout",
     "output_type": "stream",
     "text": [
      "\n",
      "> Vote totals verified — no errors\n",
      "————————————————————————————————————————————————————————————\n",
      "Loading Surveyor.csv data...\n",
      " > Found data for 42 counties (26%)\n",
      "Verifying vote totals...\n"
     ]
    },
    {
     "data": {
      "application/vnd.jupyter.widget-view+json": {
       "model_id": "9228a240079f408bac1fc410fbfc5b41",
       "version_major": 2,
       "version_minor": 0
      },
      "text/plain": [
       "HBox(children=(HTML(value=''), FloatProgress(value=0.0, max=42.0), HTML(value='')))"
      ]
     },
     "metadata": {},
     "output_type": "display_data"
    },
    {
     "name": "stdout",
     "output_type": "stream",
     "text": [
      "\n",
      "> Vote totals verified — no errors\n",
      "————————————————————————————————————————————————————————————\n",
      "Loading Alamo City Council - Special.csv data...\n",
      " > Found data for 1 counties (1%)\n",
      "Verifying vote totals...\n"
     ]
    },
    {
     "data": {
      "application/vnd.jupyter.widget-view+json": {
       "model_id": "a398d3f132a04a7bb1d703f8f0eb1953",
       "version_major": 2,
       "version_minor": 0
      },
      "text/plain": [
       "HBox(children=(HTML(value=''), FloatProgress(value=0.0, max=4.0), HTML(value='')))"
      ]
     },
     "metadata": {},
     "output_type": "display_data"
    },
    {
     "name": "stdout",
     "output_type": "stream",
     "text": [
      "\n",
      "> Vote totals verified — no errors\n",
      "————————————————————————————————————————————————————————————\n",
      "Loading Board of Education Dist 1 Post 1.csv data...\n",
      " > Found data for 1 counties (1%)\n",
      "Verifying vote totals...\n"
     ]
    },
    {
     "data": {
      "application/vnd.jupyter.widget-view+json": {
       "model_id": "ff30575aa6ec49528d810f0776021604",
       "version_major": 2,
       "version_minor": 0
      },
      "text/plain": [
       "HBox(children=(HTML(value=''), FloatProgress(value=0.0, max=1.0), HTML(value='')))"
      ]
     },
     "metadata": {},
     "output_type": "display_data"
    },
    {
     "name": "stdout",
     "output_type": "stream",
     "text": [
      "\n",
      "> Vote totals verified — no errors\n",
      "————————————————————————————————————————————————————————————\n",
      "Loading Dist Attorney - Clayton - Special.csv data...\n",
      " > Found data for 1 counties (1%)\n",
      "Verifying vote totals...\n"
     ]
    },
    {
     "data": {
      "application/vnd.jupyter.widget-view+json": {
       "model_id": "8f657ecb5ad946c69d40b2bc84c50a4e",
       "version_major": 2,
       "version_minor": 0
      },
      "text/plain": [
       "HBox(children=(HTML(value=''), FloatProgress(value=0.0, max=1.0), HTML(value='')))"
      ]
     },
     "metadata": {},
     "output_type": "display_data"
    },
    {
     "name": "stdout",
     "output_type": "stream",
     "text": [
      "\n",
      "> Vote totals verified — no errors\n",
      "————————————————————————————————————————————————————————————\n",
      "Loading State House Dist 109.csv data...\n",
      " > Found data for 3 counties (2%)\n",
      "Verifying vote totals...\n"
     ]
    },
    {
     "data": {
      "application/vnd.jupyter.widget-view+json": {
       "model_id": "5e633049db454c93844d9eb48057715d",
       "version_major": 2,
       "version_minor": 0
      },
      "text/plain": [
       "HBox(children=(HTML(value=''), FloatProgress(value=0.0, max=2.0), HTML(value='')))"
      ]
     },
     "metadata": {},
     "output_type": "display_data"
    },
    {
     "name": "stdout",
     "output_type": "stream",
     "text": [
      "\n",
      "> Vote totals verified — no errors\n",
      "————————————————————————————————————————————————————————————\n",
      "Loading Lula Alcohol by the Drink - Special.csv data...\n",
      " > Found data for 1 counties (1%)\n",
      "Verifying vote totals...\n"
     ]
    },
    {
     "data": {
      "application/vnd.jupyter.widget-view+json": {
       "model_id": "8cc8a6314951495c8cab3affad9f2b9c",
       "version_major": 2,
       "version_minor": 0
      },
      "text/plain": [
       "HBox(children=(HTML(value=''), FloatProgress(value=0.0, max=2.0), HTML(value='')))"
      ]
     },
     "metadata": {},
     "output_type": "display_data"
    },
    {
     "name": "stdout",
     "output_type": "stream",
     "text": [
      "\n",
      "> Vote totals verified — no errors\n",
      "————————————————————————————————————————————————————————————\n",
      "Loading Pulaski County Sunday Package Sales - Special.csv data...\n",
      " > Found data for 1 counties (1%)\n",
      "Verifying vote totals...\n"
     ]
    },
    {
     "data": {
      "application/vnd.jupyter.widget-view+json": {
       "model_id": "36453f96339b459eac082e6320fb0778",
       "version_major": 2,
       "version_minor": 0
      },
      "text/plain": [
       "HBox(children=(HTML(value=''), FloatProgress(value=0.0, max=2.0), HTML(value='')))"
      ]
     },
     "metadata": {},
     "output_type": "display_data"
    },
    {
     "name": "stdout",
     "output_type": "stream",
     "text": [
      "\n",
      "> Vote totals verified — no errors\n",
      "————————————————————————————————————————————————————————————\n",
      "Loading North Jackson Fire Advisory Board Post 5.csv data...\n",
      " > Found data for 1 counties (1%)\n",
      "Verifying vote totals...\n"
     ]
    },
    {
     "data": {
      "application/vnd.jupyter.widget-view+json": {
       "model_id": "e4e9c80310dd42cb94bf3351cedee1e3",
       "version_major": 2,
       "version_minor": 0
      },
      "text/plain": [
       "HBox(children=(HTML(value=''), FloatProgress(value=0.0, max=1.0), HTML(value='')))"
      ]
     },
     "metadata": {},
     "output_type": "display_data"
    },
    {
     "name": "stdout",
     "output_type": "stream",
     "text": [
      "\n",
      "> Vote totals verified — no errors\n",
      "————————————————————————————————————————————————————————————\n",
      "Loading Soil and Water - Lower Chattahoochee River.csv data...\n",
      " > Found data for 2 counties (1%)\n",
      "Verifying vote totals...\n"
     ]
    },
    {
     "data": {
      "application/vnd.jupyter.widget-view+json": {
       "model_id": "15a2eb333d8c442297970e6a3cde3cbb",
       "version_major": 2,
       "version_minor": 0
      },
      "text/plain": [
       "HBox(children=(HTML(value=''), FloatProgress(value=0.0, max=2.0), HTML(value='')))"
      ]
     },
     "metadata": {},
     "output_type": "display_data"
    },
    {
     "name": "stdout",
     "output_type": "stream",
     "text": [
      "\n",
      "> Vote totals verified — no errors\n",
      "————————————————————————————————————————————————————————————\n",
      "Loading Soil and Water - Columbia County.csv data...\n",
      " > Found data for 1 counties (1%)\n",
      "Verifying vote totals...\n"
     ]
    },
    {
     "data": {
      "application/vnd.jupyter.widget-view+json": {
       "model_id": "cad0452b83fa482ea3318d037add025a",
       "version_major": 2,
       "version_minor": 0
      },
      "text/plain": [
       "HBox(children=(HTML(value=''), FloatProgress(value=0.0, max=1.0), HTML(value='')))"
      ]
     },
     "metadata": {},
     "output_type": "display_data"
    },
    {
     "name": "stdout",
     "output_type": "stream",
     "text": [
      "\n",
      "> Vote totals verified — no errors\n",
      "————————————————————————————————————————————————————————————\n",
      "Loading Dist Attorney - Eastern.csv data...\n",
      " > Found data for 1 counties (1%)\n",
      "Verifying vote totals...\n"
     ]
    },
    {
     "data": {
      "application/vnd.jupyter.widget-view+json": {
       "model_id": "368b42f7f2f74d84a3e3b0a7fcd9c629",
       "version_major": 2,
       "version_minor": 0
      },
      "text/plain": [
       "HBox(children=(HTML(value=''), FloatProgress(value=0.0, max=2.0), HTML(value='')))"
      ]
     },
     "metadata": {},
     "output_type": "display_data"
    },
    {
     "name": "stdout",
     "output_type": "stream",
     "text": [
      "\n",
      "> Vote totals verified — no errors\n",
      "————————————————————————————————————————————————————————————\n",
      "Loading Municipal Court Clerk.csv data...\n",
      " > Found data for 1 counties (1%)\n",
      "Verifying vote totals...\n"
     ]
    },
    {
     "data": {
      "application/vnd.jupyter.widget-view+json": {
       "model_id": "64d8e617724b4a5a8fe895bef28cd37a",
       "version_major": 2,
       "version_minor": 0
      },
      "text/plain": [
       "HBox(children=(HTML(value=''), FloatProgress(value=0.0, max=1.0), HTML(value='')))"
      ]
     },
     "metadata": {},
     "output_type": "display_data"
    },
    {
     "name": "stdout",
     "output_type": "stream",
     "text": [
      "\n",
      "> Vote totals verified — no errors\n",
      "————————————————————————————————————————————————————————————\n",
      "Loading State House Dist 27.csv data...\n",
      " > Found data for 2 counties (1%)\n",
      "Verifying vote totals...\n"
     ]
    },
    {
     "data": {
      "application/vnd.jupyter.widget-view+json": {
       "model_id": "cf763611a8e243c58f7335947d1a93d7",
       "version_major": 2,
       "version_minor": 0
      },
      "text/plain": [
       "HBox(children=(HTML(value=''), FloatProgress(value=0.0, max=1.0), HTML(value='')))"
      ]
     },
     "metadata": {},
     "output_type": "display_data"
    },
    {
     "name": "stdout",
     "output_type": "stream",
     "text": [
      "\n",
      "> Vote totals verified — no errors\n",
      "————————————————————————————————————————————————————————————\n",
      "Loading Board of Education Dist 5.csv data...\n",
      " > Found data for 25 counties (16%)\n",
      "Verifying vote totals...\n"
     ]
    },
    {
     "data": {
      "application/vnd.jupyter.widget-view+json": {
       "model_id": "6da880ab4e844861bb443e36c56eb415",
       "version_major": 2,
       "version_minor": 0
      },
      "text/plain": [
       "HBox(children=(HTML(value=''), FloatProgress(value=0.0, max=31.0), HTML(value='')))"
      ]
     },
     "metadata": {},
     "output_type": "display_data"
    },
    {
     "name": "stdout",
     "output_type": "stream",
     "text": [
      "\n",
      ">>> Vote totals verified — 0.00022 error rate\n",
      "————————————————————————————————————————————————————————————\n",
      "Loading State House Dist 174.csv data...\n",
      " > Found data for 6 counties (4%)\n",
      "Verifying vote totals...\n"
     ]
    },
    {
     "data": {
      "application/vnd.jupyter.widget-view+json": {
       "model_id": "cad25f30105947f5821bc2c9c2145fdb",
       "version_major": 2,
       "version_minor": 0
      },
      "text/plain": [
       "HBox(children=(HTML(value=''), FloatProgress(value=0.0, max=1.0), HTML(value='')))"
      ]
     },
     "metadata": {},
     "output_type": "display_data"
    },
    {
     "name": "stdout",
     "output_type": "stream",
     "text": [
      "\n",
      "> Vote totals verified — no errors\n",
      "————————————————————————————————————————————————————————————\n",
      "Loading State House Dist 34.csv data...\n",
      " > Found data for 1 counties (1%)\n",
      "Verifying vote totals...\n"
     ]
    },
    {
     "data": {
      "application/vnd.jupyter.widget-view+json": {
       "model_id": "932c00a349e046528939ae59194083c9",
       "version_major": 2,
       "version_minor": 0
      },
      "text/plain": [
       "HBox(children=(HTML(value=''), FloatProgress(value=0.0, max=2.0), HTML(value='')))"
      ]
     },
     "metadata": {},
     "output_type": "display_data"
    },
    {
     "name": "stdout",
     "output_type": "stream",
     "text": [
      "\n",
      "> Vote totals verified — no errors\n",
      "————————————————————————————————————————————————————————————\n",
      "Loading State House Dist 47.csv data...\n",
      " > Found data for 1 counties (1%)\n",
      "Verifying vote totals...\n"
     ]
    },
    {
     "data": {
      "application/vnd.jupyter.widget-view+json": {
       "model_id": "06b516f9015a4acb95200b3a27512ea5",
       "version_major": 2,
       "version_minor": 0
      },
      "text/plain": [
       "HBox(children=(HTML(value=''), FloatProgress(value=0.0, max=2.0), HTML(value='')))"
      ]
     },
     "metadata": {},
     "output_type": "display_data"
    },
    {
     "name": "stdout",
     "output_type": "stream",
     "text": [
      "\n",
      "> Vote totals verified — no errors\n",
      "————————————————————————————————————————————————————————————\n",
      "Loading State House Dist 165.csv data...\n",
      " > Found data for 1 counties (1%)\n",
      "Verifying vote totals...\n"
     ]
    },
    {
     "data": {
      "application/vnd.jupyter.widget-view+json": {
       "model_id": "308fecc462c34d23afa2a35f11e5fba9",
       "version_major": 2,
       "version_minor": 0
      },
      "text/plain": [
       "HBox(children=(HTML(value=''), FloatProgress(value=0.0, max=1.0), HTML(value='')))"
      ]
     },
     "metadata": {},
     "output_type": "display_data"
    },
    {
     "name": "stdout",
     "output_type": "stream",
     "text": [
      "\n",
      "> Vote totals verified — no errors\n",
      "————————————————————————————————————————————————————————————\n",
      "Loading Clarkston Mayor - Special.csv data...\n",
      " > Found data for 1 counties (1%)\n",
      "Verifying vote totals...\n"
     ]
    },
    {
     "data": {
      "application/vnd.jupyter.widget-view+json": {
       "model_id": "70ef4f184ce54ae8985f0b859c16922b",
       "version_major": 2,
       "version_minor": 0
      },
      "text/plain": [
       "HBox(children=(HTML(value=''), FloatProgress(value=0.0, max=2.0), HTML(value='')))"
      ]
     },
     "metadata": {},
     "output_type": "display_data"
    },
    {
     "name": "stdout",
     "output_type": "stream",
     "text": [
      "\n",
      "> Vote totals verified — no errors\n",
      "————————————————————————————————————————————————————————————\n",
      "Loading State Senate Dist 24.csv data...\n",
      " > Found data for 8 counties (5%)\n",
      "Verifying vote totals...\n"
     ]
    },
    {
     "data": {
      "application/vnd.jupyter.widget-view+json": {
       "model_id": "f79597288a1345359c36cd3541b0ed6c",
       "version_major": 2,
       "version_minor": 0
      },
      "text/plain": [
       "HBox(children=(HTML(value=''), FloatProgress(value=0.0, max=1.0), HTML(value='')))"
      ]
     },
     "metadata": {},
     "output_type": "display_data"
    },
    {
     "name": "stdout",
     "output_type": "stream",
     "text": [
      "\n",
      "> Vote totals verified — no errors\n",
      "————————————————————————————————————————————————————————————\n",
      "Loading US House Dist 8.csv data...\n",
      " > Found data for 24 counties (15%)\n",
      "Verifying vote totals...\n"
     ]
    },
    {
     "data": {
      "application/vnd.jupyter.widget-view+json": {
       "model_id": "678906a0e310472db4122a9d278ff51b",
       "version_major": 2,
       "version_minor": 0
      },
      "text/plain": [
       "HBox(children=(HTML(value=''), FloatProgress(value=0.0, max=2.0), HTML(value='')))"
      ]
     },
     "metadata": {},
     "output_type": "display_data"
    },
    {
     "name": "stdout",
     "output_type": "stream",
     "text": [
      "\n",
      "> Vote totals verified — no errors\n",
      "————————————————————————————————————————————————————————————\n",
      "Loading County Commission Gibson Dist.csv data...\n",
      " > Found data for 1 counties (1%)\n",
      "Verifying vote totals...\n"
     ]
    },
    {
     "data": {
      "application/vnd.jupyter.widget-view+json": {
       "model_id": "12cf380f7760452888a0e4b4d5355e84",
       "version_major": 2,
       "version_minor": 0
      },
      "text/plain": [
       "HBox(children=(HTML(value=''), FloatProgress(value=0.0, max=1.0), HTML(value='')))"
      ]
     },
     "metadata": {},
     "output_type": "display_data"
    },
    {
     "name": "stdout",
     "output_type": "stream",
     "text": [
      "\n",
      "> Vote totals verified — no errors\n",
      "————————————————————————————————————————————————————————————\n",
      "Loading Gwinnett-Buford Board of Education SPLOST.csv data...\n",
      " > Found data for 1 counties (1%)\n",
      "Verifying vote totals...\n"
     ]
    },
    {
     "data": {
      "application/vnd.jupyter.widget-view+json": {
       "model_id": "ab3ccf8391c24c1a90d0810d20bf20e7",
       "version_major": 2,
       "version_minor": 0
      },
      "text/plain": [
       "HBox(children=(HTML(value=''), FloatProgress(value=0.0, max=2.0), HTML(value='')))"
      ]
     },
     "metadata": {},
     "output_type": "display_data"
    },
    {
     "name": "stdout",
     "output_type": "stream",
     "text": [
      "\n",
      "> Vote totals verified — no errors\n",
      "————————————————————————————————————————————————————————————\n",
      "Loading McIntyre City Council Dist 1 - Special.csv data...\n",
      " > Found data for 1 counties (1%)\n",
      "Verifying vote totals...\n"
     ]
    },
    {
     "data": {
      "application/vnd.jupyter.widget-view+json": {
       "model_id": "c3b8a7480c784f808997a7aad3086eb3",
       "version_major": 2,
       "version_minor": 0
      },
      "text/plain": [
       "HBox(children=(HTML(value=''), FloatProgress(value=0.0, max=2.0), HTML(value='')))"
      ]
     },
     "metadata": {},
     "output_type": "display_data"
    },
    {
     "name": "stdout",
     "output_type": "stream",
     "text": [
      "\n",
      "> Vote totals verified — no errors\n",
      "————————————————————————————————————————————————————————————\n",
      "Loading State House Dist 84.csv data...\n",
      " > Found data for 1 counties (1%)\n",
      "Verifying vote totals...\n"
     ]
    },
    {
     "data": {
      "application/vnd.jupyter.widget-view+json": {
       "model_id": "fec6a2efa759442e85085c2e0857a56e",
       "version_major": 2,
       "version_minor": 0
      },
      "text/plain": [
       "HBox(children=(HTML(value=''), FloatProgress(value=0.0, max=1.0), HTML(value='')))"
      ]
     },
     "metadata": {},
     "output_type": "display_data"
    },
    {
     "name": "stdout",
     "output_type": "stream",
     "text": [
      "\n",
      "> Vote totals verified — no errors\n",
      "————————————————————————————————————————————————————————————\n",
      "Loading Municipal Court Judge.csv data...\n",
      " > Found data for 1 counties (1%)\n",
      "Verifying vote totals...\n"
     ]
    },
    {
     "data": {
      "application/vnd.jupyter.widget-view+json": {
       "model_id": "0c0192df55eb484da6c6034d93b28e98",
       "version_major": 2,
       "version_minor": 0
      },
      "text/plain": [
       "HBox(children=(HTML(value=''), FloatProgress(value=0.0, max=1.0), HTML(value='')))"
      ]
     },
     "metadata": {},
     "output_type": "display_data"
    },
    {
     "name": "stdout",
     "output_type": "stream",
     "text": [
      "\n",
      "> Vote totals verified — no errors\n",
      "————————————————————————————————————————————————————————————\n",
      "Loading Dist Attorney - Gwinnett.csv data...\n",
      " > Found data for 1 counties (1%)\n",
      "Verifying vote totals...\n"
     ]
    },
    {
     "data": {
      "application/vnd.jupyter.widget-view+json": {
       "model_id": "cdf2165a7d634abab9b10a88a7714395",
       "version_major": 2,
       "version_minor": 0
      },
      "text/plain": [
       "HBox(children=(HTML(value=''), FloatProgress(value=0.0, max=2.0), HTML(value='')))"
      ]
     },
     "metadata": {},
     "output_type": "display_data"
    },
    {
     "name": "stdout",
     "output_type": "stream",
     "text": [
      "\n",
      "> Vote totals verified — no errors\n",
      "————————————————————————————————————————————————————————————\n",
      "Loading Dist Attorney - Northern.csv data...\n",
      " > Found data for 5 counties (3%)\n",
      "Verifying vote totals...\n"
     ]
    },
    {
     "data": {
      "application/vnd.jupyter.widget-view+json": {
       "model_id": "ee6d7cd62305407a9bb69e2ae23061c1",
       "version_major": 2,
       "version_minor": 0
      },
      "text/plain": [
       "HBox(children=(HTML(value=''), FloatProgress(value=0.0, max=1.0), HTML(value='')))"
      ]
     },
     "metadata": {},
     "output_type": "display_data"
    },
    {
     "name": "stdout",
     "output_type": "stream",
     "text": [
      "\n",
      "> Vote totals verified — no errors\n",
      "————————————————————————————————————————————————————————————\n",
      "Loading State House Dist 133.csv data...\n",
      " > Found data for 3 counties (2%)\n",
      "Verifying vote totals...\n"
     ]
    },
    {
     "data": {
      "application/vnd.jupyter.widget-view+json": {
       "model_id": "2e3c59349eda4ee6bdb55762c24166ff",
       "version_major": 2,
       "version_minor": 0
      },
      "text/plain": [
       "HBox(children=(HTML(value=''), FloatProgress(value=0.0, max=1.0), HTML(value='')))"
      ]
     },
     "metadata": {},
     "output_type": "display_data"
    },
    {
     "name": "stdout",
     "output_type": "stream",
     "text": [
      "\n",
      "> Vote totals verified — no errors\n",
      "————————————————————————————————————————————————————————————\n",
      "Loading County Commission Post 3.csv data...\n",
      " > Found data for 4 counties (3%)\n",
      "Verifying vote totals...\n"
     ]
    },
    {
     "data": {
      "application/vnd.jupyter.widget-view+json": {
       "model_id": "76738c09a6634655a7db48a080e5803d",
       "version_major": 2,
       "version_minor": 0
      },
      "text/plain": [
       "HBox(children=(HTML(value=''), FloatProgress(value=0.0, max=4.0), HTML(value='')))"
      ]
     },
     "metadata": {},
     "output_type": "display_data"
    },
    {
     "name": "stdout",
     "output_type": "stream",
     "text": [
      "\n",
      "> Vote totals verified — no errors\n",
      "————————————————————————————————————————————————————————————\n",
      "Loading Euharlee City Council At Large - Special.csv data...\n",
      " > Found data for 1 counties (1%)\n",
      "Verifying vote totals...\n"
     ]
    },
    {
     "data": {
      "application/vnd.jupyter.widget-view+json": {
       "model_id": "2b8fd4d94a604d9996f361c5a760e596",
       "version_major": 2,
       "version_minor": 0
      },
      "text/plain": [
       "HBox(children=(HTML(value=''), FloatProgress(value=0.0, max=2.0), HTML(value='')))"
      ]
     },
     "metadata": {},
     "output_type": "display_data"
    },
    {
     "name": "stdout",
     "output_type": "stream",
     "text": [
      "\n",
      "> Vote totals verified — no errors\n",
      "————————————————————————————————————————————————————————————\n",
      "Loading Coroner - Special.csv data...\n",
      " > Found data for 1 counties (1%)\n",
      "Verifying vote totals...\n"
     ]
    },
    {
     "data": {
      "application/vnd.jupyter.widget-view+json": {
       "model_id": "89c823de1b6d467688701d83ecf7178e",
       "version_major": 2,
       "version_minor": 0
      },
      "text/plain": [
       "HBox(children=(HTML(value=''), FloatProgress(value=0.0, max=1.0), HTML(value='')))"
      ]
     },
     "metadata": {},
     "output_type": "display_data"
    },
    {
     "name": "stdout",
     "output_type": "stream",
     "text": [
      "\n",
      "> Vote totals verified — no errors\n",
      "————————————————————————————————————————————————————————————\n",
      "Loading Jackson Trail Fire Advisory Board Post 3.csv data...\n",
      " > Found data for 1 counties (1%)\n",
      "Verifying vote totals...\n"
     ]
    },
    {
     "data": {
      "application/vnd.jupyter.widget-view+json": {
       "model_id": "0b3a72e2015446a78fb343ab4128e5b4",
       "version_major": 2,
       "version_minor": 0
      },
      "text/plain": [
       "HBox(children=(HTML(value=''), FloatProgress(value=0.0, max=1.0), HTML(value='')))"
      ]
     },
     "metadata": {},
     "output_type": "display_data"
    },
    {
     "name": "stdout",
     "output_type": "stream",
     "text": [
      "\n",
      "> Vote totals verified — no errors\n",
      "————————————————————————————————————————————————————————————\n",
      "Loading Brd of Education Dist 1.csv data...\n",
      " > Found data for 1 counties (1%)\n",
      "Verifying vote totals...\n"
     ]
    },
    {
     "data": {
      "application/vnd.jupyter.widget-view+json": {
       "model_id": "81c6cfcca0254484b2cd549a3bf715e2",
       "version_major": 2,
       "version_minor": 0
      },
      "text/plain": [
       "HBox(children=(HTML(value=''), FloatProgress(value=0.0, max=2.0), HTML(value='')))"
      ]
     },
     "metadata": {},
     "output_type": "display_data"
    },
    {
     "name": "stdout",
     "output_type": "stream",
     "text": [
      "\n",
      "> Vote totals verified — no errors\n",
      "————————————————————————————————————————————————————————————\n",
      "Loading State House Dist 55.csv data...\n",
      " > Found data for 1 counties (1%)\n",
      "Verifying vote totals...\n"
     ]
    },
    {
     "data": {
      "application/vnd.jupyter.widget-view+json": {
       "model_id": "f4d11f48baee420c9a59b3023de239bc",
       "version_major": 2,
       "version_minor": 0
      },
      "text/plain": [
       "HBox(children=(HTML(value=''), FloatProgress(value=0.0, max=1.0), HTML(value='')))"
      ]
     },
     "metadata": {},
     "output_type": "display_data"
    },
    {
     "name": "stdout",
     "output_type": "stream",
     "text": [
      "\n",
      "> Vote totals verified — no errors\n",
      "————————————————————————————————————————————————————————————\n",
      "Loading Worth County SPLOST - Special.csv data...\n",
      " > Found data for 1 counties (1%)\n",
      "Verifying vote totals...\n"
     ]
    },
    {
     "data": {
      "application/vnd.jupyter.widget-view+json": {
       "model_id": "c32cc887fb5f47b08ed926ae8fffa0a4",
       "version_major": 2,
       "version_minor": 0
      },
      "text/plain": [
       "HBox(children=(HTML(value=''), FloatProgress(value=0.0, max=2.0), HTML(value='')))"
      ]
     },
     "metadata": {},
     "output_type": "display_data"
    },
    {
     "name": "stdout",
     "output_type": "stream",
     "text": [
      "\n",
      "> Vote totals verified — no errors\n",
      "————————————————————————————————————————————————————————————\n",
      "Loading Soil and Water - DeKalb County.csv data...\n",
      " > Found data for 1 counties (1%)\n",
      "Verifying vote totals...\n"
     ]
    },
    {
     "data": {
      "application/vnd.jupyter.widget-view+json": {
       "model_id": "4b56dd92e9d44230b1c91deb38d74bc0",
       "version_major": 2,
       "version_minor": 0
      },
      "text/plain": [
       "HBox(children=(HTML(value=''), FloatProgress(value=0.0, max=1.0), HTML(value='')))"
      ]
     },
     "metadata": {},
     "output_type": "display_data"
    },
    {
     "name": "stdout",
     "output_type": "stream",
     "text": [
      "\n",
      "> Vote totals verified — no errors\n",
      "————————————————————————————————————————————————————————————\n",
      "Loading Chief Magistrate - Special Republican Primary.csv data...\n",
      " > Found data for 1 counties (1%)\n",
      "Verifying vote totals...\n"
     ]
    },
    {
     "data": {
      "application/vnd.jupyter.widget-view+json": {
       "model_id": "c8345c17f27d43749b9f1678136e2f61",
       "version_major": 2,
       "version_minor": 0
      },
      "text/plain": [
       "HBox(children=(HTML(value=''), FloatProgress(value=0.0, max=3.0), HTML(value='')))"
      ]
     },
     "metadata": {},
     "output_type": "display_data"
    },
    {
     "name": "stdout",
     "output_type": "stream",
     "text": [
      "\n",
      "> Vote totals verified — no errors\n",
      "————————————————————————————————————————————————————————————\n",
      "Loading State House Dist 146.csv data...\n",
      " > Found data for 1 counties (1%)\n",
      "Verifying vote totals...\n"
     ]
    },
    {
     "data": {
      "application/vnd.jupyter.widget-view+json": {
       "model_id": "447595103df8422db5be63aae626f188",
       "version_major": 2,
       "version_minor": 0
      },
      "text/plain": [
       "HBox(children=(HTML(value=''), FloatProgress(value=0.0, max=1.0), HTML(value='')))"
      ]
     },
     "metadata": {},
     "output_type": "display_data"
    },
    {
     "name": "stdout",
     "output_type": "stream",
     "text": [
      "\n",
      "> Vote totals verified — no errors\n",
      "————————————————————————————————————————————————————————————\n",
      "Loading Dawson City Council Ward 4.csv data...\n",
      " > Found data for 1 counties (1%)\n",
      "Verifying vote totals...\n"
     ]
    },
    {
     "data": {
      "application/vnd.jupyter.widget-view+json": {
       "model_id": "2d2bef1512f84591a143d759c7c3bc18",
       "version_major": 2,
       "version_minor": 0
      },
      "text/plain": [
       "HBox(children=(HTML(value=''), FloatProgress(value=0.0, max=2.0), HTML(value='')))"
      ]
     },
     "metadata": {},
     "output_type": "display_data"
    },
    {
     "name": "stdout",
     "output_type": "stream",
     "text": [
      "\n",
      "> Vote totals verified — no errors\n",
      "————————————————————————————————————————————————————————————\n",
      "Loading Watkinsville City Council Post 4.csv data...\n",
      " > Found data for 1 counties (1%)\n",
      "Verifying vote totals...\n"
     ]
    },
    {
     "data": {
      "application/vnd.jupyter.widget-view+json": {
       "model_id": "1a8e4d925c2c477ea94bb26782b6f015",
       "version_major": 2,
       "version_minor": 0
      },
      "text/plain": [
       "HBox(children=(HTML(value=''), FloatProgress(value=0.0, max=2.0), HTML(value='')))"
      ]
     },
     "metadata": {},
     "output_type": "display_data"
    },
    {
     "name": "stdout",
     "output_type": "stream",
     "text": [
      "\n",
      "> Vote totals verified — no errors\n",
      "————————————————————————————————————————————————————————————\n",
      "Loading Watkinsville City Council Post 5.csv data...\n",
      " > Found data for 1 counties (1%)\n",
      "Verifying vote totals...\n"
     ]
    },
    {
     "data": {
      "application/vnd.jupyter.widget-view+json": {
       "model_id": "9e0ad86e8c9242e4a982948f189520fb",
       "version_major": 2,
       "version_minor": 0
      },
      "text/plain": [
       "HBox(children=(HTML(value=''), FloatProgress(value=0.0, max=2.0), HTML(value='')))"
      ]
     },
     "metadata": {},
     "output_type": "display_data"
    },
    {
     "name": "stdout",
     "output_type": "stream",
     "text": [
      "\n",
      "> Vote totals verified — no errors\n",
      "————————————————————————————————————————————————————————————\n",
      "Loading State House Dist 14.csv data...\n",
      " > Found data for 2 counties (1%)\n",
      "Verifying vote totals...\n"
     ]
    },
    {
     "data": {
      "application/vnd.jupyter.widget-view+json": {
       "model_id": "c5b9a1089347438ca94907e7d7c0108b",
       "version_major": 2,
       "version_minor": 0
      },
      "text/plain": [
       "HBox(children=(HTML(value=''), FloatProgress(value=0.0, max=1.0), HTML(value='')))"
      ]
     },
     "metadata": {},
     "output_type": "display_data"
    },
    {
     "name": "stdout",
     "output_type": "stream",
     "text": [
      "\n",
      "> Vote totals verified — no errors\n",
      "————————————————————————————————————————————————————————————\n",
      "Loading State House Dist 164.csv data...\n",
      " > Found data for 3 counties (2%)\n",
      "Verifying vote totals...\n"
     ]
    },
    {
     "data": {
      "application/vnd.jupyter.widget-view+json": {
       "model_id": "6b7a1ad85a15459b877e6884b6279682",
       "version_major": 2,
       "version_minor": 0
      },
      "text/plain": [
       "HBox(children=(HTML(value=''), FloatProgress(value=0.0, max=2.0), HTML(value='')))"
      ]
     },
     "metadata": {},
     "output_type": "display_data"
    },
    {
     "name": "stdout",
     "output_type": "stream",
     "text": [
      "\n",
      "> Vote totals verified — no errors\n",
      "————————————————————————————————————————————————————————————\n",
      "Loading Dist Attorney - Rome.csv data...\n",
      " > Found data for 1 counties (1%)\n",
      "Verifying vote totals...\n"
     ]
    },
    {
     "data": {
      "application/vnd.jupyter.widget-view+json": {
       "model_id": "9f3c4ba1bfa040f4baa97b8a81337c2b",
       "version_major": 2,
       "version_minor": 0
      },
      "text/plain": [
       "HBox(children=(HTML(value=''), FloatProgress(value=0.0, max=1.0), HTML(value='')))"
      ]
     },
     "metadata": {},
     "output_type": "display_data"
    },
    {
     "name": "stdout",
     "output_type": "stream",
     "text": [
      "\n",
      "> Vote totals verified — no errors\n",
      "————————————————————————————————————————————————————————————\n",
      "Loading US House Dist 3.csv data...\n",
      " > Found data for 13 counties (8%)\n",
      "Verifying vote totals...\n"
     ]
    },
    {
     "data": {
      "application/vnd.jupyter.widget-view+json": {
       "model_id": "3a5b32239d5e473497263e0468a9a5b9",
       "version_major": 2,
       "version_minor": 0
      },
      "text/plain": [
       "HBox(children=(HTML(value=''), FloatProgress(value=0.0, max=2.0), HTML(value='')))"
      ]
     },
     "metadata": {},
     "output_type": "display_data"
    },
    {
     "name": "stdout",
     "output_type": "stream",
     "text": [
      "\n",
      "> Vote totals verified — no errors\n",
      "————————————————————————————————————————————————————————————\n",
      "Loading State House Dist 49.csv data...\n",
      " > Found data for 1 counties (1%)\n",
      "Verifying vote totals...\n"
     ]
    },
    {
     "data": {
      "application/vnd.jupyter.widget-view+json": {
       "model_id": "12ed0e452b5d4caf8a4bbda8c7d369de",
       "version_major": 2,
       "version_minor": 0
      },
      "text/plain": [
       "HBox(children=(HTML(value=''), FloatProgress(value=0.0, max=2.0), HTML(value='')))"
      ]
     },
     "metadata": {},
     "output_type": "display_data"
    },
    {
     "name": "stdout",
     "output_type": "stream",
     "text": [
      "\n",
      "> Vote totals verified — no errors\n",
      "————————————————————————————————————————————————————————————\n",
      "Loading Coroner.csv data...\n",
      " > Found data for 145 counties (91%)\n",
      "   > Missing: ['Fulton', 'Gwinnett', 'Webster', 'Quitman', 'Clayton', 'Bibb', 'Brooks', 'Dodge', 'Randolph', 'Clay', 'Terrell', 'Putnam', 'DeKalb', 'Cobb']\n",
      "Verifying vote totals...\n"
     ]
    },
    {
     "data": {
      "application/vnd.jupyter.widget-view+json": {
       "model_id": "a53863a5e0dd4bd4bbac01feb6a948cb",
       "version_major": 2,
       "version_minor": 0
      },
      "text/plain": [
       "HBox(children=(HTML(value=''), FloatProgress(value=0.0, max=163.0), HTML(value='')))"
      ]
     },
     "metadata": {},
     "output_type": "display_data"
    },
    {
     "name": "stdout",
     "output_type": "stream",
     "text": [
      "\n",
      ">>> Vote totals verified — 0.00016 error rate\n",
      "————————————————————————————————————————————————————————————\n",
      "Loading Board of Education Dist 7.csv data...\n",
      " > Found data for 6 counties (4%)\n",
      "Verifying vote totals...\n"
     ]
    },
    {
     "data": {
      "application/vnd.jupyter.widget-view+json": {
       "model_id": "6188672405564e8db53474adcc7b1c18",
       "version_major": 2,
       "version_minor": 0
      },
      "text/plain": [
       "HBox(children=(HTML(value=''), FloatProgress(value=0.0, max=8.0), HTML(value='')))"
      ]
     },
     "metadata": {},
     "output_type": "display_data"
    },
    {
     "name": "stdout",
     "output_type": "stream",
     "text": [
      "\n",
      "> Vote totals verified — no errors\n",
      "————————————————————————————————————————————————————————————\n",
      "Loading State House Dist 110.csv data...\n",
      " > Found data for 3 counties (2%)\n",
      "Verifying vote totals...\n"
     ]
    },
    {
     "data": {
      "application/vnd.jupyter.widget-view+json": {
       "model_id": "5c575a384d014832bb41bea8800a2f36",
       "version_major": 2,
       "version_minor": 0
      },
      "text/plain": [
       "HBox(children=(HTML(value=''), FloatProgress(value=0.0, max=2.0), HTML(value='')))"
      ]
     },
     "metadata": {},
     "output_type": "display_data"
    },
    {
     "name": "stdout",
     "output_type": "stream",
     "text": [
      "\n",
      "> Vote totals verified — no errors\n",
      "————————————————————————————————————————————————————————————\n",
      "Loading County Commission Dist 1, Seat A.csv data...\n",
      " > Found data for 1 counties (1%)\n",
      "Verifying vote totals...\n"
     ]
    },
    {
     "data": {
      "application/vnd.jupyter.widget-view+json": {
       "model_id": "b578402a1e5b4181a6ffa75482a3bff2",
       "version_major": 2,
       "version_minor": 0
      },
      "text/plain": [
       "HBox(children=(HTML(value=''), FloatProgress(value=0.0, max=1.0), HTML(value='')))"
      ]
     },
     "metadata": {},
     "output_type": "display_data"
    },
    {
     "name": "stdout",
     "output_type": "stream",
     "text": [
      "\n",
      "> Vote totals verified — no errors\n",
      "————————————————————————————————————————————————————————————\n",
      "Loading State Senate Dist 22.csv data...\n",
      " > Found data for 1 counties (1%)\n",
      "Verifying vote totals...\n"
     ]
    },
    {
     "data": {
      "application/vnd.jupyter.widget-view+json": {
       "model_id": "80086cbc0075478a9966883126445e29",
       "version_major": 2,
       "version_minor": 0
      },
      "text/plain": [
       "HBox(children=(HTML(value=''), FloatProgress(value=0.0, max=1.0), HTML(value='')))"
      ]
     },
     "metadata": {},
     "output_type": "display_data"
    },
    {
     "name": "stdout",
     "output_type": "stream",
     "text": [
      "\n",
      "> Vote totals verified — no errors\n",
      "————————————————————————————————————————————————————————————\n",
      "Loading Nicholson Fire Advisory Board Post 5.csv data...\n",
      " > Found data for 1 counties (1%)\n",
      "Verifying vote totals...\n"
     ]
    },
    {
     "data": {
      "application/vnd.jupyter.widget-view+json": {
       "model_id": "82c7ef8972a04246a94c20451ed9f991",
       "version_major": 2,
       "version_minor": 0
      },
      "text/plain": [
       "HBox(children=(HTML(value=''), FloatProgress(value=0.0, max=1.0), HTML(value='')))"
      ]
     },
     "metadata": {},
     "output_type": "display_data"
    },
    {
     "name": "stdout",
     "output_type": "stream",
     "text": [
      "\n",
      "> Vote totals verified — no errors\n",
      "————————————————————————————————————————————————————————————\n",
      "Loading South Jackson Fire Advisory Board Post 5.csv data...\n",
      " > Found data for 1 counties (1%)\n",
      "Verifying vote totals...\n"
     ]
    },
    {
     "data": {
      "application/vnd.jupyter.widget-view+json": {
       "model_id": "954e6cee50374aeb88f17e602b00be62",
       "version_major": 2,
       "version_minor": 0
      },
      "text/plain": [
       "HBox(children=(HTML(value=''), FloatProgress(value=0.0, max=1.0), HTML(value='')))"
      ]
     },
     "metadata": {},
     "output_type": "display_data"
    },
    {
     "name": "stdout",
     "output_type": "stream",
     "text": [
      "\n",
      "> Vote totals verified — no errors\n",
      "————————————————————————————————————————————————————————————\n",
      "Loading Board of Education Chair Post 1.csv data...\n",
      " > Found data for 1 counties (1%)\n",
      "Verifying vote totals...\n"
     ]
    },
    {
     "data": {
      "application/vnd.jupyter.widget-view+json": {
       "model_id": "4a6eedaa39e14088b9a98e1b36ecd2c2",
       "version_major": 2,
       "version_minor": 0
      },
      "text/plain": [
       "HBox(children=(HTML(value=''), FloatProgress(value=0.0, max=1.0), HTML(value='')))"
      ]
     },
     "metadata": {},
     "output_type": "display_data"
    },
    {
     "name": "stdout",
     "output_type": "stream",
     "text": [
      "\n",
      "> Vote totals verified — no errors\n",
      "————————————————————————————————————————————————————————————\n",
      "Loading County Commission Dist 2, Seat A.csv data...\n",
      " > Found data for 1 counties (1%)\n",
      "Verifying vote totals...\n"
     ]
    },
    {
     "data": {
      "application/vnd.jupyter.widget-view+json": {
       "model_id": "844c037461ba4af887fd77e01d80bac3",
       "version_major": 2,
       "version_minor": 0
      },
      "text/plain": [
       "HBox(children=(HTML(value=''), FloatProgress(value=0.0, max=1.0), HTML(value='')))"
      ]
     },
     "metadata": {},
     "output_type": "display_data"
    },
    {
     "name": "stdout",
     "output_type": "stream",
     "text": [
      "\n",
      "> Vote totals verified — no errors\n",
      "————————————————————————————————————————————————————————————\n",
      "Loading Public Service Commission Dist 4.csv data...\n",
      " > Found data for 159 counties (100%)\n",
      "Verifying vote totals...\n"
     ]
    },
    {
     "data": {
      "application/vnd.jupyter.widget-view+json": {
       "model_id": "c4af802ff10844df80e4e192c57daada",
       "version_major": 2,
       "version_minor": 0
      },
      "text/plain": [
       "HBox(children=(HTML(value=''), FloatProgress(value=0.0, max=3.0), HTML(value='')))"
      ]
     },
     "metadata": {},
     "output_type": "display_data"
    },
    {
     "name": "stdout",
     "output_type": "stream",
     "text": [
      "\n",
      "> Vote totals verified — no errors\n",
      "————————————————————————————————————————————————————————————\n",
      "Loading Brd of Education Dist 3.csv data...\n",
      " > Found data for 1 counties (1%)\n",
      "Verifying vote totals...\n"
     ]
    },
    {
     "data": {
      "application/vnd.jupyter.widget-view+json": {
       "model_id": "054f28c8498946a3abd70903ec6fcc5c",
       "version_major": 2,
       "version_minor": 0
      },
      "text/plain": [
       "HBox(children=(HTML(value=''), FloatProgress(value=0.0, max=2.0), HTML(value='')))"
      ]
     },
     "metadata": {},
     "output_type": "display_data"
    },
    {
     "name": "stdout",
     "output_type": "stream",
     "text": [
      "\n",
      "> Vote totals verified — no errors\n",
      "————————————————————————————————————————————————————————————\n",
      "Loading Board of Education Hoggards Mill Dist.csv data...\n",
      " > Found data for 1 counties (1%)\n",
      "Verifying vote totals...\n"
     ]
    },
    {
     "data": {
      "application/vnd.jupyter.widget-view+json": {
       "model_id": "53dd224b2a484b18977129b0abb195ba",
       "version_major": 2,
       "version_minor": 0
      },
      "text/plain": [
       "HBox(children=(HTML(value=''), FloatProgress(value=0.0, max=1.0), HTML(value='')))"
      ]
     },
     "metadata": {},
     "output_type": "display_data"
    },
    {
     "name": "stdout",
     "output_type": "stream",
     "text": [
      "\n",
      "> Vote totals verified — no errors\n",
      "————————————————————————————————————————————————————————————\n",
      "Loading State House Dist 132.csv data...\n",
      " > Found data for 3 counties (2%)\n",
      "Verifying vote totals...\n"
     ]
    },
    {
     "data": {
      "application/vnd.jupyter.widget-view+json": {
       "model_id": "33894ee19f2d4f49a5eb68ea47a458ea",
       "version_major": 2,
       "version_minor": 0
      },
      "text/plain": [
       "HBox(children=(HTML(value=''), FloatProgress(value=0.0, max=2.0), HTML(value='')))"
      ]
     },
     "metadata": {},
     "output_type": "display_data"
    },
    {
     "name": "stdout",
     "output_type": "stream",
     "text": [
      "\n",
      "> Vote totals verified — no errors\n",
      "————————————————————————————————————————————————————————————\n",
      "Loading State House Dist 171.csv data...\n",
      " > Found data for 3 counties (2%)\n",
      "Verifying vote totals...\n"
     ]
    },
    {
     "data": {
      "application/vnd.jupyter.widget-view+json": {
       "model_id": "a4857cbfc6ff4a00a4c2e8f501dda52b",
       "version_major": 2,
       "version_minor": 0
      },
      "text/plain": [
       "HBox(children=(HTML(value=''), FloatProgress(value=0.0, max=1.0), HTML(value='')))"
      ]
     },
     "metadata": {},
     "output_type": "display_data"
    },
    {
     "name": "stdout",
     "output_type": "stream",
     "text": [
      "\n",
      "> Vote totals verified — no errors\n",
      "————————————————————————————————————————————————————————————\n",
      "Loading State House Dist 179.csv data...\n",
      " > Found data for 1 counties (1%)\n",
      "Verifying vote totals...\n"
     ]
    },
    {
     "data": {
      "application/vnd.jupyter.widget-view+json": {
       "model_id": "8532c6d1580a4ed1b45b59a4b97c5618",
       "version_major": 2,
       "version_minor": 0
      },
      "text/plain": [
       "HBox(children=(HTML(value=''), FloatProgress(value=0.0, max=2.0), HTML(value='')))"
      ]
     },
     "metadata": {},
     "output_type": "display_data"
    },
    {
     "name": "stdout",
     "output_type": "stream",
     "text": [
      "\n",
      "> Vote totals verified — no errors\n",
      "————————————————————————————————————————————————————————————\n",
      "Loading St. Marys Mayor.csv data...\n",
      " > Found data for 1 counties (1%)\n",
      "Verifying vote totals...\n"
     ]
    },
    {
     "data": {
      "application/vnd.jupyter.widget-view+json": {
       "model_id": "91fecd4fc55040c1b882386e3e061a3a",
       "version_major": 2,
       "version_minor": 0
      },
      "text/plain": [
       "HBox(children=(HTML(value=''), FloatProgress(value=0.0, max=2.0), HTML(value='')))"
      ]
     },
     "metadata": {},
     "output_type": "display_data"
    },
    {
     "name": "stdout",
     "output_type": "stream",
     "text": [
      "\n",
      "> Vote totals verified — no errors\n",
      "————————————————————————————————————————————————————————————\n",
      "Loading US House Dist 1.csv data...\n",
      " > Found data for 17 counties (11%)\n",
      "Verifying vote totals...\n"
     ]
    },
    {
     "data": {
      "application/vnd.jupyter.widget-view+json": {
       "model_id": "cc1048e1f55c4f4b9923377c3452e6f1",
       "version_major": 2,
       "version_minor": 0
      },
      "text/plain": [
       "HBox(children=(HTML(value=''), FloatProgress(value=0.0, max=2.0), HTML(value='')))"
      ]
     },
     "metadata": {},
     "output_type": "display_data"
    },
    {
     "name": "stdout",
     "output_type": "stream",
     "text": [
      "\n",
      "> Vote totals verified — no errors\n",
      "————————————————————————————————————————————————————————————\n",
      "Loading Homestead Exemption Referendum - Special.csv data...\n",
      " > Found data for 1 counties (1%)\n",
      "Verifying vote totals...\n"
     ]
    },
    {
     "data": {
      "application/vnd.jupyter.widget-view+json": {
       "model_id": "3ee857ebd7c24024936ab54ee6f8f800",
       "version_major": 2,
       "version_minor": 0
      },
      "text/plain": [
       "HBox(children=(HTML(value=''), FloatProgress(value=0.0, max=2.0), HTML(value='')))"
      ]
     },
     "metadata": {},
     "output_type": "display_data"
    },
    {
     "name": "stdout",
     "output_type": "stream",
     "text": [
      "\n",
      "> Vote totals verified — no errors\n",
      "————————————————————————————————————————————————————————————\n",
      "Loading State House Dist 43.csv data...\n",
      " > Found data for 1 counties (1%)\n",
      "Verifying vote totals...\n"
     ]
    },
    {
     "data": {
      "application/vnd.jupyter.widget-view+json": {
       "model_id": "73fbc6f50c2b457ba5e66e6ba169eec8",
       "version_major": 2,
       "version_minor": 0
      },
      "text/plain": [
       "HBox(children=(HTML(value=''), FloatProgress(value=0.0, max=2.0), HTML(value='')))"
      ]
     },
     "metadata": {},
     "output_type": "display_data"
    },
    {
     "name": "stdout",
     "output_type": "stream",
     "text": [
      "\n",
      "> Vote totals verified — no errors\n",
      "————————————————————————————————————————————————————————————\n",
      "Loading State Senate Dist 33.csv data...\n",
      " > Found data for 1 counties (1%)\n",
      "Verifying vote totals...\n"
     ]
    },
    {
     "data": {
      "application/vnd.jupyter.widget-view+json": {
       "model_id": "0b7eb2794f404ab0b6874600f9523d49",
       "version_major": 2,
       "version_minor": 0
      },
      "text/plain": [
       "HBox(children=(HTML(value=''), FloatProgress(value=0.0, max=1.0), HTML(value='')))"
      ]
     },
     "metadata": {},
     "output_type": "display_data"
    },
    {
     "name": "stdout",
     "output_type": "stream",
     "text": [
      "\n",
      "> Vote totals verified — no errors\n",
      "————————————————————————————————————————————————————————————\n",
      "Loading State Senate Dist 3.csv data...\n",
      " > Found data for 5 counties (3%)\n",
      "Verifying vote totals...\n"
     ]
    },
    {
     "data": {
      "application/vnd.jupyter.widget-view+json": {
       "model_id": "e11312dec7cf433db9adb7600f5f2b8d",
       "version_major": 2,
       "version_minor": 0
      },
      "text/plain": [
       "HBox(children=(HTML(value=''), FloatProgress(value=0.0, max=1.0), HTML(value='')))"
      ]
     },
     "metadata": {},
     "output_type": "display_data"
    },
    {
     "name": "stdout",
     "output_type": "stream",
     "text": [
      "\n",
      "> Vote totals verified — no errors\n",
      "————————————————————————————————————————————————————————————\n",
      "Loading State House Dist 61.csv data...\n",
      " > Found data for 3 counties (2%)\n",
      "Verifying vote totals...\n"
     ]
    },
    {
     "data": {
      "application/vnd.jupyter.widget-view+json": {
       "model_id": "a7f4b78fd4b3422e940ee86c5a7ebc1e",
       "version_major": 2,
       "version_minor": 0
      },
      "text/plain": [
       "HBox(children=(HTML(value=''), FloatProgress(value=0.0, max=1.0), HTML(value='')))"
      ]
     },
     "metadata": {},
     "output_type": "display_data"
    },
    {
     "name": "stdout",
     "output_type": "stream",
     "text": [
      "\n",
      "> Vote totals verified — no errors\n",
      "————————————————————————————————————————————————————————————\n",
      "Loading State House Dist 150.csv data...\n",
      " > Found data for 3 counties (2%)\n",
      "Verifying vote totals...\n"
     ]
    },
    {
     "data": {
      "application/vnd.jupyter.widget-view+json": {
       "model_id": "c99ecc3f695344f5aad5eb4cfd86a958",
       "version_major": 2,
       "version_minor": 0
      },
      "text/plain": [
       "HBox(children=(HTML(value=''), FloatProgress(value=0.0, max=1.0), HTML(value='')))"
      ]
     },
     "metadata": {},
     "output_type": "display_data"
    },
    {
     "name": "stdout",
     "output_type": "stream",
     "text": [
      "\n",
      "> Vote totals verified — no errors\n",
      "————————————————————————————————————————————————————————————\n",
      "Loading State House Dist 105.csv data...\n",
      " > Found data for 1 counties (1%)\n",
      "Verifying vote totals...\n"
     ]
    },
    {
     "data": {
      "application/vnd.jupyter.widget-view+json": {
       "model_id": "cb1f3c1f0c8047769a046148bc98a76b",
       "version_major": 2,
       "version_minor": 0
      },
      "text/plain": [
       "HBox(children=(HTML(value=''), FloatProgress(value=0.0, max=2.0), HTML(value='')))"
      ]
     },
     "metadata": {},
     "output_type": "display_data"
    },
    {
     "name": "stdout",
     "output_type": "stream",
     "text": [
      "\n",
      "> Vote totals verified — no errors\n",
      "————————————————————————————————————————————————————————————\n",
      "Loading State House Dist 86.csv data...\n",
      " > Found data for 1 counties (1%)\n",
      "Verifying vote totals...\n"
     ]
    },
    {
     "data": {
      "application/vnd.jupyter.widget-view+json": {
       "model_id": "9803976d013e490e8bb710f6616ace20",
       "version_major": 2,
       "version_minor": 0
      },
      "text/plain": [
       "HBox(children=(HTML(value=''), FloatProgress(value=0.0, max=1.0), HTML(value='')))"
      ]
     },
     "metadata": {},
     "output_type": "display_data"
    },
    {
     "name": "stdout",
     "output_type": "stream",
     "text": [
      "\n",
      "> Vote totals verified — no errors\n",
      "————————————————————————————————————————————————————————————\n",
      "Loading Co Commission Dist 1.csv data...\n",
      " > Found data for 1 counties (1%)\n",
      "Verifying vote totals...\n"
     ]
    },
    {
     "data": {
      "application/vnd.jupyter.widget-view+json": {
       "model_id": "7fc508a105b44cc48cb507d9be59fe8f",
       "version_major": 2,
       "version_minor": 0
      },
      "text/plain": [
       "HBox(children=(HTML(value=''), FloatProgress(value=0.0, max=2.0), HTML(value='')))"
      ]
     },
     "metadata": {},
     "output_type": "display_data"
    },
    {
     "name": "stdout",
     "output_type": "stream",
     "text": [
      "\n",
      "> Vote totals verified — no errors\n",
      "————————————————————————————————————————————————————————————\n",
      "Loading State House Dist 67.csv data...\n",
      " > Found data for 2 counties (1%)\n",
      "Verifying vote totals...\n"
     ]
    },
    {
     "data": {
      "application/vnd.jupyter.widget-view+json": {
       "model_id": "afee0a37be644a4ab6f52dfa13a56839",
       "version_major": 2,
       "version_minor": 0
      },
      "text/plain": [
       "HBox(children=(HTML(value=''), FloatProgress(value=0.0, max=2.0), HTML(value='')))"
      ]
     },
     "metadata": {},
     "output_type": "display_data"
    },
    {
     "name": "stdout",
     "output_type": "stream",
     "text": [
      "\n",
      "> Vote totals verified — no errors\n",
      "————————————————————————————————————————————————————————————\n",
      "Loading Board of Education Dist 5 - Special.csv data...\n",
      " > Found data for 1 counties (1%)\n",
      "Verifying vote totals...\n"
     ]
    },
    {
     "data": {
      "application/vnd.jupyter.widget-view+json": {
       "model_id": "06bdfbb48a4b4041862254b374a6d0ba",
       "version_major": 2,
       "version_minor": 0
      },
      "text/plain": [
       "HBox(children=(HTML(value=''), FloatProgress(value=0.0, max=1.0), HTML(value='')))"
      ]
     },
     "metadata": {},
     "output_type": "display_data"
    },
    {
     "name": "stdout",
     "output_type": "stream",
     "text": [
      "\n",
      "> Vote totals verified — no errors\n",
      "————————————————————————————————————————————————————————————\n",
      "Loading Board of Education Post 4.csv data...\n",
      " > Found data for 5 counties (3%)\n",
      "Verifying vote totals...\n"
     ]
    },
    {
     "data": {
      "application/vnd.jupyter.widget-view+json": {
       "model_id": "fcb958879b504505bb41230fb1f4bdb8",
       "version_major": 2,
       "version_minor": 0
      },
      "text/plain": [
       "HBox(children=(HTML(value=''), FloatProgress(value=0.0, max=6.0), HTML(value='')))"
      ]
     },
     "metadata": {},
     "output_type": "display_data"
    },
    {
     "name": "stdout",
     "output_type": "stream",
     "text": [
      "\n",
      "> Vote totals verified — no errors\n",
      "————————————————————————————————————————————————————————————\n",
      "Loading Soil and Water - Piedmont.csv data...\n",
      " > Found data for 2 counties (1%)\n",
      "Verifying vote totals...\n"
     ]
    },
    {
     "data": {
      "application/vnd.jupyter.widget-view+json": {
       "model_id": "d695cc61154941fa96081f128b03e17e",
       "version_major": 2,
       "version_minor": 0
      },
      "text/plain": [
       "HBox(children=(HTML(value=''), FloatProgress(value=0.0, max=2.0), HTML(value='')))"
      ]
     },
     "metadata": {},
     "output_type": "display_data"
    },
    {
     "name": "stdout",
     "output_type": "stream",
     "text": [
      "\n",
      "> Vote totals verified — no errors\n",
      "————————————————————————————————————————————————————————————\n",
      "Loading State House Dist 48.csv data...\n",
      " > Found data for 1 counties (1%)\n",
      "Verifying vote totals...\n"
     ]
    },
    {
     "data": {
      "application/vnd.jupyter.widget-view+json": {
       "model_id": "2816d88666f34015bf62c5702bed74f4",
       "version_major": 2,
       "version_minor": 0
      },
      "text/plain": [
       "HBox(children=(HTML(value=''), FloatProgress(value=0.0, max=2.0), HTML(value='')))"
      ]
     },
     "metadata": {},
     "output_type": "display_data"
    },
    {
     "name": "stdout",
     "output_type": "stream",
     "text": [
      "\n",
      "> Vote totals verified — no errors\n",
      "————————————————————————————————————————————————————————————\n",
      "Loading State House Dist 161.csv data...\n",
      " > Found data for 2 counties (1%)\n",
      "Verifying vote totals...\n"
     ]
    },
    {
     "data": {
      "application/vnd.jupyter.widget-view+json": {
       "model_id": "05d7ae11a1674c8ca4e6d04ef29a199e",
       "version_major": 2,
       "version_minor": 0
      },
      "text/plain": [
       "HBox(children=(HTML(value=''), FloatProgress(value=0.0, max=1.0), HTML(value='')))"
      ]
     },
     "metadata": {},
     "output_type": "display_data"
    },
    {
     "name": "stdout",
     "output_type": "stream",
     "text": [
      "\n",
      "> Vote totals verified — no errors\n",
      "————————————————————————————————————————————————————————————\n",
      "Loading State House Dist 42.csv data...\n",
      " > Found data for 1 counties (1%)\n",
      "Verifying vote totals...\n"
     ]
    },
    {
     "data": {
      "application/vnd.jupyter.widget-view+json": {
       "model_id": "2fe5475c0a284f6c885336cad13a9f43",
       "version_major": 2,
       "version_minor": 0
      },
      "text/plain": [
       "HBox(children=(HTML(value=''), FloatProgress(value=0.0, max=1.0), HTML(value='')))"
      ]
     },
     "metadata": {},
     "output_type": "display_data"
    },
    {
     "name": "stdout",
     "output_type": "stream",
     "text": [
      "\n",
      "> Vote totals verified — no errors\n",
      "————————————————————————————————————————————————————————————\n",
      "Loading Dist Attorney - Ogeechee.csv data...\n",
      " > Found data for 4 counties (3%)\n",
      "Verifying vote totals...\n"
     ]
    },
    {
     "data": {
      "application/vnd.jupyter.widget-view+json": {
       "model_id": "654643b1b4724037b6b056cd899566a7",
       "version_major": 2,
       "version_minor": 0
      },
      "text/plain": [
       "HBox(children=(HTML(value=''), FloatProgress(value=0.0, max=1.0), HTML(value='')))"
      ]
     },
     "metadata": {},
     "output_type": "display_data"
    },
    {
     "name": "stdout",
     "output_type": "stream",
     "text": [
      "\n",
      "> Vote totals verified — no errors\n",
      "————————————————————————————————————————————————————————————\n",
      "Loading Solicitor-General.csv data...\n",
      " > Found data for 1 counties (1%)\n",
      "Verifying vote totals...\n"
     ]
    },
    {
     "data": {
      "application/vnd.jupyter.widget-view+json": {
       "model_id": "5a87dd6f0ecf417db6283e89ef7606ed",
       "version_major": 2,
       "version_minor": 0
      },
      "text/plain": [
       "HBox(children=(HTML(value=''), FloatProgress(value=0.0, max=1.0), HTML(value='')))"
      ]
     },
     "metadata": {},
     "output_type": "display_data"
    },
    {
     "name": "stdout",
     "output_type": "stream",
     "text": [
      "\n",
      "> Vote totals verified — no errors\n",
      "————————————————————————————————————————————————————————————\n",
      "Loading Plainview Fire Advisory Board Post 2.csv data...\n",
      " > Found data for 1 counties (1%)\n",
      "Verifying vote totals...\n"
     ]
    },
    {
     "data": {
      "application/vnd.jupyter.widget-view+json": {
       "model_id": "a4f478af18694d74ba4fcb52504050fa",
       "version_major": 2,
       "version_minor": 0
      },
      "text/plain": [
       "HBox(children=(HTML(value=''), FloatProgress(value=0.0, max=1.0), HTML(value='')))"
      ]
     },
     "metadata": {},
     "output_type": "display_data"
    },
    {
     "name": "stdout",
     "output_type": "stream",
     "text": [
      "\n",
      "> Vote totals verified — no errors\n",
      "————————————————————————————————————————————————————————————\n",
      "Loading Dist Attorney - Towaliga.csv data...\n",
      " > Found data for 3 counties (2%)\n",
      "Verifying vote totals...\n"
     ]
    },
    {
     "data": {
      "application/vnd.jupyter.widget-view+json": {
       "model_id": "12b1aa0fdc864c1db5875cc01fb44102",
       "version_major": 2,
       "version_minor": 0
      },
      "text/plain": [
       "HBox(children=(HTML(value=''), FloatProgress(value=0.0, max=1.0), HTML(value='')))"
      ]
     },
     "metadata": {},
     "output_type": "display_data"
    },
    {
     "name": "stdout",
     "output_type": "stream",
     "text": [
      "\n",
      "> Vote totals verified — no errors\n",
      "————————————————————————————————————————————————————————————\n",
      "Loading State House Dist 116.csv data...\n",
      " > Found data for 1 counties (1%)\n",
      "Verifying vote totals...\n"
     ]
    },
    {
     "data": {
      "application/vnd.jupyter.widget-view+json": {
       "model_id": "02303031428b4df2beaf37d662d32a65",
       "version_major": 2,
       "version_minor": 0
      },
      "text/plain": [
       "HBox(children=(HTML(value=''), FloatProgress(value=0.0, max=1.0), HTML(value='')))"
      ]
     },
     "metadata": {},
     "output_type": "display_data"
    },
    {
     "name": "stdout",
     "output_type": "stream",
     "text": [
      "\n",
      "> Vote totals verified — no errors\n",
      "————————————————————————————————————————————————————————————\n",
      "Loading Soil and Water - Oconee River.csv data...\n",
      " > Found data for 2 counties (1%)\n",
      "Verifying vote totals...\n"
     ]
    },
    {
     "data": {
      "application/vnd.jupyter.widget-view+json": {
       "model_id": "1c7b8a37df214eb4a1f0cb175fbacd59",
       "version_major": 2,
       "version_minor": 0
      },
      "text/plain": [
       "HBox(children=(HTML(value=''), FloatProgress(value=0.0, max=2.0), HTML(value='')))"
      ]
     },
     "metadata": {},
     "output_type": "display_data"
    },
    {
     "name": "stdout",
     "output_type": "stream",
     "text": [
      "\n",
      "> Vote totals verified — no errors\n",
      "————————————————————————————————————————————————————————————\n",
      "Loading Soil and Water - Ohoopee River.csv data...\n",
      " > Found data for 2 counties (1%)\n",
      "Verifying vote totals...\n"
     ]
    },
    {
     "data": {
      "application/vnd.jupyter.widget-view+json": {
       "model_id": "6cc4d68b6646401d97efbcc31ceb8b6c",
       "version_major": 2,
       "version_minor": 0
      },
      "text/plain": [
       "HBox(children=(HTML(value=''), FloatProgress(value=0.0, max=2.0), HTML(value='')))"
      ]
     },
     "metadata": {},
     "output_type": "display_data"
    },
    {
     "name": "stdout",
     "output_type": "stream",
     "text": [
      "\n",
      "> Vote totals verified — no errors\n",
      "————————————————————————————————————————————————————————————\n",
      "Loading Dist Attorney - Douglas - Special.csv data...\n",
      " > Found data for 1 counties (1%)\n",
      "Verifying vote totals...\n"
     ]
    },
    {
     "data": {
      "application/vnd.jupyter.widget-view+json": {
       "model_id": "dbe6fe9625914c6c853fe1aab65db793",
       "version_major": 2,
       "version_minor": 0
      },
      "text/plain": [
       "HBox(children=(HTML(value=''), FloatProgress(value=0.0, max=1.0), HTML(value='')))"
      ]
     },
     "metadata": {},
     "output_type": "display_data"
    },
    {
     "name": "stdout",
     "output_type": "stream",
     "text": [
      "\n",
      "> Vote totals verified — no errors\n",
      "————————————————————————————————————————————————————————————\n",
      "Loading Dist Attorney - Houston.csv data...\n",
      " > Found data for 1 counties (1%)\n",
      "Verifying vote totals...\n"
     ]
    },
    {
     "data": {
      "application/vnd.jupyter.widget-view+json": {
       "model_id": "30e5c98fa6654897943ac754a675358c",
       "version_major": 2,
       "version_minor": 0
      },
      "text/plain": [
       "HBox(children=(HTML(value=''), FloatProgress(value=0.0, max=2.0), HTML(value='')))"
      ]
     },
     "metadata": {},
     "output_type": "display_data"
    },
    {
     "name": "stdout",
     "output_type": "stream",
     "text": [
      "\n",
      "> Vote totals verified — no errors\n",
      "————————————————————————————————————————————————————————————\n",
      "Loading County Chairperson.csv data...\n",
      " > Found data for 1 counties (1%)\n",
      "Verifying vote totals...\n"
     ]
    },
    {
     "data": {
      "application/vnd.jupyter.widget-view+json": {
       "model_id": "ebd973f3914043b29143918c0e7bed40",
       "version_major": 2,
       "version_minor": 0
      },
      "text/plain": [
       "HBox(children=(HTML(value=''), FloatProgress(value=0.0, max=2.0), HTML(value='')))"
      ]
     },
     "metadata": {},
     "output_type": "display_data"
    },
    {
     "name": "stdout",
     "output_type": "stream",
     "text": [
      "\n",
      "> Vote totals verified — no errors\n",
      "————————————————————————————————————————————————————————————\n",
      "Loading State House Dist 77.csv data...\n",
      " > Found data for 1 counties (1%)\n",
      "Verifying vote totals...\n"
     ]
    },
    {
     "data": {
      "application/vnd.jupyter.widget-view+json": {
       "model_id": "7b5298eac91f442d89bd451cfe59afdf",
       "version_major": 2,
       "version_minor": 0
      },
      "text/plain": [
       "HBox(children=(HTML(value=''), FloatProgress(value=0.0, max=1.0), HTML(value='')))"
      ]
     },
     "metadata": {},
     "output_type": "display_data"
    },
    {
     "name": "stdout",
     "output_type": "stream",
     "text": [
      "\n",
      "> Vote totals verified — no errors\n",
      "————————————————————————————————————————————————————————————\n",
      "Loading County Commission Anna Dist.csv data...\n",
      " > Found data for 1 counties (1%)\n",
      "Verifying vote totals...\n"
     ]
    },
    {
     "data": {
      "application/vnd.jupyter.widget-view+json": {
       "model_id": "3a0b3c638ebe43748694408eda5b64ca",
       "version_major": 2,
       "version_minor": 0
      },
      "text/plain": [
       "HBox(children=(HTML(value=''), FloatProgress(value=0.0, max=1.0), HTML(value='')))"
      ]
     },
     "metadata": {},
     "output_type": "display_data"
    },
    {
     "name": "stdout",
     "output_type": "stream",
     "text": [
      "\n",
      "> Vote totals verified — no errors\n",
      "————————————————————————————————————————————————————————————\n",
      "Loading Dist Attorney - Southern.csv data...\n",
      " > Found data for 5 counties (3%)\n",
      "Verifying vote totals...\n"
     ]
    },
    {
     "data": {
      "application/vnd.jupyter.widget-view+json": {
       "model_id": "a0f4ca36d63b4d74a245cc9becf09846",
       "version_major": 2,
       "version_minor": 0
      },
      "text/plain": [
       "HBox(children=(HTML(value=''), FloatProgress(value=0.0, max=1.0), HTML(value='')))"
      ]
     },
     "metadata": {},
     "output_type": "display_data"
    },
    {
     "name": "stdout",
     "output_type": "stream",
     "text": [
      "\n",
      "> Vote totals verified — no errors\n",
      "————————————————————————————————————————————————————————————\n",
      "Loading Good Hope City Council Post 4.csv data...\n",
      " > Found data for 1 counties (1%)\n",
      "Verifying vote totals...\n"
     ]
    },
    {
     "data": {
      "application/vnd.jupyter.widget-view+json": {
       "model_id": "e3f0959d6f9145bbae4aa8594d3553ba",
       "version_major": 2,
       "version_minor": 0
      },
      "text/plain": [
       "HBox(children=(HTML(value=''), FloatProgress(value=0.0, max=2.0), HTML(value='')))"
      ]
     },
     "metadata": {},
     "output_type": "display_data"
    },
    {
     "name": "stdout",
     "output_type": "stream",
     "text": [
      "\n",
      "> Vote totals verified — no errors\n",
      "————————————————————————————————————————————————————————————\n",
      "Loading State House Dist 117.csv data...\n",
      " > Found data for 4 counties (3%)\n",
      "Verifying vote totals...\n"
     ]
    },
    {
     "data": {
      "application/vnd.jupyter.widget-view+json": {
       "model_id": "968d20b9b4fc4186a5ea2c43646a8865",
       "version_major": 2,
       "version_minor": 0
      },
      "text/plain": [
       "HBox(children=(HTML(value=''), FloatProgress(value=0.0, max=2.0), HTML(value='')))"
      ]
     },
     "metadata": {},
     "output_type": "display_data"
    },
    {
     "name": "stdout",
     "output_type": "stream",
     "text": [
      "\n",
      "> Vote totals verified — no errors\n",
      "————————————————————————————————————————————————————————————\n",
      "Loading State House Dist 10.csv data...\n",
      " > Found data for 2 counties (1%)\n",
      "Verifying vote totals...\n"
     ]
    },
    {
     "data": {
      "application/vnd.jupyter.widget-view+json": {
       "model_id": "0c2ed92775c448e1b30601156df443a8",
       "version_major": 2,
       "version_minor": 0
      },
      "text/plain": [
       "HBox(children=(HTML(value=''), FloatProgress(value=0.0, max=2.0), HTML(value='')))"
      ]
     },
     "metadata": {},
     "output_type": "display_data"
    },
    {
     "name": "stdout",
     "output_type": "stream",
     "text": [
      "\n",
      "> Vote totals verified — no errors\n",
      "————————————————————————————————————————————————————————————\n",
      "Loading County Commission Dist 3 Post 2.csv data...\n",
      " > Found data for 1 counties (1%)\n",
      "Verifying vote totals...\n"
     ]
    },
    {
     "data": {
      "application/vnd.jupyter.widget-view+json": {
       "model_id": "397ec426b6694e19a7dcdffc6506bceb",
       "version_major": 2,
       "version_minor": 0
      },
      "text/plain": [
       "HBox(children=(HTML(value=''), FloatProgress(value=0.0, max=1.0), HTML(value='')))"
      ]
     },
     "metadata": {},
     "output_type": "display_data"
    },
    {
     "name": "stdout",
     "output_type": "stream",
     "text": [
      "\n",
      "> Vote totals verified — no errors\n",
      "————————————————————————————————————————————————————————————\n",
      "Loading State House Dist 128.csv data...\n",
      " > Found data for 7 counties (4%)\n",
      "Verifying vote totals...\n"
     ]
    },
    {
     "data": {
      "application/vnd.jupyter.widget-view+json": {
       "model_id": "21651d62b59d4d50a01fee14b41d2c4a",
       "version_major": 2,
       "version_minor": 0
      },
      "text/plain": [
       "HBox(children=(HTML(value=''), FloatProgress(value=0.0, max=1.0), HTML(value='')))"
      ]
     },
     "metadata": {},
     "output_type": "display_data"
    },
    {
     "name": "stdout",
     "output_type": "stream",
     "text": [
      "\n",
      "> Vote totals verified — no errors\n",
      "————————————————————————————————————————————————————————————\n",
      "Loading State Senate Dist 34.csv data...\n",
      " > Found data for 2 counties (1%)\n",
      "Verifying vote totals...\n"
     ]
    },
    {
     "data": {
      "application/vnd.jupyter.widget-view+json": {
       "model_id": "27e125b6ac784151ab05c3dde7a305c8",
       "version_major": 2,
       "version_minor": 0
      },
      "text/plain": [
       "HBox(children=(HTML(value=''), FloatProgress(value=0.0, max=1.0), HTML(value='')))"
      ]
     },
     "metadata": {},
     "output_type": "display_data"
    },
    {
     "name": "stdout",
     "output_type": "stream",
     "text": [
      "\n",
      "> Vote totals verified — no errors\n",
      "————————————————————————————————————————————————————————————\n",
      "Loading State House Dist 101.csv data...\n",
      " > Found data for 1 counties (1%)\n",
      "Verifying vote totals...\n"
     ]
    },
    {
     "data": {
      "application/vnd.jupyter.widget-view+json": {
       "model_id": "5c58a67df68f4264b9d6e6be9a20440c",
       "version_major": 2,
       "version_minor": 0
      },
      "text/plain": [
       "HBox(children=(HTML(value=''), FloatProgress(value=0.0, max=2.0), HTML(value='')))"
      ]
     },
     "metadata": {},
     "output_type": "display_data"
    },
    {
     "name": "stdout",
     "output_type": "stream",
     "text": [
      "\n",
      "> Vote totals verified — no errors\n",
      "————————————————————————————————————————————————————————————\n",
      "Loading County Commission Hoggards Mill Dist.csv data...\n",
      " > Found data for 1 counties (1%)\n",
      "Verifying vote totals...\n"
     ]
    },
    {
     "data": {
      "application/vnd.jupyter.widget-view+json": {
       "model_id": "3dfff9cc68544b19ba9636849e79ddcd",
       "version_major": 2,
       "version_minor": 0
      },
      "text/plain": [
       "HBox(children=(HTML(value=''), FloatProgress(value=0.0, max=1.0), HTML(value='')))"
      ]
     },
     "metadata": {},
     "output_type": "display_data"
    },
    {
     "name": "stdout",
     "output_type": "stream",
     "text": [
      "\n",
      "> Vote totals verified — no errors\n",
      "————————————————————————————————————————————————————————————\n",
      "Loading Dist Attorney - Coweta.csv data...\n",
      " > Found data for 5 counties (3%)\n",
      "Verifying vote totals...\n"
     ]
    },
    {
     "data": {
      "application/vnd.jupyter.widget-view+json": {
       "model_id": "b25f90dbe7784bca9aea5b734cd7d088",
       "version_major": 2,
       "version_minor": 0
      },
      "text/plain": [
       "HBox(children=(HTML(value=''), FloatProgress(value=0.0, max=1.0), HTML(value='')))"
      ]
     },
     "metadata": {},
     "output_type": "display_data"
    },
    {
     "name": "stdout",
     "output_type": "stream",
     "text": [
      "\n",
      "> Vote totals verified — no errors\n",
      "————————————————————————————————————————————————————————————\n",
      "Loading Chief Magistrate.csv data...\n",
      " > Found data for 40 counties (25%)\n",
      "Verifying vote totals...\n"
     ]
    },
    {
     "data": {
      "application/vnd.jupyter.widget-view+json": {
       "model_id": "32006d863d834f488cc41cd9624e3966",
       "version_major": 2,
       "version_minor": 0
      },
      "text/plain": [
       "HBox(children=(HTML(value=''), FloatProgress(value=0.0, max=44.0), HTML(value='')))"
      ]
     },
     "metadata": {},
     "output_type": "display_data"
    },
    {
     "name": "stdout",
     "output_type": "stream",
     "text": [
      "\n",
      ">>> Vote totals verified — 0.00022 error rate\n",
      "————————————————————————————————————————————————————————————\n",
      "Loading Good Hope City Council Post 2.csv data...\n",
      " > Found data for 1 counties (1%)\n",
      "Verifying vote totals...\n"
     ]
    },
    {
     "data": {
      "application/vnd.jupyter.widget-view+json": {
       "model_id": "8ad8e50987bc4c64b2a1768d4b1657ca",
       "version_major": 2,
       "version_minor": 0
      },
      "text/plain": [
       "HBox(children=(HTML(value=''), FloatProgress(value=0.0, max=1.0), HTML(value='')))"
      ]
     },
     "metadata": {},
     "output_type": "display_data"
    },
    {
     "name": "stdout",
     "output_type": "stream",
     "text": [
      "\n",
      "> Vote totals verified — no errors\n",
      "————————————————————————————————————————————————————————————\n",
      "Loading State House Dist 170.csv data...\n",
      " > Found data for 3 counties (2%)\n",
      "Verifying vote totals...\n"
     ]
    },
    {
     "data": {
      "application/vnd.jupyter.widget-view+json": {
       "model_id": "2068af7b52834e1fa9e48119e23d29f1",
       "version_major": 2,
       "version_minor": 0
      },
      "text/plain": [
       "HBox(children=(HTML(value=''), FloatProgress(value=0.0, max=2.0), HTML(value='')))"
      ]
     },
     "metadata": {},
     "output_type": "display_data"
    },
    {
     "name": "stdout",
     "output_type": "stream",
     "text": [
      "\n",
      "> Vote totals verified — no errors\n",
      "————————————————————————————————————————————————————————————\n",
      "Loading State House Dist 75.csv data...\n",
      " > Found data for 1 counties (1%)\n",
      "Verifying vote totals...\n"
     ]
    },
    {
     "data": {
      "application/vnd.jupyter.widget-view+json": {
       "model_id": "630ec737d9ac4ac7a16ebc876f948747",
       "version_major": 2,
       "version_minor": 0
      },
      "text/plain": [
       "HBox(children=(HTML(value=''), FloatProgress(value=0.0, max=1.0), HTML(value='')))"
      ]
     },
     "metadata": {},
     "output_type": "display_data"
    },
    {
     "name": "stdout",
     "output_type": "stream",
     "text": [
      "\n",
      "> Vote totals verified — no errors\n",
      "————————————————————————————————————————————————————————————\n",
      "Loading State House Dist 71.csv data...\n",
      " > Found data for 2 counties (1%)\n",
      "Verifying vote totals...\n"
     ]
    },
    {
     "data": {
      "application/vnd.jupyter.widget-view+json": {
       "model_id": "d112123accac4f10a29c06d55aba6533",
       "version_major": 2,
       "version_minor": 0
      },
      "text/plain": [
       "HBox(children=(HTML(value=''), FloatProgress(value=0.0, max=3.0), HTML(value='')))"
      ]
     },
     "metadata": {},
     "output_type": "display_data"
    },
    {
     "name": "stdout",
     "output_type": "stream",
     "text": [
      "\n",
      "> Vote totals verified — no errors\n",
      "————————————————————————————————————————————————————————————\n",
      "Loading Folkston City Council At Large - Special.csv data...\n",
      " > Found data for 1 counties (1%)\n",
      "Verifying vote totals...\n"
     ]
    },
    {
     "data": {
      "application/vnd.jupyter.widget-view+json": {
       "model_id": "87aa648106f542a2add7bd8b7c67d1ef",
       "version_major": 2,
       "version_minor": 0
      },
      "text/plain": [
       "HBox(children=(HTML(value=''), FloatProgress(value=0.0, max=2.0), HTML(value='')))"
      ]
     },
     "metadata": {},
     "output_type": "display_data"
    },
    {
     "name": "stdout",
     "output_type": "stream",
     "text": [
      "\n",
      "> Vote totals verified — no errors\n",
      "————————————————————————————————————————————————————————————\n",
      "Loading State House Dist 39.csv data...\n",
      " > Found data for 1 counties (1%)\n",
      "Verifying vote totals...\n"
     ]
    },
    {
     "data": {
      "application/vnd.jupyter.widget-view+json": {
       "model_id": "671cddf10a7340c18e007d3fc8b369ea",
       "version_major": 2,
       "version_minor": 0
      },
      "text/plain": [
       "HBox(children=(HTML(value=''), FloatProgress(value=0.0, max=2.0), HTML(value='')))"
      ]
     },
     "metadata": {},
     "output_type": "display_data"
    },
    {
     "name": "stdout",
     "output_type": "stream",
     "text": [
      "\n",
      "> Vote totals verified — no errors\n",
      "————————————————————————————————————————————————————————————\n",
      "Loading Screven Sunday Package Sales - Special.csv data...\n",
      " > Found data for 1 counties (1%)\n",
      "Verifying vote totals...\n"
     ]
    },
    {
     "data": {
      "application/vnd.jupyter.widget-view+json": {
       "model_id": "5a73fcab789547619e6c011375a16a87",
       "version_major": 2,
       "version_minor": 0
      },
      "text/plain": [
       "HBox(children=(HTML(value=''), FloatProgress(value=0.0, max=2.0), HTML(value='')))"
      ]
     },
     "metadata": {},
     "output_type": "display_data"
    },
    {
     "name": "stdout",
     "output_type": "stream",
     "text": [
      "\n",
      "> Vote totals verified — no errors\n",
      "————————————————————————————————————————————————————————————\n",
      "Loading State House Dist 134.csv data...\n",
      " > Found data for 2 counties (1%)\n",
      "Verifying vote totals...\n"
     ]
    },
    {
     "data": {
      "application/vnd.jupyter.widget-view+json": {
       "model_id": "f3a7be4e044144b3bbf4bec4934c3b45",
       "version_major": 2,
       "version_minor": 0
      },
      "text/plain": [
       "HBox(children=(HTML(value=''), FloatProgress(value=0.0, max=2.0), HTML(value='')))"
      ]
     },
     "metadata": {},
     "output_type": "display_data"
    },
    {
     "name": "stdout",
     "output_type": "stream",
     "text": [
      "\n",
      "> Vote totals verified — no errors\n",
      "————————————————————————————————————————————————————————————\n",
      "Loading County Commission Dist 6.csv data...\n",
      " > Found data for 9 counties (6%)\n",
      "Verifying vote totals...\n"
     ]
    },
    {
     "data": {
      "application/vnd.jupyter.widget-view+json": {
       "model_id": "8bd9c0f28bce4d91b06b8cc888246a7d",
       "version_major": 2,
       "version_minor": 0
      },
      "text/plain": [
       "HBox(children=(HTML(value=''), FloatProgress(value=0.0, max=13.0), HTML(value='')))"
      ]
     },
     "metadata": {},
     "output_type": "display_data"
    },
    {
     "name": "stdout",
     "output_type": "stream",
     "text": [
      "\n",
      ">>> Vote totals verified — 0.00072 error rate\n",
      "————————————————————————————————————————————————————————————\n",
      "Loading State House Dist 37.csv data...\n",
      " > Found data for 1 counties (1%)\n",
      "Verifying vote totals...\n"
     ]
    },
    {
     "data": {
      "application/vnd.jupyter.widget-view+json": {
       "model_id": "769c808b06d54ef3a3ee2fa811f23d93",
       "version_major": 2,
       "version_minor": 0
      },
      "text/plain": [
       "HBox(children=(HTML(value=''), FloatProgress(value=0.0, max=2.0), HTML(value='')))"
      ]
     },
     "metadata": {},
     "output_type": "display_data"
    },
    {
     "name": "stdout",
     "output_type": "stream",
     "text": [
      "\n",
      "> Vote totals verified — no errors\n",
      "————————————————————————————————————————————————————————————\n",
      "Loading State House Dist 107.csv data...\n",
      " > Found data for 1 counties (1%)\n",
      "Verifying vote totals...\n"
     ]
    },
    {
     "data": {
      "application/vnd.jupyter.widget-view+json": {
       "model_id": "9e1f0e5067b64c4086faee985675aa63",
       "version_major": 2,
       "version_minor": 0
      },
      "text/plain": [
       "HBox(children=(HTML(value=''), FloatProgress(value=0.0, max=2.0), HTML(value='')))"
      ]
     },
     "metadata": {},
     "output_type": "display_data"
    },
    {
     "name": "stdout",
     "output_type": "stream",
     "text": [
      "\n",
      "> Vote totals verified — no errors\n",
      "————————————————————————————————————————————————————————————\n",
      "Loading US House Dist 2.csv data...\n",
      " > Found data for 29 counties (18%)\n",
      "Verifying vote totals...\n"
     ]
    },
    {
     "data": {
      "application/vnd.jupyter.widget-view+json": {
       "model_id": "58bc31778b8547b09c014c4a13ef7468",
       "version_major": 2,
       "version_minor": 0
      },
      "text/plain": [
       "HBox(children=(HTML(value=''), FloatProgress(value=0.0, max=2.0), HTML(value='')))"
      ]
     },
     "metadata": {},
     "output_type": "display_data"
    },
    {
     "name": "stdout",
     "output_type": "stream",
     "text": [
      "\n",
      "> Vote totals verified — no errors\n",
      "————————————————————————————————————————————————————————————\n",
      "Loading County Commission Post 2.csv data...\n",
      " > Found data for 4 counties (3%)\n",
      "Verifying vote totals...\n"
     ]
    },
    {
     "data": {
      "application/vnd.jupyter.widget-view+json": {
       "model_id": "7b4f8df8691546898be79d4492552bb3",
       "version_major": 2,
       "version_minor": 0
      },
      "text/plain": [
       "HBox(children=(HTML(value=''), FloatProgress(value=0.0, max=4.0), HTML(value='')))"
      ]
     },
     "metadata": {},
     "output_type": "display_data"
    },
    {
     "name": "stdout",
     "output_type": "stream",
     "text": [
      "\n",
      "> Vote totals verified — no errors\n",
      "————————————————————————————————————————————————————————————\n",
      "Loading Board of Education Dist 4.csv data...\n",
      " > Found data for 33 counties (21%)\n",
      "Verifying vote totals...\n"
     ]
    },
    {
     "data": {
      "application/vnd.jupyter.widget-view+json": {
       "model_id": "80d3ee55c43e49bb8e7754c66e5b6b0d",
       "version_major": 2,
       "version_minor": 0
      },
      "text/plain": [
       "HBox(children=(HTML(value=''), FloatProgress(value=0.0, max=39.0), HTML(value='')))"
      ]
     },
     "metadata": {},
     "output_type": "display_data"
    },
    {
     "name": "stdout",
     "output_type": "stream",
     "text": [
      "\n",
      ">>> Vote totals verified — 0.00015 error rate\n",
      "————————————————————————————————————————————————————————————\n",
      "Loading Ashburn City Council.csv data...\n",
      " > Found data for 1 counties (1%)\n",
      "Verifying vote totals...\n"
     ]
    },
    {
     "data": {
      "application/vnd.jupyter.widget-view+json": {
       "model_id": "e17df86ccae442ffa126c90f1de0c66a",
       "version_major": 2,
       "version_minor": 0
      },
      "text/plain": [
       "HBox(children=(HTML(value=''), FloatProgress(value=0.0, max=7.0), HTML(value='')))"
      ]
     },
     "metadata": {},
     "output_type": "display_data"
    },
    {
     "name": "stdout",
     "output_type": "stream",
     "text": [
      "\n",
      "> Vote totals verified — no errors\n",
      "————————————————————————————————————————————————————————————\n",
      "Loading St. Marys City Council Post 5.csv data...\n",
      " > Found data for 1 counties (1%)\n",
      "Verifying vote totals...\n"
     ]
    },
    {
     "data": {
      "application/vnd.jupyter.widget-view+json": {
       "model_id": "6fe76d6bcb554772bb7e9257a4f7ffde",
       "version_major": 2,
       "version_minor": 0
      },
      "text/plain": [
       "HBox(children=(HTML(value=''), FloatProgress(value=0.0, max=3.0), HTML(value='')))"
      ]
     },
     "metadata": {},
     "output_type": "display_data"
    },
    {
     "name": "stdout",
     "output_type": "stream",
     "text": [
      "\n",
      "> Vote totals verified — no errors\n",
      "————————————————————————————————————————————————————————————\n",
      "Loading State House Dist 157.csv data...\n",
      " > Found data for 3 counties (2%)\n",
      "Verifying vote totals...\n"
     ]
    },
    {
     "data": {
      "application/vnd.jupyter.widget-view+json": {
       "model_id": "3be3392a61d64b2b8ce51e545e806687",
       "version_major": 2,
       "version_minor": 0
      },
      "text/plain": [
       "HBox(children=(HTML(value=''), FloatProgress(value=0.0, max=1.0), HTML(value='')))"
      ]
     },
     "metadata": {},
     "output_type": "display_data"
    },
    {
     "name": "stdout",
     "output_type": "stream",
     "text": [
      "\n",
      "> Vote totals verified — no errors\n",
      "————————————————————————————————————————————————————————————\n",
      "Loading State House Dist 70.csv data...\n",
      " > Found data for 2 counties (1%)\n",
      "Verifying vote totals...\n"
     ]
    },
    {
     "data": {
      "application/vnd.jupyter.widget-view+json": {
       "model_id": "8fb33bbadede46029b0ce93114a7be92",
       "version_major": 2,
       "version_minor": 0
      },
      "text/plain": [
       "HBox(children=(HTML(value=''), FloatProgress(value=0.0, max=1.0), HTML(value='')))"
      ]
     },
     "metadata": {},
     "output_type": "display_data"
    },
    {
     "name": "stdout",
     "output_type": "stream",
     "text": [
      "\n",
      "> Vote totals verified — no errors\n",
      "————————————————————————————————————————————————————————————\n",
      "Loading State House Dist 13.csv data...\n",
      " > Found data for 1 counties (1%)\n",
      "Verifying vote totals...\n"
     ]
    },
    {
     "data": {
      "application/vnd.jupyter.widget-view+json": {
       "model_id": "f9b35eb112d148d7ab6a0053312f55d6",
       "version_major": 2,
       "version_minor": 0
      },
      "text/plain": [
       "HBox(children=(HTML(value=''), FloatProgress(value=0.0, max=1.0), HTML(value='')))"
      ]
     },
     "metadata": {},
     "output_type": "display_data"
    },
    {
     "name": "stdout",
     "output_type": "stream",
     "text": [
      "\n",
      "> Vote totals verified — no errors\n",
      "————————————————————————————————————————————————————————————\n",
      "Loading Good Hope City Council Post 3.csv data...\n",
      " > Found data for 1 counties (1%)\n",
      "Verifying vote totals...\n"
     ]
    },
    {
     "data": {
      "application/vnd.jupyter.widget-view+json": {
       "model_id": "711bb24e12f1410b8fae35e2eb127946",
       "version_major": 2,
       "version_minor": 0
      },
      "text/plain": [
       "HBox(children=(HTML(value=''), FloatProgress(value=0.0, max=1.0), HTML(value='')))"
      ]
     },
     "metadata": {},
     "output_type": "display_data"
    },
    {
     "name": "stdout",
     "output_type": "stream",
     "text": [
      "\n",
      "> Vote totals verified — no errors\n",
      "————————————————————————————————————————————————————————————\n",
      "Loading County Commission Mill Dist.csv data...\n",
      " > Found data for 1 counties (1%)\n",
      "Verifying vote totals...\n"
     ]
    },
    {
     "data": {
      "application/vnd.jupyter.widget-view+json": {
       "model_id": "78b2344e63134b31bdeda23d890abc9b",
       "version_major": 2,
       "version_minor": 0
      },
      "text/plain": [
       "HBox(children=(HTML(value=''), FloatProgress(value=0.0, max=1.0), HTML(value='')))"
      ]
     },
     "metadata": {},
     "output_type": "display_data"
    },
    {
     "name": "stdout",
     "output_type": "stream",
     "text": [
      "\n",
      "> Vote totals verified — no errors\n",
      "————————————————————————————————————————————————————————————\n",
      "Loading State House Dist 8.csv data...\n",
      " > Found data for 4 counties (3%)\n",
      "Verifying vote totals...\n"
     ]
    },
    {
     "data": {
      "application/vnd.jupyter.widget-view+json": {
       "model_id": "6b98095a22cc44f7b07676b86cbde65a",
       "version_major": 2,
       "version_minor": 0
      },
      "text/plain": [
       "HBox(children=(HTML(value=''), FloatProgress(value=0.0, max=2.0), HTML(value='')))"
      ]
     },
     "metadata": {},
     "output_type": "display_data"
    },
    {
     "name": "stdout",
     "output_type": "stream",
     "text": [
      "\n",
      "> Vote totals verified — no errors\n",
      "————————————————————————————————————————————————————————————\n",
      "Loading County Commission Dist 2 Seat A.csv data...\n",
      " > Found data for 1 counties (1%)\n",
      "Verifying vote totals...\n"
     ]
    },
    {
     "data": {
      "application/vnd.jupyter.widget-view+json": {
       "model_id": "637c04272d3a4ea1bccf1cd83eb701a3",
       "version_major": 2,
       "version_minor": 0
      },
      "text/plain": [
       "HBox(children=(HTML(value=''), FloatProgress(value=0.0, max=1.0), HTML(value='')))"
      ]
     },
     "metadata": {},
     "output_type": "display_data"
    },
    {
     "name": "stdout",
     "output_type": "stream",
     "text": [
      "\n",
      "> Vote totals verified — no errors\n",
      "————————————————————————————————————————————————————————————\n",
      "Loading Dist Attorney - Chattahoochee.csv data...\n",
      " > Found data for 6 counties (4%)\n",
      "Verifying vote totals...\n"
     ]
    },
    {
     "data": {
      "application/vnd.jupyter.widget-view+json": {
       "model_id": "af587f0601914396b5116f6d7b7a7213",
       "version_major": 2,
       "version_minor": 0
      },
      "text/plain": [
       "HBox(children=(HTML(value=''), FloatProgress(value=0.0, max=1.0), HTML(value='')))"
      ]
     },
     "metadata": {},
     "output_type": "display_data"
    },
    {
     "name": "stdout",
     "output_type": "stream",
     "text": [
      "\n",
      "> Vote totals verified — no errors\n",
      "————————————————————————————————————————————————————————————\n",
      "Loading State Senate Dist 45.csv data...\n",
      " > Found data for 1 counties (1%)\n",
      "Verifying vote totals...\n"
     ]
    },
    {
     "data": {
      "application/vnd.jupyter.widget-view+json": {
       "model_id": "027a6f16f996459da82866645948c0af",
       "version_major": 2,
       "version_minor": 0
      },
      "text/plain": [
       "HBox(children=(HTML(value=''), FloatProgress(value=0.0, max=2.0), HTML(value='')))"
      ]
     },
     "metadata": {},
     "output_type": "display_data"
    },
    {
     "name": "stdout",
     "output_type": "stream",
     "text": [
      "\n",
      "> Vote totals verified — no errors\n",
      "————————————————————————————————————————————————————————————\n",
      "Loading Board of Education Dist 1.csv data...\n",
      " > Found data for 33 counties (21%)\n",
      "Verifying vote totals...\n"
     ]
    },
    {
     "data": {
      "application/vnd.jupyter.widget-view+json": {
       "model_id": "451490b078f14895bd209c7f8ca53781",
       "version_major": 2,
       "version_minor": 0
      },
      "text/plain": [
       "HBox(children=(HTML(value=''), FloatProgress(value=0.0, max=41.0), HTML(value='')))"
      ]
     },
     "metadata": {},
     "output_type": "display_data"
    },
    {
     "name": "stdout",
     "output_type": "stream",
     "text": [
      "\n",
      "> Vote totals verified — no errors\n",
      "————————————————————————————————————————————————————————————\n",
      "Loading State House Dist 20.csv data...\n",
      " > Found data for 1 counties (1%)\n",
      "Verifying vote totals...\n"
     ]
    },
    {
     "data": {
      "application/vnd.jupyter.widget-view+json": {
       "model_id": "eba69e6ef7e141f79816be7b53641cd1",
       "version_major": 2,
       "version_minor": 0
      },
      "text/plain": [
       "HBox(children=(HTML(value=''), FloatProgress(value=0.0, max=2.0), HTML(value='')))"
      ]
     },
     "metadata": {},
     "output_type": "display_data"
    },
    {
     "name": "stdout",
     "output_type": "stream",
     "text": [
      "\n",
      "> Vote totals verified — no errors\n",
      "————————————————————————————————————————————————————————————\n",
      "Loading State House Dist 25.csv data...\n",
      " > Found data for 2 counties (1%)\n",
      "Verifying vote totals...\n"
     ]
    },
    {
     "data": {
      "application/vnd.jupyter.widget-view+json": {
       "model_id": "15760040971c45a68efb8c9572f691f4",
       "version_major": 2,
       "version_minor": 0
      },
      "text/plain": [
       "HBox(children=(HTML(value=''), FloatProgress(value=0.0, max=2.0), HTML(value='')))"
      ]
     },
     "metadata": {},
     "output_type": "display_data"
    },
    {
     "name": "stdout",
     "output_type": "stream",
     "text": [
      "\n",
      "> Vote totals verified — no errors\n",
      "————————————————————————————————————————————————————————————\n",
      "Loading Probate-Magistrate Judge.csv data...\n",
      " > Found data for 5 counties (3%)\n",
      "Verifying vote totals...\n"
     ]
    },
    {
     "data": {
      "application/vnd.jupyter.widget-view+json": {
       "model_id": "1e78e46dffcf49c9af66707df373053a",
       "version_major": 2,
       "version_minor": 0
      },
      "text/plain": [
       "HBox(children=(HTML(value=''), FloatProgress(value=0.0, max=5.0), HTML(value='')))"
      ]
     },
     "metadata": {},
     "output_type": "display_data"
    },
    {
     "name": "stdout",
     "output_type": "stream",
     "text": [
      "\n",
      "> Vote totals verified — no errors\n",
      "————————————————————————————————————————————————————————————\n",
      "Loading Dist Attorney - Oconee.csv data...\n",
      " > Found data for 6 counties (4%)\n",
      "Verifying vote totals...\n"
     ]
    },
    {
     "data": {
      "application/vnd.jupyter.widget-view+json": {
       "model_id": "18080916948c4c589014020beec10bf8",
       "version_major": 2,
       "version_minor": 0
      },
      "text/plain": [
       "HBox(children=(HTML(value=''), FloatProgress(value=0.0, max=1.0), HTML(value='')))"
      ]
     },
     "metadata": {},
     "output_type": "display_data"
    },
    {
     "name": "stdout",
     "output_type": "stream",
     "text": [
      "\n",
      "> Vote totals verified — no errors\n",
      "————————————————————————————————————————————————————————————\n",
      "Loading State House Dist 136.csv data...\n",
      " > Found data for 1 counties (1%)\n",
      "Verifying vote totals...\n"
     ]
    },
    {
     "data": {
      "application/vnd.jupyter.widget-view+json": {
       "model_id": "6b6487ced89b4bf2b029832fc45c99cc",
       "version_major": 2,
       "version_minor": 0
      },
      "text/plain": [
       "HBox(children=(HTML(value=''), FloatProgress(value=0.0, max=1.0), HTML(value='')))"
      ]
     },
     "metadata": {},
     "output_type": "display_data"
    },
    {
     "name": "stdout",
     "output_type": "stream",
     "text": [
      "\n",
      "> Vote totals verified — no errors\n",
      "————————————————————————————————————————————————————————————\n",
      "Loading State Senate Dist 6.csv data...\n",
      " > Found data for 2 counties (1%)\n",
      "Verifying vote totals...\n"
     ]
    },
    {
     "data": {
      "application/vnd.jupyter.widget-view+json": {
       "model_id": "a9ec99d203a34989b8f909a68a835dcc",
       "version_major": 2,
       "version_minor": 0
      },
      "text/plain": [
       "HBox(children=(HTML(value=''), FloatProgress(value=0.0, max=2.0), HTML(value='')))"
      ]
     },
     "metadata": {},
     "output_type": "display_data"
    },
    {
     "name": "stdout",
     "output_type": "stream",
     "text": [
      "\n",
      "> Vote totals verified — no errors\n",
      "————————————————————————————————————————————————————————————\n",
      "Loading State House Dist 108.csv data...\n",
      " > Found data for 1 counties (1%)\n",
      "Verifying vote totals...\n"
     ]
    },
    {
     "data": {
      "application/vnd.jupyter.widget-view+json": {
       "model_id": "e7aece362d90468ab6f60749d13aeb46",
       "version_major": 2,
       "version_minor": 0
      },
      "text/plain": [
       "HBox(children=(HTML(value=''), FloatProgress(value=0.0, max=2.0), HTML(value='')))"
      ]
     },
     "metadata": {},
     "output_type": "display_data"
    },
    {
     "name": "stdout",
     "output_type": "stream",
     "text": [
      "\n",
      "> Vote totals verified — no errors\n",
      "————————————————————————————————————————————————————————————\n",
      "Loading State House Dist 145.csv data...\n",
      " > Found data for 2 counties (1%)\n",
      "Verifying vote totals...\n"
     ]
    },
    {
     "data": {
      "application/vnd.jupyter.widget-view+json": {
       "model_id": "83855d42e7f148d8871d1e94e79fd93c",
       "version_major": 2,
       "version_minor": 0
      },
      "text/plain": [
       "HBox(children=(HTML(value=''), FloatProgress(value=0.0, max=2.0), HTML(value='')))"
      ]
     },
     "metadata": {},
     "output_type": "display_data"
    },
    {
     "name": "stdout",
     "output_type": "stream",
     "text": [
      "\n",
      "> Vote totals verified — no errors\n",
      "————————————————————————————————————————————————————————————\n",
      "Loading State House Dist 30.csv data...\n",
      " > Found data for 1 counties (1%)\n",
      "Verifying vote totals...\n"
     ]
    },
    {
     "data": {
      "application/vnd.jupyter.widget-view+json": {
       "model_id": "38e3527fc9bd403f8fc518854c4ccf61",
       "version_major": 2,
       "version_minor": 0
      },
      "text/plain": [
       "HBox(children=(HTML(value=''), FloatProgress(value=0.0, max=2.0), HTML(value='')))"
      ]
     },
     "metadata": {},
     "output_type": "display_data"
    },
    {
     "name": "stdout",
     "output_type": "stream",
     "text": [
      "\n",
      "> Vote totals verified — no errors\n",
      "————————————————————————————————————————————————————————————\n",
      "Loading Board of Education Dist 8.csv data...\n",
      " > Found data for 1 counties (1%)\n",
      "Verifying vote totals...\n"
     ]
    },
    {
     "data": {
      "application/vnd.jupyter.widget-view+json": {
       "model_id": "76353e6f3fc74e89927d3aa44dd618d7",
       "version_major": 2,
       "version_minor": 0
      },
      "text/plain": [
       "HBox(children=(HTML(value=''), FloatProgress(value=0.0, max=2.0), HTML(value='')))"
      ]
     },
     "metadata": {},
     "output_type": "display_data"
    },
    {
     "name": "stdout",
     "output_type": "stream",
     "text": [
      "\n",
      "> Vote totals verified — no errors\n",
      "————————————————————————————————————————————————————————————\n",
      "Loading State Senate Dist 18.csv data...\n",
      " > Found data for 6 counties (4%)\n",
      "Verifying vote totals...\n"
     ]
    },
    {
     "data": {
      "application/vnd.jupyter.widget-view+json": {
       "model_id": "0d45326134ac41ce92dff95af176ad2e",
       "version_major": 2,
       "version_minor": 0
      },
      "text/plain": [
       "HBox(children=(HTML(value=''), FloatProgress(value=0.0, max=1.0), HTML(value='')))"
      ]
     },
     "metadata": {},
     "output_type": "display_data"
    },
    {
     "name": "stdout",
     "output_type": "stream",
     "text": [
      "\n",
      "> Vote totals verified — no errors\n",
      "————————————————————————————————————————————————————————————\n",
      "Loading State House Dist 130.csv data...\n",
      " > Found data for 3 counties (2%)\n",
      "Verifying vote totals...\n"
     ]
    },
    {
     "data": {
      "application/vnd.jupyter.widget-view+json": {
       "model_id": "b054c2f7f6144ffcaa0d45f1c979819d",
       "version_major": 2,
       "version_minor": 0
      },
      "text/plain": [
       "HBox(children=(HTML(value=''), FloatProgress(value=0.0, max=2.0), HTML(value='')))"
      ]
     },
     "metadata": {},
     "output_type": "display_data"
    },
    {
     "name": "stdout",
     "output_type": "stream",
     "text": [
      "\n",
      "> Vote totals verified — no errors\n",
      "————————————————————————————————————————————————————————————\n",
      "Loading State House Dist 154.csv data...\n",
      " > Found data for 4 counties (3%)\n",
      "Verifying vote totals...\n"
     ]
    },
    {
     "data": {
      "application/vnd.jupyter.widget-view+json": {
       "model_id": "fd897a11730549e48032f8d276e36191",
       "version_major": 2,
       "version_minor": 0
      },
      "text/plain": [
       "HBox(children=(HTML(value=''), FloatProgress(value=0.0, max=1.0), HTML(value='')))"
      ]
     },
     "metadata": {},
     "output_type": "display_data"
    },
    {
     "name": "stdout",
     "output_type": "stream",
     "text": [
      "\n",
      "> Vote totals verified — no errors\n",
      "————————————————————————————————————————————————————————————\n",
      "Loading Milner City Council - Special.csv data...\n",
      " > Found data for 1 counties (1%)\n",
      "Verifying vote totals...\n"
     ]
    },
    {
     "data": {
      "application/vnd.jupyter.widget-view+json": {
       "model_id": "9efb633bc6d342aa8caa40b769aa0b81",
       "version_major": 2,
       "version_minor": 0
      },
      "text/plain": [
       "HBox(children=(HTML(value=''), FloatProgress(value=0.0, max=2.0), HTML(value='')))"
      ]
     },
     "metadata": {},
     "output_type": "display_data"
    },
    {
     "name": "stdout",
     "output_type": "stream",
     "text": [
      "\n",
      "> Vote totals verified — no errors\n",
      "————————————————————————————————————————————————————————————\n",
      "Loading State Senate Dist 50.csv data...\n",
      " > Found data for 8 counties (5%)\n",
      "Verifying vote totals...\n"
     ]
    },
    {
     "data": {
      "application/vnd.jupyter.widget-view+json": {
       "model_id": "f094bc413c774402a4f81f373fa0c87b",
       "version_major": 2,
       "version_minor": 0
      },
      "text/plain": [
       "HBox(children=(HTML(value=''), FloatProgress(value=0.0, max=2.0), HTML(value='')))"
      ]
     },
     "metadata": {},
     "output_type": "display_data"
    },
    {
     "name": "stdout",
     "output_type": "stream",
     "text": [
      "\n",
      "> Vote totals verified — no errors\n",
      "————————————————————————————————————————————————————————————\n",
      "Loading County Commission Dist 2 (Term Expires 2022) - Special.csv data...\n",
      " > Found data for 1 counties (1%)\n",
      "Verifying vote totals...\n"
     ]
    },
    {
     "data": {
      "application/vnd.jupyter.widget-view+json": {
       "model_id": "00b06fb62b2142fabd86e4a626d66b25",
       "version_major": 2,
       "version_minor": 0
      },
      "text/plain": [
       "HBox(children=(HTML(value=''), FloatProgress(value=0.0, max=5.0), HTML(value='')))"
      ]
     },
     "metadata": {},
     "output_type": "display_data"
    },
    {
     "name": "stdout",
     "output_type": "stream",
     "text": [
      "\n",
      "> Vote totals verified — no errors\n",
      "————————————————————————————————————————————————————————————\n",
      "Loading Dawson City Council Ward 3.csv data...\n",
      " > Found data for 1 counties (1%)\n",
      "Verifying vote totals...\n"
     ]
    },
    {
     "data": {
      "application/vnd.jupyter.widget-view+json": {
       "model_id": "1dd06ef40fd94eebb46d45bed1d88648",
       "version_major": 2,
       "version_minor": 0
      },
      "text/plain": [
       "HBox(children=(HTML(value=''), FloatProgress(value=0.0, max=2.0), HTML(value='')))"
      ]
     },
     "metadata": {},
     "output_type": "display_data"
    },
    {
     "name": "stdout",
     "output_type": "stream",
     "text": [
      "\n",
      "> Vote totals verified — no errors\n",
      "————————————————————————————————————————————————————————————\n",
      "Loading County Commissioner.csv data...\n",
      " > Found data for 1 counties (1%)\n",
      "Verifying vote totals...\n"
     ]
    },
    {
     "data": {
      "application/vnd.jupyter.widget-view+json": {
       "model_id": "e9101284816241b99c8f88df72db72e3",
       "version_major": 2,
       "version_minor": 0
      },
      "text/plain": [
       "HBox(children=(HTML(value=''), FloatProgress(value=0.0, max=2.0), HTML(value='')))"
      ]
     },
     "metadata": {},
     "output_type": "display_data"
    },
    {
     "name": "stdout",
     "output_type": "stream",
     "text": [
      "\n",
      "> Vote totals verified — no errors\n",
      "————————————————————————————————————————————————————————————\n",
      "Loading State House Dist 178.csv data...\n",
      " > Found data for 4 counties (3%)\n",
      "Verifying vote totals...\n"
     ]
    },
    {
     "data": {
      "application/vnd.jupyter.widget-view+json": {
       "model_id": "48754d89efd2404db57258440165ead8",
       "version_major": 2,
       "version_minor": 0
      },
      "text/plain": [
       "HBox(children=(HTML(value=''), FloatProgress(value=0.0, max=1.0), HTML(value='')))"
      ]
     },
     "metadata": {},
     "output_type": "display_data"
    },
    {
     "name": "stdout",
     "output_type": "stream",
     "text": [
      "\n",
      "> Vote totals verified — no errors\n",
      "————————————————————————————————————————————————————————————\n",
      "Loading State House Dist 166.csv data...\n",
      " > Found data for 2 counties (1%)\n",
      "Verifying vote totals...\n"
     ]
    },
    {
     "data": {
      "application/vnd.jupyter.widget-view+json": {
       "model_id": "02ab4515b4b84c2599333e2f8ed94010",
       "version_major": 2,
       "version_minor": 0
      },
      "text/plain": [
       "HBox(children=(HTML(value=''), FloatProgress(value=0.0, max=2.0), HTML(value='')))"
      ]
     },
     "metadata": {},
     "output_type": "display_data"
    },
    {
     "name": "stdout",
     "output_type": "stream",
     "text": [
      "\n",
      "> Vote totals verified — no errors\n",
      "————————————————————————————————————————————————————————————\n",
      "Loading State Senate Dist 43.csv data...\n",
      " > Found data for 3 counties (2%)\n",
      "Verifying vote totals...\n"
     ]
    },
    {
     "data": {
      "application/vnd.jupyter.widget-view+json": {
       "model_id": "b3722abc37de49c0bde693609e75e87c",
       "version_major": 2,
       "version_minor": 0
      },
      "text/plain": [
       "HBox(children=(HTML(value=''), FloatProgress(value=0.0, max=2.0), HTML(value='')))"
      ]
     },
     "metadata": {},
     "output_type": "display_data"
    },
    {
     "name": "stdout",
     "output_type": "stream",
     "text": [
      "\n",
      "> Vote totals verified — no errors\n",
      "————————————————————————————————————————————————————————————\n",
      "Loading Soil and Water - Pine Mountain.csv data...\n",
      " > Found data for 2 counties (1%)\n",
      "Verifying vote totals...\n"
     ]
    },
    {
     "data": {
      "application/vnd.jupyter.widget-view+json": {
       "model_id": "70a8855ae4764712a4c0bf3b3f38f3da",
       "version_major": 2,
       "version_minor": 0
      },
      "text/plain": [
       "HBox(children=(HTML(value=''), FloatProgress(value=0.0, max=2.0), HTML(value='')))"
      ]
     },
     "metadata": {},
     "output_type": "display_data"
    },
    {
     "name": "stdout",
     "output_type": "stream",
     "text": [
      "\n",
      "> Vote totals verified — no errors\n",
      "————————————————————————————————————————————————————————————\n",
      "Loading Board of Education Dist 3.csv data...\n",
      " > Found data for 33 counties (21%)\n",
      "Verifying vote totals...\n"
     ]
    },
    {
     "data": {
      "application/vnd.jupyter.widget-view+json": {
       "model_id": "c2b89a12448044afbe5173ee8b181306",
       "version_major": 2,
       "version_minor": 0
      },
      "text/plain": [
       "HBox(children=(HTML(value=''), FloatProgress(value=0.0, max=35.0), HTML(value='')))"
      ]
     },
     "metadata": {},
     "output_type": "display_data"
    },
    {
     "name": "stdout",
     "output_type": "stream",
     "text": [
      "\n",
      "> Vote totals verified — no errors\n",
      "————————————————————————————————————————————————————————————\n",
      "Loading State House Dist 160.csv data...\n",
      " > Found data for 2 counties (1%)\n",
      "Verifying vote totals...\n"
     ]
    },
    {
     "data": {
      "application/vnd.jupyter.widget-view+json": {
       "model_id": "65d1a0bc5faf4dc7abca018e1e5a608d",
       "version_major": 2,
       "version_minor": 0
      },
      "text/plain": [
       "HBox(children=(HTML(value=''), FloatProgress(value=0.0, max=1.0), HTML(value='')))"
      ]
     },
     "metadata": {},
     "output_type": "display_data"
    },
    {
     "name": "stdout",
     "output_type": "stream",
     "text": [
      "\n",
      "> Vote totals verified — no errors\n",
      "————————————————————————————————————————————————————————————\n",
      "Loading Hawkinsville Sunday Alcohol By The Drink - Special.csv data...\n",
      " > Found data for 1 counties (1%)\n",
      "Verifying vote totals...\n"
     ]
    },
    {
     "data": {
      "application/vnd.jupyter.widget-view+json": {
       "model_id": "74ebcea5d8094070a1c24b4b9c387768",
       "version_major": 2,
       "version_minor": 0
      },
      "text/plain": [
       "HBox(children=(HTML(value=''), FloatProgress(value=0.0, max=2.0), HTML(value='')))"
      ]
     },
     "metadata": {},
     "output_type": "display_data"
    },
    {
     "name": "stdout",
     "output_type": "stream",
     "text": [
      "\n",
      "> Vote totals verified — no errors\n",
      "————————————————————————————————————————————————————————————\n",
      "Loading Soil and Water - Fulton County.csv data...\n",
      " > Found data for 1 counties (1%)\n",
      "Verifying vote totals...\n"
     ]
    },
    {
     "data": {
      "application/vnd.jupyter.widget-view+json": {
       "model_id": "a1a023025f344d848686856517babe8d",
       "version_major": 2,
       "version_minor": 0
      },
      "text/plain": [
       "HBox(children=(HTML(value=''), FloatProgress(value=0.0, max=1.0), HTML(value='')))"
      ]
     },
     "metadata": {},
     "output_type": "display_data"
    },
    {
     "name": "stdout",
     "output_type": "stream",
     "text": [
      "\n",
      "> Vote totals verified — no errors\n",
      "————————————————————————————————————————————————————————————\n",
      "Loading State House Dist 120.csv data...\n",
      " > Found data for 5 counties (3%)\n",
      "Verifying vote totals...\n"
     ]
    },
    {
     "data": {
      "application/vnd.jupyter.widget-view+json": {
       "model_id": "337034e8f1ed420d9aa26c250d5063d7",
       "version_major": 2,
       "version_minor": 0
      },
      "text/plain": [
       "HBox(children=(HTML(value=''), FloatProgress(value=0.0, max=1.0), HTML(value='')))"
      ]
     },
     "metadata": {},
     "output_type": "display_data"
    },
    {
     "name": "stdout",
     "output_type": "stream",
     "text": [
      "\n",
      "> Vote totals verified — no errors\n",
      "————————————————————————————————————————————————————————————\n",
      "Loading County Commissioner Dist 4.csv data...\n",
      " > Found data for 2 counties (1%)\n",
      "Verifying vote totals...\n"
     ]
    },
    {
     "data": {
      "application/vnd.jupyter.widget-view+json": {
       "model_id": "91e8fac4a8e348eaa15e80126de3b56f",
       "version_major": 2,
       "version_minor": 0
      },
      "text/plain": [
       "HBox(children=(HTML(value=''), FloatProgress(value=0.0, max=2.0), HTML(value='')))"
      ]
     },
     "metadata": {},
     "output_type": "display_data"
    },
    {
     "name": "stdout",
     "output_type": "stream",
     "text": [
      "\n",
      "> Vote totals verified — no errors\n",
      "————————————————————————————————————————————————————————————\n",
      "Loading US House Dist 5.csv data...\n",
      " > Found data for 3 counties (2%)\n",
      "Verifying vote totals...\n"
     ]
    },
    {
     "data": {
      "application/vnd.jupyter.widget-view+json": {
       "model_id": "d1b120d06c55411eb20e0be55e17567e",
       "version_major": 2,
       "version_minor": 0
      },
      "text/plain": [
       "HBox(children=(HTML(value=''), FloatProgress(value=0.0, max=2.0), HTML(value='')))"
      ]
     },
     "metadata": {},
     "output_type": "display_data"
    },
    {
     "name": "stdout",
     "output_type": "stream",
     "text": [
      "\n",
      "> Vote totals verified — no errors\n",
      "————————————————————————————————————————————————————————————\n",
      "Loading State House Dist 2.csv data...\n",
      " > Found data for 3 counties (2%)\n",
      "Verifying vote totals...\n"
     ]
    },
    {
     "data": {
      "application/vnd.jupyter.widget-view+json": {
       "model_id": "78ba90bd3df646a49081f55c51c34c57",
       "version_major": 2,
       "version_minor": 0
      },
      "text/plain": [
       "HBox(children=(HTML(value=''), FloatProgress(value=0.0, max=1.0), HTML(value='')))"
      ]
     },
     "metadata": {},
     "output_type": "display_data"
    },
    {
     "name": "stdout",
     "output_type": "stream",
     "text": [
      "\n",
      "> Vote totals verified — no errors\n",
      "————————————————————————————————————————————————————————————\n",
      "Loading State Senate Dist 17.csv data...\n",
      " > Found data for 3 counties (2%)\n",
      "Verifying vote totals...\n"
     ]
    },
    {
     "data": {
      "application/vnd.jupyter.widget-view+json": {
       "model_id": "e3134826c38f4171b9970eedfad29f8c",
       "version_major": 2,
       "version_minor": 0
      },
      "text/plain": [
       "HBox(children=(HTML(value=''), FloatProgress(value=0.0, max=2.0), HTML(value='')))"
      ]
     },
     "metadata": {},
     "output_type": "display_data"
    },
    {
     "name": "stdout",
     "output_type": "stream",
     "text": [
      "\n",
      "> Vote totals verified — no errors\n",
      "————————————————————————————————————————————————————————————\n",
      "Loading State House Dist 38.csv data...\n",
      " > Found data for 1 counties (1%)\n",
      "Verifying vote totals...\n"
     ]
    },
    {
     "data": {
      "application/vnd.jupyter.widget-view+json": {
       "model_id": "853d03e73ac940e1991f1df1bbb93f77",
       "version_major": 2,
       "version_minor": 0
      },
      "text/plain": [
       "HBox(children=(HTML(value=''), FloatProgress(value=0.0, max=1.0), HTML(value='')))"
      ]
     },
     "metadata": {},
     "output_type": "display_data"
    },
    {
     "name": "stdout",
     "output_type": "stream",
     "text": [
      "\n",
      "> Vote totals verified — no errors\n",
      "————————————————————————————————————————————————————————————\n",
      "Loading State House Dist 87.csv data...\n",
      " > Found data for 1 counties (1%)\n",
      "Verifying vote totals...\n"
     ]
    },
    {
     "data": {
      "application/vnd.jupyter.widget-view+json": {
       "model_id": "1e4d970a8ebb402c8d197f161b122670",
       "version_major": 2,
       "version_minor": 0
      },
      "text/plain": [
       "HBox(children=(HTML(value=''), FloatProgress(value=0.0, max=1.0), HTML(value='')))"
      ]
     },
     "metadata": {},
     "output_type": "display_data"
    },
    {
     "name": "stdout",
     "output_type": "stream",
     "text": [
      "\n",
      "> Vote totals verified — no errors\n",
      "————————————————————————————————————————————————————————————\n",
      "Loading State House Dist 129.csv data...\n",
      " > Found data for 4 counties (3%)\n",
      "Verifying vote totals...\n"
     ]
    },
    {
     "data": {
      "application/vnd.jupyter.widget-view+json": {
       "model_id": "7f31fe70e3064e7fa947622a2c445532",
       "version_major": 2,
       "version_minor": 0
      },
      "text/plain": [
       "HBox(children=(HTML(value=''), FloatProgress(value=0.0, max=3.0), HTML(value='')))"
      ]
     },
     "metadata": {},
     "output_type": "display_data"
    },
    {
     "name": "stdout",
     "output_type": "stream",
     "text": [
      "\n",
      "> Vote totals verified — no errors\n",
      "————————————————————————————————————————————————————————————\n",
      "Loading Board of Education At Large Post 2.csv data...\n",
      " > Found data for 1 counties (1%)\n",
      "Verifying vote totals...\n"
     ]
    },
    {
     "data": {
      "application/vnd.jupyter.widget-view+json": {
       "model_id": "063b6415f7f9436a8d3ace36438707e1",
       "version_major": 2,
       "version_minor": 0
      },
      "text/plain": [
       "HBox(children=(HTML(value=''), FloatProgress(value=0.0, max=2.0), HTML(value='')))"
      ]
     },
     "metadata": {},
     "output_type": "display_data"
    },
    {
     "name": "stdout",
     "output_type": "stream",
     "text": [
      "\n",
      "> Vote totals verified — no errors\n",
      "————————————————————————————————————————————————————————————\n",
      "Loading State Senate Dist 52.csv data...\n",
      " > Found data for 4 counties (3%)\n",
      "Verifying vote totals...\n"
     ]
    },
    {
     "data": {
      "application/vnd.jupyter.widget-view+json": {
       "model_id": "14a04b02bd684ac88ec83fc819375365",
       "version_major": 2,
       "version_minor": 0
      },
      "text/plain": [
       "HBox(children=(HTML(value=''), FloatProgress(value=0.0, max=2.0), HTML(value='')))"
      ]
     },
     "metadata": {},
     "output_type": "display_data"
    },
    {
     "name": "stdout",
     "output_type": "stream",
     "text": [
      "\n",
      "> Vote totals verified — no errors\n",
      "————————————————————————————————————————————————————————————\n",
      "Loading Dist Attorney - Appalachian.csv data...\n",
      " > Found data for 3 counties (2%)\n",
      "Verifying vote totals...\n"
     ]
    },
    {
     "data": {
      "application/vnd.jupyter.widget-view+json": {
       "model_id": "f5cb996bbcb5461384d40894cf09f337",
       "version_major": 2,
       "version_minor": 0
      },
      "text/plain": [
       "HBox(children=(HTML(value=''), FloatProgress(value=0.0, max=1.0), HTML(value='')))"
      ]
     },
     "metadata": {},
     "output_type": "display_data"
    },
    {
     "name": "stdout",
     "output_type": "stream",
     "text": [
      "\n",
      "> Vote totals verified — no errors\n",
      "————————————————————————————————————————————————————————————\n",
      "Loading Board of Education Precinct 5.csv data...\n",
      " > Found data for 1 counties (1%)\n",
      "Verifying vote totals...\n"
     ]
    },
    {
     "data": {
      "application/vnd.jupyter.widget-view+json": {
       "model_id": "be8abf75c05e4cafbe53c298fdf6d2bd",
       "version_major": 2,
       "version_minor": 0
      },
      "text/plain": [
       "HBox(children=(HTML(value=''), FloatProgress(value=0.0, max=1.0), HTML(value='')))"
      ]
     },
     "metadata": {},
     "output_type": "display_data"
    },
    {
     "name": "stdout",
     "output_type": "stream",
     "text": [
      "\n",
      "> Vote totals verified — no errors\n",
      "————————————————————————————————————————————————————————————\n",
      "Loading State Senate Dist 37.csv data...\n",
      " > Found data for 1 counties (1%)\n",
      "Verifying vote totals...\n"
     ]
    },
    {
     "data": {
      "application/vnd.jupyter.widget-view+json": {
       "model_id": "0e0e3dffc5d54b19a0b44a212115a6ef",
       "version_major": 2,
       "version_minor": 0
      },
      "text/plain": [
       "HBox(children=(HTML(value=''), FloatProgress(value=0.0, max=2.0), HTML(value='')))"
      ]
     },
     "metadata": {},
     "output_type": "display_data"
    },
    {
     "name": "stdout",
     "output_type": "stream",
     "text": [
      "\n",
      "> Vote totals verified — no errors\n",
      "————————————————————————————————————————————————————————————\n",
      "Loading State Senate Dist 19.csv data...\n",
      " > Found data for 11 counties (7%)\n",
      "Verifying vote totals...\n"
     ]
    },
    {
     "data": {
      "application/vnd.jupyter.widget-view+json": {
       "model_id": "aa103cdbd946484897acde59febcae9f",
       "version_major": 2,
       "version_minor": 0
      },
      "text/plain": [
       "HBox(children=(HTML(value=''), FloatProgress(value=0.0, max=1.0), HTML(value='')))"
      ]
     },
     "metadata": {},
     "output_type": "display_data"
    },
    {
     "name": "stdout",
     "output_type": "stream",
     "text": [
      "\n",
      "> Vote totals verified — no errors\n",
      "————————————————————————————————————————————————————————————\n",
      "Loading State House Dist 15.csv data...\n",
      " > Found data for 1 counties (1%)\n",
      "Verifying vote totals...\n"
     ]
    },
    {
     "data": {
      "application/vnd.jupyter.widget-view+json": {
       "model_id": "d88d35b7684b43c39444c9274cd0bcab",
       "version_major": 2,
       "version_minor": 0
      },
      "text/plain": [
       "HBox(children=(HTML(value=''), FloatProgress(value=0.0, max=1.0), HTML(value='')))"
      ]
     },
     "metadata": {},
     "output_type": "display_data"
    },
    {
     "name": "stdout",
     "output_type": "stream",
     "text": [
      "\n",
      "> Vote totals verified — no errors\n",
      "————————————————————————————————————————————————————————————\n",
      "Loading Statewide Referendum A.csv data...\n",
      " > Found data for 59 counties (37%)\n",
      "Verifying vote totals...\n"
     ]
    },
    {
     "data": {
      "application/vnd.jupyter.widget-view+json": {
       "model_id": "20f4dc97e40048c4b85f4fec5c0d4c90",
       "version_major": 2,
       "version_minor": 0
      },
      "text/plain": [
       "HBox(children=(HTML(value=''), FloatProgress(value=0.0, max=2.0), HTML(value='')))"
      ]
     },
     "metadata": {},
     "output_type": "display_data"
    },
    {
     "name": "stdout",
     "output_type": "stream",
     "text": [
      "\n",
      "> Vote totals verified — no errors\n",
      "————————————————————————————————————————————————————————————\n",
      "Loading Brd of Education Dist 5.csv data...\n",
      " > Found data for 1 counties (1%)\n",
      "Verifying vote totals...\n"
     ]
    },
    {
     "data": {
      "application/vnd.jupyter.widget-view+json": {
       "model_id": "2dbd053a7fd745c8a0e38655d2fd56ba",
       "version_major": 2,
       "version_minor": 0
      },
      "text/plain": [
       "HBox(children=(HTML(value=''), FloatProgress(value=0.0, max=1.0), HTML(value='')))"
      ]
     },
     "metadata": {},
     "output_type": "display_data"
    },
    {
     "name": "stdout",
     "output_type": "stream",
     "text": [
      "\n",
      "> Vote totals verified — no errors\n",
      "————————————————————————————————————————————————————————————\n",
      "Loading State Senate Dist 26.csv data...\n",
      " > Found data for 7 counties (4%)\n",
      "Verifying vote totals...\n"
     ]
    },
    {
     "data": {
      "application/vnd.jupyter.widget-view+json": {
       "model_id": "dd20059ff93b4190ab827286c8ea06a7",
       "version_major": 2,
       "version_minor": 0
      },
      "text/plain": [
       "HBox(children=(HTML(value=''), FloatProgress(value=0.0, max=1.0), HTML(value='')))"
      ]
     },
     "metadata": {},
     "output_type": "display_data"
    },
    {
     "name": "stdout",
     "output_type": "stream",
     "text": [
      "\n",
      "> Vote totals verified — no errors\n",
      "————————————————————————————————————————————————————————————\n",
      "Loading Dist Attorney - Cobb - Special.csv data...\n",
      " > Found data for 1 counties (1%)\n",
      "Verifying vote totals...\n"
     ]
    },
    {
     "data": {
      "application/vnd.jupyter.widget-view+json": {
       "model_id": "9f26867e994b4e1bab4440d47311de80",
       "version_major": 2,
       "version_minor": 0
      },
      "text/plain": [
       "HBox(children=(HTML(value=''), FloatProgress(value=0.0, max=2.0), HTML(value='')))"
      ]
     },
     "metadata": {},
     "output_type": "display_data"
    },
    {
     "name": "stdout",
     "output_type": "stream",
     "text": [
      "\n",
      "> Vote totals verified — no errors\n",
      "————————————————————————————————————————————————————————————\n",
      "Loading State Senate Dist 21.csv data...\n",
      " > Found data for 2 counties (1%)\n",
      "Verifying vote totals...\n"
     ]
    },
    {
     "data": {
      "application/vnd.jupyter.widget-view+json": {
       "model_id": "19153ffbe2864d63b1adc8c9c1fe991b",
       "version_major": 2,
       "version_minor": 0
      },
      "text/plain": [
       "HBox(children=(HTML(value=''), FloatProgress(value=0.0, max=1.0), HTML(value='')))"
      ]
     },
     "metadata": {},
     "output_type": "display_data"
    },
    {
     "name": "stdout",
     "output_type": "stream",
     "text": [
      "\n",
      "> Vote totals verified — no errors\n",
      "————————————————————————————————————————————————————————————\n",
      "Loading State House Dist 18.csv data...\n",
      " > Found data for 2 counties (1%)\n",
      "Verifying vote totals...\n"
     ]
    },
    {
     "data": {
      "application/vnd.jupyter.widget-view+json": {
       "model_id": "18c53da82d57403198beb0fdf399f62b",
       "version_major": 2,
       "version_minor": 0
      },
      "text/plain": [
       "HBox(children=(HTML(value=''), FloatProgress(value=0.0, max=2.0), HTML(value='')))"
      ]
     },
     "metadata": {},
     "output_type": "display_data"
    },
    {
     "name": "stdout",
     "output_type": "stream",
     "text": [
      "\n",
      "> Vote totals verified — no errors\n",
      "————————————————————————————————————————————————————————————\n",
      "Loading Chief Executive Officer.csv data...\n",
      " > Found data for 1 counties (1%)\n",
      "Verifying vote totals...\n"
     ]
    },
    {
     "data": {
      "application/vnd.jupyter.widget-view+json": {
       "model_id": "9834864808c44e32a560a49e91f390ef",
       "version_major": 2,
       "version_minor": 0
      },
      "text/plain": [
       "HBox(children=(HTML(value=''), FloatProgress(value=0.0, max=1.0), HTML(value='')))"
      ]
     },
     "metadata": {},
     "output_type": "display_data"
    },
    {
     "name": "stdout",
     "output_type": "stream",
     "text": [
      "\n",
      "> Vote totals verified — no errors\n",
      "————————————————————————————————————————————————————————————\n",
      "Loading Dist Attorney - Tallapoosa.csv data...\n",
      " > Found data for 2 counties (1%)\n",
      "Verifying vote totals...\n"
     ]
    },
    {
     "data": {
      "application/vnd.jupyter.widget-view+json": {
       "model_id": "8d091840128541f5a5f67c284f8ba7ff",
       "version_major": 2,
       "version_minor": 0
      },
      "text/plain": [
       "HBox(children=(HTML(value=''), FloatProgress(value=0.0, max=1.0), HTML(value='')))"
      ]
     },
     "metadata": {},
     "output_type": "display_data"
    },
    {
     "name": "stdout",
     "output_type": "stream",
     "text": [
      "\n",
      "> Vote totals verified — no errors\n",
      "————————————————————————————————————————————————————————————\n",
      "Loading Soil and Water - Satilla River.csv data...\n",
      " > Found data for 4 counties (3%)\n",
      "Verifying vote totals...\n"
     ]
    },
    {
     "data": {
      "application/vnd.jupyter.widget-view+json": {
       "model_id": "52bea8350f074415b3cda790a1bd33ba",
       "version_major": 2,
       "version_minor": 0
      },
      "text/plain": [
       "HBox(children=(HTML(value=''), FloatProgress(value=0.0, max=4.0), HTML(value='')))"
      ]
     },
     "metadata": {},
     "output_type": "display_data"
    },
    {
     "name": "stdout",
     "output_type": "stream",
     "text": [
      "\n",
      "> Vote totals verified — no errors\n",
      "————————————————————————————————————————————————————————————\n",
      "Loading State House Dist 97.csv data...\n",
      " > Found data for 1 counties (1%)\n",
      "Verifying vote totals...\n"
     ]
    },
    {
     "data": {
      "application/vnd.jupyter.widget-view+json": {
       "model_id": "9882be9ba17f4fd0906c550315910c4b",
       "version_major": 2,
       "version_minor": 0
      },
      "text/plain": [
       "HBox(children=(HTML(value=''), FloatProgress(value=0.0, max=2.0), HTML(value='')))"
      ]
     },
     "metadata": {},
     "output_type": "display_data"
    },
    {
     "name": "stdout",
     "output_type": "stream",
     "text": [
      "\n",
      "> Vote totals verified — no errors\n",
      "————————————————————————————————————————————————————————————\n",
      "Loading Arcade Fire Advisory Board Post 1.csv data...\n",
      " > Found data for 1 counties (1%)\n",
      "Verifying vote totals...\n"
     ]
    },
    {
     "data": {
      "application/vnd.jupyter.widget-view+json": {
       "model_id": "78c7fac0619d45d1a9d04e16413a6a3c",
       "version_major": 2,
       "version_minor": 0
      },
      "text/plain": [
       "HBox(children=(HTML(value=''), FloatProgress(value=0.0, max=1.0), HTML(value='')))"
      ]
     },
     "metadata": {},
     "output_type": "display_data"
    },
    {
     "name": "stdout",
     "output_type": "stream",
     "text": [
      "\n",
      "> Vote totals verified — no errors\n",
      "————————————————————————————————————————————————————————————\n",
      "Loading Probate Judge - Special.csv data...\n",
      " > Found data for 1 counties (1%)\n",
      "Verifying vote totals...\n"
     ]
    },
    {
     "data": {
      "application/vnd.jupyter.widget-view+json": {
       "model_id": "30becc4f03cc41269126ab78596f206b",
       "version_major": 2,
       "version_minor": 0
      },
      "text/plain": [
       "HBox(children=(HTML(value=''), FloatProgress(value=0.0, max=1.0), HTML(value='')))"
      ]
     },
     "metadata": {},
     "output_type": "display_data"
    },
    {
     "name": "stdout",
     "output_type": "stream",
     "text": [
      "\n",
      "> Vote totals verified — no errors\n",
      "————————————————————————————————————————————————————————————\n",
      "Loading State Senate Dist 53.csv data...\n",
      " > Found data for 4 counties (3%)\n",
      "Verifying vote totals...\n"
     ]
    },
    {
     "data": {
      "application/vnd.jupyter.widget-view+json": {
       "model_id": "1d0a09c1335f43eeb895e1fc452994be",
       "version_major": 2,
       "version_minor": 0
      },
      "text/plain": [
       "HBox(children=(HTML(value=''), FloatProgress(value=0.0, max=1.0), HTML(value='')))"
      ]
     },
     "metadata": {},
     "output_type": "display_data"
    },
    {
     "name": "stdout",
     "output_type": "stream",
     "text": [
      "\n",
      "> Vote totals verified — no errors\n",
      "————————————————————————————————————————————————————————————\n",
      "Loading Dallas Mayor - Special.csv data...\n",
      " > Found data for 1 counties (1%)\n",
      "Verifying vote totals...\n"
     ]
    },
    {
     "data": {
      "application/vnd.jupyter.widget-view+json": {
       "model_id": "3b125b29fe0e486583f57c6cd21395e0",
       "version_major": 2,
       "version_minor": 0
      },
      "text/plain": [
       "HBox(children=(HTML(value=''), FloatProgress(value=0.0, max=2.0), HTML(value='')))"
      ]
     },
     "metadata": {},
     "output_type": "display_data"
    },
    {
     "name": "stdout",
     "output_type": "stream",
     "text": [
      "\n",
      "> Vote totals verified — no errors\n",
      "————————————————————————————————————————————————————————————\n",
      "Loading State House Dist 127.csv data...\n",
      " > Found data for 2 counties (1%)\n",
      "Verifying vote totals...\n"
     ]
    },
    {
     "data": {
      "application/vnd.jupyter.widget-view+json": {
       "model_id": "9e745f1a0ec64062bd337cfa1ed863bb",
       "version_major": 2,
       "version_minor": 0
      },
      "text/plain": [
       "HBox(children=(HTML(value=''), FloatProgress(value=0.0, max=1.0), HTML(value='')))"
      ]
     },
     "metadata": {},
     "output_type": "display_data"
    },
    {
     "name": "stdout",
     "output_type": "stream",
     "text": [
      "\n",
      "> Vote totals verified — no errors\n",
      "————————————————————————————————————————————————————————————\n",
      "Loading Board of Education Post 5.csv data...\n",
      " > Found data for 2 counties (1%)\n",
      "Verifying vote totals...\n"
     ]
    },
    {
     "data": {
      "application/vnd.jupyter.widget-view+json": {
       "model_id": "e44d641db92049b0977594c3f4905fc6",
       "version_major": 2,
       "version_minor": 0
      },
      "text/plain": [
       "HBox(children=(HTML(value=''), FloatProgress(value=0.0, max=3.0), HTML(value='')))"
      ]
     },
     "metadata": {},
     "output_type": "display_data"
    },
    {
     "name": "stdout",
     "output_type": "stream",
     "text": [
      "\n",
      "> Vote totals verified — no errors\n",
      "————————————————————————————————————————————————————————————\n",
      "Loading State House Dist 102.csv data...\n",
      " > Found data for 1 counties (1%)\n",
      "Verifying vote totals...\n"
     ]
    },
    {
     "data": {
      "application/vnd.jupyter.widget-view+json": {
       "model_id": "0c9264709d89411d9b47220a52600aa9",
       "version_major": 2,
       "version_minor": 0
      },
      "text/plain": [
       "HBox(children=(HTML(value=''), FloatProgress(value=0.0, max=2.0), HTML(value='')))"
      ]
     },
     "metadata": {},
     "output_type": "display_data"
    },
    {
     "name": "stdout",
     "output_type": "stream",
     "text": [
      "\n",
      "> Vote totals verified — no errors\n",
      "————————————————————————————————————————————————————————————\n",
      "Loading State House Dist 122.csv data...\n",
      " > Found data for 1 counties (1%)\n",
      "Verifying vote totals...\n"
     ]
    },
    {
     "data": {
      "application/vnd.jupyter.widget-view+json": {
       "model_id": "4f799191df804bbd85f0df317a5f0ea7",
       "version_major": 2,
       "version_minor": 0
      },
      "text/plain": [
       "HBox(children=(HTML(value=''), FloatProgress(value=0.0, max=2.0), HTML(value='')))"
      ]
     },
     "metadata": {},
     "output_type": "display_data"
    },
    {
     "name": "stdout",
     "output_type": "stream",
     "text": [
      "\n",
      "> Vote totals verified — no errors\n",
      "————————————————————————————————————————————————————————————\n",
      "Loading Soil and Water - Ocmulgee River.csv data...\n",
      " > Found data for 2 counties (1%)\n",
      "Verifying vote totals...\n"
     ]
    },
    {
     "data": {
      "application/vnd.jupyter.widget-view+json": {
       "model_id": "b5e7ece3f73a4f81b8cbb4abbf6a0a78",
       "version_major": 2,
       "version_minor": 0
      },
      "text/plain": [
       "HBox(children=(HTML(value=''), FloatProgress(value=0.0, max=2.0), HTML(value='')))"
      ]
     },
     "metadata": {},
     "output_type": "display_data"
    },
    {
     "name": "stdout",
     "output_type": "stream",
     "text": [
      "\n",
      "> Vote totals verified — no errors\n",
      "————————————————————————————————————————————————————————————\n",
      "Loading Constitutional Amendment #1.csv data...\n",
      " > Found data for 159 counties (100%)\n",
      "Verifying vote totals...\n"
     ]
    },
    {
     "data": {
      "application/vnd.jupyter.widget-view+json": {
       "model_id": "f57770646ddb44b9a3f110e7b766bb0c",
       "version_major": 2,
       "version_minor": 0
      },
      "text/plain": [
       "HBox(children=(HTML(value=''), FloatProgress(value=0.0, max=2.0), HTML(value='')))"
      ]
     },
     "metadata": {},
     "output_type": "display_data"
    },
    {
     "name": "stdout",
     "output_type": "stream",
     "text": [
      "\n",
      "> Vote totals verified — no errors\n",
      "————————————————————————————————————————————————————————————\n",
      "Loading Board of Education Elmodel Dist.csv data...\n",
      " > Found data for 1 counties (1%)\n",
      "Verifying vote totals...\n"
     ]
    },
    {
     "data": {
      "application/vnd.jupyter.widget-view+json": {
       "model_id": "950ef9f3653c484a85a0b75132cb6cb3",
       "version_major": 2,
       "version_minor": 0
      },
      "text/plain": [
       "HBox(children=(HTML(value=''), FloatProgress(value=0.0, max=1.0), HTML(value='')))"
      ]
     },
     "metadata": {},
     "output_type": "display_data"
    },
    {
     "name": "stdout",
     "output_type": "stream",
     "text": [
      "\n",
      "> Vote totals verified — no errors\n",
      "————————————————————————————————————————————————————————————\n",
      "Loading State House Dist 100.csv data...\n",
      " > Found data for 1 counties (1%)\n",
      "Verifying vote totals...\n"
     ]
    },
    {
     "data": {
      "application/vnd.jupyter.widget-view+json": {
       "model_id": "040c9dea768740159902a420a8c80e01",
       "version_major": 2,
       "version_minor": 0
      },
      "text/plain": [
       "HBox(children=(HTML(value=''), FloatProgress(value=0.0, max=1.0), HTML(value='')))"
      ]
     },
     "metadata": {},
     "output_type": "display_data"
    },
    {
     "name": "stdout",
     "output_type": "stream",
     "text": [
      "\n",
      "> Vote totals verified — no errors\n",
      "————————————————————————————————————————————————————————————\n",
      "Loading State House Dist 159.csv data...\n",
      " > Found data for 3 counties (2%)\n",
      "Verifying vote totals...\n"
     ]
    },
    {
     "data": {
      "application/vnd.jupyter.widget-view+json": {
       "model_id": "d22a760f97e545488f702ebbd41e7cec",
       "version_major": 2,
       "version_minor": 0
      },
      "text/plain": [
       "HBox(children=(HTML(value=''), FloatProgress(value=0.0, max=1.0), HTML(value='')))"
      ]
     },
     "metadata": {},
     "output_type": "display_data"
    },
    {
     "name": "stdout",
     "output_type": "stream",
     "text": [
      "\n",
      "> Vote totals verified — no errors\n",
      "————————————————————————————————————————————————————————————\n",
      "Loading State House Dist 93.csv data...\n",
      " > Found data for 2 counties (1%)\n",
      "Verifying vote totals...\n"
     ]
    },
    {
     "data": {
      "application/vnd.jupyter.widget-view+json": {
       "model_id": "315555b06cca4d72872f343726d54743",
       "version_major": 2,
       "version_minor": 0
      },
      "text/plain": [
       "HBox(children=(HTML(value=''), FloatProgress(value=0.0, max=2.0), HTML(value='')))"
      ]
     },
     "metadata": {},
     "output_type": "display_data"
    },
    {
     "name": "stdout",
     "output_type": "stream",
     "text": [
      "\n",
      "> Vote totals verified — no errors\n",
      "————————————————————————————————————————————————————————————\n",
      "Loading Clerk of Superior Court.csv data...\n",
      " > Found data for 158 counties (99%)\n",
      "   > Missing: ['Tattnall']\n",
      "\n",
      "POSSIBLE typo found (87% match)\n",
      " > 1. Debbie Sirmans (I) (Rep) — 7128 total votes\n",
      " > 2. Debbie Kines (I) (Rep) — 8842 total votes\n",
      "  > Combine these candidates? (y/n):  n\n",
      "Verifying vote totals...\n"
     ]
    },
    {
     "data": {
      "application/vnd.jupyter.widget-view+json": {
       "model_id": "c2a9534523c0419792934768afa78397",
       "version_major": 2,
       "version_minor": 0
      },
      "text/plain": [
       "HBox(children=(HTML(value=''), FloatProgress(value=0.0, max=172.0), HTML(value='')))"
      ]
     },
     "metadata": {},
     "output_type": "display_data"
    },
    {
     "name": "stdout",
     "output_type": "stream",
     "text": [
      "\n",
      ">>> Vote totals verified — 0.0001 error rate\n",
      "————————————————————————————————————————————————————————————\n",
      "Loading State House Dist 119.csv data...\n",
      " > Found data for 2 counties (1%)\n",
      "Verifying vote totals...\n"
     ]
    },
    {
     "data": {
      "application/vnd.jupyter.widget-view+json": {
       "model_id": "d5d30583f2984c5b85bc5fb8242f6a48",
       "version_major": 2,
       "version_minor": 0
      },
      "text/plain": [
       "HBox(children=(HTML(value=''), FloatProgress(value=0.0, max=2.0), HTML(value='')))"
      ]
     },
     "metadata": {},
     "output_type": "display_data"
    },
    {
     "name": "stdout",
     "output_type": "stream",
     "text": [
      "\n",
      "> Vote totals verified — no errors\n",
      "————————————————————————————————————————————————————————————\n",
      "Loading State House Dist 23.csv data...\n",
      " > Found data for 1 counties (1%)\n",
      "Verifying vote totals...\n"
     ]
    },
    {
     "data": {
      "application/vnd.jupyter.widget-view+json": {
       "model_id": "e0207454992b4a99ae7b2771ef89f078",
       "version_major": 2,
       "version_minor": 0
      },
      "text/plain": [
       "HBox(children=(HTML(value=''), FloatProgress(value=0.0, max=1.0), HTML(value='')))"
      ]
     },
     "metadata": {},
     "output_type": "display_data"
    },
    {
     "name": "stdout",
     "output_type": "stream",
     "text": [
      "\n",
      "> Vote totals verified — no errors\n",
      "————————————————————————————————————————————————————————————\n",
      "Loading County Commissioner Dist 1.csv data...\n",
      " > Found data for 1 counties (1%)\n",
      "Verifying vote totals...\n"
     ]
    },
    {
     "data": {
      "application/vnd.jupyter.widget-view+json": {
       "model_id": "ea33b54d374e4ef998eca7d64671f528",
       "version_major": 2,
       "version_minor": 0
      },
      "text/plain": [
       "HBox(children=(HTML(value=''), FloatProgress(value=0.0, max=1.0), HTML(value='')))"
      ]
     },
     "metadata": {},
     "output_type": "display_data"
    },
    {
     "name": "stdout",
     "output_type": "stream",
     "text": [
      "\n",
      "> Vote totals verified — no errors\n",
      "————————————————————————————————————————————————————————————\n",
      "Loading County Commission Newton Dist.csv data...\n",
      " > Found data for 1 counties (1%)\n",
      "Verifying vote totals...\n"
     ]
    },
    {
     "data": {
      "application/vnd.jupyter.widget-view+json": {
       "model_id": "32a4824eb17c4788af83ed167ee2c64c",
       "version_major": 2,
       "version_minor": 0
      },
      "text/plain": [
       "HBox(children=(HTML(value=''), FloatProgress(value=0.0, max=1.0), HTML(value='')))"
      ]
     },
     "metadata": {},
     "output_type": "display_data"
    },
    {
     "name": "stdout",
     "output_type": "stream",
     "text": [
      "\n",
      "> Vote totals verified — no errors\n",
      "————————————————————————————————————————————————————————————\n",
      "Loading Dist Attorney - Atlanta.csv data...\n",
      " > Found data for 1 counties (1%)\n",
      "Verifying vote totals...\n"
     ]
    },
    {
     "data": {
      "application/vnd.jupyter.widget-view+json": {
       "model_id": "6f77a9a5242a4bc8913e878a494486b7",
       "version_major": 2,
       "version_minor": 0
      },
      "text/plain": [
       "HBox(children=(HTML(value=''), FloatProgress(value=0.0, max=1.0), HTML(value='')))"
      ]
     },
     "metadata": {},
     "output_type": "display_data"
    },
    {
     "name": "stdout",
     "output_type": "stream",
     "text": [
      "\n",
      "> Vote totals verified — no errors\n",
      "————————————————————————————————————————————————————————————\n",
      "Loading Special One Percent Sales and Use Tax - Special.csv data...\n",
      " > Found data for 1 counties (1%)\n",
      "Verifying vote totals...\n"
     ]
    },
    {
     "data": {
      "application/vnd.jupyter.widget-view+json": {
       "model_id": "90f612d6f6024674b6fd2ea8337ce527",
       "version_major": 2,
       "version_minor": 0
      },
      "text/plain": [
       "HBox(children=(HTML(value=''), FloatProgress(value=0.0, max=2.0), HTML(value='')))"
      ]
     },
     "metadata": {},
     "output_type": "display_data"
    },
    {
     "name": "stdout",
     "output_type": "stream",
     "text": [
      "\n",
      "> Vote totals verified — no errors\n",
      "————————————————————————————————————————————————————————————\n",
      "Loading County Commission Dist 1.csv data...\n",
      " > Found data for 63 counties (40%)\n"
     ]
    }
   ],
   "source": [
    "races = [''] # blank triggers all. otherwise, use keywords like \"President\" or \"US Senate\"\n",
    "\n",
    "\n",
    "join_all_race_data(races)"
   ]
  },
  {
   "cell_type": "code",
   "execution_count": null,
   "metadata": {},
   "outputs": [],
   "source": []
  }
 ],
 "metadata": {
  "kernelspec": {
   "display_name": "Python 3",
   "language": "python",
   "name": "python3"
  },
  "language_info": {
   "codemirror_mode": {
    "name": "ipython",
    "version": 3
   },
   "file_extension": ".py",
   "mimetype": "text/x-python",
   "name": "python",
   "nbconvert_exporter": "python",
   "pygments_lexer": "ipython3",
   "version": "3.8.5"
  }
 },
 "nbformat": 4,
 "nbformat_minor": 4
}
