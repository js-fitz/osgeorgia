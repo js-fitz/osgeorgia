{
 "cells": [
  {
   "cell_type": "code",
   "execution_count": 2,
   "metadata": {},
   "outputs": [
    {
     "name": "stdout",
     "output_type": "stream",
     "text": [
      "\n",
      "ELECTION DETAILS:\n",
      "   > General Election - November 3, 2020\n",
      "   > source: November 3, 2020\n",
      "   > 159 counties reporting (159 total)\n",
      "   > 159 URLs collected\n",
      "Target parent folder: '2020_november'\n",
      "|— today: 'nov_29'\n"
     ]
    }
   ],
   "source": [
    "from functions import *\n",
    "\n",
    "# check race details to define directories\n",
    "pre_scraper('GA', '105369')\n",
    "define_directories()"
   ]
  },
  {
   "cell_type": "code",
   "execution_count": 3,
   "metadata": {
    "scrolled": false
   },
   "outputs": [
    {
     "name": "stdout",
     "output_type": "stream",
     "text": [
      "549 total races identified\n",
      "549 selected\n",
      "————————————————————————————————————————————————————————————\n",
      "Loading State House Dist 171.csv data...\n",
      " > Found data for 3 counties (2%)\n",
      "Verifying vote totals...\n"
     ]
    },
    {
     "data": {
      "application/vnd.jupyter.widget-view+json": {
       "model_id": "b7f582bf3d3f4645a66bc858b072774f",
       "version_major": 2,
       "version_minor": 0
      },
      "text/plain": [
       "HBox(children=(HTML(value=''), FloatProgress(value=0.0, max=1.0), HTML(value='')))"
      ]
     },
     "metadata": {},
     "output_type": "display_data"
    },
    {
     "name": "stdout",
     "output_type": "stream",
     "text": [
      "\n",
      "> Vote totals verified — no errors\n",
      "————————————————————————————————————————————————————————————\n",
      "Loading Lakeland City Council Post 1 - Special.csv data...\n",
      " > Found data for 1 counties (1%)\n",
      "Verifying vote totals...\n"
     ]
    },
    {
     "data": {
      "application/vnd.jupyter.widget-view+json": {
       "model_id": "421aa63eb2e34cfebb7ba6bc2992fb29",
       "version_major": 2,
       "version_minor": 0
      },
      "text/plain": [
       "HBox(children=(HTML(value=''), FloatProgress(value=0.0, max=7.0), HTML(value='')))"
      ]
     },
     "metadata": {},
     "output_type": "display_data"
    },
    {
     "name": "stdout",
     "output_type": "stream",
     "text": [
      "\n",
      "> Vote totals verified — no errors\n",
      "————————————————————————————————————————————————————————————\n",
      "Loading Dist Attorney - Northern.csv data...\n",
      " > Found data for 5 counties (3%)\n",
      "Verifying vote totals...\n"
     ]
    },
    {
     "data": {
      "application/vnd.jupyter.widget-view+json": {
       "model_id": "1882b7ee3f8749e79e398c24b3f8abf2",
       "version_major": 2,
       "version_minor": 0
      },
      "text/plain": [
       "HBox(children=(HTML(value=''), FloatProgress(value=0.0, max=1.0), HTML(value='')))"
      ]
     },
     "metadata": {},
     "output_type": "display_data"
    },
    {
     "name": "stdout",
     "output_type": "stream",
     "text": [
      "\n",
      "> Vote totals verified — no errors\n",
      "————————————————————————————————————————————————————————————\n",
      "Loading State House Dist 50.csv data...\n",
      " > Found data for 1 counties (1%)\n",
      "Verifying vote totals...\n"
     ]
    },
    {
     "data": {
      "application/vnd.jupyter.widget-view+json": {
       "model_id": "d368bd70122e471badddb11bb30815d1",
       "version_major": 2,
       "version_minor": 0
      },
      "text/plain": [
       "HBox(children=(HTML(value=''), FloatProgress(value=0.0, max=2.0), HTML(value='')))"
      ]
     },
     "metadata": {},
     "output_type": "display_data"
    },
    {
     "name": "stdout",
     "output_type": "stream",
     "text": [
      "\n",
      "> Vote totals verified — no errors\n",
      "————————————————————————————————————————————————————————————\n",
      "Loading County Commission Dist 6 - Special.csv data...\n",
      " > Found data for 1 counties (1%)\n",
      "Verifying vote totals...\n"
     ]
    },
    {
     "data": {
      "application/vnd.jupyter.widget-view+json": {
       "model_id": "748daffa73d64bb398ccbbe611fb3641",
       "version_major": 2,
       "version_minor": 0
      },
      "text/plain": [
       "HBox(children=(HTML(value=''), FloatProgress(value=0.0, max=2.0), HTML(value='')))"
      ]
     },
     "metadata": {},
     "output_type": "display_data"
    },
    {
     "name": "stdout",
     "output_type": "stream",
     "text": [
      "\n",
      "> Vote totals verified — no errors\n",
      "————————————————————————————————————————————————————————————\n",
      "Loading US House Dist 4.csv data...\n",
      " > Found data for 4 counties (3%)\n",
      "Verifying vote totals...\n"
     ]
    },
    {
     "data": {
      "application/vnd.jupyter.widget-view+json": {
       "model_id": "22b9719eb8a949259c77c886c8f76dc1",
       "version_major": 2,
       "version_minor": 0
      },
      "text/plain": [
       "HBox(children=(HTML(value=''), FloatProgress(value=0.0, max=2.0), HTML(value='')))"
      ]
     },
     "metadata": {},
     "output_type": "display_data"
    },
    {
     "name": "stdout",
     "output_type": "stream",
     "text": [
      "\n",
      "> Vote totals verified — no errors\n",
      "————————————————————————————————————————————————————————————\n",
      "Loading State House Dist 20.csv data...\n",
      " > Found data for 1 counties (1%)\n",
      "Verifying vote totals...\n"
     ]
    },
    {
     "data": {
      "application/vnd.jupyter.widget-view+json": {
       "model_id": "1226c28f1e034841829797eb1ed51489",
       "version_major": 2,
       "version_minor": 0
      },
      "text/plain": [
       "HBox(children=(HTML(value=''), FloatProgress(value=0.0, max=2.0), HTML(value='')))"
      ]
     },
     "metadata": {},
     "output_type": "display_data"
    },
    {
     "name": "stdout",
     "output_type": "stream",
     "text": [
      "\n",
      "> Vote totals verified — no errors\n",
      "————————————————————————————————————————————————————————————\n",
      "Loading State House Dist 172.csv data...\n",
      " > Found data for 3 counties (2%)\n",
      "Verifying vote totals...\n"
     ]
    },
    {
     "data": {
      "application/vnd.jupyter.widget-view+json": {
       "model_id": "a9f9af8475a44b41aafc39a6a090277e",
       "version_major": 2,
       "version_minor": 0
      },
      "text/plain": [
       "HBox(children=(HTML(value=''), FloatProgress(value=0.0, max=1.0), HTML(value='')))"
      ]
     },
     "metadata": {},
     "output_type": "display_data"
    },
    {
     "name": "stdout",
     "output_type": "stream",
     "text": [
      "\n",
      "> Vote totals verified — no errors\n",
      "————————————————————————————————————————————————————————————\n",
      "Loading Municipal Court Clerk.csv data...\n",
      " > Found data for 1 counties (1%)\n",
      "Verifying vote totals...\n"
     ]
    },
    {
     "data": {
      "application/vnd.jupyter.widget-view+json": {
       "model_id": "a6c20d670cb84ed1bb2ff4d0e580f11a",
       "version_major": 2,
       "version_minor": 0
      },
      "text/plain": [
       "HBox(children=(HTML(value=''), FloatProgress(value=0.0, max=1.0), HTML(value='')))"
      ]
     },
     "metadata": {},
     "output_type": "display_data"
    },
    {
     "name": "stdout",
     "output_type": "stream",
     "text": [
      "\n",
      "> Vote totals verified — no errors\n",
      "————————————————————————————————————————————————————————————\n",
      "Loading Dist Attorney - Blue Ridge.csv data...\n",
      " > Found data for 1 counties (1%)\n",
      "Verifying vote totals...\n"
     ]
    },
    {
     "data": {
      "application/vnd.jupyter.widget-view+json": {
       "model_id": "a08e87919ef64c90822d3de757ed43f0",
       "version_major": 2,
       "version_minor": 0
      },
      "text/plain": [
       "HBox(children=(HTML(value=''), FloatProgress(value=0.0, max=1.0), HTML(value='')))"
      ]
     },
     "metadata": {},
     "output_type": "display_data"
    },
    {
     "name": "stdout",
     "output_type": "stream",
     "text": [
      "\n",
      "> Vote totals verified — no errors\n",
      "————————————————————————————————————————————————————————————\n",
      "Loading Harrisburg Fire Advisory Board Post 7.csv data...\n",
      " > Found data for 1 counties (1%)\n",
      "Verifying vote totals...\n"
     ]
    },
    {
     "data": {
      "application/vnd.jupyter.widget-view+json": {
       "model_id": "725f3f3e815b4f928fffb68e0cc507b4",
       "version_major": 2,
       "version_minor": 0
      },
      "text/plain": [
       "HBox(children=(HTML(value=''), FloatProgress(value=0.0, max=1.0), HTML(value='')))"
      ]
     },
     "metadata": {},
     "output_type": "display_data"
    },
    {
     "name": "stdout",
     "output_type": "stream",
     "text": [
      "\n",
      "> Vote totals verified — no errors\n",
      "————————————————————————————————————————————————————————————\n",
      "Loading Holly Springs City Council Ward 3.csv data...\n",
      " > Found data for 1 counties (1%)\n",
      "Verifying vote totals...\n"
     ]
    },
    {
     "data": {
      "application/vnd.jupyter.widget-view+json": {
       "model_id": "0ab84601dfb24a12a66bb81299a42fb6",
       "version_major": 2,
       "version_minor": 0
      },
      "text/plain": [
       "HBox(children=(HTML(value=''), FloatProgress(value=0.0, max=1.0), HTML(value='')))"
      ]
     },
     "metadata": {},
     "output_type": "display_data"
    },
    {
     "name": "stdout",
     "output_type": "stream",
     "text": [
      "\n",
      "> Vote totals verified — no errors\n",
      "————————————————————————————————————————————————————————————\n",
      "Loading Kingsland City Council Post 2.csv data...\n",
      " > Found data for 1 counties (1%)\n",
      "Verifying vote totals...\n"
     ]
    },
    {
     "data": {
      "application/vnd.jupyter.widget-view+json": {
       "model_id": "2868c375bd3e4efeafb627608d73613d",
       "version_major": 2,
       "version_minor": 0
      },
      "text/plain": [
       "HBox(children=(HTML(value=''), FloatProgress(value=0.0, max=1.0), HTML(value='')))"
      ]
     },
     "metadata": {},
     "output_type": "display_data"
    },
    {
     "name": "stdout",
     "output_type": "stream",
     "text": [
      "\n",
      "> Vote totals verified — no errors\n",
      "————————————————————————————————————————————————————————————\n",
      "Loading State Senate Dist 40.csv data...\n",
      " > Found data for 3 counties (2%)\n",
      "Verifying vote totals...\n"
     ]
    },
    {
     "data": {
      "application/vnd.jupyter.widget-view+json": {
       "model_id": "3807db69ca984e33a84cd7a7370c23ab",
       "version_major": 2,
       "version_minor": 0
      },
      "text/plain": [
       "HBox(children=(HTML(value=''), FloatProgress(value=0.0, max=2.0), HTML(value='')))"
      ]
     },
     "metadata": {},
     "output_type": "display_data"
    },
    {
     "name": "stdout",
     "output_type": "stream",
     "text": [
      "\n",
      "> Vote totals verified — no errors\n",
      "————————————————————————————————————————————————————————————\n",
      "Loading Soil and Water - Catoosa.csv data...\n",
      " > Found data for 1 counties (1%)\n",
      "Verifying vote totals...\n"
     ]
    },
    {
     "data": {
      "application/vnd.jupyter.widget-view+json": {
       "model_id": "32a9692e783b438d8816f4d2aa19ea2b",
       "version_major": 2,
       "version_minor": 0
      },
      "text/plain": [
       "HBox(children=(HTML(value=''), FloatProgress(value=0.0, max=1.0), HTML(value='')))"
      ]
     },
     "metadata": {},
     "output_type": "display_data"
    },
    {
     "name": "stdout",
     "output_type": "stream",
     "text": [
      "\n",
      "> Vote totals verified — no errors\n",
      "————————————————————————————————————————————————————————————\n",
      "Loading State House Dist 5.csv data...\n",
      " > Found data for 2 counties (1%)\n",
      "Verifying vote totals...\n"
     ]
    },
    {
     "data": {
      "application/vnd.jupyter.widget-view+json": {
       "model_id": "07def4464e8e490d958d27074b3fe40b",
       "version_major": 2,
       "version_minor": 0
      },
      "text/plain": [
       "HBox(children=(HTML(value=''), FloatProgress(value=0.0, max=1.0), HTML(value='')))"
      ]
     },
     "metadata": {},
     "output_type": "display_data"
    },
    {
     "name": "stdout",
     "output_type": "stream",
     "text": [
      "\n",
      "> Vote totals verified — no errors\n",
      "————————————————————————————————————————————————————————————\n",
      "Loading State Senate Dist 44.csv data...\n",
      " > Found data for 2 counties (1%)\n",
      "Verifying vote totals...\n"
     ]
    },
    {
     "data": {
      "application/vnd.jupyter.widget-view+json": {
       "model_id": "ad3e6fd2bbcf40e888b8306c3f91d10c",
       "version_major": 2,
       "version_minor": 0
      },
      "text/plain": [
       "HBox(children=(HTML(value=''), FloatProgress(value=0.0, max=2.0), HTML(value='')))"
      ]
     },
     "metadata": {},
     "output_type": "display_data"
    },
    {
     "name": "stdout",
     "output_type": "stream",
     "text": [
      "\n",
      "> Vote totals verified — no errors\n",
      "————————————————————————————————————————————————————————————\n",
      "Loading Dist Attorney - Chattahoochee.csv data...\n",
      " > Found data for 6 counties (4%)\n",
      "Verifying vote totals...\n"
     ]
    },
    {
     "data": {
      "application/vnd.jupyter.widget-view+json": {
       "model_id": "bbc7f7019c324459ab88826feba2e0ec",
       "version_major": 2,
       "version_minor": 0
      },
      "text/plain": [
       "HBox(children=(HTML(value=''), FloatProgress(value=0.0, max=1.0), HTML(value='')))"
      ]
     },
     "metadata": {},
     "output_type": "display_data"
    },
    {
     "name": "stdout",
     "output_type": "stream",
     "text": [
      "\n",
      "> Vote totals verified — no errors\n",
      "————————————————————————————————————————————————————————————\n",
      "Loading Dist Attorney - Alcovy.csv data...\n",
      " > Found data for 2 counties (1%)\n",
      "Verifying vote totals...\n"
     ]
    },
    {
     "data": {
      "application/vnd.jupyter.widget-view+json": {
       "model_id": "e3f24977ae38433e813bfdf0204c3a2f",
       "version_major": 2,
       "version_minor": 0
      },
      "text/plain": [
       "HBox(children=(HTML(value=''), FloatProgress(value=0.0, max=2.0), HTML(value='')))"
      ]
     },
     "metadata": {},
     "output_type": "display_data"
    },
    {
     "name": "stdout",
     "output_type": "stream",
     "text": [
      "\n",
      "> Vote totals verified — no errors\n",
      "————————————————————————————————————————————————————————————\n",
      "Loading State House Dist 16.csv data...\n",
      " > Found data for 3 counties (2%)\n",
      "Verifying vote totals...\n"
     ]
    },
    {
     "data": {
      "application/vnd.jupyter.widget-view+json": {
       "model_id": "1b29f36839f7489d82f452ca4172ed9f",
       "version_major": 2,
       "version_minor": 0
      },
      "text/plain": [
       "HBox(children=(HTML(value=''), FloatProgress(value=0.0, max=2.0), HTML(value='')))"
      ]
     },
     "metadata": {},
     "output_type": "display_data"
    },
    {
     "name": "stdout",
     "output_type": "stream",
     "text": [
      "\n",
      "> Vote totals verified — no errors\n",
      "————————————————————————————————————————————————————————————\n",
      "Loading Constitutional Amendment #2.csv data...\n",
      " > Found data for 159 counties (100%)\n",
      "Verifying vote totals...\n"
     ]
    },
    {
     "data": {
      "application/vnd.jupyter.widget-view+json": {
       "model_id": "5609ea3452184a36a282b87d65343af5",
       "version_major": 2,
       "version_minor": 0
      },
      "text/plain": [
       "HBox(children=(HTML(value=''), FloatProgress(value=0.0, max=2.0), HTML(value='')))"
      ]
     },
     "metadata": {},
     "output_type": "display_data"
    },
    {
     "name": "stdout",
     "output_type": "stream",
     "text": [
      "\n",
      "> Vote totals verified — no errors\n",
      "————————————————————————————————————————————————————————————\n",
      "Loading State Senate Dist 46.csv data...\n",
      " > Found data for 3 counties (2%)\n",
      "Verifying vote totals...\n"
     ]
    },
    {
     "data": {
      "application/vnd.jupyter.widget-view+json": {
       "model_id": "895bad758902438c8cd8caeff362bff3",
       "version_major": 2,
       "version_minor": 0
      },
      "text/plain": [
       "HBox(children=(HTML(value=''), FloatProgress(value=0.0, max=2.0), HTML(value='')))"
      ]
     },
     "metadata": {},
     "output_type": "display_data"
    },
    {
     "name": "stdout",
     "output_type": "stream",
     "text": [
      "\n",
      "> Vote totals verified — no errors\n",
      "————————————————————————————————————————————————————————————\n",
      "Loading State Senate Dist 55.csv data...\n",
      " > Found data for 2 counties (1%)\n",
      "Verifying vote totals...\n"
     ]
    },
    {
     "data": {
      "application/vnd.jupyter.widget-view+json": {
       "model_id": "736de80d675d4e68a7bc3cfc51d0f5d3",
       "version_major": 2,
       "version_minor": 0
      },
      "text/plain": [
       "HBox(children=(HTML(value=''), FloatProgress(value=0.0, max=1.0), HTML(value='')))"
      ]
     },
     "metadata": {},
     "output_type": "display_data"
    },
    {
     "name": "stdout",
     "output_type": "stream",
     "text": [
      "\n",
      "> Vote totals verified — no errors\n",
      "————————————————————————————————————————————————————————————\n",
      "Loading Board of Education Dist 3 Post 2.csv data...\n",
      " > Found data for 1 counties (1%)\n",
      "Verifying vote totals...\n"
     ]
    },
    {
     "data": {
      "application/vnd.jupyter.widget-view+json": {
       "model_id": "f2e60c66ca4a4dda801b7baaa6051b55",
       "version_major": 2,
       "version_minor": 0
      },
      "text/plain": [
       "HBox(children=(HTML(value=''), FloatProgress(value=0.0, max=1.0), HTML(value='')))"
      ]
     },
     "metadata": {},
     "output_type": "display_data"
    },
    {
     "name": "stdout",
     "output_type": "stream",
     "text": [
      "\n",
      "> Vote totals verified — no errors\n",
      "————————————————————————————————————————————————————————————\n",
      "Loading Folkston City Council At Large - Special.csv data...\n",
      " > Found data for 1 counties (1%)\n",
      "Verifying vote totals...\n"
     ]
    },
    {
     "data": {
      "application/vnd.jupyter.widget-view+json": {
       "model_id": "42d95d1446234d49be712f4d645e0438",
       "version_major": 2,
       "version_minor": 0
      },
      "text/plain": [
       "HBox(children=(HTML(value=''), FloatProgress(value=0.0, max=2.0), HTML(value='')))"
      ]
     },
     "metadata": {},
     "output_type": "display_data"
    },
    {
     "name": "stdout",
     "output_type": "stream",
     "text": [
      "\n",
      "> Vote totals verified — no errors\n",
      "————————————————————————————————————————————————————————————\n",
      "Loading St. Marys City Council Post 6.csv data...\n",
      " > Found data for 1 counties (1%)\n",
      "Verifying vote totals...\n"
     ]
    },
    {
     "data": {
      "application/vnd.jupyter.widget-view+json": {
       "model_id": "a43ae734e2d141ffb11d9b0abee4face",
       "version_major": 2,
       "version_minor": 0
      },
      "text/plain": [
       "HBox(children=(HTML(value=''), FloatProgress(value=0.0, max=3.0), HTML(value='')))"
      ]
     },
     "metadata": {},
     "output_type": "display_data"
    },
    {
     "name": "stdout",
     "output_type": "stream",
     "text": [
      "\n",
      "> Vote totals verified — no errors\n",
      "————————————————————————————————————————————————————————————\n",
      "Loading State House Dist 25.csv data...\n",
      " > Found data for 2 counties (1%)\n",
      "Verifying vote totals...\n"
     ]
    },
    {
     "data": {
      "application/vnd.jupyter.widget-view+json": {
       "model_id": "6f48b3657ac44151b33460aed8bea5da",
       "version_major": 2,
       "version_minor": 0
      },
      "text/plain": [
       "HBox(children=(HTML(value=''), FloatProgress(value=0.0, max=2.0), HTML(value='')))"
      ]
     },
     "metadata": {},
     "output_type": "display_data"
    },
    {
     "name": "stdout",
     "output_type": "stream",
     "text": [
      "\n",
      "> Vote totals verified — no errors\n",
      "————————————————————————————————————————————————————————————\n",
      "Loading State House Dist 71.csv data...\n",
      " > Found data for 2 counties (1%)\n",
      "Verifying vote totals...\n"
     ]
    },
    {
     "data": {
      "application/vnd.jupyter.widget-view+json": {
       "model_id": "80f51973d75b4051b49f10c382b6af69",
       "version_major": 2,
       "version_minor": 0
      },
      "text/plain": [
       "HBox(children=(HTML(value=''), FloatProgress(value=0.0, max=3.0), HTML(value='')))"
      ]
     },
     "metadata": {},
     "output_type": "display_data"
    },
    {
     "name": "stdout",
     "output_type": "stream",
     "text": [
      "\n",
      "> Vote totals verified — no errors\n",
      "————————————————————————————————————————————————————————————\n",
      "Loading State House Dist 170.csv data...\n",
      " > Found data for 3 counties (2%)\n",
      "Verifying vote totals...\n"
     ]
    },
    {
     "data": {
      "application/vnd.jupyter.widget-view+json": {
       "model_id": "2093cd1cb0334372becd6a2440896544",
       "version_major": 2,
       "version_minor": 0
      },
      "text/plain": [
       "HBox(children=(HTML(value=''), FloatProgress(value=0.0, max=2.0), HTML(value='')))"
      ]
     },
     "metadata": {},
     "output_type": "display_data"
    },
    {
     "name": "stdout",
     "output_type": "stream",
     "text": [
      "\n",
      "> Vote totals verified — no errors\n",
      "————————————————————————————————————————————————————————————\n",
      "Loading State House Dist 133.csv data...\n",
      " > Found data for 3 counties (2%)\n",
      "Verifying vote totals...\n"
     ]
    },
    {
     "data": {
      "application/vnd.jupyter.widget-view+json": {
       "model_id": "653578491e3c41c2a25af0f2631e93fe",
       "version_major": 2,
       "version_minor": 0
      },
      "text/plain": [
       "HBox(children=(HTML(value=''), FloatProgress(value=0.0, max=1.0), HTML(value='')))"
      ]
     },
     "metadata": {},
     "output_type": "display_data"
    },
    {
     "name": "stdout",
     "output_type": "stream",
     "text": [
      "\n",
      "> Vote totals verified — no errors\n",
      "————————————————————————————————————————————————————————————\n",
      "Loading Dist Attorney - Bell-Forsyth.csv data...\n",
      " > Found data for 1 counties (1%)\n",
      "Verifying vote totals...\n"
     ]
    },
    {
     "data": {
      "application/vnd.jupyter.widget-view+json": {
       "model_id": "331ed4b806db4baa9225b639b78415ad",
       "version_major": 2,
       "version_minor": 0
      },
      "text/plain": [
       "HBox(children=(HTML(value=''), FloatProgress(value=0.0, max=1.0), HTML(value='')))"
      ]
     },
     "metadata": {},
     "output_type": "display_data"
    },
    {
     "name": "stdout",
     "output_type": "stream",
     "text": [
      "\n",
      "> Vote totals verified — no errors\n",
      "————————————————————————————————————————————————————————————\n",
      "Loading State House Dist 51.csv data...\n",
      " > Found data for 1 counties (1%)\n",
      "Verifying vote totals...\n"
     ]
    },
    {
     "data": {
      "application/vnd.jupyter.widget-view+json": {
       "model_id": "5c3b2878a7204979a5c1377292219aac",
       "version_major": 2,
       "version_minor": 0
      },
      "text/plain": [
       "HBox(children=(HTML(value=''), FloatProgress(value=0.0, max=2.0), HTML(value='')))"
      ]
     },
     "metadata": {},
     "output_type": "display_data"
    },
    {
     "name": "stdout",
     "output_type": "stream",
     "text": [
      "\n",
      "> Vote totals verified — no errors\n",
      "————————————————————————————————————————————————————————————\n",
      "Loading Board of Education Elmodel Dist.csv data...\n",
      " > Found data for 1 counties (1%)\n",
      "Verifying vote totals...\n"
     ]
    },
    {
     "data": {
      "application/vnd.jupyter.widget-view+json": {
       "model_id": "9f653b12c5ae40529842b5867677ff8e",
       "version_major": 2,
       "version_minor": 0
      },
      "text/plain": [
       "HBox(children=(HTML(value=''), FloatProgress(value=0.0, max=1.0), HTML(value='')))"
      ]
     },
     "metadata": {},
     "output_type": "display_data"
    },
    {
     "name": "stdout",
     "output_type": "stream",
     "text": [
      "\n",
      "> Vote totals verified — no errors\n",
      "————————————————————————————————————————————————————————————\n",
      "Loading Clerk of Courts.csv data...\n",
      " > Found data for 1 counties (1%)\n",
      "Verifying vote totals...\n"
     ]
    },
    {
     "data": {
      "application/vnd.jupyter.widget-view+json": {
       "model_id": "724dc0db37254c3d93635311592d0cfa",
       "version_major": 2,
       "version_minor": 0
      },
      "text/plain": [
       "HBox(children=(HTML(value=''), FloatProgress(value=0.0, max=1.0), HTML(value='')))"
      ]
     },
     "metadata": {},
     "output_type": "display_data"
    },
    {
     "name": "stdout",
     "output_type": "stream",
     "text": [
      "\n",
      "> Vote totals verified — no errors\n",
      "————————————————————————————————————————————————————————————\n",
      "Loading State House Dist 12.csv data...\n",
      " > Found data for 2 counties (1%)\n",
      "Verifying vote totals...\n"
     ]
    },
    {
     "data": {
      "application/vnd.jupyter.widget-view+json": {
       "model_id": "f55f55aed9b943388cae6713cc5503a0",
       "version_major": 2,
       "version_minor": 0
      },
      "text/plain": [
       "HBox(children=(HTML(value=''), FloatProgress(value=0.0, max=2.0), HTML(value='')))"
      ]
     },
     "metadata": {},
     "output_type": "display_data"
    },
    {
     "name": "stdout",
     "output_type": "stream",
     "text": [
      "\n",
      "> Vote totals verified — no errors\n",
      "————————————————————————————————————————————————————————————\n",
      "Loading Soil and Water - Ocmulgee River.csv data...\n",
      " > Found data for 2 counties (1%)\n",
      "Verifying vote totals...\n"
     ]
    },
    {
     "data": {
      "application/vnd.jupyter.widget-view+json": {
       "model_id": "f68d3709ba934ea683d13b96eed2534f",
       "version_major": 2,
       "version_minor": 0
      },
      "text/plain": [
       "HBox(children=(HTML(value=''), FloatProgress(value=0.0, max=2.0), HTML(value='')))"
      ]
     },
     "metadata": {},
     "output_type": "display_data"
    },
    {
     "name": "stdout",
     "output_type": "stream",
     "text": [
      "\n",
      "> Vote totals verified — no errors\n",
      "————————————————————————————————————————————————————————————\n",
      "Loading East Jackson Fire Advisory Board Post 4.csv data...\n",
      " > Found data for 1 counties (1%)\n",
      "Verifying vote totals...\n"
     ]
    },
    {
     "data": {
      "application/vnd.jupyter.widget-view+json": {
       "model_id": "c327415e1c9d4416b0d32179e5a6a260",
       "version_major": 2,
       "version_minor": 0
      },
      "text/plain": [
       "HBox(children=(HTML(value=''), FloatProgress(value=0.0, max=1.0), HTML(value='')))"
      ]
     },
     "metadata": {},
     "output_type": "display_data"
    },
    {
     "name": "stdout",
     "output_type": "stream",
     "text": [
      "\n",
      "> Vote totals verified — no errors\n",
      "————————————————————————————————————————————————————————————\n",
      "Loading County Commission Post 3 - Special.csv data...\n",
      " > Found data for 1 counties (1%)\n",
      "Verifying vote totals...\n"
     ]
    },
    {
     "data": {
      "application/vnd.jupyter.widget-view+json": {
       "model_id": "8d1e0dc883d342009ae1a358b02f8b0e",
       "version_major": 2,
       "version_minor": 0
      },
      "text/plain": [
       "HBox(children=(HTML(value=''), FloatProgress(value=0.0, max=3.0), HTML(value='')))"
      ]
     },
     "metadata": {},
     "output_type": "display_data"
    },
    {
     "name": "stdout",
     "output_type": "stream",
     "text": [
      "\n",
      "> Vote totals verified — no errors\n",
      "————————————————————————————————————————————————————————————\n",
      "Loading Jackson Trail Fire Advisory Board Post 1.csv data...\n",
      " > Found data for 1 counties (1%)\n",
      "Verifying vote totals...\n"
     ]
    },
    {
     "data": {
      "application/vnd.jupyter.widget-view+json": {
       "model_id": "446df9579fbe4bb292cdc8794d37ba44",
       "version_major": 2,
       "version_minor": 0
      },
      "text/plain": [
       "HBox(children=(HTML(value=''), FloatProgress(value=0.0, max=1.0), HTML(value='')))"
      ]
     },
     "metadata": {},
     "output_type": "display_data"
    },
    {
     "name": "stdout",
     "output_type": "stream",
     "text": [
      "\n",
      "> Vote totals verified — no errors\n",
      "————————————————————————————————————————————————————————————\n",
      "Loading Board of Education Dist 7.csv data...\n",
      " > Found data for 6 counties (4%)\n",
      "Verifying vote totals...\n"
     ]
    },
    {
     "data": {
      "application/vnd.jupyter.widget-view+json": {
       "model_id": "777f751f954a47c5b10ef5d68ae9ec0f",
       "version_major": 2,
       "version_minor": 0
      },
      "text/plain": [
       "HBox(children=(HTML(value=''), FloatProgress(value=0.0, max=8.0), HTML(value='')))"
      ]
     },
     "metadata": {},
     "output_type": "display_data"
    },
    {
     "name": "stdout",
     "output_type": "stream",
     "text": [
      "\n",
      "> Vote totals verified — no errors\n",
      "————————————————————————————————————————————————————————————\n",
      "Loading South Jackson Fire Advisory Board Post 3.csv data...\n",
      " > Found data for 1 counties (1%)\n",
      "Verifying vote totals...\n"
     ]
    },
    {
     "data": {
      "application/vnd.jupyter.widget-view+json": {
       "model_id": "2e008a6274524783a977104574c2601b",
       "version_major": 2,
       "version_minor": 0
      },
      "text/plain": [
       "HBox(children=(HTML(value=''), FloatProgress(value=0.0, max=1.0), HTML(value='')))"
      ]
     },
     "metadata": {},
     "output_type": "display_data"
    },
    {
     "name": "stdout",
     "output_type": "stream",
     "text": [
      "\n",
      "> Vote totals verified — no errors\n",
      "————————————————————————————————————————————————————————————\n",
      "Loading State Senate Dist 27.csv data...\n",
      " > Found data for 1 counties (1%)\n",
      "Verifying vote totals...\n"
     ]
    },
    {
     "data": {
      "application/vnd.jupyter.widget-view+json": {
       "model_id": "6ff7629d1bfc4c9bb4b2f01a75ee1129",
       "version_major": 2,
       "version_minor": 0
      },
      "text/plain": [
       "HBox(children=(HTML(value=''), FloatProgress(value=0.0, max=2.0), HTML(value='')))"
      ]
     },
     "metadata": {},
     "output_type": "display_data"
    },
    {
     "name": "stdout",
     "output_type": "stream",
     "text": [
      "\n",
      "> Vote totals verified — no errors\n",
      "————————————————————————————————————————————————————————————\n",
      "Loading Soil and Water - Altamaha.csv data...\n",
      " > Found data for 4 counties (3%)\n",
      "Verifying vote totals...\n"
     ]
    },
    {
     "data": {
      "application/vnd.jupyter.widget-view+json": {
       "model_id": "d7a76126e0414c7690edb832362dbcf9",
       "version_major": 2,
       "version_minor": 0
      },
      "text/plain": [
       "HBox(children=(HTML(value=''), FloatProgress(value=0.0, max=4.0), HTML(value='')))"
      ]
     },
     "metadata": {},
     "output_type": "display_data"
    },
    {
     "name": "stdout",
     "output_type": "stream",
     "text": [
      "\n",
      "> Vote totals verified — no errors\n",
      "————————————————————————————————————————————————————————————\n",
      "Loading Board of Education Dist 1 Post 1.csv data...\n",
      " > Found data for 1 counties (1%)\n",
      "Verifying vote totals...\n"
     ]
    },
    {
     "data": {
      "application/vnd.jupyter.widget-view+json": {
       "model_id": "d6a60340a19d45ca94c9f098f3cd540c",
       "version_major": 2,
       "version_minor": 0
      },
      "text/plain": [
       "HBox(children=(HTML(value=''), FloatProgress(value=0.0, max=1.0), HTML(value='')))"
      ]
     },
     "metadata": {},
     "output_type": "display_data"
    },
    {
     "name": "stdout",
     "output_type": "stream",
     "text": [
      "\n",
      "> Vote totals verified — no errors\n",
      "————————————————————————————————————————————————————————————\n",
      "Loading Plainview Fire Advisory Board Post 2.csv data...\n",
      " > Found data for 1 counties (1%)\n",
      "Verifying vote totals...\n"
     ]
    },
    {
     "data": {
      "application/vnd.jupyter.widget-view+json": {
       "model_id": "c57db4dabb684a71b7ffcbe69e870c49",
       "version_major": 2,
       "version_minor": 0
      },
      "text/plain": [
       "HBox(children=(HTML(value=''), FloatProgress(value=0.0, max=1.0), HTML(value='')))"
      ]
     },
     "metadata": {},
     "output_type": "display_data"
    },
    {
     "name": "stdout",
     "output_type": "stream",
     "text": [
      "\n",
      "> Vote totals verified — no errors\n",
      "————————————————————————————————————————————————————————————\n",
      "Loading State House Dist 158.csv data...\n",
      " > Found data for 4 counties (3%)\n",
      "Verifying vote totals...\n"
     ]
    },
    {
     "data": {
      "application/vnd.jupyter.widget-view+json": {
       "model_id": "e472b58e484a4125a50aec3a39c7b4d0",
       "version_major": 2,
       "version_minor": 0
      },
      "text/plain": [
       "HBox(children=(HTML(value=''), FloatProgress(value=0.0, max=2.0), HTML(value='')))"
      ]
     },
     "metadata": {},
     "output_type": "display_data"
    },
    {
     "name": "stdout",
     "output_type": "stream",
     "text": [
      "\n",
      "> Vote totals verified — no errors\n",
      "————————————————————————————————————————————————————————————\n",
      "Loading State House Dist 150.csv data...\n",
      " > Found data for 3 counties (2%)\n",
      "Verifying vote totals...\n"
     ]
    },
    {
     "data": {
      "application/vnd.jupyter.widget-view+json": {
       "model_id": "afb70fed64b64934af1ef3dfda416315",
       "version_major": 2,
       "version_minor": 0
      },
      "text/plain": [
       "HBox(children=(HTML(value=''), FloatProgress(value=0.0, max=1.0), HTML(value='')))"
      ]
     },
     "metadata": {},
     "output_type": "display_data"
    },
    {
     "name": "stdout",
     "output_type": "stream",
     "text": [
      "\n",
      "> Vote totals verified — no errors\n",
      "————————————————————————————————————————————————————————————\n",
      "Loading Sheriff.csv data...\n",
      " > Found data for 159 counties (100%)\n",
      "Verifying vote totals...\n"
     ]
    },
    {
     "data": {
      "application/vnd.jupyter.widget-view+json": {
       "model_id": "616752e960a344708dd6eb5d5ecae0ea",
       "version_major": 2,
       "version_minor": 0
      },
      "text/plain": [
       "HBox(children=(HTML(value=''), FloatProgress(value=0.0, max=205.0), HTML(value='')))"
      ]
     },
     "metadata": {},
     "output_type": "display_data"
    },
    {
     "name": "stdout",
     "output_type": "stream",
     "text": [
      "\n",
      ">>> Vote totals verified — 8e-05 error rate\n",
      "————————————————————————————————————————————————————————————\n",
      "Loading County Commission Dist 2, Seat A.csv data...\n",
      " > Found data for 1 counties (1%)\n",
      "Verifying vote totals...\n"
     ]
    },
    {
     "data": {
      "application/vnd.jupyter.widget-view+json": {
       "model_id": "c40fdf6d4c6d425bbfdc3ed97e05d6bb",
       "version_major": 2,
       "version_minor": 0
      },
      "text/plain": [
       "HBox(children=(HTML(value=''), FloatProgress(value=0.0, max=1.0), HTML(value='')))"
      ]
     },
     "metadata": {},
     "output_type": "display_data"
    },
    {
     "name": "stdout",
     "output_type": "stream",
     "text": [
      "\n",
      "> Vote totals verified — no errors\n",
      "————————————————————————————————————————————————————————————\n",
      "Loading Soil and Water - Limestone Valley.csv data...\n",
      " > Found data for 2 counties (1%)\n",
      "Verifying vote totals...\n"
     ]
    },
    {
     "data": {
      "application/vnd.jupyter.widget-view+json": {
       "model_id": "acb996a60fd24995be8bc0035fdda7d9",
       "version_major": 2,
       "version_minor": 0
      },
      "text/plain": [
       "HBox(children=(HTML(value=''), FloatProgress(value=0.0, max=2.0), HTML(value='')))"
      ]
     },
     "metadata": {},
     "output_type": "display_data"
    },
    {
     "name": "stdout",
     "output_type": "stream",
     "text": [
      "\n",
      "> Vote totals verified — no errors\n",
      "————————————————————————————————————————————————————————————\n",
      "Loading Surveyor.csv data...\n",
      " > Found data for 42 counties (26%)\n",
      "Verifying vote totals...\n"
     ]
    },
    {
     "data": {
      "application/vnd.jupyter.widget-view+json": {
       "model_id": "45c7b3bf10364369be1129b961ec00b3",
       "version_major": 2,
       "version_minor": 0
      },
      "text/plain": [
       "HBox(children=(HTML(value=''), FloatProgress(value=0.0, max=42.0), HTML(value='')))"
      ]
     },
     "metadata": {},
     "output_type": "display_data"
    },
    {
     "name": "stdout",
     "output_type": "stream",
     "text": [
      "\n",
      "> Vote totals verified — no errors\n",
      "————————————————————————————————————————————————————————————\n",
      "Loading State Senate Dist 15.csv data...\n",
      " > Found data for 7 counties (4%)\n",
      "Verifying vote totals...\n"
     ]
    },
    {
     "data": {
      "application/vnd.jupyter.widget-view+json": {
       "model_id": "f2c4d47d548d48e7aba1f8dc2b99d006",
       "version_major": 2,
       "version_minor": 0
      },
      "text/plain": [
       "HBox(children=(HTML(value=''), FloatProgress(value=0.0, max=1.0), HTML(value='')))"
      ]
     },
     "metadata": {},
     "output_type": "display_data"
    },
    {
     "name": "stdout",
     "output_type": "stream",
     "text": [
      "\n",
      "> Vote totals verified — no errors\n",
      "————————————————————————————————————————————————————————————\n",
      "Loading Soil and Water - Clayton County.csv data...\n",
      " > Found data for 1 counties (1%)\n",
      "Verifying vote totals...\n"
     ]
    },
    {
     "data": {
      "application/vnd.jupyter.widget-view+json": {
       "model_id": "78bc0967fa7c407f89845f99326e9013",
       "version_major": 2,
       "version_minor": 0
      },
      "text/plain": [
       "HBox(children=(HTML(value=''), FloatProgress(value=0.0, max=1.0), HTML(value='')))"
      ]
     },
     "metadata": {},
     "output_type": "display_data"
    },
    {
     "name": "stdout",
     "output_type": "stream",
     "text": [
      "\n",
      "> Vote totals verified — no errors\n",
      "————————————————————————————————————————————————————————————\n",
      "Loading State Senate Dist 9.csv data...\n",
      " > Found data for 1 counties (1%)\n",
      "Verifying vote totals...\n"
     ]
    },
    {
     "data": {
      "application/vnd.jupyter.widget-view+json": {
       "model_id": "32f0d922d0784ee7a390ad7548d700ae",
       "version_major": 2,
       "version_minor": 0
      },
      "text/plain": [
       "HBox(children=(HTML(value=''), FloatProgress(value=0.0, max=2.0), HTML(value='')))"
      ]
     },
     "metadata": {},
     "output_type": "display_data"
    },
    {
     "name": "stdout",
     "output_type": "stream",
     "text": [
      "\n",
      "> Vote totals verified — no errors\n",
      "————————————————————————————————————————————————————————————\n",
      "Loading Camak City Council.csv data...\n",
      " > Found data for 1 counties (1%)\n",
      "Verifying vote totals...\n"
     ]
    },
    {
     "data": {
      "application/vnd.jupyter.widget-view+json": {
       "model_id": "f714452807d642d0a1517de364588086",
       "version_major": 2,
       "version_minor": 0
      },
      "text/plain": [
       "HBox(children=(HTML(value=''), FloatProgress(value=0.0, max=5.0), HTML(value='')))"
      ]
     },
     "metadata": {},
     "output_type": "display_data"
    },
    {
     "name": "stdout",
     "output_type": "stream",
     "text": [
      "\n",
      "> Vote totals verified — no errors\n",
      "————————————————————————————————————————————————————————————\n",
      "Loading County Commission Dist 2, Seat C.csv data...\n",
      " > Found data for 1 counties (1%)\n",
      "Verifying vote totals...\n"
     ]
    },
    {
     "data": {
      "application/vnd.jupyter.widget-view+json": {
       "model_id": "521b8a75d77a420f81b876b11a254778",
       "version_major": 2,
       "version_minor": 0
      },
      "text/plain": [
       "HBox(children=(HTML(value=''), FloatProgress(value=0.0, max=1.0), HTML(value='')))"
      ]
     },
     "metadata": {},
     "output_type": "display_data"
    },
    {
     "name": "stdout",
     "output_type": "stream",
     "text": [
      "\n",
      "> Vote totals verified — no errors\n",
      "————————————————————————————————————————————————————————————\n",
      "Loading State Senate Dist 5.csv data...\n",
      " > Found data for 1 counties (1%)\n",
      "Verifying vote totals...\n"
     ]
    },
    {
     "data": {
      "application/vnd.jupyter.widget-view+json": {
       "model_id": "e252782d59884fb6b0f52ba334f11c8e",
       "version_major": 2,
       "version_minor": 0
      },
      "text/plain": [
       "HBox(children=(HTML(value=''), FloatProgress(value=0.0, max=1.0), HTML(value='')))"
      ]
     },
     "metadata": {},
     "output_type": "display_data"
    },
    {
     "name": "stdout",
     "output_type": "stream",
     "text": [
      "\n",
      "> Vote totals verified — no errors\n",
      "————————————————————————————————————————————————————————————\n",
      "Loading Board of Education Post 6.csv data...\n",
      " > Found data for 1 counties (1%)\n",
      "Verifying vote totals...\n"
     ]
    },
    {
     "data": {
      "application/vnd.jupyter.widget-view+json": {
       "model_id": "3364fb752b094a77be4a122efa5717b9",
       "version_major": 2,
       "version_minor": 0
      },
      "text/plain": [
       "HBox(children=(HTML(value=''), FloatProgress(value=0.0, max=1.0), HTML(value='')))"
      ]
     },
     "metadata": {},
     "output_type": "display_data"
    },
    {
     "name": "stdout",
     "output_type": "stream",
     "text": [
      "\n",
      "> Vote totals verified — no errors\n",
      "————————————————————————————————————————————————————————————\n",
      "Loading State House Dist 106.csv data...\n",
      " > Found data for 1 counties (1%)\n",
      "Verifying vote totals...\n"
     ]
    },
    {
     "data": {
      "application/vnd.jupyter.widget-view+json": {
       "model_id": "614377432ebc466d984794ca248230ba",
       "version_major": 2,
       "version_minor": 0
      },
      "text/plain": [
       "HBox(children=(HTML(value=''), FloatProgress(value=0.0, max=2.0), HTML(value='')))"
      ]
     },
     "metadata": {},
     "output_type": "display_data"
    },
    {
     "name": "stdout",
     "output_type": "stream",
     "text": [
      "\n",
      "> Vote totals verified — no errors\n",
      "————————————————————————————————————————————————————————————\n",
      "Loading Watkinsville City Council Post 3.csv data...\n",
      " > Found data for 1 counties (1%)\n",
      "Verifying vote totals...\n"
     ]
    },
    {
     "data": {
      "application/vnd.jupyter.widget-view+json": {
       "model_id": "751ed232630e4a748d87a2b932b45de1",
       "version_major": 2,
       "version_minor": 0
      },
      "text/plain": [
       "HBox(children=(HTML(value=''), FloatProgress(value=0.0, max=2.0), HTML(value='')))"
      ]
     },
     "metadata": {},
     "output_type": "display_data"
    },
    {
     "name": "stdout",
     "output_type": "stream",
     "text": [
      "\n",
      "> Vote totals verified — no errors\n",
      "————————————————————————————————————————————————————————————\n",
      "Loading Board of Education Anna Dist.csv data...\n",
      " > Found data for 1 counties (1%)\n",
      "Verifying vote totals...\n"
     ]
    },
    {
     "data": {
      "application/vnd.jupyter.widget-view+json": {
       "model_id": "f8882d960d194aa48d22a221165cc3f4",
       "version_major": 2,
       "version_minor": 0
      },
      "text/plain": [
       "HBox(children=(HTML(value=''), FloatProgress(value=0.0, max=1.0), HTML(value='')))"
      ]
     },
     "metadata": {},
     "output_type": "display_data"
    },
    {
     "name": "stdout",
     "output_type": "stream",
     "text": [
      "\n",
      "> Vote totals verified — no errors\n",
      "————————————————————————————————————————————————————————————\n",
      "Loading Dist Attorney - Oconee.csv data...\n",
      " > Found data for 6 counties (4%)\n",
      "Verifying vote totals...\n"
     ]
    },
    {
     "data": {
      "application/vnd.jupyter.widget-view+json": {
       "model_id": "b871f5754dcd4a67b6761e8793ca35ae",
       "version_major": 2,
       "version_minor": 0
      },
      "text/plain": [
       "HBox(children=(HTML(value=''), FloatProgress(value=0.0, max=1.0), HTML(value='')))"
      ]
     },
     "metadata": {},
     "output_type": "display_data"
    },
    {
     "name": "stdout",
     "output_type": "stream",
     "text": [
      "\n",
      "> Vote totals verified — no errors\n",
      "————————————————————————————————————————————————————————————\n",
      "Loading State House Dist 95.csv data...\n",
      " > Found data for 2 counties (1%)\n",
      "Verifying vote totals...\n"
     ]
    },
    {
     "data": {
      "application/vnd.jupyter.widget-view+json": {
       "model_id": "e7da03e5dd8e44db9f7488ec4a46b75e",
       "version_major": 2,
       "version_minor": 0
      },
      "text/plain": [
       "HBox(children=(HTML(value=''), FloatProgress(value=0.0, max=2.0), HTML(value='')))"
      ]
     },
     "metadata": {},
     "output_type": "display_data"
    },
    {
     "name": "stdout",
     "output_type": "stream",
     "text": [
      "\n",
      "> Vote totals verified — no errors\n",
      "————————————————————————————————————————————————————————————\n",
      "Loading Board of Education Dist 10.csv data...\n",
      " > Found data for 1 counties (1%)\n",
      "Verifying vote totals...\n"
     ]
    },
    {
     "data": {
      "application/vnd.jupyter.widget-view+json": {
       "model_id": "c33a1f37054041cebaf910a436afd520",
       "version_major": 2,
       "version_minor": 0
      },
      "text/plain": [
       "HBox(children=(HTML(value=''), FloatProgress(value=0.0, max=3.0), HTML(value='')))"
      ]
     },
     "metadata": {},
     "output_type": "display_data"
    },
    {
     "name": "stdout",
     "output_type": "stream",
     "text": [
      "\n",
      "> Vote totals verified — no errors\n",
      "————————————————————————————————————————————————————————————\n",
      "Loading Tennille Council Dist 3 Post 1 - Special.csv data...\n",
      " > Found data for 1 counties (1%)\n",
      "Verifying vote totals...\n"
     ]
    },
    {
     "data": {
      "application/vnd.jupyter.widget-view+json": {
       "model_id": "a3716468d5724a279c58579f19e8f1a8",
       "version_major": 2,
       "version_minor": 0
      },
      "text/plain": [
       "HBox(children=(HTML(value=''), FloatProgress(value=0.0, max=2.0), HTML(value='')))"
      ]
     },
     "metadata": {},
     "output_type": "display_data"
    },
    {
     "name": "stdout",
     "output_type": "stream",
     "text": [
      "\n",
      "> Vote totals verified — no errors\n",
      "————————————————————————————————————————————————————————————\n",
      "Loading Board of Education Dist 8.csv data...\n",
      " > Found data for 1 counties (1%)\n",
      "Verifying vote totals...\n"
     ]
    },
    {
     "data": {
      "application/vnd.jupyter.widget-view+json": {
       "model_id": "9ca8e8fb8e0b41ac9e2c93e067d930d0",
       "version_major": 2,
       "version_minor": 0
      },
      "text/plain": [
       "HBox(children=(HTML(value=''), FloatProgress(value=0.0, max=2.0), HTML(value='')))"
      ]
     },
     "metadata": {},
     "output_type": "display_data"
    },
    {
     "name": "stdout",
     "output_type": "stream",
     "text": [
      "\n",
      "> Vote totals verified — no errors\n",
      "————————————————————————————————————————————————————————————\n",
      "Loading Kingsland City Council Post 1.csv data...\n",
      " > Found data for 1 counties (1%)\n",
      "Verifying vote totals...\n"
     ]
    },
    {
     "data": {
      "application/vnd.jupyter.widget-view+json": {
       "model_id": "9e6e6e6e07fd412a97006c17bf13c616",
       "version_major": 2,
       "version_minor": 0
      },
      "text/plain": [
       "HBox(children=(HTML(value=''), FloatProgress(value=0.0, max=1.0), HTML(value='')))"
      ]
     },
     "metadata": {},
     "output_type": "display_data"
    },
    {
     "name": "stdout",
     "output_type": "stream",
     "text": [
      "\n",
      "> Vote totals verified — no errors\n",
      "————————————————————————————————————————————————————————————\n",
      "Loading State House Dist 107.csv data...\n",
      " > Found data for 1 counties (1%)\n",
      "Verifying vote totals...\n"
     ]
    },
    {
     "data": {
      "application/vnd.jupyter.widget-view+json": {
       "model_id": "6d63b4f8dca54ebb991e525fcb9575fd",
       "version_major": 2,
       "version_minor": 0
      },
      "text/plain": [
       "HBox(children=(HTML(value=''), FloatProgress(value=0.0, max=2.0), HTML(value='')))"
      ]
     },
     "metadata": {},
     "output_type": "display_data"
    },
    {
     "name": "stdout",
     "output_type": "stream",
     "text": [
      "\n",
      "> Vote totals verified — no errors\n",
      "————————————————————————————————————————————————————————————\n",
      "Loading State Senate Dist 3.csv data...\n",
      " > Found data for 5 counties (3%)\n",
      "Verifying vote totals...\n"
     ]
    },
    {
     "data": {
      "application/vnd.jupyter.widget-view+json": {
       "model_id": "1bf42b37eeb749a4870a102cc996344c",
       "version_major": 2,
       "version_minor": 0
      },
      "text/plain": [
       "HBox(children=(HTML(value=''), FloatProgress(value=0.0, max=1.0), HTML(value='')))"
      ]
     },
     "metadata": {},
     "output_type": "display_data"
    },
    {
     "name": "stdout",
     "output_type": "stream",
     "text": [
      "\n",
      "> Vote totals verified — no errors\n",
      "————————————————————————————————————————————————————————————\n",
      "Loading Good Hope City Council Post 2.csv data...\n",
      " > Found data for 1 counties (1%)\n",
      "Verifying vote totals...\n"
     ]
    },
    {
     "data": {
      "application/vnd.jupyter.widget-view+json": {
       "model_id": "6d88278405634c8aa6f4dab23b7616fc",
       "version_major": 2,
       "version_minor": 0
      },
      "text/plain": [
       "HBox(children=(HTML(value=''), FloatProgress(value=0.0, max=1.0), HTML(value='')))"
      ]
     },
     "metadata": {},
     "output_type": "display_data"
    },
    {
     "name": "stdout",
     "output_type": "stream",
     "text": [
      "\n",
      "> Vote totals verified — no errors\n",
      "————————————————————————————————————————————————————————————\n",
      "Loading Dist Attorney - Dougherty.csv data...\n",
      " > Found data for 1 counties (1%)\n",
      "Verifying vote totals...\n"
     ]
    },
    {
     "data": {
      "application/vnd.jupyter.widget-view+json": {
       "model_id": "2d9c2559f6c0468bb5f73e0a19c20da8",
       "version_major": 2,
       "version_minor": 0
      },
      "text/plain": [
       "HBox(children=(HTML(value=''), FloatProgress(value=0.0, max=1.0), HTML(value='')))"
      ]
     },
     "metadata": {},
     "output_type": "display_data"
    },
    {
     "name": "stdout",
     "output_type": "stream",
     "text": [
      "\n",
      "> Vote totals verified — no errors\n",
      "————————————————————————————————————————————————————————————\n",
      "Loading State Senate Dist 6.csv data...\n",
      " > Found data for 2 counties (1%)\n",
      "Verifying vote totals...\n"
     ]
    },
    {
     "data": {
      "application/vnd.jupyter.widget-view+json": {
       "model_id": "f0e3dc55824e42bbbed0873492189ba2",
       "version_major": 2,
       "version_minor": 0
      },
      "text/plain": [
       "HBox(children=(HTML(value=''), FloatProgress(value=0.0, max=2.0), HTML(value='')))"
      ]
     },
     "metadata": {},
     "output_type": "display_data"
    },
    {
     "name": "stdout",
     "output_type": "stream",
     "text": [
      "\n",
      "> Vote totals verified — no errors\n",
      "————————————————————————————————————————————————————————————\n",
      "Loading Dawson City Council Ward 3.csv data...\n",
      " > Found data for 1 counties (1%)\n",
      "Verifying vote totals...\n"
     ]
    },
    {
     "data": {
      "application/vnd.jupyter.widget-view+json": {
       "model_id": "b7f0110ceb254827ba62d342618b176e",
       "version_major": 2,
       "version_minor": 0
      },
      "text/plain": [
       "HBox(children=(HTML(value=''), FloatProgress(value=0.0, max=2.0), HTML(value='')))"
      ]
     },
     "metadata": {},
     "output_type": "display_data"
    },
    {
     "name": "stdout",
     "output_type": "stream",
     "text": [
      "\n",
      "> Vote totals verified — no errors\n",
      "————————————————————————————————————————————————————————————\n",
      "Loading Board of Education Dist 5 (At Large).csv data...\n",
      " > Found data for 1 counties (1%)\n",
      "Verifying vote totals...\n"
     ]
    },
    {
     "data": {
      "application/vnd.jupyter.widget-view+json": {
       "model_id": "c284f5b763c148128b39c13dccc559b6",
       "version_major": 2,
       "version_minor": 0
      },
      "text/plain": [
       "HBox(children=(HTML(value=''), FloatProgress(value=0.0, max=1.0), HTML(value='')))"
      ]
     },
     "metadata": {},
     "output_type": "display_data"
    },
    {
     "name": "stdout",
     "output_type": "stream",
     "text": [
      "\n",
      "> Vote totals verified — no errors\n",
      "————————————————————————————————————————————————————————————\n",
      "Loading Nicholson Fire Advisory Board Post 5.csv data...\n",
      " > Found data for 1 counties (1%)\n",
      "Verifying vote totals...\n"
     ]
    },
    {
     "data": {
      "application/vnd.jupyter.widget-view+json": {
       "model_id": "f8be82cc74d84573a2ab1b97f5d1951e",
       "version_major": 2,
       "version_minor": 0
      },
      "text/plain": [
       "HBox(children=(HTML(value=''), FloatProgress(value=0.0, max=1.0), HTML(value='')))"
      ]
     },
     "metadata": {},
     "output_type": "display_data"
    },
    {
     "name": "stdout",
     "output_type": "stream",
     "text": [
      "\n",
      "> Vote totals verified — no errors\n",
      "————————————————————————————————————————————————————————————\n",
      "Loading Brooks Council Member Post 1 - Special.csv data...\n",
      " > Found data for 1 counties (1%)\n",
      "Verifying vote totals...\n"
     ]
    },
    {
     "data": {
      "application/vnd.jupyter.widget-view+json": {
       "model_id": "8c272121a8804890aaa843da15545468",
       "version_major": 2,
       "version_minor": 0
      },
      "text/plain": [
       "HBox(children=(HTML(value=''), FloatProgress(value=0.0, max=2.0), HTML(value='')))"
      ]
     },
     "metadata": {},
     "output_type": "display_data"
    },
    {
     "name": "stdout",
     "output_type": "stream",
     "text": [
      "\n",
      "> Vote totals verified — no errors\n",
      "————————————————————————————————————————————————————————————\n",
      "Loading Dawson City Council Ward 4.csv data...\n",
      " > Found data for 1 counties (1%)\n",
      "Verifying vote totals...\n"
     ]
    },
    {
     "data": {
      "application/vnd.jupyter.widget-view+json": {
       "model_id": "1382460f611448419bf44b5f93f9f843",
       "version_major": 2,
       "version_minor": 0
      },
      "text/plain": [
       "HBox(children=(HTML(value=''), FloatProgress(value=0.0, max=2.0), HTML(value='')))"
      ]
     },
     "metadata": {},
     "output_type": "display_data"
    },
    {
     "name": "stdout",
     "output_type": "stream",
     "text": [
      "\n",
      "> Vote totals verified — no errors\n",
      "————————————————————————————————————————————————————————————\n",
      "Loading Good Hope Mayor.csv data...\n",
      " > Found data for 1 counties (1%)\n",
      "Verifying vote totals...\n"
     ]
    },
    {
     "data": {
      "application/vnd.jupyter.widget-view+json": {
       "model_id": "196c6df3cf1b40bfbcdd3fa14cd01103",
       "version_major": 2,
       "version_minor": 0
      },
      "text/plain": [
       "HBox(children=(HTML(value=''), FloatProgress(value=0.0, max=1.0), HTML(value='')))"
      ]
     },
     "metadata": {},
     "output_type": "display_data"
    },
    {
     "name": "stdout",
     "output_type": "stream",
     "text": [
      "\n",
      "> Vote totals verified — no errors\n",
      "————————————————————————————————————————————————————————————\n",
      "Loading State Senate Dist 36.csv data...\n",
      " > Found data for 1 counties (1%)\n",
      "Verifying vote totals...\n"
     ]
    },
    {
     "data": {
      "application/vnd.jupyter.widget-view+json": {
       "model_id": "adabbbba15514d95a18af3c7b4619efb",
       "version_major": 2,
       "version_minor": 0
      },
      "text/plain": [
       "HBox(children=(HTML(value=''), FloatProgress(value=0.0, max=1.0), HTML(value='')))"
      ]
     },
     "metadata": {},
     "output_type": "display_data"
    },
    {
     "name": "stdout",
     "output_type": "stream",
     "text": [
      "\n",
      "> Vote totals verified — no errors\n",
      "————————————————————————————————————————————————————————————\n",
      "Loading Watkinsville City Council Post 5.csv data...\n",
      " > Found data for 1 counties (1%)\n",
      "Verifying vote totals...\n"
     ]
    },
    {
     "data": {
      "application/vnd.jupyter.widget-view+json": {
       "model_id": "1d7f35dc8fb3465dba0c6843a89cef59",
       "version_major": 2,
       "version_minor": 0
      },
      "text/plain": [
       "HBox(children=(HTML(value=''), FloatProgress(value=0.0, max=2.0), HTML(value='')))"
      ]
     },
     "metadata": {},
     "output_type": "display_data"
    },
    {
     "name": "stdout",
     "output_type": "stream",
     "text": [
      "\n",
      "> Vote totals verified — no errors\n",
      "————————————————————————————————————————————————————————————\n",
      "Loading Co Commission Dist 3.csv data...\n",
      " > Found data for 1 counties (1%)\n",
      "Verifying vote totals...\n"
     ]
    },
    {
     "data": {
      "application/vnd.jupyter.widget-view+json": {
       "model_id": "abeba5c14c8e44c4860176c13cd19ebf",
       "version_major": 2,
       "version_minor": 0
      },
      "text/plain": [
       "HBox(children=(HTML(value=''), FloatProgress(value=0.0, max=2.0), HTML(value='')))"
      ]
     },
     "metadata": {},
     "output_type": "display_data"
    },
    {
     "name": "stdout",
     "output_type": "stream",
     "text": [
      "\n",
      "> Vote totals verified — no errors\n",
      "————————————————————————————————————————————————————————————\n",
      "Loading State Senate Dist 35.csv data...\n",
      " > Found data for 2 counties (1%)\n",
      "Verifying vote totals...\n"
     ]
    },
    {
     "data": {
      "application/vnd.jupyter.widget-view+json": {
       "model_id": "e60747dbc7bd4e46a24e203b73ec5801",
       "version_major": 2,
       "version_minor": 0
      },
      "text/plain": [
       "HBox(children=(HTML(value=''), FloatProgress(value=0.0, max=1.0), HTML(value='')))"
      ]
     },
     "metadata": {},
     "output_type": "display_data"
    },
    {
     "name": "stdout",
     "output_type": "stream",
     "text": [
      "\n",
      "> Vote totals verified — no errors\n",
      "————————————————————————————————————————————————————————————\n",
      "Loading Dist Attorney - Lookout Mountain.csv data...\n",
      " > Found data for 4 counties (3%)\n",
      "Verifying vote totals...\n"
     ]
    },
    {
     "data": {
      "application/vnd.jupyter.widget-view+json": {
       "model_id": "5d46356d7a464b009c790f4f673c6ddc",
       "version_major": 2,
       "version_minor": 0
      },
      "text/plain": [
       "HBox(children=(HTML(value=''), FloatProgress(value=0.0, max=1.0), HTML(value='')))"
      ]
     },
     "metadata": {},
     "output_type": "display_data"
    },
    {
     "name": "stdout",
     "output_type": "stream",
     "text": [
      "\n",
      "> Vote totals verified — no errors\n",
      "————————————————————————————————————————————————————————————\n",
      "Loading State House Dist 78.csv data...\n",
      " > Found data for 2 counties (1%)\n",
      "Verifying vote totals...\n"
     ]
    },
    {
     "data": {
      "application/vnd.jupyter.widget-view+json": {
       "model_id": "4a86fb145666420ba748d2d46e1cb485",
       "version_major": 2,
       "version_minor": 0
      },
      "text/plain": [
       "HBox(children=(HTML(value=''), FloatProgress(value=0.0, max=1.0), HTML(value='')))"
      ]
     },
     "metadata": {},
     "output_type": "display_data"
    },
    {
     "name": "stdout",
     "output_type": "stream",
     "text": [
      "\n",
      "> Vote totals verified — no errors\n",
      "————————————————————————————————————————————————————————————\n",
      "Loading East Point Sunday Alcohol Sales - Special.csv data...\n",
      " > Found data for 1 counties (1%)\n",
      "Verifying vote totals...\n"
     ]
    },
    {
     "data": {
      "application/vnd.jupyter.widget-view+json": {
       "model_id": "c6af44cd5c314e6eb818aa2cc7d4179c",
       "version_major": 2,
       "version_minor": 0
      },
      "text/plain": [
       "HBox(children=(HTML(value=''), FloatProgress(value=0.0, max=2.0), HTML(value='')))"
      ]
     },
     "metadata": {},
     "output_type": "display_data"
    },
    {
     "name": "stdout",
     "output_type": "stream",
     "text": [
      "\n",
      "> Vote totals verified — no errors\n",
      "————————————————————————————————————————————————————————————\n",
      "Loading State House Dist 21.csv data...\n",
      " > Found data for 1 counties (1%)\n",
      "Verifying vote totals...\n"
     ]
    },
    {
     "data": {
      "application/vnd.jupyter.widget-view+json": {
       "model_id": "55b292b8ec67451e8648099c84325cc1",
       "version_major": 2,
       "version_minor": 0
      },
      "text/plain": [
       "HBox(children=(HTML(value=''), FloatProgress(value=0.0, max=2.0), HTML(value='')))"
      ]
     },
     "metadata": {},
     "output_type": "display_data"
    },
    {
     "name": "stdout",
     "output_type": "stream",
     "text": [
      "\n",
      "> Vote totals verified — no errors\n",
      "————————————————————————————————————————————————————————————\n",
      "Loading Dist Attorney - Cherokee.csv data...\n",
      " > Found data for 2 counties (1%)\n",
      "Verifying vote totals...\n"
     ]
    },
    {
     "data": {
      "application/vnd.jupyter.widget-view+json": {
       "model_id": "2c5094d0f7774eeca675022a46bf6507",
       "version_major": 2,
       "version_minor": 0
      },
      "text/plain": [
       "HBox(children=(HTML(value=''), FloatProgress(value=0.0, max=1.0), HTML(value='')))"
      ]
     },
     "metadata": {},
     "output_type": "display_data"
    },
    {
     "name": "stdout",
     "output_type": "stream",
     "text": [
      "\n",
      "> Vote totals verified — no errors\n",
      "————————————————————————————————————————————————————————————\n",
      "Loading Gwinnett County Soil and Water.csv data...\n",
      " > Found data for 1 counties (1%)\n",
      "Verifying vote totals...\n"
     ]
    },
    {
     "data": {
      "application/vnd.jupyter.widget-view+json": {
       "model_id": "e9c7f5497b104875b774a7963a48d899",
       "version_major": 2,
       "version_minor": 0
      },
      "text/plain": [
       "HBox(children=(HTML(value=''), FloatProgress(value=0.0, max=3.0), HTML(value='')))"
      ]
     },
     "metadata": {},
     "output_type": "display_data"
    },
    {
     "name": "stdout",
     "output_type": "stream",
     "text": [
      "\n",
      "> Vote totals verified — no errors\n",
      "————————————————————————————————————————————————————————————\n",
      "Loading Board of Education Dist 4.csv data...\n",
      " > Found data for 33 counties (21%)\n",
      "Verifying vote totals...\n"
     ]
    },
    {
     "data": {
      "application/vnd.jupyter.widget-view+json": {
       "model_id": "b7729657936a4bc5b44ae6883e7091b0",
       "version_major": 2,
       "version_minor": 0
      },
      "text/plain": [
       "HBox(children=(HTML(value=''), FloatProgress(value=0.0, max=39.0), HTML(value='')))"
      ]
     },
     "metadata": {},
     "output_type": "display_data"
    },
    {
     "name": "stdout",
     "output_type": "stream",
     "text": [
      "\n",
      ">>> Vote totals verified — 0.00015 error rate\n",
      "————————————————————————————————————————————————————————————\n",
      "Loading Soil and Water - Coastal.csv data...\n",
      " > Found data for 4 counties (3%)\n",
      "Verifying vote totals...\n"
     ]
    },
    {
     "data": {
      "application/vnd.jupyter.widget-view+json": {
       "model_id": "1bbdec8f824a4f859d07d146d842a797",
       "version_major": 2,
       "version_minor": 0
      },
      "text/plain": [
       "HBox(children=(HTML(value=''), FloatProgress(value=0.0, max=4.0), HTML(value='')))"
      ]
     },
     "metadata": {},
     "output_type": "display_data"
    },
    {
     "name": "stdout",
     "output_type": "stream",
     "text": [
      "\n",
      ">>> Vote totals verified — 0.07839 error rate\n",
      "————————————————————————————————————————————————————————————\n",
      "Loading US House Dist 1.csv data...\n",
      " > Found data for 17 counties (11%)\n",
      "Verifying vote totals...\n"
     ]
    },
    {
     "data": {
      "application/vnd.jupyter.widget-view+json": {
       "model_id": "614db060896e4a4894500e080e7dfeab",
       "version_major": 2,
       "version_minor": 0
      },
      "text/plain": [
       "HBox(children=(HTML(value=''), FloatProgress(value=0.0, max=2.0), HTML(value='')))"
      ]
     },
     "metadata": {},
     "output_type": "display_data"
    },
    {
     "name": "stdout",
     "output_type": "stream",
     "text": [
      "\n",
      "> Vote totals verified — no errors\n",
      "————————————————————————————————————————————————————————————\n",
      "Loading Vidalia Mayor - Special.csv data...\n",
      " > Found data for 2 counties (1%)\n",
      "Verifying vote totals...\n"
     ]
    },
    {
     "data": {
      "application/vnd.jupyter.widget-view+json": {
       "model_id": "4e5f53cc4e024d0ab7d49100cfa2a90b",
       "version_major": 2,
       "version_minor": 0
      },
      "text/plain": [
       "HBox(children=(HTML(value=''), FloatProgress(value=0.0, max=2.0), HTML(value='')))"
      ]
     },
     "metadata": {},
     "output_type": "display_data"
    },
    {
     "name": "stdout",
     "output_type": "stream",
     "text": [
      "\n",
      "> Vote totals verified — no errors\n",
      "————————————————————————————————————————————————————————————\n",
      "Loading State House Dist 26.csv data...\n",
      " > Found data for 1 counties (1%)\n",
      "Verifying vote totals...\n"
     ]
    },
    {
     "data": {
      "application/vnd.jupyter.widget-view+json": {
       "model_id": "a3806e04281246368b97886446c57f44",
       "version_major": 2,
       "version_minor": 0
      },
      "text/plain": [
       "HBox(children=(HTML(value=''), FloatProgress(value=0.0, max=2.0), HTML(value='')))"
      ]
     },
     "metadata": {},
     "output_type": "display_data"
    },
    {
     "name": "stdout",
     "output_type": "stream",
     "text": [
      "\n",
      "> Vote totals verified — no errors\n",
      "————————————————————————————————————————————————————————————\n",
      "Loading Board of Education - Deweese.csv data...\n",
      " > Found data for 1 counties (1%)\n",
      "Verifying vote totals...\n"
     ]
    },
    {
     "data": {
      "application/vnd.jupyter.widget-view+json": {
       "model_id": "246a46daf1b54c9e84af944ae0719074",
       "version_major": 2,
       "version_minor": 0
      },
      "text/plain": [
       "HBox(children=(HTML(value=''), FloatProgress(value=0.0, max=2.0), HTML(value='')))"
      ]
     },
     "metadata": {},
     "output_type": "display_data"
    },
    {
     "name": "stdout",
     "output_type": "stream",
     "text": [
      "\n",
      "> Vote totals verified — no errors\n",
      "————————————————————————————————————————————————————————————\n",
      "Loading Municipal Court Judge.csv data...\n",
      " > Found data for 1 counties (1%)\n",
      "Verifying vote totals...\n"
     ]
    },
    {
     "data": {
      "application/vnd.jupyter.widget-view+json": {
       "model_id": "755f02248ff0441fb1ee8431a199fdc3",
       "version_major": 2,
       "version_minor": 0
      },
      "text/plain": [
       "HBox(children=(HTML(value=''), FloatProgress(value=0.0, max=1.0), HTML(value='')))"
      ]
     },
     "metadata": {},
     "output_type": "display_data"
    },
    {
     "name": "stdout",
     "output_type": "stream",
     "text": [
      "\n",
      "> Vote totals verified — no errors\n",
      "————————————————————————————————————————————————————————————\n",
      "Loading State House Dist 131.csv data...\n",
      " > Found data for 3 counties (2%)\n",
      "Verifying vote totals...\n"
     ]
    },
    {
     "data": {
      "application/vnd.jupyter.widget-view+json": {
       "model_id": "12b8a5eae2d64295929d52a2f7b74d37",
       "version_major": 2,
       "version_minor": 0
      },
      "text/plain": [
       "HBox(children=(HTML(value=''), FloatProgress(value=0.0, max=2.0), HTML(value='')))"
      ]
     },
     "metadata": {},
     "output_type": "display_data"
    },
    {
     "name": "stdout",
     "output_type": "stream",
     "text": [
      "\n",
      "> Vote totals verified — no errors\n",
      "————————————————————————————————————————————————————————————\n",
      "Loading State House Dist 119.csv data...\n",
      " > Found data for 2 counties (1%)\n",
      "Verifying vote totals...\n"
     ]
    },
    {
     "data": {
      "application/vnd.jupyter.widget-view+json": {
       "model_id": "aa340909beac422fafad82fa0cbe9751",
       "version_major": 2,
       "version_minor": 0
      },
      "text/plain": [
       "HBox(children=(HTML(value=''), FloatProgress(value=0.0, max=2.0), HTML(value='')))"
      ]
     },
     "metadata": {},
     "output_type": "display_data"
    },
    {
     "name": "stdout",
     "output_type": "stream",
     "text": [
      "\n",
      "> Vote totals verified — no errors\n",
      "————————————————————————————————————————————————————————————\n",
      "Loading State House Dist 180.csv data...\n",
      " > Found data for 3 counties (2%)\n",
      "Verifying vote totals...\n"
     ]
    },
    {
     "data": {
      "application/vnd.jupyter.widget-view+json": {
       "model_id": "1bf4f5bdce694995b44eb05a29f07590",
       "version_major": 2,
       "version_minor": 0
      },
      "text/plain": [
       "HBox(children=(HTML(value=''), FloatProgress(value=0.0, max=1.0), HTML(value='')))"
      ]
     },
     "metadata": {},
     "output_type": "display_data"
    },
    {
     "name": "stdout",
     "output_type": "stream",
     "text": [
      "\n",
      "> Vote totals verified — no errors\n",
      "————————————————————————————————————————————————————————————\n",
      "Loading County Commission Chair.csv data...\n",
      " > Found data for 58 counties (36%)\n",
      "Verifying vote totals...\n"
     ]
    },
    {
     "data": {
      "application/vnd.jupyter.widget-view+json": {
       "model_id": "1e939e67153543acac27e9b6d86f705f",
       "version_major": 2,
       "version_minor": 0
      },
      "text/plain": [
       "HBox(children=(HTML(value=''), FloatProgress(value=0.0, max=71.0), HTML(value='')))"
      ]
     },
     "metadata": {},
     "output_type": "display_data"
    },
    {
     "name": "stdout",
     "output_type": "stream",
     "text": [
      "\n",
      ">>> Vote totals verified — 0.00063 error rate\n",
      "————————————————————————————————————————————————————————————\n",
      "Loading Probate Judge - Special.csv data...\n",
      " > Found data for 1 counties (1%)\n",
      "Verifying vote totals...\n"
     ]
    },
    {
     "data": {
      "application/vnd.jupyter.widget-view+json": {
       "model_id": "fef1a8ddb4d846a1872f1a53582447ee",
       "version_major": 2,
       "version_minor": 0
      },
      "text/plain": [
       "HBox(children=(HTML(value=''), FloatProgress(value=0.0, max=1.0), HTML(value='')))"
      ]
     },
     "metadata": {},
     "output_type": "display_data"
    },
    {
     "name": "stdout",
     "output_type": "stream",
     "text": [
      "\n",
      "> Vote totals verified — no errors\n",
      "————————————————————————————————————————————————————————————\n",
      "Loading State Senate Dist 49.csv data...\n",
      " > Found data for 1 counties (1%)\n",
      "Verifying vote totals...\n"
     ]
    },
    {
     "data": {
      "application/vnd.jupyter.widget-view+json": {
       "model_id": "e530a231acd64d6da793e5526d2b209d",
       "version_major": 2,
       "version_minor": 0
      },
      "text/plain": [
       "HBox(children=(HTML(value=''), FloatProgress(value=0.0, max=1.0), HTML(value='')))"
      ]
     },
     "metadata": {},
     "output_type": "display_data"
    },
    {
     "name": "stdout",
     "output_type": "stream",
     "text": [
      "\n",
      "> Vote totals verified — no errors\n",
      "————————————————————————————————————————————————————————————\n",
      "Loading State House Dist 132.csv data...\n",
      " > Found data for 3 counties (2%)\n",
      "Verifying vote totals...\n"
     ]
    },
    {
     "data": {
      "application/vnd.jupyter.widget-view+json": {
       "model_id": "de27a988b3de4ab68851ba626bd41597",
       "version_major": 2,
       "version_minor": 0
      },
      "text/plain": [
       "HBox(children=(HTML(value=''), FloatProgress(value=0.0, max=2.0), HTML(value='')))"
      ]
     },
     "metadata": {},
     "output_type": "display_data"
    },
    {
     "name": "stdout",
     "output_type": "stream",
     "text": [
      "\n",
      "> Vote totals verified — no errors\n",
      "————————————————————————————————————————————————————————————\n",
      "Loading Good Hope City Council Post 3.csv data...\n",
      " > Found data for 1 counties (1%)\n",
      "Verifying vote totals...\n"
     ]
    },
    {
     "data": {
      "application/vnd.jupyter.widget-view+json": {
       "model_id": "e5b6b9c79644466894550dc6f9218ba9",
       "version_major": 2,
       "version_minor": 0
      },
      "text/plain": [
       "HBox(children=(HTML(value=''), FloatProgress(value=0.0, max=1.0), HTML(value='')))"
      ]
     },
     "metadata": {},
     "output_type": "display_data"
    },
    {
     "name": "stdout",
     "output_type": "stream",
     "text": [
      "\n",
      "> Vote totals verified — no errors\n",
      "————————————————————————————————————————————————————————————\n",
      "Loading Board of Education - Bramlett.csv data...\n",
      " > Found data for 1 counties (1%)\n",
      "Verifying vote totals...\n"
     ]
    },
    {
     "data": {
      "application/vnd.jupyter.widget-view+json": {
       "model_id": "b2592aa5770e40aeb56e1c0aacdead69",
       "version_major": 2,
       "version_minor": 0
      },
      "text/plain": [
       "HBox(children=(HTML(value=''), FloatProgress(value=0.0, max=1.0), HTML(value='')))"
      ]
     },
     "metadata": {},
     "output_type": "display_data"
    },
    {
     "name": "stdout",
     "output_type": "stream",
     "text": [
      "\n",
      "> Vote totals verified — no errors\n",
      "————————————————————————————————————————————————————————————\n",
      "Loading State House Dist 79.csv data...\n",
      " > Found data for 1 counties (1%)\n",
      "Verifying vote totals...\n"
     ]
    },
    {
     "data": {
      "application/vnd.jupyter.widget-view+json": {
       "model_id": "991bb932ecc14bccb0e27109c14c25da",
       "version_major": 2,
       "version_minor": 0
      },
      "text/plain": [
       "HBox(children=(HTML(value=''), FloatProgress(value=0.0, max=2.0), HTML(value='')))"
      ]
     },
     "metadata": {},
     "output_type": "display_data"
    },
    {
     "name": "stdout",
     "output_type": "stream",
     "text": [
      "\n",
      "> Vote totals verified — no errors\n",
      "————————————————————————————————————————————————————————————\n",
      "Loading County Commission Dist 1 - Special.csv data...\n",
      " > Found data for 2 counties (1%)\n",
      "Verifying vote totals...\n"
     ]
    },
    {
     "data": {
      "application/vnd.jupyter.widget-view+json": {
       "model_id": "c548533aba2b44269065949446398a5d",
       "version_major": 2,
       "version_minor": 0
      },
      "text/plain": [
       "HBox(children=(HTML(value=''), FloatProgress(value=0.0, max=3.0), HTML(value='')))"
      ]
     },
     "metadata": {},
     "output_type": "display_data"
    },
    {
     "name": "stdout",
     "output_type": "stream",
     "text": [
      "\n",
      "> Vote totals verified — no errors\n",
      "————————————————————————————————————————————————————————————\n",
      "Loading US House Dist 14.csv data...\n",
      " > Found data for 12 counties (8%)\n",
      "Verifying vote totals...\n"
     ]
    },
    {
     "data": {
      "application/vnd.jupyter.widget-view+json": {
       "model_id": "05caa3154c6743c187f348d592849853",
       "version_major": 2,
       "version_minor": 0
      },
      "text/plain": [
       "HBox(children=(HTML(value=''), FloatProgress(value=0.0, max=2.0), HTML(value='')))"
      ]
     },
     "metadata": {},
     "output_type": "display_data"
    },
    {
     "name": "stdout",
     "output_type": "stream",
     "text": [
      "\n",
      "> Vote totals verified — no errors\n",
      "————————————————————————————————————————————————————————————\n",
      "Loading State Senate Dist 17.csv data...\n",
      " > Found data for 3 counties (2%)\n",
      "Verifying vote totals...\n"
     ]
    },
    {
     "data": {
      "application/vnd.jupyter.widget-view+json": {
       "model_id": "8d114638182044aea7b1d32a68e3bb0f",
       "version_major": 2,
       "version_minor": 0
      },
      "text/plain": [
       "HBox(children=(HTML(value=''), FloatProgress(value=0.0, max=2.0), HTML(value='')))"
      ]
     },
     "metadata": {},
     "output_type": "display_data"
    },
    {
     "name": "stdout",
     "output_type": "stream",
     "text": [
      "\n",
      "> Vote totals verified — no errors\n",
      "————————————————————————————————————————————————————————————\n",
      "Loading Brd of Education Dist 3.csv data...\n",
      " > Found data for 1 counties (1%)\n",
      "Verifying vote totals...\n"
     ]
    },
    {
     "data": {
      "application/vnd.jupyter.widget-view+json": {
       "model_id": "c3006f9cef9c4c71903cfba79e619d54",
       "version_major": 2,
       "version_minor": 0
      },
      "text/plain": [
       "HBox(children=(HTML(value=''), FloatProgress(value=0.0, max=2.0), HTML(value='')))"
      ]
     },
     "metadata": {},
     "output_type": "display_data"
    },
    {
     "name": "stdout",
     "output_type": "stream",
     "text": [
      "\n",
      "> Vote totals verified — no errors\n",
      "————————————————————————————————————————————————————————————\n",
      "Loading State House Dist 90.csv data...\n",
      " > Found data for 3 counties (2%)\n",
      "Verifying vote totals...\n"
     ]
    },
    {
     "data": {
      "application/vnd.jupyter.widget-view+json": {
       "model_id": "564004053a3348f993e2818527b847f1",
       "version_major": 2,
       "version_minor": 0
      },
      "text/plain": [
       "HBox(children=(HTML(value=''), FloatProgress(value=0.0, max=1.0), HTML(value='')))"
      ]
     },
     "metadata": {},
     "output_type": "display_data"
    },
    {
     "name": "stdout",
     "output_type": "stream",
     "text": [
      "\n",
      "> Vote totals verified — no errors\n",
      "————————————————————————————————————————————————————————————\n",
      "Loading Midway City Council - Special.csv data...\n",
      " > Found data for 1 counties (1%)\n",
      "Verifying vote totals...\n"
     ]
    },
    {
     "data": {
      "application/vnd.jupyter.widget-view+json": {
       "model_id": "90125fbfb5974be598e4ef23417f7fce",
       "version_major": 2,
       "version_minor": 0
      },
      "text/plain": [
       "HBox(children=(HTML(value=''), FloatProgress(value=0.0, max=4.0), HTML(value='')))"
      ]
     },
     "metadata": {},
     "output_type": "display_data"
    },
    {
     "name": "stdout",
     "output_type": "stream",
     "text": [
      "\n",
      "> Vote totals verified — no errors\n",
      "————————————————————————————————————————————————————————————\n",
      "Loading State Senate Dist 18.csv data...\n",
      " > Found data for 6 counties (4%)\n",
      "Verifying vote totals...\n"
     ]
    },
    {
     "data": {
      "application/vnd.jupyter.widget-view+json": {
       "model_id": "8644c4a012d042d6a0484472bfd98d84",
       "version_major": 2,
       "version_minor": 0
      },
      "text/plain": [
       "HBox(children=(HTML(value=''), FloatProgress(value=0.0, max=1.0), HTML(value='')))"
      ]
     },
     "metadata": {},
     "output_type": "display_data"
    },
    {
     "name": "stdout",
     "output_type": "stream",
     "text": [
      "\n",
      "> Vote totals verified — no errors\n",
      "————————————————————————————————————————————————————————————\n",
      "Loading Soil and Water - Cobb County.csv data...\n",
      " > Found data for 1 counties (1%)\n",
      "Verifying vote totals...\n"
     ]
    },
    {
     "data": {
      "application/vnd.jupyter.widget-view+json": {
       "model_id": "3dfbdd43a7d54cc9a17a5394a7af50e1",
       "version_major": 2,
       "version_minor": 0
      },
      "text/plain": [
       "HBox(children=(HTML(value=''), FloatProgress(value=0.0, max=2.0), HTML(value='')))"
      ]
     },
     "metadata": {},
     "output_type": "display_data"
    },
    {
     "name": "stdout",
     "output_type": "stream",
     "text": [
      "\n",
      "> Vote totals verified — no errors\n",
      "————————————————————————————————————————————————————————————\n",
      "Loading Soil and Water - Roosevelt.csv data...\n",
      " > Found data for 1 counties (1%)\n",
      "Verifying vote totals...\n"
     ]
    },
    {
     "data": {
      "application/vnd.jupyter.widget-view+json": {
       "model_id": "f61a265971934eac9989787138771a65",
       "version_major": 2,
       "version_minor": 0
      },
      "text/plain": [
       "HBox(children=(HTML(value=''), FloatProgress(value=0.0, max=1.0), HTML(value='')))"
      ]
     },
     "metadata": {},
     "output_type": "display_data"
    },
    {
     "name": "stdout",
     "output_type": "stream",
     "text": [
      "\n",
      "> Vote totals verified — no errors\n",
      "————————————————————————————————————————————————————————————\n",
      "Loading State Senate Dist 34.csv data...\n",
      " > Found data for 2 counties (1%)\n",
      "Verifying vote totals...\n"
     ]
    },
    {
     "data": {
      "application/vnd.jupyter.widget-view+json": {
       "model_id": "4a57ee0268284e5792eddc5c185a8317",
       "version_major": 2,
       "version_minor": 0
      },
      "text/plain": [
       "HBox(children=(HTML(value=''), FloatProgress(value=0.0, max=1.0), HTML(value='')))"
      ]
     },
     "metadata": {},
     "output_type": "display_data"
    },
    {
     "name": "stdout",
     "output_type": "stream",
     "text": [
      "\n",
      "> Vote totals verified — no errors\n",
      "————————————————————————————————————————————————————————————\n",
      "Loading Worth County SPLOST - Special.csv data...\n",
      " > Found data for 1 counties (1%)\n",
      "Verifying vote totals...\n"
     ]
    },
    {
     "data": {
      "application/vnd.jupyter.widget-view+json": {
       "model_id": "eeb92471fab44d6d9b036acc1be1fcf4",
       "version_major": 2,
       "version_minor": 0
      },
      "text/plain": [
       "HBox(children=(HTML(value=''), FloatProgress(value=0.0, max=2.0), HTML(value='')))"
      ]
     },
     "metadata": {},
     "output_type": "display_data"
    },
    {
     "name": "stdout",
     "output_type": "stream",
     "text": [
      "\n",
      "> Vote totals verified — no errors\n",
      "————————————————————————————————————————————————————————————\n",
      "Loading State House Dist 93.csv data...\n",
      " > Found data for 2 counties (1%)\n",
      "Verifying vote totals...\n"
     ]
    },
    {
     "data": {
      "application/vnd.jupyter.widget-view+json": {
       "model_id": "0482c7af615442bab784c4c37c101f55",
       "version_major": 2,
       "version_minor": 0
      },
      "text/plain": [
       "HBox(children=(HTML(value=''), FloatProgress(value=0.0, max=2.0), HTML(value='')))"
      ]
     },
     "metadata": {},
     "output_type": "display_data"
    },
    {
     "name": "stdout",
     "output_type": "stream",
     "text": [
      "\n",
      "> Vote totals verified — no errors\n",
      "————————————————————————————————————————————————————————————\n",
      "Loading St. Marys City Council Post 4.csv data...\n",
      " > Found data for 1 counties (1%)\n",
      "Verifying vote totals...\n"
     ]
    },
    {
     "data": {
      "application/vnd.jupyter.widget-view+json": {
       "model_id": "7ef978d327c94df9816ed642b2ab0f32",
       "version_major": 2,
       "version_minor": 0
      },
      "text/plain": [
       "HBox(children=(HTML(value=''), FloatProgress(value=0.0, max=2.0), HTML(value='')))"
      ]
     },
     "metadata": {},
     "output_type": "display_data"
    },
    {
     "name": "stdout",
     "output_type": "stream",
     "text": [
      "\n",
      "> Vote totals verified — no errors\n",
      "————————————————————————————————————————————————————————————\n",
      "Loading Hawkinsville Sunday Alcohol By The Drink - Special.csv data...\n",
      " > Found data for 1 counties (1%)\n",
      "Verifying vote totals...\n"
     ]
    },
    {
     "data": {
      "application/vnd.jupyter.widget-view+json": {
       "model_id": "f9d1d321cf1241288cc29b88dc1c664b",
       "version_major": 2,
       "version_minor": 0
      },
      "text/plain": [
       "HBox(children=(HTML(value=''), FloatProgress(value=0.0, max=2.0), HTML(value='')))"
      ]
     },
     "metadata": {},
     "output_type": "display_data"
    },
    {
     "name": "stdout",
     "output_type": "stream",
     "text": [
      "\n",
      "> Vote totals verified — no errors\n",
      "————————————————————————————————————————————————————————————\n",
      "Loading Brd of Education Dist 1.csv data...\n",
      " > Found data for 1 counties (1%)\n",
      "Verifying vote totals...\n"
     ]
    },
    {
     "data": {
      "application/vnd.jupyter.widget-view+json": {
       "model_id": "b977892cd119489d91c3cd4ea65a3c96",
       "version_major": 2,
       "version_minor": 0
      },
      "text/plain": [
       "HBox(children=(HTML(value=''), FloatProgress(value=0.0, max=2.0), HTML(value='')))"
      ]
     },
     "metadata": {},
     "output_type": "display_data"
    },
    {
     "name": "stdout",
     "output_type": "stream",
     "text": [
      "\n",
      "> Vote totals verified — no errors\n",
      "————————————————————————————————————————————————————————————\n",
      "Loading State House Dist 164.csv data...\n",
      " > Found data for 3 counties (2%)\n",
      "Verifying vote totals...\n"
     ]
    },
    {
     "data": {
      "application/vnd.jupyter.widget-view+json": {
       "model_id": "f474d9f3c6ec48adadfb7c177f97c160",
       "version_major": 2,
       "version_minor": 0
      },
      "text/plain": [
       "HBox(children=(HTML(value=''), FloatProgress(value=0.0, max=2.0), HTML(value='')))"
      ]
     },
     "metadata": {},
     "output_type": "display_data"
    },
    {
     "name": "stdout",
     "output_type": "stream",
     "text": [
      "\n",
      "> Vote totals verified — no errors\n",
      "————————————————————————————————————————————————————————————\n",
      "Loading State House Dist 36.csv data...\n",
      " > Found data for 1 counties (1%)\n",
      "Verifying vote totals...\n"
     ]
    },
    {
     "data": {
      "application/vnd.jupyter.widget-view+json": {
       "model_id": "5ccd5062a6394d6387c0d3fe99484037",
       "version_major": 2,
       "version_minor": 0
      },
      "text/plain": [
       "HBox(children=(HTML(value=''), FloatProgress(value=0.0, max=2.0), HTML(value='')))"
      ]
     },
     "metadata": {},
     "output_type": "display_data"
    },
    {
     "name": "stdout",
     "output_type": "stream",
     "text": [
      "\n",
      "> Vote totals verified — no errors\n",
      "————————————————————————————————————————————————————————————\n",
      "Loading State Senate Dist 2.csv data...\n",
      " > Found data for 1 counties (1%)\n",
      "Verifying vote totals...\n"
     ]
    },
    {
     "data": {
      "application/vnd.jupyter.widget-view+json": {
       "model_id": "ea03518efef74fef9d924c0ebc5fdb17",
       "version_major": 2,
       "version_minor": 0
      },
      "text/plain": [
       "HBox(children=(HTML(value=''), FloatProgress(value=0.0, max=1.0), HTML(value='')))"
      ]
     },
     "metadata": {},
     "output_type": "display_data"
    },
    {
     "name": "stdout",
     "output_type": "stream",
     "text": [
      "\n",
      "> Vote totals verified — no errors\n",
      "————————————————————————————————————————————————————————————\n",
      "Loading Ray City Council - Special.csv data...\n",
      " > Found data for 1 counties (1%)\n",
      "Verifying vote totals...\n"
     ]
    },
    {
     "data": {
      "application/vnd.jupyter.widget-view+json": {
       "model_id": "f08c65446cab4e2d964805530320092b",
       "version_major": 2,
       "version_minor": 0
      },
      "text/plain": [
       "HBox(children=(HTML(value=''), FloatProgress(value=0.0, max=2.0), HTML(value='')))"
      ]
     },
     "metadata": {},
     "output_type": "display_data"
    },
    {
     "name": "stdout",
     "output_type": "stream",
     "text": [
      "\n",
      "> Vote totals verified — no errors\n",
      "————————————————————————————————————————————————————————————\n",
      "Loading State House Dist 128.csv data...\n",
      " > Found data for 7 counties (4%)\n",
      "Verifying vote totals...\n"
     ]
    },
    {
     "data": {
      "application/vnd.jupyter.widget-view+json": {
       "model_id": "d70821e8d29440f7838c26aaec7a39ee",
       "version_major": 2,
       "version_minor": 0
      },
      "text/plain": [
       "HBox(children=(HTML(value=''), FloatProgress(value=0.0, max=1.0), HTML(value='')))"
      ]
     },
     "metadata": {},
     "output_type": "display_data"
    },
    {
     "name": "stdout",
     "output_type": "stream",
     "text": [
      "\n",
      "> Vote totals verified — no errors\n",
      "————————————————————————————————————————————————————————————\n",
      "Loading County Commission Dist 5.csv data...\n",
      " > Found data for 41 counties (26%)\n",
      "Verifying vote totals...\n"
     ]
    },
    {
     "data": {
      "application/vnd.jupyter.widget-view+json": {
       "model_id": "7f295f55657c44968141b4ff96b102a5",
       "version_major": 2,
       "version_minor": 0
      },
      "text/plain": [
       "HBox(children=(HTML(value=''), FloatProgress(value=0.0, max=50.0), HTML(value='')))"
      ]
     },
     "metadata": {},
     "output_type": "display_data"
    },
    {
     "name": "stdout",
     "output_type": "stream",
     "text": [
      "\n",
      ">>> Vote totals verified — 0.00029 error rate\n",
      "————————————————————————————————————————————————————————————\n",
      "Loading State Senate Dist 11.csv data...\n",
      " > Found data for 8 counties (5%)\n",
      "Verifying vote totals...\n"
     ]
    },
    {
     "data": {
      "application/vnd.jupyter.widget-view+json": {
       "model_id": "c469f781fb6342c29304df03cc5615aa",
       "version_major": 2,
       "version_minor": 0
      },
      "text/plain": [
       "HBox(children=(HTML(value=''), FloatProgress(value=0.0, max=1.0), HTML(value='')))"
      ]
     },
     "metadata": {},
     "output_type": "display_data"
    },
    {
     "name": "stdout",
     "output_type": "stream",
     "text": [
      "\n",
      "> Vote totals verified — no errors\n",
      "————————————————————————————————————————————————————————————\n",
      "Loading Dist Attorney - Houston.csv data...\n",
      " > Found data for 1 counties (1%)\n",
      "Verifying vote totals...\n"
     ]
    },
    {
     "data": {
      "application/vnd.jupyter.widget-view+json": {
       "model_id": "46796b738cbf4822b25fb78570c13f32",
       "version_major": 2,
       "version_minor": 0
      },
      "text/plain": [
       "HBox(children=(HTML(value=''), FloatProgress(value=0.0, max=2.0), HTML(value='')))"
      ]
     },
     "metadata": {},
     "output_type": "display_data"
    },
    {
     "name": "stdout",
     "output_type": "stream",
     "text": [
      "\n",
      "> Vote totals verified — no errors\n",
      "————————————————————————————————————————————————————————————\n",
      "Loading Board of Education Post 2.csv data...\n",
      " > Found data for 3 counties (2%)\n",
      "Verifying vote totals...\n"
     ]
    },
    {
     "data": {
      "application/vnd.jupyter.widget-view+json": {
       "model_id": "00e103256b76416eb888fcddcb48904d",
       "version_major": 2,
       "version_minor": 0
      },
      "text/plain": [
       "HBox(children=(HTML(value=''), FloatProgress(value=0.0, max=4.0), HTML(value='')))"
      ]
     },
     "metadata": {},
     "output_type": "display_data"
    },
    {
     "name": "stdout",
     "output_type": "stream",
     "text": [
      "\n",
      "> Vote totals verified — no errors\n",
      "————————————————————————————————————————————————————————————\n",
      "Loading State House Dist 8.csv data...\n",
      " > Found data for 4 counties (3%)\n",
      "Verifying vote totals...\n"
     ]
    },
    {
     "data": {
      "application/vnd.jupyter.widget-view+json": {
       "model_id": "13f43f1e07664e84adf06ec244317bdd",
       "version_major": 2,
       "version_minor": 0
      },
      "text/plain": [
       "HBox(children=(HTML(value=''), FloatProgress(value=0.0, max=2.0), HTML(value='')))"
      ]
     },
     "metadata": {},
     "output_type": "display_data"
    },
    {
     "name": "stdout",
     "output_type": "stream",
     "text": [
      "\n",
      "> Vote totals verified — no errors\n",
      "————————————————————————————————————————————————————————————\n",
      "Loading North Jackson Fire Advisory Board Post 6.csv data...\n",
      " > Found data for 1 counties (1%)\n",
      "Verifying vote totals...\n"
     ]
    },
    {
     "data": {
      "application/vnd.jupyter.widget-view+json": {
       "model_id": "cab54f75aa7f47d4a39d25e67721f81d",
       "version_major": 2,
       "version_minor": 0
      },
      "text/plain": [
       "HBox(children=(HTML(value=''), FloatProgress(value=0.0, max=1.0), HTML(value='')))"
      ]
     },
     "metadata": {},
     "output_type": "display_data"
    },
    {
     "name": "stdout",
     "output_type": "stream",
     "text": [
      "\n",
      "> Vote totals verified — no errors\n",
      "————————————————————————————————————————————————————————————\n",
      "Loading Board of Education Chair.csv data...\n",
      " > Found data for 5 counties (3%)\n",
      "Verifying vote totals...\n"
     ]
    },
    {
     "data": {
      "application/vnd.jupyter.widget-view+json": {
       "model_id": "70733f3f1b30481fbd95b7b18ed11833",
       "version_major": 2,
       "version_minor": 0
      },
      "text/plain": [
       "HBox(children=(HTML(value=''), FloatProgress(value=0.0, max=6.0), HTML(value='')))"
      ]
     },
     "metadata": {},
     "output_type": "display_data"
    },
    {
     "name": "stdout",
     "output_type": "stream",
     "text": [
      "\n",
      "> Vote totals verified — no errors\n",
      "————————————————————————————————————————————————————————————\n",
      "Loading State House Dist 65.csv data...\n",
      " > Found data for 2 counties (1%)\n",
      "Verifying vote totals...\n"
     ]
    },
    {
     "data": {
      "application/vnd.jupyter.widget-view+json": {
       "model_id": "e8fbc6ce7831497d9bb696355ad1ff14",
       "version_major": 2,
       "version_minor": 0
      },
      "text/plain": [
       "HBox(children=(HTML(value=''), FloatProgress(value=0.0, max=1.0), HTML(value='')))"
      ]
     },
     "metadata": {},
     "output_type": "display_data"
    },
    {
     "name": "stdout",
     "output_type": "stream",
     "text": [
      "\n",
      "> Vote totals verified — no errors\n",
      "————————————————————————————————————————————————————————————\n",
      "Loading State House Dist 58.csv data...\n",
      " > Found data for 1 counties (1%)\n",
      "Verifying vote totals...\n"
     ]
    },
    {
     "data": {
      "application/vnd.jupyter.widget-view+json": {
       "model_id": "0016e700e03d46c4a47432ca6a46edc2",
       "version_major": 2,
       "version_minor": 0
      },
      "text/plain": [
       "HBox(children=(HTML(value=''), FloatProgress(value=0.0, max=1.0), HTML(value='')))"
      ]
     },
     "metadata": {},
     "output_type": "display_data"
    },
    {
     "name": "stdout",
     "output_type": "stream",
     "text": [
      "\n",
      "> Vote totals verified — no errors\n",
      "————————————————————————————————————————————————————————————\n",
      "Loading State House Dist 88.csv data...\n",
      " > Found data for 1 counties (1%)\n",
      "Verifying vote totals...\n"
     ]
    },
    {
     "data": {
      "application/vnd.jupyter.widget-view+json": {
       "model_id": "3511ae3a779e4ccb81e06fed7ae8628f",
       "version_major": 2,
       "version_minor": 0
      },
      "text/plain": [
       "HBox(children=(HTML(value=''), FloatProgress(value=0.0, max=1.0), HTML(value='')))"
      ]
     },
     "metadata": {},
     "output_type": "display_data"
    },
    {
     "name": "stdout",
     "output_type": "stream",
     "text": [
      "\n",
      "> Vote totals verified — no errors\n",
      "————————————————————————————————————————————————————————————\n",
      "Loading Board of Education At Large Post 2.csv data...\n",
      " > Found data for 1 counties (1%)\n",
      "Verifying vote totals...\n"
     ]
    },
    {
     "data": {
      "application/vnd.jupyter.widget-view+json": {
       "model_id": "6360e5a18d6d490593a397416a5f5e52",
       "version_major": 2,
       "version_minor": 0
      },
      "text/plain": [
       "HBox(children=(HTML(value=''), FloatProgress(value=0.0, max=2.0), HTML(value='')))"
      ]
     },
     "metadata": {},
     "output_type": "display_data"
    },
    {
     "name": "stdout",
     "output_type": "stream",
     "text": [
      "\n",
      "> Vote totals verified — no errors\n",
      "————————————————————————————————————————————————————————————\n",
      "Loading US House Dist 8.csv data...\n",
      " > Found data for 24 counties (15%)\n",
      "Verifying vote totals...\n"
     ]
    },
    {
     "data": {
      "application/vnd.jupyter.widget-view+json": {
       "model_id": "daaa61a945ef451986b8043db8345536",
       "version_major": 2,
       "version_minor": 0
      },
      "text/plain": [
       "HBox(children=(HTML(value=''), FloatProgress(value=0.0, max=2.0), HTML(value='')))"
      ]
     },
     "metadata": {},
     "output_type": "display_data"
    },
    {
     "name": "stdout",
     "output_type": "stream",
     "text": [
      "\n",
      "> Vote totals verified — no errors\n",
      "————————————————————————————————————————————————————————————\n",
      "Loading County Commissioner At Large.csv data...\n",
      " > Found data for 4 counties (3%)\n",
      "Verifying vote totals...\n"
     ]
    },
    {
     "data": {
      "application/vnd.jupyter.widget-view+json": {
       "model_id": "ad46e416d18a40d4a5ebd565dde55e90",
       "version_major": 2,
       "version_minor": 0
      },
      "text/plain": [
       "HBox(children=(HTML(value=''), FloatProgress(value=0.0, max=5.0), HTML(value='')))"
      ]
     },
     "metadata": {},
     "output_type": "display_data"
    },
    {
     "name": "stdout",
     "output_type": "stream",
     "text": [
      "\n",
      "> Vote totals verified — no errors\n",
      "————————————————————————————————————————————————————————————\n",
      "Loading Homestead Exemption Referendum - Special.csv data...\n",
      " > Found data for 1 counties (1%)\n",
      "Verifying vote totals...\n"
     ]
    },
    {
     "data": {
      "application/vnd.jupyter.widget-view+json": {
       "model_id": "1f248ddf8a7c4bb2b7e51a8ff1b67dd2",
       "version_major": 2,
       "version_minor": 0
      },
      "text/plain": [
       "HBox(children=(HTML(value=''), FloatProgress(value=0.0, max=2.0), HTML(value='')))"
      ]
     },
     "metadata": {},
     "output_type": "display_data"
    },
    {
     "name": "stdout",
     "output_type": "stream",
     "text": [
      "\n",
      "> Vote totals verified — no errors\n",
      "————————————————————————————————————————————————————————————\n",
      "Loading Chief Executive Officer.csv data...\n",
      " > Found data for 1 counties (1%)\n",
      "Verifying vote totals...\n"
     ]
    },
    {
     "data": {
      "application/vnd.jupyter.widget-view+json": {
       "model_id": "f45d74a5477f4e63a9281c707e92ee54",
       "version_major": 2,
       "version_minor": 0
      },
      "text/plain": [
       "HBox(children=(HTML(value=''), FloatProgress(value=0.0, max=1.0), HTML(value='')))"
      ]
     },
     "metadata": {},
     "output_type": "display_data"
    },
    {
     "name": "stdout",
     "output_type": "stream",
     "text": [
      "\n",
      "> Vote totals verified — no errors\n",
      "————————————————————————————————————————————————————————————\n",
      "Loading St. Marys Mayor.csv data...\n",
      " > Found data for 1 counties (1%)\n",
      "Verifying vote totals...\n"
     ]
    },
    {
     "data": {
      "application/vnd.jupyter.widget-view+json": {
       "model_id": "36f81bcaf9e04bb4a55c876485e5cccc",
       "version_major": 2,
       "version_minor": 0
      },
      "text/plain": [
       "HBox(children=(HTML(value=''), FloatProgress(value=0.0, max=2.0), HTML(value='')))"
      ]
     },
     "metadata": {},
     "output_type": "display_data"
    },
    {
     "name": "stdout",
     "output_type": "stream",
     "text": [
      "\n",
      "> Vote totals verified — no errors\n",
      "————————————————————————————————————————————————————————————\n",
      "Loading State House Dist 30.csv data...\n",
      " > Found data for 1 counties (1%)\n",
      "Verifying vote totals...\n"
     ]
    },
    {
     "data": {
      "application/vnd.jupyter.widget-view+json": {
       "model_id": "f69f540483264ce49420cc1ebd2e0971",
       "version_major": 2,
       "version_minor": 0
      },
      "text/plain": [
       "HBox(children=(HTML(value=''), FloatProgress(value=0.0, max=2.0), HTML(value='')))"
      ]
     },
     "metadata": {},
     "output_type": "display_data"
    },
    {
     "name": "stdout",
     "output_type": "stream",
     "text": [
      "\n",
      "> Vote totals verified — no errors\n",
      "————————————————————————————————————————————————————————————\n",
      "Loading County Commission Precinct 2.csv data...\n",
      " > Found data for 1 counties (1%)\n",
      "Verifying vote totals...\n"
     ]
    },
    {
     "data": {
      "application/vnd.jupyter.widget-view+json": {
       "model_id": "50dddfd63e434e1a98e698655abf7677",
       "version_major": 2,
       "version_minor": 0
      },
      "text/plain": [
       "HBox(children=(HTML(value=''), FloatProgress(value=0.0, max=1.0), HTML(value='')))"
      ]
     },
     "metadata": {},
     "output_type": "display_data"
    },
    {
     "name": "stdout",
     "output_type": "stream",
     "text": [
      "\n",
      "> Vote totals verified — no errors\n",
      "————————————————————————————————————————————————————————————\n",
      "Loading Soil and Water - Pine Mountain.csv data...\n",
      " > Found data for 2 counties (1%)\n",
      "Verifying vote totals...\n"
     ]
    },
    {
     "data": {
      "application/vnd.jupyter.widget-view+json": {
       "model_id": "8a2913a28a3f4826ae7dc3acb81df6f9",
       "version_major": 2,
       "version_minor": 0
      },
      "text/plain": [
       "HBox(children=(HTML(value=''), FloatProgress(value=0.0, max=2.0), HTML(value='')))"
      ]
     },
     "metadata": {},
     "output_type": "display_data"
    },
    {
     "name": "stdout",
     "output_type": "stream",
     "text": [
      "\n",
      "> Vote totals verified — no errors\n",
      "————————————————————————————————————————————————————————————\n",
      "Loading Pulaski County Sunday Package Sales - Special.csv data...\n",
      " > Found data for 1 counties (1%)\n",
      "Verifying vote totals...\n"
     ]
    },
    {
     "data": {
      "application/vnd.jupyter.widget-view+json": {
       "model_id": "e5db5ae8cbe347b49d1c68056ff58354",
       "version_major": 2,
       "version_minor": 0
      },
      "text/plain": [
       "HBox(children=(HTML(value=''), FloatProgress(value=0.0, max=2.0), HTML(value='')))"
      ]
     },
     "metadata": {},
     "output_type": "display_data"
    },
    {
     "name": "stdout",
     "output_type": "stream",
     "text": [
      "\n",
      "> Vote totals verified — no errors\n",
      "————————————————————————————————————————————————————————————\n",
      "Loading State House Dist 91.csv data...\n",
      " > Found data for 2 counties (1%)\n",
      "Verifying vote totals...\n"
     ]
    },
    {
     "data": {
      "application/vnd.jupyter.widget-view+json": {
       "model_id": "8b3a6e9f7047441ab4a09ce3c361a131",
       "version_major": 2,
       "version_minor": 0
      },
      "text/plain": [
       "HBox(children=(HTML(value=''), FloatProgress(value=0.0, max=1.0), HTML(value='')))"
      ]
     },
     "metadata": {},
     "output_type": "display_data"
    },
    {
     "name": "stdout",
     "output_type": "stream",
     "text": [
      "\n",
      "> Vote totals verified — no errors\n",
      "————————————————————————————————————————————————————————————\n",
      "Loading State House Dist 89.csv data...\n",
      " > Found data for 1 counties (1%)\n",
      "Verifying vote totals...\n"
     ]
    },
    {
     "data": {
      "application/vnd.jupyter.widget-view+json": {
       "model_id": "4f245925f324487c9cabf086ef6ebad4",
       "version_major": 2,
       "version_minor": 0
      },
      "text/plain": [
       "HBox(children=(HTML(value=''), FloatProgress(value=0.0, max=1.0), HTML(value='')))"
      ]
     },
     "metadata": {},
     "output_type": "display_data"
    },
    {
     "name": "stdout",
     "output_type": "stream",
     "text": [
      "\n",
      "> Vote totals verified — no errors\n",
      "————————————————————————————————————————————————————————————\n",
      "Loading Public Service Commission Dist 4.csv data...\n",
      " > Found data for 159 counties (100%)\n",
      "Verifying vote totals...\n"
     ]
    },
    {
     "data": {
      "application/vnd.jupyter.widget-view+json": {
       "model_id": "a96847f9ad424143aca20c8462f97660",
       "version_major": 2,
       "version_minor": 0
      },
      "text/plain": [
       "HBox(children=(HTML(value=''), FloatProgress(value=0.0, max=3.0), HTML(value='')))"
      ]
     },
     "metadata": {},
     "output_type": "display_data"
    },
    {
     "name": "stdout",
     "output_type": "stream",
     "text": [
      "\n",
      "> Vote totals verified — no errors\n",
      "————————————————————————————————————————————————————————————\n",
      "Loading State House Dist 129.csv data...\n",
      " > Found data for 4 counties (3%)\n",
      "Verifying vote totals...\n"
     ]
    },
    {
     "data": {
      "application/vnd.jupyter.widget-view+json": {
       "model_id": "dcdcefa9a8df454c921c01db17dcf33e",
       "version_major": 2,
       "version_minor": 0
      },
      "text/plain": [
       "HBox(children=(HTML(value=''), FloatProgress(value=0.0, max=3.0), HTML(value='')))"
      ]
     },
     "metadata": {},
     "output_type": "display_data"
    },
    {
     "name": "stdout",
     "output_type": "stream",
     "text": [
      "\n",
      "> Vote totals verified — no errors\n",
      "————————————————————————————————————————————————————————————\n",
      "Loading US House Dist 5.csv data...\n",
      " > Found data for 3 counties (2%)\n",
      "Verifying vote totals...\n"
     ]
    },
    {
     "data": {
      "application/vnd.jupyter.widget-view+json": {
       "model_id": "5dab617620d34bf588cc3d0f469b0808",
       "version_major": 2,
       "version_minor": 0
      },
      "text/plain": [
       "HBox(children=(HTML(value=''), FloatProgress(value=0.0, max=2.0), HTML(value='')))"
      ]
     },
     "metadata": {},
     "output_type": "display_data"
    },
    {
     "name": "stdout",
     "output_type": "stream",
     "text": [
      "\n",
      "> Vote totals verified — no errors\n",
      "————————————————————————————————————————————————————————————\n",
      "Loading Board of Education Post 3.csv data...\n",
      " > Found data for 1 counties (1%)\n",
      "Verifying vote totals...\n"
     ]
    },
    {
     "data": {
      "application/vnd.jupyter.widget-view+json": {
       "model_id": "e4a177d958394fa68ca1ed9110c3c688",
       "version_major": 2,
       "version_minor": 0
      },
      "text/plain": [
       "HBox(children=(HTML(value=''), FloatProgress(value=0.0, max=1.0), HTML(value='')))"
      ]
     },
     "metadata": {},
     "output_type": "display_data"
    },
    {
     "name": "stdout",
     "output_type": "stream",
     "text": [
      "\n",
      "> Vote totals verified — no errors\n",
      "————————————————————————————————————————————————————————————\n",
      "Loading State House Dist 76.csv data...\n",
      " > Found data for 2 counties (1%)\n",
      "Verifying vote totals...\n"
     ]
    },
    {
     "data": {
      "application/vnd.jupyter.widget-view+json": {
       "model_id": "42ed3baf1033499dab88b2fc7fb8e537",
       "version_major": 2,
       "version_minor": 0
      },
      "text/plain": [
       "HBox(children=(HTML(value=''), FloatProgress(value=0.0, max=1.0), HTML(value='')))"
      ]
     },
     "metadata": {},
     "output_type": "display_data"
    },
    {
     "name": "stdout",
     "output_type": "stream",
     "text": [
      "\n",
      "> Vote totals verified — no errors\n",
      "————————————————————————————————————————————————————————————\n",
      "Loading State Senate Dist 19.csv data...\n",
      " > Found data for 11 counties (7%)\n",
      "Verifying vote totals...\n"
     ]
    },
    {
     "data": {
      "application/vnd.jupyter.widget-view+json": {
       "model_id": "3ed355ce3d714800848b63770b3ef37d",
       "version_major": 2,
       "version_minor": 0
      },
      "text/plain": [
       "HBox(children=(HTML(value=''), FloatProgress(value=0.0, max=1.0), HTML(value='')))"
      ]
     },
     "metadata": {},
     "output_type": "display_data"
    },
    {
     "name": "stdout",
     "output_type": "stream",
     "text": [
      "\n",
      "> Vote totals verified — no errors\n",
      "————————————————————————————————————————————————————————————\n",
      "Loading State House Dist 45.csv data...\n",
      " > Found data for 2 counties (1%)\n",
      "Verifying vote totals...\n"
     ]
    },
    {
     "data": {
      "application/vnd.jupyter.widget-view+json": {
       "model_id": "33ebbbde99ab4fbf8de7bf86448ed3f5",
       "version_major": 2,
       "version_minor": 0
      },
      "text/plain": [
       "HBox(children=(HTML(value=''), FloatProgress(value=0.0, max=2.0), HTML(value='')))"
      ]
     },
     "metadata": {},
     "output_type": "display_data"
    },
    {
     "name": "stdout",
     "output_type": "stream",
     "text": [
      "\n",
      "> Vote totals verified — no errors\n",
      "————————————————————————————————————————————————————————————\n",
      "Loading Good Hope City Council Post 1.csv data...\n",
      " > Found data for 1 counties (1%)\n",
      "Verifying vote totals...\n"
     ]
    },
    {
     "data": {
      "application/vnd.jupyter.widget-view+json": {
       "model_id": "8a96071e1c3a4a3790ed1b7d4bf1d80d",
       "version_major": 2,
       "version_minor": 0
      },
      "text/plain": [
       "HBox(children=(HTML(value=''), FloatProgress(value=0.0, max=1.0), HTML(value='')))"
      ]
     },
     "metadata": {},
     "output_type": "display_data"
    },
    {
     "name": "stdout",
     "output_type": "stream",
     "text": [
      "\n",
      "> Vote totals verified — no errors\n",
      "————————————————————————————————————————————————————————————\n",
      "Loading State House Dist 32.csv data...\n",
      " > Found data for 3 counties (2%)\n",
      "Verifying vote totals...\n"
     ]
    },
    {
     "data": {
      "application/vnd.jupyter.widget-view+json": {
       "model_id": "e9a8888781804acc9a38713e4af93043",
       "version_major": 2,
       "version_minor": 0
      },
      "text/plain": [
       "HBox(children=(HTML(value=''), FloatProgress(value=0.0, max=2.0), HTML(value='')))"
      ]
     },
     "metadata": {},
     "output_type": "display_data"
    },
    {
     "name": "stdout",
     "output_type": "stream",
     "text": [
      "\n",
      "> Vote totals verified — no errors\n",
      "————————————————————————————————————————————————————————————\n",
      "Loading State Senate Dist 37.csv data...\n",
      " > Found data for 1 counties (1%)\n",
      "Verifying vote totals...\n"
     ]
    },
    {
     "data": {
      "application/vnd.jupyter.widget-view+json": {
       "model_id": "4f6818889cce43c997e8fc7fe00530d4",
       "version_major": 2,
       "version_minor": 0
      },
      "text/plain": [
       "HBox(children=(HTML(value=''), FloatProgress(value=0.0, max=2.0), HTML(value='')))"
      ]
     },
     "metadata": {},
     "output_type": "display_data"
    },
    {
     "name": "stdout",
     "output_type": "stream",
     "text": [
      "\n",
      "> Vote totals verified — no errors\n",
      "————————————————————————————————————————————————————————————\n",
      "Loading US House Dist 2.csv data...\n",
      " > Found data for 29 counties (18%)\n",
      "Verifying vote totals...\n"
     ]
    },
    {
     "data": {
      "application/vnd.jupyter.widget-view+json": {
       "model_id": "0d99ae7aa2894d938eb7a49e977979e2",
       "version_major": 2,
       "version_minor": 0
      },
      "text/plain": [
       "HBox(children=(HTML(value=''), FloatProgress(value=0.0, max=2.0), HTML(value='')))"
      ]
     },
     "metadata": {},
     "output_type": "display_data"
    },
    {
     "name": "stdout",
     "output_type": "stream",
     "text": [
      "\n",
      "> Vote totals verified — no errors\n",
      "————————————————————————————————————————————————————————————\n",
      "Loading State House Dist 80.csv data...\n",
      " > Found data for 2 counties (1%)\n",
      "Verifying vote totals...\n"
     ]
    },
    {
     "data": {
      "application/vnd.jupyter.widget-view+json": {
       "model_id": "94f2e760a86b41a5b295d39fc76a1f3f",
       "version_major": 2,
       "version_minor": 0
      },
      "text/plain": [
       "HBox(children=(HTML(value=''), FloatProgress(value=0.0, max=2.0), HTML(value='')))"
      ]
     },
     "metadata": {},
     "output_type": "display_data"
    },
    {
     "name": "stdout",
     "output_type": "stream",
     "text": [
      "\n",
      "> Vote totals verified — no errors\n",
      "————————————————————————————————————————————————————————————\n",
      "Loading Watkinsville City Council Post 4.csv data...\n",
      " > Found data for 1 counties (1%)\n",
      "Verifying vote totals...\n"
     ]
    },
    {
     "data": {
      "application/vnd.jupyter.widget-view+json": {
       "model_id": "8610da80e0b8449dad9feb60281596d1",
       "version_major": 2,
       "version_minor": 0
      },
      "text/plain": [
       "HBox(children=(HTML(value=''), FloatProgress(value=0.0, max=2.0), HTML(value='')))"
      ]
     },
     "metadata": {},
     "output_type": "display_data"
    },
    {
     "name": "stdout",
     "output_type": "stream",
     "text": [
      "\n",
      "> Vote totals verified — no errors\n",
      "————————————————————————————————————————————————————————————\n",
      "Loading Soil and Water - McDuffie County.csv data...\n",
      " > Found data for 1 counties (1%)\n",
      "Verifying vote totals...\n"
     ]
    },
    {
     "data": {
      "application/vnd.jupyter.widget-view+json": {
       "model_id": "4aa064e5aea042168656e76192f2bb06",
       "version_major": 2,
       "version_minor": 0
      },
      "text/plain": [
       "HBox(children=(HTML(value=''), FloatProgress(value=0.0, max=3.0), HTML(value='')))"
      ]
     },
     "metadata": {},
     "output_type": "display_data"
    },
    {
     "name": "stdout",
     "output_type": "stream",
     "text": [
      "\n",
      "> Vote totals verified — no errors\n",
      "————————————————————————————————————————————————————————————\n",
      "Loading Dist Attorney - Toombs.csv data...\n",
      " > Found data for 6 counties (4%)\n",
      "Verifying vote totals...\n"
     ]
    },
    {
     "data": {
      "application/vnd.jupyter.widget-view+json": {
       "model_id": "fb5e9fe434d24edd883cca28a70c81aa",
       "version_major": 2,
       "version_minor": 0
      },
      "text/plain": [
       "HBox(children=(HTML(value=''), FloatProgress(value=0.0, max=1.0), HTML(value='')))"
      ]
     },
     "metadata": {},
     "output_type": "display_data"
    },
    {
     "name": "stdout",
     "output_type": "stream",
     "text": [
      "\n",
      "> Vote totals verified — no errors\n",
      "————————————————————————————————————————————————————————————\n",
      "Loading State House Dist 19.csv data...\n",
      " > Found data for 1 counties (1%)\n",
      "Verifying vote totals...\n"
     ]
    },
    {
     "data": {
      "application/vnd.jupyter.widget-view+json": {
       "model_id": "bbba879f6f644dd595cadc644081849d",
       "version_major": 2,
       "version_minor": 0
      },
      "text/plain": [
       "HBox(children=(HTML(value=''), FloatProgress(value=0.0, max=2.0), HTML(value='')))"
      ]
     },
     "metadata": {},
     "output_type": "display_data"
    },
    {
     "name": "stdout",
     "output_type": "stream",
     "text": [
      "\n",
      "> Vote totals verified — no errors\n",
      "————————————————————————————————————————————————————————————\n",
      "Loading Monroe Councilmember Dist 6 - Special.csv data...\n",
      " > Found data for 1 counties (1%)\n",
      "Verifying vote totals...\n"
     ]
    },
    {
     "data": {
      "application/vnd.jupyter.widget-view+json": {
       "model_id": "52708e1f5ebd45ae887b491a731d3660",
       "version_major": 2,
       "version_minor": 0
      },
      "text/plain": [
       "HBox(children=(HTML(value=''), FloatProgress(value=0.0, max=2.0), HTML(value='')))"
      ]
     },
     "metadata": {},
     "output_type": "display_data"
    },
    {
     "name": "stdout",
     "output_type": "stream",
     "text": [
      "\n",
      "> Vote totals verified — no errors\n",
      "————————————————————————————————————————————————————————————\n",
      "Loading Board of Education At Large.csv data...\n",
      " > Found data for 7 counties (4%)\n",
      "Verifying vote totals...\n"
     ]
    },
    {
     "data": {
      "application/vnd.jupyter.widget-view+json": {
       "model_id": "29b686755dc5469d8eb778bab576cc0a",
       "version_major": 2,
       "version_minor": 0
      },
      "text/plain": [
       "HBox(children=(HTML(value=''), FloatProgress(value=0.0, max=9.0), HTML(value='')))"
      ]
     },
     "metadata": {},
     "output_type": "display_data"
    },
    {
     "name": "stdout",
     "output_type": "stream",
     "text": [
      "\n",
      "> Vote totals verified — no errors\n",
      "————————————————————————————————————————————————————————————\n",
      "Loading Board of Education Dist 5, At Large.csv data...\n",
      " > Found data for 1 counties (1%)\n",
      "Verifying vote totals...\n"
     ]
    },
    {
     "data": {
      "application/vnd.jupyter.widget-view+json": {
       "model_id": "6709f89ad6ae42918667ab620c8f304b",
       "version_major": 2,
       "version_minor": 0
      },
      "text/plain": [
       "HBox(children=(HTML(value=''), FloatProgress(value=0.0, max=1.0), HTML(value='')))"
      ]
     },
     "metadata": {},
     "output_type": "display_data"
    },
    {
     "name": "stdout",
     "output_type": "stream",
     "text": [
      "\n",
      "> Vote totals verified — no errors\n",
      "————————————————————————————————————————————————————————————\n",
      "Loading Jackson Trail Fire Advisory Board Post 2.csv data...\n",
      " > Found data for 1 counties (1%)\n",
      "Verifying vote totals...\n"
     ]
    },
    {
     "data": {
      "application/vnd.jupyter.widget-view+json": {
       "model_id": "87e9d4d409b94e0cb06d2818bd56a2ca",
       "version_major": 2,
       "version_minor": 0
      },
      "text/plain": [
       "HBox(children=(HTML(value=''), FloatProgress(value=0.0, max=1.0), HTML(value='')))"
      ]
     },
     "metadata": {},
     "output_type": "display_data"
    },
    {
     "name": "stdout",
     "output_type": "stream",
     "text": [
      "\n",
      "> Vote totals verified — no errors\n",
      "————————————————————————————————————————————————————————————\n",
      "Loading Public Service Commission Dist 1.csv data...\n",
      " > Found data for 159 counties (100%)\n",
      "Verifying vote totals...\n"
     ]
    },
    {
     "data": {
      "application/vnd.jupyter.widget-view+json": {
       "model_id": "87861b87408a4e09a042705890615c8f",
       "version_major": 2,
       "version_minor": 0
      },
      "text/plain": [
       "HBox(children=(HTML(value=''), FloatProgress(value=0.0, max=3.0), HTML(value='')))"
      ]
     },
     "metadata": {},
     "output_type": "display_data"
    },
    {
     "name": "stdout",
     "output_type": "stream",
     "text": [
      "\n",
      "> Vote totals verified — no errors\n",
      "————————————————————————————————————————————————————————————\n",
      "Loading Franklin County Homestead Exemption - Special.csv data...\n",
      " > Found data for 1 counties (1%)\n",
      "Verifying vote totals...\n"
     ]
    },
    {
     "data": {
      "application/vnd.jupyter.widget-view+json": {
       "model_id": "bcf753cbdd9b474a8dad499e5f3372be",
       "version_major": 2,
       "version_minor": 0
      },
      "text/plain": [
       "HBox(children=(HTML(value=''), FloatProgress(value=0.0, max=2.0), HTML(value='')))"
      ]
     },
     "metadata": {},
     "output_type": "display_data"
    },
    {
     "name": "stdout",
     "output_type": "stream",
     "text": [
      "\n",
      "> Vote totals verified — no errors\n",
      "————————————————————————————————————————————————————————————\n",
      "Loading Board of Education Dist 5 At Large.csv data...\n",
      " > Found data for 1 counties (1%)\n",
      "Verifying vote totals...\n"
     ]
    },
    {
     "data": {
      "application/vnd.jupyter.widget-view+json": {
       "model_id": "9275163dc8e54bc48e69b21aeee31e6a",
       "version_major": 2,
       "version_minor": 0
      },
      "text/plain": [
       "HBox(children=(HTML(value=''), FloatProgress(value=0.0, max=1.0), HTML(value='')))"
      ]
     },
     "metadata": {},
     "output_type": "display_data"
    },
    {
     "name": "stdout",
     "output_type": "stream",
     "text": [
      "\n",
      "> Vote totals verified — no errors\n",
      "————————————————————————————————————————————————————————————\n",
      "Loading State House Dist 148.csv data...\n",
      " > Found data for 4 counties (3%)\n",
      "Verifying vote totals...\n"
     ]
    },
    {
     "data": {
      "application/vnd.jupyter.widget-view+json": {
       "model_id": "0f9889d566d443f3bb8df5620ca29636",
       "version_major": 2,
       "version_minor": 0
      },
      "text/plain": [
       "HBox(children=(HTML(value=''), FloatProgress(value=0.0, max=2.0), HTML(value='')))"
      ]
     },
     "metadata": {},
     "output_type": "display_data"
    },
    {
     "name": "stdout",
     "output_type": "stream",
     "text": [
      "\n",
      "> Vote totals verified — no errors\n",
      "————————————————————————————————————————————————————————————\n",
      "Loading County Commission Post 5 At Large.csv data...\n",
      " > Found data for 1 counties (1%)\n",
      "Verifying vote totals...\n"
     ]
    },
    {
     "data": {
      "application/vnd.jupyter.widget-view+json": {
       "model_id": "accec9a6debb4d33ad4533c4d6ba58f1",
       "version_major": 2,
       "version_minor": 0
      },
      "text/plain": [
       "HBox(children=(HTML(value=''), FloatProgress(value=0.0, max=2.0), HTML(value='')))"
      ]
     },
     "metadata": {},
     "output_type": "display_data"
    },
    {
     "name": "stdout",
     "output_type": "stream",
     "text": [
      "\n",
      "> Vote totals verified — no errors\n",
      "————————————————————————————————————————————————————————————\n",
      "Loading State Senate Dist 41.csv data...\n",
      " > Found data for 2 counties (1%)\n",
      "Verifying vote totals...\n"
     ]
    },
    {
     "data": {
      "application/vnd.jupyter.widget-view+json": {
       "model_id": "26124022377a464398f032cd3da4ec54",
       "version_major": 2,
       "version_minor": 0
      },
      "text/plain": [
       "HBox(children=(HTML(value=''), FloatProgress(value=0.0, max=2.0), HTML(value='')))"
      ]
     },
     "metadata": {},
     "output_type": "display_data"
    },
    {
     "name": "stdout",
     "output_type": "stream",
     "text": [
      "\n",
      "> Vote totals verified — no errors\n",
      "————————————————————————————————————————————————————————————\n",
      "Loading Sylvester Sales of Alcoholic Beverages on Sunday - Special.csv data...\n",
      " > Found data for 1 counties (1%)\n",
      "Verifying vote totals...\n"
     ]
    },
    {
     "data": {
      "application/vnd.jupyter.widget-view+json": {
       "model_id": "eba4ef5e459b4e068efb4132374c2bc2",
       "version_major": 2,
       "version_minor": 0
      },
      "text/plain": [
       "HBox(children=(HTML(value=''), FloatProgress(value=0.0, max=2.0), HTML(value='')))"
      ]
     },
     "metadata": {},
     "output_type": "display_data"
    },
    {
     "name": "stdout",
     "output_type": "stream",
     "text": [
      "\n",
      "> Vote totals verified — no errors\n",
      "————————————————————————————————————————————————————————————\n",
      "Loading Co Commission Dist 1.csv data...\n",
      " > Found data for 1 counties (1%)\n",
      "Verifying vote totals...\n"
     ]
    },
    {
     "data": {
      "application/vnd.jupyter.widget-view+json": {
       "model_id": "3993e55c30924c34968575eba53464fb",
       "version_major": 2,
       "version_minor": 0
      },
      "text/plain": [
       "HBox(children=(HTML(value=''), FloatProgress(value=0.0, max=2.0), HTML(value='')))"
      ]
     },
     "metadata": {},
     "output_type": "display_data"
    },
    {
     "name": "stdout",
     "output_type": "stream",
     "text": [
      "\n",
      "> Vote totals verified — no errors\n",
      "————————————————————————————————————————————————————————————\n",
      "Loading State Senate Dist 24.csv data...\n",
      " > Found data for 8 counties (5%)\n",
      "Verifying vote totals...\n"
     ]
    },
    {
     "data": {
      "application/vnd.jupyter.widget-view+json": {
       "model_id": "729fc6f3045a4da29e679f03b166a4b3",
       "version_major": 2,
       "version_minor": 0
      },
      "text/plain": [
       "HBox(children=(HTML(value=''), FloatProgress(value=0.0, max=1.0), HTML(value='')))"
      ]
     },
     "metadata": {},
     "output_type": "display_data"
    },
    {
     "name": "stdout",
     "output_type": "stream",
     "text": [
      "\n",
      "> Vote totals verified — no errors\n",
      "————————————————————————————————————————————————————————————\n",
      "Loading State House Dist 44.csv data...\n",
      " > Found data for 1 counties (1%)\n",
      "Verifying vote totals...\n"
     ]
    },
    {
     "data": {
      "application/vnd.jupyter.widget-view+json": {
       "model_id": "16d9bf25c0294abfbcab0094e278fc80",
       "version_major": 2,
       "version_minor": 0
      },
      "text/plain": [
       "HBox(children=(HTML(value=''), FloatProgress(value=0.0, max=2.0), HTML(value='')))"
      ]
     },
     "metadata": {},
     "output_type": "display_data"
    },
    {
     "name": "stdout",
     "output_type": "stream",
     "text": [
      "\n",
      "> Vote totals verified — no errors\n",
      "————————————————————————————————————————————————————————————\n",
      "Loading Soil and Water - Flint River.csv data...\n",
      " > Found data for 2 counties (1%)\n",
      "Verifying vote totals...\n"
     ]
    },
    {
     "data": {
      "application/vnd.jupyter.widget-view+json": {
       "model_id": "fbd69f4b005c41f497a79a60ac345b27",
       "version_major": 2,
       "version_minor": 0
      },
      "text/plain": [
       "HBox(children=(HTML(value=''), FloatProgress(value=0.0, max=2.0), HTML(value='')))"
      ]
     },
     "metadata": {},
     "output_type": "display_data"
    },
    {
     "name": "stdout",
     "output_type": "stream",
     "text": [
      "\n",
      "> Vote totals verified — no errors\n",
      "————————————————————————————————————————————————————————————\n",
      "Loading McDuffie County SPLOST - Special.csv data...\n",
      " > Found data for 1 counties (1%)\n",
      "Verifying vote totals...\n"
     ]
    },
    {
     "data": {
      "application/vnd.jupyter.widget-view+json": {
       "model_id": "9a1b6565895741988c282c1ca5ffe263",
       "version_major": 2,
       "version_minor": 0
      },
      "text/plain": [
       "HBox(children=(HTML(value=''), FloatProgress(value=0.0, max=2.0), HTML(value='')))"
      ]
     },
     "metadata": {},
     "output_type": "display_data"
    },
    {
     "name": "stdout",
     "output_type": "stream",
     "text": [
      "\n",
      "> Vote totals verified — no errors\n",
      "————————————————————————————————————————————————————————————\n",
      "Loading North Jackson Fire Advisory Board Post 8.csv data...\n",
      " > Found data for 1 counties (1%)\n",
      "Verifying vote totals...\n"
     ]
    },
    {
     "data": {
      "application/vnd.jupyter.widget-view+json": {
       "model_id": "cc51472199b344e09748a5ccb7304ae9",
       "version_major": 2,
       "version_minor": 0
      },
      "text/plain": [
       "HBox(children=(HTML(value=''), FloatProgress(value=0.0, max=1.0), HTML(value='')))"
      ]
     },
     "metadata": {},
     "output_type": "display_data"
    },
    {
     "name": "stdout",
     "output_type": "stream",
     "text": [
      "\n",
      "> Vote totals verified — no errors\n",
      "————————————————————————————————————————————————————————————\n",
      "Loading State House Dist 157.csv data...\n",
      " > Found data for 3 counties (2%)\n",
      "Verifying vote totals...\n"
     ]
    },
    {
     "data": {
      "application/vnd.jupyter.widget-view+json": {
       "model_id": "21cdb6e7f2894cbf8c243d850e5e51e7",
       "version_major": 2,
       "version_minor": 0
      },
      "text/plain": [
       "HBox(children=(HTML(value=''), FloatProgress(value=0.0, max=1.0), HTML(value='')))"
      ]
     },
     "metadata": {},
     "output_type": "display_data"
    },
    {
     "name": "stdout",
     "output_type": "stream",
     "text": [
      "\n",
      "> Vote totals verified — no errors\n",
      "————————————————————————————————————————————————————————————\n",
      "Loading State Senate Dist 32.csv data...\n",
      " > Found data for 2 counties (1%)\n",
      "Verifying vote totals...\n"
     ]
    },
    {
     "data": {
      "application/vnd.jupyter.widget-view+json": {
       "model_id": "d8f2c998d2c248abbaeaaa2ee751a9b3",
       "version_major": 2,
       "version_minor": 0
      },
      "text/plain": [
       "HBox(children=(HTML(value=''), FloatProgress(value=0.0, max=2.0), HTML(value='')))"
      ]
     },
     "metadata": {},
     "output_type": "display_data"
    },
    {
     "name": "stdout",
     "output_type": "stream",
     "text": [
      "\n",
      "> Vote totals verified — no errors\n",
      "————————————————————————————————————————————————————————————\n",
      "Loading County Commission Dist 1.csv data...\n",
      " > Found data for 63 counties (40%)\n",
      "Verifying vote totals...\n"
     ]
    },
    {
     "data": {
      "application/vnd.jupyter.widget-view+json": {
       "model_id": "de2f9bb8affd47b0b4b50ad87d9b760a",
       "version_major": 2,
       "version_minor": 0
      },
      "text/plain": [
       "HBox(children=(HTML(value=''), FloatProgress(value=0.0, max=85.0), HTML(value='')))"
      ]
     },
     "metadata": {},
     "output_type": "display_data"
    },
    {
     "name": "stdout",
     "output_type": "stream",
     "text": [
      "\n",
      ">>> Vote totals verified — 0.00044 error rate\n",
      "————————————————————————————————————————————————————————————\n",
      "Loading State Senate Dist 1.csv data...\n",
      " > Found data for 3 counties (2%)\n",
      "Verifying vote totals...\n"
     ]
    },
    {
     "data": {
      "application/vnd.jupyter.widget-view+json": {
       "model_id": "63c3c725d01b4a328740f7ed71f041b9",
       "version_major": 2,
       "version_minor": 0
      },
      "text/plain": [
       "HBox(children=(HTML(value=''), FloatProgress(value=0.0, max=1.0), HTML(value='')))"
      ]
     },
     "metadata": {},
     "output_type": "display_data"
    },
    {
     "name": "stdout",
     "output_type": "stream",
     "text": [
      "\n",
      "> Vote totals verified — no errors\n",
      "————————————————————————————————————————————————————————————\n",
      "Loading Dist Attorney - Southwestern - Special.csv data...\n",
      " > Found data for 6 counties (4%)\n",
      "Verifying vote totals...\n"
     ]
    },
    {
     "data": {
      "application/vnd.jupyter.widget-view+json": {
       "model_id": "b3c9259ecdaf473db468110b5021c738",
       "version_major": 2,
       "version_minor": 0
      },
      "text/plain": [
       "HBox(children=(HTML(value=''), FloatProgress(value=0.0, max=1.0), HTML(value='')))"
      ]
     },
     "metadata": {},
     "output_type": "display_data"
    },
    {
     "name": "stdout",
     "output_type": "stream",
     "text": [
      "\n",
      "> Vote totals verified — no errors\n",
      "————————————————————————————————————————————————————————————\n",
      "Loading County Commission Newton Dist.csv data...\n",
      " > Found data for 1 counties (1%)\n",
      "Verifying vote totals...\n"
     ]
    },
    {
     "data": {
      "application/vnd.jupyter.widget-view+json": {
       "model_id": "f944ec8853de4d37b9a41115c3b81567",
       "version_major": 2,
       "version_minor": 0
      },
      "text/plain": [
       "HBox(children=(HTML(value=''), FloatProgress(value=0.0, max=1.0), HTML(value='')))"
      ]
     },
     "metadata": {},
     "output_type": "display_data"
    },
    {
     "name": "stdout",
     "output_type": "stream",
     "text": [
      "\n",
      "> Vote totals verified — no errors\n",
      "————————————————————————————————————————————————————————————\n",
      "Loading County Commission Mitchell.csv data...\n",
      " > Found data for 1 counties (1%)\n",
      "Verifying vote totals...\n"
     ]
    },
    {
     "data": {
      "application/vnd.jupyter.widget-view+json": {
       "model_id": "db6d5d4c94244f78a9a68be18b2e9b41",
       "version_major": 2,
       "version_minor": 0
      },
      "text/plain": [
       "HBox(children=(HTML(value=''), FloatProgress(value=0.0, max=1.0), HTML(value='')))"
      ]
     },
     "metadata": {},
     "output_type": "display_data"
    },
    {
     "name": "stdout",
     "output_type": "stream",
     "text": [
      "\n",
      "> Vote totals verified — no errors\n",
      "————————————————————————————————————————————————————————————\n",
      "Loading Soil and Water - Coosa River.csv data...\n",
      " > Found data for 4 counties (3%)\n",
      "Verifying vote totals...\n"
     ]
    },
    {
     "data": {
      "application/vnd.jupyter.widget-view+json": {
       "model_id": "f472869880b14c8493c6c3ecdb2cf837",
       "version_major": 2,
       "version_minor": 0
      },
      "text/plain": [
       "HBox(children=(HTML(value=''), FloatProgress(value=0.0, max=4.0), HTML(value='')))"
      ]
     },
     "metadata": {},
     "output_type": "display_data"
    },
    {
     "name": "stdout",
     "output_type": "stream",
     "text": [
      "\n",
      "> Vote totals verified — no errors\n",
      "————————————————————————————————————————————————————————————\n",
      "Loading Clarkston Mayor - Special.csv data...\n",
      " > Found data for 1 counties (1%)\n",
      "Verifying vote totals...\n"
     ]
    },
    {
     "data": {
      "application/vnd.jupyter.widget-view+json": {
       "model_id": "452b75752056492394ea04a621999a8d",
       "version_major": 2,
       "version_minor": 0
      },
      "text/plain": [
       "HBox(children=(HTML(value=''), FloatProgress(value=0.0, max=2.0), HTML(value='')))"
      ]
     },
     "metadata": {},
     "output_type": "display_data"
    },
    {
     "name": "stdout",
     "output_type": "stream",
     "text": [
      "\n",
      "> Vote totals verified — no errors\n",
      "————————————————————————————————————————————————————————————\n",
      "Loading US House Dist 12.csv data...\n",
      " > Found data for 19 counties (12%)\n",
      "Verifying vote totals...\n"
     ]
    },
    {
     "data": {
      "application/vnd.jupyter.widget-view+json": {
       "model_id": "699e43d7c5f2453b8bb7994aa04c1eab",
       "version_major": 2,
       "version_minor": 0
      },
      "text/plain": [
       "HBox(children=(HTML(value=''), FloatProgress(value=0.0, max=2.0), HTML(value='')))"
      ]
     },
     "metadata": {},
     "output_type": "display_data"
    },
    {
     "name": "stdout",
     "output_type": "stream",
     "text": [
      "\n",
      "> Vote totals verified — no errors\n",
      "————————————————————————————————————————————————————————————\n",
      "Loading North Jackson Fire Advisory Board Post 5.csv data...\n",
      " > Found data for 1 counties (1%)\n",
      "Verifying vote totals...\n"
     ]
    },
    {
     "data": {
      "application/vnd.jupyter.widget-view+json": {
       "model_id": "d85ab3a288f84956b3866ecb1f92e7ba",
       "version_major": 2,
       "version_minor": 0
      },
      "text/plain": [
       "HBox(children=(HTML(value=''), FloatProgress(value=0.0, max=1.0), HTML(value='')))"
      ]
     },
     "metadata": {},
     "output_type": "display_data"
    },
    {
     "name": "stdout",
     "output_type": "stream",
     "text": [
      "\n",
      "> Vote totals verified — no errors\n",
      "————————————————————————————————————————————————————————————\n",
      "Loading State Senate Dist 8.csv data...\n",
      " > Found data for 7 counties (4%)\n",
      "Verifying vote totals...\n"
     ]
    },
    {
     "data": {
      "application/vnd.jupyter.widget-view+json": {
       "model_id": "91d7c9b3cfa24ff6af270a5f72b73400",
       "version_major": 2,
       "version_minor": 0
      },
      "text/plain": [
       "HBox(children=(HTML(value=''), FloatProgress(value=0.0, max=2.0), HTML(value='')))"
      ]
     },
     "metadata": {},
     "output_type": "display_data"
    },
    {
     "name": "stdout",
     "output_type": "stream",
     "text": [
      "\n",
      "> Vote totals verified — no errors\n",
      "————————————————————————————————————————————————————————————\n",
      "Loading Milner City Council - Special.csv data...\n",
      " > Found data for 1 counties (1%)\n",
      "Verifying vote totals...\n"
     ]
    },
    {
     "data": {
      "application/vnd.jupyter.widget-view+json": {
       "model_id": "2f97909a8dcb4af8a8d23691692cc865",
       "version_major": 2,
       "version_minor": 0
      },
      "text/plain": [
       "HBox(children=(HTML(value=''), FloatProgress(value=0.0, max=2.0), HTML(value='')))"
      ]
     },
     "metadata": {},
     "output_type": "display_data"
    },
    {
     "name": "stdout",
     "output_type": "stream",
     "text": [
      "\n",
      "> Vote totals verified — no errors\n",
      "————————————————————————————————————————————————————————————\n",
      "Loading Harrisburg Fire Advisory Board Post 9.csv data...\n",
      " > Found data for 1 counties (1%)\n",
      "Verifying vote totals...\n"
     ]
    },
    {
     "data": {
      "application/vnd.jupyter.widget-view+json": {
       "model_id": "dd4f098f891345f98d5bde7c9c0d5267",
       "version_major": 2,
       "version_minor": 0
      },
      "text/plain": [
       "HBox(children=(HTML(value=''), FloatProgress(value=0.0, max=1.0), HTML(value='')))"
      ]
     },
     "metadata": {},
     "output_type": "display_data"
    },
    {
     "name": "stdout",
     "output_type": "stream",
     "text": [
      "\n",
      "> Vote totals verified — no errors\n",
      "————————————————————————————————————————————————————————————\n",
      "Loading State House Dist 81.csv data...\n",
      " > Found data for 2 counties (1%)\n",
      "Verifying vote totals...\n"
     ]
    },
    {
     "data": {
      "application/vnd.jupyter.widget-view+json": {
       "model_id": "f3ea71ba079a494bbdaa42360c695eeb",
       "version_major": 2,
       "version_minor": 0
      },
      "text/plain": [
       "HBox(children=(HTML(value=''), FloatProgress(value=0.0, max=1.0), HTML(value='')))"
      ]
     },
     "metadata": {},
     "output_type": "display_data"
    },
    {
     "name": "stdout",
     "output_type": "stream",
     "text": [
      "\n",
      "> Vote totals verified — no errors\n",
      "————————————————————————————————————————————————————————————\n",
      "Loading State House Dist 27.csv data...\n",
      " > Found data for 2 counties (1%)\n",
      "Verifying vote totals...\n"
     ]
    },
    {
     "data": {
      "application/vnd.jupyter.widget-view+json": {
       "model_id": "8ea5f8b84f1c4d1485782156c133fd64",
       "version_major": 2,
       "version_minor": 0
      },
      "text/plain": [
       "HBox(children=(HTML(value=''), FloatProgress(value=0.0, max=1.0), HTML(value='')))"
      ]
     },
     "metadata": {},
     "output_type": "display_data"
    },
    {
     "name": "stdout",
     "output_type": "stream",
     "text": [
      "\n",
      "> Vote totals verified — no errors\n",
      "————————————————————————————————————————————————————————————\n",
      "Loading State House Dist 43.csv data...\n",
      " > Found data for 1 counties (1%)\n",
      "Verifying vote totals...\n"
     ]
    },
    {
     "data": {
      "application/vnd.jupyter.widget-view+json": {
       "model_id": "86a50f4724f440448ee63f6cd57c1dbd",
       "version_major": 2,
       "version_minor": 0
      },
      "text/plain": [
       "HBox(children=(HTML(value=''), FloatProgress(value=0.0, max=2.0), HTML(value='')))"
      ]
     },
     "metadata": {},
     "output_type": "display_data"
    },
    {
     "name": "stdout",
     "output_type": "stream",
     "text": [
      "\n",
      "> Vote totals verified — no errors\n",
      "————————————————————————————————————————————————————————————\n",
      "Loading State Senate Dist 25.csv data...\n",
      " > Found data for 9 counties (6%)\n",
      "Verifying vote totals...\n"
     ]
    },
    {
     "data": {
      "application/vnd.jupyter.widget-view+json": {
       "model_id": "9332c5100c8e48dc812e06ac5c3f226e",
       "version_major": 2,
       "version_minor": 0
      },
      "text/plain": [
       "HBox(children=(HTML(value=''), FloatProgress(value=0.0, max=2.0), HTML(value='')))"
      ]
     },
     "metadata": {},
     "output_type": "display_data"
    },
    {
     "name": "stdout",
     "output_type": "stream",
     "text": [
      "\n",
      "> Vote totals verified — no errors\n",
      "————————————————————————————————————————————————————————————\n",
      "Loading State House Dist 15.csv data...\n",
      " > Found data for 1 counties (1%)\n",
      "Verifying vote totals...\n"
     ]
    },
    {
     "data": {
      "application/vnd.jupyter.widget-view+json": {
       "model_id": "dad7a885ef65436cbaf66a0ad651c289",
       "version_major": 2,
       "version_minor": 0
      },
      "text/plain": [
       "HBox(children=(HTML(value=''), FloatProgress(value=0.0, max=1.0), HTML(value='')))"
      ]
     },
     "metadata": {},
     "output_type": "display_data"
    },
    {
     "name": "stdout",
     "output_type": "stream",
     "text": [
      "\n",
      "> Vote totals verified — no errors\n",
      "————————————————————————————————————————————————————————————\n",
      "Loading State House Dist 120.csv data...\n",
      " > Found data for 5 counties (3%)\n",
      "Verifying vote totals...\n"
     ]
    },
    {
     "data": {
      "application/vnd.jupyter.widget-view+json": {
       "model_id": "bf594dd4b7c24c19bfe0c2d19f6c6141",
       "version_major": 2,
       "version_minor": 0
      },
      "text/plain": [
       "HBox(children=(HTML(value=''), FloatProgress(value=0.0, max=1.0), HTML(value='')))"
      ]
     },
     "metadata": {},
     "output_type": "display_data"
    },
    {
     "name": "stdout",
     "output_type": "stream",
     "text": [
      "\n",
      "> Vote totals verified — no errors\n",
      "————————————————————————————————————————————————————————————\n",
      "Loading State House Dist 9.csv data...\n",
      " > Found data for 3 counties (2%)\n",
      "Verifying vote totals...\n"
     ]
    },
    {
     "data": {
      "application/vnd.jupyter.widget-view+json": {
       "model_id": "7aae7628439c4f7c808bbf9664c555c1",
       "version_major": 2,
       "version_minor": 0
      },
      "text/plain": [
       "HBox(children=(HTML(value=''), FloatProgress(value=0.0, max=2.0), HTML(value='')))"
      ]
     },
     "metadata": {},
     "output_type": "display_data"
    },
    {
     "name": "stdout",
     "output_type": "stream",
     "text": [
      "\n",
      "> Vote totals verified — no errors\n",
      "————————————————————————————————————————————————————————————\n",
      "Loading County Commission Dist 2 Seat B.csv data...\n",
      " > Found data for 1 counties (1%)\n",
      "Verifying vote totals...\n"
     ]
    },
    {
     "data": {
      "application/vnd.jupyter.widget-view+json": {
       "model_id": "b2ffc05d92034157b7e24707d1e0b1a4",
       "version_major": 2,
       "version_minor": 0
      },
      "text/plain": [
       "HBox(children=(HTML(value=''), FloatProgress(value=0.0, max=2.0), HTML(value='')))"
      ]
     },
     "metadata": {},
     "output_type": "display_data"
    },
    {
     "name": "stdout",
     "output_type": "stream",
     "text": [
      "\n",
      "> Vote totals verified — no errors\n",
      "————————————————————————————————————————————————————————————\n",
      "Loading Board of Education Chair Post 1.csv data...\n",
      " > Found data for 1 counties (1%)\n",
      "Verifying vote totals...\n"
     ]
    },
    {
     "data": {
      "application/vnd.jupyter.widget-view+json": {
       "model_id": "efc4ada4b1264ac08d3034cfc3c91f21",
       "version_major": 2,
       "version_minor": 0
      },
      "text/plain": [
       "HBox(children=(HTML(value=''), FloatProgress(value=0.0, max=1.0), HTML(value='')))"
      ]
     },
     "metadata": {},
     "output_type": "display_data"
    },
    {
     "name": "stdout",
     "output_type": "stream",
     "text": [
      "\n",
      "> Vote totals verified — no errors\n",
      "————————————————————————————————————————————————————————————\n",
      "Loading State House Dist 146.csv data...\n",
      " > Found data for 1 counties (1%)\n",
      "Verifying vote totals...\n"
     ]
    },
    {
     "data": {
      "application/vnd.jupyter.widget-view+json": {
       "model_id": "005ddb9614904204b7fcc926bf3a5504",
       "version_major": 2,
       "version_minor": 0
      },
      "text/plain": [
       "HBox(children=(HTML(value=''), FloatProgress(value=0.0, max=1.0), HTML(value='')))"
      ]
     },
     "metadata": {},
     "output_type": "display_data"
    },
    {
     "name": "stdout",
     "output_type": "stream",
     "text": [
      "\n",
      "> Vote totals verified — no errors\n",
      "————————————————————————————————————————————————————————————\n",
      "Loading State House Dist 116.csv data...\n",
      " > Found data for 1 counties (1%)\n",
      "Verifying vote totals...\n"
     ]
    },
    {
     "data": {
      "application/vnd.jupyter.widget-view+json": {
       "model_id": "3855569acca6457aa2da98b70ab68beb",
       "version_major": 2,
       "version_minor": 0
      },
      "text/plain": [
       "HBox(children=(HTML(value=''), FloatProgress(value=0.0, max=1.0), HTML(value='')))"
      ]
     },
     "metadata": {},
     "output_type": "display_data"
    },
    {
     "name": "stdout",
     "output_type": "stream",
     "text": [
      "\n",
      "> Vote totals verified — no errors\n",
      "————————————————————————————————————————————————————————————\n",
      "Loading Soil and Water - Hall County.csv data...\n",
      " > Found data for 1 counties (1%)\n",
      "Verifying vote totals...\n"
     ]
    },
    {
     "data": {
      "application/vnd.jupyter.widget-view+json": {
       "model_id": "e3883f1bd0bc477981a03eabf5174dc7",
       "version_major": 2,
       "version_minor": 0
      },
      "text/plain": [
       "HBox(children=(HTML(value=''), FloatProgress(value=0.0, max=3.0), HTML(value='')))"
      ]
     },
     "metadata": {},
     "output_type": "display_data"
    },
    {
     "name": "stdout",
     "output_type": "stream",
     "text": [
      "\n",
      "> Vote totals verified — no errors\n",
      "————————————————————————————————————————————————————————————\n",
      "Loading State House Dist 124.csv data...\n",
      " > Found data for 1 counties (1%)\n",
      "Verifying vote totals...\n"
     ]
    },
    {
     "data": {
      "application/vnd.jupyter.widget-view+json": {
       "model_id": "a9538c647c644043bd2dd47597bd459e",
       "version_major": 2,
       "version_minor": 0
      },
      "text/plain": [
       "HBox(children=(HTML(value=''), FloatProgress(value=0.0, max=1.0), HTML(value='')))"
      ]
     },
     "metadata": {},
     "output_type": "display_data"
    },
    {
     "name": "stdout",
     "output_type": "stream",
     "text": [
      "\n",
      "> Vote totals verified — no errors\n",
      "————————————————————————————————————————————————————————————\n",
      "Loading County Commission Dist 4 - Special.csv data...\n",
      " > Found data for 1 counties (1%)\n",
      "Verifying vote totals...\n"
     ]
    },
    {
     "data": {
      "application/vnd.jupyter.widget-view+json": {
       "model_id": "53faee6a5a28464fb87198034febccd6",
       "version_major": 2,
       "version_minor": 0
      },
      "text/plain": [
       "HBox(children=(HTML(value=''), FloatProgress(value=0.0, max=2.0), HTML(value='')))"
      ]
     },
     "metadata": {},
     "output_type": "display_data"
    },
    {
     "name": "stdout",
     "output_type": "stream",
     "text": [
      "\n",
      "> Vote totals verified — no errors\n",
      "————————————————————————————————————————————————————————————\n",
      "Loading State House Dist 152.csv data...\n",
      " > Found data for 3 counties (2%)\n",
      "Verifying vote totals...\n"
     ]
    },
    {
     "data": {
      "application/vnd.jupyter.widget-view+json": {
       "model_id": "c187e98248d24b229ae887c50c7a35a7",
       "version_major": 2,
       "version_minor": 0
      },
      "text/plain": [
       "HBox(children=(HTML(value=''), FloatProgress(value=0.0, max=1.0), HTML(value='')))"
      ]
     },
     "metadata": {},
     "output_type": "display_data"
    },
    {
     "name": "stdout",
     "output_type": "stream",
     "text": [
      "\n",
      "> Vote totals verified — no errors\n",
      "————————————————————————————————————————————————————————————\n",
      "Loading Screven Alcohol Sales by the Drink - Special.csv data...\n",
      " > Found data for 1 counties (1%)\n",
      "Verifying vote totals...\n"
     ]
    },
    {
     "data": {
      "application/vnd.jupyter.widget-view+json": {
       "model_id": "45d0915e0b274594a63fefbd6bd2f4b1",
       "version_major": 2,
       "version_minor": 0
      },
      "text/plain": [
       "HBox(children=(HTML(value=''), FloatProgress(value=0.0, max=2.0), HTML(value='')))"
      ]
     },
     "metadata": {},
     "output_type": "display_data"
    },
    {
     "name": "stdout",
     "output_type": "stream",
     "text": [
      "\n",
      "> Vote totals verified — no errors\n",
      "————————————————————————————————————————————————————————————\n",
      "Loading Soil and Water - Middle South Georgia.csv data...\n",
      " > Found data for 2 counties (1%)\n",
      "Verifying vote totals...\n"
     ]
    },
    {
     "data": {
      "application/vnd.jupyter.widget-view+json": {
       "model_id": "2647c007904d4fd5a659a5bc63a2ed1b",
       "version_major": 2,
       "version_minor": 0
      },
      "text/plain": [
       "HBox(children=(HTML(value=''), FloatProgress(value=0.0, max=2.0), HTML(value='')))"
      ]
     },
     "metadata": {},
     "output_type": "display_data"
    },
    {
     "name": "stdout",
     "output_type": "stream",
     "text": [
      "\n",
      "> Vote totals verified — no errors\n",
      "————————————————————————————————————————————————————————————\n",
      "Loading State House Dist 64.csv data...\n",
      " > Found data for 2 counties (1%)\n",
      "Verifying vote totals...\n"
     ]
    },
    {
     "data": {
      "application/vnd.jupyter.widget-view+json": {
       "model_id": "d2f01fb2cfbc48db9899b6a44f1f29c5",
       "version_major": 2,
       "version_minor": 0
      },
      "text/plain": [
       "HBox(children=(HTML(value=''), FloatProgress(value=0.0, max=1.0), HTML(value='')))"
      ]
     },
     "metadata": {},
     "output_type": "display_data"
    },
    {
     "name": "stdout",
     "output_type": "stream",
     "text": [
      "\n",
      "> Vote totals verified — no errors\n",
      "————————————————————————————————————————————————————————————\n",
      "Loading State House Dist 17.csv data...\n",
      " > Found data for 1 counties (1%)\n",
      "Verifying vote totals...\n"
     ]
    },
    {
     "data": {
      "application/vnd.jupyter.widget-view+json": {
       "model_id": "c493e46148a042ecae1c9120cdef2d99",
       "version_major": 2,
       "version_minor": 0
      },
      "text/plain": [
       "HBox(children=(HTML(value=''), FloatProgress(value=0.0, max=2.0), HTML(value='')))"
      ]
     },
     "metadata": {},
     "output_type": "display_data"
    },
    {
     "name": "stdout",
     "output_type": "stream",
     "text": [
      "\n",
      "> Vote totals verified — no errors\n",
      "————————————————————————————————————————————————————————————\n",
      "Loading Dist Attorney - Ocmulgee.csv data...\n",
      " > Found data for 8 counties (5%)\n",
      "Verifying vote totals...\n"
     ]
    },
    {
     "data": {
      "application/vnd.jupyter.widget-view+json": {
       "model_id": "a0e1c4a0b8b54620b7039e2f6182dc4c",
       "version_major": 2,
       "version_minor": 0
      },
      "text/plain": [
       "HBox(children=(HTML(value=''), FloatProgress(value=0.0, max=1.0), HTML(value='')))"
      ]
     },
     "metadata": {},
     "output_type": "display_data"
    },
    {
     "name": "stdout",
     "output_type": "stream",
     "text": [
      "\n",
      "> Vote totals verified — no errors\n",
      "————————————————————————————————————————————————————————————\n",
      "Loading Solicitor General.csv data...\n",
      " > Found data for 30 counties (19%)\n",
      "Verifying vote totals...\n"
     ]
    },
    {
     "data": {
      "application/vnd.jupyter.widget-view+json": {
       "model_id": "20c426b019204879b32720d24c5fb73f",
       "version_major": 2,
       "version_minor": 0
      },
      "text/plain": [
       "HBox(children=(HTML(value=''), FloatProgress(value=0.0, max=31.0), HTML(value='')))"
      ]
     },
     "metadata": {},
     "output_type": "display_data"
    },
    {
     "name": "stdout",
     "output_type": "stream",
     "text": [
      "\n",
      ">>> Vote totals verified — 7e-05 error rate\n",
      "————————————————————————————————————————————————————————————\n",
      "Loading State House Dist 179.csv data...\n",
      " > Found data for 1 counties (1%)\n",
      "Verifying vote totals...\n"
     ]
    },
    {
     "data": {
      "application/vnd.jupyter.widget-view+json": {
       "model_id": "16ca01e9fba04f2cb8e9d270867f09a2",
       "version_major": 2,
       "version_minor": 0
      },
      "text/plain": [
       "HBox(children=(HTML(value=''), FloatProgress(value=0.0, max=2.0), HTML(value='')))"
      ]
     },
     "metadata": {},
     "output_type": "display_data"
    },
    {
     "name": "stdout",
     "output_type": "stream",
     "text": [
      "\n",
      "> Vote totals verified — no errors\n",
      "————————————————————————————————————————————————————————————\n",
      "Loading US House Dist 6.csv data...\n",
      " > Found data for 3 counties (2%)\n",
      "Verifying vote totals...\n"
     ]
    },
    {
     "data": {
      "application/vnd.jupyter.widget-view+json": {
       "model_id": "337cd49da58c4c7f874e5009afb8c4de",
       "version_major": 2,
       "version_minor": 0
      },
      "text/plain": [
       "HBox(children=(HTML(value=''), FloatProgress(value=0.0, max=2.0), HTML(value='')))"
      ]
     },
     "metadata": {},
     "output_type": "display_data"
    },
    {
     "name": "stdout",
     "output_type": "stream",
     "text": [
      "\n",
      "> Vote totals verified — no errors\n",
      "————————————————————————————————————————————————————————————\n",
      "Loading Chief Magistrate.csv data...\n",
      " > Found data for 40 counties (25%)\n",
      "Verifying vote totals...\n"
     ]
    },
    {
     "data": {
      "application/vnd.jupyter.widget-view+json": {
       "model_id": "acf0c980237c45b8956bb3c560188d65",
       "version_major": 2,
       "version_minor": 0
      },
      "text/plain": [
       "HBox(children=(HTML(value=''), FloatProgress(value=0.0, max=44.0), HTML(value='')))"
      ]
     },
     "metadata": {},
     "output_type": "display_data"
    },
    {
     "name": "stdout",
     "output_type": "stream",
     "text": [
      "\n",
      ">>> Vote totals verified — 0.00022 error rate\n",
      "————————————————————————————————————————————————————————————\n",
      "Loading County Commission Mill Dist.csv data...\n",
      " > Found data for 1 counties (1%)\n",
      "Verifying vote totals...\n"
     ]
    },
    {
     "data": {
      "application/vnd.jupyter.widget-view+json": {
       "model_id": "ffbc998e1e2e4116bc80f49a96ce49db",
       "version_major": 2,
       "version_minor": 0
      },
      "text/plain": [
       "HBox(children=(HTML(value=''), FloatProgress(value=0.0, max=1.0), HTML(value='')))"
      ]
     },
     "metadata": {},
     "output_type": "display_data"
    },
    {
     "name": "stdout",
     "output_type": "stream",
     "text": [
      "\n",
      "> Vote totals verified — no errors\n",
      "————————————————————————————————————————————————————————————\n",
      "Loading Good Hope City Council Post 4.csv data...\n",
      " > Found data for 1 counties (1%)\n",
      "Verifying vote totals...\n"
     ]
    },
    {
     "data": {
      "application/vnd.jupyter.widget-view+json": {
       "model_id": "8a66e7dffcf444c7ad2dd53e0b36db41",
       "version_major": 2,
       "version_minor": 0
      },
      "text/plain": [
       "HBox(children=(HTML(value=''), FloatProgress(value=0.0, max=2.0), HTML(value='')))"
      ]
     },
     "metadata": {},
     "output_type": "display_data"
    },
    {
     "name": "stdout",
     "output_type": "stream",
     "text": [
      "\n",
      "> Vote totals verified — no errors\n",
      "————————————————————————————————————————————————————————————\n",
      "Loading State House Dist 10.csv data...\n",
      " > Found data for 2 counties (1%)\n",
      "Verifying vote totals...\n"
     ]
    },
    {
     "data": {
      "application/vnd.jupyter.widget-view+json": {
       "model_id": "108ccd20dd2d496ca9ac639f22d72f9c",
       "version_major": 2,
       "version_minor": 0
      },
      "text/plain": [
       "HBox(children=(HTML(value=''), FloatProgress(value=0.0, max=2.0), HTML(value='')))"
      ]
     },
     "metadata": {},
     "output_type": "display_data"
    },
    {
     "name": "stdout",
     "output_type": "stream",
     "text": [
      "\n",
      "> Vote totals verified — no errors\n",
      "————————————————————————————————————————————————————————————\n",
      "Loading State House Dist 39.csv data...\n",
      " > Found data for 1 counties (1%)\n",
      "Verifying vote totals...\n"
     ]
    },
    {
     "data": {
      "application/vnd.jupyter.widget-view+json": {
       "model_id": "34a1be61a663402ab6975056699fb192",
       "version_major": 2,
       "version_minor": 0
      },
      "text/plain": [
       "HBox(children=(HTML(value=''), FloatProgress(value=0.0, max=2.0), HTML(value='')))"
      ]
     },
     "metadata": {},
     "output_type": "display_data"
    },
    {
     "name": "stdout",
     "output_type": "stream",
     "text": [
      "\n",
      "> Vote totals verified — no errors\n",
      "————————————————————————————————————————————————————————————\n",
      "Loading State House Dist 105.csv data...\n",
      " > Found data for 1 counties (1%)\n",
      "Verifying vote totals...\n"
     ]
    },
    {
     "data": {
      "application/vnd.jupyter.widget-view+json": {
       "model_id": "7de0266b9c65411a98fc0bf896191c47",
       "version_major": 2,
       "version_minor": 0
      },
      "text/plain": [
       "HBox(children=(HTML(value=''), FloatProgress(value=0.0, max=2.0), HTML(value='')))"
      ]
     },
     "metadata": {},
     "output_type": "display_data"
    },
    {
     "name": "stdout",
     "output_type": "stream",
     "text": [
      "\n",
      "> Vote totals verified — no errors\n",
      "————————————————————————————————————————————————————————————\n",
      "Loading State House Dist 40.csv data...\n",
      " > Found data for 2 counties (1%)\n",
      "Verifying vote totals...\n"
     ]
    },
    {
     "data": {
      "application/vnd.jupyter.widget-view+json": {
       "model_id": "e4e4136486cf40788650e5c0c95bcd0c",
       "version_major": 2,
       "version_minor": 0
      },
      "text/plain": [
       "HBox(children=(HTML(value=''), FloatProgress(value=0.0, max=2.0), HTML(value='')))"
      ]
     },
     "metadata": {},
     "output_type": "display_data"
    },
    {
     "name": "stdout",
     "output_type": "stream",
     "text": [
      "\n",
      "> Vote totals verified — no errors\n",
      "————————————————————————————————————————————————————————————\n",
      "Loading State Senate Dist 28.csv data...\n",
      " > Found data for 5 counties (3%)\n",
      "Verifying vote totals...\n"
     ]
    },
    {
     "data": {
      "application/vnd.jupyter.widget-view+json": {
       "model_id": "5c309f8fb33049deb3edc9eeeb179094",
       "version_major": 2,
       "version_minor": 0
      },
      "text/plain": [
       "HBox(children=(HTML(value=''), FloatProgress(value=0.0, max=1.0), HTML(value='')))"
      ]
     },
     "metadata": {},
     "output_type": "display_data"
    },
    {
     "name": "stdout",
     "output_type": "stream",
     "text": [
      "\n",
      "> Vote totals verified — no errors\n",
      "————————————————————————————————————————————————————————————\n",
      "Loading Probate Judge.csv data...\n",
      " > Found data for 55 counties (35%)\n",
      "Verifying vote totals...\n"
     ]
    },
    {
     "data": {
      "application/vnd.jupyter.widget-view+json": {
       "model_id": "6c5c133aa7b946ea87eadd7db9029717",
       "version_major": 2,
       "version_minor": 0
      },
      "text/plain": [
       "HBox(children=(HTML(value=''), FloatProgress(value=0.0, max=61.0), HTML(value='')))"
      ]
     },
     "metadata": {},
     "output_type": "display_data"
    },
    {
     "name": "stdout",
     "output_type": "stream",
     "text": [
      "\n",
      ">>> Vote totals verified — 0.00012 error rate\n",
      "————————————————————————————————————————————————————————————\n",
      "Loading Board of Education Post 5.csv data...\n",
      " > Found data for 2 counties (1%)\n",
      "Verifying vote totals...\n"
     ]
    },
    {
     "data": {
      "application/vnd.jupyter.widget-view+json": {
       "model_id": "f93d5171be6f41f2ba01f008ce447d53",
       "version_major": 2,
       "version_minor": 0
      },
      "text/plain": [
       "HBox(children=(HTML(value=''), FloatProgress(value=0.0, max=3.0), HTML(value='')))"
      ]
     },
     "metadata": {},
     "output_type": "display_data"
    },
    {
     "name": "stdout",
     "output_type": "stream",
     "text": [
      "\n",
      "> Vote totals verified — no errors\n",
      "————————————————————————————————————————————————————————————\n",
      "Loading County Commission Dist 1 Post 2.csv data...\n",
      " > Found data for 1 counties (1%)\n",
      "Verifying vote totals...\n"
     ]
    },
    {
     "data": {
      "application/vnd.jupyter.widget-view+json": {
       "model_id": "3ce3b05dcf7645b98430c156919d7eb9",
       "version_major": 2,
       "version_minor": 0
      },
      "text/plain": [
       "HBox(children=(HTML(value=''), FloatProgress(value=0.0, max=1.0), HTML(value='')))"
      ]
     },
     "metadata": {},
     "output_type": "display_data"
    },
    {
     "name": "stdout",
     "output_type": "stream",
     "text": [
      "\n",
      "> Vote totals verified — no errors\n",
      "————————————————————————————————————————————————————————————\n",
      "Loading State House Dist 41.csv data...\n",
      " > Found data for 1 counties (1%)\n",
      "Verifying vote totals...\n"
     ]
    },
    {
     "data": {
      "application/vnd.jupyter.widget-view+json": {
       "model_id": "c7e682102e3646f2af6c4d74c5ade941",
       "version_major": 2,
       "version_minor": 0
      },
      "text/plain": [
       "HBox(children=(HTML(value=''), FloatProgress(value=0.0, max=2.0), HTML(value='')))"
      ]
     },
     "metadata": {},
     "output_type": "display_data"
    },
    {
     "name": "stdout",
     "output_type": "stream",
     "text": [
      "\n",
      "> Vote totals verified — no errors\n",
      "————————————————————————————————————————————————————————————\n",
      "Loading South Jackson Fire Advisory Board Post 5.csv data...\n",
      " > Found data for 1 counties (1%)\n",
      "Verifying vote totals...\n"
     ]
    },
    {
     "data": {
      "application/vnd.jupyter.widget-view+json": {
       "model_id": "e73d391724b24f009455e57ab287741e",
       "version_major": 2,
       "version_minor": 0
      },
      "text/plain": [
       "HBox(children=(HTML(value=''), FloatProgress(value=0.0, max=1.0), HTML(value='')))"
      ]
     },
     "metadata": {},
     "output_type": "display_data"
    },
    {
     "name": "stdout",
     "output_type": "stream",
     "text": [
      "\n",
      "> Vote totals verified — no errors\n",
      "————————————————————————————————————————————————————————————\n",
      "Loading State Senate Dist 43.csv data...\n",
      " > Found data for 3 counties (2%)\n",
      "Verifying vote totals...\n"
     ]
    },
    {
     "data": {
      "application/vnd.jupyter.widget-view+json": {
       "model_id": "c05b2312639e461590e4e7f0f63816db",
       "version_major": 2,
       "version_minor": 0
      },
      "text/plain": [
       "HBox(children=(HTML(value=''), FloatProgress(value=0.0, max=2.0), HTML(value='')))"
      ]
     },
     "metadata": {},
     "output_type": "display_data"
    },
    {
     "name": "stdout",
     "output_type": "stream",
     "text": [
      "\n",
      "> Vote totals verified — no errors\n",
      "————————————————————————————————————————————————————————————\n",
      "Loading Soil and Water - Oconee River.csv data...\n",
      " > Found data for 2 counties (1%)\n",
      "Verifying vote totals...\n"
     ]
    },
    {
     "data": {
      "application/vnd.jupyter.widget-view+json": {
       "model_id": "2e1da4be79464bd4a21a642c079cd6f1",
       "version_major": 2,
       "version_minor": 0
      },
      "text/plain": [
       "HBox(children=(HTML(value=''), FloatProgress(value=0.0, max=2.0), HTML(value='')))"
      ]
     },
     "metadata": {},
     "output_type": "display_data"
    },
    {
     "name": "stdout",
     "output_type": "stream",
     "text": [
      "\n",
      "> Vote totals verified — no errors\n",
      "————————————————————————————————————————————————————————————\n",
      "Loading Dist Attorney - Coweta.csv data...\n",
      " > Found data for 5 counties (3%)\n",
      "Verifying vote totals...\n"
     ]
    },
    {
     "data": {
      "application/vnd.jupyter.widget-view+json": {
       "model_id": "c709620cf5f24146a76e7e5a5ba537ec",
       "version_major": 2,
       "version_minor": 0
      },
      "text/plain": [
       "HBox(children=(HTML(value=''), FloatProgress(value=0.0, max=1.0), HTML(value='')))"
      ]
     },
     "metadata": {},
     "output_type": "display_data"
    },
    {
     "name": "stdout",
     "output_type": "stream",
     "text": [
      "\n",
      "> Vote totals verified — no errors\n",
      "————————————————————————————————————————————————————————————\n",
      "Loading County Commission Dist 4.csv data...\n",
      " > Found data for 63 counties (40%)\n",
      "Verifying vote totals...\n"
     ]
    },
    {
     "data": {
      "application/vnd.jupyter.widget-view+json": {
       "model_id": "a0c2610c51974fac9908de7ffa48598a",
       "version_major": 2,
       "version_minor": 0
      },
      "text/plain": [
       "HBox(children=(HTML(value=''), FloatProgress(value=0.0, max=74.0), HTML(value='')))"
      ]
     },
     "metadata": {},
     "output_type": "display_data"
    },
    {
     "name": "stdout",
     "output_type": "stream",
     "text": [
      "\n",
      ">>> Vote totals verified — 0.00041 error rate\n",
      "————————————————————————————————————————————————————————————\n",
      "Loading Dist Attorney - Towaliga.csv data...\n",
      " > Found data for 3 counties (2%)\n",
      "Verifying vote totals...\n"
     ]
    },
    {
     "data": {
      "application/vnd.jupyter.widget-view+json": {
       "model_id": "ef89a2252db54137a8342aca741cffe5",
       "version_major": 2,
       "version_minor": 0
      },
      "text/plain": [
       "HBox(children=(HTML(value=''), FloatProgress(value=0.0, max=1.0), HTML(value='')))"
      ]
     },
     "metadata": {},
     "output_type": "display_data"
    },
    {
     "name": "stdout",
     "output_type": "stream",
     "text": [
      "\n",
      "> Vote totals verified — no errors\n",
      "————————————————————————————————————————————————————————————\n",
      "Loading State House Dist 85.csv data...\n",
      " > Found data for 1 counties (1%)\n",
      "Verifying vote totals...\n"
     ]
    },
    {
     "data": {
      "application/vnd.jupyter.widget-view+json": {
       "model_id": "acc294dc71994d59be70c765523a22c3",
       "version_major": 2,
       "version_minor": 0
      },
      "text/plain": [
       "HBox(children=(HTML(value=''), FloatProgress(value=0.0, max=1.0), HTML(value='')))"
      ]
     },
     "metadata": {},
     "output_type": "display_data"
    },
    {
     "name": "stdout",
     "output_type": "stream",
     "text": [
      "\n",
      "> Vote totals verified — no errors\n",
      "————————————————————————————————————————————————————————————\n",
      "Loading Dallas Mayor - Special.csv data...\n",
      " > Found data for 1 counties (1%)\n",
      "Verifying vote totals...\n"
     ]
    },
    {
     "data": {
      "application/vnd.jupyter.widget-view+json": {
       "model_id": "1a2aa59eb8e14810b8b2e86c0f2ac3e6",
       "version_major": 2,
       "version_minor": 0
      },
      "text/plain": [
       "HBox(children=(HTML(value=''), FloatProgress(value=0.0, max=2.0), HTML(value='')))"
      ]
     },
     "metadata": {},
     "output_type": "display_data"
    },
    {
     "name": "stdout",
     "output_type": "stream",
     "text": [
      "\n",
      "> Vote totals verified — no errors\n",
      "————————————————————————————————————————————————————————————\n",
      "Loading Soil and Water - West Georgia.csv data...\n",
      " > Found data for 2 counties (1%)\n",
      "Verifying vote totals...\n"
     ]
    },
    {
     "data": {
      "application/vnd.jupyter.widget-view+json": {
       "model_id": "39bf137d050e4a64b00136eaa9b47a3d",
       "version_major": 2,
       "version_minor": 0
      },
      "text/plain": [
       "HBox(children=(HTML(value=''), FloatProgress(value=0.0, max=2.0), HTML(value='')))"
      ]
     },
     "metadata": {},
     "output_type": "display_data"
    },
    {
     "name": "stdout",
     "output_type": "stream",
     "text": [
      "\n",
      "> Vote totals verified — no errors\n",
      "————————————————————————————————————————————————————————————\n",
      "Loading Soil and Water - Warren County.csv data...\n",
      " > Found data for 1 counties (1%)\n",
      "Verifying vote totals...\n"
     ]
    },
    {
     "data": {
      "application/vnd.jupyter.widget-view+json": {
       "model_id": "d4ce23d582cb492ca73479ea4374e197",
       "version_major": 2,
       "version_minor": 0
      },
      "text/plain": [
       "HBox(children=(HTML(value=''), FloatProgress(value=0.0, max=1.0), HTML(value='')))"
      ]
     },
     "metadata": {},
     "output_type": "display_data"
    },
    {
     "name": "stdout",
     "output_type": "stream",
     "text": [
      "\n",
      "> Vote totals verified — no errors\n",
      "————————————————————————————————————————————————————————————\n",
      "Loading West Jackson Fire Advisory Board Post 5.csv data...\n",
      " > Found data for 1 counties (1%)\n",
      "Verifying vote totals...\n"
     ]
    },
    {
     "data": {
      "application/vnd.jupyter.widget-view+json": {
       "model_id": "84c253d381814888ada0c64cb96e0b83",
       "version_major": 2,
       "version_minor": 0
      },
      "text/plain": [
       "HBox(children=(HTML(value=''), FloatProgress(value=0.0, max=1.0), HTML(value='')))"
      ]
     },
     "metadata": {},
     "output_type": "display_data"
    },
    {
     "name": "stdout",
     "output_type": "stream",
     "text": [
      "\n",
      "> Vote totals verified — no errors\n",
      "————————————————————————————————————————————————————————————\n",
      "Loading State House Dist 13.csv data...\n",
      " > Found data for 1 counties (1%)\n",
      "Verifying vote totals...\n"
     ]
    },
    {
     "data": {
      "application/vnd.jupyter.widget-view+json": {
       "model_id": "a3bb95787e8a46a79d0ec093d3e5e7b9",
       "version_major": 2,
       "version_minor": 0
      },
      "text/plain": [
       "HBox(children=(HTML(value=''), FloatProgress(value=0.0, max=1.0), HTML(value='')))"
      ]
     },
     "metadata": {},
     "output_type": "display_data"
    },
    {
     "name": "stdout",
     "output_type": "stream",
     "text": [
      "\n",
      "> Vote totals verified — no errors\n",
      "————————————————————————————————————————————————————————————\n",
      "Loading State House Dist 94.csv data...\n",
      " > Found data for 2 counties (1%)\n",
      "Verifying vote totals...\n"
     ]
    },
    {
     "data": {
      "application/vnd.jupyter.widget-view+json": {
       "model_id": "66a85a41477146f9b3e8fc3d6efff135",
       "version_major": 2,
       "version_minor": 0
      },
      "text/plain": [
       "HBox(children=(HTML(value=''), FloatProgress(value=0.0, max=1.0), HTML(value='')))"
      ]
     },
     "metadata": {},
     "output_type": "display_data"
    },
    {
     "name": "stdout",
     "output_type": "stream",
     "text": [
      "\n",
      "> Vote totals verified — no errors\n",
      "————————————————————————————————————————————————————————————\n",
      "Loading State House Dist 134.csv data...\n",
      " > Found data for 2 counties (1%)\n",
      "Verifying vote totals...\n"
     ]
    },
    {
     "data": {
      "application/vnd.jupyter.widget-view+json": {
       "model_id": "e75ea9a348b843a19fe8245c0d3d42b4",
       "version_major": 2,
       "version_minor": 0
      },
      "text/plain": [
       "HBox(children=(HTML(value=''), FloatProgress(value=0.0, max=2.0), HTML(value='')))"
      ]
     },
     "metadata": {},
     "output_type": "display_data"
    },
    {
     "name": "stdout",
     "output_type": "stream",
     "text": [
      "\n",
      "> Vote totals verified — no errors\n",
      "————————————————————————————————————————————————————————————\n",
      "Loading Clerk of Superior Court.csv data...\n",
      " > Found data for 158 counties (99%)\n",
      "   > Missing: ['Tattnall']\n",
      "Verifying vote totals...\n"
     ]
    },
    {
     "data": {
      "application/vnd.jupyter.widget-view+json": {
       "model_id": "cdc21946d01340f7a8a837559a74a20e",
       "version_major": 2,
       "version_minor": 0
      },
      "text/plain": [
       "HBox(children=(HTML(value=''), FloatProgress(value=0.0, max=172.0), HTML(value='')))"
      ]
     },
     "metadata": {},
     "output_type": "display_data"
    },
    {
     "name": "stdout",
     "output_type": "stream",
     "text": [
      "\n",
      ">>> Vote totals verified — 0.0001 error rate\n",
      "————————————————————————————————————————————————————————————\n",
      "Loading Dist Attorney - Eastern.csv data...\n",
      " > Found data for 1 counties (1%)\n",
      "Verifying vote totals...\n"
     ]
    },
    {
     "data": {
      "application/vnd.jupyter.widget-view+json": {
       "model_id": "9d93cf2f709245478795c709cd4fbfb8",
       "version_major": 2,
       "version_minor": 0
      },
      "text/plain": [
       "HBox(children=(HTML(value=''), FloatProgress(value=0.0, max=2.0), HTML(value='')))"
      ]
     },
     "metadata": {},
     "output_type": "display_data"
    },
    {
     "name": "stdout",
     "output_type": "stream",
     "text": [
      "\n",
      "> Vote totals verified — no errors\n",
      "————————————————————————————————————————————————————————————\n",
      "Loading Harrisburg Fire Advisory Board Post 8.csv data...\n",
      " > Found data for 1 counties (1%)\n",
      "Verifying vote totals...\n"
     ]
    },
    {
     "data": {
      "application/vnd.jupyter.widget-view+json": {
       "model_id": "e19a57dc877241a99bc792d2805d9fe1",
       "version_major": 2,
       "version_minor": 0
      },
      "text/plain": [
       "HBox(children=(HTML(value=''), FloatProgress(value=0.0, max=1.0), HTML(value='')))"
      ]
     },
     "metadata": {},
     "output_type": "display_data"
    },
    {
     "name": "stdout",
     "output_type": "stream",
     "text": [
      "\n",
      "> Vote totals verified — no errors\n",
      "————————————————————————————————————————————————————————————\n",
      "Loading State House Dist 87.csv data...\n",
      " > Found data for 1 counties (1%)\n",
      "Verifying vote totals...\n"
     ]
    },
    {
     "data": {
      "application/vnd.jupyter.widget-view+json": {
       "model_id": "4473a44b6b7e48c492decf9f4352f563",
       "version_major": 2,
       "version_minor": 0
      },
      "text/plain": [
       "HBox(children=(HTML(value=''), FloatProgress(value=0.0, max=1.0), HTML(value='')))"
      ]
     },
     "metadata": {},
     "output_type": "display_data"
    },
    {
     "name": "stdout",
     "output_type": "stream",
     "text": [
      "\n",
      "> Vote totals verified — no errors\n",
      "————————————————————————————————————————————————————————————\n",
      "Loading State House Dist 3.csv data...\n",
      " > Found data for 1 counties (1%)\n",
      "Verifying vote totals...\n"
     ]
    },
    {
     "data": {
      "application/vnd.jupyter.widget-view+json": {
       "model_id": "36fb5e2c04c14e54a1e93ce034d3ebe8",
       "version_major": 2,
       "version_minor": 0
      },
      "text/plain": [
       "HBox(children=(HTML(value=''), FloatProgress(value=0.0, max=1.0), HTML(value='')))"
      ]
     },
     "metadata": {},
     "output_type": "display_data"
    },
    {
     "name": "stdout",
     "output_type": "stream",
     "text": [
      "\n",
      "> Vote totals verified — no errors\n",
      "————————————————————————————————————————————————————————————\n",
      "Loading State House Dist 2.csv data...\n",
      " > Found data for 3 counties (2%)\n",
      "Verifying vote totals...\n"
     ]
    },
    {
     "data": {
      "application/vnd.jupyter.widget-view+json": {
       "model_id": "9205b60a769246fd9ebec15ff9e5a4ed",
       "version_major": 2,
       "version_minor": 0
      },
      "text/plain": [
       "HBox(children=(HTML(value=''), FloatProgress(value=0.0, max=1.0), HTML(value='')))"
      ]
     },
     "metadata": {},
     "output_type": "display_data"
    },
    {
     "name": "stdout",
     "output_type": "stream",
     "text": [
      "\n",
      "> Vote totals verified — no errors\n",
      "————————————————————————————————————————————————————————————\n",
      "Loading Board of Education Precinct 5.csv data...\n",
      " > Found data for 1 counties (1%)\n",
      "Verifying vote totals...\n"
     ]
    },
    {
     "data": {
      "application/vnd.jupyter.widget-view+json": {
       "model_id": "c6b57d3ac1a94d76b8b6fd15b5431b3f",
       "version_major": 2,
       "version_minor": 0
      },
      "text/plain": [
       "HBox(children=(HTML(value=''), FloatProgress(value=0.0, max=1.0), HTML(value='')))"
      ]
     },
     "metadata": {},
     "output_type": "display_data"
    },
    {
     "name": "stdout",
     "output_type": "stream",
     "text": [
      "\n",
      "> Vote totals verified — no errors\n",
      "————————————————————————————————————————————————————————————\n",
      "Loading State House Dist 114.csv data...\n",
      " > Found data for 4 counties (3%)\n",
      "Verifying vote totals...\n"
     ]
    },
    {
     "data": {
      "application/vnd.jupyter.widget-view+json": {
       "model_id": "9c117946230b43efbc69793f636f2884",
       "version_major": 2,
       "version_minor": 0
      },
      "text/plain": [
       "HBox(children=(HTML(value=''), FloatProgress(value=0.0, max=1.0), HTML(value='')))"
      ]
     },
     "metadata": {},
     "output_type": "display_data"
    },
    {
     "name": "stdout",
     "output_type": "stream",
     "text": [
      "\n",
      "> Vote totals verified — no errors\n",
      "————————————————————————————————————————————————————————————\n",
      "Loading Brd of Education Dist 5.csv data...\n",
      " > Found data for 1 counties (1%)\n",
      "Verifying vote totals...\n"
     ]
    },
    {
     "data": {
      "application/vnd.jupyter.widget-view+json": {
       "model_id": "39258bc307bf4b9b995eadbf2b7acbe3",
       "version_major": 2,
       "version_minor": 0
      },
      "text/plain": [
       "HBox(children=(HTML(value=''), FloatProgress(value=0.0, max=1.0), HTML(value='')))"
      ]
     },
     "metadata": {},
     "output_type": "display_data"
    },
    {
     "name": "stdout",
     "output_type": "stream",
     "text": [
      "\n",
      "> Vote totals verified — no errors\n",
      "————————————————————————————————————————————————————————————\n",
      "Loading Dist Attorney - Ogeechee.csv data...\n",
      " > Found data for 4 counties (3%)\n",
      "Verifying vote totals...\n"
     ]
    },
    {
     "data": {
      "application/vnd.jupyter.widget-view+json": {
       "model_id": "a7f577afe22540269d6c7b17aa1f29fa",
       "version_major": 2,
       "version_minor": 0
      },
      "text/plain": [
       "HBox(children=(HTML(value=''), FloatProgress(value=0.0, max=1.0), HTML(value='')))"
      ]
     },
     "metadata": {},
     "output_type": "display_data"
    },
    {
     "name": "stdout",
     "output_type": "stream",
     "text": [
      "\n",
      "> Vote totals verified — no errors\n",
      "————————————————————————————————————————————————————————————\n",
      "Loading State House Dist 33.csv data...\n",
      " > Found data for 5 counties (3%)\n",
      "Verifying vote totals...\n"
     ]
    },
    {
     "data": {
      "application/vnd.jupyter.widget-view+json": {
       "model_id": "891318dc88bc465ab20f3f9aa1652256",
       "version_major": 2,
       "version_minor": 0
      },
      "text/plain": [
       "HBox(children=(HTML(value=''), FloatProgress(value=0.0, max=2.0), HTML(value='')))"
      ]
     },
     "metadata": {},
     "output_type": "display_data"
    },
    {
     "name": "stdout",
     "output_type": "stream",
     "text": [
      "\n",
      "> Vote totals verified — no errors\n",
      "————————————————————————————————————————————————————————————\n",
      "Loading Homestead Exemption - Special.csv data...\n",
      " > Found data for 1 counties (1%)\n",
      "Verifying vote totals...\n"
     ]
    },
    {
     "data": {
      "application/vnd.jupyter.widget-view+json": {
       "model_id": "4b2a1e45e2e241d698aef377254fbc3e",
       "version_major": 2,
       "version_minor": 0
      },
      "text/plain": [
       "HBox(children=(HTML(value=''), FloatProgress(value=0.0, max=2.0), HTML(value='')))"
      ]
     },
     "metadata": {},
     "output_type": "display_data"
    },
    {
     "name": "stdout",
     "output_type": "stream",
     "text": [
      "\n",
      "> Vote totals verified — no errors\n",
      "————————————————————————————————————————————————————————————\n",
      "Loading State House Dist 112.csv data...\n",
      " > Found data for 2 counties (1%)\n",
      "Verifying vote totals...\n"
     ]
    },
    {
     "data": {
      "application/vnd.jupyter.widget-view+json": {
       "model_id": "6c7d6e19aa9d401ea74225a11046b0d0",
       "version_major": 2,
       "version_minor": 0
      },
      "text/plain": [
       "HBox(children=(HTML(value=''), FloatProgress(value=0.0, max=1.0), HTML(value='')))"
      ]
     },
     "metadata": {},
     "output_type": "display_data"
    },
    {
     "name": "stdout",
     "output_type": "stream",
     "text": [
      "\n",
      "> Vote totals verified — no errors\n",
      "————————————————————————————————————————————————————————————\n",
      "Loading State Senate Dist 52.csv data...\n",
      " > Found data for 4 counties (3%)\n",
      "Verifying vote totals...\n"
     ]
    },
    {
     "data": {
      "application/vnd.jupyter.widget-view+json": {
       "model_id": "5b0ecb8f41a34fc981edf6d1c09cb943",
       "version_major": 2,
       "version_minor": 0
      },
      "text/plain": [
       "HBox(children=(HTML(value=''), FloatProgress(value=0.0, max=2.0), HTML(value='')))"
      ]
     },
     "metadata": {},
     "output_type": "display_data"
    },
    {
     "name": "stdout",
     "output_type": "stream",
     "text": [
      "\n",
      "> Vote totals verified — no errors\n",
      "————————————————————————————————————————————————————————————\n",
      "Loading Sole County Commissioner.csv data...\n",
      " > Found data for 5 counties (3%)\n",
      "Verifying vote totals...\n"
     ]
    },
    {
     "data": {
      "application/vnd.jupyter.widget-view+json": {
       "model_id": "6b4729a758304d96a433c409c914df21",
       "version_major": 2,
       "version_minor": 0
      },
      "text/plain": [
       "HBox(children=(HTML(value=''), FloatProgress(value=0.0, max=6.0), HTML(value='')))"
      ]
     },
     "metadata": {},
     "output_type": "display_data"
    },
    {
     "name": "stdout",
     "output_type": "stream",
     "text": [
      "\n",
      "> Vote totals verified — no errors\n",
      "————————————————————————————————————————————————————————————\n",
      "Loading Dist Attorney - Stone Mountain.csv data...\n",
      " > Found data for 1 counties (1%)\n",
      "Verifying vote totals...\n"
     ]
    },
    {
     "data": {
      "application/vnd.jupyter.widget-view+json": {
       "model_id": "e564c997d8334a4a84829a610635b535",
       "version_major": 2,
       "version_minor": 0
      },
      "text/plain": [
       "HBox(children=(HTML(value=''), FloatProgress(value=0.0, max=1.0), HTML(value='')))"
      ]
     },
     "metadata": {},
     "output_type": "display_data"
    },
    {
     "name": "stdout",
     "output_type": "stream",
     "text": [
      "\n",
      "> Vote totals verified — no errors\n",
      "————————————————————————————————————————————————————————————\n",
      "Loading State House Dist 174.csv data...\n",
      " > Found data for 6 counties (4%)\n",
      "Verifying vote totals...\n"
     ]
    },
    {
     "data": {
      "application/vnd.jupyter.widget-view+json": {
       "model_id": "6c0ee431d30346d6ba57fc1760d1b436",
       "version_major": 2,
       "version_minor": 0
      },
      "text/plain": [
       "HBox(children=(HTML(value=''), FloatProgress(value=0.0, max=1.0), HTML(value='')))"
      ]
     },
     "metadata": {},
     "output_type": "display_data"
    },
    {
     "name": "stdout",
     "output_type": "stream",
     "text": [
      "\n",
      "> Vote totals verified — no errors\n",
      "————————————————————————————————————————————————————————————\n",
      "Loading Alamo City Council - Special.csv data...\n",
      " > Found data for 1 counties (1%)\n",
      "Verifying vote totals...\n"
     ]
    },
    {
     "data": {
      "application/vnd.jupyter.widget-view+json": {
       "model_id": "f65f4bf41f444a888d2e05151e4ed9c9",
       "version_major": 2,
       "version_minor": 0
      },
      "text/plain": [
       "HBox(children=(HTML(value=''), FloatProgress(value=0.0, max=4.0), HTML(value='')))"
      ]
     },
     "metadata": {},
     "output_type": "display_data"
    },
    {
     "name": "stdout",
     "output_type": "stream",
     "text": [
      "\n",
      "> Vote totals verified — no errors\n",
      "————————————————————————————————————————————————————————————\n",
      "Loading State House Dist 163.csv data...\n",
      " > Found data for 1 counties (1%)\n",
      "Verifying vote totals...\n"
     ]
    },
    {
     "data": {
      "application/vnd.jupyter.widget-view+json": {
       "model_id": "317c9e26814a4c088828351e58a1a1b4",
       "version_major": 2,
       "version_minor": 0
      },
      "text/plain": [
       "HBox(children=(HTML(value=''), FloatProgress(value=0.0, max=1.0), HTML(value='')))"
      ]
     },
     "metadata": {},
     "output_type": "display_data"
    },
    {
     "name": "stdout",
     "output_type": "stream",
     "text": [
      "\n",
      "> Vote totals verified — no errors\n",
      "————————————————————————————————————————————————————————————\n",
      "Loading State House Dist 169.csv data...\n",
      " > Found data for 3 counties (2%)\n",
      "Verifying vote totals...\n"
     ]
    },
    {
     "data": {
      "application/vnd.jupyter.widget-view+json": {
       "model_id": "8c132dc560484dc78f01d92e8ef9d4cc",
       "version_major": 2,
       "version_minor": 0
      },
      "text/plain": [
       "HBox(children=(HTML(value=''), FloatProgress(value=0.0, max=2.0), HTML(value='')))"
      ]
     },
     "metadata": {},
     "output_type": "display_data"
    },
    {
     "name": "stdout",
     "output_type": "stream",
     "text": [
      "\n",
      "> Vote totals verified — no errors\n",
      "————————————————————————————————————————————————————————————\n",
      "Loading County Commissioner Dist 4.csv data...\n",
      " > Found data for 2 counties (1%)\n",
      "Verifying vote totals...\n"
     ]
    },
    {
     "data": {
      "application/vnd.jupyter.widget-view+json": {
       "model_id": "f686faaf85294e7897ac71b4eb6ccb6e",
       "version_major": 2,
       "version_minor": 0
      },
      "text/plain": [
       "HBox(children=(HTML(value=''), FloatProgress(value=0.0, max=2.0), HTML(value='')))"
      ]
     },
     "metadata": {},
     "output_type": "display_data"
    },
    {
     "name": "stdout",
     "output_type": "stream",
     "text": [
      "\n",
      "> Vote totals verified — no errors\n",
      "————————————————————————————————————————————————————————————\n",
      "Loading State House Dist 154.csv data...\n",
      " > Found data for 4 counties (3%)\n",
      "Verifying vote totals...\n"
     ]
    },
    {
     "data": {
      "application/vnd.jupyter.widget-view+json": {
       "model_id": "e0a4a54b9c064db8b9873e5aef23ad06",
       "version_major": 2,
       "version_minor": 0
      },
      "text/plain": [
       "HBox(children=(HTML(value=''), FloatProgress(value=0.0, max=1.0), HTML(value='')))"
      ]
     },
     "metadata": {},
     "output_type": "display_data"
    },
    {
     "name": "stdout",
     "output_type": "stream",
     "text": [
      "\n",
      "> Vote totals verified — no errors\n",
      "————————————————————————————————————————————————————————————\n",
      "Loading Co Commission Chair.csv data...\n",
      " > Found data for 1 counties (1%)\n",
      "Verifying vote totals...\n"
     ]
    },
    {
     "data": {
      "application/vnd.jupyter.widget-view+json": {
       "model_id": "66e4f9e1bac54c18b67a1217b6aa50d9",
       "version_major": 2,
       "version_minor": 0
      },
      "text/plain": [
       "HBox(children=(HTML(value=''), FloatProgress(value=0.0, max=2.0), HTML(value='')))"
      ]
     },
     "metadata": {},
     "output_type": "display_data"
    },
    {
     "name": "stdout",
     "output_type": "stream",
     "text": [
      "\n",
      "> Vote totals verified — no errors\n",
      "————————————————————————————————————————————————————————————\n",
      "Loading Dist Attorney - Tifton.csv data...\n",
      " > Found data for 4 counties (3%)\n",
      "Verifying vote totals...\n"
     ]
    },
    {
     "data": {
      "application/vnd.jupyter.widget-view+json": {
       "model_id": "49d1c6bfba8347c7951d663f3b756b31",
       "version_major": 2,
       "version_minor": 0
      },
      "text/plain": [
       "HBox(children=(HTML(value=''), FloatProgress(value=0.0, max=1.0), HTML(value='')))"
      ]
     },
     "metadata": {},
     "output_type": "display_data"
    },
    {
     "name": "stdout",
     "output_type": "stream",
     "text": [
      "\n",
      "> Vote totals verified — no errors\n",
      "————————————————————————————————————————————————————————————\n",
      "Loading Soil and Water - Ogeechee River.csv data...\n",
      " > Found data for 3 counties (2%)\n",
      "Verifying vote totals...\n"
     ]
    },
    {
     "data": {
      "application/vnd.jupyter.widget-view+json": {
       "model_id": "2f0bbcccd2064f85b9f8c3a80d5b11c5",
       "version_major": 2,
       "version_minor": 0
      },
      "text/plain": [
       "HBox(children=(HTML(value=''), FloatProgress(value=0.0, max=3.0), HTML(value='')))"
      ]
     },
     "metadata": {},
     "output_type": "display_data"
    },
    {
     "name": "stdout",
     "output_type": "stream",
     "text": [
      "\n",
      "> Vote totals verified — no errors\n",
      "————————————————————————————————————————————————————————————\n",
      "Loading Board of Education Precinct 4.csv data...\n",
      " > Found data for 1 counties (1%)\n",
      "Verifying vote totals...\n"
     ]
    },
    {
     "data": {
      "application/vnd.jupyter.widget-view+json": {
       "model_id": "ff5c82c921ba42ac96e934f179b85a0b",
       "version_major": 2,
       "version_minor": 0
      },
      "text/plain": [
       "HBox(children=(HTML(value=''), FloatProgress(value=0.0, max=1.0), HTML(value='')))"
      ]
     },
     "metadata": {},
     "output_type": "display_data"
    },
    {
     "name": "stdout",
     "output_type": "stream",
     "text": [
      "\n",
      "> Vote totals verified — no errors\n",
      "————————————————————————————————————————————————————————————\n",
      "Loading Euharlee City Council At Large - Special.csv data...\n",
      " > Found data for 1 counties (1%)\n",
      "Verifying vote totals...\n"
     ]
    },
    {
     "data": {
      "application/vnd.jupyter.widget-view+json": {
       "model_id": "db1cecbf455646639e8d5b61d1caf266",
       "version_major": 2,
       "version_minor": 0
      },
      "text/plain": [
       "HBox(children=(HTML(value=''), FloatProgress(value=0.0, max=2.0), HTML(value='')))"
      ]
     },
     "metadata": {},
     "output_type": "display_data"
    },
    {
     "name": "stdout",
     "output_type": "stream",
     "text": [
      "\n",
      "> Vote totals verified — no errors\n",
      "————————————————————————————————————————————————————————————\n",
      "Loading State House Dist 66.csv data...\n",
      " > Found data for 2 counties (1%)\n",
      "Verifying vote totals...\n"
     ]
    },
    {
     "data": {
      "application/vnd.jupyter.widget-view+json": {
       "model_id": "481acff998f0478eb26cc6711e975a6f",
       "version_major": 2,
       "version_minor": 0
      },
      "text/plain": [
       "HBox(children=(HTML(value=''), FloatProgress(value=0.0, max=2.0), HTML(value='')))"
      ]
     },
     "metadata": {},
     "output_type": "display_data"
    },
    {
     "name": "stdout",
     "output_type": "stream",
     "text": [
      "\n",
      "> Vote totals verified — no errors\n",
      "————————————————————————————————————————————————————————————\n",
      "Loading McIntyre City Council Dist 1 - Special.csv data...\n",
      " > Found data for 1 counties (1%)\n",
      "Verifying vote totals...\n"
     ]
    },
    {
     "data": {
      "application/vnd.jupyter.widget-view+json": {
       "model_id": "557d39f5abe34f2081a76c60b429b304",
       "version_major": 2,
       "version_minor": 0
      },
      "text/plain": [
       "HBox(children=(HTML(value=''), FloatProgress(value=0.0, max=2.0), HTML(value='')))"
      ]
     },
     "metadata": {},
     "output_type": "display_data"
    },
    {
     "name": "stdout",
     "output_type": "stream",
     "text": [
      "\n",
      "> Vote totals verified — no errors\n",
      "————————————————————————————————————————————————————————————\n",
      "Loading State House Dist 72.csv data...\n",
      " > Found data for 2 counties (1%)\n",
      "Verifying vote totals...\n"
     ]
    },
    {
     "data": {
      "application/vnd.jupyter.widget-view+json": {
       "model_id": "63f2f0883d354fa6a6a497aee31eaaaa",
       "version_major": 2,
       "version_minor": 0
      },
      "text/plain": [
       "HBox(children=(HTML(value=''), FloatProgress(value=0.0, max=2.0), HTML(value='')))"
      ]
     },
     "metadata": {},
     "output_type": "display_data"
    },
    {
     "name": "stdout",
     "output_type": "stream",
     "text": [
      "\n",
      "> Vote totals verified — no errors\n",
      "————————————————————————————————————————————————————————————\n",
      "Loading County Commission Dist 7.csv data...\n",
      " > Found data for 2 counties (1%)\n",
      "Verifying vote totals...\n"
     ]
    },
    {
     "data": {
      "application/vnd.jupyter.widget-view+json": {
       "model_id": "6054de9a3b7b44008c1c15c25b79cd1c",
       "version_major": 2,
       "version_minor": 0
      },
      "text/plain": [
       "HBox(children=(HTML(value=''), FloatProgress(value=0.0, max=3.0), HTML(value='')))"
      ]
     },
     "metadata": {},
     "output_type": "display_data"
    },
    {
     "name": "stdout",
     "output_type": "stream",
     "text": [
      "\n",
      "> Vote totals verified — no errors\n",
      "————————————————————————————————————————————————————————————\n",
      "Loading Soil and Water - Satilla River.csv data...\n",
      " > Found data for 4 counties (3%)\n",
      "Verifying vote totals...\n"
     ]
    },
    {
     "data": {
      "application/vnd.jupyter.widget-view+json": {
       "model_id": "392c5762b293400cab66ca2ca4b2613a",
       "version_major": 2,
       "version_minor": 0
      },
      "text/plain": [
       "HBox(children=(HTML(value=''), FloatProgress(value=0.0, max=4.0), HTML(value='')))"
      ]
     },
     "metadata": {},
     "output_type": "display_data"
    },
    {
     "name": "stdout",
     "output_type": "stream",
     "text": [
      "\n",
      "> Vote totals verified — no errors\n",
      "————————————————————————————————————————————————————————————\n",
      "Loading State House Dist 28.csv data...\n",
      " > Found data for 3 counties (2%)\n",
      "Verifying vote totals...\n"
     ]
    },
    {
     "data": {
      "application/vnd.jupyter.widget-view+json": {
       "model_id": "e10f2baee883492cbaf31cb9e14722fd",
       "version_major": 2,
       "version_minor": 0
      },
      "text/plain": [
       "HBox(children=(HTML(value=''), FloatProgress(value=0.0, max=1.0), HTML(value='')))"
      ]
     },
     "metadata": {},
     "output_type": "display_data"
    },
    {
     "name": "stdout",
     "output_type": "stream",
     "text": [
      "\n",
      "> Vote totals verified — no errors\n",
      "————————————————————————————————————————————————————————————\n",
      "Loading State House Dist 118.csv data...\n",
      " > Found data for 1 counties (1%)\n",
      "Verifying vote totals...\n"
     ]
    },
    {
     "data": {
      "application/vnd.jupyter.widget-view+json": {
       "model_id": "9ada1c0d14a34f31a50cc1817a6a7952",
       "version_major": 2,
       "version_minor": 0
      },
      "text/plain": [
       "HBox(children=(HTML(value=''), FloatProgress(value=0.0, max=1.0), HTML(value='')))"
      ]
     },
     "metadata": {},
     "output_type": "display_data"
    },
    {
     "name": "stdout",
     "output_type": "stream",
     "text": [
      "\n",
      "> Vote totals verified — no errors\n",
      "————————————————————————————————————————————————————————————\n",
      "Loading Board of Education Dist 5.csv data...\n",
      " > Found data for 25 counties (16%)\n",
      "Verifying vote totals...\n"
     ]
    },
    {
     "data": {
      "application/vnd.jupyter.widget-view+json": {
       "model_id": "aadab03dda5644cab84ffbe2110a7495",
       "version_major": 2,
       "version_minor": 0
      },
      "text/plain": [
       "HBox(children=(HTML(value=''), FloatProgress(value=0.0, max=31.0), HTML(value='')))"
      ]
     },
     "metadata": {},
     "output_type": "display_data"
    },
    {
     "name": "stdout",
     "output_type": "stream",
     "text": [
      "\n",
      ">>> Vote totals verified — 0.00022 error rate\n",
      "————————————————————————————————————————————————————————————\n",
      "Loading State House Dist 7.csv data...\n",
      " > Found data for 3 counties (2%)\n",
      "Verifying vote totals...\n"
     ]
    },
    {
     "data": {
      "application/vnd.jupyter.widget-view+json": {
       "model_id": "455794a1864f4362b4bdccdb60f7904f",
       "version_major": 2,
       "version_minor": 0
      },
      "text/plain": [
       "HBox(children=(HTML(value=''), FloatProgress(value=0.0, max=2.0), HTML(value='')))"
      ]
     },
     "metadata": {},
     "output_type": "display_data"
    },
    {
     "name": "stdout",
     "output_type": "stream",
     "text": [
      "\n",
      "> Vote totals verified — no errors\n",
      "————————————————————————————————————————————————————————————\n",
      "Loading State Senate Dist 26.csv data...\n",
      " > Found data for 7 counties (4%)\n",
      "Verifying vote totals...\n"
     ]
    },
    {
     "data": {
      "application/vnd.jupyter.widget-view+json": {
       "model_id": "bf42940e05454dcdae5ef5c18f117b61",
       "version_major": 2,
       "version_minor": 0
      },
      "text/plain": [
       "HBox(children=(HTML(value=''), FloatProgress(value=0.0, max=1.0), HTML(value='')))"
      ]
     },
     "metadata": {},
     "output_type": "display_data"
    },
    {
     "name": "stdout",
     "output_type": "stream",
     "text": [
      "\n",
      "> Vote totals verified — no errors\n",
      "————————————————————————————————————————————————————————————\n",
      "Loading State House Dist 109.csv data...\n",
      " > Found data for 3 counties (2%)\n",
      "Verifying vote totals...\n"
     ]
    },
    {
     "data": {
      "application/vnd.jupyter.widget-view+json": {
       "model_id": "a6dd47797c2740c4b78c05b2116bcf04",
       "version_major": 2,
       "version_minor": 0
      },
      "text/plain": [
       "HBox(children=(HTML(value=''), FloatProgress(value=0.0, max=2.0), HTML(value='')))"
      ]
     },
     "metadata": {},
     "output_type": "display_data"
    },
    {
     "name": "stdout",
     "output_type": "stream",
     "text": [
      "\n",
      "> Vote totals verified — no errors\n",
      "————————————————————————————————————————————————————————————\n",
      "Loading State Senate Dist 45.csv data...\n",
      " > Found data for 1 counties (1%)\n",
      "Verifying vote totals...\n"
     ]
    },
    {
     "data": {
      "application/vnd.jupyter.widget-view+json": {
       "model_id": "8e21ac448d0e4eaea03db42e3212d505",
       "version_major": 2,
       "version_minor": 0
      },
      "text/plain": [
       "HBox(children=(HTML(value=''), FloatProgress(value=0.0, max=2.0), HTML(value='')))"
      ]
     },
     "metadata": {},
     "output_type": "display_data"
    },
    {
     "name": "stdout",
     "output_type": "stream",
     "text": [
      "\n",
      "> Vote totals verified — no errors\n",
      "————————————————————————————————————————————————————————————\n",
      "Loading Holly Springs Mayor.csv data...\n",
      " > Found data for 1 counties (1%)\n",
      "Verifying vote totals...\n"
     ]
    },
    {
     "data": {
      "application/vnd.jupyter.widget-view+json": {
       "model_id": "d93a49df545c4145bfaa2fc72deb2a9a",
       "version_major": 2,
       "version_minor": 0
      },
      "text/plain": [
       "HBox(children=(HTML(value=''), FloatProgress(value=0.0, max=1.0), HTML(value='')))"
      ]
     },
     "metadata": {},
     "output_type": "display_data"
    },
    {
     "name": "stdout",
     "output_type": "stream",
     "text": [
      "\n",
      "> Vote totals verified — no errors\n",
      "————————————————————————————————————————————————————————————\n",
      "Loading Lincolnton City Council Member Post 5 - Special.csv data...\n",
      " > Found data for 1 counties (1%)\n",
      "Verifying vote totals...\n"
     ]
    },
    {
     "data": {
      "application/vnd.jupyter.widget-view+json": {
       "model_id": "b33c2d8abec24cba95310e49b1ede552",
       "version_major": 2,
       "version_minor": 0
      },
      "text/plain": [
       "HBox(children=(HTML(value=''), FloatProgress(value=0.0, max=3.0), HTML(value='')))"
      ]
     },
     "metadata": {},
     "output_type": "display_data"
    },
    {
     "name": "stdout",
     "output_type": "stream",
     "text": [
      "\n",
      "> Vote totals verified — no errors\n",
      "————————————————————————————————————————————————————————————\n",
      "Loading Gwinnett-Buford Board of Education SPLOST.csv data...\n",
      " > Found data for 1 counties (1%)\n",
      "Verifying vote totals...\n"
     ]
    },
    {
     "data": {
      "application/vnd.jupyter.widget-view+json": {
       "model_id": "e91b5abe9a0d429e8d53b5bd768268cf",
       "version_major": 2,
       "version_minor": 0
      },
      "text/plain": [
       "HBox(children=(HTML(value=''), FloatProgress(value=0.0, max=2.0), HTML(value='')))"
      ]
     },
     "metadata": {},
     "output_type": "display_data"
    },
    {
     "name": "stdout",
     "output_type": "stream",
     "text": [
      "\n",
      "> Vote totals verified — no errors\n",
      "————————————————————————————————————————————————————————————\n",
      "Loading State House Dist 130.csv data...\n",
      " > Found data for 3 counties (2%)\n",
      "Verifying vote totals...\n"
     ]
    },
    {
     "data": {
      "application/vnd.jupyter.widget-view+json": {
       "model_id": "792c5b6487974abda4c4b199532b1a9e",
       "version_major": 2,
       "version_minor": 0
      },
      "text/plain": [
       "HBox(children=(HTML(value=''), FloatProgress(value=0.0, max=2.0), HTML(value='')))"
      ]
     },
     "metadata": {},
     "output_type": "display_data"
    },
    {
     "name": "stdout",
     "output_type": "stream",
     "text": [
      "\n",
      "> Vote totals verified — no errors\n",
      "————————————————————————————————————————————————————————————\n",
      "Loading Fluoride in County Water System - Special.csv data...\n",
      " > Found data for 1 counties (1%)\n",
      "Verifying vote totals...\n"
     ]
    },
    {
     "data": {
      "application/vnd.jupyter.widget-view+json": {
       "model_id": "7dcadffb6ef644dabd6aa283dbaba0f9",
       "version_major": 2,
       "version_minor": 0
      },
      "text/plain": [
       "HBox(children=(HTML(value=''), FloatProgress(value=0.0, max=2.0), HTML(value='')))"
      ]
     },
     "metadata": {},
     "output_type": "display_data"
    },
    {
     "name": "stdout",
     "output_type": "stream",
     "text": [
      "\n",
      "> Vote totals verified — no errors\n",
      "————————————————————————————————————————————————————————————\n",
      "Loading State House Dist 86.csv data...\n",
      " > Found data for 1 counties (1%)\n",
      "Verifying vote totals...\n"
     ]
    },
    {
     "data": {
      "application/vnd.jupyter.widget-view+json": {
       "model_id": "a2e699eb99b642e7a2809703dad8c49c",
       "version_major": 2,
       "version_minor": 0
      },
      "text/plain": [
       "HBox(children=(HTML(value=''), FloatProgress(value=0.0, max=1.0), HTML(value='')))"
      ]
     },
     "metadata": {},
     "output_type": "display_data"
    },
    {
     "name": "stdout",
     "output_type": "stream",
     "text": [
      "\n",
      "> Vote totals verified — no errors\n",
      "————————————————————————————————————————————————————————————\n",
      "Loading State House Dist 167.csv data...\n",
      " > Found data for 3 counties (2%)\n",
      "Verifying vote totals...\n"
     ]
    },
    {
     "data": {
      "application/vnd.jupyter.widget-view+json": {
       "model_id": "ef0be4f169a945689d68fdbf8e83bca7",
       "version_major": 2,
       "version_minor": 0
      },
      "text/plain": [
       "HBox(children=(HTML(value=''), FloatProgress(value=0.0, max=1.0), HTML(value='')))"
      ]
     },
     "metadata": {},
     "output_type": "display_data"
    },
    {
     "name": "stdout",
     "output_type": "stream",
     "text": [
      "\n",
      "> Vote totals verified — no errors\n",
      "————————————————————————————————————————————————————————————\n",
      "Loading State House Dist 37.csv data...\n",
      " > Found data for 1 counties (1%)\n",
      "Verifying vote totals...\n"
     ]
    },
    {
     "data": {
      "application/vnd.jupyter.widget-view+json": {
       "model_id": "ed8e9f70a2c3406986de6785689faa94",
       "version_major": 2,
       "version_minor": 0
      },
      "text/plain": [
       "HBox(children=(HTML(value=''), FloatProgress(value=0.0, max=2.0), HTML(value='')))"
      ]
     },
     "metadata": {},
     "output_type": "display_data"
    },
    {
     "name": "stdout",
     "output_type": "stream",
     "text": [
      "\n",
      "> Vote totals verified — no errors\n",
      "————————————————————————————————————————————————————————————\n",
      "Loading State House Dist 48.csv data...\n",
      " > Found data for 1 counties (1%)\n",
      "Verifying vote totals...\n"
     ]
    },
    {
     "data": {
      "application/vnd.jupyter.widget-view+json": {
       "model_id": "7f0fd9e7142246d5b332f096c3491e47",
       "version_major": 2,
       "version_minor": 0
      },
      "text/plain": [
       "HBox(children=(HTML(value=''), FloatProgress(value=0.0, max=2.0), HTML(value='')))"
      ]
     },
     "metadata": {},
     "output_type": "display_data"
    },
    {
     "name": "stdout",
     "output_type": "stream",
     "text": [
      "\n",
      "> Vote totals verified — no errors\n",
      "————————————————————————————————————————————————————————————\n",
      "Loading Soil and Water - Fulton County.csv data...\n",
      " > Found data for 1 counties (1%)\n",
      "Verifying vote totals...\n"
     ]
    },
    {
     "data": {
      "application/vnd.jupyter.widget-view+json": {
       "model_id": "f02db7f425314f809b3e501d34d288f4",
       "version_major": 2,
       "version_minor": 0
      },
      "text/plain": [
       "HBox(children=(HTML(value=''), FloatProgress(value=0.0, max=1.0), HTML(value='')))"
      ]
     },
     "metadata": {},
     "output_type": "display_data"
    },
    {
     "name": "stdout",
     "output_type": "stream",
     "text": [
      "\n",
      "> Vote totals verified — no errors\n",
      "————————————————————————————————————————————————————————————\n",
      "Loading State House Dist 14.csv data...\n",
      " > Found data for 2 counties (1%)\n",
      "Verifying vote totals...\n"
     ]
    },
    {
     "data": {
      "application/vnd.jupyter.widget-view+json": {
       "model_id": "c1ff97980eef4fa2a05fe799423244ac",
       "version_major": 2,
       "version_minor": 0
      },
      "text/plain": [
       "HBox(children=(HTML(value=''), FloatProgress(value=0.0, max=1.0), HTML(value='')))"
      ]
     },
     "metadata": {},
     "output_type": "display_data"
    },
    {
     "name": "stdout",
     "output_type": "stream",
     "text": [
      "\n",
      "> Vote totals verified — no errors\n",
      "————————————————————————————————————————————————————————————\n",
      "Loading Nicholson Fire Advisory Board Post 4.csv data...\n",
      " > Found data for 1 counties (1%)\n",
      "Verifying vote totals...\n"
     ]
    },
    {
     "data": {
      "application/vnd.jupyter.widget-view+json": {
       "model_id": "8315f5669321427fa7423932d7b57fd9",
       "version_major": 2,
       "version_minor": 0
      },
      "text/plain": [
       "HBox(children=(HTML(value=''), FloatProgress(value=0.0, max=1.0), HTML(value='')))"
      ]
     },
     "metadata": {},
     "output_type": "display_data"
    },
    {
     "name": "stdout",
     "output_type": "stream",
     "text": [
      "\n",
      "> Vote totals verified — no errors\n",
      "————————————————————————————————————————————————————————————\n",
      "Loading County Commission Precinct 4.csv data...\n",
      " > Found data for 1 counties (1%)\n",
      "Verifying vote totals...\n"
     ]
    },
    {
     "data": {
      "application/vnd.jupyter.widget-view+json": {
       "model_id": "22bd5d728209493ab063f2d343e331ad",
       "version_major": 2,
       "version_minor": 0
      },
      "text/plain": [
       "HBox(children=(HTML(value=''), FloatProgress(value=0.0, max=1.0), HTML(value='')))"
      ]
     },
     "metadata": {},
     "output_type": "display_data"
    },
    {
     "name": "stdout",
     "output_type": "stream",
     "text": [
      "\n",
      "> Vote totals verified — no errors\n",
      "————————————————————————————————————————————————————————————\n",
      "Loading State House Dist 104.csv data...\n",
      " > Found data for 1 counties (1%)\n",
      "Verifying vote totals...\n"
     ]
    },
    {
     "data": {
      "application/vnd.jupyter.widget-view+json": {
       "model_id": "682c0da6f72f48ae8c8096c41b13ccdd",
       "version_major": 2,
       "version_minor": 0
      },
      "text/plain": [
       "HBox(children=(HTML(value=''), FloatProgress(value=0.0, max=2.0), HTML(value='')))"
      ]
     },
     "metadata": {},
     "output_type": "display_data"
    },
    {
     "name": "stdout",
     "output_type": "stream",
     "text": [
      "\n",
      "> Vote totals verified — no errors\n",
      "————————————————————————————————————————————————————————————\n",
      "Loading Tax Commissioner.csv data...\n",
      " > Found data for 158 counties (99%)\n",
      "   > Missing: ['Dougherty']\n",
      "Verifying vote totals...\n"
     ]
    },
    {
     "data": {
      "application/vnd.jupyter.widget-view+json": {
       "model_id": "7f3a9425fa81407ba49a58c6b496beea",
       "version_major": 2,
       "version_minor": 0
      },
      "text/plain": [
       "HBox(children=(HTML(value=''), FloatProgress(value=0.0, max=172.0), HTML(value='')))"
      ]
     },
     "metadata": {},
     "output_type": "display_data"
    },
    {
     "name": "stdout",
     "output_type": "stream",
     "text": [
      "\n",
      ">>> Vote totals verified — 0.0001 error rate\n",
      "————————————————————————————————————————————————————————————\n",
      "Loading Soil and Water - Brier Creek.csv data...\n",
      " > Found data for 2 counties (1%)\n",
      "Verifying vote totals...\n"
     ]
    },
    {
     "data": {
      "application/vnd.jupyter.widget-view+json": {
       "model_id": "1aa27162c65449769c19eb53a66036c0",
       "version_major": 2,
       "version_minor": 0
      },
      "text/plain": [
       "HBox(children=(HTML(value=''), FloatProgress(value=0.0, max=2.0), HTML(value='')))"
      ]
     },
     "metadata": {},
     "output_type": "display_data"
    },
    {
     "name": "stdout",
     "output_type": "stream",
     "text": [
      "\n",
      "> Vote totals verified — no errors\n",
      "————————————————————————————————————————————————————————————\n",
      "Loading State House Dist 176.csv data...\n",
      " > Found data for 4 counties (3%)\n",
      "Verifying vote totals...\n"
     ]
    },
    {
     "data": {
      "application/vnd.jupyter.widget-view+json": {
       "model_id": "a9fa64655f6747f4948a89e8feb1c639",
       "version_major": 2,
       "version_minor": 0
      },
      "text/plain": [
       "HBox(children=(HTML(value=''), FloatProgress(value=0.0, max=2.0), HTML(value='')))"
      ]
     },
     "metadata": {},
     "output_type": "display_data"
    },
    {
     "name": "stdout",
     "output_type": "stream",
     "text": [
      "\n",
      "> Vote totals verified — no errors\n",
      "————————————————————————————————————————————————————————————\n",
      "Loading Board of Education At Large - Cordele.csv data...\n",
      " > Found data for 1 counties (1%)\n",
      "Verifying vote totals...\n"
     ]
    },
    {
     "data": {
      "application/vnd.jupyter.widget-view+json": {
       "model_id": "f913938021c048f186ef8bddee833316",
       "version_major": 2,
       "version_minor": 0
      },
      "text/plain": [
       "HBox(children=(HTML(value=''), FloatProgress(value=0.0, max=2.0), HTML(value='')))"
      ]
     },
     "metadata": {},
     "output_type": "display_data"
    },
    {
     "name": "stdout",
     "output_type": "stream",
     "text": [
      "\n",
      "> Vote totals verified — no errors\n",
      "————————————————————————————————————————————————————————————\n",
      "Loading State House Dist 137.csv data...\n",
      " > Found data for 4 counties (3%)\n",
      "Verifying vote totals...\n"
     ]
    },
    {
     "data": {
      "application/vnd.jupyter.widget-view+json": {
       "model_id": "7fa571b7655d48538a8d8404cc1298e1",
       "version_major": 2,
       "version_minor": 0
      },
      "text/plain": [
       "HBox(children=(HTML(value=''), FloatProgress(value=0.0, max=1.0), HTML(value='')))"
      ]
     },
     "metadata": {},
     "output_type": "display_data"
    },
    {
     "name": "stdout",
     "output_type": "stream",
     "text": [
      "\n",
      "> Vote totals verified — no errors\n",
      "————————————————————————————————————————————————————————————\n",
      "Loading County Commission Post 4.csv data...\n",
      " > Found data for 1 counties (1%)\n",
      "Verifying vote totals...\n"
     ]
    },
    {
     "data": {
      "application/vnd.jupyter.widget-view+json": {
       "model_id": "c3c50e633161431ab4ba5d15c82233ff",
       "version_major": 2,
       "version_minor": 0
      },
      "text/plain": [
       "HBox(children=(HTML(value=''), FloatProgress(value=0.0, max=1.0), HTML(value='')))"
      ]
     },
     "metadata": {},
     "output_type": "display_data"
    },
    {
     "name": "stdout",
     "output_type": "stream",
     "text": [
      "\n",
      "> Vote totals verified — no errors\n",
      "————————————————————————————————————————————————————————————\n",
      "Loading Blythe City Councilmember - Special.csv data...\n",
      " > Found data for 1 counties (1%)\n",
      "Verifying vote totals...\n"
     ]
    },
    {
     "data": {
      "application/vnd.jupyter.widget-view+json": {
       "model_id": "32763609ff6e4e73943ec8b104dc9536",
       "version_major": 2,
       "version_minor": 0
      },
      "text/plain": [
       "HBox(children=(HTML(value=''), FloatProgress(value=0.0, max=3.0), HTML(value='')))"
      ]
     },
     "metadata": {},
     "output_type": "display_data"
    },
    {
     "name": "stdout",
     "output_type": "stream",
     "text": [
      "\n",
      "> Vote totals verified — no errors\n",
      "————————————————————————————————————————————————————————————\n",
      "Loading State House Dist 127.csv data...\n",
      " > Found data for 2 counties (1%)\n",
      "Verifying vote totals...\n"
     ]
    },
    {
     "data": {
      "application/vnd.jupyter.widget-view+json": {
       "model_id": "94d771ba4f1a4291bbf23154dbb791cf",
       "version_major": 2,
       "version_minor": 0
      },
      "text/plain": [
       "HBox(children=(HTML(value=''), FloatProgress(value=0.0, max=1.0), HTML(value='')))"
      ]
     },
     "metadata": {},
     "output_type": "display_data"
    },
    {
     "name": "stdout",
     "output_type": "stream",
     "text": [
      "\n",
      "> Vote totals verified — no errors\n",
      "————————————————————————————————————————————————————————————\n",
      "Loading East Jackson Fire Advisory Board Post 2.csv data...\n",
      " > Found data for 1 counties (1%)\n",
      "Verifying vote totals...\n"
     ]
    },
    {
     "data": {
      "application/vnd.jupyter.widget-view+json": {
       "model_id": "3334c367f59142c1ba6d2717aa4e5a52",
       "version_major": 2,
       "version_minor": 0
      },
      "text/plain": [
       "HBox(children=(HTML(value=''), FloatProgress(value=0.0, max=1.0), HTML(value='')))"
      ]
     },
     "metadata": {},
     "output_type": "display_data"
    },
    {
     "name": "stdout",
     "output_type": "stream",
     "text": [
      "\n",
      "> Vote totals verified — no errors\n",
      "————————————————————————————————————————————————————————————\n",
      "Loading State House Dist 101.csv data...\n",
      " > Found data for 1 counties (1%)\n",
      "Verifying vote totals...\n"
     ]
    },
    {
     "data": {
      "application/vnd.jupyter.widget-view+json": {
       "model_id": "37776baa7b5a4147b2bdaf069c91bc19",
       "version_major": 2,
       "version_minor": 0
      },
      "text/plain": [
       "HBox(children=(HTML(value=''), FloatProgress(value=0.0, max=2.0), HTML(value='')))"
      ]
     },
     "metadata": {},
     "output_type": "display_data"
    },
    {
     "name": "stdout",
     "output_type": "stream",
     "text": [
      "\n",
      "> Vote totals verified — no errors\n",
      "————————————————————————————————————————————————————————————\n",
      "Loading Soil and Water - Ohoopee River.csv data...\n",
      " > Found data for 2 counties (1%)\n",
      "Verifying vote totals...\n"
     ]
    },
    {
     "data": {
      "application/vnd.jupyter.widget-view+json": {
       "model_id": "627e12f5596c4d88b1ab343fe7a2ee36",
       "version_major": 2,
       "version_minor": 0
      },
      "text/plain": [
       "HBox(children=(HTML(value=''), FloatProgress(value=0.0, max=2.0), HTML(value='')))"
      ]
     },
     "metadata": {},
     "output_type": "display_data"
    },
    {
     "name": "stdout",
     "output_type": "stream",
     "text": [
      "\n",
      "> Vote totals verified — no errors\n",
      "————————————————————————————————————————————————————————————\n",
      "Loading Manchester Regulation of Distilled Spirits Sales By the Drink - Special.csv data...\n",
      " > Found data for 1 counties (1%)\n",
      "Verifying vote totals...\n"
     ]
    },
    {
     "data": {
      "application/vnd.jupyter.widget-view+json": {
       "model_id": "f9c4c0d1484d446b9b7e3d266044de82",
       "version_major": 2,
       "version_minor": 0
      },
      "text/plain": [
       "HBox(children=(HTML(value=''), FloatProgress(value=0.0, max=2.0), HTML(value='')))"
      ]
     },
     "metadata": {},
     "output_type": "display_data"
    },
    {
     "name": "stdout",
     "output_type": "stream",
     "text": [
      "\n",
      "> Vote totals verified — no errors\n",
      "————————————————————————————————————————————————————————————\n",
      "Loading State House Dist 173.csv data...\n",
      " > Found data for 3 counties (2%)\n",
      "Verifying vote totals...\n"
     ]
    },
    {
     "data": {
      "application/vnd.jupyter.widget-view+json": {
       "model_id": "5d8acd2ef113403a9b9987f40b1c9e1e",
       "version_major": 2,
       "version_minor": 0
      },
      "text/plain": [
       "HBox(children=(HTML(value=''), FloatProgress(value=0.0, max=2.0), HTML(value='')))"
      ]
     },
     "metadata": {},
     "output_type": "display_data"
    },
    {
     "name": "stdout",
     "output_type": "stream",
     "text": [
      "\n",
      "> Vote totals verified — no errors\n",
      "————————————————————————————————————————————————————————————\n",
      "Loading State Senate Dist 42.csv data...\n",
      " > Found data for 1 counties (1%)\n",
      "Verifying vote totals...\n"
     ]
    },
    {
     "data": {
      "application/vnd.jupyter.widget-view+json": {
       "model_id": "0cbf500c42824616b44b4fd34891d60b",
       "version_major": 2,
       "version_minor": 0
      },
      "text/plain": [
       "HBox(children=(HTML(value=''), FloatProgress(value=0.0, max=1.0), HTML(value='')))"
      ]
     },
     "metadata": {},
     "output_type": "display_data"
    },
    {
     "name": "stdout",
     "output_type": "stream",
     "text": [
      "\n",
      "> Vote totals verified — no errors\n",
      "————————————————————————————————————————————————————————————\n",
      "Loading State House Dist 98.csv data...\n",
      " > Found data for 1 counties (1%)\n",
      "Verifying vote totals...\n"
     ]
    },
    {
     "data": {
      "application/vnd.jupyter.widget-view+json": {
       "model_id": "31bcba939fed495eb5e30ff16af361f3",
       "version_major": 2,
       "version_minor": 0
      },
      "text/plain": [
       "HBox(children=(HTML(value=''), FloatProgress(value=0.0, max=2.0), HTML(value='')))"
      ]
     },
     "metadata": {},
     "output_type": "display_data"
    },
    {
     "name": "stdout",
     "output_type": "stream",
     "text": [
      "\n",
      "> Vote totals verified — no errors\n",
      "————————————————————————————————————————————————————————————\n",
      "Loading State Senate Dist 31.csv data...\n",
      " > Found data for 3 counties (2%)\n",
      "Verifying vote totals...\n"
     ]
    },
    {
     "data": {
      "application/vnd.jupyter.widget-view+json": {
       "model_id": "1024c2ddbc29411ba80bf0525827332a",
       "version_major": 2,
       "version_minor": 0
      },
      "text/plain": [
       "HBox(children=(HTML(value=''), FloatProgress(value=0.0, max=2.0), HTML(value='')))"
      ]
     },
     "metadata": {},
     "output_type": "display_data"
    },
    {
     "name": "stdout",
     "output_type": "stream",
     "text": [
      "\n",
      "> Vote totals verified — no errors\n",
      "————————————————————————————————————————————————————————————\n",
      "Loading Wayne County Sunday Sales of Alcohol - Special.csv data...\n",
      " > Found data for 1 counties (1%)\n",
      "Verifying vote totals...\n"
     ]
    },
    {
     "data": {
      "application/vnd.jupyter.widget-view+json": {
       "model_id": "59fcbfc79a0b4bdaa300438fcc279453",
       "version_major": 2,
       "version_minor": 0
      },
      "text/plain": [
       "HBox(children=(HTML(value=''), FloatProgress(value=0.0, max=2.0), HTML(value='')))"
      ]
     },
     "metadata": {},
     "output_type": "display_data"
    },
    {
     "name": "stdout",
     "output_type": "stream",
     "text": [
      "\n",
      "> Vote totals verified — no errors\n",
      "————————————————————————————————————————————————————————————\n",
      "Loading Dist Attorney - South Georgia.csv data...\n",
      " > Found data for 5 counties (3%)\n",
      "Verifying vote totals...\n"
     ]
    },
    {
     "data": {
      "application/vnd.jupyter.widget-view+json": {
       "model_id": "81509e60037c4a5b93d9b0f235b60ff8",
       "version_major": 2,
       "version_minor": 0
      },
      "text/plain": [
       "HBox(children=(HTML(value=''), FloatProgress(value=0.0, max=1.0), HTML(value='')))"
      ]
     },
     "metadata": {},
     "output_type": "display_data"
    },
    {
     "name": "stdout",
     "output_type": "stream",
     "text": [
      "\n",
      "> Vote totals verified — no errors\n",
      "————————————————————————————————————————————————————————————\n",
      "Loading State House Dist 62.csv data...\n",
      " > Found data for 2 counties (1%)\n",
      "Verifying vote totals...\n"
     ]
    },
    {
     "data": {
      "application/vnd.jupyter.widget-view+json": {
       "model_id": "e37c25948dfd488fae0a23bf35bbbacf",
       "version_major": 2,
       "version_minor": 0
      },
      "text/plain": [
       "HBox(children=(HTML(value=''), FloatProgress(value=0.0, max=1.0), HTML(value='')))"
      ]
     },
     "metadata": {},
     "output_type": "display_data"
    },
    {
     "name": "stdout",
     "output_type": "stream",
     "text": [
      "\n",
      "> Vote totals verified — no errors\n",
      "————————————————————————————————————————————————————————————\n",
      "Loading Bethlehem Council Post 1 - Special.csv data...\n",
      " > Found data for 1 counties (1%)\n",
      "Verifying vote totals...\n"
     ]
    },
    {
     "data": {
      "application/vnd.jupyter.widget-view+json": {
       "model_id": "b3c66ace59f443ff8eb77d35d09fc693",
       "version_major": 2,
       "version_minor": 0
      },
      "text/plain": [
       "HBox(children=(HTML(value=''), FloatProgress(value=0.0, max=3.0), HTML(value='')))"
      ]
     },
     "metadata": {},
     "output_type": "display_data"
    },
    {
     "name": "stdout",
     "output_type": "stream",
     "text": [
      "\n",
      "> Vote totals verified — no errors\n",
      "————————————————————————————————————————————————————————————\n",
      "Loading Board of Education Newton Dist.csv data...\n",
      " > Found data for 1 counties (1%)\n",
      "Verifying vote totals...\n"
     ]
    },
    {
     "data": {
      "application/vnd.jupyter.widget-view+json": {
       "model_id": "842167a7dc7c4723b0859aade705f04b",
       "version_major": 2,
       "version_minor": 0
      },
      "text/plain": [
       "HBox(children=(HTML(value=''), FloatProgress(value=0.0, max=1.0), HTML(value='')))"
      ]
     },
     "metadata": {},
     "output_type": "display_data"
    },
    {
     "name": "stdout",
     "output_type": "stream",
     "text": [
      "\n",
      "> Vote totals verified — no errors\n",
      "————————————————————————————————————————————————————————————\n",
      "Loading State House Dist 61.csv data...\n",
      " > Found data for 3 counties (2%)\n",
      "Verifying vote totals...\n"
     ]
    },
    {
     "data": {
      "application/vnd.jupyter.widget-view+json": {
       "model_id": "efa3bca6914b4890b4d3e1e40131f2b5",
       "version_major": 2,
       "version_minor": 0
      },
      "text/plain": [
       "HBox(children=(HTML(value=''), FloatProgress(value=0.0, max=1.0), HTML(value='')))"
      ]
     },
     "metadata": {},
     "output_type": "display_data"
    },
    {
     "name": "stdout",
     "output_type": "stream",
     "text": [
      "\n",
      "> Vote totals verified — no errors\n",
      "————————————————————————————————————————————————————————————\n",
      "Loading County Commissioner Dist 5.csv data...\n",
      " > Found data for 1 counties (1%)\n",
      "Verifying vote totals...\n"
     ]
    },
    {
     "data": {
      "application/vnd.jupyter.widget-view+json": {
       "model_id": "e2df3e6093fd4f2e97b05341dae74efb",
       "version_major": 2,
       "version_minor": 0
      },
      "text/plain": [
       "HBox(children=(HTML(value=''), FloatProgress(value=0.0, max=2.0), HTML(value='')))"
      ]
     },
     "metadata": {},
     "output_type": "display_data"
    },
    {
     "name": "stdout",
     "output_type": "stream",
     "text": [
      "\n",
      "> Vote totals verified — no errors\n",
      "————————————————————————————————————————————————————————————\n",
      "Loading Lula Alcohol by the Drink - Special.csv data...\n",
      " > Found data for 1 counties (1%)\n",
      "Verifying vote totals...\n"
     ]
    },
    {
     "data": {
      "application/vnd.jupyter.widget-view+json": {
       "model_id": "c590ff994abd46918b0b5c62604914c7",
       "version_major": 2,
       "version_minor": 0
      },
      "text/plain": [
       "HBox(children=(HTML(value=''), FloatProgress(value=0.0, max=2.0), HTML(value='')))"
      ]
     },
     "metadata": {},
     "output_type": "display_data"
    },
    {
     "name": "stdout",
     "output_type": "stream",
     "text": [
      "\n",
      "> Vote totals verified — no errors\n",
      "————————————————————————————————————————————————————————————\n",
      "Loading County Commission Dist 2 Post 1.csv data...\n",
      " > Found data for 2 counties (1%)\n",
      "Verifying vote totals...\n"
     ]
    },
    {
     "data": {
      "application/vnd.jupyter.widget-view+json": {
       "model_id": "0fa3678ed4f549638304a9b988284bc0",
       "version_major": 2,
       "version_minor": 0
      },
      "text/plain": [
       "HBox(children=(HTML(value=''), FloatProgress(value=0.0, max=2.0), HTML(value='')))"
      ]
     },
     "metadata": {},
     "output_type": "display_data"
    },
    {
     "name": "stdout",
     "output_type": "stream",
     "text": [
      "\n",
      "> Vote totals verified — no errors\n",
      "————————————————————————————————————————————————————————————\n",
      "Loading County Commission Dist 8.csv data...\n",
      " > Found data for 2 counties (1%)\n",
      "Verifying vote totals...\n"
     ]
    },
    {
     "data": {
      "application/vnd.jupyter.widget-view+json": {
       "model_id": "55c59336ce764ad9b9f1e1b65f15b1d3",
       "version_major": 2,
       "version_minor": 0
      },
      "text/plain": [
       "HBox(children=(HTML(value=''), FloatProgress(value=0.0, max=2.0), HTML(value='')))"
      ]
     },
     "metadata": {},
     "output_type": "display_data"
    },
    {
     "name": "stdout",
     "output_type": "stream",
     "text": [
      "\n",
      "> Vote totals verified — no errors\n",
      "————————————————————————————————————————————————————————————\n",
      "Loading Edison City Council Post 1 - Special.csv data...\n",
      " > Found data for 1 counties (1%)\n",
      "Verifying vote totals...\n"
     ]
    },
    {
     "data": {
      "application/vnd.jupyter.widget-view+json": {
       "model_id": "711a030be4634927b7027541538aabb5",
       "version_major": 2,
       "version_minor": 0
      },
      "text/plain": [
       "HBox(children=(HTML(value=''), FloatProgress(value=0.0, max=2.0), HTML(value='')))"
      ]
     },
     "metadata": {},
     "output_type": "display_data"
    },
    {
     "name": "stdout",
     "output_type": "stream",
     "text": [
      "\n",
      "> Vote totals verified — no errors\n",
      "————————————————————————————————————————————————————————————\n",
      "Loading Harrisburg Fire Advisory Board Post 6.csv data...\n",
      " > Found data for 1 counties (1%)\n",
      "Verifying vote totals...\n"
     ]
    },
    {
     "data": {
      "application/vnd.jupyter.widget-view+json": {
       "model_id": "80837fcbff72429aa6b9fff319172239",
       "version_major": 2,
       "version_minor": 0
      },
      "text/plain": [
       "HBox(children=(HTML(value=''), FloatProgress(value=0.0, max=1.0), HTML(value='')))"
      ]
     },
     "metadata": {},
     "output_type": "display_data"
    },
    {
     "name": "stdout",
     "output_type": "stream",
     "text": [
      "\n",
      "> Vote totals verified — no errors\n",
      "————————————————————————————————————————————————————————————\n",
      "Loading State House Dist 96.csv data...\n",
      " > Found data for 1 counties (1%)\n",
      "Verifying vote totals...\n"
     ]
    },
    {
     "data": {
      "application/vnd.jupyter.widget-view+json": {
       "model_id": "a509aee770b44b0a98e145e5fdb0dc39",
       "version_major": 2,
       "version_minor": 0
      },
      "text/plain": [
       "HBox(children=(HTML(value=''), FloatProgress(value=0.0, max=1.0), HTML(value='')))"
      ]
     },
     "metadata": {},
     "output_type": "display_data"
    },
    {
     "name": "stdout",
     "output_type": "stream",
     "text": [
      "\n",
      "> Vote totals verified — no errors\n",
      "————————————————————————————————————————————————————————————\n",
      "Loading Soil and Water - Lincoln County.csv data...\n",
      " > Found data for 1 counties (1%)\n",
      "Verifying vote totals...\n"
     ]
    },
    {
     "data": {
      "application/vnd.jupyter.widget-view+json": {
       "model_id": "8e48eacfcee244ba8025690195c33abe",
       "version_major": 2,
       "version_minor": 0
      },
      "text/plain": [
       "HBox(children=(HTML(value=''), FloatProgress(value=0.0, max=1.0), HTML(value='')))"
      ]
     },
     "metadata": {},
     "output_type": "display_data"
    },
    {
     "name": "stdout",
     "output_type": "stream",
     "text": [
      "\n",
      "> Vote totals verified — no errors\n",
      "————————————————————————————————————————————————————————————\n",
      "Loading State House Dist 92.csv data...\n",
      " > Found data for 2 counties (1%)\n",
      "Verifying vote totals...\n"
     ]
    },
    {
     "data": {
      "application/vnd.jupyter.widget-view+json": {
       "model_id": "8518a334ad4a4d7fa3bbd24338fd33fe",
       "version_major": 2,
       "version_minor": 0
      },
      "text/plain": [
       "HBox(children=(HTML(value=''), FloatProgress(value=0.0, max=1.0), HTML(value='')))"
      ]
     },
     "metadata": {},
     "output_type": "display_data"
    },
    {
     "name": "stdout",
     "output_type": "stream",
     "text": [
      "\n",
      "> Vote totals verified — no errors\n",
      "————————————————————————————————————————————————————————————\n",
      "Loading Camak Mayor.csv data...\n",
      " > Found data for 1 counties (1%)\n",
      "Verifying vote totals...\n"
     ]
    },
    {
     "data": {
      "application/vnd.jupyter.widget-view+json": {
       "model_id": "3147a2d396aa4623a3b471cc155b876a",
       "version_major": 2,
       "version_minor": 0
      },
      "text/plain": [
       "HBox(children=(HTML(value=''), FloatProgress(value=0.0, max=2.0), HTML(value='')))"
      ]
     },
     "metadata": {},
     "output_type": "display_data"
    },
    {
     "name": "stdout",
     "output_type": "stream",
     "text": [
      "\n",
      "> Vote totals verified — no errors\n",
      "————————————————————————————————————————————————————————————\n",
      "Loading President of the United States.csv data...\n",
      " > Found data for 159 counties (100%)\n",
      "Verifying vote totals...\n"
     ]
    },
    {
     "data": {
      "application/vnd.jupyter.widget-view+json": {
       "model_id": "fab3d00e366d4fc981fb3076dc24fc9a",
       "version_major": 2,
       "version_minor": 0
      },
      "text/plain": [
       "HBox(children=(HTML(value=''), FloatProgress(value=0.0, max=3.0), HTML(value='')))"
      ]
     },
     "metadata": {},
     "output_type": "display_data"
    },
    {
     "name": "stdout",
     "output_type": "stream",
     "text": [
      "\n",
      "> Vote totals verified — no errors\n",
      "————————————————————————————————————————————————————————————\n",
      "Loading State House Dist 125.csv data...\n",
      " > Found data for 1 counties (1%)\n",
      "Verifying vote totals...\n"
     ]
    },
    {
     "data": {
      "application/vnd.jupyter.widget-view+json": {
       "model_id": "00c32c857cbf494495aecc9babcb10ca",
       "version_major": 2,
       "version_minor": 0
      },
      "text/plain": [
       "HBox(children=(HTML(value=''), FloatProgress(value=0.0, max=1.0), HTML(value='')))"
      ]
     },
     "metadata": {},
     "output_type": "display_data"
    },
    {
     "name": "stdout",
     "output_type": "stream",
     "text": [
      "\n",
      "> Vote totals verified — no errors\n",
      "————————————————————————————————————————————————————————————\n",
      "Loading Soil and Water - Piedmont.csv data...\n",
      " > Found data for 2 counties (1%)\n",
      "Verifying vote totals...\n"
     ]
    },
    {
     "data": {
      "application/vnd.jupyter.widget-view+json": {
       "model_id": "5d30f589d43440c1aeb8be5b93800006",
       "version_major": 2,
       "version_minor": 0
      },
      "text/plain": [
       "HBox(children=(HTML(value=''), FloatProgress(value=0.0, max=2.0), HTML(value='')))"
      ]
     },
     "metadata": {},
     "output_type": "display_data"
    },
    {
     "name": "stdout",
     "output_type": "stream",
     "text": [
      "\n",
      "> Vote totals verified — no errors\n",
      "————————————————————————————————————————————————————————————\n",
      "Loading State House Dist 145.csv data...\n",
      " > Found data for 2 counties (1%)\n",
      "Verifying vote totals...\n"
     ]
    },
    {
     "data": {
      "application/vnd.jupyter.widget-view+json": {
       "model_id": "24f73bd932e745c68fb11c8697213ec8",
       "version_major": 2,
       "version_minor": 0
      },
      "text/plain": [
       "HBox(children=(HTML(value=''), FloatProgress(value=0.0, max=2.0), HTML(value='')))"
      ]
     },
     "metadata": {},
     "output_type": "display_data"
    },
    {
     "name": "stdout",
     "output_type": "stream",
     "text": [
      "\n",
      "> Vote totals verified — no errors\n",
      "————————————————————————————————————————————————————————————\n",
      "Loading State House Dist 151.csv data...\n",
      " > Found data for 9 counties (6%)\n",
      "Verifying vote totals...\n"
     ]
    },
    {
     "data": {
      "application/vnd.jupyter.widget-view+json": {
       "model_id": "c7fc38997edf491f9cfc5fbb7b7fc9e0",
       "version_major": 2,
       "version_minor": 0
      },
      "text/plain": [
       "HBox(children=(HTML(value=''), FloatProgress(value=0.0, max=2.0), HTML(value='')))"
      ]
     },
     "metadata": {},
     "output_type": "display_data"
    },
    {
     "name": "stdout",
     "output_type": "stream",
     "text": [
      "\n",
      "> Vote totals verified — no errors\n",
      "————————————————————————————————————————————————————————————\n",
      "Loading State House Dist 113.csv data...\n",
      " > Found data for 2 counties (1%)\n",
      "Verifying vote totals...\n"
     ]
    },
    {
     "data": {
      "application/vnd.jupyter.widget-view+json": {
       "model_id": "3c1316a468004ec39390d52e2010975b",
       "version_major": 2,
       "version_minor": 0
      },
      "text/plain": [
       "HBox(children=(HTML(value=''), FloatProgress(value=0.0, max=1.0), HTML(value='')))"
      ]
     },
     "metadata": {},
     "output_type": "display_data"
    },
    {
     "name": "stdout",
     "output_type": "stream",
     "text": [
      "\n",
      "> Vote totals verified — no errors\n",
      "————————————————————————————————————————————————————————————\n",
      "Loading State Senate Dist 10.csv data...\n",
      " > Found data for 2 counties (1%)\n",
      "Verifying vote totals...\n"
     ]
    },
    {
     "data": {
      "application/vnd.jupyter.widget-view+json": {
       "model_id": "f9073e0be47e480a8d3581df908d694a",
       "version_major": 2,
       "version_minor": 0
      },
      "text/plain": [
       "HBox(children=(HTML(value=''), FloatProgress(value=0.0, max=1.0), HTML(value='')))"
      ]
     },
     "metadata": {},
     "output_type": "display_data"
    },
    {
     "name": "stdout",
     "output_type": "stream",
     "text": [
      "\n",
      "> Vote totals verified — no errors\n",
      "————————————————————————————————————————————————————————————\n",
      "Loading State House Dist 82.csv data...\n",
      " > Found data for 1 counties (1%)\n",
      "Verifying vote totals...\n"
     ]
    },
    {
     "data": {
      "application/vnd.jupyter.widget-view+json": {
       "model_id": "220297b846c1435e89e58287f3ddbe0b",
       "version_major": 2,
       "version_minor": 0
      },
      "text/plain": [
       "HBox(children=(HTML(value=''), FloatProgress(value=0.0, max=1.0), HTML(value='')))"
      ]
     },
     "metadata": {},
     "output_type": "display_data"
    },
    {
     "name": "stdout",
     "output_type": "stream",
     "text": [
      "\n",
      "> Vote totals verified — no errors\n",
      "————————————————————————————————————————————————————————————\n",
      "Loading Dist Attorney - Augusta.csv data...\n",
      " > Found data for 3 counties (2%)\n",
      "Verifying vote totals...\n"
     ]
    },
    {
     "data": {
      "application/vnd.jupyter.widget-view+json": {
       "model_id": "f25c65f18ab3400d802562551612d114",
       "version_major": 2,
       "version_minor": 0
      },
      "text/plain": [
       "HBox(children=(HTML(value=''), FloatProgress(value=0.0, max=2.0), HTML(value='')))"
      ]
     },
     "metadata": {},
     "output_type": "display_data"
    },
    {
     "name": "stdout",
     "output_type": "stream",
     "text": [
      "\n",
      "> Vote totals verified — no errors\n",
      "————————————————————————————————————————————————————————————\n",
      "Loading Board of Education Post 1.csv data...\n",
      " > Found data for 4 counties (3%)\n",
      "Verifying vote totals...\n"
     ]
    },
    {
     "data": {
      "application/vnd.jupyter.widget-view+json": {
       "model_id": "f090f2fb60604786a587f3f8820b9a17",
       "version_major": 2,
       "version_minor": 0
      },
      "text/plain": [
       "HBox(children=(HTML(value=''), FloatProgress(value=0.0, max=5.0), HTML(value='')))"
      ]
     },
     "metadata": {},
     "output_type": "display_data"
    },
    {
     "name": "stdout",
     "output_type": "stream",
     "text": [
      "\n",
      "> Vote totals verified — no errors\n",
      "————————————————————————————————————————————————————————————\n",
      "Loading Dist Attorney - Dublin.csv data...\n",
      " > Found data for 4 counties (3%)\n",
      "Verifying vote totals...\n"
     ]
    },
    {
     "data": {
      "application/vnd.jupyter.widget-view+json": {
       "model_id": "301799354eed4b8aa181c70353eb68c2",
       "version_major": 2,
       "version_minor": 0
      },
      "text/plain": [
       "HBox(children=(HTML(value=''), FloatProgress(value=0.0, max=2.0), HTML(value='')))"
      ]
     },
     "metadata": {},
     "output_type": "display_data"
    },
    {
     "name": "stdout",
     "output_type": "stream",
     "text": [
      "\n",
      "> Vote totals verified — no errors\n",
      "————————————————————————————————————————————————————————————\n",
      "Loading State House Dist 117.csv data...\n",
      " > Found data for 4 counties (3%)\n",
      "Verifying vote totals...\n"
     ]
    },
    {
     "data": {
      "application/vnd.jupyter.widget-view+json": {
       "model_id": "5b91f7c55b6143b7bcfeb0f8d91fb43f",
       "version_major": 2,
       "version_minor": 0
      },
      "text/plain": [
       "HBox(children=(HTML(value=''), FloatProgress(value=0.0, max=2.0), HTML(value='')))"
      ]
     },
     "metadata": {},
     "output_type": "display_data"
    },
    {
     "name": "stdout",
     "output_type": "stream",
     "text": [
      "\n",
      "> Vote totals verified — no errors\n",
      "————————————————————————————————————————————————————————————\n",
      "Loading State Senate Dist 7.csv data...\n",
      " > Found data for 10 counties (6%)\n",
      "Verifying vote totals...\n"
     ]
    },
    {
     "data": {
      "application/vnd.jupyter.widget-view+json": {
       "model_id": "e1cd36ae6c53436eaab9b82cb2183443",
       "version_major": 2,
       "version_minor": 0
      },
      "text/plain": [
       "HBox(children=(HTML(value=''), FloatProgress(value=0.0, max=1.0), HTML(value='')))"
      ]
     },
     "metadata": {},
     "output_type": "display_data"
    },
    {
     "name": "stdout",
     "output_type": "stream",
     "text": [
      "\n",
      "> Vote totals verified — no errors\n",
      "————————————————————————————————————————————————————————————\n",
      "Loading State House Dist 83.csv data...\n",
      " > Found data for 1 counties (1%)\n",
      "Verifying vote totals...\n"
     ]
    },
    {
     "data": {
      "application/vnd.jupyter.widget-view+json": {
       "model_id": "709198ef1f3444dd95a0b3c77cbd22d0",
       "version_major": 2,
       "version_minor": 0
      },
      "text/plain": [
       "HBox(children=(HTML(value=''), FloatProgress(value=0.0, max=1.0), HTML(value='')))"
      ]
     },
     "metadata": {},
     "output_type": "display_data"
    },
    {
     "name": "stdout",
     "output_type": "stream",
     "text": [
      "\n",
      "> Vote totals verified — no errors\n",
      "————————————————————————————————————————————————————————————\n",
      "Loading State Senate Dist 51.csv data...\n",
      " > Found data for 8 counties (5%)\n",
      "Verifying vote totals...\n"
     ]
    },
    {
     "data": {
      "application/vnd.jupyter.widget-view+json": {
       "model_id": "ea8a96aafc724b8bb76667a676c36a58",
       "version_major": 2,
       "version_minor": 0
      },
      "text/plain": [
       "HBox(children=(HTML(value=''), FloatProgress(value=0.0, max=2.0), HTML(value='')))"
      ]
     },
     "metadata": {},
     "output_type": "display_data"
    },
    {
     "name": "stdout",
     "output_type": "stream",
     "text": [
      "\n",
      "> Vote totals verified — no errors\n",
      "————————————————————————————————————————————————————————————\n",
      "Loading State Senate Dist 50.csv data...\n",
      " > Found data for 8 counties (5%)\n",
      "Verifying vote totals...\n"
     ]
    },
    {
     "data": {
      "application/vnd.jupyter.widget-view+json": {
       "model_id": "c2b757e428004694bdcd8c2071eb5118",
       "version_major": 2,
       "version_minor": 0
      },
      "text/plain": [
       "HBox(children=(HTML(value=''), FloatProgress(value=0.0, max=2.0), HTML(value='')))"
      ]
     },
     "metadata": {},
     "output_type": "display_data"
    },
    {
     "name": "stdout",
     "output_type": "stream",
     "text": [
      "\n",
      "> Vote totals verified — no errors\n",
      "————————————————————————————————————————————————————————————\n",
      "Loading County Commission Dist 3 Post 1.csv data...\n",
      " > Found data for 1 counties (1%)\n",
      "Verifying vote totals...\n"
     ]
    },
    {
     "data": {
      "application/vnd.jupyter.widget-view+json": {
       "model_id": "f54452edf0424ce39f80af8d97235da9",
       "version_major": 2,
       "version_minor": 0
      },
      "text/plain": [
       "HBox(children=(HTML(value=''), FloatProgress(value=0.0, max=2.0), HTML(value='')))"
      ]
     },
     "metadata": {},
     "output_type": "display_data"
    },
    {
     "name": "stdout",
     "output_type": "stream",
     "text": [
      "\n",
      "> Vote totals verified — no errors\n",
      "————————————————————————————————————————————————————————————\n",
      "Loading State House Dist 142.csv data...\n",
      " > Found data for 1 counties (1%)\n",
      "Verifying vote totals...\n"
     ]
    },
    {
     "data": {
      "application/vnd.jupyter.widget-view+json": {
       "model_id": "3dc752dd538b4d5982764a0b29007d87",
       "version_major": 2,
       "version_minor": 0
      },
      "text/plain": [
       "HBox(children=(HTML(value=''), FloatProgress(value=0.0, max=1.0), HTML(value='')))"
      ]
     },
     "metadata": {},
     "output_type": "display_data"
    },
    {
     "name": "stdout",
     "output_type": "stream",
     "text": [
      "\n",
      "> Vote totals verified — no errors\n",
      "————————————————————————————————————————————————————————————\n",
      "Loading US Senate (Loeffler) - Special.csv data...\n",
      " > Found data for 159 counties (100%)\n",
      "\n",
      "POSSIBLE typo found (98% match)\n",
      " > 1. Matt Lieberman (Dem) — 140224 total votes\n",
      " > 2. Matt Lierberman (Dem) — 220 total votes\n",
      "  > Combine these candidates? (y/n):  y\n",
      "  > Which is correct? (1 or 2)  1\n",
      " > Candidate totals joined for Matt Lieberman (Dem)\n",
      " > Removed Matt Lierberman (Dem)\n",
      "Verifying vote totals...\n"
     ]
    },
    {
     "data": {
      "application/vnd.jupyter.widget-view+json": {
       "model_id": "7d5475c1a234423f8ea706b31c7d4657",
       "version_major": 2,
       "version_minor": 0
      },
      "text/plain": [
       "HBox(children=(HTML(value=''), FloatProgress(value=0.0, max=20.0), HTML(value='')))"
      ]
     },
     "metadata": {},
     "output_type": "display_data"
    },
    {
     "name": "stdout",
     "output_type": "stream",
     "text": [
      "\n",
      "> Vote totals verified — no errors\n",
      "————————————————————————————————————————————————————————————\n",
      "Loading County Commissioner.csv data...\n",
      " > Found data for 1 counties (1%)\n",
      "Verifying vote totals...\n"
     ]
    },
    {
     "data": {
      "application/vnd.jupyter.widget-view+json": {
       "model_id": "efc0f9126b4a467383aa41cf4c7dc72b",
       "version_major": 2,
       "version_minor": 0
      },
      "text/plain": [
       "HBox(children=(HTML(value=''), FloatProgress(value=0.0, max=2.0), HTML(value='')))"
      ]
     },
     "metadata": {},
     "output_type": "display_data"
    },
    {
     "name": "stdout",
     "output_type": "stream",
     "text": [
      "\n",
      "> Vote totals verified — no errors\n",
      "————————————————————————————————————————————————————————————\n",
      "Loading Haralson County ESPLOST - Special.csv data...\n",
      " > Found data for 1 counties (1%)\n",
      "Verifying vote totals...\n"
     ]
    },
    {
     "data": {
      "application/vnd.jupyter.widget-view+json": {
       "model_id": "006608d7c4b94932984766ec57ee2faa",
       "version_major": 2,
       "version_minor": 0
      },
      "text/plain": [
       "HBox(children=(HTML(value=''), FloatProgress(value=0.0, max=2.0), HTML(value='')))"
      ]
     },
     "metadata": {},
     "output_type": "display_data"
    },
    {
     "name": "stdout",
     "output_type": "stream",
     "text": [
      "\n",
      "> Vote totals verified — no errors\n",
      "————————————————————————————————————————————————————————————\n",
      "Loading State House Dist 110.csv data...\n",
      " > Found data for 3 counties (2%)\n",
      "Verifying vote totals...\n"
     ]
    },
    {
     "data": {
      "application/vnd.jupyter.widget-view+json": {
       "model_id": "626be8a939fe45378cd24f8793c19c79",
       "version_major": 2,
       "version_minor": 0
      },
      "text/plain": [
       "HBox(children=(HTML(value=''), FloatProgress(value=0.0, max=2.0), HTML(value='')))"
      ]
     },
     "metadata": {},
     "output_type": "display_data"
    },
    {
     "name": "stdout",
     "output_type": "stream",
     "text": [
      "\n",
      "> Vote totals verified — no errors\n",
      "————————————————————————————————————————————————————————————\n",
      "Loading County Commissioner Dist 1.csv data...\n",
      " > Found data for 1 counties (1%)\n",
      "Verifying vote totals...\n"
     ]
    },
    {
     "data": {
      "application/vnd.jupyter.widget-view+json": {
       "model_id": "c6504ccf31b14bf7badb9df737468227",
       "version_major": 2,
       "version_minor": 0
      },
      "text/plain": [
       "HBox(children=(HTML(value=''), FloatProgress(value=0.0, max=1.0), HTML(value='')))"
      ]
     },
     "metadata": {},
     "output_type": "display_data"
    },
    {
     "name": "stdout",
     "output_type": "stream",
     "text": [
      "\n",
      "> Vote totals verified — no errors\n",
      "————————————————————————————————————————————————————————————\n",
      "Loading State Senate Dist 39 - Special Democratic Primary.csv data...\n",
      " > Found data for 1 counties (1%)\n",
      "Verifying vote totals...\n"
     ]
    },
    {
     "data": {
      "application/vnd.jupyter.widget-view+json": {
       "model_id": "a07452e165b1474fb91d85e3029c6986",
       "version_major": 2,
       "version_minor": 0
      },
      "text/plain": [
       "HBox(children=(HTML(value=''), FloatProgress(value=0.0, max=4.0), HTML(value='')))"
      ]
     },
     "metadata": {},
     "output_type": "display_data"
    },
    {
     "name": "stdout",
     "output_type": "stream",
     "text": [
      "\n",
      "> Vote totals verified — no errors\n",
      "————————————————————————————————————————————————————————————\n",
      "Loading State House Dist 42.csv data...\n",
      " > Found data for 1 counties (1%)\n",
      "Verifying vote totals...\n"
     ]
    },
    {
     "data": {
      "application/vnd.jupyter.widget-view+json": {
       "model_id": "cf9a804f155449b4986ee371031fb765",
       "version_major": 2,
       "version_minor": 0
      },
      "text/plain": [
       "HBox(children=(HTML(value=''), FloatProgress(value=0.0, max=1.0), HTML(value='')))"
      ]
     },
     "metadata": {},
     "output_type": "display_data"
    },
    {
     "name": "stdout",
     "output_type": "stream",
     "text": [
      "\n",
      "> Vote totals verified — no errors\n",
      "————————————————————————————————————————————————————————————\n",
      "Loading State House Dist 67.csv data...\n",
      " > Found data for 2 counties (1%)\n",
      "Verifying vote totals...\n"
     ]
    },
    {
     "data": {
      "application/vnd.jupyter.widget-view+json": {
       "model_id": "d3836fb32fa7441d94ff8f0c62c0dfea",
       "version_major": 2,
       "version_minor": 0
      },
      "text/plain": [
       "HBox(children=(HTML(value=''), FloatProgress(value=0.0, max=2.0), HTML(value='')))"
      ]
     },
     "metadata": {},
     "output_type": "display_data"
    },
    {
     "name": "stdout",
     "output_type": "stream",
     "text": [
      "\n",
      "> Vote totals verified — no errors\n",
      "————————————————————————————————————————————————————————————\n",
      "Loading State House Dist 168.csv data...\n",
      " > Found data for 1 counties (1%)\n",
      "Verifying vote totals...\n"
     ]
    },
    {
     "data": {
      "application/vnd.jupyter.widget-view+json": {
       "model_id": "ba3f332462364af4b9f184465b9eeac3",
       "version_major": 2,
       "version_minor": 0
      },
      "text/plain": [
       "HBox(children=(HTML(value=''), FloatProgress(value=0.0, max=1.0), HTML(value='')))"
      ]
     },
     "metadata": {},
     "output_type": "display_data"
    },
    {
     "name": "stdout",
     "output_type": "stream",
     "text": [
      "\n",
      "> Vote totals verified — no errors\n",
      "————————————————————————————————————————————————————————————\n",
      "Loading State House Dist 31.csv data...\n",
      " > Found data for 1 counties (1%)\n",
      "Verifying vote totals...\n"
     ]
    },
    {
     "data": {
      "application/vnd.jupyter.widget-view+json": {
       "model_id": "142dbb162e1d4507906a43f2f98b75a7",
       "version_major": 2,
       "version_minor": 0
      },
      "text/plain": [
       "HBox(children=(HTML(value=''), FloatProgress(value=0.0, max=2.0), HTML(value='')))"
      ]
     },
     "metadata": {},
     "output_type": "display_data"
    },
    {
     "name": "stdout",
     "output_type": "stream",
     "text": [
      "\n",
      "> Vote totals verified — no errors\n",
      "————————————————————————————————————————————————————————————\n",
      "Loading State Senate Dist 16.csv data...\n",
      " > Found data for 4 counties (3%)\n",
      "Verifying vote totals...\n"
     ]
    },
    {
     "data": {
      "application/vnd.jupyter.widget-view+json": {
       "model_id": "dddcc836a49c4063a77ac858d4fdb9bb",
       "version_major": 2,
       "version_minor": 0
      },
      "text/plain": [
       "HBox(children=(HTML(value=''), FloatProgress(value=0.0, max=2.0), HTML(value='')))"
      ]
     },
     "metadata": {},
     "output_type": "display_data"
    },
    {
     "name": "stdout",
     "output_type": "stream",
     "text": [
      "\n",
      "> Vote totals verified — no errors\n",
      "————————————————————————————————————————————————————————————\n",
      "Loading Dist Attorney - Piedmont.csv data...\n",
      " > Found data for 3 counties (2%)\n",
      "Verifying vote totals...\n"
     ]
    },
    {
     "data": {
      "application/vnd.jupyter.widget-view+json": {
       "model_id": "5a243736534a4f03bb82a33363abcfee",
       "version_major": 2,
       "version_minor": 0
      },
      "text/plain": [
       "HBox(children=(HTML(value=''), FloatProgress(value=0.0, max=1.0), HTML(value='')))"
      ]
     },
     "metadata": {},
     "output_type": "display_data"
    },
    {
     "name": "stdout",
     "output_type": "stream",
     "text": [
      "\n",
      "> Vote totals verified — no errors\n",
      "————————————————————————————————————————————————————————————\n",
      "Loading Soil and Water - DeKalb County.csv data...\n",
      " > Found data for 1 counties (1%)\n",
      "Verifying vote totals...\n"
     ]
    },
    {
     "data": {
      "application/vnd.jupyter.widget-view+json": {
       "model_id": "da029a899b3a44cf8720e09c4459a5e3",
       "version_major": 2,
       "version_minor": 0
      },
      "text/plain": [
       "HBox(children=(HTML(value=''), FloatProgress(value=0.0, max=1.0), HTML(value='')))"
      ]
     },
     "metadata": {},
     "output_type": "display_data"
    },
    {
     "name": "stdout",
     "output_type": "stream",
     "text": [
      "\n",
      "> Vote totals verified — no errors\n",
      "————————————————————————————————————————————————————————————\n",
      "Loading State House Dist 77.csv data...\n",
      " > Found data for 1 counties (1%)\n",
      "Verifying vote totals...\n"
     ]
    },
    {
     "data": {
      "application/vnd.jupyter.widget-view+json": {
       "model_id": "6b803c07818f44e0820bed6e53f9f8de",
       "version_major": 2,
       "version_minor": 0
      },
      "text/plain": [
       "HBox(children=(HTML(value=''), FloatProgress(value=0.0, max=1.0), HTML(value='')))"
      ]
     },
     "metadata": {},
     "output_type": "display_data"
    },
    {
     "name": "stdout",
     "output_type": "stream",
     "text": [
      "\n",
      "> Vote totals verified — no errors\n",
      "————————————————————————————————————————————————————————————\n",
      "Loading State House Dist 138.csv data...\n",
      " > Found data for 4 counties (3%)\n",
      "Verifying vote totals...\n"
     ]
    },
    {
     "data": {
      "application/vnd.jupyter.widget-view+json": {
       "model_id": "c8821e2a314b47e49a452fbec4ff0835",
       "version_major": 2,
       "version_minor": 0
      },
      "text/plain": [
       "HBox(children=(HTML(value=''), FloatProgress(value=0.0, max=2.0), HTML(value='')))"
      ]
     },
     "metadata": {},
     "output_type": "display_data"
    },
    {
     "name": "stdout",
     "output_type": "stream",
     "text": [
      "\n",
      "> Vote totals verified — no errors\n",
      "————————————————————————————————————————————————————————————\n",
      "Loading State House Dist 115.csv data...\n",
      " > Found data for 1 counties (1%)\n",
      "Verifying vote totals...\n"
     ]
    },
    {
     "data": {
      "application/vnd.jupyter.widget-view+json": {
       "model_id": "f7731508092945b7b4a082455837b4f7",
       "version_major": 2,
       "version_minor": 0
      },
      "text/plain": [
       "HBox(children=(HTML(value=''), FloatProgress(value=0.0, max=2.0), HTML(value='')))"
      ]
     },
     "metadata": {},
     "output_type": "display_data"
    },
    {
     "name": "stdout",
     "output_type": "stream",
     "text": [
      "\n",
      "> Vote totals verified — no errors\n",
      "————————————————————————————————————————————————————————————\n",
      "Loading State Senate Dist 54.csv data...\n",
      " > Found data for 4 counties (3%)\n",
      "Verifying vote totals...\n"
     ]
    },
    {
     "data": {
      "application/vnd.jupyter.widget-view+json": {
       "model_id": "e6823f1b167d40dfbd2de5884eef6e9b",
       "version_major": 2,
       "version_minor": 0
      },
      "text/plain": [
       "HBox(children=(HTML(value=''), FloatProgress(value=0.0, max=1.0), HTML(value='')))"
      ]
     },
     "metadata": {},
     "output_type": "display_data"
    },
    {
     "name": "stdout",
     "output_type": "stream",
     "text": [
      "\n",
      "> Vote totals verified — no errors\n",
      "————————————————————————————————————————————————————————————\n",
      "Loading Dist Attorney - Gwinnett.csv data...\n",
      " > Found data for 1 counties (1%)\n",
      "Verifying vote totals...\n"
     ]
    },
    {
     "data": {
      "application/vnd.jupyter.widget-view+json": {
       "model_id": "93a6661277d643fdae96fb088c337b53",
       "version_major": 2,
       "version_minor": 0
      },
      "text/plain": [
       "HBox(children=(HTML(value=''), FloatProgress(value=0.0, max=2.0), HTML(value='')))"
      ]
     },
     "metadata": {},
     "output_type": "display_data"
    },
    {
     "name": "stdout",
     "output_type": "stream",
     "text": [
      "\n",
      "> Vote totals verified — no errors\n",
      "————————————————————————————————————————————————————————————\n",
      "Loading State House Dist 147.csv data...\n",
      " > Found data for 1 counties (1%)\n",
      "Verifying vote totals...\n"
     ]
    },
    {
     "data": {
      "application/vnd.jupyter.widget-view+json": {
       "model_id": "eca60a36918f41658f8066a577ee0fc8",
       "version_major": 2,
       "version_minor": 0
      },
      "text/plain": [
       "HBox(children=(HTML(value=''), FloatProgress(value=0.0, max=2.0), HTML(value='')))"
      ]
     },
     "metadata": {},
     "output_type": "display_data"
    },
    {
     "name": "stdout",
     "output_type": "stream",
     "text": [
      "\n",
      "> Vote totals verified — no errors\n",
      "————————————————————————————————————————————————————————————\n",
      "Loading State Senate Dist 38.csv data...\n",
      " > Found data for 2 counties (1%)\n",
      "Verifying vote totals...\n"
     ]
    },
    {
     "data": {
      "application/vnd.jupyter.widget-view+json": {
       "model_id": "7f4c483293194765b9f3ee147808e1b3",
       "version_major": 2,
       "version_minor": 0
      },
      "text/plain": [
       "HBox(children=(HTML(value=''), FloatProgress(value=0.0, max=1.0), HTML(value='')))"
      ]
     },
     "metadata": {},
     "output_type": "display_data"
    },
    {
     "name": "stdout",
     "output_type": "stream",
     "text": [
      "\n",
      "> Vote totals verified — no errors\n",
      "————————————————————————————————————————————————————————————\n",
      "Loading US House Dist 10.csv data...\n",
      " > Found data for 25 counties (16%)\n",
      "Verifying vote totals...\n"
     ]
    },
    {
     "data": {
      "application/vnd.jupyter.widget-view+json": {
       "model_id": "152ece6b59aa4e16a737a37ad970cb7e",
       "version_major": 2,
       "version_minor": 0
      },
      "text/plain": [
       "HBox(children=(HTML(value=''), FloatProgress(value=0.0, max=2.0), HTML(value='')))"
      ]
     },
     "metadata": {},
     "output_type": "display_data"
    },
    {
     "name": "stdout",
     "output_type": "stream",
     "text": [
      "\n",
      "> Vote totals verified — no errors\n",
      "————————————————————————————————————————————————————————————\n",
      "Loading Board of Education Vice Chair.csv data...\n",
      " > Found data for 1 counties (1%)\n",
      "Verifying vote totals...\n"
     ]
    },
    {
     "data": {
      "application/vnd.jupyter.widget-view+json": {
       "model_id": "468b291720ac42ce8a798105610e2032",
       "version_major": 2,
       "version_minor": 0
      },
      "text/plain": [
       "HBox(children=(HTML(value=''), FloatProgress(value=0.0, max=1.0), HTML(value='')))"
      ]
     },
     "metadata": {},
     "output_type": "display_data"
    },
    {
     "name": "stdout",
     "output_type": "stream",
     "text": [
      "\n",
      "> Vote totals verified — no errors\n",
      "————————————————————————————————————————————————————————————\n",
      "Loading State Senate Dist 22.csv data...\n",
      " > Found data for 1 counties (1%)\n",
      "Verifying vote totals...\n"
     ]
    },
    {
     "data": {
      "application/vnd.jupyter.widget-view+json": {
       "model_id": "2e08c28ada8740709f64b110b2a0fa63",
       "version_major": 2,
       "version_minor": 0
      },
      "text/plain": [
       "HBox(children=(HTML(value=''), FloatProgress(value=0.0, max=1.0), HTML(value='')))"
      ]
     },
     "metadata": {},
     "output_type": "display_data"
    },
    {
     "name": "stdout",
     "output_type": "stream",
     "text": [
      "\n",
      "> Vote totals verified — no errors\n",
      "————————————————————————————————————————————————————————————\n",
      "Loading US House Dist 11.csv data...\n",
      " > Found data for 4 counties (3%)\n",
      "Verifying vote totals...\n"
     ]
    },
    {
     "data": {
      "application/vnd.jupyter.widget-view+json": {
       "model_id": "863637432a6a4a7ca175fe1d58f047f6",
       "version_major": 2,
       "version_minor": 0
      },
      "text/plain": [
       "HBox(children=(HTML(value=''), FloatProgress(value=0.0, max=2.0), HTML(value='')))"
      ]
     },
     "metadata": {},
     "output_type": "display_data"
    },
    {
     "name": "stdout",
     "output_type": "stream",
     "text": [
      "\n",
      "> Vote totals verified — no errors\n",
      "————————————————————————————————————————————————————————————\n",
      "Loading Soil and Water - Towaliga.csv data...\n",
      " > Found data for 3 counties (2%)\n",
      "Verifying vote totals...\n"
     ]
    },
    {
     "data": {
      "application/vnd.jupyter.widget-view+json": {
       "model_id": "7a7df1e958704cccb3b89123a15e10f4",
       "version_major": 2,
       "version_minor": 0
      },
      "text/plain": [
       "HBox(children=(HTML(value=''), FloatProgress(value=0.0, max=3.0), HTML(value='')))"
      ]
     },
     "metadata": {},
     "output_type": "display_data"
    },
    {
     "name": "stdout",
     "output_type": "stream",
     "text": [
      "\n",
      "> Vote totals verified — no errors\n",
      "————————————————————————————————————————————————————————————\n",
      "Loading Special One Percent Sales and Use Tax - Special.csv data...\n",
      " > Found data for 1 counties (1%)\n",
      "Verifying vote totals...\n"
     ]
    },
    {
     "data": {
      "application/vnd.jupyter.widget-view+json": {
       "model_id": "0ffa360ed5a74b14a19e4e8c05c89100",
       "version_major": 2,
       "version_minor": 0
      },
      "text/plain": [
       "HBox(children=(HTML(value=''), FloatProgress(value=0.0, max=2.0), HTML(value='')))"
      ]
     },
     "metadata": {},
     "output_type": "display_data"
    },
    {
     "name": "stdout",
     "output_type": "stream",
     "text": [
      "\n",
      "> Vote totals verified — no errors\n",
      "————————————————————————————————————————————————————————————\n",
      "Loading Soil and Water - Columbia County.csv data...\n",
      " > Found data for 1 counties (1%)\n",
      "Verifying vote totals...\n"
     ]
    },
    {
     "data": {
      "application/vnd.jupyter.widget-view+json": {
       "model_id": "7e4e8b6bf53040c8b336e9b50707710f",
       "version_major": 2,
       "version_minor": 0
      },
      "text/plain": [
       "HBox(children=(HTML(value=''), FloatProgress(value=0.0, max=1.0), HTML(value='')))"
      ]
     },
     "metadata": {},
     "output_type": "display_data"
    },
    {
     "name": "stdout",
     "output_type": "stream",
     "text": [
      "\n",
      "> Vote totals verified — no errors\n",
      "————————————————————————————————————————————————————————————\n",
      "Loading State House Dist 165.csv data...\n",
      " > Found data for 1 counties (1%)\n",
      "Verifying vote totals...\n"
     ]
    },
    {
     "data": {
      "application/vnd.jupyter.widget-view+json": {
       "model_id": "c8373fbcacb44b269a88975ca75bd620",
       "version_major": 2,
       "version_minor": 0
      },
      "text/plain": [
       "HBox(children=(HTML(value=''), FloatProgress(value=0.0, max=1.0), HTML(value='')))"
      ]
     },
     "metadata": {},
     "output_type": "display_data"
    },
    {
     "name": "stdout",
     "output_type": "stream",
     "text": [
      "\n",
      "> Vote totals verified — no errors\n",
      "————————————————————————————————————————————————————————————\n",
      "Loading County Commission Post 1.csv data...\n",
      " > Found data for 8 counties (5%)\n",
      "Verifying vote totals...\n"
     ]
    },
    {
     "data": {
      "application/vnd.jupyter.widget-view+json": {
       "model_id": "e2d88518df9641299ce6b32c17281c4e",
       "version_major": 2,
       "version_minor": 0
      },
      "text/plain": [
       "HBox(children=(HTML(value=''), FloatProgress(value=0.0, max=11.0), HTML(value='')))"
      ]
     },
     "metadata": {},
     "output_type": "display_data"
    },
    {
     "name": "stdout",
     "output_type": "stream",
     "text": [
      "\n",
      "> Vote totals verified — no errors\n",
      "————————————————————————————————————————————————————————————\n",
      "Loading State House Dist 121.csv data...\n",
      " > Found data for 2 counties (1%)\n",
      "Verifying vote totals...\n"
     ]
    },
    {
     "data": {
      "application/vnd.jupyter.widget-view+json": {
       "model_id": "63d1f4d18aaa48a491421c9a46d710e3",
       "version_major": 2,
       "version_minor": 0
      },
      "text/plain": [
       "HBox(children=(HTML(value=''), FloatProgress(value=0.0, max=1.0), HTML(value='')))"
      ]
     },
     "metadata": {},
     "output_type": "display_data"
    },
    {
     "name": "stdout",
     "output_type": "stream",
     "text": [
      "\n",
      "> Vote totals verified — no errors\n",
      "————————————————————————————————————————————————————————————\n",
      "Loading State House Dist 73.csv data...\n",
      " > Found data for 3 counties (2%)\n",
      "Verifying vote totals...\n"
     ]
    },
    {
     "data": {
      "application/vnd.jupyter.widget-view+json": {
       "model_id": "4dd944a3b02f4e93aa5749c3391f395a",
       "version_major": 2,
       "version_minor": 0
      },
      "text/plain": [
       "HBox(children=(HTML(value=''), FloatProgress(value=0.0, max=2.0), HTML(value='')))"
      ]
     },
     "metadata": {},
     "output_type": "display_data"
    },
    {
     "name": "stdout",
     "output_type": "stream",
     "text": [
      "\n",
      "> Vote totals verified — no errors\n",
      "————————————————————————————————————————————————————————————\n",
      "Loading County Commission Dist 3.csv data...\n",
      " > Found data for 66 counties (42%)\n",
      "Verifying vote totals...\n"
     ]
    },
    {
     "data": {
      "application/vnd.jupyter.widget-view+json": {
       "model_id": "fce330f0f19148ca94801df4d6f0cfce",
       "version_major": 2,
       "version_minor": 0
      },
      "text/plain": [
       "HBox(children=(HTML(value=''), FloatProgress(value=0.0, max=79.0), HTML(value='')))"
      ]
     },
     "metadata": {},
     "output_type": "display_data"
    },
    {
     "name": "stdout",
     "output_type": "stream",
     "text": [
      "\n",
      ">>> Vote totals verified — 0.00047 error rate\n",
      "————————————————————————————————————————————————————————————\n",
      "Loading State House Dist 108.csv data...\n",
      " > Found data for 1 counties (1%)\n",
      "Verifying vote totals...\n"
     ]
    },
    {
     "data": {
      "application/vnd.jupyter.widget-view+json": {
       "model_id": "83df9d6700f145328e13334cc2bb535d",
       "version_major": 2,
       "version_minor": 0
      },
      "text/plain": [
       "HBox(children=(HTML(value=''), FloatProgress(value=0.0, max=2.0), HTML(value='')))"
      ]
     },
     "metadata": {},
     "output_type": "display_data"
    },
    {
     "name": "stdout",
     "output_type": "stream",
     "text": [
      "\n",
      "> Vote totals verified — no errors\n",
      "————————————————————————————————————————————————————————————\n",
      "Loading State House Dist 52.csv data...\n",
      " > Found data for 1 counties (1%)\n",
      "Verifying vote totals...\n"
     ]
    },
    {
     "data": {
      "application/vnd.jupyter.widget-view+json": {
       "model_id": "fb6fa8924f9c4505aa572bb27241caaa",
       "version_major": 2,
       "version_minor": 0
      },
      "text/plain": [
       "HBox(children=(HTML(value=''), FloatProgress(value=0.0, max=2.0), HTML(value='')))"
      ]
     },
     "metadata": {},
     "output_type": "display_data"
    },
    {
     "name": "stdout",
     "output_type": "stream",
     "text": [
      "\n",
      "> Vote totals verified — no errors\n",
      "————————————————————————————————————————————————————————————\n",
      "Loading County Commission Dist 2 Seat A.csv data...\n",
      " > Found data for 1 counties (1%)\n",
      "Verifying vote totals...\n"
     ]
    },
    {
     "data": {
      "application/vnd.jupyter.widget-view+json": {
       "model_id": "ce4352a42dcc4cb480591fda9d566309",
       "version_major": 2,
       "version_minor": 0
      },
      "text/plain": [
       "HBox(children=(HTML(value=''), FloatProgress(value=0.0, max=1.0), HTML(value='')))"
      ]
     },
     "metadata": {},
     "output_type": "display_data"
    },
    {
     "name": "stdout",
     "output_type": "stream",
     "text": [
      "\n",
      "> Vote totals verified — no errors\n",
      "————————————————————————————————————————————————————————————\n",
      "Loading Board of Education Dist 3.csv data...\n",
      " > Found data for 33 counties (21%)\n",
      "Verifying vote totals...\n"
     ]
    },
    {
     "data": {
      "application/vnd.jupyter.widget-view+json": {
       "model_id": "aa46c05cf6dd4f8ab535d747219b05d1",
       "version_major": 2,
       "version_minor": 0
      },
      "text/plain": [
       "HBox(children=(HTML(value=''), FloatProgress(value=0.0, max=35.0), HTML(value='')))"
      ]
     },
     "metadata": {},
     "output_type": "display_data"
    },
    {
     "name": "stdout",
     "output_type": "stream",
     "text": [
      "\n",
      "> Vote totals verified — no errors\n",
      "————————————————————————————————————————————————————————————\n",
      "Loading State House Dist 149.csv data...\n",
      " > Found data for 5 counties (3%)\n",
      "Verifying vote totals...\n"
     ]
    },
    {
     "data": {
      "application/vnd.jupyter.widget-view+json": {
       "model_id": "8e28c888ee7b469eb0785f55ca23c293",
       "version_major": 2,
       "version_minor": 0
      },
      "text/plain": [
       "HBox(children=(HTML(value=''), FloatProgress(value=0.0, max=1.0), HTML(value='')))"
      ]
     },
     "metadata": {},
     "output_type": "display_data"
    },
    {
     "name": "stdout",
     "output_type": "stream",
     "text": [
      "\n",
      "> Vote totals verified — no errors\n",
      "————————————————————————————————————————————————————————————\n",
      "Loading State House Dist 141.csv data...\n",
      " > Found data for 2 counties (1%)\n",
      "Verifying vote totals...\n"
     ]
    },
    {
     "data": {
      "application/vnd.jupyter.widget-view+json": {
       "model_id": "f35cb46872db457a93b3e34ae66b1a55",
       "version_major": 2,
       "version_minor": 0
      },
      "text/plain": [
       "HBox(children=(HTML(value=''), FloatProgress(value=0.0, max=1.0), HTML(value='')))"
      ]
     },
     "metadata": {},
     "output_type": "display_data"
    },
    {
     "name": "stdout",
     "output_type": "stream",
     "text": [
      "\n",
      "> Vote totals verified — no errors\n",
      "————————————————————————————————————————————————————————————\n",
      "Loading County Commission Hoggards Mill Dist.csv data...\n",
      " > Found data for 1 counties (1%)\n",
      "Verifying vote totals...\n"
     ]
    },
    {
     "data": {
      "application/vnd.jupyter.widget-view+json": {
       "model_id": "f8a54d7f26654f3096f3c6a99fd8617d",
       "version_major": 2,
       "version_minor": 0
      },
      "text/plain": [
       "HBox(children=(HTML(value=''), FloatProgress(value=0.0, max=1.0), HTML(value='')))"
      ]
     },
     "metadata": {},
     "output_type": "display_data"
    },
    {
     "name": "stdout",
     "output_type": "stream",
     "text": [
      "\n",
      "> Vote totals verified — no errors\n",
      "————————————————————————————————————————————————————————————\n",
      "Loading State House Dist 126.csv data...\n",
      " > Found data for 2 counties (1%)\n",
      "Verifying vote totals...\n"
     ]
    },
    {
     "data": {
      "application/vnd.jupyter.widget-view+json": {
       "model_id": "4f60de7d558c45e5bc20e64c73458610",
       "version_major": 2,
       "version_minor": 0
      },
      "text/plain": [
       "HBox(children=(HTML(value=''), FloatProgress(value=0.0, max=1.0), HTML(value='')))"
      ]
     },
     "metadata": {},
     "output_type": "display_data"
    },
    {
     "name": "stdout",
     "output_type": "stream",
     "text": [
      "\n",
      "> Vote totals verified — no errors\n",
      "————————————————————————————————————————————————————————————\n",
      "Loading Dist Attorney - Western - Special.csv data...\n",
      " > Found data for 2 counties (1%)\n",
      "Verifying vote totals...\n"
     ]
    },
    {
     "data": {
      "application/vnd.jupyter.widget-view+json": {
       "model_id": "9fa718532a4b417fa1ca3c223dc6ecb1",
       "version_major": 2,
       "version_minor": 0
      },
      "text/plain": [
       "HBox(children=(HTML(value=''), FloatProgress(value=0.0, max=3.0), HTML(value='')))"
      ]
     },
     "metadata": {},
     "output_type": "display_data"
    },
    {
     "name": "stdout",
     "output_type": "stream",
     "text": [
      "\n",
      "> Vote totals verified — no errors\n",
      "————————————————————————————————————————————————————————————\n",
      "Loading Board of Education Precinct 2.csv data...\n",
      " > Found data for 1 counties (1%)\n",
      "Verifying vote totals...\n"
     ]
    },
    {
     "data": {
      "application/vnd.jupyter.widget-view+json": {
       "model_id": "ef19f03122124044a7f7bae5dce756f9",
       "version_major": 2,
       "version_minor": 0
      },
      "text/plain": [
       "HBox(children=(HTML(value=''), FloatProgress(value=0.0, max=1.0), HTML(value='')))"
      ]
     },
     "metadata": {},
     "output_type": "display_data"
    },
    {
     "name": "stdout",
     "output_type": "stream",
     "text": [
      "\n",
      "> Vote totals verified — no errors\n",
      "————————————————————————————————————————————————————————————\n",
      "Loading State House Dist 135.csv data...\n",
      " > Found data for 1 counties (1%)\n",
      "Verifying vote totals...\n"
     ]
    },
    {
     "data": {
      "application/vnd.jupyter.widget-view+json": {
       "model_id": "7719f7c091a24ab99ff29619b0104830",
       "version_major": 2,
       "version_minor": 0
      },
      "text/plain": [
       "HBox(children=(HTML(value=''), FloatProgress(value=0.0, max=1.0), HTML(value='')))"
      ]
     },
     "metadata": {},
     "output_type": "display_data"
    },
    {
     "name": "stdout",
     "output_type": "stream",
     "text": [
      "\n",
      "> Vote totals verified — no errors\n",
      "————————————————————————————————————————————————————————————\n",
      "Loading State House Dist 47.csv data...\n",
      " > Found data for 1 counties (1%)\n",
      "Verifying vote totals...\n"
     ]
    },
    {
     "data": {
      "application/vnd.jupyter.widget-view+json": {
       "model_id": "4ec9c0d8815d47c48ef7931aafd1c792",
       "version_major": 2,
       "version_minor": 0
      },
      "text/plain": [
       "HBox(children=(HTML(value=''), FloatProgress(value=0.0, max=2.0), HTML(value='')))"
      ]
     },
     "metadata": {},
     "output_type": "display_data"
    },
    {
     "name": "stdout",
     "output_type": "stream",
     "text": [
      "\n",
      "> Vote totals verified — no errors\n",
      "————————————————————————————————————————————————————————————\n",
      "Loading Board of Education Precinct 1.csv data...\n",
      " > Found data for 1 counties (1%)\n",
      "Verifying vote totals...\n"
     ]
    },
    {
     "data": {
      "application/vnd.jupyter.widget-view+json": {
       "model_id": "0e9fc6a03c044a40930032ba8f9f284c",
       "version_major": 2,
       "version_minor": 0
      },
      "text/plain": [
       "HBox(children=(HTML(value=''), FloatProgress(value=0.0, max=1.0), HTML(value='')))"
      ]
     },
     "metadata": {},
     "output_type": "display_data"
    },
    {
     "name": "stdout",
     "output_type": "stream",
     "text": [
      "\n",
      "> Vote totals verified — no errors\n",
      "————————————————————————————————————————————————————————————\n",
      "Loading State House Dist 153.csv data...\n",
      " > Found data for 1 counties (1%)\n",
      "Verifying vote totals...\n"
     ]
    },
    {
     "data": {
      "application/vnd.jupyter.widget-view+json": {
       "model_id": "0e13ddd8fa664c009affea2baee60631",
       "version_major": 2,
       "version_minor": 0
      },
      "text/plain": [
       "HBox(children=(HTML(value=''), FloatProgress(value=0.0, max=1.0), HTML(value='')))"
      ]
     },
     "metadata": {},
     "output_type": "display_data"
    },
    {
     "name": "stdout",
     "output_type": "stream",
     "text": [
      "\n",
      "> Vote totals verified — no errors\n",
      "————————————————————————————————————————————————————————————\n",
      "Loading State Senate Dist 29.csv data...\n",
      " > Found data for 4 counties (3%)\n",
      "Verifying vote totals...\n"
     ]
    },
    {
     "data": {
      "application/vnd.jupyter.widget-view+json": {
       "model_id": "be8da5bb59ed4974ad9172071fdd8262",
       "version_major": 2,
       "version_minor": 0
      },
      "text/plain": [
       "HBox(children=(HTML(value=''), FloatProgress(value=0.0, max=1.0), HTML(value='')))"
      ]
     },
     "metadata": {},
     "output_type": "display_data"
    },
    {
     "name": "stdout",
     "output_type": "stream",
     "text": [
      "\n",
      "> Vote totals verified — no errors\n",
      "————————————————————————————————————————————————————————————\n",
      "Loading US House Dist 3.csv data...\n",
      " > Found data for 13 counties (8%)\n",
      "Verifying vote totals...\n"
     ]
    },
    {
     "data": {
      "application/vnd.jupyter.widget-view+json": {
       "model_id": "27b0724736214b8e961c28badb77343a",
       "version_major": 2,
       "version_minor": 0
      },
      "text/plain": [
       "HBox(children=(HTML(value=''), FloatProgress(value=0.0, max=2.0), HTML(value='')))"
      ]
     },
     "metadata": {},
     "output_type": "display_data"
    },
    {
     "name": "stdout",
     "output_type": "stream",
     "text": [
      "\n",
      "> Vote totals verified — no errors\n",
      "————————————————————————————————————————————————————————————\n",
      "Loading State Senate Dist 48.csv data...\n",
      " > Found data for 2 counties (1%)\n",
      "Verifying vote totals...\n"
     ]
    },
    {
     "data": {
      "application/vnd.jupyter.widget-view+json": {
       "model_id": "527b87f19a864e16a0b29f69b146af64",
       "version_major": 2,
       "version_minor": 0
      },
      "text/plain": [
       "HBox(children=(HTML(value=''), FloatProgress(value=0.0, max=2.0), HTML(value='')))"
      ]
     },
     "metadata": {},
     "output_type": "display_data"
    },
    {
     "name": "stdout",
     "output_type": "stream",
     "text": [
      "\n",
      "> Vote totals verified — no errors\n",
      "————————————————————————————————————————————————————————————\n",
      "Loading Screven Sunday Package Sales - Special.csv data...\n",
      " > Found data for 1 counties (1%)\n",
      "Verifying vote totals...\n"
     ]
    },
    {
     "data": {
      "application/vnd.jupyter.widget-view+json": {
       "model_id": "d0138d0e9b0d46aab88c45aa83af6c3a",
       "version_major": 2,
       "version_minor": 0
      },
      "text/plain": [
       "HBox(children=(HTML(value=''), FloatProgress(value=0.0, max=2.0), HTML(value='')))"
      ]
     },
     "metadata": {},
     "output_type": "display_data"
    },
    {
     "name": "stdout",
     "output_type": "stream",
     "text": [
      "\n",
      "> Vote totals verified — no errors\n",
      "————————————————————————————————————————————————————————————\n",
      "Loading State House Dist 84.csv data...\n",
      " > Found data for 1 counties (1%)\n",
      "Verifying vote totals...\n"
     ]
    },
    {
     "data": {
      "application/vnd.jupyter.widget-view+json": {
       "model_id": "83f308e03f0d4e80b2753ffa27ab003e",
       "version_major": 2,
       "version_minor": 0
      },
      "text/plain": [
       "HBox(children=(HTML(value=''), FloatProgress(value=0.0, max=1.0), HTML(value='')))"
      ]
     },
     "metadata": {},
     "output_type": "display_data"
    },
    {
     "name": "stdout",
     "output_type": "stream",
     "text": [
      "\n",
      "> Vote totals verified — no errors\n",
      "————————————————————————————————————————————————————————————\n",
      "Loading State Senate Dist 53.csv data...\n",
      " > Found data for 4 counties (3%)\n",
      "Verifying vote totals...\n"
     ]
    },
    {
     "data": {
      "application/vnd.jupyter.widget-view+json": {
       "model_id": "a9ea9e114fc74a6aa151f8ecdfab8c83",
       "version_major": 2,
       "version_minor": 0
      },
      "text/plain": [
       "HBox(children=(HTML(value=''), FloatProgress(value=0.0, max=1.0), HTML(value='')))"
      ]
     },
     "metadata": {},
     "output_type": "display_data"
    },
    {
     "name": "stdout",
     "output_type": "stream",
     "text": [
      "\n",
      "> Vote totals verified — no errors\n",
      "————————————————————————————————————————————————————————————\n",
      "Loading State House Dist 144.csv data...\n",
      " > Found data for 7 counties (4%)\n",
      "Verifying vote totals...\n"
     ]
    },
    {
     "data": {
      "application/vnd.jupyter.widget-view+json": {
       "model_id": "8fe00308ec01445bbaa69985ff0578d3",
       "version_major": 2,
       "version_minor": 0
      },
      "text/plain": [
       "HBox(children=(HTML(value=''), FloatProgress(value=0.0, max=3.0), HTML(value='')))"
      ]
     },
     "metadata": {},
     "output_type": "display_data"
    },
    {
     "name": "stdout",
     "output_type": "stream",
     "text": [
      "\n",
      "> Vote totals verified — no errors\n",
      "————————————————————————————————————————————————————————————\n",
      "Loading US House Dist 7.csv data...\n",
      " > Found data for 2 counties (1%)\n",
      "Verifying vote totals...\n"
     ]
    },
    {
     "data": {
      "application/vnd.jupyter.widget-view+json": {
       "model_id": "fda50d87723e4b3b8eee0bc58ee21ba4",
       "version_major": 2,
       "version_minor": 0
      },
      "text/plain": [
       "HBox(children=(HTML(value=''), FloatProgress(value=0.0, max=2.0), HTML(value='')))"
      ]
     },
     "metadata": {},
     "output_type": "display_data"
    },
    {
     "name": "stdout",
     "output_type": "stream",
     "text": [
      "\n",
      "> Vote totals verified — no errors\n",
      "————————————————————————————————————————————————————————————\n",
      "Loading State House Dist 160.csv data...\n",
      " > Found data for 2 counties (1%)\n",
      "Verifying vote totals...\n"
     ]
    },
    {
     "data": {
      "application/vnd.jupyter.widget-view+json": {
       "model_id": "f6e55a99b52044558e126a0f90d326f5",
       "version_major": 2,
       "version_minor": 0
      },
      "text/plain": [
       "HBox(children=(HTML(value=''), FloatProgress(value=0.0, max=1.0), HTML(value='')))"
      ]
     },
     "metadata": {},
     "output_type": "display_data"
    },
    {
     "name": "stdout",
     "output_type": "stream",
     "text": [
      "\n",
      "> Vote totals verified — no errors\n",
      "————————————————————————————————————————————————————————————\n",
      "Loading State House Dist 136.csv data...\n",
      " > Found data for 1 counties (1%)\n",
      "Verifying vote totals...\n"
     ]
    },
    {
     "data": {
      "application/vnd.jupyter.widget-view+json": {
       "model_id": "4c13c592757c4697a450399907bf440a",
       "version_major": 2,
       "version_minor": 0
      },
      "text/plain": [
       "HBox(children=(HTML(value=''), FloatProgress(value=0.0, max=1.0), HTML(value='')))"
      ]
     },
     "metadata": {},
     "output_type": "display_data"
    },
    {
     "name": "stdout",
     "output_type": "stream",
     "text": [
      "\n",
      "> Vote totals verified — no errors\n",
      "————————————————————————————————————————————————————————————\n",
      "Loading State Senate Dist 4.csv data...\n",
      " > Found data for 6 counties (4%)\n",
      "Verifying vote totals...\n"
     ]
    },
    {
     "data": {
      "application/vnd.jupyter.widget-view+json": {
       "model_id": "d16afb852a69455ca3550ba1cf10f64b",
       "version_major": 2,
       "version_minor": 0
      },
      "text/plain": [
       "HBox(children=(HTML(value=''), FloatProgress(value=0.0, max=1.0), HTML(value='')))"
      ]
     },
     "metadata": {},
     "output_type": "display_data"
    },
    {
     "name": "stdout",
     "output_type": "stream",
     "text": [
      "\n",
      "> Vote totals verified — no errors\n",
      "————————————————————————————————————————————————————————————\n",
      "Loading State House Dist 103.csv data...\n",
      " > Found data for 2 counties (1%)\n",
      "Verifying vote totals...\n"
     ]
    },
    {
     "data": {
      "application/vnd.jupyter.widget-view+json": {
       "model_id": "0d1db6101640470d873fb2ce0ec437e5",
       "version_major": 2,
       "version_minor": 0
      },
      "text/plain": [
       "HBox(children=(HTML(value=''), FloatProgress(value=0.0, max=2.0), HTML(value='')))"
      ]
     },
     "metadata": {},
     "output_type": "display_data"
    },
    {
     "name": "stdout",
     "output_type": "stream",
     "text": [
      "\n",
      "> Vote totals verified — no errors\n",
      "————————————————————————————————————————————————————————————\n",
      "Loading Soil and Water - Lower Chattahoochee River.csv data...\n",
      " > Found data for 2 counties (1%)\n",
      "Verifying vote totals...\n"
     ]
    },
    {
     "data": {
      "application/vnd.jupyter.widget-view+json": {
       "model_id": "53db8ee0b7054f568d1a18f46808ecae",
       "version_major": 2,
       "version_minor": 0
      },
      "text/plain": [
       "HBox(children=(HTML(value=''), FloatProgress(value=0.0, max=2.0), HTML(value='')))"
      ]
     },
     "metadata": {},
     "output_type": "display_data"
    },
    {
     "name": "stdout",
     "output_type": "stream",
     "text": [
      "\n",
      "> Vote totals verified — no errors\n",
      "————————————————————————————————————————————————————————————\n",
      "Loading Dist Attorney - Appalachian.csv data...\n",
      " > Found data for 3 counties (2%)\n",
      "Verifying vote totals...\n"
     ]
    },
    {
     "data": {
      "application/vnd.jupyter.widget-view+json": {
       "model_id": "c1065b28c0a34484ad58e8cfdfcc5ab5",
       "version_major": 2,
       "version_minor": 0
      },
      "text/plain": [
       "HBox(children=(HTML(value=''), FloatProgress(value=0.0, max=1.0), HTML(value='')))"
      ]
     },
     "metadata": {},
     "output_type": "display_data"
    },
    {
     "name": "stdout",
     "output_type": "stream",
     "text": [
      "\n",
      "> Vote totals verified — no errors\n",
      "————————————————————————————————————————————————————————————\n",
      "Loading Dist Attorney - Alapaha.csv data...\n",
      " > Found data for 5 counties (3%)\n",
      "Verifying vote totals...\n"
     ]
    },
    {
     "data": {
      "application/vnd.jupyter.widget-view+json": {
       "model_id": "0383fe86a431443f89c0add6b340ce74",
       "version_major": 2,
       "version_minor": 0
      },
      "text/plain": [
       "HBox(children=(HTML(value=''), FloatProgress(value=0.0, max=1.0), HTML(value='')))"
      ]
     },
     "metadata": {},
     "output_type": "display_data"
    },
    {
     "name": "stdout",
     "output_type": "stream",
     "text": [
      "\n",
      "> Vote totals verified — no errors\n",
      "————————————————————————————————————————————————————————————\n",
      "Loading Crawfordville City Council Post 4 - Special.csv data...\n",
      " > Found data for 1 counties (1%)\n",
      "Verifying vote totals...\n"
     ]
    },
    {
     "data": {
      "application/vnd.jupyter.widget-view+json": {
       "model_id": "cb3b1aca1f78417abd62516c9867553c",
       "version_major": 2,
       "version_minor": 0
      },
      "text/plain": [
       "HBox(children=(HTML(value=''), FloatProgress(value=0.0, max=3.0), HTML(value='')))"
      ]
     },
     "metadata": {},
     "output_type": "display_data"
    },
    {
     "name": "stdout",
     "output_type": "stream",
     "text": [
      "\n",
      "> Vote totals verified — no errors\n",
      "————————————————————————————————————————————————————————————\n",
      "Loading State House Dist 99.csv data...\n",
      " > Found data for 1 counties (1%)\n",
      "Verifying vote totals...\n"
     ]
    },
    {
     "data": {
      "application/vnd.jupyter.widget-view+json": {
       "model_id": "ffeb5354bab949f89b25fc3d93a82021",
       "version_major": 2,
       "version_minor": 0
      },
      "text/plain": [
       "HBox(children=(HTML(value=''), FloatProgress(value=0.0, max=1.0), HTML(value='')))"
      ]
     },
     "metadata": {},
     "output_type": "display_data"
    },
    {
     "name": "stdout",
     "output_type": "stream",
     "text": [
      "\n",
      "> Vote totals verified — no errors\n",
      "————————————————————————————————————————————————————————————\n",
      "Loading State Senate Dist 47.csv data...\n",
      " > Found data for 4 counties (3%)\n",
      "Verifying vote totals...\n"
     ]
    },
    {
     "data": {
      "application/vnd.jupyter.widget-view+json": {
       "model_id": "2c3d4a0904e54e298d84174561fa409a",
       "version_major": 2,
       "version_minor": 0
      },
      "text/plain": [
       "HBox(children=(HTML(value=''), FloatProgress(value=0.0, max=2.0), HTML(value='')))"
      ]
     },
     "metadata": {},
     "output_type": "display_data"
    },
    {
     "name": "stdout",
     "output_type": "stream",
     "text": [
      "\n",
      "> Vote totals verified — no errors\n",
      "————————————————————————————————————————————————————————————\n",
      "Loading Dist Attorney - Flint.csv data...\n",
      " > Found data for 1 counties (1%)\n",
      "Verifying vote totals...\n"
     ]
    },
    {
     "data": {
      "application/vnd.jupyter.widget-view+json": {
       "model_id": "c18f883378bc423fbd56dec0ab9acf9e",
       "version_major": 2,
       "version_minor": 0
      },
      "text/plain": [
       "HBox(children=(HTML(value=''), FloatProgress(value=0.0, max=1.0), HTML(value='')))"
      ]
     },
     "metadata": {},
     "output_type": "display_data"
    },
    {
     "name": "stdout",
     "output_type": "stream",
     "text": [
      "\n",
      "> Vote totals verified — no errors\n",
      "————————————————————————————————————————————————————————————\n",
      "Loading Jackson Trail Fire Advisory Board Post 3.csv data...\n",
      " > Found data for 1 counties (1%)\n",
      "Verifying vote totals...\n"
     ]
    },
    {
     "data": {
      "application/vnd.jupyter.widget-view+json": {
       "model_id": "32b3a762ba5b44b89a050441e4b28d39",
       "version_major": 2,
       "version_minor": 0
      },
      "text/plain": [
       "HBox(children=(HTML(value=''), FloatProgress(value=0.0, max=1.0), HTML(value='')))"
      ]
     },
     "metadata": {},
     "output_type": "display_data"
    },
    {
     "name": "stdout",
     "output_type": "stream",
     "text": [
      "\n",
      "> Vote totals verified — no errors\n",
      "————————————————————————————————————————————————————————————\n",
      "Loading State House Dist 22.csv data...\n",
      " > Found data for 3 counties (2%)\n",
      "Verifying vote totals...\n"
     ]
    },
    {
     "data": {
      "application/vnd.jupyter.widget-view+json": {
       "model_id": "6533298da6444e6782e1f1e3fe6b2b93",
       "version_major": 2,
       "version_minor": 0
      },
      "text/plain": [
       "HBox(children=(HTML(value=''), FloatProgress(value=0.0, max=2.0), HTML(value='')))"
      ]
     },
     "metadata": {},
     "output_type": "display_data"
    },
    {
     "name": "stdout",
     "output_type": "stream",
     "text": [
      "\n",
      "> Vote totals verified — no errors\n",
      "————————————————————————————————————————————————————————————\n",
      "Loading County Commission Dist 3 - Special.csv data...\n",
      " > Found data for 1 counties (1%)\n",
      "Verifying vote totals...\n"
     ]
    },
    {
     "data": {
      "application/vnd.jupyter.widget-view+json": {
       "model_id": "085c781acc2840cf8762caefc22498fc",
       "version_major": 2,
       "version_minor": 0
      },
      "text/plain": [
       "HBox(children=(HTML(value=''), FloatProgress(value=0.0, max=2.0), HTML(value='')))"
      ]
     },
     "metadata": {},
     "output_type": "display_data"
    },
    {
     "name": "stdout",
     "output_type": "stream",
     "text": [
      "\n",
      "> Vote totals verified — no errors\n",
      "————————————————————————————————————————————————————————————\n",
      "Loading State House Dist 166.csv data...\n",
      " > Found data for 2 counties (1%)\n",
      "Verifying vote totals...\n"
     ]
    },
    {
     "data": {
      "application/vnd.jupyter.widget-view+json": {
       "model_id": "189e410971234b5cae596ee428a1e836",
       "version_major": 2,
       "version_minor": 0
      },
      "text/plain": [
       "HBox(children=(HTML(value=''), FloatProgress(value=0.0, max=2.0), HTML(value='')))"
      ]
     },
     "metadata": {},
     "output_type": "display_data"
    },
    {
     "name": "stdout",
     "output_type": "stream",
     "text": [
      "\n",
      "> Vote totals verified — no errors\n",
      "————————————————————————————————————————————————————————————\n",
      "Loading Statewide Referendum A.csv data...\n",
      " > Found data for 59 counties (37%)\n",
      "Verifying vote totals...\n"
     ]
    },
    {
     "data": {
      "application/vnd.jupyter.widget-view+json": {
       "model_id": "a4b56e33fd9c4d95b8ec9ecadeca955c",
       "version_major": 2,
       "version_minor": 0
      },
      "text/plain": [
       "HBox(children=(HTML(value=''), FloatProgress(value=0.0, max=2.0), HTML(value='')))"
      ]
     },
     "metadata": {},
     "output_type": "display_data"
    },
    {
     "name": "stdout",
     "output_type": "stream",
     "text": [
      "\n",
      "> Vote totals verified — no errors\n",
      "————————————————————————————————————————————————————————————\n",
      "Loading Soil and Water - Lamar County.csv data...\n",
      " > Found data for 1 counties (1%)\n",
      "Verifying vote totals...\n"
     ]
    },
    {
     "data": {
      "application/vnd.jupyter.widget-view+json": {
       "model_id": "fbe46d2a6b4d45f39f700c67038991b8",
       "version_major": 2,
       "version_minor": 0
      },
      "text/plain": [
       "HBox(children=(HTML(value=''), FloatProgress(value=0.0, max=2.0), HTML(value='')))"
      ]
     },
     "metadata": {},
     "output_type": "display_data"
    },
    {
     "name": "stdout",
     "output_type": "stream",
     "text": [
      "\n",
      "> Vote totals verified — no errors\n",
      "————————————————————————————————————————————————————————————\n",
      "Loading State House Dist 178.csv data...\n",
      " > Found data for 4 counties (3%)\n",
      "Verifying vote totals...\n"
     ]
    },
    {
     "data": {
      "application/vnd.jupyter.widget-view+json": {
       "model_id": "9ef2fe56cde6444db950f4df07b59f5a",
       "version_major": 2,
       "version_minor": 0
      },
      "text/plain": [
       "HBox(children=(HTML(value=''), FloatProgress(value=0.0, max=1.0), HTML(value='')))"
      ]
     },
     "metadata": {},
     "output_type": "display_data"
    },
    {
     "name": "stdout",
     "output_type": "stream",
     "text": [
      "\n",
      "> Vote totals verified — no errors\n",
      "————————————————————————————————————————————————————————————\n",
      "Loading Dist Attorney - Brunswick.csv data...\n",
      " > Found data for 5 counties (3%)\n",
      "Verifying vote totals...\n"
     ]
    },
    {
     "data": {
      "application/vnd.jupyter.widget-view+json": {
       "model_id": "69567e10acb84d828d307d35edf3d2a1",
       "version_major": 2,
       "version_minor": 0
      },
      "text/plain": [
       "HBox(children=(HTML(value=''), FloatProgress(value=0.0, max=2.0), HTML(value='')))"
      ]
     },
     "metadata": {},
     "output_type": "display_data"
    },
    {
     "name": "stdout",
     "output_type": "stream",
     "text": [
      "\n",
      "> Vote totals verified — no errors\n",
      "————————————————————————————————————————————————————————————\n",
      "Loading State House Dist 156.csv data...\n",
      " > Found data for 4 counties (3%)\n",
      "Verifying vote totals...\n"
     ]
    },
    {
     "data": {
      "application/vnd.jupyter.widget-view+json": {
       "model_id": "473da78b3feb43129185b7998ce2adf3",
       "version_major": 2,
       "version_minor": 0
      },
      "text/plain": [
       "HBox(children=(HTML(value=''), FloatProgress(value=0.0, max=1.0), HTML(value='')))"
      ]
     },
     "metadata": {},
     "output_type": "display_data"
    },
    {
     "name": "stdout",
     "output_type": "stream",
     "text": [
      "\n",
      "> Vote totals verified — no errors\n",
      "————————————————————————————————————————————————————————————\n",
      "Loading State House Dist 74.csv data...\n",
      " > Found data for 1 counties (1%)\n",
      "Verifying vote totals...\n"
     ]
    },
    {
     "data": {
      "application/vnd.jupyter.widget-view+json": {
       "model_id": "06c97706da7647f4b0bd59e03cce573a",
       "version_major": 2,
       "version_minor": 0
      },
      "text/plain": [
       "HBox(children=(HTML(value=''), FloatProgress(value=0.0, max=1.0), HTML(value='')))"
      ]
     },
     "metadata": {},
     "output_type": "display_data"
    },
    {
     "name": "stdout",
     "output_type": "stream",
     "text": [
      "\n",
      "> Vote totals verified — no errors\n",
      "————————————————————————————————————————————————————————————\n",
      "Loading State House Dist 54.csv data...\n",
      " > Found data for 1 counties (1%)\n",
      "Verifying vote totals...\n"
     ]
    },
    {
     "data": {
      "application/vnd.jupyter.widget-view+json": {
       "model_id": "ccc3c74400114df7a28a99610a940370",
       "version_major": 2,
       "version_minor": 0
      },
      "text/plain": [
       "HBox(children=(HTML(value=''), FloatProgress(value=0.0, max=2.0), HTML(value='')))"
      ]
     },
     "metadata": {},
     "output_type": "display_data"
    },
    {
     "name": "stdout",
     "output_type": "stream",
     "text": [
      "\n",
      "> Vote totals verified — no errors\n",
      "————————————————————————————————————————————————————————————\n",
      "Loading ESPLOST - Special.csv data...\n",
      " > Found data for 1 counties (1%)\n",
      "Verifying vote totals...\n"
     ]
    },
    {
     "data": {
      "application/vnd.jupyter.widget-view+json": {
       "model_id": "cf816cac91104c958078902ed36ee669",
       "version_major": 2,
       "version_minor": 0
      },
      "text/plain": [
       "HBox(children=(HTML(value=''), FloatProgress(value=0.0, max=2.0), HTML(value='')))"
      ]
     },
     "metadata": {},
     "output_type": "display_data"
    },
    {
     "name": "stdout",
     "output_type": "stream",
     "text": [
      "\n",
      "> Vote totals verified — no errors\n",
      "————————————————————————————————————————————————————————————\n",
      "Loading Soil and Water - Upper Ocmulgee River.csv data...\n",
      " > Found data for 1 counties (1%)\n",
      "Verifying vote totals...\n"
     ]
    },
    {
     "data": {
      "application/vnd.jupyter.widget-view+json": {
       "model_id": "638b4615544642a0b70e34f90a804ec0",
       "version_major": 2,
       "version_minor": 0
      },
      "text/plain": [
       "HBox(children=(HTML(value=''), FloatProgress(value=0.0, max=1.0), HTML(value='')))"
      ]
     },
     "metadata": {},
     "output_type": "display_data"
    },
    {
     "name": "stdout",
     "output_type": "stream",
     "text": [
      "\n",
      "> Vote totals verified — no errors\n",
      "————————————————————————————————————————————————————————————\n",
      "Loading County Commissioner At Large Post 2.csv data...\n",
      " > Found data for 1 counties (1%)\n",
      "Verifying vote totals...\n"
     ]
    },
    {
     "data": {
      "application/vnd.jupyter.widget-view+json": {
       "model_id": "5514d8d3dd554d9da5df399a436c7685",
       "version_major": 2,
       "version_minor": 0
      },
      "text/plain": [
       "HBox(children=(HTML(value=''), FloatProgress(value=0.0, max=2.0), HTML(value='')))"
      ]
     },
     "metadata": {},
     "output_type": "display_data"
    },
    {
     "name": "stdout",
     "output_type": "stream",
     "text": [
      "\n",
      "> Vote totals verified — no errors\n",
      "————————————————————————————————————————————————————————————\n",
      "Loading County Commission Anna Dist.csv data...\n",
      " > Found data for 1 counties (1%)\n",
      "Verifying vote totals...\n"
     ]
    },
    {
     "data": {
      "application/vnd.jupyter.widget-view+json": {
       "model_id": "72b9872917174c0b907ef0fb0d90adea",
       "version_major": 2,
       "version_minor": 0
      },
      "text/plain": [
       "HBox(children=(HTML(value=''), FloatProgress(value=0.0, max=1.0), HTML(value='')))"
      ]
     },
     "metadata": {},
     "output_type": "display_data"
    },
    {
     "name": "stdout",
     "output_type": "stream",
     "text": [
      "\n",
      "> Vote totals verified — no errors\n",
      "————————————————————————————————————————————————————————————\n",
      "Loading State House Dist 57.csv data...\n",
      " > Found data for 1 counties (1%)\n",
      "Verifying vote totals...\n"
     ]
    },
    {
     "data": {
      "application/vnd.jupyter.widget-view+json": {
       "model_id": "66aad5ae522143078ba7c77ab10d0ebe",
       "version_major": 2,
       "version_minor": 0
      },
      "text/plain": [
       "HBox(children=(HTML(value=''), FloatProgress(value=0.0, max=1.0), HTML(value='')))"
      ]
     },
     "metadata": {},
     "output_type": "display_data"
    },
    {
     "name": "stdout",
     "output_type": "stream",
     "text": [
      "\n",
      "> Vote totals verified — no errors\n",
      "————————————————————————————————————————————————————————————\n",
      "Loading State House Dist 23.csv data...\n",
      " > Found data for 1 counties (1%)\n",
      "Verifying vote totals...\n"
     ]
    },
    {
     "data": {
      "application/vnd.jupyter.widget-view+json": {
       "model_id": "87fd59d6bf3e44aa9f8266ecf6ba86d8",
       "version_major": 2,
       "version_minor": 0
      },
      "text/plain": [
       "HBox(children=(HTML(value=''), FloatProgress(value=0.0, max=1.0), HTML(value='')))"
      ]
     },
     "metadata": {},
     "output_type": "display_data"
    },
    {
     "name": "stdout",
     "output_type": "stream",
     "text": [
      "\n",
      "> Vote totals verified — no errors\n",
      "————————————————————————————————————————————————————————————\n",
      "Loading County Chairperson.csv data...\n",
      " > Found data for 1 counties (1%)\n",
      "Verifying vote totals...\n"
     ]
    },
    {
     "data": {
      "application/vnd.jupyter.widget-view+json": {
       "model_id": "203481ef60aa4e3b816c47c1149979cd",
       "version_major": 2,
       "version_minor": 0
      },
      "text/plain": [
       "HBox(children=(HTML(value=''), FloatProgress(value=0.0, max=2.0), HTML(value='')))"
      ]
     },
     "metadata": {},
     "output_type": "display_data"
    },
    {
     "name": "stdout",
     "output_type": "stream",
     "text": [
      "\n",
      "> Vote totals verified — no errors\n",
      "————————————————————————————————————————————————————————————\n",
      "Loading Dist Attorney - Conasauga.csv data...\n",
      " > Found data for 2 counties (1%)\n",
      "Verifying vote totals...\n"
     ]
    },
    {
     "data": {
      "application/vnd.jupyter.widget-view+json": {
       "model_id": "c3ec40c4f2674e99a3a0308b23d627e9",
       "version_major": 2,
       "version_minor": 0
      },
      "text/plain": [
       "HBox(children=(HTML(value=''), FloatProgress(value=0.0, max=1.0), HTML(value='')))"
      ]
     },
     "metadata": {},
     "output_type": "display_data"
    },
    {
     "name": "stdout",
     "output_type": "stream",
     "text": [
      "\n",
      "> Vote totals verified — no errors\n",
      "————————————————————————————————————————————————————————————\n",
      "Loading County Commission Dist 2 (Term Expires 2022) - Special.csv data...\n",
      " > Found data for 1 counties (1%)\n",
      "Verifying vote totals...\n"
     ]
    },
    {
     "data": {
      "application/vnd.jupyter.widget-view+json": {
       "model_id": "0a8927f166594b0abb12f6a1699febca",
       "version_major": 2,
       "version_minor": 0
      },
      "text/plain": [
       "HBox(children=(HTML(value=''), FloatProgress(value=0.0, max=5.0), HTML(value='')))"
      ]
     },
     "metadata": {},
     "output_type": "display_data"
    },
    {
     "name": "stdout",
     "output_type": "stream",
     "text": [
      "\n",
      "> Vote totals verified — no errors\n",
      "————————————————————————————————————————————————————————————\n",
      "Loading Dawson City Council Ward 1.csv data...\n",
      " > Found data for 1 counties (1%)\n",
      "Verifying vote totals...\n"
     ]
    },
    {
     "data": {
      "application/vnd.jupyter.widget-view+json": {
       "model_id": "e557841c91004dfc8da085610318bf63",
       "version_major": 2,
       "version_minor": 0
      },
      "text/plain": [
       "HBox(children=(HTML(value=''), FloatProgress(value=0.0, max=2.0), HTML(value='')))"
      ]
     },
     "metadata": {},
     "output_type": "display_data"
    },
    {
     "name": "stdout",
     "output_type": "stream",
     "text": [
      "\n",
      "> Vote totals verified — no errors\n",
      "————————————————————————————————————————————————————————————\n",
      "Loading State Senate Dist 12.csv data...\n",
      " > Found data for 11 counties (7%)\n",
      "Verifying vote totals...\n"
     ]
    },
    {
     "data": {
      "application/vnd.jupyter.widget-view+json": {
       "model_id": "35d5a5b41feb4893ac214d2e3c62527c",
       "version_major": 2,
       "version_minor": 0
      },
      "text/plain": [
       "HBox(children=(HTML(value=''), FloatProgress(value=0.0, max=2.0), HTML(value='')))"
      ]
     },
     "metadata": {},
     "output_type": "display_data"
    },
    {
     "name": "stdout",
     "output_type": "stream",
     "text": [
      "\n",
      "> Vote totals verified — no errors\n",
      "————————————————————————————————————————————————————————————\n",
      "Loading Plainview Fire Advisory Board Post 3.csv data...\n",
      " > Found data for 1 counties (1%)\n",
      "Verifying vote totals...\n"
     ]
    },
    {
     "data": {
      "application/vnd.jupyter.widget-view+json": {
       "model_id": "6068ce96aa6f42baa732ec2cdeb54c52",
       "version_major": 2,
       "version_minor": 0
      },
      "text/plain": [
       "HBox(children=(HTML(value=''), FloatProgress(value=0.0, max=1.0), HTML(value='')))"
      ]
     },
     "metadata": {},
     "output_type": "display_data"
    },
    {
     "name": "stdout",
     "output_type": "stream",
     "text": [
      "\n",
      "> Vote totals verified — no errors\n",
      "————————————————————————————————————————————————————————————\n",
      "Loading State House Dist 68.csv data...\n",
      " > Found data for 2 counties (1%)\n",
      "Verifying vote totals...\n"
     ]
    },
    {
     "data": {
      "application/vnd.jupyter.widget-view+json": {
       "model_id": "187251c0c9904b2b8533fe94d31edba6",
       "version_major": 2,
       "version_minor": 0
      },
      "text/plain": [
       "HBox(children=(HTML(value=''), FloatProgress(value=0.0, max=1.0), HTML(value='')))"
      ]
     },
     "metadata": {},
     "output_type": "display_data"
    },
    {
     "name": "stdout",
     "output_type": "stream",
     "text": [
      "\n",
      "> Vote totals verified — no errors\n",
      "————————————————————————————————————————————————————————————\n",
      "Loading County Commission Elmodel Dist.csv data...\n",
      " > Found data for 1 counties (1%)\n",
      "Verifying vote totals...\n"
     ]
    },
    {
     "data": {
      "application/vnd.jupyter.widget-view+json": {
       "model_id": "eb8ae295093c42c29a4d1b767f2b51b8",
       "version_major": 2,
       "version_minor": 0
      },
      "text/plain": [
       "HBox(children=(HTML(value=''), FloatProgress(value=0.0, max=1.0), HTML(value='')))"
      ]
     },
     "metadata": {},
     "output_type": "display_data"
    },
    {
     "name": "stdout",
     "output_type": "stream",
     "text": [
      "\n",
      "> Vote totals verified — no errors\n",
      "————————————————————————————————————————————————————————————\n",
      "Loading State House Dist 143.csv data...\n",
      " > Found data for 1 counties (1%)\n",
      "Verifying vote totals...\n"
     ]
    },
    {
     "data": {
      "application/vnd.jupyter.widget-view+json": {
       "model_id": "69c01465f3e04872a8fc2f8e4a7879c5",
       "version_major": 2,
       "version_minor": 0
      },
      "text/plain": [
       "HBox(children=(HTML(value=''), FloatProgress(value=0.0, max=1.0), HTML(value='')))"
      ]
     },
     "metadata": {},
     "output_type": "display_data"
    },
    {
     "name": "stdout",
     "output_type": "stream",
     "text": [
      "\n",
      "> Vote totals verified — no errors\n",
      "————————————————————————————————————————————————————————————\n",
      "Loading County Commissioner Dist 2.csv data...\n",
      " > Found data for 1 counties (1%)\n",
      "Verifying vote totals...\n"
     ]
    },
    {
     "data": {
      "application/vnd.jupyter.widget-view+json": {
       "model_id": "e2e56a84ef5f4b35b205a52287fa53ef",
       "version_major": 2,
       "version_minor": 0
      },
      "text/plain": [
       "HBox(children=(HTML(value=''), FloatProgress(value=0.0, max=1.0), HTML(value='')))"
      ]
     },
     "metadata": {},
     "output_type": "display_data"
    },
    {
     "name": "stdout",
     "output_type": "stream",
     "text": [
      "\n",
      "> Vote totals verified — no errors\n",
      "————————————————————————————————————————————————————————————\n",
      "Loading County Commission Dist 1, Seat A.csv data...\n",
      " > Found data for 1 counties (1%)\n",
      "Verifying vote totals...\n"
     ]
    },
    {
     "data": {
      "application/vnd.jupyter.widget-view+json": {
       "model_id": "d53c428c4dcf42cba5b6d2e99676a837",
       "version_major": 2,
       "version_minor": 0
      },
      "text/plain": [
       "HBox(children=(HTML(value=''), FloatProgress(value=0.0, max=1.0), HTML(value='')))"
      ]
     },
     "metadata": {},
     "output_type": "display_data"
    },
    {
     "name": "stdout",
     "output_type": "stream",
     "text": [
      "\n",
      "> Vote totals verified — no errors\n",
      "————————————————————————————————————————————————————————————\n",
      "Loading Board of Education Dist 8 At Large.csv data...\n",
      " > Found data for 1 counties (1%)\n",
      "Verifying vote totals...\n"
     ]
    },
    {
     "data": {
      "application/vnd.jupyter.widget-view+json": {
       "model_id": "ae4d9d135dcc444abc25cd05798df144",
       "version_major": 2,
       "version_minor": 0
      },
      "text/plain": [
       "HBox(children=(HTML(value=''), FloatProgress(value=0.0, max=1.0), HTML(value='')))"
      ]
     },
     "metadata": {},
     "output_type": "display_data"
    },
    {
     "name": "stdout",
     "output_type": "stream",
     "text": [
      "\n",
      "> Vote totals verified — no errors\n",
      "————————————————————————————————————————————————————————————\n",
      "Loading Dist Attorney - Cobb - Special.csv data...\n",
      " > Found data for 1 counties (1%)\n",
      "Verifying vote totals...\n"
     ]
    },
    {
     "data": {
      "application/vnd.jupyter.widget-view+json": {
       "model_id": "5ca9b9587b7f415386707f448dddd497",
       "version_major": 2,
       "version_minor": 0
      },
      "text/plain": [
       "HBox(children=(HTML(value=''), FloatProgress(value=0.0, max=2.0), HTML(value='')))"
      ]
     },
     "metadata": {},
     "output_type": "display_data"
    },
    {
     "name": "stdout",
     "output_type": "stream",
     "text": [
      "\n",
      "> Vote totals verified — no errors\n",
      "————————————————————————————————————————————————————————————\n",
      "Loading Arcade Fire Advisory Board Post 2.csv data...\n",
      " > Found data for 1 counties (1%)\n",
      "Verifying vote totals...\n"
     ]
    },
    {
     "data": {
      "application/vnd.jupyter.widget-view+json": {
       "model_id": "3154c150dc5e4c31a8e2643559ad0b4c",
       "version_major": 2,
       "version_minor": 0
      },
      "text/plain": [
       "HBox(children=(HTML(value=''), FloatProgress(value=0.0, max=1.0), HTML(value='')))"
      ]
     },
     "metadata": {},
     "output_type": "display_data"
    },
    {
     "name": "stdout",
     "output_type": "stream",
     "text": [
      "\n",
      "> Vote totals verified — no errors\n",
      "————————————————————————————————————————————————————————————\n",
      "Loading State House Dist 18.csv data...\n",
      " > Found data for 2 counties (1%)\n",
      "Verifying vote totals...\n"
     ]
    },
    {
     "data": {
      "application/vnd.jupyter.widget-view+json": {
       "model_id": "ce86527300974110987af9e473320acd",
       "version_major": 2,
       "version_minor": 0
      },
      "text/plain": [
       "HBox(children=(HTML(value=''), FloatProgress(value=0.0, max=2.0), HTML(value='')))"
      ]
     },
     "metadata": {},
     "output_type": "display_data"
    },
    {
     "name": "stdout",
     "output_type": "stream",
     "text": [
      "\n",
      "> Vote totals verified — no errors\n",
      "————————————————————————————————————————————————————————————\n",
      "Loading State House Dist 155.csv data...\n",
      " > Found data for 5 counties (3%)\n",
      "Verifying vote totals...\n"
     ]
    },
    {
     "data": {
      "application/vnd.jupyter.widget-view+json": {
       "model_id": "a209621f9f8748f2a0a62334db168507",
       "version_major": 2,
       "version_minor": 0
      },
      "text/plain": [
       "HBox(children=(HTML(value=''), FloatProgress(value=0.0, max=2.0), HTML(value='')))"
      ]
     },
     "metadata": {},
     "output_type": "display_data"
    },
    {
     "name": "stdout",
     "output_type": "stream",
     "text": [
      "\n",
      "> Vote totals verified — no errors\n",
      "————————————————————————————————————————————————————————————\n",
      "Loading State Senate Dist 56.csv data...\n",
      " > Found data for 2 counties (1%)\n",
      "Verifying vote totals...\n"
     ]
    },
    {
     "data": {
      "application/vnd.jupyter.widget-view+json": {
       "model_id": "c4928cd94e85483f84b755084f7fb320",
       "version_major": 2,
       "version_minor": 0
      },
      "text/plain": [
       "HBox(children=(HTML(value=''), FloatProgress(value=0.0, max=2.0), HTML(value='')))"
      ]
     },
     "metadata": {},
     "output_type": "display_data"
    },
    {
     "name": "stdout",
     "output_type": "stream",
     "text": [
      "\n",
      "> Vote totals verified — no errors\n",
      "————————————————————————————————————————————————————————————\n",
      "Loading Soil and Water - Blue Ridge Mountain.csv data...\n",
      " > Found data for 1 counties (1%)\n",
      "Verifying vote totals...\n"
     ]
    },
    {
     "data": {
      "application/vnd.jupyter.widget-view+json": {
       "model_id": "17206045645c453b89c5df219f4396f6",
       "version_major": 2,
       "version_minor": 0
      },
      "text/plain": [
       "HBox(children=(HTML(value=''), FloatProgress(value=0.0, max=1.0), HTML(value='')))"
      ]
     },
     "metadata": {},
     "output_type": "display_data"
    },
    {
     "name": "stdout",
     "output_type": "stream",
     "text": [
      "\n",
      "> Vote totals verified — no errors\n",
      "————————————————————————————————————————————————————————————\n",
      "Loading Board of Education Precinct 3.csv data...\n",
      " > Found data for 1 counties (1%)\n",
      "Verifying vote totals...\n"
     ]
    },
    {
     "data": {
      "application/vnd.jupyter.widget-view+json": {
       "model_id": "02b7ef35494243ee94eaf63eecd52821",
       "version_major": 2,
       "version_minor": 0
      },
      "text/plain": [
       "HBox(children=(HTML(value=''), FloatProgress(value=0.0, max=1.0), HTML(value='')))"
      ]
     },
     "metadata": {},
     "output_type": "display_data"
    },
    {
     "name": "stdout",
     "output_type": "stream",
     "text": [
      "\n",
      "> Vote totals verified — no errors\n",
      "————————————————————————————————————————————————————————————\n",
      "Loading State House Dist 24.csv data...\n",
      " > Found data for 1 counties (1%)\n",
      "Verifying vote totals...\n"
     ]
    },
    {
     "data": {
      "application/vnd.jupyter.widget-view+json": {
       "model_id": "ee78b0a6915a4e2f943ae818ffa882af",
       "version_major": 2,
       "version_minor": 0
      },
      "text/plain": [
       "HBox(children=(HTML(value=''), FloatProgress(value=0.0, max=2.0), HTML(value='')))"
      ]
     },
     "metadata": {},
     "output_type": "display_data"
    },
    {
     "name": "stdout",
     "output_type": "stream",
     "text": [
      "\n",
      "> Vote totals verified — no errors\n",
      "————————————————————————————————————————————————————————————\n",
      "Loading Dist Attorney - Rome.csv data...\n",
      " > Found data for 1 counties (1%)\n",
      "Verifying vote totals...\n"
     ]
    },
    {
     "data": {
      "application/vnd.jupyter.widget-view+json": {
       "model_id": "5cf09edf74c14f9085ceb6584734ad13",
       "version_major": 2,
       "version_minor": 0
      },
      "text/plain": [
       "HBox(children=(HTML(value=''), FloatProgress(value=0.0, max=1.0), HTML(value='')))"
      ]
     },
     "metadata": {},
     "output_type": "display_data"
    },
    {
     "name": "stdout",
     "output_type": "stream",
     "text": [
      "\n",
      "> Vote totals verified — no errors\n",
      "————————————————————————————————————————————————————————————\n",
      "Loading State House Dist 63.csv data...\n",
      " > Found data for 3 counties (2%)\n",
      "Verifying vote totals...\n"
     ]
    },
    {
     "data": {
      "application/vnd.jupyter.widget-view+json": {
       "model_id": "b7b14507c26f4abd8a9870d3c4d82ba7",
       "version_major": 2,
       "version_minor": 0
      },
      "text/plain": [
       "HBox(children=(HTML(value=''), FloatProgress(value=0.0, max=2.0), HTML(value='')))"
      ]
     },
     "metadata": {},
     "output_type": "display_data"
    },
    {
     "name": "stdout",
     "output_type": "stream",
     "text": [
      "\n",
      "> Vote totals verified — no errors\n",
      "————————————————————————————————————————————————————————————\n",
      "Loading Solicitor-General.csv data...\n",
      " > Found data for 1 counties (1%)\n",
      "Verifying vote totals...\n"
     ]
    },
    {
     "data": {
      "application/vnd.jupyter.widget-view+json": {
       "model_id": "1b1ecb8ec17c42029275bb7449b54b1b",
       "version_major": 2,
       "version_minor": 0
      },
      "text/plain": [
       "HBox(children=(HTML(value=''), FloatProgress(value=0.0, max=1.0), HTML(value='')))"
      ]
     },
     "metadata": {},
     "output_type": "display_data"
    },
    {
     "name": "stdout",
     "output_type": "stream",
     "text": [
      "\n",
      "> Vote totals verified — no errors\n",
      "————————————————————————————————————————————————————————————\n",
      "Loading Board of Education At Large - West Crisp.csv data...\n",
      " > Found data for 1 counties (1%)\n",
      "Verifying vote totals...\n"
     ]
    },
    {
     "data": {
      "application/vnd.jupyter.widget-view+json": {
       "model_id": "b756ea89de984da8a6ee2f693ff9924d",
       "version_major": 2,
       "version_minor": 0
      },
      "text/plain": [
       "HBox(children=(HTML(value=''), FloatProgress(value=0.0, max=1.0), HTML(value='')))"
      ]
     },
     "metadata": {},
     "output_type": "display_data"
    },
    {
     "name": "stdout",
     "output_type": "stream",
     "text": [
      "\n",
      "> Vote totals verified — no errors\n",
      "————————————————————————————————————————————————————————————\n",
      "Loading State Senate Dist 30.csv data...\n",
      " > Found data for 3 counties (2%)\n",
      "Verifying vote totals...\n"
     ]
    },
    {
     "data": {
      "application/vnd.jupyter.widget-view+json": {
       "model_id": "ccf3e6f6777949c0a19b6bc2e66a94fe",
       "version_major": 2,
       "version_minor": 0
      },
      "text/plain": [
       "HBox(children=(HTML(value=''), FloatProgress(value=0.0, max=2.0), HTML(value='')))"
      ]
     },
     "metadata": {},
     "output_type": "display_data"
    },
    {
     "name": "stdout",
     "output_type": "stream",
     "text": [
      "\n",
      "> Vote totals verified — no errors\n",
      "————————————————————————————————————————————————————————————\n",
      "Loading Adairsville City Council Post 4 - Special.csv data...\n",
      " > Found data for 1 counties (1%)\n",
      "Verifying vote totals...\n"
     ]
    },
    {
     "data": {
      "application/vnd.jupyter.widget-view+json": {
       "model_id": "bb00730077714d1882acef578aac9280",
       "version_major": 2,
       "version_minor": 0
      },
      "text/plain": [
       "HBox(children=(HTML(value=''), FloatProgress(value=0.0, max=6.0), HTML(value='')))"
      ]
     },
     "metadata": {},
     "output_type": "display_data"
    },
    {
     "name": "stdout",
     "output_type": "stream",
     "text": [
      "\n",
      "> Vote totals verified — no errors\n",
      "————————————————————————————————————————————————————————————\n",
      "Loading Demorest City Council - Special.csv data...\n",
      " > Found data for 1 counties (1%)\n",
      "Verifying vote totals...\n"
     ]
    },
    {
     "data": {
      "application/vnd.jupyter.widget-view+json": {
       "model_id": "e0cc53387ee3432195dd38387a6f461b",
       "version_major": 2,
       "version_minor": 0
      },
      "text/plain": [
       "HBox(children=(HTML(value=''), FloatProgress(value=0.0, max=7.0), HTML(value='')))"
      ]
     },
     "metadata": {},
     "output_type": "display_data"
    },
    {
     "name": "stdout",
     "output_type": "stream",
     "text": [
      "\n",
      "> Vote totals verified — no errors\n",
      "————————————————————————————————————————————————————————————\n",
      "Loading State House Dist 38.csv data...\n",
      " > Found data for 1 counties (1%)\n",
      "Verifying vote totals...\n"
     ]
    },
    {
     "data": {
      "application/vnd.jupyter.widget-view+json": {
       "model_id": "3e4cedf566c24d6a8e19a91ff9f86b9a",
       "version_major": 2,
       "version_minor": 0
      },
      "text/plain": [
       "HBox(children=(HTML(value=''), FloatProgress(value=0.0, max=1.0), HTML(value='')))"
      ]
     },
     "metadata": {},
     "output_type": "display_data"
    },
    {
     "name": "stdout",
     "output_type": "stream",
     "text": [
      "\n",
      "> Vote totals verified — no errors\n",
      "————————————————————————————————————————————————————————————\n",
      "Loading State House Dist 49.csv data...\n",
      " > Found data for 1 counties (1%)\n",
      "Verifying vote totals...\n"
     ]
    },
    {
     "data": {
      "application/vnd.jupyter.widget-view+json": {
       "model_id": "c533ef3579f7405689257d913dfc1859",
       "version_major": 2,
       "version_minor": 0
      },
      "text/plain": [
       "HBox(children=(HTML(value=''), FloatProgress(value=0.0, max=2.0), HTML(value='')))"
      ]
     },
     "metadata": {},
     "output_type": "display_data"
    },
    {
     "name": "stdout",
     "output_type": "stream",
     "text": [
      "\n",
      "> Vote totals verified — no errors\n",
      "————————————————————————————————————————————————————————————\n",
      "Loading Board of Education Post 4.csv data...\n",
      " > Found data for 5 counties (3%)\n",
      "Verifying vote totals...\n"
     ]
    },
    {
     "data": {
      "application/vnd.jupyter.widget-view+json": {
       "model_id": "36d33d34e6824c4ea6cdddba4e433360",
       "version_major": 2,
       "version_minor": 0
      },
      "text/plain": [
       "HBox(children=(HTML(value=''), FloatProgress(value=0.0, max=6.0), HTML(value='')))"
      ]
     },
     "metadata": {},
     "output_type": "display_data"
    },
    {
     "name": "stdout",
     "output_type": "stream",
     "text": [
      "\n",
      "> Vote totals verified — no errors\n",
      "————————————————————————————————————————————————————————————\n",
      "Loading State House Dist 69.csv data...\n",
      " > Found data for 3 counties (2%)\n",
      "Verifying vote totals...\n"
     ]
    },
    {
     "data": {
      "application/vnd.jupyter.widget-view+json": {
       "model_id": "eb81c271feb64d2faf2927d726d0abf3",
       "version_major": 2,
       "version_minor": 0
      },
      "text/plain": [
       "HBox(children=(HTML(value=''), FloatProgress(value=0.0, max=2.0), HTML(value='')))"
      ]
     },
     "metadata": {},
     "output_type": "display_data"
    },
    {
     "name": "stdout",
     "output_type": "stream",
     "text": [
      "\n",
      "> Vote totals verified — no errors\n",
      "————————————————————————————————————————————————————————————\n",
      "Loading Board of Education Dist 6.csv data...\n",
      " > Found data for 8 counties (5%)\n",
      "Verifying vote totals...\n"
     ]
    },
    {
     "data": {
      "application/vnd.jupyter.widget-view+json": {
       "model_id": "7a83278560124196b92f6a2b97f64214",
       "version_major": 2,
       "version_minor": 0
      },
      "text/plain": [
       "HBox(children=(HTML(value=''), FloatProgress(value=0.0, max=8.0), HTML(value='')))"
      ]
     },
     "metadata": {},
     "output_type": "display_data"
    },
    {
     "name": "stdout",
     "output_type": "stream",
     "text": [
      "\n",
      "> Vote totals verified — no errors\n",
      "————————————————————————————————————————————————————————————\n",
      "Loading State House Dist 175.csv data...\n",
      " > Found data for 3 counties (2%)\n",
      "Verifying vote totals...\n"
     ]
    },
    {
     "data": {
      "application/vnd.jupyter.widget-view+json": {
       "model_id": "c75a941d46e74b2cb838e89ed5dc4099",
       "version_major": 2,
       "version_minor": 0
      },
      "text/plain": [
       "HBox(children=(HTML(value=''), FloatProgress(value=0.0, max=1.0), HTML(value='')))"
      ]
     },
     "metadata": {},
     "output_type": "display_data"
    },
    {
     "name": "stdout",
     "output_type": "stream",
     "text": [
      "\n",
      "> Vote totals verified — no errors\n",
      "————————————————————————————————————————————————————————————\n",
      "Loading Good Hope City Council Post 5.csv data...\n",
      " > Found data for 1 counties (1%)\n",
      "Verifying vote totals...\n"
     ]
    },
    {
     "data": {
      "application/vnd.jupyter.widget-view+json": {
       "model_id": "c9154343687a439e8016da004cb4197e",
       "version_major": 2,
       "version_minor": 0
      },
      "text/plain": [
       "HBox(children=(HTML(value=''), FloatProgress(value=0.0, max=1.0), HTML(value='')))"
      ]
     },
     "metadata": {},
     "output_type": "display_data"
    },
    {
     "name": "stdout",
     "output_type": "stream",
     "text": [
      "\n",
      "> Vote totals verified — no errors\n",
      "————————————————————————————————————————————————————————————\n",
      "Loading State House Dist 59.csv data...\n",
      " > Found data for 1 counties (1%)\n",
      "Verifying vote totals...\n"
     ]
    },
    {
     "data": {
      "application/vnd.jupyter.widget-view+json": {
       "model_id": "c98d663cbe484203a97a3c8166d57d66",
       "version_major": 2,
       "version_minor": 0
      },
      "text/plain": [
       "HBox(children=(HTML(value=''), FloatProgress(value=0.0, max=1.0), HTML(value='')))"
      ]
     },
     "metadata": {},
     "output_type": "display_data"
    },
    {
     "name": "stdout",
     "output_type": "stream",
     "text": [
      "\n",
      "> Vote totals verified — no errors\n",
      "————————————————————————————————————————————————————————————\n",
      "Loading Ashburn City Council.csv data...\n",
      " > Found data for 1 counties (1%)\n",
      "Verifying vote totals...\n"
     ]
    },
    {
     "data": {
      "application/vnd.jupyter.widget-view+json": {
       "model_id": "93e4df08d6294a848371be0dbcccc3a5",
       "version_major": 2,
       "version_minor": 0
      },
      "text/plain": [
       "HBox(children=(HTML(value=''), FloatProgress(value=0.0, max=7.0), HTML(value='')))"
      ]
     },
     "metadata": {},
     "output_type": "display_data"
    },
    {
     "name": "stdout",
     "output_type": "stream",
     "text": [
      "\n",
      "> Vote totals verified — no errors\n",
      "————————————————————————————————————————————————————————————\n",
      "Loading State House Dist 100.csv data...\n",
      " > Found data for 1 counties (1%)\n",
      "Verifying vote totals...\n"
     ]
    },
    {
     "data": {
      "application/vnd.jupyter.widget-view+json": {
       "model_id": "27788a4387b94b1093248ced8d23f677",
       "version_major": 2,
       "version_minor": 0
      },
      "text/plain": [
       "HBox(children=(HTML(value=''), FloatProgress(value=0.0, max=1.0), HTML(value='')))"
      ]
     },
     "metadata": {},
     "output_type": "display_data"
    },
    {
     "name": "stdout",
     "output_type": "stream",
     "text": [
      "\n",
      "> Vote totals verified — no errors\n",
      "————————————————————————————————————————————————————————————\n",
      "Loading Doraville City Council Dist 1 - Special.csv data...\n",
      " > Found data for 1 counties (1%)\n",
      "Verifying vote totals...\n"
     ]
    },
    {
     "data": {
      "application/vnd.jupyter.widget-view+json": {
       "model_id": "81f6cfd13a4649b1ae80fd9b16235839",
       "version_major": 2,
       "version_minor": 0
      },
      "text/plain": [
       "HBox(children=(HTML(value=''), FloatProgress(value=0.0, max=7.0), HTML(value='')))"
      ]
     },
     "metadata": {},
     "output_type": "display_data"
    },
    {
     "name": "stdout",
     "output_type": "stream",
     "text": [
      "\n",
      "> Vote totals verified — no errors\n",
      "————————————————————————————————————————————————————————————\n",
      "Loading Hamilton City Council - Special.csv data...\n",
      " > Found data for 1 counties (1%)\n",
      "Verifying vote totals...\n"
     ]
    },
    {
     "data": {
      "application/vnd.jupyter.widget-view+json": {
       "model_id": "9bced97b210446c580154621a59c9f31",
       "version_major": 2,
       "version_minor": 0
      },
      "text/plain": [
       "HBox(children=(HTML(value=''), FloatProgress(value=0.0, max=1.0), HTML(value='')))"
      ]
     },
     "metadata": {},
     "output_type": "display_data"
    },
    {
     "name": "stdout",
     "output_type": "stream",
     "text": [
      "\n",
      "> Vote totals verified — no errors\n",
      "————————————————————————————————————————————————————————————\n",
      "Loading Dist Attorney - Clayton - Special.csv data...\n",
      " > Found data for 1 counties (1%)\n",
      "Verifying vote totals...\n"
     ]
    },
    {
     "data": {
      "application/vnd.jupyter.widget-view+json": {
       "model_id": "35cf47ea178745ef82a02576cb97db5d",
       "version_major": 2,
       "version_minor": 0
      },
      "text/plain": [
       "HBox(children=(HTML(value=''), FloatProgress(value=0.0, max=1.0), HTML(value='')))"
      ]
     },
     "metadata": {},
     "output_type": "display_data"
    },
    {
     "name": "stdout",
     "output_type": "stream",
     "text": [
      "\n",
      "> Vote totals verified — no errors\n",
      "————————————————————————————————————————————————————————————\n",
      "Loading Board of Education Milford Dist.csv data...\n",
      " > Found data for 1 counties (1%)\n",
      "Verifying vote totals...\n"
     ]
    },
    {
     "data": {
      "application/vnd.jupyter.widget-view+json": {
       "model_id": "a38e2b42def94dbaa69ce5030014e5c8",
       "version_major": 2,
       "version_minor": 0
      },
      "text/plain": [
       "HBox(children=(HTML(value=''), FloatProgress(value=0.0, max=1.0), HTML(value='')))"
      ]
     },
     "metadata": {},
     "output_type": "display_data"
    },
    {
     "name": "stdout",
     "output_type": "stream",
     "text": [
      "\n",
      "> Vote totals verified — no errors\n",
      "————————————————————————————————————————————————————————————\n",
      "Loading Dist Attorney - Southern.csv data...\n",
      " > Found data for 5 counties (3%)\n",
      "Verifying vote totals...\n"
     ]
    },
    {
     "data": {
      "application/vnd.jupyter.widget-view+json": {
       "model_id": "5ff689c4da0042328e0d299d2fcbef43",
       "version_major": 2,
       "version_minor": 0
      },
      "text/plain": [
       "HBox(children=(HTML(value=''), FloatProgress(value=0.0, max=1.0), HTML(value='')))"
      ]
     },
     "metadata": {},
     "output_type": "display_data"
    },
    {
     "name": "stdout",
     "output_type": "stream",
     "text": [
      "\n",
      "> Vote totals verified — no errors\n",
      "————————————————————————————————————————————————————————————\n",
      "Loading Soil and Water - Broad River.csv data...\n",
      " > Found data for 3 counties (2%)\n",
      "Verifying vote totals...\n"
     ]
    },
    {
     "data": {
      "application/vnd.jupyter.widget-view+json": {
       "model_id": "d6f1da1c1a684dd5acf380a8eb2b178f",
       "version_major": 2,
       "version_minor": 0
      },
      "text/plain": [
       "HBox(children=(HTML(value=''), FloatProgress(value=0.0, max=3.0), HTML(value='')))"
      ]
     },
     "metadata": {},
     "output_type": "display_data"
    },
    {
     "name": "stdout",
     "output_type": "stream",
     "text": [
      "\n",
      "> Vote totals verified — no errors\n",
      "————————————————————————————————————————————————————————————\n",
      "Loading Atlanta Homestead Exemption - Special.csv data...\n",
      " > Found data for 2 counties (1%)\n",
      "Verifying vote totals...\n"
     ]
    },
    {
     "data": {
      "application/vnd.jupyter.widget-view+json": {
       "model_id": "c85bd7d57a6b425eb5f5b40cfbd6daa0",
       "version_major": 2,
       "version_minor": 0
      },
      "text/plain": [
       "HBox(children=(HTML(value=''), FloatProgress(value=0.0, max=2.0), HTML(value='')))"
      ]
     },
     "metadata": {},
     "output_type": "display_data"
    },
    {
     "name": "stdout",
     "output_type": "stream",
     "text": [
      "\n",
      "> Vote totals verified — no errors\n",
      "————————————————————————————————————————————————————————————\n",
      "Loading State House Dist 177.csv data...\n",
      " > Found data for 1 counties (1%)\n",
      "Verifying vote totals...\n"
     ]
    },
    {
     "data": {
      "application/vnd.jupyter.widget-view+json": {
       "model_id": "412d1fb75e154cae923ce21d8c6d0487",
       "version_major": 2,
       "version_minor": 0
      },
      "text/plain": [
       "HBox(children=(HTML(value=''), FloatProgress(value=0.0, max=1.0), HTML(value='')))"
      ]
     },
     "metadata": {},
     "output_type": "display_data"
    },
    {
     "name": "stdout",
     "output_type": "stream",
     "text": [
      "\n",
      "> Vote totals verified — no errors\n",
      "————————————————————————————————————————————————————————————\n",
      "Loading State House Dist 102.csv data...\n",
      " > Found data for 1 counties (1%)\n",
      "Verifying vote totals...\n"
     ]
    },
    {
     "data": {
      "application/vnd.jupyter.widget-view+json": {
       "model_id": "a75eb72bf4644b9b879191a82f4df6c1",
       "version_major": 2,
       "version_minor": 0
      },
      "text/plain": [
       "HBox(children=(HTML(value=''), FloatProgress(value=0.0, max=2.0), HTML(value='')))"
      ]
     },
     "metadata": {},
     "output_type": "display_data"
    },
    {
     "name": "stdout",
     "output_type": "stream",
     "text": [
      "\n",
      "> Vote totals verified — no errors\n",
      "————————————————————————————————————————————————————————————\n",
      "Loading Dist Attorney - Middle.csv data...\n",
      " > Found data for 5 counties (3%)\n",
      "Verifying vote totals...\n"
     ]
    },
    {
     "data": {
      "application/vnd.jupyter.widget-view+json": {
       "model_id": "107e341430e849b191cad15f6c4bc144",
       "version_major": 2,
       "version_minor": 0
      },
      "text/plain": [
       "HBox(children=(HTML(value=''), FloatProgress(value=0.0, max=1.0), HTML(value='')))"
      ]
     },
     "metadata": {},
     "output_type": "display_data"
    },
    {
     "name": "stdout",
     "output_type": "stream",
     "text": [
      "\n",
      "> Vote totals verified — no errors\n",
      "————————————————————————————————————————————————————————————\n",
      "Loading State House Dist 140.csv data...\n",
      " > Found data for 5 counties (3%)\n",
      "Verifying vote totals...\n"
     ]
    },
    {
     "data": {
      "application/vnd.jupyter.widget-view+json": {
       "model_id": "1fb8d497852742de99eb815bf08bb0c3",
       "version_major": 2,
       "version_minor": 0
      },
      "text/plain": [
       "HBox(children=(HTML(value=''), FloatProgress(value=0.0, max=1.0), HTML(value='')))"
      ]
     },
     "metadata": {},
     "output_type": "display_data"
    },
    {
     "name": "stdout",
     "output_type": "stream",
     "text": [
      "\n",
      "> Vote totals verified — no errors\n",
      "————————————————————————————————————————————————————————————\n",
      "Loading State House Dist 11.csv data...\n",
      " > Found data for 3 counties (2%)\n",
      "Verifying vote totals...\n"
     ]
    },
    {
     "data": {
      "application/vnd.jupyter.widget-view+json": {
       "model_id": "6c00380f610c4d01bb8ea7744780c889",
       "version_major": 2,
       "version_minor": 0
      },
      "text/plain": [
       "HBox(children=(HTML(value=''), FloatProgress(value=0.0, max=2.0), HTML(value='')))"
      ]
     },
     "metadata": {},
     "output_type": "display_data"
    },
    {
     "name": "stdout",
     "output_type": "stream",
     "text": [
      "\n",
      "> Vote totals verified — no errors\n",
      "————————————————————————————————————————————————————————————\n",
      "Loading County Commission Post 2.csv data...\n",
      " > Found data for 4 counties (3%)\n",
      "Verifying vote totals...\n"
     ]
    },
    {
     "data": {
      "application/vnd.jupyter.widget-view+json": {
       "model_id": "9886531a1db2490dab26345b9a682706",
       "version_major": 2,
       "version_minor": 0
      },
      "text/plain": [
       "HBox(children=(HTML(value=''), FloatProgress(value=0.0, max=4.0), HTML(value='')))"
      ]
     },
     "metadata": {},
     "output_type": "display_data"
    },
    {
     "name": "stdout",
     "output_type": "stream",
     "text": [
      "\n",
      "> Vote totals verified — no errors\n",
      "————————————————————————————————————————————————————————————\n",
      "Loading Probate-Magistrate Judge.csv data...\n",
      " > Found data for 5 counties (3%)\n",
      "Verifying vote totals...\n"
     ]
    },
    {
     "data": {
      "application/vnd.jupyter.widget-view+json": {
       "model_id": "1f42e70d657e42fe82224be3347515a3",
       "version_major": 2,
       "version_minor": 0
      },
      "text/plain": [
       "HBox(children=(HTML(value=''), FloatProgress(value=0.0, max=5.0), HTML(value='')))"
      ]
     },
     "metadata": {},
     "output_type": "display_data"
    },
    {
     "name": "stdout",
     "output_type": "stream",
     "text": [
      "\n",
      "> Vote totals verified — no errors\n",
      "————————————————————————————————————————————————————————————\n",
      "Loading State House Dist 111.csv data...\n",
      " > Found data for 1 counties (1%)\n",
      "Verifying vote totals...\n"
     ]
    },
    {
     "data": {
      "application/vnd.jupyter.widget-view+json": {
       "model_id": "7fab0a687c2b42619a29bcdc9d1a6a1e",
       "version_major": 2,
       "version_minor": 0
      },
      "text/plain": [
       "HBox(children=(HTML(value=''), FloatProgress(value=0.0, max=1.0), HTML(value='')))"
      ]
     },
     "metadata": {},
     "output_type": "display_data"
    },
    {
     "name": "stdout",
     "output_type": "stream",
     "text": [
      "\n",
      "> Vote totals verified — no errors\n",
      "————————————————————————————————————————————————————————————\n",
      "Loading Board of Education Dist 2.csv data...\n",
      " > Found data for 32 counties (20%)\n",
      "Verifying vote totals...\n"
     ]
    },
    {
     "data": {
      "application/vnd.jupyter.widget-view+json": {
       "model_id": "a487342842514859b60a2f71f141ca90",
       "version_major": 2,
       "version_minor": 0
      },
      "text/plain": [
       "HBox(children=(HTML(value=''), FloatProgress(value=0.0, max=37.0), HTML(value='')))"
      ]
     },
     "metadata": {},
     "output_type": "display_data"
    },
    {
     "name": "stdout",
     "output_type": "stream",
     "text": [
      "\n",
      ">>> Vote totals verified — 0.00042 error rate\n",
      "————————————————————————————————————————————————————————————\n",
      "Loading Board of Education Dist 5 - Special.csv data...\n",
      " > Found data for 1 counties (1%)\n",
      "Verifying vote totals...\n"
     ]
    },
    {
     "data": {
      "application/vnd.jupyter.widget-view+json": {
       "model_id": "eddde6ec0be648caa8ba5137ee1b50cb",
       "version_major": 2,
       "version_minor": 0
      },
      "text/plain": [
       "HBox(children=(HTML(value=''), FloatProgress(value=0.0, max=1.0), HTML(value='')))"
      ]
     },
     "metadata": {},
     "output_type": "display_data"
    },
    {
     "name": "stdout",
     "output_type": "stream",
     "text": [
      "\n",
      "> Vote totals verified — no errors\n",
      "————————————————————————————————————————————————————————————\n",
      "Loading Soil and Water - Alapaha.csv data...\n",
      " > Found data for 1 counties (1%)\n",
      "Verifying vote totals...\n"
     ]
    },
    {
     "data": {
      "application/vnd.jupyter.widget-view+json": {
       "model_id": "5096bd74843f434c9e44d600f876e8e9",
       "version_major": 2,
       "version_minor": 0
      },
      "text/plain": [
       "HBox(children=(HTML(value=''), FloatProgress(value=0.0, max=1.0), HTML(value='')))"
      ]
     },
     "metadata": {},
     "output_type": "display_data"
    },
    {
     "name": "stdout",
     "output_type": "stream",
     "text": [
      "\n",
      "> Vote totals verified — no errors\n",
      "————————————————————————————————————————————————————————————\n",
      "Loading County Commission Dist 2.csv data...\n",
      " > Found data for 73 counties (46%)\n",
      "Verifying vote totals...\n"
     ]
    },
    {
     "data": {
      "application/vnd.jupyter.widget-view+json": {
       "model_id": "782b3d42e046487fba0613ba24f55577",
       "version_major": 2,
       "version_minor": 0
      },
      "text/plain": [
       "HBox(children=(HTML(value=''), FloatProgress(value=0.0, max=98.0), HTML(value='')))"
      ]
     },
     "metadata": {},
     "output_type": "display_data"
    },
    {
     "name": "stdout",
     "output_type": "stream",
     "text": [
      "\n",
      ">>> Vote totals verified — 0.00015 error rate\n",
      "————————————————————————————————————————————————————————————\n",
      "Loading State Senate Dist 14.csv data...\n",
      " > Found data for 3 counties (2%)\n",
      "Verifying vote totals...\n"
     ]
    },
    {
     "data": {
      "application/vnd.jupyter.widget-view+json": {
       "model_id": "b5cf453818224d6fae544a7fbdcf54c2",
       "version_major": 2,
       "version_minor": 0
      },
      "text/plain": [
       "HBox(children=(HTML(value=''), FloatProgress(value=0.0, max=2.0), HTML(value='')))"
      ]
     },
     "metadata": {},
     "output_type": "display_data"
    },
    {
     "name": "stdout",
     "output_type": "stream",
     "text": [
      "\n",
      "> Vote totals verified — no errors\n",
      "————————————————————————————————————————————————————————————\n",
      "Loading State House Dist 161.csv data...\n",
      " > Found data for 2 counties (1%)\n",
      "Verifying vote totals...\n"
     ]
    },
    {
     "data": {
      "application/vnd.jupyter.widget-view+json": {
       "model_id": "0ab9b3874ecd47e3be2d5cad7e6945dd",
       "version_major": 2,
       "version_minor": 0
      },
      "text/plain": [
       "HBox(children=(HTML(value=''), FloatProgress(value=0.0, max=1.0), HTML(value='')))"
      ]
     },
     "metadata": {},
     "output_type": "display_data"
    },
    {
     "name": "stdout",
     "output_type": "stream",
     "text": [
      "\n",
      "> Vote totals verified — no errors\n",
      "————————————————————————————————————————————————————————————\n",
      "Loading County Commission Dist 3 Post 2.csv data...\n",
      " > Found data for 1 counties (1%)\n",
      "Verifying vote totals...\n"
     ]
    },
    {
     "data": {
      "application/vnd.jupyter.widget-view+json": {
       "model_id": "7bb0c175132c4a39857cb92c939d90b9",
       "version_major": 2,
       "version_minor": 0
      },
      "text/plain": [
       "HBox(children=(HTML(value=''), FloatProgress(value=0.0, max=1.0), HTML(value='')))"
      ]
     },
     "metadata": {},
     "output_type": "display_data"
    },
    {
     "name": "stdout",
     "output_type": "stream",
     "text": [
      "\n",
      "> Vote totals verified — no errors\n",
      "————————————————————————————————————————————————————————————\n",
      "Loading State House Dist 53.csv data...\n",
      " > Found data for 2 counties (1%)\n",
      "Verifying vote totals...\n"
     ]
    },
    {
     "data": {
      "application/vnd.jupyter.widget-view+json": {
       "model_id": "81623cdbb0e744428261b16dfed05ade",
       "version_major": 2,
       "version_minor": 0
      },
      "text/plain": [
       "HBox(children=(HTML(value=''), FloatProgress(value=0.0, max=1.0), HTML(value='')))"
      ]
     },
     "metadata": {},
     "output_type": "display_data"
    },
    {
     "name": "stdout",
     "output_type": "stream",
     "text": [
      "\n",
      "> Vote totals verified — no errors\n",
      "————————————————————————————————————————————————————————————\n",
      "Loading State House Dist 1.csv data...\n",
      " > Found data for 2 counties (1%)\n",
      "Verifying vote totals...\n"
     ]
    },
    {
     "data": {
      "application/vnd.jupyter.widget-view+json": {
       "model_id": "04fc4151fcf4428ba0c0bc0397b3db2b",
       "version_major": 2,
       "version_minor": 0
      },
      "text/plain": [
       "HBox(children=(HTML(value=''), FloatProgress(value=0.0, max=1.0), HTML(value='')))"
      ]
     },
     "metadata": {},
     "output_type": "display_data"
    },
    {
     "name": "stdout",
     "output_type": "stream",
     "text": [
      "\n",
      "> Vote totals verified — no errors\n",
      "————————————————————————————————————————————————————————————\n",
      "Loading Coroner.csv data...\n",
      " > Found data for 145 counties (91%)\n",
      "   > Missing: ['Fulton', 'Gwinnett', 'Webster', 'Quitman', 'Clayton', 'Bibb', 'Brooks', 'Dodge', 'Randolph', 'Clay', 'Terrell', 'Putnam', 'DeKalb', 'Cobb']\n",
      "Verifying vote totals...\n"
     ]
    },
    {
     "data": {
      "application/vnd.jupyter.widget-view+json": {
       "model_id": "8eafc8cf2ec448539ac475fdb70d214d",
       "version_major": 2,
       "version_minor": 0
      },
      "text/plain": [
       "HBox(children=(HTML(value=''), FloatProgress(value=0.0, max=163.0), HTML(value='')))"
      ]
     },
     "metadata": {},
     "output_type": "display_data"
    },
    {
     "name": "stdout",
     "output_type": "stream",
     "text": [
      "\n",
      ">>> Vote totals verified — 0.00016 error rate\n",
      "————————————————————————————————————————————————————————————\n",
      "Loading State House Dist 4.csv data...\n",
      " > Found data for 1 counties (1%)\n",
      "Verifying vote totals...\n"
     ]
    },
    {
     "data": {
      "application/vnd.jupyter.widget-view+json": {
       "model_id": "74f4a2741ff04d228dacd0576cff1cb8",
       "version_major": 2,
       "version_minor": 0
      },
      "text/plain": [
       "HBox(children=(HTML(value=''), FloatProgress(value=0.0, max=1.0), HTML(value='')))"
      ]
     },
     "metadata": {},
     "output_type": "display_data"
    },
    {
     "name": "stdout",
     "output_type": "stream",
     "text": [
      "\n",
      "> Vote totals verified — no errors\n",
      "————————————————————————————————————————————————————————————\n",
      "Loading State House Dist 46.csv data...\n",
      " > Found data for 2 counties (1%)\n",
      "Verifying vote totals...\n"
     ]
    },
    {
     "data": {
      "application/vnd.jupyter.widget-view+json": {
       "model_id": "8ce61695db3f4dc69c2f8365d95e2918",
       "version_major": 2,
       "version_minor": 0
      },
      "text/plain": [
       "HBox(children=(HTML(value=''), FloatProgress(value=0.0, max=2.0), HTML(value='')))"
      ]
     },
     "metadata": {},
     "output_type": "display_data"
    },
    {
     "name": "stdout",
     "output_type": "stream",
     "text": [
      "\n",
      "> Vote totals verified — no errors\n",
      "————————————————————————————————————————————————————————————\n",
      "Loading Dist Attorney - Atlanta.csv data...\n",
      " > Found data for 1 counties (1%)\n",
      "Verifying vote totals...\n"
     ]
    },
    {
     "data": {
      "application/vnd.jupyter.widget-view+json": {
       "model_id": "a35265a8b20c4ed689f7b87d62ec43f4",
       "version_major": 2,
       "version_minor": 0
      },
      "text/plain": [
       "HBox(children=(HTML(value=''), FloatProgress(value=0.0, max=1.0), HTML(value='')))"
      ]
     },
     "metadata": {},
     "output_type": "display_data"
    },
    {
     "name": "stdout",
     "output_type": "stream",
     "text": [
      "\n",
      "> Vote totals verified — no errors\n",
      "————————————————————————————————————————————————————————————\n",
      "Loading State House Dist 55.csv data...\n",
      " > Found data for 1 counties (1%)\n",
      "Verifying vote totals...\n"
     ]
    },
    {
     "data": {
      "application/vnd.jupyter.widget-view+json": {
       "model_id": "10d8e67d50d545b6bb629fb5cfa1f1b9",
       "version_major": 2,
       "version_minor": 0
      },
      "text/plain": [
       "HBox(children=(HTML(value=''), FloatProgress(value=0.0, max=1.0), HTML(value='')))"
      ]
     },
     "metadata": {},
     "output_type": "display_data"
    },
    {
     "name": "stdout",
     "output_type": "stream",
     "text": [
      "\n",
      "> Vote totals verified — no errors\n",
      "————————————————————————————————————————————————————————————\n",
      "Loading West Jackson Fire Advisory Board Post 3.csv data...\n",
      " > Found data for 1 counties (1%)\n",
      "Verifying vote totals...\n"
     ]
    },
    {
     "data": {
      "application/vnd.jupyter.widget-view+json": {
       "model_id": "694a8cb606604d2c902b3f79a0e7496c",
       "version_major": 2,
       "version_minor": 0
      },
      "text/plain": [
       "HBox(children=(HTML(value=''), FloatProgress(value=0.0, max=1.0), HTML(value='')))"
      ]
     },
     "metadata": {},
     "output_type": "display_data"
    },
    {
     "name": "stdout",
     "output_type": "stream",
     "text": [
      "\n",
      "> Vote totals verified — no errors\n",
      "————————————————————————————————————————————————————————————\n",
      "Loading State House Dist 97.csv data...\n",
      " > Found data for 1 counties (1%)\n",
      "Verifying vote totals...\n"
     ]
    },
    {
     "data": {
      "application/vnd.jupyter.widget-view+json": {
       "model_id": "276db8efd62941e2b59da854e65839c9",
       "version_major": 2,
       "version_minor": 0
      },
      "text/plain": [
       "HBox(children=(HTML(value=''), FloatProgress(value=0.0, max=2.0), HTML(value='')))"
      ]
     },
     "metadata": {},
     "output_type": "display_data"
    },
    {
     "name": "stdout",
     "output_type": "stream",
     "text": [
      "\n",
      "> Vote totals verified — no errors\n",
      "————————————————————————————————————————————————————————————\n",
      "Loading Soil and Water - Central Georgia.csv data...\n",
      " > Found data for 1 counties (1%)\n",
      "Verifying vote totals...\n"
     ]
    },
    {
     "data": {
      "application/vnd.jupyter.widget-view+json": {
       "model_id": "95c3aaa57d5d473e9289343df36357c5",
       "version_major": 2,
       "version_minor": 0
      },
      "text/plain": [
       "HBox(children=(HTML(value=''), FloatProgress(value=0.0, max=1.0), HTML(value='')))"
      ]
     },
     "metadata": {},
     "output_type": "display_data"
    },
    {
     "name": "stdout",
     "output_type": "stream",
     "text": [
      "\n",
      "> Vote totals verified — no errors\n",
      "————————————————————————————————————————————————————————————\n",
      "Loading County Commission Milford Dist.csv data...\n",
      " > Found data for 1 counties (1%)\n",
      "Verifying vote totals...\n"
     ]
    },
    {
     "data": {
      "application/vnd.jupyter.widget-view+json": {
       "model_id": "a48fb2dc7b6b4aaf9ba1dd39ee03c130",
       "version_major": 2,
       "version_minor": 0
      },
      "text/plain": [
       "HBox(children=(HTML(value=''), FloatProgress(value=0.0, max=1.0), HTML(value='')))"
      ]
     },
     "metadata": {},
     "output_type": "display_data"
    },
    {
     "name": "stdout",
     "output_type": "stream",
     "text": [
      "\n",
      "> Vote totals verified — no errors\n",
      "————————————————————————————————————————————————————————————\n",
      "Loading State House Dist 56.csv data...\n",
      " > Found data for 1 counties (1%)\n",
      "Verifying vote totals...\n"
     ]
    },
    {
     "data": {
      "application/vnd.jupyter.widget-view+json": {
       "model_id": "f274c76998384c16800144a18d314f63",
       "version_major": 2,
       "version_minor": 0
      },
      "text/plain": [
       "HBox(children=(HTML(value=''), FloatProgress(value=0.0, max=1.0), HTML(value='')))"
      ]
     },
     "metadata": {},
     "output_type": "display_data"
    },
    {
     "name": "stdout",
     "output_type": "stream",
     "text": [
      "\n",
      "> Vote totals verified — no errors\n",
      "————————————————————————————————————————————————————————————\n",
      "Loading St. Marys City Council Post 5.csv data...\n",
      " > Found data for 1 counties (1%)\n",
      "Verifying vote totals...\n"
     ]
    },
    {
     "data": {
      "application/vnd.jupyter.widget-view+json": {
       "model_id": "e3247710dcce4375acd0b45ad89f6ca1",
       "version_major": 2,
       "version_minor": 0
      },
      "text/plain": [
       "HBox(children=(HTML(value=''), FloatProgress(value=0.0, max=3.0), HTML(value='')))"
      ]
     },
     "metadata": {},
     "output_type": "display_data"
    },
    {
     "name": "stdout",
     "output_type": "stream",
     "text": [
      "\n",
      "> Vote totals verified — no errors\n",
      "————————————————————————————————————————————————————————————\n",
      "Loading Bartow County Homestead Exemption - Special.csv data...\n",
      " > Found data for 1 counties (1%)\n",
      "Verifying vote totals...\n"
     ]
    },
    {
     "data": {
      "application/vnd.jupyter.widget-view+json": {
       "model_id": "26a33b97fc71451b8d9d12e20875c1d1",
       "version_major": 2,
       "version_minor": 0
      },
      "text/plain": [
       "HBox(children=(HTML(value=''), FloatProgress(value=0.0, max=2.0), HTML(value='')))"
      ]
     },
     "metadata": {},
     "output_type": "display_data"
    },
    {
     "name": "stdout",
     "output_type": "stream",
     "text": [
      "\n",
      "> Vote totals verified — no errors\n",
      "————————————————————————————————————————————————————————————\n",
      "Loading Manchester Regulation of Sunday Alcohol Sales By the Drink - Special.csv data...\n",
      " > Found data for 1 counties (1%)\n",
      "Verifying vote totals...\n"
     ]
    },
    {
     "data": {
      "application/vnd.jupyter.widget-view+json": {
       "model_id": "a1f634da729e4b97b0691f64290f117c",
       "version_major": 2,
       "version_minor": 0
      },
      "text/plain": [
       "HBox(children=(HTML(value=''), FloatProgress(value=0.0, max=2.0), HTML(value='')))"
      ]
     },
     "metadata": {},
     "output_type": "display_data"
    },
    {
     "name": "stdout",
     "output_type": "stream",
     "text": [
      "\n",
      "> Vote totals verified — no errors\n",
      "————————————————————————————————————————————————————————————\n",
      "Loading State House Dist 60.csv data...\n",
      " > Found data for 2 counties (1%)\n",
      "Verifying vote totals...\n"
     ]
    },
    {
     "data": {
      "application/vnd.jupyter.widget-view+json": {
       "model_id": "c685931c98a844c0b06d36691e9ee7f0",
       "version_major": 2,
       "version_minor": 0
      },
      "text/plain": [
       "HBox(children=(HTML(value=''), FloatProgress(value=0.0, max=1.0), HTML(value='')))"
      ]
     },
     "metadata": {},
     "output_type": "display_data"
    },
    {
     "name": "stdout",
     "output_type": "stream",
     "text": [
      "\n",
      "> Vote totals verified — no errors\n",
      "————————————————————————————————————————————————————————————\n",
      "Loading Presiding Judge Civil-Magistrate Crt.csv data...\n",
      " > Found data for 1 counties (1%)\n",
      "Verifying vote totals...\n"
     ]
    },
    {
     "data": {
      "application/vnd.jupyter.widget-view+json": {
       "model_id": "582da2656697430089765dfc49277064",
       "version_major": 2,
       "version_minor": 0
      },
      "text/plain": [
       "HBox(children=(HTML(value=''), FloatProgress(value=0.0, max=1.0), HTML(value='')))"
      ]
     },
     "metadata": {},
     "output_type": "display_data"
    },
    {
     "name": "stdout",
     "output_type": "stream",
     "text": [
      "\n",
      "> Vote totals verified — no errors\n",
      "————————————————————————————————————————————————————————————\n",
      "Loading North Jackson Fire Advisory Board Post 7.csv data...\n",
      " > Found data for 1 counties (1%)\n",
      "Verifying vote totals...\n"
     ]
    },
    {
     "data": {
      "application/vnd.jupyter.widget-view+json": {
       "model_id": "97d7af494ff7449ead083e3d5066929c",
       "version_major": 2,
       "version_minor": 0
      },
      "text/plain": [
       "HBox(children=(HTML(value=''), FloatProgress(value=0.0, max=1.0), HTML(value='')))"
      ]
     },
     "metadata": {},
     "output_type": "display_data"
    },
    {
     "name": "stdout",
     "output_type": "stream",
     "text": [
      "\n",
      "> Vote totals verified — no errors\n",
      "————————————————————————————————————————————————————————————\n",
      "Loading State Senate Dist 20.csv data...\n",
      " > Found data for 4 counties (3%)\n",
      "Verifying vote totals...\n"
     ]
    },
    {
     "data": {
      "application/vnd.jupyter.widget-view+json": {
       "model_id": "8d1b3058893e4144bde1718c745da672",
       "version_major": 2,
       "version_minor": 0
      },
      "text/plain": [
       "HBox(children=(HTML(value=''), FloatProgress(value=0.0, max=2.0), HTML(value='')))"
      ]
     },
     "metadata": {},
     "output_type": "display_data"
    },
    {
     "name": "stdout",
     "output_type": "stream",
     "text": [
      "\n",
      "> Vote totals verified — no errors\n",
      "————————————————————————————————————————————————————————————\n",
      "Loading DeKalb County Ethics - Special.csv data...\n",
      " > Found data for 1 counties (1%)\n",
      "Verifying vote totals...\n"
     ]
    },
    {
     "data": {
      "application/vnd.jupyter.widget-view+json": {
       "model_id": "11eae994c73d4fb59f41b528b4788313",
       "version_major": 2,
       "version_minor": 0
      },
      "text/plain": [
       "HBox(children=(HTML(value=''), FloatProgress(value=0.0, max=2.0), HTML(value='')))"
      ]
     },
     "metadata": {},
     "output_type": "display_data"
    },
    {
     "name": "stdout",
     "output_type": "stream",
     "text": [
      "\n",
      "> Vote totals verified — no errors\n",
      "————————————————————————————————————————————————————————————\n",
      "Loading State House Dist 35.csv data...\n",
      " > Found data for 1 counties (1%)\n",
      "Verifying vote totals...\n"
     ]
    },
    {
     "data": {
      "application/vnd.jupyter.widget-view+json": {
       "model_id": "40bc210e872e48a2bc53ba4614f522b5",
       "version_major": 2,
       "version_minor": 0
      },
      "text/plain": [
       "HBox(children=(HTML(value=''), FloatProgress(value=0.0, max=2.0), HTML(value='')))"
      ]
     },
     "metadata": {},
     "output_type": "display_data"
    },
    {
     "name": "stdout",
     "output_type": "stream",
     "text": [
      "\n",
      "> Vote totals verified — no errors\n",
      "————————————————————————————————————————————————————————————\n",
      "Loading State Senate Dist 13.csv data...\n",
      " > Found data for 9 counties (6%)\n",
      "Verifying vote totals...\n"
     ]
    },
    {
     "data": {
      "application/vnd.jupyter.widget-view+json": {
       "model_id": "9ce2f49170584873b77fa1cabcb5cdda",
       "version_major": 2,
       "version_minor": 0
      },
      "text/plain": [
       "HBox(children=(HTML(value=''), FloatProgress(value=0.0, max=2.0), HTML(value='')))"
      ]
     },
     "metadata": {},
     "output_type": "display_data"
    },
    {
     "name": "stdout",
     "output_type": "stream",
     "text": [
      "\n",
      "> Vote totals verified — no errors\n",
      "————————————————————————————————————————————————————————————\n",
      "Loading State House Dist 6.csv data...\n",
      " > Found data for 2 counties (1%)\n",
      "Verifying vote totals...\n"
     ]
    },
    {
     "data": {
      "application/vnd.jupyter.widget-view+json": {
       "model_id": "2b41da0c42df4751973f1e810303ea3d",
       "version_major": 2,
       "version_minor": 0
      },
      "text/plain": [
       "HBox(children=(HTML(value=''), FloatProgress(value=0.0, max=1.0), HTML(value='')))"
      ]
     },
     "metadata": {},
     "output_type": "display_data"
    },
    {
     "name": "stdout",
     "output_type": "stream",
     "text": [
      "\n",
      "> Vote totals verified — no errors\n",
      "————————————————————————————————————————————————————————————\n",
      "Loading State House Dist 34.csv data...\n",
      " > Found data for 1 counties (1%)\n",
      "Verifying vote totals...\n"
     ]
    },
    {
     "data": {
      "application/vnd.jupyter.widget-view+json": {
       "model_id": "86ce9fe0395a414e8794056624be01bc",
       "version_major": 2,
       "version_minor": 0
      },
      "text/plain": [
       "HBox(children=(HTML(value=''), FloatProgress(value=0.0, max=2.0), HTML(value='')))"
      ]
     },
     "metadata": {},
     "output_type": "display_data"
    },
    {
     "name": "stdout",
     "output_type": "stream",
     "text": [
      "\n",
      "> Vote totals verified — no errors\n",
      "————————————————————————————————————————————————————————————\n",
      "Loading State House Dist 29.csv data...\n",
      " > Found data for 1 counties (1%)\n",
      "Verifying vote totals...\n"
     ]
    },
    {
     "data": {
      "application/vnd.jupyter.widget-view+json": {
       "model_id": "aa3d88fb065640e79f2a1b990451016f",
       "version_major": 2,
       "version_minor": 0
      },
      "text/plain": [
       "HBox(children=(HTML(value=''), FloatProgress(value=0.0, max=2.0), HTML(value='')))"
      ]
     },
     "metadata": {},
     "output_type": "display_data"
    },
    {
     "name": "stdout",
     "output_type": "stream",
     "text": [
      "\n",
      "> Vote totals verified — no errors\n",
      "————————————————————————————————————————————————————————————\n",
      "Loading State Senate Dist 33.csv data...\n",
      " > Found data for 1 counties (1%)\n",
      "Verifying vote totals...\n"
     ]
    },
    {
     "data": {
      "application/vnd.jupyter.widget-view+json": {
       "model_id": "990f983a0d56473480816642ab71dac1",
       "version_major": 2,
       "version_minor": 0
      },
      "text/plain": [
       "HBox(children=(HTML(value=''), FloatProgress(value=0.0, max=1.0), HTML(value='')))"
      ]
     },
     "metadata": {},
     "output_type": "display_data"
    },
    {
     "name": "stdout",
     "output_type": "stream",
     "text": [
      "\n",
      "> Vote totals verified — no errors\n",
      "————————————————————————————————————————————————————————————\n",
      "Loading State House Dist 159.csv data...\n",
      " > Found data for 3 counties (2%)\n",
      "Verifying vote totals...\n"
     ]
    },
    {
     "data": {
      "application/vnd.jupyter.widget-view+json": {
       "model_id": "fe8b75767765446199c418b98e19707c",
       "version_major": 2,
       "version_minor": 0
      },
      "text/plain": [
       "HBox(children=(HTML(value=''), FloatProgress(value=0.0, max=1.0), HTML(value='')))"
      ]
     },
     "metadata": {},
     "output_type": "display_data"
    },
    {
     "name": "stdout",
     "output_type": "stream",
     "text": [
      "\n",
      "> Vote totals verified — no errors\n",
      "————————————————————————————————————————————————————————————\n",
      "Loading Board of Education Hoggards Mill Dist.csv data...\n",
      " > Found data for 1 counties (1%)\n",
      "Verifying vote totals...\n"
     ]
    },
    {
     "data": {
      "application/vnd.jupyter.widget-view+json": {
       "model_id": "6a0736d7eaa94308b172fcd8a5182549",
       "version_major": 2,
       "version_minor": 0
      },
      "text/plain": [
       "HBox(children=(HTML(value=''), FloatProgress(value=0.0, max=1.0), HTML(value='')))"
      ]
     },
     "metadata": {},
     "output_type": "display_data"
    },
    {
     "name": "stdout",
     "output_type": "stream",
     "text": [
      "\n",
      "> Vote totals verified — no errors\n",
      "————————————————————————————————————————————————————————————\n",
      "Loading County Commission Dist 6.csv data...\n",
      " > Found data for 9 counties (6%)\n",
      "Verifying vote totals...\n"
     ]
    },
    {
     "data": {
      "application/vnd.jupyter.widget-view+json": {
       "model_id": "f28dbba23d94459ba6f08b61cd229ec0",
       "version_major": 2,
       "version_minor": 0
      },
      "text/plain": [
       "HBox(children=(HTML(value=''), FloatProgress(value=0.0, max=13.0), HTML(value='')))"
      ]
     },
     "metadata": {},
     "output_type": "display_data"
    },
    {
     "name": "stdout",
     "output_type": "stream",
     "text": [
      "\n",
      ">>> Vote totals verified — 0.00072 error rate\n",
      "————————————————————————————————————————————————————————————\n",
      "Loading Tennille Council Dist 2 Post 1 - Special.csv data...\n",
      " > Found data for 1 counties (1%)\n",
      "Verifying vote totals...\n"
     ]
    },
    {
     "data": {
      "application/vnd.jupyter.widget-view+json": {
       "model_id": "f0980a9baf604958af020738006e944b",
       "version_major": 2,
       "version_minor": 0
      },
      "text/plain": [
       "HBox(children=(HTML(value=''), FloatProgress(value=0.0, max=2.0), HTML(value='')))"
      ]
     },
     "metadata": {},
     "output_type": "display_data"
    },
    {
     "name": "stdout",
     "output_type": "stream",
     "text": [
      "\n",
      "> Vote totals verified — no errors\n",
      "————————————————————————————————————————————————————————————\n",
      "Loading County Commission Gibson Dist.csv data...\n",
      " > Found data for 1 counties (1%)\n",
      "Verifying vote totals...\n"
     ]
    },
    {
     "data": {
      "application/vnd.jupyter.widget-view+json": {
       "model_id": "adf52a766d024b519a9c175b929747cb",
       "version_major": 2,
       "version_minor": 0
      },
      "text/plain": [
       "HBox(children=(HTML(value=''), FloatProgress(value=0.0, max=1.0), HTML(value='')))"
      ]
     },
     "metadata": {},
     "output_type": "display_data"
    },
    {
     "name": "stdout",
     "output_type": "stream",
     "text": [
      "\n",
      "> Vote totals verified — no errors\n",
      "————————————————————————————————————————————————————————————\n",
      "Loading Dist Attorney - Macon.csv data...\n",
      " > Found data for 3 counties (2%)\n",
      "Verifying vote totals...\n"
     ]
    },
    {
     "data": {
      "application/vnd.jupyter.widget-view+json": {
       "model_id": "ea8e81ae190f4203a045af3806e26df9",
       "version_major": 2,
       "version_minor": 0
      },
      "text/plain": [
       "HBox(children=(HTML(value=''), FloatProgress(value=0.0, max=1.0), HTML(value='')))"
      ]
     },
     "metadata": {},
     "output_type": "display_data"
    },
    {
     "name": "stdout",
     "output_type": "stream",
     "text": [
      "\n",
      "> Vote totals verified — no errors\n",
      "————————————————————————————————————————————————————————————\n",
      "Loading State House Dist 75.csv data...\n",
      " > Found data for 1 counties (1%)\n",
      "Verifying vote totals...\n"
     ]
    },
    {
     "data": {
      "application/vnd.jupyter.widget-view+json": {
       "model_id": "dfe7232598a94af6a5b5f1a364bbf9bd",
       "version_major": 2,
       "version_minor": 0
      },
      "text/plain": [
       "HBox(children=(HTML(value=''), FloatProgress(value=0.0, max=1.0), HTML(value='')))"
      ]
     },
     "metadata": {},
     "output_type": "display_data"
    },
    {
     "name": "stdout",
     "output_type": "stream",
     "text": [
      "\n",
      "> Vote totals verified — no errors\n",
      "————————————————————————————————————————————————————————————\n",
      "Loading Lake Park City Council - Special.csv data...\n",
      " > Found data for 1 counties (1%)\n",
      "Verifying vote totals...\n"
     ]
    },
    {
     "data": {
      "application/vnd.jupyter.widget-view+json": {
       "model_id": "aaf24da0b1e547fcb53db197bf22c2c9",
       "version_major": 2,
       "version_minor": 0
      },
      "text/plain": [
       "HBox(children=(HTML(value=''), FloatProgress(value=0.0, max=2.0), HTML(value='')))"
      ]
     },
     "metadata": {},
     "output_type": "display_data"
    },
    {
     "name": "stdout",
     "output_type": "stream",
     "text": [
      "\n",
      "> Vote totals verified — no errors\n",
      "————————————————————————————————————————————————————————————\n",
      "Loading Dist Attorney - Douglas - Special.csv data...\n",
      " > Found data for 1 counties (1%)\n",
      "Verifying vote totals...\n"
     ]
    },
    {
     "data": {
      "application/vnd.jupyter.widget-view+json": {
       "model_id": "97ee5cd6ba5f41f39a013cf9251962ee",
       "version_major": 2,
       "version_minor": 0
      },
      "text/plain": [
       "HBox(children=(HTML(value=''), FloatProgress(value=0.0, max=1.0), HTML(value='')))"
      ]
     },
     "metadata": {},
     "output_type": "display_data"
    },
    {
     "name": "stdout",
     "output_type": "stream",
     "text": [
      "\n",
      "> Vote totals verified — no errors\n",
      "————————————————————————————————————————————————————————————\n",
      "Loading Maysville Fire Advisory Board Post 3.csv data...\n",
      " > Found data for 1 counties (1%)\n",
      "Verifying vote totals...\n"
     ]
    },
    {
     "data": {
      "application/vnd.jupyter.widget-view+json": {
       "model_id": "3fb1d95884944fe2a0fef016d44e843f",
       "version_major": 2,
       "version_minor": 0
      },
      "text/plain": [
       "HBox(children=(HTML(value=''), FloatProgress(value=0.0, max=1.0), HTML(value='')))"
      ]
     },
     "metadata": {},
     "output_type": "display_data"
    },
    {
     "name": "stdout",
     "output_type": "stream",
     "text": [
      "\n",
      "> Vote totals verified — no errors\n",
      "————————————————————————————————————————————————————————————\n",
      "Loading Dist Attorney - Tallapoosa.csv data...\n",
      " > Found data for 2 counties (1%)\n",
      "Verifying vote totals...\n"
     ]
    },
    {
     "data": {
      "application/vnd.jupyter.widget-view+json": {
       "model_id": "5da846ebd9c54e769b6470d270647c06",
       "version_major": 2,
       "version_minor": 0
      },
      "text/plain": [
       "HBox(children=(HTML(value=''), FloatProgress(value=0.0, max=1.0), HTML(value='')))"
      ]
     },
     "metadata": {},
     "output_type": "display_data"
    },
    {
     "name": "stdout",
     "output_type": "stream",
     "text": [
      "\n",
      "> Vote totals verified — no errors\n",
      "————————————————————————————————————————————————————————————\n",
      "Loading Board of Education - Galloway.csv data...\n",
      " > Found data for 1 counties (1%)\n",
      "Verifying vote totals...\n"
     ]
    },
    {
     "data": {
      "application/vnd.jupyter.widget-view+json": {
       "model_id": "c23f4cc572ff4b65b4580f68603cb11a",
       "version_major": 2,
       "version_minor": 0
      },
      "text/plain": [
       "HBox(children=(HTML(value=''), FloatProgress(value=0.0, max=2.0), HTML(value='')))"
      ]
     },
     "metadata": {},
     "output_type": "display_data"
    },
    {
     "name": "stdout",
     "output_type": "stream",
     "text": [
      "\n",
      "> Vote totals verified — no errors\n",
      "————————————————————————————————————————————————————————————\n",
      "Loading State House Dist 122.csv data...\n",
      " > Found data for 1 counties (1%)\n",
      "Verifying vote totals...\n"
     ]
    },
    {
     "data": {
      "application/vnd.jupyter.widget-view+json": {
       "model_id": "d08983cd067844d2a7293a6ee378f23c",
       "version_major": 2,
       "version_minor": 0
      },
      "text/plain": [
       "HBox(children=(HTML(value=''), FloatProgress(value=0.0, max=2.0), HTML(value='')))"
      ]
     },
     "metadata": {},
     "output_type": "display_data"
    },
    {
     "name": "stdout",
     "output_type": "stream",
     "text": [
      "\n",
      "> Vote totals verified — no errors\n",
      "————————————————————————————————————————————————————————————\n",
      "Loading Dawson Mayor.csv data...\n",
      " > Found data for 1 counties (1%)\n",
      "Verifying vote totals...\n"
     ]
    },
    {
     "data": {
      "application/vnd.jupyter.widget-view+json": {
       "model_id": "1d2a5c2b5c574318aa4bc99ce0992ede",
       "version_major": 2,
       "version_minor": 0
      },
      "text/plain": [
       "HBox(children=(HTML(value=''), FloatProgress(value=0.0, max=2.0), HTML(value='')))"
      ]
     },
     "metadata": {},
     "output_type": "display_data"
    },
    {
     "name": "stdout",
     "output_type": "stream",
     "text": [
      "\n",
      "> Vote totals verified — no errors\n",
      "————————————————————————————————————————————————————————————\n",
      "Loading US Senate (Perdue).csv data...\n",
      " > Found data for 159 counties (100%)\n",
      "Verifying vote totals...\n"
     ]
    },
    {
     "data": {
      "application/vnd.jupyter.widget-view+json": {
       "model_id": "e0f04aebb1954e3fb6b308d8b123f0c6",
       "version_major": 2,
       "version_minor": 0
      },
      "text/plain": [
       "HBox(children=(HTML(value=''), FloatProgress(value=0.0, max=3.0), HTML(value='')))"
      ]
     },
     "metadata": {},
     "output_type": "display_data"
    },
    {
     "name": "stdout",
     "output_type": "stream",
     "text": [
      "\n",
      "> Vote totals verified — no errors\n",
      "————————————————————————————————————————————————————————————\n",
      "Loading State Senate Dist 21.csv data...\n",
      " > Found data for 2 counties (1%)\n",
      "Verifying vote totals...\n"
     ]
    },
    {
     "data": {
      "application/vnd.jupyter.widget-view+json": {
       "model_id": "a4ae356f553f403b867607e0ec59197a",
       "version_major": 2,
       "version_minor": 0
      },
      "text/plain": [
       "HBox(children=(HTML(value=''), FloatProgress(value=0.0, max=1.0), HTML(value='')))"
      ]
     },
     "metadata": {},
     "output_type": "display_data"
    },
    {
     "name": "stdout",
     "output_type": "stream",
     "text": [
      "\n",
      "> Vote totals verified — no errors\n",
      "————————————————————————————————————————————————————————————\n",
      "Loading State House Dist 162.csv data...\n",
      " > Found data for 1 counties (1%)\n",
      "Verifying vote totals...\n"
     ]
    },
    {
     "data": {
      "application/vnd.jupyter.widget-view+json": {
       "model_id": "5db01b3601fa42529776a6f92be9cdb5",
       "version_major": 2,
       "version_minor": 0
      },
      "text/plain": [
       "HBox(children=(HTML(value=''), FloatProgress(value=0.0, max=1.0), HTML(value='')))"
      ]
     },
     "metadata": {},
     "output_type": "display_data"
    },
    {
     "name": "stdout",
     "output_type": "stream",
     "text": [
      "\n",
      "> Vote totals verified — no errors\n",
      "————————————————————————————————————————————————————————————\n",
      "Loading Board of Education Dist 1.csv data...\n",
      " > Found data for 33 counties (21%)\n",
      "Verifying vote totals...\n"
     ]
    },
    {
     "data": {
      "application/vnd.jupyter.widget-view+json": {
       "model_id": "c62e4ba0a2c343e4b639078e23b2d633",
       "version_major": 2,
       "version_minor": 0
      },
      "text/plain": [
       "HBox(children=(HTML(value=''), FloatProgress(value=0.0, max=41.0), HTML(value='')))"
      ]
     },
     "metadata": {},
     "output_type": "display_data"
    },
    {
     "name": "stdout",
     "output_type": "stream",
     "text": [
      "\n",
      "> Vote totals verified — no errors\n",
      "————————————————————————————————————————————————————————————\n",
      "Loading State Senate Dist 23.csv data...\n",
      " > Found data for 11 counties (7%)\n",
      "Verifying vote totals...\n"
     ]
    },
    {
     "data": {
      "application/vnd.jupyter.widget-view+json": {
       "model_id": "28060404f3044078b729529c1cf1bf10",
       "version_major": 2,
       "version_minor": 0
      },
      "text/plain": [
       "HBox(children=(HTML(value=''), FloatProgress(value=0.0, max=2.0), HTML(value='')))"
      ]
     },
     "metadata": {},
     "output_type": "display_data"
    },
    {
     "name": "stdout",
     "output_type": "stream",
     "text": [
      "\n",
      "> Vote totals verified — no errors\n",
      "————————————————————————————————————————————————————————————\n",
      "Loading County Commission Post 3.csv data...\n",
      " > Found data for 4 counties (3%)\n",
      "Verifying vote totals...\n"
     ]
    },
    {
     "data": {
      "application/vnd.jupyter.widget-view+json": {
       "model_id": "bc94c7875be84c24a11f6a5dbbd1bf76",
       "version_major": 2,
       "version_minor": 0
      },
      "text/plain": [
       "HBox(children=(HTML(value=''), FloatProgress(value=0.0, max=4.0), HTML(value='')))"
      ]
     },
     "metadata": {},
     "output_type": "display_data"
    },
    {
     "name": "stdout",
     "output_type": "stream",
     "text": [
      "\n",
      "> Vote totals verified — no errors\n",
      "————————————————————————————————————————————————————————————\n",
      "Loading McDuffie County Sunday Sales of Alcohol by the Drink - Special.csv data...\n",
      " > Found data for 1 counties (1%)\n",
      "Verifying vote totals...\n"
     ]
    },
    {
     "data": {
      "application/vnd.jupyter.widget-view+json": {
       "model_id": "f05facdb948c414dbfe092641df65450",
       "version_major": 2,
       "version_minor": 0
      },
      "text/plain": [
       "HBox(children=(HTML(value=''), FloatProgress(value=0.0, max=2.0), HTML(value='')))"
      ]
     },
     "metadata": {},
     "output_type": "display_data"
    },
    {
     "name": "stdout",
     "output_type": "stream",
     "text": [
      "\n",
      "> Vote totals verified — no errors\n",
      "————————————————————————————————————————————————————————————\n",
      "Loading Chief Magistrate - Special Republican Primary.csv data...\n",
      " > Found data for 1 counties (1%)\n",
      "Verifying vote totals...\n"
     ]
    },
    {
     "data": {
      "application/vnd.jupyter.widget-view+json": {
       "model_id": "daaa50c5955e414c97a7510af7165a53",
       "version_major": 2,
       "version_minor": 0
      },
      "text/plain": [
       "HBox(children=(HTML(value=''), FloatProgress(value=0.0, max=3.0), HTML(value='')))"
      ]
     },
     "metadata": {},
     "output_type": "display_data"
    },
    {
     "name": "stdout",
     "output_type": "stream",
     "text": [
      "\n",
      "> Vote totals verified — no errors\n",
      "————————————————————————————————————————————————————————————\n",
      "Loading US House Dist 9.csv data...\n",
      " > Found data for 20 counties (13%)\n",
      "Verifying vote totals...\n"
     ]
    },
    {
     "data": {
      "application/vnd.jupyter.widget-view+json": {
       "model_id": "35a715d973c34aaca23432351859c53a",
       "version_major": 2,
       "version_minor": 0
      },
      "text/plain": [
       "HBox(children=(HTML(value=''), FloatProgress(value=0.0, max=2.0), HTML(value='')))"
      ]
     },
     "metadata": {},
     "output_type": "display_data"
    },
    {
     "name": "stdout",
     "output_type": "stream",
     "text": [
      "\n",
      "> Vote totals verified — no errors\n",
      "————————————————————————————————————————————————————————————\n",
      "Loading Arcade Fire Advisory Board Post 1.csv data...\n",
      " > Found data for 1 counties (1%)\n",
      "Verifying vote totals...\n"
     ]
    },
    {
     "data": {
      "application/vnd.jupyter.widget-view+json": {
       "model_id": "4756ba8beee34ee3be27c28ca02738c1",
       "version_major": 2,
       "version_minor": 0
      },
      "text/plain": [
       "HBox(children=(HTML(value=''), FloatProgress(value=0.0, max=1.0), HTML(value='')))"
      ]
     },
     "metadata": {},
     "output_type": "display_data"
    },
    {
     "name": "stdout",
     "output_type": "stream",
     "text": [
      "\n",
      "> Vote totals verified — no errors\n",
      "————————————————————————————————————————————————————————————\n",
      "Loading Sales and Use Tax and Bond Election - Special.csv data...\n",
      " > Found data for 1 counties (1%)\n",
      "Verifying vote totals...\n"
     ]
    },
    {
     "data": {
      "application/vnd.jupyter.widget-view+json": {
       "model_id": "3329c9b4b2af443995cf4339c2c3a088",
       "version_major": 2,
       "version_minor": 0
      },
      "text/plain": [
       "HBox(children=(HTML(value=''), FloatProgress(value=0.0, max=2.0), HTML(value='')))"
      ]
     },
     "metadata": {},
     "output_type": "display_data"
    },
    {
     "name": "stdout",
     "output_type": "stream",
     "text": [
      "\n",
      "> Vote totals verified — no errors\n",
      "————————————————————————————————————————————————————————————\n",
      "Loading Solicitor of State Court.csv data...\n",
      " > Found data for 2 counties (1%)\n",
      "Verifying vote totals...\n"
     ]
    },
    {
     "data": {
      "application/vnd.jupyter.widget-view+json": {
       "model_id": "d5f128ac73c44a04b6d26825b95d5631",
       "version_major": 2,
       "version_minor": 0
      },
      "text/plain": [
       "HBox(children=(HTML(value=''), FloatProgress(value=0.0, max=2.0), HTML(value='')))"
      ]
     },
     "metadata": {},
     "output_type": "display_data"
    },
    {
     "name": "stdout",
     "output_type": "stream",
     "text": [
      "\n",
      "> Vote totals verified — no errors\n",
      "————————————————————————————————————————————————————————————\n",
      "Loading Dist Attorney - Mountain.csv data...\n",
      " > Found data for 3 counties (2%)\n",
      "Verifying vote totals...\n"
     ]
    },
    {
     "data": {
      "application/vnd.jupyter.widget-view+json": {
       "model_id": "b28c7b154ad9408f86d71aed8acf1e33",
       "version_major": 2,
       "version_minor": 0
      },
      "text/plain": [
       "HBox(children=(HTML(value=''), FloatProgress(value=0.0, max=1.0), HTML(value='')))"
      ]
     },
     "metadata": {},
     "output_type": "display_data"
    },
    {
     "name": "stdout",
     "output_type": "stream",
     "text": [
      "\n",
      "> Vote totals verified — no errors\n",
      "————————————————————————————————————————————————————————————\n",
      "Loading State House Dist 70.csv data...\n",
      " > Found data for 2 counties (1%)\n",
      "Verifying vote totals...\n"
     ]
    },
    {
     "data": {
      "application/vnd.jupyter.widget-view+json": {
       "model_id": "23b48115fa1048da963642de90da672f",
       "version_major": 2,
       "version_minor": 0
      },
      "text/plain": [
       "HBox(children=(HTML(value=''), FloatProgress(value=0.0, max=1.0), HTML(value='')))"
      ]
     },
     "metadata": {},
     "output_type": "display_data"
    },
    {
     "name": "stdout",
     "output_type": "stream",
     "text": [
      "\n",
      "> Vote totals verified — no errors\n",
      "————————————————————————————————————————————————————————————\n",
      "Loading Board of Education At Large - Special.csv data...\n",
      " > Found data for 1 counties (1%)\n",
      "Verifying vote totals...\n"
     ]
    },
    {
     "data": {
      "application/vnd.jupyter.widget-view+json": {
       "model_id": "1be50f91b9ba49008eefd53fca49828e",
       "version_major": 2,
       "version_minor": 0
      },
      "text/plain": [
       "HBox(children=(HTML(value=''), FloatProgress(value=0.0, max=3.0), HTML(value='')))"
      ]
     },
     "metadata": {},
     "output_type": "display_data"
    },
    {
     "name": "stdout",
     "output_type": "stream",
     "text": [
      "\n",
      "> Vote totals verified — no errors\n",
      "————————————————————————————————————————————————————————————\n",
      "Loading Constitutional Amendment #1.csv data...\n",
      " > Found data for 159 counties (100%)\n",
      "Verifying vote totals...\n"
     ]
    },
    {
     "data": {
      "application/vnd.jupyter.widget-view+json": {
       "model_id": "91a719aa96564bb891f7d8ab81cf8a58",
       "version_major": 2,
       "version_minor": 0
      },
      "text/plain": [
       "HBox(children=(HTML(value=''), FloatProgress(value=0.0, max=2.0), HTML(value='')))"
      ]
     },
     "metadata": {},
     "output_type": "display_data"
    },
    {
     "name": "stdout",
     "output_type": "stream",
     "text": [
      "\n",
      "> Vote totals verified — no errors\n",
      "————————————————————————————————————————————————————————————\n",
      "Loading State House Dist 139.csv data...\n",
      " > Found data for 4 counties (3%)\n",
      "Verifying vote totals...\n"
     ]
    },
    {
     "data": {
      "application/vnd.jupyter.widget-view+json": {
       "model_id": "a64671a9db1d4c58a8e6383c6d5f2267",
       "version_major": 2,
       "version_minor": 0
      },
      "text/plain": [
       "HBox(children=(HTML(value=''), FloatProgress(value=0.0, max=1.0), HTML(value='')))"
      ]
     },
     "metadata": {},
     "output_type": "display_data"
    },
    {
     "name": "stdout",
     "output_type": "stream",
     "text": [
      "\n",
      "> Vote totals verified — no errors\n",
      "————————————————————————————————————————————————————————————\n",
      "Loading County Commission Dist 5 (At Large).csv data...\n",
      " > Found data for 1 counties (1%)\n",
      "Verifying vote totals...\n"
     ]
    },
    {
     "data": {
      "application/vnd.jupyter.widget-view+json": {
       "model_id": "3aaab5c2bb5b47b68e01b6ec7dcc8eea",
       "version_major": 2,
       "version_minor": 0
      },
      "text/plain": [
       "HBox(children=(HTML(value=''), FloatProgress(value=0.0, max=2.0), HTML(value='')))"
      ]
     },
     "metadata": {},
     "output_type": "display_data"
    },
    {
     "name": "stdout",
     "output_type": "stream",
     "text": [
      "\n",
      "> Vote totals verified — no errors\n",
      "————————————————————————————————————————————————————————————\n",
      "Loading US House Dist 13.csv data...\n",
      " > Found data for 6 counties (4%)\n",
      "Verifying vote totals...\n"
     ]
    },
    {
     "data": {
      "application/vnd.jupyter.widget-view+json": {
       "model_id": "730f13541e524408bc0d24a96e1649e1",
       "version_major": 2,
       "version_minor": 0
      },
      "text/plain": [
       "HBox(children=(HTML(value=''), FloatProgress(value=0.0, max=2.0), HTML(value='')))"
      ]
     },
     "metadata": {},
     "output_type": "display_data"
    },
    {
     "name": "stdout",
     "output_type": "stream",
     "text": [
      "\n",
      "> Vote totals verified — no errors\n",
      "————————————————————————————————————————————————————————————\n",
      "Loading State House Dist 123.csv data...\n",
      " > Found data for 2 counties (1%)\n",
      "Verifying vote totals...\n"
     ]
    },
    {
     "data": {
      "application/vnd.jupyter.widget-view+json": {
       "model_id": "d4ef269155a2426eb1b66b87a93053c4",
       "version_major": 2,
       "version_minor": 0
      },
      "text/plain": [
       "HBox(children=(HTML(value=''), FloatProgress(value=0.0, max=1.0), HTML(value='')))"
      ]
     },
     "metadata": {},
     "output_type": "display_data"
    },
    {
     "name": "stdout",
     "output_type": "stream",
     "text": [
      "\n",
      "> Vote totals verified — no errors\n",
      "————————————————————————————————————————————————————————————\n",
      "Loading Coroner - Special.csv data...\n",
      " > Found data for 1 counties (1%)\n",
      "Verifying vote totals...\n"
     ]
    },
    {
     "data": {
      "application/vnd.jupyter.widget-view+json": {
       "model_id": "97a8ff328749448099db2f64399688e6",
       "version_major": 2,
       "version_minor": 0
      },
      "text/plain": [
       "HBox(children=(HTML(value=''), FloatProgress(value=0.0, max=1.0), HTML(value='')))"
      ]
     },
     "metadata": {},
     "output_type": "display_data"
    },
    {
     "name": "stdout",
     "output_type": "stream",
     "text": [
      "\n",
      "> Vote totals verified — no errors\n",
      "————————————————————————————————————————————————————————————\n",
      "Loading Holly Springs City Council Ward 5.csv data...\n",
      " > Found data for 1 counties (1%)\n",
      "Verifying vote totals...\n"
     ]
    },
    {
     "data": {
      "application/vnd.jupyter.widget-view+json": {
       "model_id": "cc0224f46f88417ebbeae786cbc9455d",
       "version_major": 2,
       "version_minor": 0
      },
      "text/plain": [
       "HBox(children=(HTML(value=''), FloatProgress(value=0.0, max=1.0), HTML(value='')))"
      ]
     },
     "metadata": {},
     "output_type": "display_data"
    },
    {
     "name": "stdout",
     "output_type": "stream",
     "text": [
      "\n",
      "> Vote totals verified — no errors\n",
      "————————————————————————————————————————————————————————————\n",
      "COMPLETE\n"
     ]
    }
   ],
   "source": [
    "races = [''] # blank triggers all. otherwise, use keywords like \"President\" or \"US Senate\"\n",
    "\n",
    "\n",
    "join_all_race_data(races)"
   ]
  },
  {
   "cell_type": "code",
   "execution_count": null,
   "metadata": {},
   "outputs": [],
   "source": []
  }
 ],
 "metadata": {
  "kernelspec": {
   "display_name": "Python 3",
   "language": "python",
   "name": "python3"
  },
  "language_info": {
   "codemirror_mode": {
    "name": "ipython",
    "version": 3
   },
   "file_extension": ".py",
   "mimetype": "text/x-python",
   "name": "python",
   "nbconvert_exporter": "python",
   "pygments_lexer": "ipython3",
   "version": "3.8.5"
  }
 },
 "nbformat": 4,
 "nbformat_minor": 4
}
